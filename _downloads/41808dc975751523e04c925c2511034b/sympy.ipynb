{
 "cells": [
  {
   "cell_type": "code",
   "execution_count": 1,
   "id": "156236e5",
   "metadata": {
    "execution": {
     "iopub.execute_input": "2022-07-17T09:00:50.206066Z",
     "iopub.status.busy": "2022-07-17T09:00:50.205776Z",
     "iopub.status.idle": "2022-07-17T09:00:50.490570Z",
     "shell.execute_reply": "2022-07-17T09:00:50.489893Z"
    }
   },
   "outputs": [],
   "source": [
    "import sympy as sm"
   ]
  },
  {
   "cell_type": "code",
   "execution_count": 2,
   "id": "1e954dd0",
   "metadata": {
    "execution": {
     "iopub.execute_input": "2022-07-17T09:00:50.493891Z",
     "iopub.status.busy": "2022-07-17T09:00:50.493611Z",
     "iopub.status.idle": "2022-07-17T09:00:50.500819Z",
     "shell.execute_reply": "2022-07-17T09:00:50.499727Z"
    }
   },
   "outputs": [],
   "source": [
    "sm.init_printing(use_latex='mathjax')"
   ]
  },
  {
   "cell_type": "code",
   "execution_count": 3,
   "id": "8ac59be6",
   "metadata": {
    "execution": {
     "iopub.execute_input": "2022-07-17T09:00:50.503248Z",
     "iopub.status.busy": "2022-07-17T09:00:50.503048Z",
     "iopub.status.idle": "2022-07-17T09:00:50.508586Z",
     "shell.execute_reply": "2022-07-17T09:00:50.508008Z"
    }
   },
   "outputs": [
    {
     "data": {
      "text/latex": [
       "$\\displaystyle a$"
      ],
      "text/plain": [
       "a"
      ]
     },
     "execution_count": 3,
     "metadata": {},
     "output_type": "execute_result"
    }
   ],
   "source": [
    "a = sm.symbols('a')\n",
    "a"
   ]
  },
  {
   "cell_type": "code",
   "execution_count": 4,
   "id": "fb207a25",
   "metadata": {
    "execution": {
     "iopub.execute_input": "2022-07-17T09:00:50.511922Z",
     "iopub.status.busy": "2022-07-17T09:00:50.511724Z",
     "iopub.status.idle": "2022-07-17T09:00:50.515365Z",
     "shell.execute_reply": "2022-07-17T09:00:50.514795Z"
    }
   },
   "outputs": [
    {
     "data": {
      "text/plain": [
       "sympy.core.symbol.Symbol"
      ]
     },
     "execution_count": 4,
     "metadata": {},
     "output_type": "execute_result"
    }
   ],
   "source": [
    "type(a)"
   ]
  },
  {
   "cell_type": "code",
   "execution_count": 5,
   "id": "8433e5be",
   "metadata": {
    "execution": {
     "iopub.execute_input": "2022-07-17T09:00:50.518234Z",
     "iopub.status.busy": "2022-07-17T09:00:50.518035Z",
     "iopub.status.idle": "2022-07-17T09:00:50.522232Z",
     "shell.execute_reply": "2022-07-17T09:00:50.521649Z"
    }
   },
   "outputs": [
    {
     "data": {
      "text/latex": [
       "$\\displaystyle \\left( b, \\  t, \\  \\omega\\right)$"
      ],
      "text/plain": [
       "(b, t, ω)"
      ]
     },
     "execution_count": 5,
     "metadata": {},
     "output_type": "execute_result"
    }
   ],
   "source": [
    "b, t, omega = sm.symbols('b, t, omega')\n",
    "b, t, omega"
   ]
  },
  {
   "cell_type": "code",
   "execution_count": 6,
   "id": "85cb0f92",
   "metadata": {
    "execution": {
     "iopub.execute_input": "2022-07-17T09:00:50.525105Z",
     "iopub.status.busy": "2022-07-17T09:00:50.524902Z",
     "iopub.status.idle": "2022-07-17T09:00:50.529153Z",
     "shell.execute_reply": "2022-07-17T09:00:50.528559Z"
    }
   },
   "outputs": [
    {
     "data": {
      "text/latex": [
       "$\\displaystyle \\left( \\alpha_{1}, \\  \\omega_{2}\\right)$"
      ],
      "text/plain": [
       "(α₁, ω₂)"
      ]
     },
     "execution_count": 6,
     "metadata": {},
     "output_type": "execute_result"
    }
   ],
   "source": [
    "pivot_angle, w2 = sm.symbols('alpha1, omega2')\n",
    "pivot_angle, w2"
   ]
  },
  {
   "cell_type": "code",
   "execution_count": 7,
   "id": "413b0b96",
   "metadata": {
    "execution": {
     "iopub.execute_input": "2022-07-17T09:00:50.532239Z",
     "iopub.status.busy": "2022-07-17T09:00:50.532041Z",
     "iopub.status.idle": "2022-07-17T09:00:50.536051Z",
     "shell.execute_reply": "2022-07-17T09:00:50.535465Z"
    }
   },
   "outputs": [
    {
     "data": {
      "text/plain": [
       "f"
      ]
     },
     "execution_count": 7,
     "metadata": {},
     "output_type": "execute_result"
    }
   ],
   "source": [
    "f = sm.Function('f')\n",
    "f"
   ]
  },
  {
   "cell_type": "code",
   "execution_count": 8,
   "id": "31e63fc6",
   "metadata": {
    "execution": {
     "iopub.execute_input": "2022-07-17T09:00:50.538864Z",
     "iopub.status.busy": "2022-07-17T09:00:50.538666Z",
     "iopub.status.idle": "2022-07-17T09:00:50.542225Z",
     "shell.execute_reply": "2022-07-17T09:00:50.541644Z"
    }
   },
   "outputs": [
    {
     "data": {
      "text/plain": [
       "sympy.core.function.UndefinedFunction"
      ]
     },
     "execution_count": 8,
     "metadata": {},
     "output_type": "execute_result"
    }
   ],
   "source": [
    "type(f)"
   ]
  },
  {
   "cell_type": "code",
   "execution_count": 9,
   "id": "105be237",
   "metadata": {
    "execution": {
     "iopub.execute_input": "2022-07-17T09:00:50.545122Z",
     "iopub.status.busy": "2022-07-17T09:00:50.544626Z",
     "iopub.status.idle": "2022-07-17T09:00:50.548856Z",
     "shell.execute_reply": "2022-07-17T09:00:50.548282Z"
    }
   },
   "outputs": [
    {
     "data": {
      "text/latex": [
       "$\\displaystyle f{\\left(t \\right)}$"
      ],
      "text/plain": [
       "f(t)"
      ]
     },
     "execution_count": 9,
     "metadata": {},
     "output_type": "execute_result"
    }
   ],
   "source": [
    "f(t)"
   ]
  },
  {
   "cell_type": "code",
   "execution_count": 10,
   "id": "743d5d4d",
   "metadata": {
    "execution": {
     "iopub.execute_input": "2022-07-17T09:00:50.551552Z",
     "iopub.status.busy": "2022-07-17T09:00:50.551092Z",
     "iopub.status.idle": "2022-07-17T09:00:50.554980Z",
     "shell.execute_reply": "2022-07-17T09:00:50.554400Z"
    }
   },
   "outputs": [
    {
     "data": {
      "text/plain": [
       "f"
      ]
     },
     "execution_count": 10,
     "metadata": {},
     "output_type": "execute_result"
    }
   ],
   "source": [
    "type(f(t))"
   ]
  },
  {
   "cell_type": "code",
   "execution_count": 11,
   "id": "ff4b88a0",
   "metadata": {
    "execution": {
     "iopub.execute_input": "2022-07-17T09:00:50.558110Z",
     "iopub.status.busy": "2022-07-17T09:00:50.557619Z",
     "iopub.status.idle": "2022-07-17T09:00:50.562528Z",
     "shell.execute_reply": "2022-07-17T09:00:50.561925Z"
    }
   },
   "outputs": [
    {
     "data": {
      "text/latex": [
       "$\\displaystyle f{\\left(a,b,\\omega,t \\right)}$"
      ],
      "text/plain": [
       "f(a, b, ω, t)"
      ]
     },
     "execution_count": 11,
     "metadata": {},
     "output_type": "execute_result"
    }
   ],
   "source": [
    "f(a, b, omega, t)"
   ]
  },
  {
   "cell_type": "code",
   "execution_count": 12,
   "id": "75309dc4",
   "metadata": {
    "execution": {
     "iopub.execute_input": "2022-07-17T09:00:50.565010Z",
     "iopub.status.busy": "2022-07-17T09:00:50.564529Z",
     "iopub.status.idle": "2022-07-17T09:00:50.742153Z",
     "shell.execute_reply": "2022-07-17T09:00:50.741464Z"
    }
   },
   "outputs": [
    {
     "data": {
      "text/latex": [
       "$\\displaystyle a + \\frac{b}{\\omega^{2}}$"
      ],
      "text/plain": [
       "    b \n",
       "a + ──\n",
       "     2\n",
       "    ω "
      ]
     },
     "execution_count": 12,
     "metadata": {},
     "output_type": "execute_result"
    }
   ],
   "source": [
    "expr1 = a + b/omega**2\n",
    "expr1"
   ]
  },
  {
   "cell_type": "code",
   "execution_count": 13,
   "id": "8f00fe95",
   "metadata": {
    "execution": {
     "iopub.execute_input": "2022-07-17T09:00:50.745155Z",
     "iopub.status.busy": "2022-07-17T09:00:50.744796Z",
     "iopub.status.idle": "2022-07-17T09:00:50.749124Z",
     "shell.execute_reply": "2022-07-17T09:00:50.748512Z"
    }
   },
   "outputs": [
    {
     "data": {
      "text/plain": [
       "sympy.core.add.Add"
      ]
     },
     "execution_count": 13,
     "metadata": {},
     "output_type": "execute_result"
    }
   ],
   "source": [
    "type(expr1)"
   ]
  },
  {
   "cell_type": "code",
   "execution_count": 14,
   "id": "515dc9b6",
   "metadata": {
    "execution": {
     "iopub.execute_input": "2022-07-17T09:00:50.752372Z",
     "iopub.status.busy": "2022-07-17T09:00:50.751831Z",
     "iopub.status.idle": "2022-07-17T09:00:50.757195Z",
     "shell.execute_reply": "2022-07-17T09:00:50.756527Z"
    }
   },
   "outputs": [
    {
     "data": {
      "text/plain": [
       "\"Add(Symbol('a'), Mul(Symbol('b'), Pow(Symbol('omega'), Integer(-2))))\""
      ]
     },
     "execution_count": 14,
     "metadata": {},
     "output_type": "execute_result"
    }
   ],
   "source": [
    "sm.srepr(expr1)"
   ]
  },
  {
   "cell_type": "code",
   "execution_count": 15,
   "id": "00791e43",
   "metadata": {
    "execution": {
     "iopub.execute_input": "2022-07-17T09:00:50.759978Z",
     "iopub.status.busy": "2022-07-17T09:00:50.759497Z",
     "iopub.status.idle": "2022-07-17T09:00:50.766601Z",
     "shell.execute_reply": "2022-07-17T09:00:50.765903Z"
    }
   },
   "outputs": [
    {
     "data": {
      "text/latex": [
       "$\\displaystyle a \\omega + f{\\left(t \\right)}$"
      ],
      "text/plain": [
       "a⋅ω + f(t)"
      ]
     },
     "execution_count": 15,
     "metadata": {},
     "output_type": "execute_result"
    }
   ],
   "source": [
    "expr2 = f(t) + a*omega\n",
    "expr2"
   ]
  },
  {
   "cell_type": "code",
   "execution_count": 16,
   "id": "e62cf2be",
   "metadata": {
    "execution": {
     "iopub.execute_input": "2022-07-17T09:00:50.769156Z",
     "iopub.status.busy": "2022-07-17T09:00:50.768854Z",
     "iopub.status.idle": "2022-07-17T09:00:50.777590Z",
     "shell.execute_reply": "2022-07-17T09:00:50.777042Z"
    }
   },
   "outputs": [
    {
     "data": {
      "text/latex": [
       "$\\displaystyle a \\sin{\\left(\\omega \\right)} + \\frac{\\left|{f{\\left(t \\right)}}\\right|}{\\sqrt{b}}$"
      ],
      "text/plain": [
       "           │f(t)│\n",
       "a⋅sin(ω) + ──────\n",
       "             √b  "
      ]
     },
     "execution_count": 16,
     "metadata": {},
     "output_type": "execute_result"
    }
   ],
   "source": [
    "expr3 = a*sm.sin(omega) + sm.Abs(f(t))/sm.sqrt(b)\n",
    "expr3"
   ]
  },
  {
   "cell_type": "code",
   "execution_count": 17,
   "id": "8088f07c",
   "metadata": {
    "execution": {
     "iopub.execute_input": "2022-07-17T09:00:50.780171Z",
     "iopub.status.busy": "2022-07-17T09:00:50.779624Z",
     "iopub.status.idle": "2022-07-17T09:00:50.788422Z",
     "shell.execute_reply": "2022-07-17T09:00:50.787132Z"
    }
   },
   "outputs": [
    {
     "data": {
      "text/latex": [
       "$\\displaystyle 5 \\sin{\\left(12 \\right)} + 105.986768359379$"
      ],
      "text/plain": [
       "5⋅sin(12) + 105.986768359379"
      ]
     },
     "execution_count": 17,
     "metadata": {},
     "output_type": "execute_result"
    }
   ],
   "source": [
    "expr4 = 5*sm.sin(12) + sm.Abs(-1001)/sm.sqrt(89.2)\n",
    "expr4"
   ]
  },
  {
   "cell_type": "code",
   "execution_count": 18,
   "id": "1b59cc63",
   "metadata": {
    "execution": {
     "iopub.execute_input": "2022-07-17T09:00:50.791021Z",
     "iopub.status.busy": "2022-07-17T09:00:50.790714Z",
     "iopub.status.idle": "2022-07-17T09:00:50.797225Z",
     "shell.execute_reply": "2022-07-17T09:00:50.796720Z"
    }
   },
   "outputs": [
    {
     "data": {
      "text/latex": [
       "$\\displaystyle 0.5 a$"
      ],
      "text/plain": [
       "0.5⋅a"
      ]
     },
     "execution_count": 18,
     "metadata": {},
     "output_type": "execute_result"
    }
   ],
   "source": [
    "1/2*a"
   ]
  },
  {
   "cell_type": "code",
   "execution_count": 19,
   "id": "33aedbef",
   "metadata": {
    "execution": {
     "iopub.execute_input": "2022-07-17T09:00:50.799636Z",
     "iopub.status.busy": "2022-07-17T09:00:50.799366Z",
     "iopub.status.idle": "2022-07-17T09:00:50.805013Z",
     "shell.execute_reply": "2022-07-17T09:00:50.804491Z"
    }
   },
   "outputs": [
    {
     "data": {
      "text/latex": [
       "$\\displaystyle \\frac{a}{2}$"
      ],
      "text/plain": [
       "a\n",
       "─\n",
       "2"
      ]
     },
     "execution_count": 19,
     "metadata": {},
     "output_type": "execute_result"
    }
   ],
   "source": [
    "sm.S(1)/2*a"
   ]
  },
  {
   "cell_type": "code",
   "execution_count": 20,
   "id": "f23020ee",
   "metadata": {
    "execution": {
     "iopub.execute_input": "2022-07-17T09:00:50.807700Z",
     "iopub.status.busy": "2022-07-17T09:00:50.807271Z",
     "iopub.status.idle": "2022-07-17T09:00:50.816235Z",
     "shell.execute_reply": "2022-07-17T09:00:50.815708Z"
    }
   },
   "outputs": [
    {
     "data": {
      "text/latex": [
       "$\\displaystyle t \\sin{\\left(\\omega f{\\left(t \\right)} \\right)} + \\frac{f{\\left(t \\right)}}{\\sqrt{t}}$"
      ],
      "text/plain": [
       "                f(t)\n",
       "t⋅sin(ω⋅f(t)) + ────\n",
       "                 √t "
      ]
     },
     "execution_count": 20,
     "metadata": {},
     "output_type": "execute_result"
    }
   ],
   "source": [
    "expr5 = t*sm.sin(omega*f(t)) + f(t)/sm.sqrt(t)\n",
    "expr5"
   ]
  },
  {
   "cell_type": "code",
   "execution_count": 21,
   "id": "3ddfe930",
   "metadata": {
    "execution": {
     "iopub.execute_input": "2022-07-17T09:00:50.818957Z",
     "iopub.status.busy": "2022-07-17T09:00:50.818524Z",
     "iopub.status.idle": "2022-07-17T09:00:50.824200Z",
     "shell.execute_reply": "2022-07-17T09:00:50.823689Z"
    }
   },
   "outputs": [
    {
     "data": {
      "text/plain": [
       "\"Add(Mul(Symbol('a'), sin(Symbol('omega'))), Mul(Pow(Symbol('b'), Rational(-1, 2)), Abs(Function('f')(Symbol('t')))))\""
      ]
     },
     "execution_count": 21,
     "metadata": {},
     "output_type": "execute_result"
    }
   ],
   "source": [
    "sm.srepr(expr3)"
   ]
  },
  {
   "cell_type": "code",
   "execution_count": 22,
   "id": "d42755f4",
   "metadata": {
    "execution": {
     "iopub.execute_input": "2022-07-17T09:00:50.826909Z",
     "iopub.status.busy": "2022-07-17T09:00:50.826611Z",
     "iopub.status.idle": "2022-07-17T09:00:50.832754Z",
     "shell.execute_reply": "2022-07-17T09:00:50.831802Z"
    }
   },
   "outputs": [
    {
     "data": {
      "text/plain": [
       "'a*sin(omega) + Abs(f(t))/sqrt(b)'"
      ]
     },
     "execution_count": 22,
     "metadata": {},
     "output_type": "execute_result"
    }
   ],
   "source": [
    "repr(expr3)"
   ]
  },
  {
   "cell_type": "code",
   "execution_count": 23,
   "id": "0b8e1f2c",
   "metadata": {
    "execution": {
     "iopub.execute_input": "2022-07-17T09:00:50.835464Z",
     "iopub.status.busy": "2022-07-17T09:00:50.834958Z",
     "iopub.status.idle": "2022-07-17T09:00:50.840367Z",
     "shell.execute_reply": "2022-07-17T09:00:50.839589Z"
    }
   },
   "outputs": [
    {
     "name": "stdout",
     "output_type": "stream",
     "text": [
      "a*sin(omega) + Abs(f(t))/sqrt(b)\n"
     ]
    }
   ],
   "source": [
    "print(expr3)"
   ]
  },
  {
   "cell_type": "code",
   "execution_count": 24,
   "id": "0a9c1dcc",
   "metadata": {
    "execution": {
     "iopub.execute_input": "2022-07-17T09:00:50.843078Z",
     "iopub.status.busy": "2022-07-17T09:00:50.842781Z",
     "iopub.status.idle": "2022-07-17T09:00:50.849029Z",
     "shell.execute_reply": "2022-07-17T09:00:50.847977Z"
    }
   },
   "outputs": [
    {
     "name": "stdout",
     "output_type": "stream",
     "text": [
      "           │f(t)│\n",
      "a⋅sin(ω) + ──────\n",
      "             √b  \n"
     ]
    }
   ],
   "source": [
    "sm.pprint(expr3)"
   ]
  },
  {
   "cell_type": "code",
   "execution_count": 25,
   "id": "14703b06",
   "metadata": {
    "execution": {
     "iopub.execute_input": "2022-07-17T09:00:50.851460Z",
     "iopub.status.busy": "2022-07-17T09:00:50.851000Z",
     "iopub.status.idle": "2022-07-17T09:00:50.857335Z",
     "shell.execute_reply": "2022-07-17T09:00:50.856826Z"
    }
   },
   "outputs": [
    {
     "data": {
      "text/plain": [
       "'a \\\\sin{\\\\left(\\\\omega \\\\right)} + \\\\frac{\\\\left|{f{\\\\left(t \\\\right)}}\\\\right|}{\\\\sqrt{b}}'"
      ]
     },
     "execution_count": 25,
     "metadata": {},
     "output_type": "execute_result"
    }
   ],
   "source": [
    "sm.latex(expr3)"
   ]
  },
  {
   "cell_type": "code",
   "execution_count": 26,
   "id": "70917b1f",
   "metadata": {
    "execution": {
     "iopub.execute_input": "2022-07-17T09:00:50.859751Z",
     "iopub.status.busy": "2022-07-17T09:00:50.859274Z",
     "iopub.status.idle": "2022-07-17T09:00:50.864811Z",
     "shell.execute_reply": "2022-07-17T09:00:50.864127Z"
    }
   },
   "outputs": [
    {
     "name": "stdout",
     "output_type": "stream",
     "text": [
      "a \\sin{\\left(\\omega \\right)} + \\frac{\\left|{f{\\left(t \\right)}}\\right|}{\\sqrt{b}}\n"
     ]
    }
   ],
   "source": [
    "print(sm.latex(expr3))"
   ]
  },
  {
   "cell_type": "code",
   "execution_count": 27,
   "id": "99eaf515",
   "metadata": {
    "execution": {
     "iopub.execute_input": "2022-07-17T09:00:50.867541Z",
     "iopub.status.busy": "2022-07-17T09:00:50.867088Z",
     "iopub.status.idle": "2022-07-17T09:00:50.874662Z",
     "shell.execute_reply": "2022-07-17T09:00:50.873204Z"
    }
   },
   "outputs": [
    {
     "data": {
      "text/latex": [
       "$\\displaystyle \\frac{d}{d t} f{\\left(t \\right)}$"
      ],
      "text/plain": [
       "d       \n",
       "──(f(t))\n",
       "dt      "
      ]
     },
     "execution_count": 27,
     "metadata": {},
     "output_type": "execute_result"
    }
   ],
   "source": [
    "sm.diff(f(t), t)"
   ]
  },
  {
   "cell_type": "code",
   "execution_count": 28,
   "id": "3ad61837",
   "metadata": {
    "execution": {
     "iopub.execute_input": "2022-07-17T09:00:50.877399Z",
     "iopub.status.busy": "2022-07-17T09:00:50.876944Z",
     "iopub.status.idle": "2022-07-17T09:00:50.883435Z",
     "shell.execute_reply": "2022-07-17T09:00:50.882901Z"
    }
   },
   "outputs": [
    {
     "data": {
      "text/latex": [
       "$\\displaystyle \\frac{d}{d t} f{\\left(t \\right)}$"
      ],
      "text/plain": [
       "d       \n",
       "──(f(t))\n",
       "dt      "
      ]
     },
     "execution_count": 28,
     "metadata": {},
     "output_type": "execute_result"
    }
   ],
   "source": [
    "f(t).diff(t)"
   ]
  },
  {
   "cell_type": "code",
   "execution_count": 29,
   "id": "871f95f9",
   "metadata": {
    "execution": {
     "iopub.execute_input": "2022-07-17T09:00:50.886111Z",
     "iopub.status.busy": "2022-07-17T09:00:50.885714Z",
     "iopub.status.idle": "2022-07-17T09:00:50.892332Z",
     "shell.execute_reply": "2022-07-17T09:00:50.891803Z"
    }
   },
   "outputs": [
    {
     "data": {
      "text/latex": [
       "$\\displaystyle a \\sin{\\left(\\omega \\right)} + \\frac{\\left|{f{\\left(t \\right)}}\\right|}{\\sqrt{b}}$"
      ],
      "text/plain": [
       "           │f(t)│\n",
       "a⋅sin(ω) + ──────\n",
       "             √b  "
      ]
     },
     "execution_count": 29,
     "metadata": {},
     "output_type": "execute_result"
    }
   ],
   "source": [
    "expr3"
   ]
  },
  {
   "cell_type": "code",
   "execution_count": 30,
   "id": "77997f85",
   "metadata": {
    "execution": {
     "iopub.execute_input": "2022-07-17T09:00:50.895041Z",
     "iopub.status.busy": "2022-07-17T09:00:50.894604Z",
     "iopub.status.idle": "2022-07-17T09:00:50.905648Z",
     "shell.execute_reply": "2022-07-17T09:00:50.905127Z"
    }
   },
   "outputs": [
    {
     "data": {
      "text/latex": [
       "$\\displaystyle - \\frac{\\left|{f{\\left(t \\right)}}\\right|}{2 b^{\\frac{3}{2}}}$"
      ],
      "text/plain": [
       "-│f(t)│ \n",
       "────────\n",
       "    3/2 \n",
       " 2⋅b    "
      ]
     },
     "execution_count": 30,
     "metadata": {},
     "output_type": "execute_result"
    }
   ],
   "source": [
    "expr3.diff(b)"
   ]
  },
  {
   "cell_type": "code",
   "execution_count": 31,
   "id": "d58a0942",
   "metadata": {
    "execution": {
     "iopub.execute_input": "2022-07-17T09:00:50.908342Z",
     "iopub.status.busy": "2022-07-17T09:00:50.907849Z",
     "iopub.status.idle": "2022-07-17T09:00:50.929685Z",
     "shell.execute_reply": "2022-07-17T09:00:50.929134Z"
    }
   },
   "outputs": [
    {
     "data": {
      "text/latex": [
       "$\\displaystyle - \\frac{\\left(\\operatorname{re}{\\left(f{\\left(t \\right)}\\right)} \\frac{d}{d t} \\operatorname{re}{\\left(f{\\left(t \\right)}\\right)} + \\operatorname{im}{\\left(f{\\left(t \\right)}\\right)} \\frac{d}{d t} \\operatorname{im}{\\left(f{\\left(t \\right)}\\right)}\\right) \\operatorname{sign}{\\left(f{\\left(t \\right)} \\right)}}{2 b^{\\frac{3}{2}} f{\\left(t \\right)}}$"
      ],
      "text/plain": [
       " ⎛         d                       d           ⎞            \n",
       "-⎜re(f(t))⋅──(re(f(t))) + im(f(t))⋅──(im(f(t)))⎟⋅sign(f(t)) \n",
       " ⎝         dt                      dt          ⎠            \n",
       "────────────────────────────────────────────────────────────\n",
       "                           3/2                              \n",
       "                        2⋅b   ⋅f(t)                         "
      ]
     },
     "execution_count": 31,
     "metadata": {},
     "output_type": "execute_result"
    }
   ],
   "source": [
    "expr3.diff(b, t)"
   ]
  },
  {
   "cell_type": "code",
   "execution_count": 32,
   "id": "b4be843d",
   "metadata": {
    "execution": {
     "iopub.execute_input": "2022-07-17T09:00:50.932510Z",
     "iopub.status.busy": "2022-07-17T09:00:50.932004Z",
     "iopub.status.idle": "2022-07-17T09:00:50.951635Z",
     "shell.execute_reply": "2022-07-17T09:00:50.951086Z"
    }
   },
   "outputs": [
    {
     "data": {
      "text/latex": [
       "$\\displaystyle \\frac{\\left(\\operatorname{re}{\\left(h{\\left(t \\right)}\\right)} \\frac{d}{d t} \\operatorname{re}{\\left(h{\\left(t \\right)}\\right)} + \\operatorname{im}{\\left(h{\\left(t \\right)}\\right)} \\frac{d}{d t} \\operatorname{im}{\\left(h{\\left(t \\right)}\\right)}\\right) \\operatorname{sign}{\\left(h{\\left(t \\right)} \\right)}}{h{\\left(t \\right)}}$"
      ],
      "text/plain": [
       "⎛         d                       d           ⎞           \n",
       "⎜re(h(t))⋅──(re(h(t))) + im(h(t))⋅──(im(h(t)))⎟⋅sign(h(t))\n",
       "⎝         dt                      dt          ⎠           \n",
       "──────────────────────────────────────────────────────────\n",
       "                           h(t)                           "
      ]
     },
     "execution_count": 32,
     "metadata": {},
     "output_type": "execute_result"
    }
   ],
   "source": [
    "h = sm.Function('h')\n",
    "sm.Abs(h(t)).diff(t)"
   ]
  },
  {
   "cell_type": "code",
   "execution_count": 33,
   "id": "05efc218",
   "metadata": {
    "execution": {
     "iopub.execute_input": "2022-07-17T09:00:50.954222Z",
     "iopub.status.busy": "2022-07-17T09:00:50.953669Z",
     "iopub.status.idle": "2022-07-17T09:00:50.962123Z",
     "shell.execute_reply": "2022-07-17T09:00:50.961589Z"
    }
   },
   "outputs": [
    {
     "data": {
      "text/latex": [
       "$\\displaystyle \\operatorname{sign}{\\left(h{\\left(t \\right)} \\right)} \\frac{d}{d t} h{\\left(t \\right)}$"
      ],
      "text/plain": [
       "           d       \n",
       "sign(h(t))⋅──(h(t))\n",
       "           dt      "
      ]
     },
     "execution_count": 33,
     "metadata": {},
     "output_type": "execute_result"
    }
   ],
   "source": [
    "h = sm.Function('h', real=True)\n",
    "sm.Abs(h(t)).diff(t)"
   ]
  },
  {
   "cell_type": "code",
   "execution_count": 34,
   "id": "cf087b8b",
   "metadata": {
    "execution": {
     "iopub.execute_input": "2022-07-17T09:00:50.964908Z",
     "iopub.status.busy": "2022-07-17T09:00:50.964446Z",
     "iopub.status.idle": "2022-07-17T09:00:50.971776Z",
     "shell.execute_reply": "2022-07-17T09:00:50.971244Z"
    }
   },
   "outputs": [
    {
     "data": {
      "text/latex": [
       "$\\displaystyle \\frac{d}{d t} h{\\left(t \\right)}$"
      ],
      "text/plain": [
       "d       \n",
       "──(h(t))\n",
       "dt      "
      ]
     },
     "execution_count": 34,
     "metadata": {},
     "output_type": "execute_result"
    }
   ],
   "source": [
    "h = sm.Function('h', real=True, positive=True)\n",
    "sm.Abs(h(t)).diff(t)"
   ]
  },
  {
   "cell_type": "code",
   "execution_count": 35,
   "id": "241095a9",
   "metadata": {
    "execution": {
     "iopub.execute_input": "2022-07-17T09:00:50.974539Z",
     "iopub.status.busy": "2022-07-17T09:00:50.974075Z",
     "iopub.status.idle": "2022-07-17T09:00:50.981681Z",
     "shell.execute_reply": "2022-07-17T09:00:50.980584Z"
    }
   },
   "outputs": [
    {
     "data": {
      "text/latex": [
       "$\\displaystyle t \\sin{\\left(\\omega f{\\left(t \\right)} \\right)} + \\frac{f{\\left(t \\right)}}{\\sqrt{t}}$"
      ],
      "text/plain": [
       "                f(t)\n",
       "t⋅sin(ω⋅f(t)) + ────\n",
       "                 √t "
      ]
     },
     "execution_count": 35,
     "metadata": {},
     "output_type": "execute_result"
    }
   ],
   "source": [
    "expr5"
   ]
  },
  {
   "cell_type": "code",
   "execution_count": 36,
   "id": "755a5a5b",
   "metadata": {
    "execution": {
     "iopub.execute_input": "2022-07-17T09:00:50.984332Z",
     "iopub.status.busy": "2022-07-17T09:00:50.984029Z",
     "iopub.status.idle": "2022-07-17T09:00:51.002402Z",
     "shell.execute_reply": "2022-07-17T09:00:51.001866Z"
    }
   },
   "outputs": [
    {
     "data": {
      "text/latex": [
       "$\\displaystyle \\omega t \\cos{\\left(\\omega f{\\left(t \\right)} \\right)} \\frac{d}{d t} f{\\left(t \\right)} + \\sin{\\left(\\omega f{\\left(t \\right)} \\right)} + \\frac{\\frac{d}{d t} f{\\left(t \\right)}}{\\sqrt{t}} - \\frac{f{\\left(t \\right)}}{2 t^{\\frac{3}{2}}}$"
      ],
      "text/plain": [
       "                                         d                \n",
       "                                         ──(f(t))         \n",
       "                d                        dt          f(t) \n",
       "ω⋅t⋅cos(ω⋅f(t))⋅──(f(t)) + sin(ω⋅f(t)) + ──────── - ──────\n",
       "                dt                          √t         3/2\n",
       "                                                    2⋅t   "
      ]
     },
     "execution_count": 36,
     "metadata": {},
     "output_type": "execute_result"
    }
   ],
   "source": [
    "expr5.diff(t)"
   ]
  },
  {
   "cell_type": "code",
   "execution_count": 37,
   "id": "7d345837",
   "metadata": {
    "execution": {
     "iopub.execute_input": "2022-07-17T09:00:51.005148Z",
     "iopub.status.busy": "2022-07-17T09:00:51.004847Z",
     "iopub.status.idle": "2022-07-17T09:00:51.009520Z",
     "shell.execute_reply": "2022-07-17T09:00:51.008442Z"
    }
   },
   "outputs": [],
   "source": [
    "repl = {omega: sm.pi/4, a: 2, f(t): -12, b: 25}"
   ]
  },
  {
   "cell_type": "code",
   "execution_count": 38,
   "id": "0b0f9ef5",
   "metadata": {
    "execution": {
     "iopub.execute_input": "2022-07-17T09:00:51.011954Z",
     "iopub.status.busy": "2022-07-17T09:00:51.011466Z",
     "iopub.status.idle": "2022-07-17T09:00:51.021891Z",
     "shell.execute_reply": "2022-07-17T09:00:51.021365Z"
    }
   },
   "outputs": [
    {
     "data": {
      "text/latex": [
       "$\\displaystyle \\sqrt{2} + \\frac{12}{5}$"
      ],
      "text/plain": [
       "√2 + 12/5"
      ]
     },
     "execution_count": 38,
     "metadata": {},
     "output_type": "execute_result"
    }
   ],
   "source": [
    "expr3.xreplace(repl)"
   ]
  },
  {
   "cell_type": "code",
   "execution_count": 39,
   "id": "fc44cf5e",
   "metadata": {
    "execution": {
     "iopub.execute_input": "2022-07-17T09:00:51.024525Z",
     "iopub.status.busy": "2022-07-17T09:00:51.024196Z",
     "iopub.status.idle": "2022-07-17T09:00:51.031065Z",
     "shell.execute_reply": "2022-07-17T09:00:51.030538Z"
    }
   },
   "outputs": [
    {
     "data": {
      "text/latex": [
       "$\\displaystyle 3.81421356237309504880168872421$"
      ],
      "text/plain": [
       "3.814213562373095048801688724210"
      ]
     },
     "execution_count": 39,
     "metadata": {},
     "output_type": "execute_result"
    }
   ],
   "source": [
    "expr3.evalf(n=31, subs=repl)"
   ]
  },
  {
   "cell_type": "code",
   "execution_count": 40,
   "id": "c12dcdbf",
   "metadata": {
    "execution": {
     "iopub.execute_input": "2022-07-17T09:00:51.034521Z",
     "iopub.status.busy": "2022-07-17T09:00:51.033409Z",
     "iopub.status.idle": "2022-07-17T09:00:51.040124Z",
     "shell.execute_reply": "2022-07-17T09:00:51.039596Z"
    }
   },
   "outputs": [
    {
     "data": {
      "text/plain": [
       "sympy.core.numbers.Float"
      ]
     },
     "execution_count": 40,
     "metadata": {},
     "output_type": "execute_result"
    }
   ],
   "source": [
    "type(expr3.evalf(n=31, subs=repl))"
   ]
  },
  {
   "cell_type": "code",
   "execution_count": 41,
   "id": "cd6f1ad4",
   "metadata": {
    "execution": {
     "iopub.execute_input": "2022-07-17T09:00:51.042802Z",
     "iopub.status.busy": "2022-07-17T09:00:51.042432Z",
     "iopub.status.idle": "2022-07-17T09:00:51.049144Z",
     "shell.execute_reply": "2022-07-17T09:00:51.048628Z"
    }
   },
   "outputs": [
    {
     "data": {
      "text/latex": [
       "$\\displaystyle 3.81421356237309504880168872420969807856967187537694807317667973799073247846210703885038753432764157273501384623091229702492483605585073721264412149709993583141322266592750559275579995050115278206057147010955997160597027453459686201472851741864088919860955232923048430871432145083976260362799525140799$"
      ],
      "text/plain": [
       "3.8142135623730950488016887242096980785696718753769480731766797379907324784621\n",
       "070388503875343276415727350138462309122970249248360558507372126441214970999358\n",
       "314132226659275055927557999505011527820605714701095599716059702745345968620147\n",
       "2851741864088919860955232923048430871432145083976260362799525140799"
      ]
     },
     "execution_count": 41,
     "metadata": {},
     "output_type": "execute_result"
    }
   ],
   "source": [
    "expr3.evalf(n=300, subs=repl)"
   ]
  },
  {
   "cell_type": "code",
   "execution_count": 42,
   "id": "247dfebb",
   "metadata": {
    "execution": {
     "iopub.execute_input": "2022-07-17T09:00:51.051642Z",
     "iopub.status.busy": "2022-07-17T09:00:51.051166Z",
     "iopub.status.idle": "2022-07-17T09:00:51.058139Z",
     "shell.execute_reply": "2022-07-17T09:00:51.057621Z"
    }
   },
   "outputs": [
    {
     "data": {
      "text/latex": [
       "$\\displaystyle 3.81421356237309$"
      ],
      "text/plain": [
       "3.814213562373095"
      ]
     },
     "execution_count": 42,
     "metadata": {},
     "output_type": "execute_result"
    }
   ],
   "source": [
    "float(expr3.evalf(n=300, subs=repl))"
   ]
  },
  {
   "cell_type": "code",
   "execution_count": 43,
   "id": "2eaac078",
   "metadata": {
    "execution": {
     "iopub.execute_input": "2022-07-17T09:00:51.060664Z",
     "iopub.status.busy": "2022-07-17T09:00:51.060121Z",
     "iopub.status.idle": "2022-07-17T09:00:51.065687Z",
     "shell.execute_reply": "2022-07-17T09:00:51.065105Z"
    }
   },
   "outputs": [
    {
     "data": {
      "text/plain": [
       "float"
      ]
     },
     "execution_count": 43,
     "metadata": {},
     "output_type": "execute_result"
    }
   ],
   "source": [
    "type(float(expr3.evalf(n=300, subs=repl)))"
   ]
  },
  {
   "cell_type": "code",
   "execution_count": 44,
   "id": "edaa33ee",
   "metadata": {
    "execution": {
     "iopub.execute_input": "2022-07-17T09:00:51.068199Z",
     "iopub.status.busy": "2022-07-17T09:00:51.067718Z",
     "iopub.status.idle": "2022-07-17T09:00:51.209248Z",
     "shell.execute_reply": "2022-07-17T09:00:51.208567Z"
    }
   },
   "outputs": [],
   "source": [
    "eval_expr3 = sm.lambdify((omega, a, f(t), b), expr3)"
   ]
  },
  {
   "cell_type": "code",
   "execution_count": 45,
   "id": "2d0ec586",
   "metadata": {
    "execution": {
     "iopub.execute_input": "2022-07-17T09:00:51.212451Z",
     "iopub.status.busy": "2022-07-17T09:00:51.212024Z",
     "iopub.status.idle": "2022-07-17T09:00:51.218141Z",
     "shell.execute_reply": "2022-07-17T09:00:51.217589Z"
    }
   },
   "outputs": [
    {
     "name": "stdout",
     "output_type": "stream",
     "text": [
      "Help on function _lambdifygenerated:\n",
      "\n",
      "_lambdifygenerated(omega, a, _Dummy_23, b)\n",
      "    Created with lambdify. Signature:\n",
      "    \n",
      "    func(omega, a, f, b)\n",
      "    \n",
      "    Expression:\n",
      "    \n",
      "    a*sin(omega) + Abs(f(t))/sqrt(b)\n",
      "    \n",
      "    Source code:\n",
      "    \n",
      "    def _lambdifygenerated(omega, a, _Dummy_23, b):\n",
      "        return a*sin(omega) + abs(_Dummy_23)/sqrt(b)\n",
      "    \n",
      "    \n",
      "    Imported modules:\n",
      "\n"
     ]
    }
   ],
   "source": [
    "help(eval_expr3)"
   ]
  },
  {
   "cell_type": "code",
   "execution_count": 46,
   "id": "c7ffed05",
   "metadata": {
    "execution": {
     "iopub.execute_input": "2022-07-17T09:00:51.220780Z",
     "iopub.status.busy": "2022-07-17T09:00:51.220207Z",
     "iopub.status.idle": "2022-07-17T09:00:51.224738Z",
     "shell.execute_reply": "2022-07-17T09:00:51.224126Z"
    }
   },
   "outputs": [
    {
     "data": {
      "text/latex": [
       "$\\displaystyle 3.81365036221073$"
      ],
      "text/plain": [
       "3.8136503622107316"
      ]
     },
     "execution_count": 46,
     "metadata": {},
     "output_type": "execute_result"
    }
   ],
   "source": [
    "eval_expr3(3.14/4, 2, -12, 25)"
   ]
  },
  {
   "cell_type": "code",
   "execution_count": 47,
   "id": "31a433dc",
   "metadata": {
    "execution": {
     "iopub.execute_input": "2022-07-17T09:00:51.227294Z",
     "iopub.status.busy": "2022-07-17T09:00:51.226729Z",
     "iopub.status.idle": "2022-07-17T09:00:51.230970Z",
     "shell.execute_reply": "2022-07-17T09:00:51.230350Z"
    }
   },
   "outputs": [
    {
     "data": {
      "text/plain": [
       "numpy.float64"
      ]
     },
     "execution_count": 47,
     "metadata": {},
     "output_type": "execute_result"
    }
   ],
   "source": [
    "type(eval_expr3(3.14/4, 2, -12, 25))"
   ]
  },
  {
   "cell_type": "code",
   "execution_count": 48,
   "id": "2a975a37",
   "metadata": {
    "execution": {
     "iopub.execute_input": "2022-07-17T09:00:51.233495Z",
     "iopub.status.busy": "2022-07-17T09:00:51.233028Z",
     "iopub.status.idle": "2022-07-17T09:00:51.239209Z",
     "shell.execute_reply": "2022-07-17T09:00:51.238613Z"
    }
   },
   "outputs": [
    {
     "data": {
      "text/latex": [
       "$\\displaystyle \\left[\\begin{matrix}a & 2 a\\\\\\frac{b}{\\omega} & f{\\left(t \\right)}\\end{matrix}\\right]$"
      ],
      "text/plain": [
       "⎡a  2⋅a ⎤\n",
       "⎢       ⎥\n",
       "⎢b      ⎥\n",
       "⎢─  f(t)⎥\n",
       "⎣ω      ⎦"
      ]
     },
     "execution_count": 48,
     "metadata": {},
     "output_type": "execute_result"
    }
   ],
   "source": [
    "mat1 = sm.Matrix([[a, 2*a], [b/omega, f(t)]])\n",
    "mat1"
   ]
  },
  {
   "cell_type": "code",
   "execution_count": 49,
   "id": "c83318ad",
   "metadata": {
    "execution": {
     "iopub.execute_input": "2022-07-17T09:00:51.242256Z",
     "iopub.status.busy": "2022-07-17T09:00:51.241688Z",
     "iopub.status.idle": "2022-07-17T09:00:51.246773Z",
     "shell.execute_reply": "2022-07-17T09:00:51.246162Z"
    }
   },
   "outputs": [
    {
     "data": {
      "text/latex": [
       "$\\displaystyle \\left[\\begin{matrix}1 & 2\\\\3 & 4\\end{matrix}\\right]$"
      ],
      "text/plain": [
       "⎡1  2⎤\n",
       "⎢    ⎥\n",
       "⎣3  4⎦"
      ]
     },
     "execution_count": 49,
     "metadata": {},
     "output_type": "execute_result"
    }
   ],
   "source": [
    "mat2 = sm.Matrix([[1, 2], [3, 4]])\n",
    "mat2"
   ]
  },
  {
   "cell_type": "code",
   "execution_count": 50,
   "id": "3b5d6936",
   "metadata": {
    "execution": {
     "iopub.execute_input": "2022-07-17T09:00:51.249281Z",
     "iopub.status.busy": "2022-07-17T09:00:51.248718Z",
     "iopub.status.idle": "2022-07-17T09:00:51.252780Z",
     "shell.execute_reply": "2022-07-17T09:00:51.252181Z"
    }
   },
   "outputs": [
    {
     "data": {
      "text/latex": [
       "$\\displaystyle \\left( 2, \\  2\\right)$"
      ],
      "text/plain": [
       "(2, 2)"
      ]
     },
     "execution_count": 50,
     "metadata": {},
     "output_type": "execute_result"
    }
   ],
   "source": [
    "mat1.shape"
   ]
  },
  {
   "cell_type": "code",
   "execution_count": 51,
   "id": "fd88b781",
   "metadata": {
    "execution": {
     "iopub.execute_input": "2022-07-17T09:00:51.255261Z",
     "iopub.status.busy": "2022-07-17T09:00:51.254726Z",
     "iopub.status.idle": "2022-07-17T09:00:51.259407Z",
     "shell.execute_reply": "2022-07-17T09:00:51.258816Z"
    }
   },
   "outputs": [
    {
     "data": {
      "text/latex": [
       "$\\displaystyle 2 a$"
      ],
      "text/plain": [
       "2⋅a"
      ]
     },
     "execution_count": 51,
     "metadata": {},
     "output_type": "execute_result"
    }
   ],
   "source": [
    "mat1[0, 1]"
   ]
  },
  {
   "cell_type": "code",
   "execution_count": 52,
   "id": "0771a5f1",
   "metadata": {
    "execution": {
     "iopub.execute_input": "2022-07-17T09:00:51.261765Z",
     "iopub.status.busy": "2022-07-17T09:00:51.261564Z",
     "iopub.status.idle": "2022-07-17T09:00:51.266170Z",
     "shell.execute_reply": "2022-07-17T09:00:51.265566Z"
    }
   },
   "outputs": [
    {
     "data": {
      "text/latex": [
       "$\\displaystyle \\left[\\begin{matrix}a & 2 a\\end{matrix}\\right]$"
      ],
      "text/plain": [
       "[a  2⋅a]"
      ]
     },
     "execution_count": 52,
     "metadata": {},
     "output_type": "execute_result"
    }
   ],
   "source": [
    "mat1[0, 0:2]"
   ]
  },
  {
   "cell_type": "code",
   "execution_count": 53,
   "id": "5536becb",
   "metadata": {
    "execution": {
     "iopub.execute_input": "2022-07-17T09:00:51.269237Z",
     "iopub.status.busy": "2022-07-17T09:00:51.268699Z",
     "iopub.status.idle": "2022-07-17T09:00:51.273662Z",
     "shell.execute_reply": "2022-07-17T09:00:51.273076Z"
    }
   },
   "outputs": [
    {
     "data": {
      "text/latex": [
       "$\\displaystyle \\left[\\begin{matrix}2 a\\\\f{\\left(t \\right)}\\end{matrix}\\right]$"
      ],
      "text/plain": [
       "⎡2⋅a ⎤\n",
       "⎢    ⎥\n",
       "⎣f(t)⎦"
      ]
     },
     "execution_count": 53,
     "metadata": {},
     "output_type": "execute_result"
    }
   ],
   "source": [
    "mat1[0:2, 1]"
   ]
  },
  {
   "cell_type": "code",
   "execution_count": 54,
   "id": "d2b25700",
   "metadata": {
    "execution": {
     "iopub.execute_input": "2022-07-17T09:00:51.276215Z",
     "iopub.status.busy": "2022-07-17T09:00:51.275740Z",
     "iopub.status.idle": "2022-07-17T09:00:51.282783Z",
     "shell.execute_reply": "2022-07-17T09:00:51.282179Z"
    }
   },
   "outputs": [
    {
     "data": {
      "text/latex": [
       "$\\displaystyle \\left[\\begin{matrix}a + 1 & 2 a + 2\\\\\\frac{b}{\\omega} + 3 & f{\\left(t \\right)} + 4\\end{matrix}\\right]$"
      ],
      "text/plain": [
       "⎡a + 1  2⋅a + 2 ⎤\n",
       "⎢               ⎥\n",
       "⎢b              ⎥\n",
       "⎢─ + 3  f(t) + 4⎥\n",
       "⎣ω              ⎦"
      ]
     },
     "execution_count": 54,
     "metadata": {},
     "output_type": "execute_result"
    }
   ],
   "source": [
    "mat1 + mat2"
   ]
  },
  {
   "cell_type": "code",
   "execution_count": 55,
   "id": "48ae162a",
   "metadata": {
    "execution": {
     "iopub.execute_input": "2022-07-17T09:00:51.285642Z",
     "iopub.status.busy": "2022-07-17T09:00:51.285177Z",
     "iopub.status.idle": "2022-07-17T09:00:51.294760Z",
     "shell.execute_reply": "2022-07-17T09:00:51.294134Z"
    }
   },
   "outputs": [
    {
     "data": {
      "text/latex": [
       "$\\displaystyle \\left[\\begin{matrix}7 a & 10 a\\\\\\frac{b}{\\omega} + 3 f{\\left(t \\right)} & \\frac{2 b}{\\omega} + 4 f{\\left(t \\right)}\\end{matrix}\\right]$"
      ],
      "text/plain": [
       "⎡   7⋅a          10⋅a    ⎤\n",
       "⎢                        ⎥\n",
       "⎢b           2⋅b         ⎥\n",
       "⎢─ + 3⋅f(t)  ─── + 4⋅f(t)⎥\n",
       "⎣ω            ω          ⎦"
      ]
     },
     "execution_count": 55,
     "metadata": {},
     "output_type": "execute_result"
    }
   ],
   "source": [
    "mat1*mat2"
   ]
  },
  {
   "cell_type": "code",
   "execution_count": 56,
   "id": "aa41478c",
   "metadata": {
    "execution": {
     "iopub.execute_input": "2022-07-17T09:00:51.298534Z",
     "iopub.status.busy": "2022-07-17T09:00:51.297618Z",
     "iopub.status.idle": "2022-07-17T09:00:51.305236Z",
     "shell.execute_reply": "2022-07-17T09:00:51.304622Z"
    }
   },
   "outputs": [
    {
     "data": {
      "text/latex": [
       "$\\displaystyle \\left[\\begin{matrix}7 a & 10 a\\\\\\frac{b}{\\omega} + 3 f{\\left(t \\right)} & \\frac{2 b}{\\omega} + 4 f{\\left(t \\right)}\\end{matrix}\\right]$"
      ],
      "text/plain": [
       "⎡   7⋅a          10⋅a    ⎤\n",
       "⎢                        ⎥\n",
       "⎢b           2⋅b         ⎥\n",
       "⎢─ + 3⋅f(t)  ─── + 4⋅f(t)⎥\n",
       "⎣ω            ω          ⎦"
      ]
     },
     "execution_count": 56,
     "metadata": {},
     "output_type": "execute_result"
    }
   ],
   "source": [
    "mat1@mat2"
   ]
  },
  {
   "cell_type": "code",
   "execution_count": 57,
   "id": "6b45566d",
   "metadata": {
    "execution": {
     "iopub.execute_input": "2022-07-17T09:00:51.307720Z",
     "iopub.status.busy": "2022-07-17T09:00:51.307242Z",
     "iopub.status.idle": "2022-07-17T09:00:51.314060Z",
     "shell.execute_reply": "2022-07-17T09:00:51.313444Z"
    }
   },
   "outputs": [
    {
     "data": {
      "text/latex": [
       "$\\displaystyle \\left[\\begin{matrix}a & 4 a\\\\\\frac{3 b}{\\omega} & 4 f{\\left(t \\right)}\\end{matrix}\\right]$"
      ],
      "text/plain": [
       "⎡ a    4⋅a  ⎤\n",
       "⎢           ⎥\n",
       "⎢3⋅b        ⎥\n",
       "⎢───  4⋅f(t)⎥\n",
       "⎣ ω         ⎦"
      ]
     },
     "execution_count": 57,
     "metadata": {},
     "output_type": "execute_result"
    }
   ],
   "source": [
    "sm.hadamard_product(mat1, mat2)"
   ]
  },
  {
   "cell_type": "code",
   "execution_count": 58,
   "id": "c39e0552",
   "metadata": {
    "execution": {
     "iopub.execute_input": "2022-07-17T09:00:51.316922Z",
     "iopub.status.busy": "2022-07-17T09:00:51.316443Z",
     "iopub.status.idle": "2022-07-17T09:00:51.327190Z",
     "shell.execute_reply": "2022-07-17T09:00:51.326647Z"
    }
   },
   "outputs": [
    {
     "data": {
      "text/latex": [
       "$\\displaystyle \\left[\\begin{matrix}a + \\frac{b}{\\omega^{2}}\\\\a \\omega + f{\\left(t \\right)}\\\\a \\sin{\\left(\\omega \\right)} + \\frac{\\left|{f{\\left(t \\right)}}\\right|}{\\sqrt{b}}\\\\5 \\sin{\\left(12 \\right)} + 105.986768359379\\\\t \\sin{\\left(\\omega f{\\left(t \\right)} \\right)} + \\frac{f{\\left(t \\right)}}{\\sqrt{t}}\\end{matrix}\\right]$"
      ],
      "text/plain": [
       "⎡               b            ⎤\n",
       "⎢           a + ──           ⎥\n",
       "⎢                2           ⎥\n",
       "⎢               ω            ⎥\n",
       "⎢                            ⎥\n",
       "⎢         a⋅ω + f(t)         ⎥\n",
       "⎢                            ⎥\n",
       "⎢                │f(t)│      ⎥\n",
       "⎢     a⋅sin(ω) + ──────      ⎥\n",
       "⎢                  √b        ⎥\n",
       "⎢                            ⎥\n",
       "⎢5⋅sin(12) + 105.986768359379⎥\n",
       "⎢                            ⎥\n",
       "⎢                    f(t)    ⎥\n",
       "⎢    t⋅sin(ω⋅f(t)) + ────    ⎥\n",
       "⎣                     √t     ⎦"
      ]
     },
     "execution_count": 58,
     "metadata": {},
     "output_type": "execute_result"
    }
   ],
   "source": [
    "mat3 = sm.Matrix([expr1, expr2, expr3, expr4, expr5])\n",
    "mat3"
   ]
  },
  {
   "cell_type": "code",
   "execution_count": 59,
   "id": "2be2599f",
   "metadata": {
    "execution": {
     "iopub.execute_input": "2022-07-17T09:00:51.329625Z",
     "iopub.status.busy": "2022-07-17T09:00:51.329420Z",
     "iopub.status.idle": "2022-07-17T09:00:51.343904Z",
     "shell.execute_reply": "2022-07-17T09:00:51.343317Z"
    }
   },
   "outputs": [
    {
     "data": {
      "text/latex": [
       "$\\displaystyle \\left[\\begin{matrix}1\\\\\\omega\\\\\\sin{\\left(\\omega \\right)}\\\\0\\\\0\\end{matrix}\\right]$"
      ],
      "text/plain": [
       "⎡  1   ⎤\n",
       "⎢      ⎥\n",
       "⎢  ω   ⎥\n",
       "⎢      ⎥\n",
       "⎢sin(ω)⎥\n",
       "⎢      ⎥\n",
       "⎢  0   ⎥\n",
       "⎢      ⎥\n",
       "⎣  0   ⎦"
      ]
     },
     "execution_count": 59,
     "metadata": {},
     "output_type": "execute_result"
    }
   ],
   "source": [
    "mat3.diff(a)"
   ]
  },
  {
   "cell_type": "code",
   "execution_count": 60,
   "id": "87ef3f87",
   "metadata": {
    "execution": {
     "iopub.execute_input": "2022-07-17T09:00:51.346232Z",
     "iopub.status.busy": "2022-07-17T09:00:51.345912Z",
     "iopub.status.idle": "2022-07-17T09:00:51.360910Z",
     "shell.execute_reply": "2022-07-17T09:00:51.360315Z"
    }
   },
   "outputs": [
    {
     "data": {
      "text/latex": [
       "$\\displaystyle \\left[\\begin{matrix}0\\\\\\frac{d}{d t} f{\\left(t \\right)}\\\\\\frac{\\left(\\operatorname{re}{\\left(f{\\left(t \\right)}\\right)} \\frac{d}{d t} \\operatorname{re}{\\left(f{\\left(t \\right)}\\right)} + \\operatorname{im}{\\left(f{\\left(t \\right)}\\right)} \\frac{d}{d t} \\operatorname{im}{\\left(f{\\left(t \\right)}\\right)}\\right) \\operatorname{sign}{\\left(f{\\left(t \\right)} \\right)}}{\\sqrt{b} f{\\left(t \\right)}}\\\\0\\\\\\omega t \\cos{\\left(\\omega f{\\left(t \\right)} \\right)} \\frac{d}{d t} f{\\left(t \\right)} + \\sin{\\left(\\omega f{\\left(t \\right)} \\right)} + \\frac{\\frac{d}{d t} f{\\left(t \\right)}}{\\sqrt{t}} - \\frac{f{\\left(t \\right)}}{2 t^{\\frac{3}{2}}}\\end{matrix}\\right]$"
      ],
      "text/plain": [
       "⎡                            0                             ⎤\n",
       "⎢                                                          ⎥\n",
       "⎢                         d                                ⎥\n",
       "⎢                         ──(f(t))                         ⎥\n",
       "⎢                         dt                               ⎥\n",
       "⎢                                                          ⎥\n",
       "⎢⎛         d                       d           ⎞           ⎥\n",
       "⎢⎜re(f(t))⋅──(re(f(t))) + im(f(t))⋅──(im(f(t)))⎟⋅sign(f(t))⎥\n",
       "⎢⎝         dt                      dt          ⎠           ⎥\n",
       "⎢──────────────────────────────────────────────────────────⎥\n",
       "⎢                         √b⋅f(t)                          ⎥\n",
       "⎢                                                          ⎥\n",
       "⎢                            0                             ⎥\n",
       "⎢                                                          ⎥\n",
       "⎢                                         d                ⎥\n",
       "⎢                                         ──(f(t))         ⎥\n",
       "⎢                d                        dt          f(t) ⎥\n",
       "⎢ω⋅t⋅cos(ω⋅f(t))⋅──(f(t)) + sin(ω⋅f(t)) + ──────── - ──────⎥\n",
       "⎢                dt                          √t         3/2⎥\n",
       "⎣                                                    2⋅t   ⎦"
      ]
     },
     "execution_count": 60,
     "metadata": {},
     "output_type": "execute_result"
    }
   ],
   "source": [
    "mat3.diff(t)"
   ]
  },
  {
   "cell_type": "code",
   "execution_count": 61,
   "id": "e8e5f424",
   "metadata": {
    "execution": {
     "iopub.execute_input": "2022-07-17T09:00:51.363756Z",
     "iopub.status.busy": "2022-07-17T09:00:51.363363Z",
     "iopub.status.idle": "2022-07-17T09:00:51.368277Z",
     "shell.execute_reply": "2022-07-17T09:00:51.367685Z"
    }
   },
   "outputs": [
    {
     "data": {
      "text/latex": [
       "$\\displaystyle \\left[\\begin{matrix}a\\\\b\\\\\\omega\\\\t\\end{matrix}\\right]$"
      ],
      "text/plain": [
       "⎡a⎤\n",
       "⎢ ⎥\n",
       "⎢b⎥\n",
       "⎢ ⎥\n",
       "⎢ω⎥\n",
       "⎢ ⎥\n",
       "⎣t⎦"
      ]
     },
     "execution_count": 61,
     "metadata": {},
     "output_type": "execute_result"
    }
   ],
   "source": [
    "mat4 = sm.Matrix([a, b, omega, t])\n",
    "mat4"
   ]
  },
  {
   "cell_type": "code",
   "execution_count": 62,
   "id": "0e9c0497",
   "metadata": {
    "execution": {
     "iopub.execute_input": "2022-07-17T09:00:51.371063Z",
     "iopub.status.busy": "2022-07-17T09:00:51.370743Z",
     "iopub.status.idle": "2022-07-17T09:00:51.394248Z",
     "shell.execute_reply": "2022-07-17T09:00:51.393650Z"
    }
   },
   "outputs": [
    {
     "data": {
      "text/latex": [
       "$\\displaystyle \\left[\\begin{matrix}1 & \\frac{1}{\\omega^{2}} & - \\frac{2 b}{\\omega^{3}} & 0\\\\\\omega & 0 & a & \\frac{d}{d t} f{\\left(t \\right)}\\\\\\sin{\\left(\\omega \\right)} & - \\frac{\\left|{f{\\left(t \\right)}}\\right|}{2 b^{\\frac{3}{2}}} & a \\cos{\\left(\\omega \\right)} & \\frac{\\left(\\operatorname{re}{\\left(f{\\left(t \\right)}\\right)} \\frac{d}{d t} \\operatorname{re}{\\left(f{\\left(t \\right)}\\right)} + \\operatorname{im}{\\left(f{\\left(t \\right)}\\right)} \\frac{d}{d t} \\operatorname{im}{\\left(f{\\left(t \\right)}\\right)}\\right) \\operatorname{sign}{\\left(f{\\left(t \\right)} \\right)}}{\\sqrt{b} f{\\left(t \\right)}}\\\\0 & 0 & 0 & 0\\\\0 & 0 & t f{\\left(t \\right)} \\cos{\\left(\\omega f{\\left(t \\right)} \\right)} & \\omega t \\cos{\\left(\\omega f{\\left(t \\right)} \\right)} \\frac{d}{d t} f{\\left(t \\right)} + \\sin{\\left(\\omega f{\\left(t \\right)} \\right)} + \\frac{\\frac{d}{d t} f{\\left(t \\right)}}{\\sqrt{t}} - \\frac{f{\\left(t \\right)}}{2 t^{\\frac{3}{2}}}\\end{matrix}\\right]$"
      ],
      "text/plain": [
       "⎡           1            -2⋅b                                                 \n",
       "⎢  1        ──           ─────                                     0          \n",
       "⎢            2              3                                                 \n",
       "⎢           ω              ω                                                  \n",
       "⎢                                                                             \n",
       "⎢                                                               d             \n",
       "⎢  ω        0              a                                    ──(f(t))      \n",
       "⎢                                                               dt            \n",
       "⎢                                                                             \n",
       "⎢                                      ⎛         d                       d    \n",
       "⎢                                      ⎜re(f(t))⋅──(re(f(t))) + im(f(t))⋅──(im\n",
       "⎢        -│f(t)│                       ⎝         dt                      dt   \n",
       "⎢sin(ω)  ────────       a⋅cos(ω)       ───────────────────────────────────────\n",
       "⎢            3/2                                                √b⋅f(t)       \n",
       "⎢         2⋅b                                                                 \n",
       "⎢                                                                             \n",
       "⎢  0        0              0                                       0          \n",
       "⎢                                                                             \n",
       "⎢                                                                             \n",
       "⎢                                                                             \n",
       "⎢                                                      d                      \n",
       "⎢  0        0      t⋅f(t)⋅cos(ω⋅f(t))  ω⋅t⋅cos(ω⋅f(t))⋅──(f(t)) + sin(ω⋅f(t)) \n",
       "⎢                                                      dt                     \n",
       "⎣                                                                             \n",
       "\n",
       "                   ⎤\n",
       "                   ⎥\n",
       "                   ⎥\n",
       "                   ⎥\n",
       "                   ⎥\n",
       "                   ⎥\n",
       "                   ⎥\n",
       "                   ⎥\n",
       "                   ⎥\n",
       "       ⎞           ⎥\n",
       "(f(t)))⎟⋅sign(f(t))⎥\n",
       "       ⎠           ⎥\n",
       "───────────────────⎥\n",
       "                   ⎥\n",
       "                   ⎥\n",
       "                   ⎥\n",
       "                   ⎥\n",
       "                   ⎥\n",
       "  d                ⎥\n",
       "  ──(f(t))         ⎥\n",
       "  dt          f(t) ⎥\n",
       "+ ──────── - ──────⎥\n",
       "     √t         3/2⎥\n",
       "             2⋅t   ⎦"
      ]
     },
     "execution_count": 62,
     "metadata": {},
     "output_type": "execute_result"
    }
   ],
   "source": [
    "mat3.jacobian(mat4)"
   ]
  },
  {
   "cell_type": "code",
   "execution_count": 63,
   "id": "5536dca3",
   "metadata": {
    "execution": {
     "iopub.execute_input": "2022-07-17T09:00:51.396593Z",
     "iopub.status.busy": "2022-07-17T09:00:51.396270Z",
     "iopub.status.idle": "2022-07-17T09:00:51.414866Z",
     "shell.execute_reply": "2022-07-17T09:00:51.414312Z"
    }
   },
   "outputs": [
    {
     "data": {
      "text/latex": [
       "$\\displaystyle \\left[\\begin{matrix}a_{1} \\sin{\\left(f{\\left(t \\right)} \\right)} \\cos{\\left(2 f{\\left(t \\right)} \\right)} + a_{2} + \\frac{\\omega \\log{\\left(t \\right)}}{\\log{\\left(f{\\left(t \\right)} \\right)}} + 100\\\\a_{1} \\omega^{2} + a_{2} f{\\left(t \\right)} + \\omega + f^{3}{\\left(t \\right)}\\end{matrix}\\right]$"
      ],
      "text/plain": [
       "⎡                                 ω⋅log(t)      ⎤\n",
       "⎢a₁⋅sin(f(t))⋅cos(2⋅f(t)) + a₂ + ───────── + 100⎥\n",
       "⎢                                log(f(t))      ⎥\n",
       "⎢                                               ⎥\n",
       "⎢              2                  3             ⎥\n",
       "⎣          a₁⋅ω  + a₂⋅f(t) + ω + f (t)          ⎦"
      ]
     },
     "execution_count": 63,
     "metadata": {},
     "output_type": "execute_result"
    }
   ],
   "source": [
    "a1, a2 = sm.symbols('a1, a2')\n",
    "\n",
    "exprs = sm.Matrix([\n",
    "    [a1*sm.sin(f(t))*sm.cos(2*f(t)) + a2 + omega/sm.log(f(t), t) + 100],\n",
    "    [a1*omega**2 + f(t)*a2 + omega + f(t)**3],\n",
    "])\n",
    "exprs"
   ]
  },
  {
   "cell_type": "code",
   "execution_count": 64,
   "id": "f1125e15",
   "metadata": {
    "execution": {
     "iopub.execute_input": "2022-07-17T09:00:51.417522Z",
     "iopub.status.busy": "2022-07-17T09:00:51.417206Z",
     "iopub.status.idle": "2022-07-17T09:00:51.428136Z",
     "shell.execute_reply": "2022-07-17T09:00:51.427598Z"
    }
   },
   "outputs": [
    {
     "data": {
      "text/latex": [
       "$\\displaystyle \\left[\\begin{matrix}\\sin{\\left(f{\\left(t \\right)} \\right)} \\cos{\\left(2 f{\\left(t \\right)} \\right)} & 1\\\\\\omega^{2} & f{\\left(t \\right)}\\end{matrix}\\right]$"
      ],
      "text/plain": [
       "⎡sin(f(t))⋅cos(2⋅f(t))   1  ⎤\n",
       "⎢                           ⎥\n",
       "⎢          2                ⎥\n",
       "⎣         ω             f(t)⎦"
      ]
     },
     "execution_count": 64,
     "metadata": {},
     "output_type": "execute_result"
    }
   ],
   "source": [
    "A = exprs.jacobian([a1, a2])\n",
    "A"
   ]
  },
  {
   "cell_type": "code",
   "execution_count": 65,
   "id": "d06c15f6",
   "metadata": {
    "execution": {
     "iopub.execute_input": "2022-07-17T09:00:51.430748Z",
     "iopub.status.busy": "2022-07-17T09:00:51.430442Z",
     "iopub.status.idle": "2022-07-17T09:00:51.439948Z",
     "shell.execute_reply": "2022-07-17T09:00:51.438780Z"
    }
   },
   "outputs": [
    {
     "data": {
      "text/latex": [
       "$\\displaystyle \\left[\\begin{matrix}- \\frac{\\omega \\log{\\left(t \\right)}}{\\log{\\left(f{\\left(t \\right)} \\right)}} - 100\\\\- \\omega - f^{3}{\\left(t \\right)}\\end{matrix}\\right]$"
      ],
      "text/plain": [
       "⎡   ω⋅log(t)      ⎤\n",
       "⎢- ───────── - 100⎥\n",
       "⎢  log(f(t))      ⎥\n",
       "⎢                 ⎥\n",
       "⎢         3       ⎥\n",
       "⎣   -ω - f (t)    ⎦"
      ]
     },
     "execution_count": 65,
     "metadata": {},
     "output_type": "execute_result"
    }
   ],
   "source": [
    "b = -exprs.xreplace({a1: 0, a2:0})\n",
    "b"
   ]
  },
  {
   "cell_type": "code",
   "execution_count": 66,
   "id": "5a916350",
   "metadata": {
    "execution": {
     "iopub.execute_input": "2022-07-17T09:00:51.442810Z",
     "iopub.status.busy": "2022-07-17T09:00:51.442344Z",
     "iopub.status.idle": "2022-07-17T09:00:51.474388Z",
     "shell.execute_reply": "2022-07-17T09:00:51.473840Z"
    }
   },
   "outputs": [
    {
     "data": {
      "text/latex": [
       "$\\displaystyle \\left[\\begin{matrix}\\frac{- \\frac{\\omega \\log{\\left(t \\right)}}{\\log{\\left(f{\\left(t \\right)} \\right)}} - 100 - \\frac{- \\frac{\\omega^{2} \\left(- \\frac{\\omega \\log{\\left(t \\right)}}{\\log{\\left(f{\\left(t \\right)} \\right)}} - 100\\right)}{\\sin{\\left(f{\\left(t \\right)} \\right)} \\cos{\\left(2 f{\\left(t \\right)} \\right)}} - \\omega - f^{3}{\\left(t \\right)}}{- \\frac{\\omega^{2}}{\\sin{\\left(f{\\left(t \\right)} \\right)} \\cos{\\left(2 f{\\left(t \\right)} \\right)}} + f{\\left(t \\right)}}}{\\sin{\\left(f{\\left(t \\right)} \\right)} \\cos{\\left(2 f{\\left(t \\right)} \\right)}}\\\\\\frac{- \\frac{\\omega^{2} \\left(- \\frac{\\omega \\log{\\left(t \\right)}}{\\log{\\left(f{\\left(t \\right)} \\right)}} - 100\\right)}{\\sin{\\left(f{\\left(t \\right)} \\right)} \\cos{\\left(2 f{\\left(t \\right)} \\right)}} - \\omega - f^{3}{\\left(t \\right)}}{- \\frac{\\omega^{2}}{\\sin{\\left(f{\\left(t \\right)} \\right)} \\cos{\\left(2 f{\\left(t \\right)} \\right)}} + f{\\left(t \\right)}}\\end{matrix}\\right]$"
      ],
      "text/plain": [
       "⎡                       2 ⎛   ω⋅log(t)      ⎞            ⎤\n",
       "⎢                      ω ⋅⎜- ───────── - 100⎟            ⎥\n",
       "⎢                         ⎝  log(f(t))      ⎠        3   ⎥\n",
       "⎢                    - ────────────────────── - ω - f (t)⎥\n",
       "⎢   ω⋅log(t)           sin(f(t))⋅cos(2⋅f(t))             ⎥\n",
       "⎢- ───────── - 100 - ────────────────────────────────────⎥\n",
       "⎢  log(f(t))                         2                   ⎥\n",
       "⎢                                   ω                    ⎥\n",
       "⎢                       - ───────────────────── + f(t)   ⎥\n",
       "⎢                         sin(f(t))⋅cos(2⋅f(t))          ⎥\n",
       "⎢────────────────────────────────────────────────────────⎥\n",
       "⎢                 sin(f(t))⋅cos(2⋅f(t))                  ⎥\n",
       "⎢                                                        ⎥\n",
       "⎢             2 ⎛   ω⋅log(t)      ⎞                      ⎥\n",
       "⎢            ω ⋅⎜- ───────── - 100⎟                      ⎥\n",
       "⎢               ⎝  log(f(t))      ⎠        3             ⎥\n",
       "⎢          - ────────────────────── - ω - f (t)          ⎥\n",
       "⎢            sin(f(t))⋅cos(2⋅f(t))                       ⎥\n",
       "⎢          ────────────────────────────────────          ⎥\n",
       "⎢                          2                             ⎥\n",
       "⎢                         ω                              ⎥\n",
       "⎢             - ───────────────────── + f(t)             ⎥\n",
       "⎣               sin(f(t))⋅cos(2⋅f(t))                    ⎦"
      ]
     },
     "execution_count": 66,
     "metadata": {},
     "output_type": "execute_result"
    }
   ],
   "source": [
    "A.LUsolve(b)"
   ]
  },
  {
   "cell_type": "code",
   "execution_count": 67,
   "id": "27d500e1",
   "metadata": {
    "execution": {
     "iopub.execute_input": "2022-07-17T09:00:51.477253Z",
     "iopub.status.busy": "2022-07-17T09:00:51.476807Z",
     "iopub.status.idle": "2022-07-17T09:00:52.306504Z",
     "shell.execute_reply": "2022-07-17T09:00:52.305846Z"
    }
   },
   "outputs": [
    {
     "data": {
      "text/latex": [
       "$\\displaystyle \\left[\\begin{matrix}\\frac{- \\omega f{\\left(t \\right)} \\log{\\left(t \\right)} + \\omega \\log{\\left(f{\\left(t \\right)} \\right)} + f^{3}{\\left(t \\right)} \\log{\\left(f{\\left(t \\right)} \\right)} - 100 f{\\left(t \\right)} \\log{\\left(f{\\left(t \\right)} \\right)}}{\\left(- \\omega^{2} + f{\\left(t \\right)} \\sin{\\left(f{\\left(t \\right)} \\right)} \\cos{\\left(2 f{\\left(t \\right)} \\right)}\\right) \\log{\\left(f{\\left(t \\right)} \\right)}}\\\\\\frac{- \\omega^{2} \\left(\\omega \\log{\\left(t \\right)} + 100 \\log{\\left(f{\\left(t \\right)} \\right)}\\right) + \\left(\\omega + f^{3}{\\left(t \\right)}\\right) \\log{\\left(f{\\left(t \\right)} \\right)} \\sin{\\left(f{\\left(t \\right)} \\right)} \\cos{\\left(2 f{\\left(t \\right)} \\right)}}{\\left(\\omega^{2} - f{\\left(t \\right)} \\sin{\\left(f{\\left(t \\right)} \\right)} \\cos{\\left(2 f{\\left(t \\right)} \\right)}\\right) \\log{\\left(f{\\left(t \\right)} \\right)}}\\end{matrix}\\right]$"
      ],
      "text/plain": [
       "⎡                                     3                                       \n",
       "⎢     -ω⋅f(t)⋅log(t) + ω⋅log(f(t)) + f (t)⋅log(f(t)) - 100⋅f(t)⋅log(f(t))     \n",
       "⎢     ───────────────────────────────────────────────────────────────────     \n",
       "⎢                ⎛   2                             ⎞                          \n",
       "⎢                ⎝- ω  + f(t)⋅sin(f(t))⋅cos(2⋅f(t))⎠⋅log(f(t))                \n",
       "⎢                                                                             \n",
       "⎢   2                              ⎛     3   ⎞                                \n",
       "⎢- ω ⋅(ω⋅log(t) + 100⋅log(f(t))) + ⎝ω + f (t)⎠⋅log(f(t))⋅sin(f(t))⋅cos(2⋅f(t))\n",
       "⎢─────────────────────────────────────────────────────────────────────────────\n",
       "⎢                 ⎛ 2                             ⎞                           \n",
       "⎣                 ⎝ω  - f(t)⋅sin(f(t))⋅cos(2⋅f(t))⎠⋅log(f(t))                 \n",
       "\n",
       "⎤\n",
       "⎥\n",
       "⎥\n",
       "⎥\n",
       "⎥\n",
       "⎥\n",
       "⎥\n",
       "⎥\n",
       "⎥\n",
       "⎥\n",
       "⎦"
      ]
     },
     "execution_count": 67,
     "metadata": {},
     "output_type": "execute_result"
    }
   ],
   "source": [
    "sm.simplify(A.LUsolve(b))"
   ]
  },
  {
   "cell_type": "code",
   "execution_count": 68,
   "id": "85d25f8f",
   "metadata": {
    "execution": {
     "iopub.execute_input": "2022-07-17T09:00:52.309500Z",
     "iopub.status.busy": "2022-07-17T09:00:52.309158Z",
     "iopub.status.idle": "2022-07-17T09:00:52.338619Z",
     "shell.execute_reply": "2022-07-17T09:00:52.338046Z"
    }
   },
   "outputs": [
    {
     "data": {
      "text/latex": [
       "$\\displaystyle 1$"
      ],
      "text/plain": [
       "1"
      ]
     },
     "execution_count": 68,
     "metadata": {},
     "output_type": "execute_result"
    }
   ],
   "source": [
    "sm.trigsimp(sm.cos(omega)**2 + sm.sin(omega)**2)"
   ]
  },
  {
   "cell_type": "code",
   "execution_count": 69,
   "id": "586f0817",
   "metadata": {
    "execution": {
     "iopub.execute_input": "2022-07-17T09:00:52.341350Z",
     "iopub.status.busy": "2022-07-17T09:00:52.340778Z",
     "iopub.status.idle": "2022-07-17T09:00:52.359367Z",
     "shell.execute_reply": "2022-07-17T09:00:52.358818Z"
    }
   },
   "outputs": [],
   "source": [
    "substitutions, simplified = sm.cse(A.LUsolve(b))"
   ]
  },
  {
   "cell_type": "code",
   "execution_count": 70,
   "id": "b6fc31ea",
   "metadata": {
    "execution": {
     "iopub.execute_input": "2022-07-17T09:00:52.361743Z",
     "iopub.status.busy": "2022-07-17T09:00:52.361423Z",
     "iopub.status.idle": "2022-07-17T09:00:52.367566Z",
     "shell.execute_reply": "2022-07-17T09:00:52.367020Z"
    }
   },
   "outputs": [
    {
     "data": {
      "text/latex": [
       "$\\displaystyle \\left( x_{0}, \\  f{\\left(t \\right)}\\right)$"
      ],
      "text/plain": [
       "(x₀, f(t))"
      ]
     },
     "execution_count": 70,
     "metadata": {},
     "output_type": "execute_result"
    }
   ],
   "source": [
    "substitutions[0]"
   ]
  },
  {
   "cell_type": "code",
   "execution_count": 71,
   "id": "dde47a1a",
   "metadata": {
    "execution": {
     "iopub.execute_input": "2022-07-17T09:00:52.369991Z",
     "iopub.status.busy": "2022-07-17T09:00:52.369509Z",
     "iopub.status.idle": "2022-07-17T09:00:52.377112Z",
     "shell.execute_reply": "2022-07-17T09:00:52.375897Z"
    }
   },
   "outputs": [
    {
     "data": {
      "text/latex": [
       "$\\displaystyle x_{0} = f{\\left(t \\right)}$"
      ],
      "text/plain": [
       "x₀ = f(t)"
      ]
     },
     "execution_count": 71,
     "metadata": {},
     "output_type": "execute_result"
    }
   ],
   "source": [
    "sm.Eq(*substitutions[0])"
   ]
  },
  {
   "cell_type": "code",
   "execution_count": 72,
   "id": "060c06f4",
   "metadata": {
    "execution": {
     "iopub.execute_input": "2022-07-17T09:00:52.379587Z",
     "iopub.status.busy": "2022-07-17T09:00:52.379106Z",
     "iopub.status.idle": "2022-07-17T09:00:52.389940Z",
     "shell.execute_reply": "2022-07-17T09:00:52.389167Z"
    }
   },
   "outputs": [
    {
     "data": {
      "text/latex": [
       "$\\displaystyle x_{1} = \\frac{1}{\\sin{\\left(x_{0} \\right)} \\cos{\\left(2 x_{0} \\right)}}$"
      ],
      "text/plain": [
       "             1        \n",
       "x₁ = ─────────────────\n",
       "     sin(x₀)⋅cos(2⋅x₀)"
      ]
     },
     "execution_count": 72,
     "metadata": {},
     "output_type": "execute_result"
    }
   ],
   "source": [
    "sm.Eq(*substitutions[1])"
   ]
  },
  {
   "cell_type": "code",
   "execution_count": 73,
   "id": "f64f6c3d",
   "metadata": {
    "execution": {
     "iopub.execute_input": "2022-07-17T09:00:52.392657Z",
     "iopub.status.busy": "2022-07-17T09:00:52.392157Z",
     "iopub.status.idle": "2022-07-17T09:00:52.400211Z",
     "shell.execute_reply": "2022-07-17T09:00:52.399162Z"
    }
   },
   "outputs": [
    {
     "data": {
      "text/latex": [
       "$\\displaystyle x_{2} = \\omega^{2} x_{1}$"
      ],
      "text/plain": [
       "      2   \n",
       "x₂ = ω ⋅x₁"
      ]
     },
     "execution_count": 73,
     "metadata": {},
     "output_type": "execute_result"
    }
   ],
   "source": [
    "sm.Eq(*substitutions[2])"
   ]
  },
  {
   "cell_type": "code",
   "execution_count": 74,
   "id": "fe027a75",
   "metadata": {
    "execution": {
     "iopub.execute_input": "2022-07-17T09:00:52.402941Z",
     "iopub.status.busy": "2022-07-17T09:00:52.402493Z",
     "iopub.status.idle": "2022-07-17T09:00:52.414763Z",
     "shell.execute_reply": "2022-07-17T09:00:52.414220Z"
    }
   },
   "outputs": [
    {
     "data": {
      "text/latex": [
       "$\\displaystyle x_{4} = \\frac{- \\omega - x_{0}^{3} + x_{2} x_{3}}{x_{0} - x_{2}}$"
      ],
      "text/plain": [
       "            3        \n",
       "     -ω - x₀  + x₂⋅x₃\n",
       "x₄ = ────────────────\n",
       "         x₀ - x₂     "
      ]
     },
     "execution_count": 74,
     "metadata": {},
     "output_type": "execute_result"
    }
   ],
   "source": [
    "sm.Eq(*substitutions[4])"
   ]
  },
  {
   "cell_type": "code",
   "execution_count": 75,
   "id": "aeb0fff4",
   "metadata": {
    "execution": {
     "iopub.execute_input": "2022-07-17T09:00:52.417474Z",
     "iopub.status.busy": "2022-07-17T09:00:52.417165Z",
     "iopub.status.idle": "2022-07-17T09:00:52.425274Z",
     "shell.execute_reply": "2022-07-17T09:00:52.423879Z"
    }
   },
   "outputs": [
    {
     "data": {
      "text/latex": [
       "$\\displaystyle \\left[\\begin{matrix}x_{1} \\left(- x_{3} - x_{4}\\right)\\\\x_{4}\\end{matrix}\\right]$"
      ],
      "text/plain": [
       "⎡x₁⋅(-x₃ - x₄)⎤\n",
       "⎢             ⎥\n",
       "⎣     x₄      ⎦"
      ]
     },
     "execution_count": 75,
     "metadata": {},
     "output_type": "execute_result"
    }
   ],
   "source": [
    "simplified[0]"
   ]
  }
 ],
 "metadata": {
  "kernelspec": {
   "display_name": "Python 3 (ipykernel)",
   "language": "python",
   "name": "python3"
  },
  "language_info": {
   "codemirror_mode": {
    "name": "ipython",
    "version": 3
   },
   "file_extension": ".py",
   "mimetype": "text/x-python",
   "name": "python",
   "nbconvert_exporter": "python",
   "pygments_lexer": "ipython3",
   "version": "3.9.13"
  }
 },
 "nbformat": 4,
 "nbformat_minor": 5
}