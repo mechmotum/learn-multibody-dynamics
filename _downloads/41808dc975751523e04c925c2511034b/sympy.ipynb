{
 "cells": [
  {
   "cell_type": "code",
   "execution_count": 1,
   "id": "d3fc7ca8",
   "metadata": {
    "execution": {
     "iopub.execute_input": "2022-06-25T07:09:50.509753Z",
     "iopub.status.busy": "2022-06-25T07:09:50.509281Z",
     "iopub.status.idle": "2022-06-25T07:09:50.792638Z",
     "shell.execute_reply": "2022-06-25T07:09:50.791918Z"
    }
   },
   "outputs": [],
   "source": [
    "import sympy as sm"
   ]
  },
  {
   "cell_type": "code",
   "execution_count": 2,
   "id": "15a47da4",
   "metadata": {
    "execution": {
     "iopub.execute_input": "2022-06-25T07:09:50.795865Z",
     "iopub.status.busy": "2022-06-25T07:09:50.795581Z",
     "iopub.status.idle": "2022-06-25T07:09:50.802844Z",
     "shell.execute_reply": "2022-06-25T07:09:50.801739Z"
    }
   },
   "outputs": [],
   "source": [
    "sm.init_printing(use_latex='mathjax')"
   ]
  },
  {
   "cell_type": "code",
   "execution_count": 3,
   "id": "cd0fe1e8",
   "metadata": {
    "execution": {
     "iopub.execute_input": "2022-06-25T07:09:50.805230Z",
     "iopub.status.busy": "2022-06-25T07:09:50.805026Z",
     "iopub.status.idle": "2022-06-25T07:09:50.810530Z",
     "shell.execute_reply": "2022-06-25T07:09:50.809957Z"
    }
   },
   "outputs": [
    {
     "data": {
      "text/latex": [
       "$\\displaystyle a$"
      ],
      "text/plain": [
       "a"
      ]
     },
     "execution_count": 3,
     "metadata": {},
     "output_type": "execute_result"
    }
   ],
   "source": [
    "a = sm.symbols('a')\n",
    "a"
   ]
  },
  {
   "cell_type": "code",
   "execution_count": 4,
   "id": "e67b4eeb",
   "metadata": {
    "execution": {
     "iopub.execute_input": "2022-06-25T07:09:50.813884Z",
     "iopub.status.busy": "2022-06-25T07:09:50.813682Z",
     "iopub.status.idle": "2022-06-25T07:09:50.817316Z",
     "shell.execute_reply": "2022-06-25T07:09:50.816743Z"
    }
   },
   "outputs": [
    {
     "data": {
      "text/plain": [
       "sympy.core.symbol.Symbol"
      ]
     },
     "execution_count": 4,
     "metadata": {},
     "output_type": "execute_result"
    }
   ],
   "source": [
    "type(a)"
   ]
  },
  {
   "cell_type": "code",
   "execution_count": 5,
   "id": "ad1b8096",
   "metadata": {
    "execution": {
     "iopub.execute_input": "2022-06-25T07:09:50.820129Z",
     "iopub.status.busy": "2022-06-25T07:09:50.819930Z",
     "iopub.status.idle": "2022-06-25T07:09:50.824089Z",
     "shell.execute_reply": "2022-06-25T07:09:50.823525Z"
    }
   },
   "outputs": [
    {
     "data": {
      "text/latex": [
       "$\\displaystyle \\left( b, \\  t, \\  \\omega\\right)$"
      ],
      "text/plain": [
       "(b, t, ω)"
      ]
     },
     "execution_count": 5,
     "metadata": {},
     "output_type": "execute_result"
    }
   ],
   "source": [
    "b, t, omega = sm.symbols('b, t, omega')\n",
    "b, t, omega"
   ]
  },
  {
   "cell_type": "code",
   "execution_count": 6,
   "id": "b9bdd8a0",
   "metadata": {
    "execution": {
     "iopub.execute_input": "2022-06-25T07:09:50.826935Z",
     "iopub.status.busy": "2022-06-25T07:09:50.826735Z",
     "iopub.status.idle": "2022-06-25T07:09:50.831563Z",
     "shell.execute_reply": "2022-06-25T07:09:50.830993Z"
    }
   },
   "outputs": [
    {
     "data": {
      "text/latex": [
       "$\\displaystyle \\left( \\alpha_{1}, \\  \\omega_{2}\\right)$"
      ],
      "text/plain": [
       "(α₁, ω₂)"
      ]
     },
     "execution_count": 6,
     "metadata": {},
     "output_type": "execute_result"
    }
   ],
   "source": [
    "pivot_angle, w2 = sm.symbols('alpha1, omega2')\n",
    "pivot_angle, w2"
   ]
  },
  {
   "cell_type": "code",
   "execution_count": 7,
   "id": "a600fd74",
   "metadata": {
    "execution": {
     "iopub.execute_input": "2022-06-25T07:09:50.834409Z",
     "iopub.status.busy": "2022-06-25T07:09:50.834209Z",
     "iopub.status.idle": "2022-06-25T07:09:50.838236Z",
     "shell.execute_reply": "2022-06-25T07:09:50.837658Z"
    }
   },
   "outputs": [
    {
     "data": {
      "text/plain": [
       "f"
      ]
     },
     "execution_count": 7,
     "metadata": {},
     "output_type": "execute_result"
    }
   ],
   "source": [
    "f = sm.Function('f')\n",
    "f"
   ]
  },
  {
   "cell_type": "code",
   "execution_count": 8,
   "id": "9fc0a3dc",
   "metadata": {
    "execution": {
     "iopub.execute_input": "2022-06-25T07:09:50.841091Z",
     "iopub.status.busy": "2022-06-25T07:09:50.840605Z",
     "iopub.status.idle": "2022-06-25T07:09:50.844354Z",
     "shell.execute_reply": "2022-06-25T07:09:50.843787Z"
    }
   },
   "outputs": [
    {
     "data": {
      "text/plain": [
       "sympy.core.function.UndefinedFunction"
      ]
     },
     "execution_count": 8,
     "metadata": {},
     "output_type": "execute_result"
    }
   ],
   "source": [
    "type(f)"
   ]
  },
  {
   "cell_type": "code",
   "execution_count": 9,
   "id": "6661192b",
   "metadata": {
    "execution": {
     "iopub.execute_input": "2022-06-25T07:09:50.846778Z",
     "iopub.status.busy": "2022-06-25T07:09:50.846311Z",
     "iopub.status.idle": "2022-06-25T07:09:50.850632Z",
     "shell.execute_reply": "2022-06-25T07:09:50.850059Z"
    }
   },
   "outputs": [
    {
     "data": {
      "text/latex": [
       "$\\displaystyle f{\\left(t \\right)}$"
      ],
      "text/plain": [
       "f(t)"
      ]
     },
     "execution_count": 9,
     "metadata": {},
     "output_type": "execute_result"
    }
   ],
   "source": [
    "f(t)"
   ]
  },
  {
   "cell_type": "code",
   "execution_count": 10,
   "id": "e048f081",
   "metadata": {
    "execution": {
     "iopub.execute_input": "2022-06-25T07:09:50.853375Z",
     "iopub.status.busy": "2022-06-25T07:09:50.852992Z",
     "iopub.status.idle": "2022-06-25T07:09:50.856804Z",
     "shell.execute_reply": "2022-06-25T07:09:50.856231Z"
    }
   },
   "outputs": [
    {
     "data": {
      "text/plain": [
       "f"
      ]
     },
     "execution_count": 10,
     "metadata": {},
     "output_type": "execute_result"
    }
   ],
   "source": [
    "type(f(t))"
   ]
  },
  {
   "cell_type": "code",
   "execution_count": 11,
   "id": "3613d300",
   "metadata": {
    "execution": {
     "iopub.execute_input": "2022-06-25T07:09:50.859603Z",
     "iopub.status.busy": "2022-06-25T07:09:50.859138Z",
     "iopub.status.idle": "2022-06-25T07:09:50.863827Z",
     "shell.execute_reply": "2022-06-25T07:09:50.863253Z"
    }
   },
   "outputs": [
    {
     "data": {
      "text/latex": [
       "$\\displaystyle f{\\left(a,b,\\omega,t \\right)}$"
      ],
      "text/plain": [
       "f(a, b, ω, t)"
      ]
     },
     "execution_count": 11,
     "metadata": {},
     "output_type": "execute_result"
    }
   ],
   "source": [
    "f(a, b, omega, t)"
   ]
  },
  {
   "cell_type": "code",
   "execution_count": 12,
   "id": "9087bdea",
   "metadata": {
    "execution": {
     "iopub.execute_input": "2022-06-25T07:09:50.866637Z",
     "iopub.status.busy": "2022-06-25T07:09:50.866173Z",
     "iopub.status.idle": "2022-06-25T07:09:51.043021Z",
     "shell.execute_reply": "2022-06-25T07:09:51.042342Z"
    }
   },
   "outputs": [
    {
     "data": {
      "text/latex": [
       "$\\displaystyle a + \\frac{b}{\\omega^{2}}$"
      ],
      "text/plain": [
       "    b \n",
       "a + ──\n",
       "     2\n",
       "    ω "
      ]
     },
     "execution_count": 12,
     "metadata": {},
     "output_type": "execute_result"
    }
   ],
   "source": [
    "expr1 = a + b/omega**2\n",
    "expr1"
   ]
  },
  {
   "cell_type": "code",
   "execution_count": 13,
   "id": "30d1f13e",
   "metadata": {
    "execution": {
     "iopub.execute_input": "2022-06-25T07:09:51.045912Z",
     "iopub.status.busy": "2022-06-25T07:09:51.045565Z",
     "iopub.status.idle": "2022-06-25T07:09:51.049735Z",
     "shell.execute_reply": "2022-06-25T07:09:51.049152Z"
    }
   },
   "outputs": [
    {
     "data": {
      "text/plain": [
       "sympy.core.add.Add"
      ]
     },
     "execution_count": 13,
     "metadata": {},
     "output_type": "execute_result"
    }
   ],
   "source": [
    "type(expr1)"
   ]
  },
  {
   "cell_type": "code",
   "execution_count": 14,
   "id": "0792bd61",
   "metadata": {
    "execution": {
     "iopub.execute_input": "2022-06-25T07:09:51.052806Z",
     "iopub.status.busy": "2022-06-25T07:09:51.052315Z",
     "iopub.status.idle": "2022-06-25T07:09:51.056582Z",
     "shell.execute_reply": "2022-06-25T07:09:51.055993Z"
    }
   },
   "outputs": [
    {
     "data": {
      "text/plain": [
       "\"Add(Symbol('a'), Mul(Symbol('b'), Pow(Symbol('omega'), Integer(-2))))\""
      ]
     },
     "execution_count": 14,
     "metadata": {},
     "output_type": "execute_result"
    }
   ],
   "source": [
    "sm.srepr(expr1)"
   ]
  },
  {
   "cell_type": "code",
   "execution_count": 15,
   "id": "96cd7c74",
   "metadata": {
    "execution": {
     "iopub.execute_input": "2022-06-25T07:09:51.059554Z",
     "iopub.status.busy": "2022-06-25T07:09:51.059012Z",
     "iopub.status.idle": "2022-06-25T07:09:51.064415Z",
     "shell.execute_reply": "2022-06-25T07:09:51.063810Z"
    }
   },
   "outputs": [
    {
     "data": {
      "text/latex": [
       "$\\displaystyle a \\omega + f{\\left(t \\right)}$"
      ],
      "text/plain": [
       "a⋅ω + f(t)"
      ]
     },
     "execution_count": 15,
     "metadata": {},
     "output_type": "execute_result"
    }
   ],
   "source": [
    "expr2 = f(t) + a*omega\n",
    "expr2"
   ]
  },
  {
   "cell_type": "code",
   "execution_count": 16,
   "id": "315e0684",
   "metadata": {
    "execution": {
     "iopub.execute_input": "2022-06-25T07:09:51.066761Z",
     "iopub.status.busy": "2022-06-25T07:09:51.066446Z",
     "iopub.status.idle": "2022-06-25T07:09:51.073485Z",
     "shell.execute_reply": "2022-06-25T07:09:51.072896Z"
    }
   },
   "outputs": [
    {
     "data": {
      "text/latex": [
       "$\\displaystyle a \\sin{\\left(\\omega \\right)} + \\frac{\\left|{f{\\left(t \\right)}}\\right|}{\\sqrt{b}}$"
      ],
      "text/plain": [
       "           │f(t)│\n",
       "a⋅sin(ω) + ──────\n",
       "             √b  "
      ]
     },
     "execution_count": 16,
     "metadata": {},
     "output_type": "execute_result"
    }
   ],
   "source": [
    "expr3 = a*sm.sin(omega) + sm.Abs(f(t))/sm.sqrt(b)\n",
    "expr3"
   ]
  },
  {
   "cell_type": "code",
   "execution_count": 17,
   "id": "19eba590",
   "metadata": {
    "execution": {
     "iopub.execute_input": "2022-06-25T07:09:51.076351Z",
     "iopub.status.busy": "2022-06-25T07:09:51.075884Z",
     "iopub.status.idle": "2022-06-25T07:09:51.083986Z",
     "shell.execute_reply": "2022-06-25T07:09:51.083484Z"
    }
   },
   "outputs": [
    {
     "data": {
      "text/latex": [
       "$\\displaystyle 5 \\sin{\\left(12 \\right)} + 105.986768359379$"
      ],
      "text/plain": [
       "5⋅sin(12) + 105.986768359379"
      ]
     },
     "execution_count": 17,
     "metadata": {},
     "output_type": "execute_result"
    }
   ],
   "source": [
    "expr4 = 5*sm.sin(12) + sm.Abs(-1001)/sm.sqrt(89.2)\n",
    "expr4"
   ]
  },
  {
   "cell_type": "code",
   "execution_count": 18,
   "id": "130944f8",
   "metadata": {
    "execution": {
     "iopub.execute_input": "2022-06-25T07:09:51.086406Z",
     "iopub.status.busy": "2022-06-25T07:09:51.085936Z",
     "iopub.status.idle": "2022-06-25T07:09:51.090654Z",
     "shell.execute_reply": "2022-06-25T07:09:51.090070Z"
    }
   },
   "outputs": [
    {
     "data": {
      "text/latex": [
       "$\\displaystyle 0.5 a$"
      ],
      "text/plain": [
       "0.5⋅a"
      ]
     },
     "execution_count": 18,
     "metadata": {},
     "output_type": "execute_result"
    }
   ],
   "source": [
    "1/2*a"
   ]
  },
  {
   "cell_type": "code",
   "execution_count": 19,
   "id": "1533dde0",
   "metadata": {
    "execution": {
     "iopub.execute_input": "2022-06-25T07:09:51.093459Z",
     "iopub.status.busy": "2022-06-25T07:09:51.093075Z",
     "iopub.status.idle": "2022-06-25T07:09:51.097184Z",
     "shell.execute_reply": "2022-06-25T07:09:51.096661Z"
    }
   },
   "outputs": [
    {
     "data": {
      "text/latex": [
       "$\\displaystyle \\frac{a}{2}$"
      ],
      "text/plain": [
       "a\n",
       "─\n",
       "2"
      ]
     },
     "execution_count": 19,
     "metadata": {},
     "output_type": "execute_result"
    }
   ],
   "source": [
    "sm.S(1)/2*a"
   ]
  },
  {
   "cell_type": "code",
   "execution_count": 20,
   "id": "343363cc",
   "metadata": {
    "execution": {
     "iopub.execute_input": "2022-06-25T07:09:51.099650Z",
     "iopub.status.busy": "2022-06-25T07:09:51.099175Z",
     "iopub.status.idle": "2022-06-25T07:09:51.106392Z",
     "shell.execute_reply": "2022-06-25T07:09:51.105811Z"
    }
   },
   "outputs": [
    {
     "data": {
      "text/latex": [
       "$\\displaystyle t \\sin{\\left(\\omega f{\\left(t \\right)} \\right)} + \\frac{f{\\left(t \\right)}}{\\sqrt{t}}$"
      ],
      "text/plain": [
       "                f(t)\n",
       "t⋅sin(ω⋅f(t)) + ────\n",
       "                 √t "
      ]
     },
     "execution_count": 20,
     "metadata": {},
     "output_type": "execute_result"
    }
   ],
   "source": [
    "expr5 = t*sm.sin(omega*f(t)) + f(t)/sm.sqrt(t)\n",
    "expr5"
   ]
  },
  {
   "cell_type": "code",
   "execution_count": 21,
   "id": "544416f0",
   "metadata": {
    "execution": {
     "iopub.execute_input": "2022-06-25T07:09:51.108862Z",
     "iopub.status.busy": "2022-06-25T07:09:51.108392Z",
     "iopub.status.idle": "2022-06-25T07:09:51.112633Z",
     "shell.execute_reply": "2022-06-25T07:09:51.112049Z"
    }
   },
   "outputs": [
    {
     "data": {
      "text/plain": [
       "\"Add(Mul(Symbol('a'), sin(Symbol('omega'))), Mul(Pow(Symbol('b'), Rational(-1, 2)), Abs(Function('f')(Symbol('t')))))\""
      ]
     },
     "execution_count": 21,
     "metadata": {},
     "output_type": "execute_result"
    }
   ],
   "source": [
    "sm.srepr(expr3)"
   ]
  },
  {
   "cell_type": "code",
   "execution_count": 22,
   "id": "d7943841",
   "metadata": {
    "execution": {
     "iopub.execute_input": "2022-06-25T07:09:51.115553Z",
     "iopub.status.busy": "2022-06-25T07:09:51.115027Z",
     "iopub.status.idle": "2022-06-25T07:09:51.119242Z",
     "shell.execute_reply": "2022-06-25T07:09:51.118673Z"
    }
   },
   "outputs": [
    {
     "data": {
      "text/plain": [
       "'a*sin(omega) + Abs(f(t))/sqrt(b)'"
      ]
     },
     "execution_count": 22,
     "metadata": {},
     "output_type": "execute_result"
    }
   ],
   "source": [
    "repr(expr3)"
   ]
  },
  {
   "cell_type": "code",
   "execution_count": 23,
   "id": "93645845",
   "metadata": {
    "execution": {
     "iopub.execute_input": "2022-06-25T07:09:51.121638Z",
     "iopub.status.busy": "2022-06-25T07:09:51.121172Z",
     "iopub.status.idle": "2022-06-25T07:09:51.124827Z",
     "shell.execute_reply": "2022-06-25T07:09:51.124223Z"
    }
   },
   "outputs": [
    {
     "name": "stdout",
     "output_type": "stream",
     "text": [
      "a*sin(omega) + Abs(f(t))/sqrt(b)\n"
     ]
    }
   ],
   "source": [
    "print(expr3)"
   ]
  },
  {
   "cell_type": "code",
   "execution_count": 24,
   "id": "976fe12a",
   "metadata": {
    "execution": {
     "iopub.execute_input": "2022-06-25T07:09:51.128005Z",
     "iopub.status.busy": "2022-06-25T07:09:51.127477Z",
     "iopub.status.idle": "2022-06-25T07:09:51.131466Z",
     "shell.execute_reply": "2022-06-25T07:09:51.130873Z"
    }
   },
   "outputs": [
    {
     "name": "stdout",
     "output_type": "stream",
     "text": [
      "           │f(t)│\n",
      "a⋅sin(ω) + ──────\n",
      "             √b  \n"
     ]
    }
   ],
   "source": [
    "sm.pprint(expr3)"
   ]
  },
  {
   "cell_type": "code",
   "execution_count": 25,
   "id": "53da537f",
   "metadata": {
    "execution": {
     "iopub.execute_input": "2022-06-25T07:09:51.134157Z",
     "iopub.status.busy": "2022-06-25T07:09:51.133626Z",
     "iopub.status.idle": "2022-06-25T07:09:51.137957Z",
     "shell.execute_reply": "2022-06-25T07:09:51.137374Z"
    }
   },
   "outputs": [
    {
     "data": {
      "text/plain": [
       "'a \\\\sin{\\\\left(\\\\omega \\\\right)} + \\\\frac{\\\\left|{f{\\\\left(t \\\\right)}}\\\\right|}{\\\\sqrt{b}}'"
      ]
     },
     "execution_count": 25,
     "metadata": {},
     "output_type": "execute_result"
    }
   ],
   "source": [
    "sm.latex(expr3)"
   ]
  },
  {
   "cell_type": "code",
   "execution_count": 26,
   "id": "edde7f45",
   "metadata": {
    "execution": {
     "iopub.execute_input": "2022-06-25T07:09:51.140448Z",
     "iopub.status.busy": "2022-06-25T07:09:51.139907Z",
     "iopub.status.idle": "2022-06-25T07:09:51.143687Z",
     "shell.execute_reply": "2022-06-25T07:09:51.143091Z"
    }
   },
   "outputs": [
    {
     "name": "stdout",
     "output_type": "stream",
     "text": [
      "a \\sin{\\left(\\omega \\right)} + \\frac{\\left|{f{\\left(t \\right)}}\\right|}{\\sqrt{b}}\n"
     ]
    }
   ],
   "source": [
    "print(sm.latex(expr3))"
   ]
  },
  {
   "cell_type": "code",
   "execution_count": 27,
   "id": "3ec57fb9",
   "metadata": {
    "execution": {
     "iopub.execute_input": "2022-06-25T07:09:51.146292Z",
     "iopub.status.busy": "2022-06-25T07:09:51.145764Z",
     "iopub.status.idle": "2022-06-25T07:09:51.150817Z",
     "shell.execute_reply": "2022-06-25T07:09:51.150244Z"
    }
   },
   "outputs": [
    {
     "data": {
      "text/latex": [
       "$\\displaystyle \\frac{d}{d t} f{\\left(t \\right)}$"
      ],
      "text/plain": [
       "d       \n",
       "──(f(t))\n",
       "dt      "
      ]
     },
     "execution_count": 27,
     "metadata": {},
     "output_type": "execute_result"
    }
   ],
   "source": [
    "sm.diff(f(t), t)"
   ]
  },
  {
   "cell_type": "code",
   "execution_count": 28,
   "id": "9eefe04e",
   "metadata": {
    "execution": {
     "iopub.execute_input": "2022-06-25T07:09:51.153308Z",
     "iopub.status.busy": "2022-06-25T07:09:51.152780Z",
     "iopub.status.idle": "2022-06-25T07:09:51.157475Z",
     "shell.execute_reply": "2022-06-25T07:09:51.156890Z"
    }
   },
   "outputs": [
    {
     "data": {
      "text/latex": [
       "$\\displaystyle \\frac{d}{d t} f{\\left(t \\right)}$"
      ],
      "text/plain": [
       "d       \n",
       "──(f(t))\n",
       "dt      "
      ]
     },
     "execution_count": 28,
     "metadata": {},
     "output_type": "execute_result"
    }
   ],
   "source": [
    "f(t).diff(t)"
   ]
  },
  {
   "cell_type": "code",
   "execution_count": 29,
   "id": "3b565a91",
   "metadata": {
    "execution": {
     "iopub.execute_input": "2022-06-25T07:09:51.159851Z",
     "iopub.status.busy": "2022-06-25T07:09:51.159391Z",
     "iopub.status.idle": "2022-06-25T07:09:51.164349Z",
     "shell.execute_reply": "2022-06-25T07:09:51.163769Z"
    }
   },
   "outputs": [
    {
     "data": {
      "text/latex": [
       "$\\displaystyle a \\sin{\\left(\\omega \\right)} + \\frac{\\left|{f{\\left(t \\right)}}\\right|}{\\sqrt{b}}$"
      ],
      "text/plain": [
       "           │f(t)│\n",
       "a⋅sin(ω) + ──────\n",
       "             √b  "
      ]
     },
     "execution_count": 29,
     "metadata": {},
     "output_type": "execute_result"
    }
   ],
   "source": [
    "expr3"
   ]
  },
  {
   "cell_type": "code",
   "execution_count": 30,
   "id": "105e047b",
   "metadata": {
    "execution": {
     "iopub.execute_input": "2022-06-25T07:09:51.167280Z",
     "iopub.status.busy": "2022-06-25T07:09:51.166747Z",
     "iopub.status.idle": "2022-06-25T07:09:51.175914Z",
     "shell.execute_reply": "2022-06-25T07:09:51.175321Z"
    }
   },
   "outputs": [
    {
     "data": {
      "text/latex": [
       "$\\displaystyle - \\frac{\\left|{f{\\left(t \\right)}}\\right|}{2 b^{\\frac{3}{2}}}$"
      ],
      "text/plain": [
       "-│f(t)│ \n",
       "────────\n",
       "    3/2 \n",
       " 2⋅b    "
      ]
     },
     "execution_count": 30,
     "metadata": {},
     "output_type": "execute_result"
    }
   ],
   "source": [
    "expr3.diff(b)"
   ]
  },
  {
   "cell_type": "code",
   "execution_count": 31,
   "id": "9ea01bf7",
   "metadata": {
    "execution": {
     "iopub.execute_input": "2022-06-25T07:09:51.178380Z",
     "iopub.status.busy": "2022-06-25T07:09:51.177903Z",
     "iopub.status.idle": "2022-06-25T07:09:51.197457Z",
     "shell.execute_reply": "2022-06-25T07:09:51.196885Z"
    }
   },
   "outputs": [
    {
     "data": {
      "text/latex": [
       "$\\displaystyle - \\frac{\\left(\\operatorname{re}{\\left(f{\\left(t \\right)}\\right)} \\frac{d}{d t} \\operatorname{re}{\\left(f{\\left(t \\right)}\\right)} + \\operatorname{im}{\\left(f{\\left(t \\right)}\\right)} \\frac{d}{d t} \\operatorname{im}{\\left(f{\\left(t \\right)}\\right)}\\right) \\operatorname{sign}{\\left(f{\\left(t \\right)} \\right)}}{2 b^{\\frac{3}{2}} f{\\left(t \\right)}}$"
      ],
      "text/plain": [
       " ⎛         d                       d           ⎞            \n",
       "-⎜re(f(t))⋅──(re(f(t))) + im(f(t))⋅──(im(f(t)))⎟⋅sign(f(t)) \n",
       " ⎝         dt                      dt          ⎠            \n",
       "────────────────────────────────────────────────────────────\n",
       "                           3/2                              \n",
       "                        2⋅b   ⋅f(t)                         "
      ]
     },
     "execution_count": 31,
     "metadata": {},
     "output_type": "execute_result"
    }
   ],
   "source": [
    "expr3.diff(b, t)"
   ]
  },
  {
   "cell_type": "code",
   "execution_count": 32,
   "id": "6e258613",
   "metadata": {
    "execution": {
     "iopub.execute_input": "2022-06-25T07:09:51.199899Z",
     "iopub.status.busy": "2022-06-25T07:09:51.199375Z",
     "iopub.status.idle": "2022-06-25T07:09:51.215825Z",
     "shell.execute_reply": "2022-06-25T07:09:51.215247Z"
    }
   },
   "outputs": [
    {
     "data": {
      "text/latex": [
       "$\\displaystyle \\frac{\\left(\\operatorname{re}{\\left(h{\\left(t \\right)}\\right)} \\frac{d}{d t} \\operatorname{re}{\\left(h{\\left(t \\right)}\\right)} + \\operatorname{im}{\\left(h{\\left(t \\right)}\\right)} \\frac{d}{d t} \\operatorname{im}{\\left(h{\\left(t \\right)}\\right)}\\right) \\operatorname{sign}{\\left(h{\\left(t \\right)} \\right)}}{h{\\left(t \\right)}}$"
      ],
      "text/plain": [
       "⎛         d                       d           ⎞           \n",
       "⎜re(h(t))⋅──(re(h(t))) + im(h(t))⋅──(im(h(t)))⎟⋅sign(h(t))\n",
       "⎝         dt                      dt          ⎠           \n",
       "──────────────────────────────────────────────────────────\n",
       "                           h(t)                           "
      ]
     },
     "execution_count": 32,
     "metadata": {},
     "output_type": "execute_result"
    }
   ],
   "source": [
    "h = sm.Function('h')\n",
    "sm.Abs(h(t)).diff(t)"
   ]
  },
  {
   "cell_type": "code",
   "execution_count": 33,
   "id": "eb7d3fca",
   "metadata": {
    "execution": {
     "iopub.execute_input": "2022-06-25T07:09:51.218211Z",
     "iopub.status.busy": "2022-06-25T07:09:51.217743Z",
     "iopub.status.idle": "2022-06-25T07:09:51.225798Z",
     "shell.execute_reply": "2022-06-25T07:09:51.225194Z"
    }
   },
   "outputs": [
    {
     "data": {
      "text/latex": [
       "$\\displaystyle \\operatorname{sign}{\\left(h{\\left(t \\right)} \\right)} \\frac{d}{d t} h{\\left(t \\right)}$"
      ],
      "text/plain": [
       "           d       \n",
       "sign(h(t))⋅──(h(t))\n",
       "           dt      "
      ]
     },
     "execution_count": 33,
     "metadata": {},
     "output_type": "execute_result"
    }
   ],
   "source": [
    "h = sm.Function('h', real=True)\n",
    "sm.Abs(h(t)).diff(t)"
   ]
  },
  {
   "cell_type": "code",
   "execution_count": 34,
   "id": "6e683f99",
   "metadata": {
    "execution": {
     "iopub.execute_input": "2022-06-25T07:09:51.228469Z",
     "iopub.status.busy": "2022-06-25T07:09:51.228152Z",
     "iopub.status.idle": "2022-06-25T07:09:51.233790Z",
     "shell.execute_reply": "2022-06-25T07:09:51.233218Z"
    }
   },
   "outputs": [
    {
     "data": {
      "text/latex": [
       "$\\displaystyle \\frac{d}{d t} h{\\left(t \\right)}$"
      ],
      "text/plain": [
       "d       \n",
       "──(h(t))\n",
       "dt      "
      ]
     },
     "execution_count": 34,
     "metadata": {},
     "output_type": "execute_result"
    }
   ],
   "source": [
    "h = sm.Function('h', real=True, positive=True)\n",
    "sm.Abs(h(t)).diff(t)"
   ]
  },
  {
   "cell_type": "code",
   "execution_count": 35,
   "id": "d4284527",
   "metadata": {
    "execution": {
     "iopub.execute_input": "2022-06-25T07:09:51.236472Z",
     "iopub.status.busy": "2022-06-25T07:09:51.236148Z",
     "iopub.status.idle": "2022-06-25T07:09:51.241371Z",
     "shell.execute_reply": "2022-06-25T07:09:51.240781Z"
    }
   },
   "outputs": [
    {
     "data": {
      "text/latex": [
       "$\\displaystyle t \\sin{\\left(\\omega f{\\left(t \\right)} \\right)} + \\frac{f{\\left(t \\right)}}{\\sqrt{t}}$"
      ],
      "text/plain": [
       "                f(t)\n",
       "t⋅sin(ω⋅f(t)) + ────\n",
       "                 √t "
      ]
     },
     "execution_count": 35,
     "metadata": {},
     "output_type": "execute_result"
    }
   ],
   "source": [
    "expr5"
   ]
  },
  {
   "cell_type": "code",
   "execution_count": 36,
   "id": "b623f952",
   "metadata": {
    "execution": {
     "iopub.execute_input": "2022-06-25T07:09:51.244275Z",
     "iopub.status.busy": "2022-06-25T07:09:51.243751Z",
     "iopub.status.idle": "2022-06-25T07:09:51.260304Z",
     "shell.execute_reply": "2022-06-25T07:09:51.259735Z"
    }
   },
   "outputs": [
    {
     "data": {
      "text/latex": [
       "$\\displaystyle \\omega t \\cos{\\left(\\omega f{\\left(t \\right)} \\right)} \\frac{d}{d t} f{\\left(t \\right)} + \\sin{\\left(\\omega f{\\left(t \\right)} \\right)} + \\frac{\\frac{d}{d t} f{\\left(t \\right)}}{\\sqrt{t}} - \\frac{f{\\left(t \\right)}}{2 t^{\\frac{3}{2}}}$"
      ],
      "text/plain": [
       "                                         d                \n",
       "                                         ──(f(t))         \n",
       "                d                        dt          f(t) \n",
       "ω⋅t⋅cos(ω⋅f(t))⋅──(f(t)) + sin(ω⋅f(t)) + ──────── - ──────\n",
       "                dt                          √t         3/2\n",
       "                                                    2⋅t   "
      ]
     },
     "execution_count": 36,
     "metadata": {},
     "output_type": "execute_result"
    }
   ],
   "source": [
    "expr5.diff(t)"
   ]
  },
  {
   "cell_type": "code",
   "execution_count": 37,
   "id": "4aa67ee5",
   "metadata": {
    "execution": {
     "iopub.execute_input": "2022-06-25T07:09:51.262596Z",
     "iopub.status.busy": "2022-06-25T07:09:51.262277Z",
     "iopub.status.idle": "2022-06-25T07:09:51.265625Z",
     "shell.execute_reply": "2022-06-25T07:09:51.265027Z"
    }
   },
   "outputs": [],
   "source": [
    "repl = {omega: sm.pi/4, a: 2, f(t): -12, b: 25}"
   ]
  },
  {
   "cell_type": "code",
   "execution_count": 38,
   "id": "32bcc8b1",
   "metadata": {
    "execution": {
     "iopub.execute_input": "2022-06-25T07:09:51.268084Z",
     "iopub.status.busy": "2022-06-25T07:09:51.267556Z",
     "iopub.status.idle": "2022-06-25T07:09:51.276183Z",
     "shell.execute_reply": "2022-06-25T07:09:51.275595Z"
    }
   },
   "outputs": [
    {
     "data": {
      "text/latex": [
       "$\\displaystyle \\sqrt{2} + \\frac{12}{5}$"
      ],
      "text/plain": [
       "√2 + 12/5"
      ]
     },
     "execution_count": 38,
     "metadata": {},
     "output_type": "execute_result"
    }
   ],
   "source": [
    "expr3.xreplace(repl)"
   ]
  },
  {
   "cell_type": "code",
   "execution_count": 39,
   "id": "2606c6fc",
   "metadata": {
    "execution": {
     "iopub.execute_input": "2022-06-25T07:09:51.278684Z",
     "iopub.status.busy": "2022-06-25T07:09:51.278132Z",
     "iopub.status.idle": "2022-06-25T07:09:51.283397Z",
     "shell.execute_reply": "2022-06-25T07:09:51.282825Z"
    }
   },
   "outputs": [
    {
     "data": {
      "text/latex": [
       "$\\displaystyle 3.81421356237309504880168872421$"
      ],
      "text/plain": [
       "3.814213562373095048801688724210"
      ]
     },
     "execution_count": 39,
     "metadata": {},
     "output_type": "execute_result"
    }
   ],
   "source": [
    "expr3.evalf(n=31, subs=repl)"
   ]
  },
  {
   "cell_type": "code",
   "execution_count": 40,
   "id": "a2085726",
   "metadata": {
    "execution": {
     "iopub.execute_input": "2022-06-25T07:09:51.285862Z",
     "iopub.status.busy": "2022-06-25T07:09:51.285396Z",
     "iopub.status.idle": "2022-06-25T07:09:51.290152Z",
     "shell.execute_reply": "2022-06-25T07:09:51.289565Z"
    }
   },
   "outputs": [
    {
     "data": {
      "text/plain": [
       "sympy.core.numbers.Float"
      ]
     },
     "execution_count": 40,
     "metadata": {},
     "output_type": "execute_result"
    }
   ],
   "source": [
    "type(expr3.evalf(n=31, subs=repl))"
   ]
  },
  {
   "cell_type": "code",
   "execution_count": 41,
   "id": "69c81223",
   "metadata": {
    "execution": {
     "iopub.execute_input": "2022-06-25T07:09:51.292990Z",
     "iopub.status.busy": "2022-06-25T07:09:51.292525Z",
     "iopub.status.idle": "2022-06-25T07:09:51.297695Z",
     "shell.execute_reply": "2022-06-25T07:09:51.297112Z"
    }
   },
   "outputs": [
    {
     "data": {
      "text/latex": [
       "$\\displaystyle 3.81421356237309504880168872420969807856967187537694807317667973799073247846210703885038753432764157273501384623091229702492483605585073721264412149709993583141322266592750559275579995050115278206057147010955997160597027453459686201472851741864088919860955232923048430871432145083976260362799525140799$"
      ],
      "text/plain": [
       "3.8142135623730950488016887242096980785696718753769480731766797379907324784621\n",
       "070388503875343276415727350138462309122970249248360558507372126441214970999358\n",
       "314132226659275055927557999505011527820605714701095599716059702745345968620147\n",
       "2851741864088919860955232923048430871432145083976260362799525140799"
      ]
     },
     "execution_count": 41,
     "metadata": {},
     "output_type": "execute_result"
    }
   ],
   "source": [
    "expr3.evalf(n=300, subs=repl)"
   ]
  },
  {
   "cell_type": "code",
   "execution_count": 42,
   "id": "11b3c232",
   "metadata": {
    "execution": {
     "iopub.execute_input": "2022-06-25T07:09:51.300489Z",
     "iopub.status.busy": "2022-06-25T07:09:51.300007Z",
     "iopub.status.idle": "2022-06-25T07:09:51.304877Z",
     "shell.execute_reply": "2022-06-25T07:09:51.304300Z"
    }
   },
   "outputs": [
    {
     "data": {
      "text/latex": [
       "$\\displaystyle 3.81421356237309$"
      ],
      "text/plain": [
       "3.814213562373095"
      ]
     },
     "execution_count": 42,
     "metadata": {},
     "output_type": "execute_result"
    }
   ],
   "source": [
    "float(expr3.evalf(n=300, subs=repl))"
   ]
  },
  {
   "cell_type": "code",
   "execution_count": 43,
   "id": "6babbda4",
   "metadata": {
    "execution": {
     "iopub.execute_input": "2022-06-25T07:09:51.307721Z",
     "iopub.status.busy": "2022-06-25T07:09:51.307252Z",
     "iopub.status.idle": "2022-06-25T07:09:51.312105Z",
     "shell.execute_reply": "2022-06-25T07:09:51.311519Z"
    }
   },
   "outputs": [
    {
     "data": {
      "text/plain": [
       "float"
      ]
     },
     "execution_count": 43,
     "metadata": {},
     "output_type": "execute_result"
    }
   ],
   "source": [
    "type(float(expr3.evalf(n=300, subs=repl)))"
   ]
  },
  {
   "cell_type": "code",
   "execution_count": 44,
   "id": "244e7acb",
   "metadata": {
    "execution": {
     "iopub.execute_input": "2022-06-25T07:09:51.315283Z",
     "iopub.status.busy": "2022-06-25T07:09:51.314756Z",
     "iopub.status.idle": "2022-06-25T07:09:51.449519Z",
     "shell.execute_reply": "2022-06-25T07:09:51.448890Z"
    }
   },
   "outputs": [],
   "source": [
    "eval_expr3 = sm.lambdify((omega, a, f(t), b), expr3)"
   ]
  },
  {
   "cell_type": "code",
   "execution_count": 45,
   "id": "12db852a",
   "metadata": {
    "execution": {
     "iopub.execute_input": "2022-06-25T07:09:51.452955Z",
     "iopub.status.busy": "2022-06-25T07:09:51.452463Z",
     "iopub.status.idle": "2022-06-25T07:09:51.458329Z",
     "shell.execute_reply": "2022-06-25T07:09:51.457233Z"
    }
   },
   "outputs": [
    {
     "name": "stdout",
     "output_type": "stream",
     "text": [
      "Help on function _lambdifygenerated:\n",
      "\n",
      "_lambdifygenerated(omega, a, _Dummy_23, b)\n",
      "    Created with lambdify. Signature:\n",
      "    \n",
      "    func(omega, a, f, b)\n",
      "    \n",
      "    Expression:\n",
      "    \n",
      "    a*sin(omega) + Abs(f(t))/sqrt(b)\n",
      "    \n",
      "    Source code:\n",
      "    \n",
      "    def _lambdifygenerated(omega, a, _Dummy_23, b):\n",
      "        return a*sin(omega) + abs(_Dummy_23)/sqrt(b)\n",
      "    \n",
      "    \n",
      "    Imported modules:\n",
      "\n"
     ]
    }
   ],
   "source": [
    "help(eval_expr3)"
   ]
  },
  {
   "cell_type": "code",
   "execution_count": 46,
   "id": "80b85e1b",
   "metadata": {
    "execution": {
     "iopub.execute_input": "2022-06-25T07:09:51.460779Z",
     "iopub.status.busy": "2022-06-25T07:09:51.460570Z",
     "iopub.status.idle": "2022-06-25T07:09:51.466526Z",
     "shell.execute_reply": "2022-06-25T07:09:51.465999Z"
    }
   },
   "outputs": [
    {
     "data": {
      "text/latex": [
       "$\\displaystyle 3.81365036221073$"
      ],
      "text/plain": [
       "3.8136503622107316"
      ]
     },
     "execution_count": 46,
     "metadata": {},
     "output_type": "execute_result"
    }
   ],
   "source": [
    "eval_expr3(3.14/4, 2, -12, 25)"
   ]
  },
  {
   "cell_type": "code",
   "execution_count": 47,
   "id": "e7088387",
   "metadata": {
    "execution": {
     "iopub.execute_input": "2022-06-25T07:09:51.469001Z",
     "iopub.status.busy": "2022-06-25T07:09:51.468680Z",
     "iopub.status.idle": "2022-06-25T07:09:51.473806Z",
     "shell.execute_reply": "2022-06-25T07:09:51.473242Z"
    }
   },
   "outputs": [
    {
     "data": {
      "text/plain": [
       "numpy.float64"
      ]
     },
     "execution_count": 47,
     "metadata": {},
     "output_type": "execute_result"
    }
   ],
   "source": [
    "type(eval_expr3(3.14/4, 2, -12, 25))"
   ]
  },
  {
   "cell_type": "code",
   "execution_count": 48,
   "id": "6990eb34",
   "metadata": {
    "execution": {
     "iopub.execute_input": "2022-06-25T07:09:51.476209Z",
     "iopub.status.busy": "2022-06-25T07:09:51.475822Z",
     "iopub.status.idle": "2022-06-25T07:09:51.481957Z",
     "shell.execute_reply": "2022-06-25T07:09:51.481375Z"
    }
   },
   "outputs": [
    {
     "data": {
      "text/latex": [
       "$\\displaystyle \\left[\\begin{matrix}a & 2 a\\\\\\frac{b}{\\omega} & f{\\left(t \\right)}\\end{matrix}\\right]$"
      ],
      "text/plain": [
       "⎡a  2⋅a ⎤\n",
       "⎢       ⎥\n",
       "⎢b      ⎥\n",
       "⎢─  f(t)⎥\n",
       "⎣ω      ⎦"
      ]
     },
     "execution_count": 48,
     "metadata": {},
     "output_type": "execute_result"
    }
   ],
   "source": [
    "mat1 = sm.Matrix([[a, 2*a], [b/omega, f(t)]])\n",
    "mat1"
   ]
  },
  {
   "cell_type": "code",
   "execution_count": 49,
   "id": "86152f0e",
   "metadata": {
    "execution": {
     "iopub.execute_input": "2022-06-25T07:09:51.484993Z",
     "iopub.status.busy": "2022-06-25T07:09:51.484595Z",
     "iopub.status.idle": "2022-06-25T07:09:51.489784Z",
     "shell.execute_reply": "2022-06-25T07:09:51.489173Z"
    }
   },
   "outputs": [
    {
     "data": {
      "text/latex": [
       "$\\displaystyle \\left[\\begin{matrix}1 & 2\\\\3 & 4\\end{matrix}\\right]$"
      ],
      "text/plain": [
       "⎡1  2⎤\n",
       "⎢    ⎥\n",
       "⎣3  4⎦"
      ]
     },
     "execution_count": 49,
     "metadata": {},
     "output_type": "execute_result"
    }
   ],
   "source": [
    "mat2 = sm.Matrix([[1, 2], [3, 4]])\n",
    "mat2"
   ]
  },
  {
   "cell_type": "code",
   "execution_count": 50,
   "id": "3b94d70b",
   "metadata": {
    "execution": {
     "iopub.execute_input": "2022-06-25T07:09:51.492744Z",
     "iopub.status.busy": "2022-06-25T07:09:51.492337Z",
     "iopub.status.idle": "2022-06-25T07:09:51.496268Z",
     "shell.execute_reply": "2022-06-25T07:09:51.495681Z"
    }
   },
   "outputs": [
    {
     "data": {
      "text/latex": [
       "$\\displaystyle \\left( 2, \\  2\\right)$"
      ],
      "text/plain": [
       "(2, 2)"
      ]
     },
     "execution_count": 50,
     "metadata": {},
     "output_type": "execute_result"
    }
   ],
   "source": [
    "mat1.shape"
   ]
  },
  {
   "cell_type": "code",
   "execution_count": 51,
   "id": "66af8bf8",
   "metadata": {
    "execution": {
     "iopub.execute_input": "2022-06-25T07:09:51.499306Z",
     "iopub.status.busy": "2022-06-25T07:09:51.498769Z",
     "iopub.status.idle": "2022-06-25T07:09:51.503087Z",
     "shell.execute_reply": "2022-06-25T07:09:51.502505Z"
    }
   },
   "outputs": [
    {
     "data": {
      "text/latex": [
       "$\\displaystyle 2 a$"
      ],
      "text/plain": [
       "2⋅a"
      ]
     },
     "execution_count": 51,
     "metadata": {},
     "output_type": "execute_result"
    }
   ],
   "source": [
    "mat1[0, 1]"
   ]
  },
  {
   "cell_type": "code",
   "execution_count": 52,
   "id": "2c84392c",
   "metadata": {
    "execution": {
     "iopub.execute_input": "2022-06-25T07:09:51.505544Z",
     "iopub.status.busy": "2022-06-25T07:09:51.505073Z",
     "iopub.status.idle": "2022-06-25T07:09:51.509802Z",
     "shell.execute_reply": "2022-06-25T07:09:51.509214Z"
    }
   },
   "outputs": [
    {
     "data": {
      "text/latex": [
       "$\\displaystyle \\left[\\begin{matrix}a & 2 a\\end{matrix}\\right]$"
      ],
      "text/plain": [
       "[a  2⋅a]"
      ]
     },
     "execution_count": 52,
     "metadata": {},
     "output_type": "execute_result"
    }
   ],
   "source": [
    "mat1[0, 0:2]"
   ]
  },
  {
   "cell_type": "code",
   "execution_count": 53,
   "id": "dd922ab9",
   "metadata": {
    "execution": {
     "iopub.execute_input": "2022-06-25T07:09:51.512701Z",
     "iopub.status.busy": "2022-06-25T07:09:51.512381Z",
     "iopub.status.idle": "2022-06-25T07:09:51.517032Z",
     "shell.execute_reply": "2022-06-25T07:09:51.516475Z"
    }
   },
   "outputs": [
    {
     "data": {
      "text/latex": [
       "$\\displaystyle \\left[\\begin{matrix}2 a\\\\f{\\left(t \\right)}\\end{matrix}\\right]$"
      ],
      "text/plain": [
       "⎡2⋅a ⎤\n",
       "⎢    ⎥\n",
       "⎣f(t)⎦"
      ]
     },
     "execution_count": 53,
     "metadata": {},
     "output_type": "execute_result"
    }
   ],
   "source": [
    "mat1[0:2, 1]"
   ]
  },
  {
   "cell_type": "code",
   "execution_count": 54,
   "id": "4c753ea4",
   "metadata": {
    "execution": {
     "iopub.execute_input": "2022-06-25T07:09:51.519502Z",
     "iopub.status.busy": "2022-06-25T07:09:51.519021Z",
     "iopub.status.idle": "2022-06-25T07:09:51.525925Z",
     "shell.execute_reply": "2022-06-25T07:09:51.525352Z"
    }
   },
   "outputs": [
    {
     "data": {
      "text/latex": [
       "$\\displaystyle \\left[\\begin{matrix}a + 1 & 2 a + 2\\\\\\frac{b}{\\omega} + 3 & f{\\left(t \\right)} + 4\\end{matrix}\\right]$"
      ],
      "text/plain": [
       "⎡a + 1  2⋅a + 2 ⎤\n",
       "⎢               ⎥\n",
       "⎢b              ⎥\n",
       "⎢─ + 3  f(t) + 4⎥\n",
       "⎣ω              ⎦"
      ]
     },
     "execution_count": 54,
     "metadata": {},
     "output_type": "execute_result"
    }
   ],
   "source": [
    "mat1 + mat2"
   ]
  },
  {
   "cell_type": "code",
   "execution_count": 55,
   "id": "456a4b8a",
   "metadata": {
    "execution": {
     "iopub.execute_input": "2022-06-25T07:09:51.528977Z",
     "iopub.status.busy": "2022-06-25T07:09:51.528446Z",
     "iopub.status.idle": "2022-06-25T07:09:51.537951Z",
     "shell.execute_reply": "2022-06-25T07:09:51.537357Z"
    }
   },
   "outputs": [
    {
     "data": {
      "text/latex": [
       "$\\displaystyle \\left[\\begin{matrix}7 a & 10 a\\\\\\frac{b}{\\omega} + 3 f{\\left(t \\right)} & \\frac{2 b}{\\omega} + 4 f{\\left(t \\right)}\\end{matrix}\\right]$"
      ],
      "text/plain": [
       "⎡   7⋅a          10⋅a    ⎤\n",
       "⎢                        ⎥\n",
       "⎢b           2⋅b         ⎥\n",
       "⎢─ + 3⋅f(t)  ─── + 4⋅f(t)⎥\n",
       "⎣ω            ω          ⎦"
      ]
     },
     "execution_count": 55,
     "metadata": {},
     "output_type": "execute_result"
    }
   ],
   "source": [
    "mat1*mat2"
   ]
  },
  {
   "cell_type": "code",
   "execution_count": 56,
   "id": "fae70881",
   "metadata": {
    "execution": {
     "iopub.execute_input": "2022-06-25T07:09:51.540411Z",
     "iopub.status.busy": "2022-06-25T07:09:51.539919Z",
     "iopub.status.idle": "2022-06-25T07:09:51.547718Z",
     "shell.execute_reply": "2022-06-25T07:09:51.547134Z"
    }
   },
   "outputs": [
    {
     "data": {
      "text/latex": [
       "$\\displaystyle \\left[\\begin{matrix}7 a & 10 a\\\\\\frac{b}{\\omega} + 3 f{\\left(t \\right)} & \\frac{2 b}{\\omega} + 4 f{\\left(t \\right)}\\end{matrix}\\right]$"
      ],
      "text/plain": [
       "⎡   7⋅a          10⋅a    ⎤\n",
       "⎢                        ⎥\n",
       "⎢b           2⋅b         ⎥\n",
       "⎢─ + 3⋅f(t)  ─── + 4⋅f(t)⎥\n",
       "⎣ω            ω          ⎦"
      ]
     },
     "execution_count": 56,
     "metadata": {},
     "output_type": "execute_result"
    }
   ],
   "source": [
    "mat1@mat2"
   ]
  },
  {
   "cell_type": "code",
   "execution_count": 57,
   "id": "92c64a19",
   "metadata": {
    "execution": {
     "iopub.execute_input": "2022-06-25T07:09:51.550561Z",
     "iopub.status.busy": "2022-06-25T07:09:51.550089Z",
     "iopub.status.idle": "2022-06-25T07:09:51.557349Z",
     "shell.execute_reply": "2022-06-25T07:09:51.556128Z"
    }
   },
   "outputs": [
    {
     "data": {
      "text/latex": [
       "$\\displaystyle \\left[\\begin{matrix}a & 4 a\\\\\\frac{3 b}{\\omega} & 4 f{\\left(t \\right)}\\end{matrix}\\right]$"
      ],
      "text/plain": [
       "⎡ a    4⋅a  ⎤\n",
       "⎢           ⎥\n",
       "⎢3⋅b        ⎥\n",
       "⎢───  4⋅f(t)⎥\n",
       "⎣ ω         ⎦"
      ]
     },
     "execution_count": 57,
     "metadata": {},
     "output_type": "execute_result"
    }
   ],
   "source": [
    "sm.hadamard_product(mat1, mat2)"
   ]
  },
  {
   "cell_type": "code",
   "execution_count": 58,
   "id": "f7fee636",
   "metadata": {
    "execution": {
     "iopub.execute_input": "2022-06-25T07:09:51.559625Z",
     "iopub.status.busy": "2022-06-25T07:09:51.559302Z",
     "iopub.status.idle": "2022-06-25T07:09:51.570711Z",
     "shell.execute_reply": "2022-06-25T07:09:51.570194Z"
    }
   },
   "outputs": [
    {
     "data": {
      "text/latex": [
       "$\\displaystyle \\left[\\begin{matrix}a + \\frac{b}{\\omega^{2}}\\\\a \\omega + f{\\left(t \\right)}\\\\a \\sin{\\left(\\omega \\right)} + \\frac{\\left|{f{\\left(t \\right)}}\\right|}{\\sqrt{b}}\\\\5 \\sin{\\left(12 \\right)} + 105.986768359379\\\\t \\sin{\\left(\\omega f{\\left(t \\right)} \\right)} + \\frac{f{\\left(t \\right)}}{\\sqrt{t}}\\end{matrix}\\right]$"
      ],
      "text/plain": [
       "⎡               b            ⎤\n",
       "⎢           a + ──           ⎥\n",
       "⎢                2           ⎥\n",
       "⎢               ω            ⎥\n",
       "⎢                            ⎥\n",
       "⎢         a⋅ω + f(t)         ⎥\n",
       "⎢                            ⎥\n",
       "⎢                │f(t)│      ⎥\n",
       "⎢     a⋅sin(ω) + ──────      ⎥\n",
       "⎢                  √b        ⎥\n",
       "⎢                            ⎥\n",
       "⎢5⋅sin(12) + 105.986768359379⎥\n",
       "⎢                            ⎥\n",
       "⎢                    f(t)    ⎥\n",
       "⎢    t⋅sin(ω⋅f(t)) + ────    ⎥\n",
       "⎣                     √t     ⎦"
      ]
     },
     "execution_count": 58,
     "metadata": {},
     "output_type": "execute_result"
    }
   ],
   "source": [
    "mat3 = sm.Matrix([expr1, expr2, expr3, expr4, expr5])\n",
    "mat3"
   ]
  },
  {
   "cell_type": "code",
   "execution_count": 59,
   "id": "23cecd0c",
   "metadata": {
    "execution": {
     "iopub.execute_input": "2022-06-25T07:09:51.573266Z",
     "iopub.status.busy": "2022-06-25T07:09:51.572962Z",
     "iopub.status.idle": "2022-06-25T07:09:51.588789Z",
     "shell.execute_reply": "2022-06-25T07:09:51.588246Z"
    }
   },
   "outputs": [
    {
     "data": {
      "text/latex": [
       "$\\displaystyle \\left[\\begin{matrix}1\\\\\\omega\\\\\\sin{\\left(\\omega \\right)}\\\\0\\\\0\\end{matrix}\\right]$"
      ],
      "text/plain": [
       "⎡  1   ⎤\n",
       "⎢      ⎥\n",
       "⎢  ω   ⎥\n",
       "⎢      ⎥\n",
       "⎢sin(ω)⎥\n",
       "⎢      ⎥\n",
       "⎢  0   ⎥\n",
       "⎢      ⎥\n",
       "⎣  0   ⎦"
      ]
     },
     "execution_count": 59,
     "metadata": {},
     "output_type": "execute_result"
    }
   ],
   "source": [
    "mat3.diff(a)"
   ]
  },
  {
   "cell_type": "code",
   "execution_count": 60,
   "id": "ddfe2ce3",
   "metadata": {
    "execution": {
     "iopub.execute_input": "2022-06-25T07:09:51.591584Z",
     "iopub.status.busy": "2022-06-25T07:09:51.591206Z",
     "iopub.status.idle": "2022-06-25T07:09:51.606463Z",
     "shell.execute_reply": "2022-06-25T07:09:51.605846Z"
    }
   },
   "outputs": [
    {
     "data": {
      "text/latex": [
       "$\\displaystyle \\left[\\begin{matrix}0\\\\\\frac{d}{d t} f{\\left(t \\right)}\\\\\\frac{\\left(\\operatorname{re}{\\left(f{\\left(t \\right)}\\right)} \\frac{d}{d t} \\operatorname{re}{\\left(f{\\left(t \\right)}\\right)} + \\operatorname{im}{\\left(f{\\left(t \\right)}\\right)} \\frac{d}{d t} \\operatorname{im}{\\left(f{\\left(t \\right)}\\right)}\\right) \\operatorname{sign}{\\left(f{\\left(t \\right)} \\right)}}{\\sqrt{b} f{\\left(t \\right)}}\\\\0\\\\\\omega t \\cos{\\left(\\omega f{\\left(t \\right)} \\right)} \\frac{d}{d t} f{\\left(t \\right)} + \\sin{\\left(\\omega f{\\left(t \\right)} \\right)} + \\frac{\\frac{d}{d t} f{\\left(t \\right)}}{\\sqrt{t}} - \\frac{f{\\left(t \\right)}}{2 t^{\\frac{3}{2}}}\\end{matrix}\\right]$"
      ],
      "text/plain": [
       "⎡                            0                             ⎤\n",
       "⎢                                                          ⎥\n",
       "⎢                         d                                ⎥\n",
       "⎢                         ──(f(t))                         ⎥\n",
       "⎢                         dt                               ⎥\n",
       "⎢                                                          ⎥\n",
       "⎢⎛         d                       d           ⎞           ⎥\n",
       "⎢⎜re(f(t))⋅──(re(f(t))) + im(f(t))⋅──(im(f(t)))⎟⋅sign(f(t))⎥\n",
       "⎢⎝         dt                      dt          ⎠           ⎥\n",
       "⎢──────────────────────────────────────────────────────────⎥\n",
       "⎢                         √b⋅f(t)                          ⎥\n",
       "⎢                                                          ⎥\n",
       "⎢                            0                             ⎥\n",
       "⎢                                                          ⎥\n",
       "⎢                                         d                ⎥\n",
       "⎢                                         ──(f(t))         ⎥\n",
       "⎢                d                        dt          f(t) ⎥\n",
       "⎢ω⋅t⋅cos(ω⋅f(t))⋅──(f(t)) + sin(ω⋅f(t)) + ──────── - ──────⎥\n",
       "⎢                dt                          √t         3/2⎥\n",
       "⎣                                                    2⋅t   ⎦"
      ]
     },
     "execution_count": 60,
     "metadata": {},
     "output_type": "execute_result"
    }
   ],
   "source": [
    "mat3.diff(t)"
   ]
  },
  {
   "cell_type": "code",
   "execution_count": 61,
   "id": "e1b8bf4b",
   "metadata": {
    "execution": {
     "iopub.execute_input": "2022-06-25T07:09:51.609109Z",
     "iopub.status.busy": "2022-06-25T07:09:51.608757Z",
     "iopub.status.idle": "2022-06-25T07:09:51.615685Z",
     "shell.execute_reply": "2022-06-25T07:09:51.615172Z"
    }
   },
   "outputs": [
    {
     "data": {
      "text/latex": [
       "$\\displaystyle \\left[\\begin{matrix}a\\\\b\\\\\\omega\\\\t\\end{matrix}\\right]$"
      ],
      "text/plain": [
       "⎡a⎤\n",
       "⎢ ⎥\n",
       "⎢b⎥\n",
       "⎢ ⎥\n",
       "⎢ω⎥\n",
       "⎢ ⎥\n",
       "⎣t⎦"
      ]
     },
     "execution_count": 61,
     "metadata": {},
     "output_type": "execute_result"
    }
   ],
   "source": [
    "mat4 = sm.Matrix([a, b, omega, t])\n",
    "mat4"
   ]
  },
  {
   "cell_type": "code",
   "execution_count": 62,
   "id": "5fabb53e",
   "metadata": {
    "execution": {
     "iopub.execute_input": "2022-06-25T07:09:51.618060Z",
     "iopub.status.busy": "2022-06-25T07:09:51.617674Z",
     "iopub.status.idle": "2022-06-25T07:09:51.642088Z",
     "shell.execute_reply": "2022-06-25T07:09:51.640965Z"
    }
   },
   "outputs": [
    {
     "data": {
      "text/latex": [
       "$\\displaystyle \\left[\\begin{matrix}1 & \\frac{1}{\\omega^{2}} & - \\frac{2 b}{\\omega^{3}} & 0\\\\\\omega & 0 & a & \\frac{d}{d t} f{\\left(t \\right)}\\\\\\sin{\\left(\\omega \\right)} & - \\frac{\\left|{f{\\left(t \\right)}}\\right|}{2 b^{\\frac{3}{2}}} & a \\cos{\\left(\\omega \\right)} & \\frac{\\left(\\operatorname{re}{\\left(f{\\left(t \\right)}\\right)} \\frac{d}{d t} \\operatorname{re}{\\left(f{\\left(t \\right)}\\right)} + \\operatorname{im}{\\left(f{\\left(t \\right)}\\right)} \\frac{d}{d t} \\operatorname{im}{\\left(f{\\left(t \\right)}\\right)}\\right) \\operatorname{sign}{\\left(f{\\left(t \\right)} \\right)}}{\\sqrt{b} f{\\left(t \\right)}}\\\\0 & 0 & 0 & 0\\\\0 & 0 & t f{\\left(t \\right)} \\cos{\\left(\\omega f{\\left(t \\right)} \\right)} & \\omega t \\cos{\\left(\\omega f{\\left(t \\right)} \\right)} \\frac{d}{d t} f{\\left(t \\right)} + \\sin{\\left(\\omega f{\\left(t \\right)} \\right)} + \\frac{\\frac{d}{d t} f{\\left(t \\right)}}{\\sqrt{t}} - \\frac{f{\\left(t \\right)}}{2 t^{\\frac{3}{2}}}\\end{matrix}\\right]$"
      ],
      "text/plain": [
       "⎡           1            -2⋅b                                                 \n",
       "⎢  1        ──           ─────                                     0          \n",
       "⎢            2              3                                                 \n",
       "⎢           ω              ω                                                  \n",
       "⎢                                                                             \n",
       "⎢                                                               d             \n",
       "⎢  ω        0              a                                    ──(f(t))      \n",
       "⎢                                                               dt            \n",
       "⎢                                                                             \n",
       "⎢                                      ⎛         d                       d    \n",
       "⎢                                      ⎜re(f(t))⋅──(re(f(t))) + im(f(t))⋅──(im\n",
       "⎢        -│f(t)│                       ⎝         dt                      dt   \n",
       "⎢sin(ω)  ────────       a⋅cos(ω)       ───────────────────────────────────────\n",
       "⎢            3/2                                                √b⋅f(t)       \n",
       "⎢         2⋅b                                                                 \n",
       "⎢                                                                             \n",
       "⎢  0        0              0                                       0          \n",
       "⎢                                                                             \n",
       "⎢                                                                             \n",
       "⎢                                                                             \n",
       "⎢                                                      d                      \n",
       "⎢  0        0      t⋅f(t)⋅cos(ω⋅f(t))  ω⋅t⋅cos(ω⋅f(t))⋅──(f(t)) + sin(ω⋅f(t)) \n",
       "⎢                                                      dt                     \n",
       "⎣                                                                             \n",
       "\n",
       "                   ⎤\n",
       "                   ⎥\n",
       "                   ⎥\n",
       "                   ⎥\n",
       "                   ⎥\n",
       "                   ⎥\n",
       "                   ⎥\n",
       "                   ⎥\n",
       "                   ⎥\n",
       "       ⎞           ⎥\n",
       "(f(t)))⎟⋅sign(f(t))⎥\n",
       "       ⎠           ⎥\n",
       "───────────────────⎥\n",
       "                   ⎥\n",
       "                   ⎥\n",
       "                   ⎥\n",
       "                   ⎥\n",
       "                   ⎥\n",
       "  d                ⎥\n",
       "  ──(f(t))         ⎥\n",
       "  dt          f(t) ⎥\n",
       "+ ──────── - ──────⎥\n",
       "     √t         3/2⎥\n",
       "             2⋅t   ⎦"
      ]
     },
     "execution_count": 62,
     "metadata": {},
     "output_type": "execute_result"
    }
   ],
   "source": [
    "mat3.jacobian(mat4)"
   ]
  },
  {
   "cell_type": "code",
   "execution_count": 63,
   "id": "47b63591",
   "metadata": {
    "execution": {
     "iopub.execute_input": "2022-06-25T07:09:51.644353Z",
     "iopub.status.busy": "2022-06-25T07:09:51.644037Z",
     "iopub.status.idle": "2022-06-25T07:09:51.663219Z",
     "shell.execute_reply": "2022-06-25T07:09:51.661962Z"
    }
   },
   "outputs": [
    {
     "data": {
      "text/latex": [
       "$\\displaystyle \\left[\\begin{matrix}a_{1} \\sin{\\left(f{\\left(t \\right)} \\right)} \\cos{\\left(2 f{\\left(t \\right)} \\right)} + a_{2} + \\frac{\\omega \\log{\\left(t \\right)}}{\\log{\\left(f{\\left(t \\right)} \\right)}} + 100\\\\a_{1} \\omega^{2} + a_{2} f{\\left(t \\right)} + \\omega + f^{3}{\\left(t \\right)}\\end{matrix}\\right]$"
      ],
      "text/plain": [
       "⎡                                 ω⋅log(t)      ⎤\n",
       "⎢a₁⋅sin(f(t))⋅cos(2⋅f(t)) + a₂ + ───────── + 100⎥\n",
       "⎢                                log(f(t))      ⎥\n",
       "⎢                                               ⎥\n",
       "⎢              2                  3             ⎥\n",
       "⎣          a₁⋅ω  + a₂⋅f(t) + ω + f (t)          ⎦"
      ]
     },
     "execution_count": 63,
     "metadata": {},
     "output_type": "execute_result"
    }
   ],
   "source": [
    "a1, a2 = sm.symbols('a1, a2')\n",
    "\n",
    "exprs = sm.Matrix([\n",
    "    [a1*sm.sin(f(t))*sm.cos(2*f(t)) + a2 + omega/sm.log(f(t), t) + 100],\n",
    "    [a1*omega**2 + f(t)*a2 + omega + f(t)**3],\n",
    "])\n",
    "exprs"
   ]
  },
  {
   "cell_type": "code",
   "execution_count": 64,
   "id": "f32f1354",
   "metadata": {
    "execution": {
     "iopub.execute_input": "2022-06-25T07:09:51.665961Z",
     "iopub.status.busy": "2022-06-25T07:09:51.665473Z",
     "iopub.status.idle": "2022-06-25T07:09:51.677161Z",
     "shell.execute_reply": "2022-06-25T07:09:51.675790Z"
    }
   },
   "outputs": [
    {
     "data": {
      "text/latex": [
       "$\\displaystyle \\left[\\begin{matrix}\\sin{\\left(f{\\left(t \\right)} \\right)} \\cos{\\left(2 f{\\left(t \\right)} \\right)} & 1\\\\\\omega^{2} & f{\\left(t \\right)}\\end{matrix}\\right]$"
      ],
      "text/plain": [
       "⎡sin(f(t))⋅cos(2⋅f(t))   1  ⎤\n",
       "⎢                           ⎥\n",
       "⎢          2                ⎥\n",
       "⎣         ω             f(t)⎦"
      ]
     },
     "execution_count": 64,
     "metadata": {},
     "output_type": "execute_result"
    }
   ],
   "source": [
    "A = exprs.jacobian([a1, a2])\n",
    "A"
   ]
  },
  {
   "cell_type": "code",
   "execution_count": 65,
   "id": "822c0772",
   "metadata": {
    "execution": {
     "iopub.execute_input": "2022-06-25T07:09:51.679820Z",
     "iopub.status.busy": "2022-06-25T07:09:51.679384Z",
     "iopub.status.idle": "2022-06-25T07:09:51.688192Z",
     "shell.execute_reply": "2022-06-25T07:09:51.687691Z"
    }
   },
   "outputs": [
    {
     "data": {
      "text/latex": [
       "$\\displaystyle \\left[\\begin{matrix}- \\frac{\\omega \\log{\\left(t \\right)}}{\\log{\\left(f{\\left(t \\right)} \\right)}} - 100\\\\- \\omega - f^{3}{\\left(t \\right)}\\end{matrix}\\right]$"
      ],
      "text/plain": [
       "⎡   ω⋅log(t)      ⎤\n",
       "⎢- ───────── - 100⎥\n",
       "⎢  log(f(t))      ⎥\n",
       "⎢                 ⎥\n",
       "⎢         3       ⎥\n",
       "⎣   -ω - f (t)    ⎦"
      ]
     },
     "execution_count": 65,
     "metadata": {},
     "output_type": "execute_result"
    }
   ],
   "source": [
    "b = -exprs.xreplace({a1: 0, a2:0})\n",
    "b"
   ]
  },
  {
   "cell_type": "code",
   "execution_count": 66,
   "id": "70f94d61",
   "metadata": {
    "execution": {
     "iopub.execute_input": "2022-06-25T07:09:51.690884Z",
     "iopub.status.busy": "2022-06-25T07:09:51.690435Z",
     "iopub.status.idle": "2022-06-25T07:09:51.721724Z",
     "shell.execute_reply": "2022-06-25T07:09:51.721127Z"
    }
   },
   "outputs": [
    {
     "data": {
      "text/latex": [
       "$\\displaystyle \\left[\\begin{matrix}\\frac{- \\frac{\\omega \\log{\\left(t \\right)}}{\\log{\\left(f{\\left(t \\right)} \\right)}} - 100 - \\frac{- \\frac{\\omega^{2} \\left(- \\frac{\\omega \\log{\\left(t \\right)}}{\\log{\\left(f{\\left(t \\right)} \\right)}} - 100\\right)}{\\sin{\\left(f{\\left(t \\right)} \\right)} \\cos{\\left(2 f{\\left(t \\right)} \\right)}} - \\omega - f^{3}{\\left(t \\right)}}{- \\frac{\\omega^{2}}{\\sin{\\left(f{\\left(t \\right)} \\right)} \\cos{\\left(2 f{\\left(t \\right)} \\right)}} + f{\\left(t \\right)}}}{\\sin{\\left(f{\\left(t \\right)} \\right)} \\cos{\\left(2 f{\\left(t \\right)} \\right)}}\\\\\\frac{- \\frac{\\omega^{2} \\left(- \\frac{\\omega \\log{\\left(t \\right)}}{\\log{\\left(f{\\left(t \\right)} \\right)}} - 100\\right)}{\\sin{\\left(f{\\left(t \\right)} \\right)} \\cos{\\left(2 f{\\left(t \\right)} \\right)}} - \\omega - f^{3}{\\left(t \\right)}}{- \\frac{\\omega^{2}}{\\sin{\\left(f{\\left(t \\right)} \\right)} \\cos{\\left(2 f{\\left(t \\right)} \\right)}} + f{\\left(t \\right)}}\\end{matrix}\\right]$"
      ],
      "text/plain": [
       "⎡                       2 ⎛   ω⋅log(t)      ⎞            ⎤\n",
       "⎢                      ω ⋅⎜- ───────── - 100⎟            ⎥\n",
       "⎢                         ⎝  log(f(t))      ⎠        3   ⎥\n",
       "⎢                    - ────────────────────── - ω - f (t)⎥\n",
       "⎢   ω⋅log(t)           sin(f(t))⋅cos(2⋅f(t))             ⎥\n",
       "⎢- ───────── - 100 - ────────────────────────────────────⎥\n",
       "⎢  log(f(t))                         2                   ⎥\n",
       "⎢                                   ω                    ⎥\n",
       "⎢                       - ───────────────────── + f(t)   ⎥\n",
       "⎢                         sin(f(t))⋅cos(2⋅f(t))          ⎥\n",
       "⎢────────────────────────────────────────────────────────⎥\n",
       "⎢                 sin(f(t))⋅cos(2⋅f(t))                  ⎥\n",
       "⎢                                                        ⎥\n",
       "⎢             2 ⎛   ω⋅log(t)      ⎞                      ⎥\n",
       "⎢            ω ⋅⎜- ───────── - 100⎟                      ⎥\n",
       "⎢               ⎝  log(f(t))      ⎠        3             ⎥\n",
       "⎢          - ────────────────────── - ω - f (t)          ⎥\n",
       "⎢            sin(f(t))⋅cos(2⋅f(t))                       ⎥\n",
       "⎢          ────────────────────────────────────          ⎥\n",
       "⎢                          2                             ⎥\n",
       "⎢                         ω                              ⎥\n",
       "⎢             - ───────────────────── + f(t)             ⎥\n",
       "⎣               sin(f(t))⋅cos(2⋅f(t))                    ⎦"
      ]
     },
     "execution_count": 66,
     "metadata": {},
     "output_type": "execute_result"
    }
   ],
   "source": [
    "A.LUsolve(b)"
   ]
  },
  {
   "cell_type": "code",
   "execution_count": 67,
   "id": "7eb76181",
   "metadata": {
    "execution": {
     "iopub.execute_input": "2022-06-25T07:09:51.724606Z",
     "iopub.status.busy": "2022-06-25T07:09:51.724122Z",
     "iopub.status.idle": "2022-06-25T07:09:52.556304Z",
     "shell.execute_reply": "2022-06-25T07:09:52.555399Z"
    }
   },
   "outputs": [
    {
     "data": {
      "text/latex": [
       "$\\displaystyle \\left[\\begin{matrix}\\frac{- \\omega f{\\left(t \\right)} \\log{\\left(t \\right)} + \\omega \\log{\\left(f{\\left(t \\right)} \\right)} + f^{3}{\\left(t \\right)} \\log{\\left(f{\\left(t \\right)} \\right)} - 100 f{\\left(t \\right)} \\log{\\left(f{\\left(t \\right)} \\right)}}{\\left(- \\omega^{2} + f{\\left(t \\right)} \\sin{\\left(f{\\left(t \\right)} \\right)} \\cos{\\left(2 f{\\left(t \\right)} \\right)}\\right) \\log{\\left(f{\\left(t \\right)} \\right)}}\\\\\\frac{- \\omega^{2} \\left(\\omega \\log{\\left(t \\right)} + 100 \\log{\\left(f{\\left(t \\right)} \\right)}\\right) + \\left(\\omega + f^{3}{\\left(t \\right)}\\right) \\log{\\left(f{\\left(t \\right)} \\right)} \\sin{\\left(f{\\left(t \\right)} \\right)} \\cos{\\left(2 f{\\left(t \\right)} \\right)}}{\\left(\\omega^{2} - f{\\left(t \\right)} \\sin{\\left(f{\\left(t \\right)} \\right)} \\cos{\\left(2 f{\\left(t \\right)} \\right)}\\right) \\log{\\left(f{\\left(t \\right)} \\right)}}\\end{matrix}\\right]$"
      ],
      "text/plain": [
       "⎡                                     3                                       \n",
       "⎢     -ω⋅f(t)⋅log(t) + ω⋅log(f(t)) + f (t)⋅log(f(t)) - 100⋅f(t)⋅log(f(t))     \n",
       "⎢     ───────────────────────────────────────────────────────────────────     \n",
       "⎢                ⎛   2                             ⎞                          \n",
       "⎢                ⎝- ω  + f(t)⋅sin(f(t))⋅cos(2⋅f(t))⎠⋅log(f(t))                \n",
       "⎢                                                                             \n",
       "⎢   2                              ⎛     3   ⎞                                \n",
       "⎢- ω ⋅(ω⋅log(t) + 100⋅log(f(t))) + ⎝ω + f (t)⎠⋅log(f(t))⋅sin(f(t))⋅cos(2⋅f(t))\n",
       "⎢─────────────────────────────────────────────────────────────────────────────\n",
       "⎢                 ⎛ 2                             ⎞                           \n",
       "⎣                 ⎝ω  - f(t)⋅sin(f(t))⋅cos(2⋅f(t))⎠⋅log(f(t))                 \n",
       "\n",
       "⎤\n",
       "⎥\n",
       "⎥\n",
       "⎥\n",
       "⎥\n",
       "⎥\n",
       "⎥\n",
       "⎥\n",
       "⎥\n",
       "⎥\n",
       "⎦"
      ]
     },
     "execution_count": 67,
     "metadata": {},
     "output_type": "execute_result"
    }
   ],
   "source": [
    "sm.simplify(A.LUsolve(b))"
   ]
  },
  {
   "cell_type": "code",
   "execution_count": 68,
   "id": "a954c4a2",
   "metadata": {
    "execution": {
     "iopub.execute_input": "2022-06-25T07:09:52.559365Z",
     "iopub.status.busy": "2022-06-25T07:09:52.559040Z",
     "iopub.status.idle": "2022-06-25T07:09:52.587022Z",
     "shell.execute_reply": "2022-06-25T07:09:52.586476Z"
    }
   },
   "outputs": [
    {
     "data": {
      "text/latex": [
       "$\\displaystyle 1$"
      ],
      "text/plain": [
       "1"
      ]
     },
     "execution_count": 68,
     "metadata": {},
     "output_type": "execute_result"
    }
   ],
   "source": [
    "sm.trigsimp(sm.cos(omega)**2 + sm.sin(omega)**2)"
   ]
  },
  {
   "cell_type": "code",
   "execution_count": 69,
   "id": "3c96705c",
   "metadata": {
    "execution": {
     "iopub.execute_input": "2022-06-25T07:09:52.590620Z",
     "iopub.status.busy": "2022-06-25T07:09:52.589479Z",
     "iopub.status.idle": "2022-06-25T07:09:52.609302Z",
     "shell.execute_reply": "2022-06-25T07:09:52.608665Z"
    }
   },
   "outputs": [],
   "source": [
    "substitutions, simplified = sm.cse(A.LUsolve(b))"
   ]
  },
  {
   "cell_type": "code",
   "execution_count": 70,
   "id": "10366d24",
   "metadata": {
    "execution": {
     "iopub.execute_input": "2022-06-25T07:09:52.612821Z",
     "iopub.status.busy": "2022-06-25T07:09:52.611699Z",
     "iopub.status.idle": "2022-06-25T07:09:52.617666Z",
     "shell.execute_reply": "2022-06-25T07:09:52.617097Z"
    }
   },
   "outputs": [
    {
     "data": {
      "text/latex": [
       "$\\displaystyle \\left( x_{0}, \\  f{\\left(t \\right)}\\right)$"
      ],
      "text/plain": [
       "(x₀, f(t))"
      ]
     },
     "execution_count": 70,
     "metadata": {},
     "output_type": "execute_result"
    }
   ],
   "source": [
    "substitutions[0]"
   ]
  },
  {
   "cell_type": "code",
   "execution_count": 71,
   "id": "fe129408",
   "metadata": {
    "execution": {
     "iopub.execute_input": "2022-06-25T07:09:52.620022Z",
     "iopub.status.busy": "2022-06-25T07:09:52.619816Z",
     "iopub.status.idle": "2022-06-25T07:09:52.626232Z",
     "shell.execute_reply": "2022-06-25T07:09:52.625735Z"
    }
   },
   "outputs": [
    {
     "data": {
      "text/latex": [
       "$\\displaystyle x_{0} = f{\\left(t \\right)}$"
      ],
      "text/plain": [
       "x₀ = f(t)"
      ]
     },
     "execution_count": 71,
     "metadata": {},
     "output_type": "execute_result"
    }
   ],
   "source": [
    "sm.Eq(*substitutions[0])"
   ]
  },
  {
   "cell_type": "code",
   "execution_count": 72,
   "id": "be2f5f93",
   "metadata": {
    "execution": {
     "iopub.execute_input": "2022-06-25T07:09:52.629022Z",
     "iopub.status.busy": "2022-06-25T07:09:52.628587Z",
     "iopub.status.idle": "2022-06-25T07:09:52.639382Z",
     "shell.execute_reply": "2022-06-25T07:09:52.638880Z"
    }
   },
   "outputs": [
    {
     "data": {
      "text/latex": [
       "$\\displaystyle x_{1} = \\frac{1}{\\sin{\\left(x_{0} \\right)} \\cos{\\left(2 x_{0} \\right)}}$"
      ],
      "text/plain": [
       "             1        \n",
       "x₁ = ─────────────────\n",
       "     sin(x₀)⋅cos(2⋅x₀)"
      ]
     },
     "execution_count": 72,
     "metadata": {},
     "output_type": "execute_result"
    }
   ],
   "source": [
    "sm.Eq(*substitutions[1])"
   ]
  },
  {
   "cell_type": "code",
   "execution_count": 73,
   "id": "796715f3",
   "metadata": {
    "execution": {
     "iopub.execute_input": "2022-06-25T07:09:52.642083Z",
     "iopub.status.busy": "2022-06-25T07:09:52.641597Z",
     "iopub.status.idle": "2022-06-25T07:09:52.649526Z",
     "shell.execute_reply": "2022-06-25T07:09:52.648790Z"
    }
   },
   "outputs": [
    {
     "data": {
      "text/latex": [
       "$\\displaystyle x_{2} = \\omega^{2} x_{1}$"
      ],
      "text/plain": [
       "      2   \n",
       "x₂ = ω ⋅x₁"
      ]
     },
     "execution_count": 73,
     "metadata": {},
     "output_type": "execute_result"
    }
   ],
   "source": [
    "sm.Eq(*substitutions[2])"
   ]
  },
  {
   "cell_type": "code",
   "execution_count": 74,
   "id": "34e6ec7f",
   "metadata": {
    "execution": {
     "iopub.execute_input": "2022-06-25T07:09:52.652185Z",
     "iopub.status.busy": "2022-06-25T07:09:52.651746Z",
     "iopub.status.idle": "2022-06-25T07:09:52.663854Z",
     "shell.execute_reply": "2022-06-25T07:09:52.663354Z"
    }
   },
   "outputs": [
    {
     "data": {
      "text/latex": [
       "$\\displaystyle x_{4} = \\frac{- \\omega - x_{0}^{3} + x_{2} x_{3}}{x_{0} - x_{2}}$"
      ],
      "text/plain": [
       "            3        \n",
       "     -ω - x₀  + x₂⋅x₃\n",
       "x₄ = ────────────────\n",
       "         x₀ - x₂     "
      ]
     },
     "execution_count": 74,
     "metadata": {},
     "output_type": "execute_result"
    }
   ],
   "source": [
    "sm.Eq(*substitutions[4])"
   ]
  },
  {
   "cell_type": "code",
   "execution_count": 75,
   "id": "33d8baf4",
   "metadata": {
    "execution": {
     "iopub.execute_input": "2022-06-25T07:09:52.666585Z",
     "iopub.status.busy": "2022-06-25T07:09:52.666146Z",
     "iopub.status.idle": "2022-06-25T07:09:52.673338Z",
     "shell.execute_reply": "2022-06-25T07:09:52.672820Z"
    }
   },
   "outputs": [
    {
     "data": {
      "text/latex": [
       "$\\displaystyle \\left[\\begin{matrix}x_{1} \\left(- x_{3} - x_{4}\\right)\\\\x_{4}\\end{matrix}\\right]$"
      ],
      "text/plain": [
       "⎡x₁⋅(-x₃ - x₄)⎤\n",
       "⎢             ⎥\n",
       "⎣     x₄      ⎦"
      ]
     },
     "execution_count": 75,
     "metadata": {},
     "output_type": "execute_result"
    }
   ],
   "source": [
    "simplified[0]"
   ]
  }
 ],
 "metadata": {
  "kernelspec": {
   "display_name": "Python 3 (ipykernel)",
   "language": "python",
   "name": "python3"
  },
  "language_info": {
   "codemirror_mode": {
    "name": "ipython",
    "version": 3
   },
   "file_extension": ".py",
   "mimetype": "text/x-python",
   "name": "python",
   "nbconvert_exporter": "python",
   "pygments_lexer": "ipython3",
   "version": "3.9.13"
  }
 },
 "nbformat": 4,
 "nbformat_minor": 5
}