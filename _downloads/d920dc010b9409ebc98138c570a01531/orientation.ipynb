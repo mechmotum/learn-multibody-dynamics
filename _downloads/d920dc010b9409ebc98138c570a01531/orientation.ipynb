{
 "cells": [
  {
   "cell_type": "code",
   "execution_count": 1,
   "id": "a18b3e3a",
   "metadata": {
    "execution": {
     "iopub.execute_input": "2022-07-17T09:00:31.861611Z",
     "iopub.status.busy": "2022-07-17T09:00:31.861354Z",
     "iopub.status.idle": "2022-07-17T09:00:32.157009Z",
     "shell.execute_reply": "2022-07-17T09:00:32.156339Z"
    }
   },
   "outputs": [],
   "source": [
    "import sympy as sm\n",
    "sm.init_printing(use_latex='mathjax')"
   ]
  },
  {
   "cell_type": "code",
   "execution_count": 2,
   "id": "eaf6de28",
   "metadata": {
    "execution": {
     "iopub.execute_input": "2022-07-17T09:00:32.160475Z",
     "iopub.status.busy": "2022-07-17T09:00:32.160187Z",
     "iopub.status.idle": "2022-07-17T09:00:32.344048Z",
     "shell.execute_reply": "2022-07-17T09:00:32.343316Z"
    }
   },
   "outputs": [
    {
     "data": {
      "text/latex": [
       "$\\displaystyle \\left[\\begin{matrix}\\cos{\\left(\\theta \\right)} & \\sin{\\left(\\theta \\right)} & 0\\\\- \\sin{\\left(\\theta \\right)} & \\cos{\\left(\\theta \\right)} & 0\\\\0 & 0 & 1\\end{matrix}\\right]$"
      ],
      "text/plain": [
       "⎡cos(θ)   sin(θ)  0⎤\n",
       "⎢                  ⎥\n",
       "⎢-sin(θ)  cos(θ)  0⎥\n",
       "⎢                  ⎥\n",
       "⎣   0       0     1⎦"
      ]
     },
     "execution_count": 2,
     "metadata": {},
     "output_type": "execute_result"
    }
   ],
   "source": [
    "theta = sm.symbols('theta')\n",
    "\n",
    "A_C_N = sm.Matrix([[sm.cos(theta), sm.sin(theta), 0],\n",
    "                   [-sm.sin(theta), sm.cos(theta), 0],\n",
    "                   [0, 0, 1]])\n",
    "A_C_N"
   ]
  },
  {
   "cell_type": "code",
   "execution_count": 3,
   "id": "f6084312",
   "metadata": {
    "execution": {
     "iopub.execute_input": "2022-07-17T09:00:32.347552Z",
     "iopub.status.busy": "2022-07-17T09:00:32.347318Z",
     "iopub.status.idle": "2022-07-17T09:00:32.442824Z",
     "shell.execute_reply": "2022-07-17T09:00:32.441778Z"
    }
   },
   "outputs": [
    {
     "data": {
      "text/latex": [
       "$\\displaystyle \\left[\\begin{matrix}\\cos{\\left(\\theta \\right)} & - \\sin{\\left(\\theta \\right)} & 0\\\\\\sin{\\left(\\theta \\right)} & \\cos{\\left(\\theta \\right)} & 0\\\\0 & 0 & 1\\end{matrix}\\right]$"
      ],
      "text/plain": [
       "⎡cos(θ)  -sin(θ)  0⎤\n",
       "⎢                  ⎥\n",
       "⎢sin(θ)  cos(θ)   0⎥\n",
       "⎢                  ⎥\n",
       "⎣  0        0     1⎦"
      ]
     },
     "execution_count": 3,
     "metadata": {},
     "output_type": "execute_result"
    }
   ],
   "source": [
    "sm.trigsimp(A_C_N.inv())"
   ]
  },
  {
   "cell_type": "code",
   "execution_count": 4,
   "id": "90bb6ef7",
   "metadata": {
    "execution": {
     "iopub.execute_input": "2022-07-17T09:00:32.445704Z",
     "iopub.status.busy": "2022-07-17T09:00:32.445476Z",
     "iopub.status.idle": "2022-07-17T09:00:32.451192Z",
     "shell.execute_reply": "2022-07-17T09:00:32.450588Z"
    }
   },
   "outputs": [
    {
     "data": {
      "text/latex": [
       "$\\displaystyle \\left[\\begin{matrix}\\cos{\\left(\\theta \\right)} & - \\sin{\\left(\\theta \\right)} & 0\\\\\\sin{\\left(\\theta \\right)} & \\cos{\\left(\\theta \\right)} & 0\\\\0 & 0 & 1\\end{matrix}\\right]$"
      ],
      "text/plain": [
       "⎡cos(θ)  -sin(θ)  0⎤\n",
       "⎢                  ⎥\n",
       "⎢sin(θ)  cos(θ)   0⎥\n",
       "⎢                  ⎥\n",
       "⎣  0        0     1⎦"
      ]
     },
     "execution_count": 4,
     "metadata": {},
     "output_type": "execute_result"
    }
   ],
   "source": [
    "A_C_N.transpose()"
   ]
  },
  {
   "cell_type": "code",
   "execution_count": 5,
   "id": "e905ef1d",
   "metadata": {
    "execution": {
     "iopub.execute_input": "2022-07-17T09:00:32.454681Z",
     "iopub.status.busy": "2022-07-17T09:00:32.454133Z",
     "iopub.status.idle": "2022-07-17T09:00:32.460021Z",
     "shell.execute_reply": "2022-07-17T09:00:32.459435Z"
    }
   },
   "outputs": [
    {
     "data": {
      "text/latex": [
       "$\\displaystyle \\left[\\begin{matrix}\\cos{\\left(\\theta \\right)} & \\sin{\\left(\\theta \\right)} & 0\\\\- \\sin{\\left(\\theta \\right)} & \\cos{\\left(\\theta \\right)} & 0\\\\0 & 0 & 1\\end{matrix}\\right]$"
      ],
      "text/plain": [
       "⎡cos(θ)   sin(θ)  0⎤\n",
       "⎢                  ⎥\n",
       "⎢-sin(θ)  cos(θ)  0⎥\n",
       "⎢                  ⎥\n",
       "⎣   0       0     1⎦"
      ]
     },
     "execution_count": 5,
     "metadata": {},
     "output_type": "execute_result"
    }
   ],
   "source": [
    "A_C_N"
   ]
  },
  {
   "cell_type": "code",
   "execution_count": 6,
   "id": "92ca8235",
   "metadata": {
    "execution": {
     "iopub.execute_input": "2022-07-17T09:00:32.463224Z",
     "iopub.status.busy": "2022-07-17T09:00:32.462734Z",
     "iopub.status.idle": "2022-07-17T09:00:32.470144Z",
     "shell.execute_reply": "2022-07-17T09:00:32.469566Z"
    }
   },
   "outputs": [
    {
     "data": {
      "text/latex": [
       "$\\displaystyle \\left[\\begin{matrix}\\cos{\\left(\\alpha \\right)} & \\sin{\\left(\\alpha \\right)} & 0\\\\- \\sin{\\left(\\alpha \\right)} & \\cos{\\left(\\alpha \\right)} & 0\\\\0 & 0 & 1\\end{matrix}\\right]$"
      ],
      "text/plain": [
       "⎡cos(α)   sin(α)  0⎤\n",
       "⎢                  ⎥\n",
       "⎢-sin(α)  cos(α)  0⎥\n",
       "⎢                  ⎥\n",
       "⎣   0       0     1⎦"
      ]
     },
     "execution_count": 6,
     "metadata": {},
     "output_type": "execute_result"
    }
   ],
   "source": [
    "alpha = sm.symbols('alpha')\n",
    "\n",
    "B_C_A = sm.Matrix([[sm.cos(alpha), sm.sin(alpha), 0],\n",
    "                   [-sm.sin(alpha), sm.cos(alpha), 0],\n",
    "                   [0, 0, 1]])\n",
    "\n",
    "B_C_A"
   ]
  },
  {
   "cell_type": "code",
   "execution_count": 7,
   "id": "48bd169b",
   "metadata": {
    "execution": {
     "iopub.execute_input": "2022-07-17T09:00:32.472854Z",
     "iopub.status.busy": "2022-07-17T09:00:32.472375Z",
     "iopub.status.idle": "2022-07-17T09:00:32.484112Z",
     "shell.execute_reply": "2022-07-17T09:00:32.483531Z"
    }
   },
   "outputs": [
    {
     "data": {
      "text/latex": [
       "$\\displaystyle \\left[\\begin{matrix}- \\sin{\\left(\\alpha \\right)} \\sin{\\left(\\theta \\right)} + \\cos{\\left(\\alpha \\right)} \\cos{\\left(\\theta \\right)} & \\sin{\\left(\\alpha \\right)} \\cos{\\left(\\theta \\right)} + \\sin{\\left(\\theta \\right)} \\cos{\\left(\\alpha \\right)} & 0\\\\- \\sin{\\left(\\alpha \\right)} \\cos{\\left(\\theta \\right)} - \\sin{\\left(\\theta \\right)} \\cos{\\left(\\alpha \\right)} & - \\sin{\\left(\\alpha \\right)} \\sin{\\left(\\theta \\right)} + \\cos{\\left(\\alpha \\right)} \\cos{\\left(\\theta \\right)} & 0\\\\0 & 0 & 1\\end{matrix}\\right]$"
      ],
      "text/plain": [
       "⎡-sin(α)⋅sin(θ) + cos(α)⋅cos(θ)  sin(α)⋅cos(θ) + sin(θ)⋅cos(α)   0⎤\n",
       "⎢                                                                 ⎥\n",
       "⎢-sin(α)⋅cos(θ) - sin(θ)⋅cos(α)  -sin(α)⋅sin(θ) + cos(α)⋅cos(θ)  0⎥\n",
       "⎢                                                                 ⎥\n",
       "⎣              0                               0                 1⎦"
      ]
     },
     "execution_count": 7,
     "metadata": {},
     "output_type": "execute_result"
    }
   ],
   "source": [
    "B_C_N = B_C_A*A_C_N\n",
    "B_C_N"
   ]
  },
  {
   "cell_type": "code",
   "execution_count": 8,
   "id": "aed1a086",
   "metadata": {
    "execution": {
     "iopub.execute_input": "2022-07-17T09:00:32.486837Z",
     "iopub.status.busy": "2022-07-17T09:00:32.486308Z",
     "iopub.status.idle": "2022-07-17T09:00:32.625322Z",
     "shell.execute_reply": "2022-07-17T09:00:32.624628Z"
    }
   },
   "outputs": [
    {
     "data": {
      "text/latex": [
       "$\\displaystyle \\left[\\begin{matrix}\\cos{\\left(\\alpha + \\theta \\right)} & \\sin{\\left(\\alpha + \\theta \\right)} & 0\\\\- \\sin{\\left(\\alpha + \\theta \\right)} & \\cos{\\left(\\alpha + \\theta \\right)} & 0\\\\0 & 0 & 1\\end{matrix}\\right]$"
      ],
      "text/plain": [
       "⎡cos(α + θ)   sin(α + θ)  0⎤\n",
       "⎢                          ⎥\n",
       "⎢-sin(α + θ)  cos(α + θ)  0⎥\n",
       "⎢                          ⎥\n",
       "⎣     0           0       1⎦"
      ]
     },
     "execution_count": 8,
     "metadata": {},
     "output_type": "execute_result"
    }
   ],
   "source": [
    "sm.trigsimp(B_C_N)"
   ]
  },
  {
   "cell_type": "code",
   "execution_count": 9,
   "id": "33d4adfe",
   "metadata": {
    "execution": {
     "iopub.execute_input": "2022-07-17T09:00:32.628463Z",
     "iopub.status.busy": "2022-07-17T09:00:32.628037Z",
     "iopub.status.idle": "2022-07-17T09:00:32.636748Z",
     "shell.execute_reply": "2022-07-17T09:00:32.636216Z"
    }
   },
   "outputs": [],
   "source": [
    "import sympy.physics.mechanics as me"
   ]
  },
  {
   "cell_type": "code",
   "execution_count": 10,
   "id": "2f58f4db",
   "metadata": {
    "execution": {
     "iopub.execute_input": "2022-07-17T09:00:32.639214Z",
     "iopub.status.busy": "2022-07-17T09:00:32.638893Z",
     "iopub.status.idle": "2022-07-17T09:00:32.642433Z",
     "shell.execute_reply": "2022-07-17T09:00:32.641846Z"
    }
   },
   "outputs": [],
   "source": [
    "N = me.ReferenceFrame('N')"
   ]
  },
  {
   "cell_type": "code",
   "execution_count": 11,
   "id": "cc04ffd7",
   "metadata": {
    "execution": {
     "iopub.execute_input": "2022-07-17T09:00:32.645224Z",
     "iopub.status.busy": "2022-07-17T09:00:32.644911Z",
     "iopub.status.idle": "2022-07-17T09:00:32.649424Z",
     "shell.execute_reply": "2022-07-17T09:00:32.648861Z"
    }
   },
   "outputs": [
    {
     "data": {
      "text/latex": [
       "$\\displaystyle \\left( \\mathbf{\\hat{n}_x}, \\  \\mathbf{\\hat{n}_y}, \\  \\mathbf{\\hat{n}_z}\\right)$"
      ],
      "text/plain": [
       "(n_x, n_y, n_z)"
      ]
     },
     "execution_count": 11,
     "metadata": {},
     "output_type": "execute_result"
    }
   ],
   "source": [
    "N.x, N.y, N.z"
   ]
  },
  {
   "cell_type": "code",
   "execution_count": 12,
   "id": "619a1e4d",
   "metadata": {
    "execution": {
     "iopub.execute_input": "2022-07-17T09:00:32.652269Z",
     "iopub.status.busy": "2022-07-17T09:00:32.651958Z",
     "iopub.status.idle": "2022-07-17T09:00:32.657045Z",
     "shell.execute_reply": "2022-07-17T09:00:32.656469Z"
    }
   },
   "outputs": [
    {
     "data": {
      "text/plain": [
       "(N, A, B)"
      ]
     },
     "execution_count": 12,
     "metadata": {},
     "output_type": "execute_result"
    }
   ],
   "source": [
    "A = me.ReferenceFrame('A')\n",
    "B = me.ReferenceFrame('B')\n",
    "\n",
    "N, A, B"
   ]
  },
  {
   "cell_type": "code",
   "execution_count": 13,
   "id": "5b8b047f",
   "metadata": {
    "execution": {
     "iopub.execute_input": "2022-07-17T09:00:32.660117Z",
     "iopub.status.busy": "2022-07-17T09:00:32.659636Z",
     "iopub.status.idle": "2022-07-17T09:00:32.665303Z",
     "shell.execute_reply": "2022-07-17T09:00:32.664723Z"
    }
   },
   "outputs": [
    {
     "data": {
      "text/latex": [
       "$\\displaystyle \\left[\\begin{matrix}\\cos{\\left(\\theta \\right)} & \\sin{\\left(\\theta \\right)} & 0\\\\- \\sin{\\left(\\theta \\right)} & \\cos{\\left(\\theta \\right)} & 0\\\\0 & 0 & 1\\end{matrix}\\right]$"
      ],
      "text/plain": [
       "⎡cos(θ)   sin(θ)  0⎤\n",
       "⎢                  ⎥\n",
       "⎢-sin(θ)  cos(θ)  0⎥\n",
       "⎢                  ⎥\n",
       "⎣   0       0     1⎦"
      ]
     },
     "execution_count": 13,
     "metadata": {},
     "output_type": "execute_result"
    }
   ],
   "source": [
    "A_C_N"
   ]
  },
  {
   "cell_type": "code",
   "execution_count": 14,
   "id": "66674d77",
   "metadata": {
    "execution": {
     "iopub.execute_input": "2022-07-17T09:00:32.668371Z",
     "iopub.status.busy": "2022-07-17T09:00:32.667882Z",
     "iopub.status.idle": "2022-07-17T09:00:32.672031Z",
     "shell.execute_reply": "2022-07-17T09:00:32.671515Z"
    }
   },
   "outputs": [],
   "source": [
    "N.orient_explicit(A, A_C_N)"
   ]
  },
  {
   "cell_type": "code",
   "execution_count": 15,
   "id": "08c4354b",
   "metadata": {
    "execution": {
     "iopub.execute_input": "2022-07-17T09:00:32.674328Z",
     "iopub.status.busy": "2022-07-17T09:00:32.674019Z",
     "iopub.status.idle": "2022-07-17T09:00:32.679871Z",
     "shell.execute_reply": "2022-07-17T09:00:32.679292Z"
    }
   },
   "outputs": [
    {
     "data": {
      "text/latex": [
       "$\\displaystyle \\left[\\begin{matrix}\\cos{\\left(\\theta \\right)} & \\sin{\\left(\\theta \\right)} & 0\\\\- \\sin{\\left(\\theta \\right)} & \\cos{\\left(\\theta \\right)} & 0\\\\0 & 0 & 1\\end{matrix}\\right]$"
      ],
      "text/plain": [
       "⎡cos(θ)   sin(θ)  0⎤\n",
       "⎢                  ⎥\n",
       "⎢-sin(θ)  cos(θ)  0⎥\n",
       "⎢                  ⎥\n",
       "⎣   0       0     1⎦"
      ]
     },
     "execution_count": 15,
     "metadata": {},
     "output_type": "execute_result"
    }
   ],
   "source": [
    "A.dcm(N)"
   ]
  },
  {
   "cell_type": "code",
   "execution_count": 16,
   "id": "cb22079a",
   "metadata": {
    "execution": {
     "iopub.execute_input": "2022-07-17T09:00:32.682917Z",
     "iopub.status.busy": "2022-07-17T09:00:32.682358Z",
     "iopub.status.idle": "2022-07-17T09:00:32.688056Z",
     "shell.execute_reply": "2022-07-17T09:00:32.687481Z"
    }
   },
   "outputs": [],
   "source": [
    "B.orient_axis(A, alpha, A.z)"
   ]
  },
  {
   "cell_type": "code",
   "execution_count": 17,
   "id": "46e626f3",
   "metadata": {
    "execution": {
     "iopub.execute_input": "2022-07-17T09:00:32.690623Z",
     "iopub.status.busy": "2022-07-17T09:00:32.690135Z",
     "iopub.status.idle": "2022-07-17T09:00:32.695905Z",
     "shell.execute_reply": "2022-07-17T09:00:32.695328Z"
    }
   },
   "outputs": [
    {
     "data": {
      "text/latex": [
       "$\\displaystyle \\left[\\begin{matrix}\\cos{\\left(\\alpha \\right)} & \\sin{\\left(\\alpha \\right)} & 0\\\\- \\sin{\\left(\\alpha \\right)} & \\cos{\\left(\\alpha \\right)} & 0\\\\0 & 0 & 1\\end{matrix}\\right]$"
      ],
      "text/plain": [
       "⎡cos(α)   sin(α)  0⎤\n",
       "⎢                  ⎥\n",
       "⎢-sin(α)  cos(α)  0⎥\n",
       "⎢                  ⎥\n",
       "⎣   0       0     1⎦"
      ]
     },
     "execution_count": 17,
     "metadata": {},
     "output_type": "execute_result"
    }
   ],
   "source": [
    "B.dcm(A)"
   ]
  },
  {
   "cell_type": "code",
   "execution_count": 18,
   "id": "19798315",
   "metadata": {
    "execution": {
     "iopub.execute_input": "2022-07-17T09:00:32.699003Z",
     "iopub.status.busy": "2022-07-17T09:00:32.698465Z",
     "iopub.status.idle": "2022-07-17T09:00:32.704070Z",
     "shell.execute_reply": "2022-07-17T09:00:32.703501Z"
    }
   },
   "outputs": [
    {
     "data": {
      "text/latex": [
       "$\\displaystyle \\left[\\begin{matrix}\\cos{\\left(\\alpha \\right)} & - \\sin{\\left(\\alpha \\right)} & 0\\\\\\sin{\\left(\\alpha \\right)} & \\cos{\\left(\\alpha \\right)} & 0\\\\0 & 0 & 1\\end{matrix}\\right]$"
      ],
      "text/plain": [
       "⎡cos(α)  -sin(α)  0⎤\n",
       "⎢                  ⎥\n",
       "⎢sin(α)  cos(α)   0⎥\n",
       "⎢                  ⎥\n",
       "⎣  0        0     1⎦"
      ]
     },
     "execution_count": 18,
     "metadata": {},
     "output_type": "execute_result"
    }
   ],
   "source": [
    "A.dcm(B)"
   ]
  },
  {
   "cell_type": "code",
   "execution_count": 19,
   "id": "5948fcda",
   "metadata": {
    "execution": {
     "iopub.execute_input": "2022-07-17T09:00:32.706431Z",
     "iopub.status.busy": "2022-07-17T09:00:32.706210Z",
     "iopub.status.idle": "2022-07-17T09:00:32.830454Z",
     "shell.execute_reply": "2022-07-17T09:00:32.829740Z"
    }
   },
   "outputs": [
    {
     "data": {
      "text/latex": [
       "$\\displaystyle \\left[\\begin{matrix}\\cos{\\left(\\alpha + \\theta \\right)} & \\sin{\\left(\\alpha + \\theta \\right)} & 0\\\\- \\sin{\\left(\\alpha + \\theta \\right)} & \\cos{\\left(\\alpha + \\theta \\right)} & 0\\\\0 & 0 & 1\\end{matrix}\\right]$"
      ],
      "text/plain": [
       "⎡cos(α + θ)   sin(α + θ)  0⎤\n",
       "⎢                          ⎥\n",
       "⎢-sin(α + θ)  cos(α + θ)  0⎥\n",
       "⎢                          ⎥\n",
       "⎣     0           0       1⎦"
      ]
     },
     "execution_count": 19,
     "metadata": {},
     "output_type": "execute_result"
    }
   ],
   "source": [
    "sm.trigsimp(B.dcm(A)*A.dcm(N))"
   ]
  },
  {
   "cell_type": "code",
   "execution_count": 20,
   "id": "1f260541",
   "metadata": {
    "execution": {
     "iopub.execute_input": "2022-07-17T09:00:32.833405Z",
     "iopub.status.busy": "2022-07-17T09:00:32.833046Z",
     "iopub.status.idle": "2022-07-17T09:00:32.957400Z",
     "shell.execute_reply": "2022-07-17T09:00:32.956748Z"
    }
   },
   "outputs": [
    {
     "data": {
      "text/latex": [
       "$\\displaystyle \\left[\\begin{matrix}\\cos{\\left(\\alpha + \\theta \\right)} & \\sin{\\left(\\alpha + \\theta \\right)} & 0\\\\- \\sin{\\left(\\alpha + \\theta \\right)} & \\cos{\\left(\\alpha + \\theta \\right)} & 0\\\\0 & 0 & 1\\end{matrix}\\right]$"
      ],
      "text/plain": [
       "⎡cos(α + θ)   sin(α + θ)  0⎤\n",
       "⎢                          ⎥\n",
       "⎢-sin(α + θ)  cos(α + θ)  0⎥\n",
       "⎢                          ⎥\n",
       "⎣     0           0       1⎦"
      ]
     },
     "execution_count": 20,
     "metadata": {},
     "output_type": "execute_result"
    }
   ],
   "source": [
    "sm.trigsimp(B.dcm(N))"
   ]
  },
  {
   "cell_type": "code",
   "execution_count": 21,
   "id": "6c7f57be",
   "metadata": {
    "execution": {
     "iopub.execute_input": "2022-07-17T09:00:32.960301Z",
     "iopub.status.busy": "2022-07-17T09:00:32.959793Z",
     "iopub.status.idle": "2022-07-17T09:00:32.997996Z",
     "shell.execute_reply": "2022-07-17T09:00:32.997365Z"
    }
   },
   "outputs": [
    {
     "data": {
      "text/latex": [
       "$\\displaystyle \\cos{\\left(\\alpha + \\theta \\right)}$"
      ],
      "text/plain": [
       "cos(α + θ)"
      ]
     },
     "execution_count": 21,
     "metadata": {},
     "output_type": "execute_result"
    }
   ],
   "source": [
    "sm.trigsimp(me.dot(B.x, N.x))"
   ]
  },
  {
   "cell_type": "code",
   "execution_count": 22,
   "id": "fe98114b",
   "metadata": {
    "execution": {
     "iopub.execute_input": "2022-07-17T09:00:33.000551Z",
     "iopub.status.busy": "2022-07-17T09:00:33.000211Z",
     "iopub.status.idle": "2022-07-17T09:00:33.010379Z",
     "shell.execute_reply": "2022-07-17T09:00:33.009828Z"
    }
   },
   "outputs": [
    {
     "data": {
      "text/latex": [
       "$\\displaystyle \\left[\\begin{matrix}\\cos{\\left(\\psi \\right)} & \\sin{\\left(\\psi \\right)} & 0\\\\- \\sin{\\left(\\psi \\right)} & \\cos{\\left(\\psi \\right)} & 0\\\\0 & 0 & 1\\end{matrix}\\right]$"
      ],
      "text/plain": [
       "⎡cos(ψ)   sin(ψ)  0⎤\n",
       "⎢                  ⎥\n",
       "⎢-sin(ψ)  cos(ψ)  0⎥\n",
       "⎢                  ⎥\n",
       "⎣   0       0     1⎦"
      ]
     },
     "execution_count": 22,
     "metadata": {},
     "output_type": "execute_result"
    }
   ],
   "source": [
    "psi = sm.symbols('psi')\n",
    "\n",
    "A = me.ReferenceFrame('A')\n",
    "B = me.ReferenceFrame('B')\n",
    "\n",
    "B.orient_axis(A, psi, A.z)\n",
    "\n",
    "B.dcm(A)"
   ]
  },
  {
   "cell_type": "code",
   "execution_count": 23,
   "id": "df5acbab",
   "metadata": {
    "execution": {
     "iopub.execute_input": "2022-07-17T09:00:33.012950Z",
     "iopub.status.busy": "2022-07-17T09:00:33.012452Z",
     "iopub.status.idle": "2022-07-17T09:00:33.022496Z",
     "shell.execute_reply": "2022-07-17T09:00:33.021802Z"
    }
   },
   "outputs": [
    {
     "data": {
      "text/latex": [
       "$\\displaystyle \\left[\\begin{matrix}1 & 0 & 0\\\\0 & \\cos{\\left(\\theta \\right)} & \\sin{\\left(\\theta \\right)}\\\\0 & - \\sin{\\left(\\theta \\right)} & \\cos{\\left(\\theta \\right)}\\end{matrix}\\right]$"
      ],
      "text/plain": [
       "⎡1     0       0   ⎤\n",
       "⎢                  ⎥\n",
       "⎢0  cos(θ)   sin(θ)⎥\n",
       "⎢                  ⎥\n",
       "⎣0  -sin(θ)  cos(θ)⎦"
      ]
     },
     "execution_count": 23,
     "metadata": {},
     "output_type": "execute_result"
    }
   ],
   "source": [
    "theta = sm.symbols('theta')\n",
    "\n",
    "C = me.ReferenceFrame('C')\n",
    "\n",
    "C.orient_axis(B, theta, B.x)\n",
    "\n",
    "C.dcm(B)"
   ]
  },
  {
   "cell_type": "code",
   "execution_count": 24,
   "id": "e8072d2a",
   "metadata": {
    "execution": {
     "iopub.execute_input": "2022-07-17T09:00:33.025409Z",
     "iopub.status.busy": "2022-07-17T09:00:33.024902Z",
     "iopub.status.idle": "2022-07-17T09:00:33.036728Z",
     "shell.execute_reply": "2022-07-17T09:00:33.036195Z"
    }
   },
   "outputs": [
    {
     "data": {
      "text/latex": [
       "$\\displaystyle \\left[\\begin{matrix}\\cos{\\left(\\varphi \\right)} & 0 & - \\sin{\\left(\\varphi \\right)}\\\\0 & 1 & 0\\\\\\sin{\\left(\\varphi \\right)} & 0 & \\cos{\\left(\\varphi \\right)}\\end{matrix}\\right]$"
      ],
      "text/plain": [
       "⎡cos(varphi)  0  -sin(varphi)⎤\n",
       "⎢                            ⎥\n",
       "⎢     0       1       0      ⎥\n",
       "⎢                            ⎥\n",
       "⎣sin(varphi)  0  cos(varphi) ⎦"
      ]
     },
     "execution_count": 24,
     "metadata": {},
     "output_type": "execute_result"
    }
   ],
   "source": [
    "phi = sm.symbols('varphi')\n",
    "\n",
    "D = me.ReferenceFrame('D')\n",
    "\n",
    "D.orient_axis(C, phi, C.y)\n",
    "\n",
    "D.dcm(C)"
   ]
  },
  {
   "cell_type": "code",
   "execution_count": 25,
   "id": "d31aa5a0",
   "metadata": {
    "execution": {
     "iopub.execute_input": "2022-07-17T09:00:33.039873Z",
     "iopub.status.busy": "2022-07-17T09:00:33.039365Z",
     "iopub.status.idle": "2022-07-17T09:00:33.058176Z",
     "shell.execute_reply": "2022-07-17T09:00:33.057605Z"
    }
   },
   "outputs": [
    {
     "data": {
      "text/latex": [
       "$\\displaystyle \\left[\\begin{matrix}- \\sin{\\left(\\psi \\right)} \\sin{\\left(\\theta \\right)} \\sin{\\left(\\varphi \\right)} + \\cos{\\left(\\psi \\right)} \\cos{\\left(\\varphi \\right)} & \\sin{\\left(\\psi \\right)} \\cos{\\left(\\varphi \\right)} + \\sin{\\left(\\theta \\right)} \\sin{\\left(\\varphi \\right)} \\cos{\\left(\\psi \\right)} & - \\sin{\\left(\\varphi \\right)} \\cos{\\left(\\theta \\right)}\\\\- \\sin{\\left(\\psi \\right)} \\cos{\\left(\\theta \\right)} & \\cos{\\left(\\psi \\right)} \\cos{\\left(\\theta \\right)} & \\sin{\\left(\\theta \\right)}\\\\\\sin{\\left(\\psi \\right)} \\sin{\\left(\\theta \\right)} \\cos{\\left(\\varphi \\right)} + \\sin{\\left(\\varphi \\right)} \\cos{\\left(\\psi \\right)} & \\sin{\\left(\\psi \\right)} \\sin{\\left(\\varphi \\right)} - \\sin{\\left(\\theta \\right)} \\cos{\\left(\\psi \\right)} \\cos{\\left(\\varphi \\right)} & \\cos{\\left(\\theta \\right)} \\cos{\\left(\\varphi \\right)}\\end{matrix}\\right]$"
      ],
      "text/plain": [
       "⎡-sin(ψ)⋅sin(θ)⋅sin(varphi) + cos(ψ)⋅cos(varphi)  sin(ψ)⋅cos(varphi) + sin(θ)⋅\n",
       "⎢                                                                             \n",
       "⎢                -sin(ψ)⋅cos(θ)                                   cos(ψ)⋅cos(θ\n",
       "⎢                                                                             \n",
       "⎣sin(ψ)⋅sin(θ)⋅cos(varphi) + sin(varphi)⋅cos(ψ)   sin(ψ)⋅sin(varphi) - sin(θ)⋅\n",
       "\n",
       "sin(varphi)⋅cos(ψ)  -sin(varphi)⋅cos(θ)⎤\n",
       "                                       ⎥\n",
       ")                         sin(θ)       ⎥\n",
       "                                       ⎥\n",
       "cos(ψ)⋅cos(varphi)  cos(θ)⋅cos(varphi) ⎦"
      ]
     },
     "execution_count": 25,
     "metadata": {},
     "output_type": "execute_result"
    }
   ],
   "source": [
    "D.dcm(A)"
   ]
  },
  {
   "cell_type": "code",
   "execution_count": 26,
   "id": "4ea1903b",
   "metadata": {
    "execution": {
     "iopub.execute_input": "2022-07-17T09:00:33.061030Z",
     "iopub.status.busy": "2022-07-17T09:00:33.060668Z",
     "iopub.status.idle": "2022-07-17T09:00:33.124660Z",
     "shell.execute_reply": "2022-07-17T09:00:33.123649Z"
    }
   },
   "outputs": [
    {
     "data": {
      "text/latex": [
       "$\\displaystyle \\left[\\begin{matrix}- \\sin{\\left(\\psi \\right)} \\sin{\\left(\\theta \\right)} \\sin{\\left(\\varphi \\right)} + \\cos{\\left(\\psi \\right)} \\cos{\\left(\\varphi \\right)} & \\sin{\\left(\\psi \\right)} \\cos{\\left(\\varphi \\right)} + \\sin{\\left(\\theta \\right)} \\sin{\\left(\\varphi \\right)} \\cos{\\left(\\psi \\right)} & - \\sin{\\left(\\varphi \\right)} \\cos{\\left(\\theta \\right)}\\\\- \\sin{\\left(\\psi \\right)} \\cos{\\left(\\theta \\right)} & \\cos{\\left(\\psi \\right)} \\cos{\\left(\\theta \\right)} & \\sin{\\left(\\theta \\right)}\\\\\\sin{\\left(\\psi \\right)} \\sin{\\left(\\theta \\right)} \\cos{\\left(\\varphi \\right)} + \\sin{\\left(\\varphi \\right)} \\cos{\\left(\\psi \\right)} & \\sin{\\left(\\psi \\right)} \\sin{\\left(\\varphi \\right)} - \\sin{\\left(\\theta \\right)} \\cos{\\left(\\psi \\right)} \\cos{\\left(\\varphi \\right)} & \\cos{\\left(\\theta \\right)} \\cos{\\left(\\varphi \\right)}\\end{matrix}\\right]$"
      ],
      "text/plain": [
       "⎡-sin(ψ)⋅sin(θ)⋅sin(varphi) + cos(ψ)⋅cos(varphi)  sin(ψ)⋅cos(varphi) + sin(θ)⋅\n",
       "⎢                                                                             \n",
       "⎢                -sin(ψ)⋅cos(θ)                                   cos(ψ)⋅cos(θ\n",
       "⎢                                                                             \n",
       "⎣sin(ψ)⋅sin(θ)⋅cos(varphi) + sin(varphi)⋅cos(ψ)   sin(ψ)⋅sin(varphi) - sin(θ)⋅\n",
       "\n",
       "sin(varphi)⋅cos(ψ)  -sin(varphi)⋅cos(θ)⎤\n",
       "                                       ⎥\n",
       ")                         sin(θ)       ⎥\n",
       "                                       ⎥\n",
       "cos(ψ)⋅cos(varphi)  cos(θ)⋅cos(varphi) ⎦"
      ]
     },
     "execution_count": 26,
     "metadata": {},
     "output_type": "execute_result"
    }
   ],
   "source": [
    "A = me.ReferenceFrame('A')\n",
    "D = me.ReferenceFrame('D')\n",
    "\n",
    "D.orient_body_fixed(A, (psi, theta, phi), 'zxy')\n",
    "\n",
    "D.dcm(A)"
   ]
  },
  {
   "cell_type": "code",
   "execution_count": 27,
   "id": "3701bee9",
   "metadata": {
    "execution": {
     "iopub.execute_input": "2022-07-17T09:00:33.127460Z",
     "iopub.status.busy": "2022-07-17T09:00:33.127238Z",
     "iopub.status.idle": "2022-07-17T09:00:33.175845Z",
     "shell.execute_reply": "2022-07-17T09:00:33.175177Z"
    }
   },
   "outputs": [
    {
     "data": {
      "text/latex": [
       "$\\displaystyle \\left[\\begin{matrix}- \\sin{\\left(\\psi \\right)} \\sin{\\left(\\varphi \\right)} \\cos{\\left(\\theta \\right)} + \\cos{\\left(\\psi \\right)} \\cos{\\left(\\varphi \\right)} & \\sin{\\left(\\psi \\right)} \\cos{\\left(\\varphi \\right)} + \\sin{\\left(\\varphi \\right)} \\cos{\\left(\\psi \\right)} \\cos{\\left(\\theta \\right)} & \\sin{\\left(\\theta \\right)} \\sin{\\left(\\varphi \\right)}\\\\- \\sin{\\left(\\psi \\right)} \\cos{\\left(\\theta \\right)} \\cos{\\left(\\varphi \\right)} - \\sin{\\left(\\varphi \\right)} \\cos{\\left(\\psi \\right)} & - \\sin{\\left(\\psi \\right)} \\sin{\\left(\\varphi \\right)} + \\cos{\\left(\\psi \\right)} \\cos{\\left(\\theta \\right)} \\cos{\\left(\\varphi \\right)} & \\sin{\\left(\\theta \\right)} \\cos{\\left(\\varphi \\right)}\\\\\\sin{\\left(\\psi \\right)} \\sin{\\left(\\theta \\right)} & - \\sin{\\left(\\theta \\right)} \\cos{\\left(\\psi \\right)} & \\cos{\\left(\\theta \\right)}\\end{matrix}\\right]$"
      ],
      "text/plain": [
       "⎡-sin(ψ)⋅sin(varphi)⋅cos(θ) + cos(ψ)⋅cos(varphi)  sin(ψ)⋅cos(varphi) + sin(var\n",
       "⎢                                                                             \n",
       "⎢-sin(ψ)⋅cos(θ)⋅cos(varphi) - sin(varphi)⋅cos(ψ)  -sin(ψ)⋅sin(varphi) + cos(ψ)\n",
       "⎢                                                                             \n",
       "⎣                 sin(ψ)⋅sin(θ)                                   -sin(θ)⋅cos(\n",
       "\n",
       "phi)⋅cos(ψ)⋅cos(θ)   sin(θ)⋅sin(varphi)⎤\n",
       "                                       ⎥\n",
       "⋅cos(θ)⋅cos(varphi)  sin(θ)⋅cos(varphi)⎥\n",
       "                                       ⎥\n",
       "ψ)                         cos(θ)      ⎦"
      ]
     },
     "execution_count": 27,
     "metadata": {},
     "output_type": "execute_result"
    }
   ],
   "source": [
    "A = me.ReferenceFrame('A')\n",
    "D = me.ReferenceFrame('D')\n",
    "\n",
    "D.orient_body_fixed(A, (psi, theta, phi), 'zxz')\n",
    "\n",
    "D.dcm(A)"
   ]
  }
 ],
 "metadata": {
  "kernelspec": {
   "display_name": "Python 3 (ipykernel)",
   "language": "python",
   "name": "python3"
  },
  "language_info": {
   "codemirror_mode": {
    "name": "ipython",
    "version": 3
   },
   "file_extension": ".py",
   "mimetype": "text/x-python",
   "name": "python",
   "nbconvert_exporter": "python",
   "pygments_lexer": "ipython3",
   "version": "3.9.13"
  }
 },
 "nbformat": 4,
 "nbformat_minor": 5
}