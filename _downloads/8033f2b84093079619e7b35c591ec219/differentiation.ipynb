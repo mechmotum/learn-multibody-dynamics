{
 "cells": [
  {
   "cell_type": "code",
   "execution_count": 1,
   "id": "b52a24e3",
   "metadata": {
    "execution": {
     "iopub.execute_input": "2022-07-17T08:56:56.930874Z",
     "iopub.status.busy": "2022-07-17T08:56:56.930588Z",
     "iopub.status.idle": "2022-07-17T08:56:57.394959Z",
     "shell.execute_reply": "2022-07-17T08:56:57.393926Z"
    }
   },
   "outputs": [],
   "source": [
    "import sympy as sm\n",
    "import sympy.physics.mechanics as me\n",
    "sm.init_printing(use_latex='mathjax')"
   ]
  },
  {
   "cell_type": "code",
   "execution_count": 2,
   "id": "ef9386ae",
   "metadata": {
    "execution": {
     "iopub.execute_input": "2022-07-17T08:56:57.398291Z",
     "iopub.status.busy": "2022-07-17T08:56:57.398027Z",
     "iopub.status.idle": "2022-07-17T08:56:57.415629Z",
     "shell.execute_reply": "2022-07-17T08:56:57.415036Z"
    }
   },
   "outputs": [
    {
     "data": {
      "text/latex": [
       "$\\displaystyle a\\mathbf{\\hat{a}_x} + b\\mathbf{\\hat{a}_y} + c\\mathbf{\\hat{b}_x} + d\\mathbf{\\hat{b}_y} + e\\mathbf{\\hat{c}_x} + f\\mathbf{\\hat{c}_y}$"
      ],
      "text/plain": [
       "a a_x + b a_y + c b_x + d b_y + e c_x + f c_y"
      ]
     },
     "execution_count": 2,
     "metadata": {},
     "output_type": "execute_result"
    }
   ],
   "source": [
    "alpha, beta = sm.symbols('alpha, beta')\n",
    "a, b, c, d, e, f = sm.symbols('a, b, c, d, e, f')\n",
    "\n",
    "A = me.ReferenceFrame('A')\n",
    "B = me.ReferenceFrame('B')\n",
    "C = me.ReferenceFrame('C')\n",
    "\n",
    "B.orient_axis(A, alpha, A.x)\n",
    "C.orient_axis(B, beta, B.y)\n",
    "\n",
    "v = a*A.x + b*A.y + c*B.x + d*B.y + e*C.x + f*C.y\n",
    "v"
   ]
  },
  {
   "cell_type": "code",
   "execution_count": 3,
   "id": "5dd173a7",
   "metadata": {
    "execution": {
     "iopub.execute_input": "2022-07-17T08:56:57.418269Z",
     "iopub.status.busy": "2022-07-17T08:56:57.418067Z",
     "iopub.status.idle": "2022-07-17T08:56:57.425748Z",
     "shell.execute_reply": "2022-07-17T08:56:57.425174Z"
    }
   },
   "outputs": [
    {
     "data": {
      "text/latex": [
       "$\\displaystyle 0$"
      ],
      "text/plain": [
       "0"
      ]
     },
     "execution_count": 3,
     "metadata": {},
     "output_type": "execute_result"
    }
   ],
   "source": [
    "dvdax = v.dot(A.x).diff(alpha)\n",
    "dvdax"
   ]
  },
  {
   "cell_type": "code",
   "execution_count": 4,
   "id": "92366306",
   "metadata": {
    "execution": {
     "iopub.execute_input": "2022-07-17T08:56:57.428693Z",
     "iopub.status.busy": "2022-07-17T08:56:57.428219Z",
     "iopub.status.idle": "2022-07-17T08:56:57.440707Z",
     "shell.execute_reply": "2022-07-17T08:56:57.440116Z"
    }
   },
   "outputs": [
    {
     "data": {
      "text/latex": [
       "$\\displaystyle - d \\sin{\\left(\\alpha \\right)} + e \\sin{\\left(\\beta \\right)} \\cos{\\left(\\alpha \\right)} - f \\sin{\\left(\\alpha \\right)}$"
      ],
      "text/plain": [
       "-d⋅sin(α) + e⋅sin(β)⋅cos(α) - f⋅sin(α)"
      ]
     },
     "execution_count": 4,
     "metadata": {},
     "output_type": "execute_result"
    }
   ],
   "source": [
    "dvday = v.dot(A.y).diff(alpha)\n",
    "dvday"
   ]
  },
  {
   "cell_type": "code",
   "execution_count": 5,
   "id": "2a44838f",
   "metadata": {
    "execution": {
     "iopub.execute_input": "2022-07-17T08:56:57.443346Z",
     "iopub.status.busy": "2022-07-17T08:56:57.442845Z",
     "iopub.status.idle": "2022-07-17T08:56:57.454274Z",
     "shell.execute_reply": "2022-07-17T08:56:57.453697Z"
    }
   },
   "outputs": [
    {
     "data": {
      "text/latex": [
       "$\\displaystyle d \\cos{\\left(\\alpha \\right)} + e \\sin{\\left(\\alpha \\right)} \\sin{\\left(\\beta \\right)} + f \\cos{\\left(\\alpha \\right)}$"
      ],
      "text/plain": [
       "d⋅cos(α) + e⋅sin(α)⋅sin(β) + f⋅cos(α)"
      ]
     },
     "execution_count": 5,
     "metadata": {},
     "output_type": "execute_result"
    }
   ],
   "source": [
    "dvdaz = v.dot(A.z).diff(alpha)\n",
    "dvdaz"
   ]
  },
  {
   "cell_type": "code",
   "execution_count": 6,
   "id": "68705940",
   "metadata": {
    "execution": {
     "iopub.execute_input": "2022-07-17T08:56:57.456943Z",
     "iopub.status.busy": "2022-07-17T08:56:57.456471Z",
     "iopub.status.idle": "2022-07-17T08:56:57.464636Z",
     "shell.execute_reply": "2022-07-17T08:56:57.464047Z"
    }
   },
   "outputs": [
    {
     "data": {
      "text/latex": [
       "$\\displaystyle (- d \\sin{\\left(\\alpha \\right)} + e \\sin{\\left(\\beta \\right)} \\cos{\\left(\\alpha \\right)} - f \\sin{\\left(\\alpha \\right)})\\mathbf{\\hat{a}_y} + (d \\cos{\\left(\\alpha \\right)} + e \\sin{\\left(\\alpha \\right)} \\sin{\\left(\\beta \\right)} + f \\cos{\\left(\\alpha \\right)})\\mathbf{\\hat{a}_z}$"
      ],
      "text/plain": [
       "(-d⋅sin(α) + e⋅sin(β)⋅cos(α) - f⋅sin(α)) a_y + (d⋅cos(α) + e⋅sin(α)⋅sin(β) + f\n",
       "⋅cos(α)) a_z"
      ]
     },
     "execution_count": 6,
     "metadata": {},
     "output_type": "execute_result"
    }
   ],
   "source": [
    "dvda = dvdax*A.x + dvday*A.y + dvdaz*A.z\n",
    "dvda"
   ]
  },
  {
   "cell_type": "code",
   "execution_count": 7,
   "id": "9457b967",
   "metadata": {
    "execution": {
     "iopub.execute_input": "2022-07-17T08:56:57.467682Z",
     "iopub.status.busy": "2022-07-17T08:56:57.467211Z",
     "iopub.status.idle": "2022-07-17T08:56:57.502952Z",
     "shell.execute_reply": "2022-07-17T08:56:57.502325Z"
    }
   },
   "outputs": [
    {
     "data": {
      "text/latex": [
       "$\\displaystyle (d \\sin^{2}{\\left(\\alpha \\right)} + d \\cos^{2}{\\left(\\alpha \\right)})\\mathbf{\\hat{b}_z} + (- \\left(e \\sin{\\left(\\alpha \\right)} \\sin{\\left(\\beta \\right)} + f \\cos{\\left(\\alpha \\right)}\\right) \\sin{\\left(\\beta \\right)} \\cos{\\left(\\alpha \\right)} + \\left(e \\sin{\\left(\\beta \\right)} \\cos{\\left(\\alpha \\right)} - f \\sin{\\left(\\alpha \\right)}\\right) \\sin{\\left(\\alpha \\right)} \\sin{\\left(\\beta \\right)})\\mathbf{\\hat{c}_x} + (\\left(e \\sin{\\left(\\alpha \\right)} \\sin{\\left(\\beta \\right)} + f \\cos{\\left(\\alpha \\right)}\\right) \\sin{\\left(\\alpha \\right)} + \\left(e \\sin{\\left(\\beta \\right)} \\cos{\\left(\\alpha \\right)} - f \\sin{\\left(\\alpha \\right)}\\right) \\cos{\\left(\\alpha \\right)})\\mathbf{\\hat{c}_y} + (\\left(e \\sin{\\left(\\alpha \\right)} \\sin{\\left(\\beta \\right)} + f \\cos{\\left(\\alpha \\right)}\\right) \\cos{\\left(\\alpha \\right)} \\cos{\\left(\\beta \\right)} - \\left(e \\sin{\\left(\\beta \\right)} \\cos{\\left(\\alpha \\right)} - f \\sin{\\left(\\alpha \\right)}\\right) \\sin{\\left(\\alpha \\right)} \\cos{\\left(\\beta \\right)})\\mathbf{\\hat{c}_z}$"
      ],
      "text/plain": [
       "⎛     2           2   ⎞\n",
       "⎝d⋅sin (α) + d⋅cos (α)⎠ b_z + (-(e⋅sin(α)⋅sin(β) + f⋅cos(α))⋅sin(β)⋅cos(α) + (\n",
       "\n",
       "\n",
       "e⋅sin(β)⋅cos(α) - f⋅sin(α))⋅sin(α)⋅sin(β)) c_x + ((e⋅sin(α)⋅sin(β) + f⋅cos(α))\n",
       "\n",
       "\n",
       "⋅sin(α) + (e⋅sin(β)⋅cos(α) - f⋅sin(α))⋅cos(α)) c_y + ((e⋅sin(α)⋅sin(β) + f⋅cos\n",
       "\n",
       "\n",
       "(α))⋅cos(α)⋅cos(β) - (e⋅sin(β)⋅cos(α) - f⋅sin(α))⋅sin(α)⋅cos(β)) c_z"
      ]
     },
     "execution_count": 7,
     "metadata": {},
     "output_type": "execute_result"
    }
   ],
   "source": [
    "dvdalpha = v.diff(alpha, A)\n",
    "dvdalpha"
   ]
  },
  {
   "cell_type": "code",
   "execution_count": 8,
   "id": "3ced676f",
   "metadata": {
    "execution": {
     "iopub.execute_input": "2022-07-17T08:56:57.505423Z",
     "iopub.status.busy": "2022-07-17T08:56:57.505220Z",
     "iopub.status.idle": "2022-07-17T08:56:57.695968Z",
     "shell.execute_reply": "2022-07-17T08:56:57.695255Z"
    }
   },
   "outputs": [
    {
     "data": {
      "text/latex": [
       "$\\displaystyle d\\mathbf{\\hat{b}_z} -  f \\sin{\\left(\\beta \\right)}\\mathbf{\\hat{c}_x} + e \\sin{\\left(\\beta \\right)}\\mathbf{\\hat{c}_y} + f \\cos{\\left(\\beta \\right)}\\mathbf{\\hat{c}_z}$"
      ],
      "text/plain": [
       "d b_z + -f⋅sin(β) c_x + e⋅sin(β) c_y + f⋅cos(β) c_z"
      ]
     },
     "execution_count": 8,
     "metadata": {},
     "output_type": "execute_result"
    }
   ],
   "source": [
    "v.diff(alpha, A).simplify()"
   ]
  },
  {
   "cell_type": "code",
   "execution_count": 9,
   "id": "a24fb423",
   "metadata": {
    "execution": {
     "iopub.execute_input": "2022-07-17T08:56:57.698915Z",
     "iopub.status.busy": "2022-07-17T08:56:57.698324Z",
     "iopub.status.idle": "2022-07-17T08:56:58.516740Z",
     "shell.execute_reply": "2022-07-17T08:56:58.515836Z"
    }
   },
   "outputs": [
    {
     "data": {
      "text/latex": [
       "$\\displaystyle (- d \\sin{\\left(\\alpha \\right)} + e \\sin{\\left(\\beta \\right)} \\cos{\\left(\\alpha \\right)} - f \\sin{\\left(\\alpha \\right)})\\mathbf{\\hat{a}_y} + (d \\cos{\\left(\\alpha \\right)} + e \\sin{\\left(\\alpha \\right)} \\sin{\\left(\\beta \\right)} + f \\cos{\\left(\\alpha \\right)})\\mathbf{\\hat{a}_z}$"
      ],
      "text/plain": [
       "(-d⋅sin(α) + e⋅sin(β)⋅cos(α) - f⋅sin(α)) a_y + (d⋅cos(α) + e⋅sin(α)⋅sin(β) + f\n",
       "⋅cos(α)) a_z"
      ]
     },
     "execution_count": 9,
     "metadata": {},
     "output_type": "execute_result"
    }
   ],
   "source": [
    "v.diff(alpha, A).express(A).simplify()"
   ]
  },
  {
   "cell_type": "code",
   "execution_count": 10,
   "id": "616e3e6a",
   "metadata": {
    "execution": {
     "iopub.execute_input": "2022-07-17T08:56:58.519451Z",
     "iopub.status.busy": "2022-07-17T08:56:58.519021Z",
     "iopub.status.idle": "2022-07-17T08:56:58.524135Z",
     "shell.execute_reply": "2022-07-17T08:56:58.523548Z"
    }
   },
   "outputs": [
    {
     "data": {
      "text/latex": [
       "$\\displaystyle q{\\left(t \\right)}$"
      ],
      "text/plain": [
       "q(t)"
      ]
     },
     "execution_count": 10,
     "metadata": {},
     "output_type": "execute_result"
    }
   ],
   "source": [
    "t = sm.symbols('t')\n",
    "q_of = sm.Function('q')\n",
    "\n",
    "q = q_of(t)\n",
    "q"
   ]
  },
  {
   "cell_type": "code",
   "execution_count": 11,
   "id": "28091fca",
   "metadata": {
    "execution": {
     "iopub.execute_input": "2022-07-17T08:56:58.527294Z",
     "iopub.status.busy": "2022-07-17T08:56:58.526748Z",
     "iopub.status.idle": "2022-07-17T08:56:58.531674Z",
     "shell.execute_reply": "2022-07-17T08:56:58.531086Z"
    }
   },
   "outputs": [
    {
     "data": {
      "text/latex": [
       "$\\displaystyle \\frac{d}{d t} q{\\left(t \\right)}$"
      ],
      "text/plain": [
       "d       \n",
       "──(q(t))\n",
       "dt      "
      ]
     },
     "execution_count": 11,
     "metadata": {},
     "output_type": "execute_result"
    }
   ],
   "source": [
    "q.diff(t)"
   ]
  },
  {
   "cell_type": "code",
   "execution_count": 12,
   "id": "23ab7063",
   "metadata": {
    "execution": {
     "iopub.execute_input": "2022-07-17T08:56:58.534374Z",
     "iopub.status.busy": "2022-07-17T08:56:58.533985Z",
     "iopub.status.idle": "2022-07-17T08:56:58.539295Z",
     "shell.execute_reply": "2022-07-17T08:56:58.538718Z"
    }
   },
   "outputs": [
    {
     "data": {
      "text/latex": [
       "$\\displaystyle \\left( \\operatorname{q_{1}}{\\left(t \\right)}, \\  \\operatorname{q_{2}}{\\left(t \\right)}, \\  \\operatorname{q_{3}}{\\left(t \\right)}\\right)$"
      ],
      "text/plain": [
       "(q₁(t), q₂(t), q₃(t))"
      ]
     },
     "execution_count": 12,
     "metadata": {},
     "output_type": "execute_result"
    }
   ],
   "source": [
    "q1, q2, q3 = me.dynamicsymbols('q1, q2, q3')\n",
    "q1, q2, q3"
   ]
  },
  {
   "cell_type": "code",
   "execution_count": 13,
   "id": "77503ff5",
   "metadata": {
    "execution": {
     "iopub.execute_input": "2022-07-17T08:56:58.542286Z",
     "iopub.status.busy": "2022-07-17T08:56:58.541796Z",
     "iopub.status.idle": "2022-07-17T08:56:58.544652Z",
     "shell.execute_reply": "2022-07-17T08:56:58.544068Z"
    }
   },
   "outputs": [],
   "source": [
    "t = me.dynamicsymbols._t"
   ]
  },
  {
   "cell_type": "code",
   "execution_count": 14,
   "id": "c353ddc1",
   "metadata": {
    "execution": {
     "iopub.execute_input": "2022-07-17T08:56:58.547124Z",
     "iopub.status.busy": "2022-07-17T08:56:58.546651Z",
     "iopub.status.idle": "2022-07-17T08:56:58.554504Z",
     "shell.execute_reply": "2022-07-17T08:56:58.553907Z"
    }
   },
   "outputs": [
    {
     "data": {
      "text/latex": [
       "$\\displaystyle \\left( \\dot{q}_{1}, \\  \\ddot{q}_{2}, \\  \\dddot{q}_{3}\\right)$"
      ],
      "text/plain": [
       "(q₁̇, q₂̈, q₃⃛)"
      ]
     },
     "execution_count": 14,
     "metadata": {},
     "output_type": "execute_result"
    }
   ],
   "source": [
    "me.init_vprinting(use_latex='mathjax')\n",
    "q1.diff(t), q2.diff(t, 2), q3.diff(t, 3)"
   ]
  },
  {
   "cell_type": "code",
   "execution_count": 15,
   "id": "ee212d53",
   "metadata": {
    "execution": {
     "iopub.execute_input": "2022-07-17T08:56:58.557413Z",
     "iopub.status.busy": "2022-07-17T08:56:58.556936Z",
     "iopub.status.idle": "2022-07-17T08:56:58.722485Z",
     "shell.execute_reply": "2022-07-17T08:56:58.721749Z"
    }
   },
   "outputs": [
    {
     "data": {
      "text/latex": [
       "$\\displaystyle q_{1}\\mathbf{\\hat{a}_x} + q_{2}\\mathbf{\\hat{a}_y} + t^{2}\\mathbf{\\hat{a}_z}$"
      ],
      "text/plain": [
       "                   2\n",
       "q₁ a_x + q₂ a_y + t  a_z"
      ]
     },
     "execution_count": 15,
     "metadata": {},
     "output_type": "execute_result"
    }
   ],
   "source": [
    "A = me.ReferenceFrame('A')\n",
    "B = me.ReferenceFrame('B')\n",
    "B.orient_body_fixed(A, (q1, q2, q3), 'ZXZ')\n",
    "v = q1*A.x + q2*A.y + t**2*A.z\n",
    "v"
   ]
  },
  {
   "cell_type": "code",
   "execution_count": 16,
   "id": "5732d83c",
   "metadata": {
    "execution": {
     "iopub.execute_input": "2022-07-17T08:56:58.725314Z",
     "iopub.status.busy": "2022-07-17T08:56:58.724968Z",
     "iopub.status.idle": "2022-07-17T08:56:58.735967Z",
     "shell.execute_reply": "2022-07-17T08:56:58.734967Z"
    }
   },
   "outputs": [
    {
     "data": {
      "text/latex": [
       "$\\displaystyle \\dot{q}_{1}\\mathbf{\\hat{a}_x} + \\dot{q}_{2}\\mathbf{\\hat{a}_y} + 2 t\\mathbf{\\hat{a}_z}$"
      ],
      "text/plain": [
       "q₁̇ a_x + q₂̇ a_y + 2⋅t a_z"
      ]
     },
     "execution_count": 16,
     "metadata": {},
     "output_type": "execute_result"
    }
   ],
   "source": [
    "v.diff(t, A)"
   ]
  },
  {
   "cell_type": "code",
   "execution_count": 17,
   "id": "93d1cff9",
   "metadata": {
    "execution": {
     "iopub.execute_input": "2022-07-17T08:56:58.738776Z",
     "iopub.status.busy": "2022-07-17T08:56:58.738318Z",
     "iopub.status.idle": "2022-07-17T08:56:58.746491Z",
     "shell.execute_reply": "2022-07-17T08:56:58.745959Z"
    }
   },
   "outputs": [
    {
     "data": {
      "text/latex": [
       "$\\displaystyle \\dot{q}_{1}\\mathbf{\\hat{a}_x} + \\dot{q}_{2}\\mathbf{\\hat{a}_y} + 2 t\\mathbf{\\hat{a}_z}$"
      ],
      "text/plain": [
       "q₁̇ a_x + q₂̇ a_y + 2⋅t a_z"
      ]
     },
     "execution_count": 17,
     "metadata": {},
     "output_type": "execute_result"
    }
   ],
   "source": [
    "v.dt(A)"
   ]
  }
 ],
 "metadata": {
  "kernelspec": {
   "display_name": "Python 3 (ipykernel)",
   "language": "python",
   "name": "python3"
  },
  "language_info": {
   "codemirror_mode": {
    "name": "ipython",
    "version": 3
   },
   "file_extension": ".py",
   "mimetype": "text/x-python",
   "name": "python",
   "nbconvert_exporter": "python",
   "pygments_lexer": "ipython3",
   "version": "3.9.13"
  }
 },
 "nbformat": 4,
 "nbformat_minor": 5
}