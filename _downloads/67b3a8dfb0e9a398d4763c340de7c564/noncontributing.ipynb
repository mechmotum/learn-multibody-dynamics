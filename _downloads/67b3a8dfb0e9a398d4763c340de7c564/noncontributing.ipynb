{
 "cells": [
  {
   "cell_type": "code",
   "execution_count": 1,
   "id": "22f2c509",
   "metadata": {
    "execution": {
     "iopub.execute_input": "2022-07-17T08:59:56.524042Z",
     "iopub.status.busy": "2022-07-17T08:59:56.523794Z",
     "iopub.status.idle": "2022-07-17T08:59:57.068195Z",
     "shell.execute_reply": "2022-07-17T08:59:57.067561Z"
    }
   },
   "outputs": [],
   "source": [
    "import numpy as np\n",
    "import sympy as sm\n",
    "import sympy.physics.mechanics as me\n",
    "me.init_vprinting(use_latex='mathjax')"
   ]
  },
  {
   "cell_type": "code",
   "execution_count": 2,
   "id": "45449e90",
   "metadata": {
    "execution": {
     "iopub.execute_input": "2022-07-17T08:59:57.071765Z",
     "iopub.status.busy": "2022-07-17T08:59:57.071360Z",
     "iopub.status.idle": "2022-07-17T08:59:57.094122Z",
     "shell.execute_reply": "2022-07-17T08:59:57.093568Z"
    }
   },
   "outputs": [
    {
     "data": {
      "text/latex": [
       "$\\displaystyle \\left( \\left[\\begin{matrix}m_{1}\\\\m_{2}\\\\l_{1}\\\\l_{2}\\\\g\\end{matrix}\\right], \\  \\left[\\begin{matrix}q_{1}\\\\q_{2}\\end{matrix}\\right], \\  \\left[\\begin{matrix}u_{1}\\\\u_{2}\\end{matrix}\\right], \\  \\left[\\begin{matrix}T_{1}\\\\T_{2}\\end{matrix}\\right], \\  \\left[\\begin{matrix}\\dot{u}_{1}\\\\\\dot{u}_{2}\\end{matrix}\\right]\\right)$"
      ],
      "text/plain": [
       "⎛⎡m₁⎤                        ⎞\n",
       "⎜⎢  ⎥                        ⎟\n",
       "⎜⎢m₂⎥                        ⎟\n",
       "⎜⎢  ⎥  ⎡q₁⎤  ⎡u₁⎤  ⎡T₁⎤  ⎡u₁̇⎤⎟\n",
       "⎜⎢l₁⎥, ⎢  ⎥, ⎢  ⎥, ⎢  ⎥, ⎢  ⎥⎟\n",
       "⎜⎢  ⎥  ⎣q₂⎦  ⎣u₂⎦  ⎣T₂⎦  ⎣u₂̇⎦⎟\n",
       "⎜⎢l₂⎥                        ⎟\n",
       "⎜⎢  ⎥                        ⎟\n",
       "⎝⎣g ⎦                        ⎠"
      ]
     },
     "execution_count": 2,
     "metadata": {},
     "output_type": "execute_result"
    }
   ],
   "source": [
    "m1, m2, l1, l2, g = sm.symbols('m1, m2, l1, l2, g')\n",
    "q1, q2, u1, u2, T1, T2 = me.dynamicsymbols('q1, q2, u1, u2, T1, T2')\n",
    "t = me.dynamicsymbols._t\n",
    "\n",
    "p = sm.Matrix([m1, m2, l1, l2, g])\n",
    "q = sm.Matrix([q1, q2])\n",
    "u = sm.Matrix([u1, u2])\n",
    "r = sm.Matrix([T1, T2])\n",
    "\n",
    "ud = u.diff(t)\n",
    "\n",
    "p, q, u, r, ud"
   ]
  },
  {
   "cell_type": "code",
   "execution_count": 3,
   "id": "8be90734",
   "metadata": {
    "execution": {
     "iopub.execute_input": "2022-07-17T08:59:57.096907Z",
     "iopub.status.busy": "2022-07-17T08:59:57.096497Z",
     "iopub.status.idle": "2022-07-17T08:59:57.110891Z",
     "shell.execute_reply": "2022-07-17T08:59:57.110351Z"
    }
   },
   "outputs": [],
   "source": [
    "N = me.ReferenceFrame('N')\n",
    "A = me.ReferenceFrame('A')\n",
    "B = me.ReferenceFrame('B')\n",
    "\n",
    "A.orient_axis(N, q1, N.z)\n",
    "B.orient_axis(N, q2, N.z)\n",
    "\n",
    "A.set_ang_vel(N, u1*N.z)\n",
    "B.set_ang_vel(N, u2*N.z)"
   ]
  },
  {
   "cell_type": "code",
   "execution_count": 4,
   "id": "f577c046",
   "metadata": {
    "execution": {
     "iopub.execute_input": "2022-07-17T08:59:57.113713Z",
     "iopub.status.busy": "2022-07-17T08:59:57.113217Z",
     "iopub.status.idle": "2022-07-17T08:59:57.126005Z",
     "shell.execute_reply": "2022-07-17T08:59:57.124944Z"
    }
   },
   "outputs": [
    {
     "data": {
      "text/latex": [
       "$\\displaystyle l_{1} u_{1}\\mathbf{\\hat{a}_x}$"
      ],
      "text/plain": [
       "l₁⋅u₁ a_x"
      ]
     },
     "execution_count": 4,
     "metadata": {},
     "output_type": "execute_result"
    }
   ],
   "source": [
    "O = me.Point('O')\n",
    "P1 = O.locatenew('P1', -l1*A.y)\n",
    "P2 = P1.locatenew('P2', -l2*B.y)\n",
    "\n",
    "O.set_vel(N, 0)\n",
    "P1.v2pt_theory(O, N, A)"
   ]
  },
  {
   "cell_type": "code",
   "execution_count": 5,
   "id": "10442c98",
   "metadata": {
    "execution": {
     "iopub.execute_input": "2022-07-17T08:59:57.128795Z",
     "iopub.status.busy": "2022-07-17T08:59:57.128493Z",
     "iopub.status.idle": "2022-07-17T08:59:57.138505Z",
     "shell.execute_reply": "2022-07-17T08:59:57.137964Z"
    }
   },
   "outputs": [
    {
     "data": {
      "text/latex": [
       "$\\displaystyle l_{1} u_{1}\\mathbf{\\hat{a}_x} + l_{2} u_{2}\\mathbf{\\hat{b}_x}$"
      ],
      "text/plain": [
       "l₁⋅u₁ a_x + l₂⋅u₂ b_x"
      ]
     },
     "execution_count": 5,
     "metadata": {},
     "output_type": "execute_result"
    }
   ],
   "source": [
    "P2.v2pt_theory(P1, N, B)"
   ]
  },
  {
   "cell_type": "code",
   "execution_count": 6,
   "id": "6584ef55",
   "metadata": {
    "execution": {
     "iopub.execute_input": "2022-07-17T08:59:57.141280Z",
     "iopub.status.busy": "2022-07-17T08:59:57.140823Z",
     "iopub.status.idle": "2022-07-17T08:59:57.155133Z",
     "shell.execute_reply": "2022-07-17T08:59:57.154619Z"
    }
   },
   "outputs": [
    {
     "data": {
      "text/latex": [
       "$\\displaystyle l_{1} \\dot{u}_{1}\\mathbf{\\hat{a}_x} + l_{1} u_{1}^{2}\\mathbf{\\hat{a}_y}$"
      ],
      "text/plain": [
       "                 2\n",
       "l₁⋅u₁̇ a_x + l₁⋅u₁  a_y"
      ]
     },
     "execution_count": 6,
     "metadata": {},
     "output_type": "execute_result"
    }
   ],
   "source": [
    "P1.a2pt_theory(O, N, A)"
   ]
  },
  {
   "cell_type": "code",
   "execution_count": 7,
   "id": "fb02dbe8",
   "metadata": {
    "execution": {
     "iopub.execute_input": "2022-07-17T08:59:57.157870Z",
     "iopub.status.busy": "2022-07-17T08:59:57.157566Z",
     "iopub.status.idle": "2022-07-17T08:59:57.173121Z",
     "shell.execute_reply": "2022-07-17T08:59:57.172494Z"
    }
   },
   "outputs": [
    {
     "data": {
      "text/latex": [
       "$\\displaystyle l_{1} \\dot{u}_{1}\\mathbf{\\hat{a}_x} + l_{1} u_{1}^{2}\\mathbf{\\hat{a}_y} + l_{2} \\dot{u}_{2}\\mathbf{\\hat{b}_x} + l_{2} u_{2}^{2}\\mathbf{\\hat{b}_y}$"
      ],
      "text/plain": [
       "                 2                        2\n",
       "l₁⋅u₁̇ a_x + l₁⋅u₁  a_y + l₂⋅u₂̇ b_x + l₂⋅u₂  b_y"
      ]
     },
     "execution_count": 7,
     "metadata": {},
     "output_type": "execute_result"
    }
   ],
   "source": [
    "P2.a2pt_theory(P1, N, B)"
   ]
  },
  {
   "cell_type": "code",
   "execution_count": 8,
   "id": "3a50ede8",
   "metadata": {
    "execution": {
     "iopub.execute_input": "2022-07-17T08:59:57.175885Z",
     "iopub.status.busy": "2022-07-17T08:59:57.175580Z",
     "iopub.status.idle": "2022-07-17T08:59:57.188364Z",
     "shell.execute_reply": "2022-07-17T08:59:57.187750Z"
    }
   },
   "outputs": [
    {
     "data": {
      "text/latex": [
       "$\\displaystyle (- T_{1} \\sin{\\left(q_{1} \\right)} + T_{2} \\sin{\\left(q_{2} \\right)})\\mathbf{\\hat{n}_x} + (- g m_{1} + T_{1} \\cos{\\left(q_{1} \\right)} - T_{2} \\cos{\\left(q_{2} \\right)})\\mathbf{\\hat{n}_y}$"
      ],
      "text/plain": [
       "(-T₁⋅sin(q₁) + T₂⋅sin(q₂)) n_x + (-g⋅m₁ + T₁⋅cos(q₁) - T₂⋅cos(q₂)) n_y"
      ]
     },
     "execution_count": 8,
     "metadata": {},
     "output_type": "execute_result"
    }
   ],
   "source": [
    "F_P1 = T1*A.y - T2*B.y - m1*g*N.y\n",
    "F_P1.express(N)"
   ]
  },
  {
   "cell_type": "code",
   "execution_count": 9,
   "id": "9ef3f182",
   "metadata": {
    "execution": {
     "iopub.execute_input": "2022-07-17T08:59:57.191011Z",
     "iopub.status.busy": "2022-07-17T08:59:57.190549Z",
     "iopub.status.idle": "2022-07-17T08:59:57.200528Z",
     "shell.execute_reply": "2022-07-17T08:59:57.200010Z"
    }
   },
   "outputs": [
    {
     "data": {
      "text/latex": [
       "$\\displaystyle -  T_{2} \\sin{\\left(q_{2} \\right)}\\mathbf{\\hat{n}_x} + (- g m_{2} + T_{2} \\cos{\\left(q_{2} \\right)})\\mathbf{\\hat{n}_y}$"
      ],
      "text/plain": [
       "-T₂⋅sin(q₂) n_x + (-g⋅m₂ + T₂⋅cos(q₂)) n_y"
      ]
     },
     "execution_count": 9,
     "metadata": {},
     "output_type": "execute_result"
    }
   ],
   "source": [
    "F_P2 = T2*B.y - m2*g*N.y\n",
    "F_P2.express(N)"
   ]
  },
  {
   "cell_type": "code",
   "execution_count": 10,
   "id": "e94c45d3",
   "metadata": {
    "execution": {
     "iopub.execute_input": "2022-07-17T08:59:57.202897Z",
     "iopub.status.busy": "2022-07-17T08:59:57.202496Z",
     "iopub.status.idle": "2022-07-17T08:59:57.209046Z",
     "shell.execute_reply": "2022-07-17T08:59:57.208505Z"
    }
   },
   "outputs": [],
   "source": [
    "zero_P1 = F_P1 - m1*P1.acc(N)\n",
    "zero_P2 = F_P2 - m2*P2.acc(N)"
   ]
  },
  {
   "cell_type": "code",
   "execution_count": 11,
   "id": "d4fe506d",
   "metadata": {
    "execution": {
     "iopub.execute_input": "2022-07-17T08:59:57.211218Z",
     "iopub.status.busy": "2022-07-17T08:59:57.211020Z",
     "iopub.status.idle": "2022-07-17T08:59:57.246219Z",
     "shell.execute_reply": "2022-07-17T08:59:57.245482Z"
    }
   },
   "outputs": [
    {
     "data": {
      "text/latex": [
       "$\\displaystyle \\left[\\begin{matrix}- l_{1} m_{1} \\cos{\\left(q_{1} \\right)} \\dot{u}_{1} - \\left(- l_{1} m_{1} u_{1}^{2} + T_{1}\\right) \\sin{\\left(q_{1} \\right)} + T_{2} \\sin{\\left(q_{2} \\right)}\\\\- g m_{1} - l_{1} m_{1} \\sin{\\left(q_{1} \\right)} \\dot{u}_{1} + \\left(- l_{1} m_{1} u_{1}^{2} + T_{1}\\right) \\cos{\\left(q_{1} \\right)} - T_{2} \\cos{\\left(q_{2} \\right)}\\\\l_{1} m_{2} u_{1}^{2} \\sin{\\left(q_{1} \\right)} - l_{1} m_{2} \\cos{\\left(q_{1} \\right)} \\dot{u}_{1} - l_{2} m_{2} \\cos{\\left(q_{2} \\right)} \\dot{u}_{2} - \\left(- l_{2} m_{2} u_{2}^{2} + T_{2}\\right) \\sin{\\left(q_{2} \\right)}\\\\- g m_{2} - l_{1} m_{2} u_{1}^{2} \\cos{\\left(q_{1} \\right)} - l_{1} m_{2} \\sin{\\left(q_{1} \\right)} \\dot{u}_{1} - l_{2} m_{2} \\sin{\\left(q_{2} \\right)} \\dot{u}_{2} + \\left(- l_{2} m_{2} u_{2}^{2} + T_{2}\\right) \\cos{\\left(q_{2} \\right)}\\end{matrix}\\right]$"
      ],
      "text/plain": [
       "⎡                                    ⎛          2     ⎞                       \n",
       "⎢                -l₁⋅m₁⋅cos(q₁)⋅u₁̇ - ⎝- l₁⋅m₁⋅u₁  + T₁⎠⋅sin(q₁) + T₂⋅sin(q₂) \n",
       "⎢                                                                             \n",
       "⎢                                        ⎛          2     ⎞                   \n",
       "⎢             -g⋅m₁ - l₁⋅m₁⋅sin(q₁)⋅u₁̇ + ⎝- l₁⋅m₁⋅u₁  + T₁⎠⋅cos(q₁) - T₂⋅cos(\n",
       "⎢                                                                             \n",
       "⎢            2                                                 ⎛          2   \n",
       "⎢    l₁⋅m₂⋅u₁ ⋅sin(q₁) - l₁⋅m₂⋅cos(q₁)⋅u₁̇ - l₂⋅m₂⋅cos(q₂)⋅u₂̇ - ⎝- l₂⋅m₂⋅u₂  \n",
       "⎢                                                                             \n",
       "⎢                2                                                 ⎛          \n",
       "⎣-g⋅m₂ - l₁⋅m₂⋅u₁ ⋅cos(q₁) - l₁⋅m₂⋅sin(q₁)⋅u₁̇ - l₂⋅m₂⋅sin(q₂)⋅u₂̇ + ⎝- l₂⋅m₂⋅\n",
       "\n",
       "               ⎤\n",
       "                ⎥\n",
       "               ⎥\n",
       "               ⎥\n",
       "q₂)             ⎥\n",
       "               ⎥\n",
       "  ⎞            ⎥\n",
       "+ T₂⎠⋅sin(q₂)    ⎥\n",
       "               ⎥\n",
       "2     ⎞        ⎥\n",
       "u₂  + T₂⎠⋅cos(q₂)⎦"
      ]
     },
     "execution_count": 11,
     "metadata": {},
     "output_type": "execute_result"
    }
   ],
   "source": [
    "fd = sm.Matrix([\n",
    "    zero_P1.dot(N.x),\n",
    "    zero_P1.dot(N.y),\n",
    "    zero_P2.dot(N.x),\n",
    "    zero_P2.dot(N.y),\n",
    "])\n",
    "fd"
   ]
  },
  {
   "cell_type": "code",
   "execution_count": 12,
   "id": "6d8d0bec",
   "metadata": {
    "execution": {
     "iopub.execute_input": "2022-07-17T08:59:57.248658Z",
     "iopub.status.busy": "2022-07-17T08:59:57.248384Z",
     "iopub.status.idle": "2022-07-17T08:59:57.259155Z",
     "shell.execute_reply": "2022-07-17T08:59:57.258621Z"
    }
   },
   "outputs": [
    {
     "data": {
      "text/latex": [
       "$\\displaystyle \\left( \\left\\{T_{1}, T_{2}, q_{1}, q_{2}, u_{1}, \\dot{u}_{1}\\right\\}, \\  \\left\\{T_{1}, T_{2}, q_{1}, q_{2}, u_{1}, \\dot{u}_{1}\\right\\}, \\  \\left\\{T_{2}, q_{1}, q_{2}, u_{1}, u_{2}, \\dot{u}_{1}, \\dot{u}_{2}\\right\\}, \\  \\left\\{T_{2}, q_{1}, q_{2}, u_{1}, u_{2}, \\dot{u}_{1}, \\dot{u}_{2}\\right\\}\\right)$"
      ],
      "text/plain": [
       "({T₁, T₂, q₁, q₂, u₁, u₁̇}, {T₁, T₂, q₁, q₂, u₁, u₁̇}, {T₂, q₁, q₂, u₁, u₂, u₁\n",
       "̇, u₂̇}, {T₂, q₁, q₂, u₁, u₂, u₁̇, u₂̇})"
      ]
     },
     "execution_count": 12,
     "metadata": {},
     "output_type": "execute_result"
    }
   ],
   "source": [
    "(me.find_dynamicsymbols(fd[0]), me.find_dynamicsymbols(fd[1]),\n",
    " me.find_dynamicsymbols(fd[2]), me.find_dynamicsymbols(fd[3]))"
   ]
  },
  {
   "cell_type": "code",
   "execution_count": 13,
   "id": "ec754052",
   "metadata": {
    "execution": {
     "iopub.execute_input": "2022-07-17T08:59:57.261783Z",
     "iopub.status.busy": "2022-07-17T08:59:57.261245Z",
     "iopub.status.idle": "2022-07-17T08:59:57.268220Z",
     "shell.execute_reply": "2022-07-17T08:59:57.267176Z"
    }
   },
   "outputs": [
    {
     "data": {
      "text/latex": [
       "$\\displaystyle \\left( \\left[\\begin{matrix}\\dot{u}_{1}\\\\\\dot{u}_{2}\\end{matrix}\\right], \\  \\left[\\begin{matrix}T_{1}\\\\T_{2}\\end{matrix}\\right]\\right)$"
      ],
      "text/plain": [
       "⎛⎡u₁̇⎤  ⎡T₁⎤⎞\n",
       "⎜⎢  ⎥, ⎢  ⎥⎟\n",
       "⎝⎣u₂̇⎦  ⎣T₂⎦⎠"
      ]
     },
     "execution_count": 13,
     "metadata": {},
     "output_type": "execute_result"
    }
   ],
   "source": [
    "ud, r"
   ]
  },
  {
   "cell_type": "code",
   "execution_count": 14,
   "id": "8e1a0c66",
   "metadata": {
    "execution": {
     "iopub.execute_input": "2022-07-17T08:59:57.270780Z",
     "iopub.status.busy": "2022-07-17T08:59:57.270575Z",
     "iopub.status.idle": "2022-07-17T08:59:57.327043Z",
     "shell.execute_reply": "2022-07-17T08:59:57.326459Z"
    }
   },
   "outputs": [
    {
     "data": {
      "text/latex": [
       "$\\displaystyle \\left( \\left[\\begin{matrix}- l_{1} m_{1} \\cos{\\left(q_{1} \\right)} & 0 & - \\sin{\\left(q_{1} \\right)} & \\sin{\\left(q_{2} \\right)}\\\\- l_{1} m_{1} \\sin{\\left(q_{1} \\right)} & 0 & \\cos{\\left(q_{1} \\right)} & - \\cos{\\left(q_{2} \\right)}\\\\- l_{1} m_{2} \\cos{\\left(q_{1} \\right)} & - l_{2} m_{2} \\cos{\\left(q_{2} \\right)} & 0 & - \\sin{\\left(q_{2} \\right)}\\\\- l_{1} m_{2} \\sin{\\left(q_{1} \\right)} & - l_{2} m_{2} \\sin{\\left(q_{2} \\right)} & 0 & \\cos{\\left(q_{2} \\right)}\\end{matrix}\\right], \\  \\left[\\begin{matrix}\\dot{u}_{1}\\\\\\dot{u}_{2}\\\\T_{1}\\\\T_{2}\\end{matrix}\\right], \\  \\left[\\begin{matrix}l_{1} m_{1} u_{1}^{2} \\sin{\\left(q_{1} \\right)}\\\\- g m_{1} - l_{1} m_{1} u_{1}^{2} \\cos{\\left(q_{1} \\right)}\\\\l_{1} m_{2} u_{1}^{2} \\sin{\\left(q_{1} \\right)} + l_{2} m_{2} u_{2}^{2} \\sin{\\left(q_{2} \\right)}\\\\- g m_{2} - l_{1} m_{2} u_{1}^{2} \\cos{\\left(q_{1} \\right)} - l_{2} m_{2} u_{2}^{2} \\cos{\\left(q_{2} \\right)}\\end{matrix}\\right]\\right)$"
      ],
      "text/plain": [
       "⎛                                                            ⎡                \n",
       "⎜                                                            ⎢              l₁\n",
       "⎜⎡-l₁⋅m₁⋅cos(q₁)        0         -sin(q₁)  sin(q₂) ⎤  ⎡u₁̇⎤  ⎢               \n",
       "⎜⎢                                                  ⎥  ⎢  ⎥  ⎢                \n",
       "⎜⎢-l₁⋅m₁⋅sin(q₁)        0         cos(q₁)   -cos(q₂)⎥  ⎢u₂̇⎥  ⎢          -g⋅m₁\n",
       "⎜⎢                                                  ⎥, ⎢  ⎥, ⎢                \n",
       "⎜⎢-l₁⋅m₂⋅cos(q₁)  -l₂⋅m₂⋅cos(q₂)     0      -sin(q₂)⎥  ⎢T₁⎥  ⎢            2   \n",
       "⎜⎢                                                  ⎥  ⎢  ⎥  ⎢    l₁⋅m₂⋅u₁ ⋅si\n",
       "⎜⎣-l₁⋅m₂⋅sin(q₁)  -l₂⋅m₂⋅sin(q₂)     0      cos(q₂) ⎦  ⎣T₂⎦  ⎢                \n",
       "⎜                                                            ⎢                \n",
       "⎝                                                            ⎣-g⋅m₂ - l₁⋅m₂⋅u₁\n",
       "\n",
       "      2                      ⎤⎞\n",
       "⋅m₁⋅u₁ ⋅sin(q₁)              ⎥⎟\n",
       "                              ⎥⎟\n",
       "          2                  ⎥⎟\n",
       " - l₁⋅m₁⋅u₁ ⋅cos(q₁)          ⎥⎟\n",
       "                             ⎥⎟\n",
       "                2            ⎥⎟\n",
       "n(q₁) + l₂⋅m₂⋅u₂ ⋅sin(q₂)    ⎥⎟\n",
       "                             ⎥⎟\n",
       "2                   2        ⎥⎟\n",
       " ⋅cos(q₁) - l₂⋅m₂⋅u₂ ⋅cos(q₂)⎦⎠"
      ]
     },
     "execution_count": 14,
     "metadata": {},
     "output_type": "execute_result"
    }
   ],
   "source": [
    "udr = ud.col_join(r)\n",
    "udr_zero = {v: 0 for v in udr}\n",
    "\n",
    "Md = fd.jacobian(udr)\n",
    "gd = fd.xreplace(udr_zero)\n",
    "\n",
    "Md, udr, gd"
   ]
  },
  {
   "cell_type": "code",
   "execution_count": 15,
   "id": "b1fe2fa2",
   "metadata": {
    "execution": {
     "iopub.execute_input": "2022-07-17T08:59:57.330518Z",
     "iopub.status.busy": "2022-07-17T08:59:57.329455Z",
     "iopub.status.idle": "2022-07-17T08:59:57.338382Z",
     "shell.execute_reply": "2022-07-17T08:59:57.337213Z"
    }
   },
   "outputs": [
    {
     "data": {
      "text/latex": [
       "$\\displaystyle l_{1} u_{1}\\mathbf{\\hat{a}_x} -  u_{3}\\mathbf{\\hat{a}_y}$"
      ],
      "text/plain": [
       "l₁⋅u₁ a_x + -u₃ a_y"
      ]
     },
     "execution_count": 15,
     "metadata": {},
     "output_type": "execute_result"
    }
   ],
   "source": [
    "u3, u4 = me.dynamicsymbols('u3, u4')\n",
    "\n",
    "N_v_P1a = P1.vel(N) - u3*A.y\n",
    "N_v_P1a"
   ]
  },
  {
   "cell_type": "code",
   "execution_count": 16,
   "id": "d31f7cfe",
   "metadata": {
    "execution": {
     "iopub.execute_input": "2022-07-17T08:59:57.341785Z",
     "iopub.status.busy": "2022-07-17T08:59:57.340700Z",
     "iopub.status.idle": "2022-07-17T08:59:57.351209Z",
     "shell.execute_reply": "2022-07-17T08:59:57.350694Z"
    }
   },
   "outputs": [
    {
     "data": {
      "text/latex": [
       "$\\displaystyle l_{1} u_{1}\\mathbf{\\hat{a}_x} -  u_{3}\\mathbf{\\hat{a}_y} + l_{2} u_{2}\\mathbf{\\hat{b}_x} -  u_{4}\\mathbf{\\hat{b}_y}$"
      ],
      "text/plain": [
       "l₁⋅u₁ a_x + -u₃ a_y + l₂⋅u₂ b_x + -u₄ b_y"
      ]
     },
     "execution_count": 16,
     "metadata": {},
     "output_type": "execute_result"
    }
   ],
   "source": [
    "N_v_P2a = N_v_P1a + me.cross(B.ang_vel_in(N), P2.pos_from(P1)) - u4*B.y\n",
    "N_v_P2a"
   ]
  },
  {
   "cell_type": "code",
   "execution_count": 17,
   "id": "a3710199",
   "metadata": {
    "execution": {
     "iopub.execute_input": "2022-07-17T08:59:57.353705Z",
     "iopub.status.busy": "2022-07-17T08:59:57.353404Z",
     "iopub.status.idle": "2022-07-17T08:59:57.358635Z",
     "shell.execute_reply": "2022-07-17T08:59:57.358086Z"
    }
   },
   "outputs": [],
   "source": [
    "R_P1 = -m1*g*N.y\n",
    "R_P2 = -m2*g*N.y"
   ]
  },
  {
   "cell_type": "code",
   "execution_count": 18,
   "id": "f98394c4",
   "metadata": {
    "execution": {
     "iopub.execute_input": "2022-07-17T08:59:57.361091Z",
     "iopub.status.busy": "2022-07-17T08:59:57.360792Z",
     "iopub.status.idle": "2022-07-17T08:59:57.374056Z",
     "shell.execute_reply": "2022-07-17T08:59:57.373476Z"
    }
   },
   "outputs": [
    {
     "data": {
      "text/latex": [
       "$\\displaystyle - g l_{1} m_{1} \\sin{\\left(q_{1} \\right)} - g l_{1} m_{2} \\sin{\\left(q_{1} \\right)}$"
      ],
      "text/plain": [
       "-g⋅l₁⋅m₁⋅sin(q₁) - g⋅l₁⋅m₂⋅sin(q₁)"
      ]
     },
     "execution_count": 18,
     "metadata": {},
     "output_type": "execute_result"
    }
   ],
   "source": [
    "F1 = P1.vel(N).diff(u1, N).dot(R_P1) + P2.vel(N).diff(u1, N).dot(R_P2)\n",
    "F1"
   ]
  },
  {
   "cell_type": "code",
   "execution_count": 19,
   "id": "31e80cdf",
   "metadata": {
    "execution": {
     "iopub.execute_input": "2022-07-17T08:59:57.376541Z",
     "iopub.status.busy": "2022-07-17T08:59:57.376343Z",
     "iopub.status.idle": "2022-07-17T08:59:57.386307Z",
     "shell.execute_reply": "2022-07-17T08:59:57.385776Z"
    }
   },
   "outputs": [
    {
     "data": {
      "text/latex": [
       "$\\displaystyle - g l_{2} m_{2} \\sin{\\left(q_{2} \\right)}$"
      ],
      "text/plain": [
       "-g⋅l₂⋅m₂⋅sin(q₂)"
      ]
     },
     "execution_count": 19,
     "metadata": {},
     "output_type": "execute_result"
    }
   ],
   "source": [
    "F2 = P1.vel(N).diff(u2, N).dot(R_P1) + P2.vel(N).diff(u2, N).dot(R_P2)\n",
    "F2"
   ]
  },
  {
   "cell_type": "code",
   "execution_count": 20,
   "id": "04688124",
   "metadata": {
    "execution": {
     "iopub.execute_input": "2022-07-17T08:59:57.389602Z",
     "iopub.status.busy": "2022-07-17T08:59:57.388535Z",
     "iopub.status.idle": "2022-07-17T08:59:57.393784Z",
     "shell.execute_reply": "2022-07-17T08:59:57.393260Z"
    }
   },
   "outputs": [],
   "source": [
    "R_P1_aux = R_P1 + T1*A.y - T2*B.y\n",
    "R_P2_aux = R_P2 + T2*B.y"
   ]
  },
  {
   "cell_type": "code",
   "execution_count": 21,
   "id": "6d4926ff",
   "metadata": {
    "execution": {
     "iopub.execute_input": "2022-07-17T08:59:57.396438Z",
     "iopub.status.busy": "2022-07-17T08:59:57.396137Z",
     "iopub.status.idle": "2022-07-17T08:59:57.416744Z",
     "shell.execute_reply": "2022-07-17T08:59:57.416193Z"
    }
   },
   "outputs": [
    {
     "data": {
      "text/latex": [
       "$\\displaystyle g m_{1} \\cos{\\left(q_{1} \\right)} + g m_{2} \\cos{\\left(q_{1} \\right)} - T_{1}$"
      ],
      "text/plain": [
       "g⋅m₁⋅cos(q₁) + g⋅m₂⋅cos(q₁) - T₁"
      ]
     },
     "execution_count": 21,
     "metadata": {},
     "output_type": "execute_result"
    }
   ],
   "source": [
    "F3 = N_v_P1a.diff(u3, N).dot(R_P1_aux) + N_v_P2a.diff(u3, N).dot(R_P2_aux)\n",
    "F3"
   ]
  },
  {
   "cell_type": "code",
   "execution_count": 22,
   "id": "17bc16de",
   "metadata": {
    "execution": {
     "iopub.execute_input": "2022-07-17T08:59:57.419556Z",
     "iopub.status.busy": "2022-07-17T08:59:57.419045Z",
     "iopub.status.idle": "2022-07-17T08:59:57.430724Z",
     "shell.execute_reply": "2022-07-17T08:59:57.429607Z"
    }
   },
   "outputs": [
    {
     "data": {
      "text/latex": [
       "$\\displaystyle g m_{2} \\cos{\\left(q_{2} \\right)} - T_{2}$"
      ],
      "text/plain": [
       "g⋅m₂⋅cos(q₂) - T₂"
      ]
     },
     "execution_count": 22,
     "metadata": {},
     "output_type": "execute_result"
    }
   ],
   "source": [
    "F4 = N_v_P1a.diff(u4, N).dot(R_P1_aux) + N_v_P2a.diff(u4, N).dot(R_P2_aux)\n",
    "F4"
   ]
  },
  {
   "cell_type": "code",
   "execution_count": 23,
   "id": "93c5b4ea",
   "metadata": {
    "execution": {
     "iopub.execute_input": "2022-07-17T08:59:57.433433Z",
     "iopub.status.busy": "2022-07-17T08:59:57.432981Z",
     "iopub.status.idle": "2022-07-17T08:59:57.444430Z",
     "shell.execute_reply": "2022-07-17T08:59:57.443891Z"
    }
   },
   "outputs": [
    {
     "data": {
      "text/latex": [
       "$\\displaystyle \\left[\\begin{matrix}- g l_{1} m_{1} \\sin{\\left(q_{1} \\right)} - g l_{1} m_{2} \\sin{\\left(q_{1} \\right)}\\\\- g l_{2} m_{2} \\sin{\\left(q_{2} \\right)}\\\\g m_{1} \\cos{\\left(q_{1} \\right)} + g m_{2} \\cos{\\left(q_{1} \\right)} - T_{1}\\\\g m_{2} \\cos{\\left(q_{2} \\right)} - T_{2}\\end{matrix}\\right]$"
      ],
      "text/plain": [
       "⎡-g⋅l₁⋅m₁⋅sin(q₁) - g⋅l₁⋅m₂⋅sin(q₁)⎤\n",
       "⎢                                  ⎥\n",
       "⎢         -g⋅l₂⋅m₂⋅sin(q₂)         ⎥\n",
       "⎢                                  ⎥\n",
       "⎢ g⋅m₁⋅cos(q₁) + g⋅m₂⋅cos(q₁) - T₁ ⎥\n",
       "⎢                                  ⎥\n",
       "⎣        g⋅m₂⋅cos(q₂) - T₂         ⎦"
      ]
     },
     "execution_count": 23,
     "metadata": {},
     "output_type": "execute_result"
    }
   ],
   "source": [
    "Fr = sm.Matrix([F1, F2, F3, F4])\n",
    "Fr"
   ]
  },
  {
   "cell_type": "code",
   "execution_count": 24,
   "id": "007970c3",
   "metadata": {
    "execution": {
     "iopub.execute_input": "2022-07-17T08:59:57.447904Z",
     "iopub.status.busy": "2022-07-17T08:59:57.446774Z",
     "iopub.status.idle": "2022-07-17T08:59:57.452658Z",
     "shell.execute_reply": "2022-07-17T08:59:57.452143Z"
    }
   },
   "outputs": [],
   "source": [
    "Rs_P1 = -m1*P1.acc(N)\n",
    "Rs_P2 = -m2*P2.acc(N)"
   ]
  },
  {
   "cell_type": "code",
   "execution_count": 25,
   "id": "0f8134c4",
   "metadata": {
    "execution": {
     "iopub.execute_input": "2022-07-17T08:59:57.455418Z",
     "iopub.status.busy": "2022-07-17T08:59:57.454920Z",
     "iopub.status.idle": "2022-07-17T08:59:57.481700Z",
     "shell.execute_reply": "2022-07-17T08:59:57.481146Z"
    }
   },
   "outputs": [
    {
     "data": {
      "text/latex": [
       "$\\displaystyle - l_{1}^{2} m_{1} \\dot{u}_{1} - l_{1}^{2} m_{2} \\dot{u}_{1} + l_{1} \\left(- l_{2} m_{2} \\left(\\sin{\\left(q_{1} \\right)} \\sin{\\left(q_{2} \\right)} + \\cos{\\left(q_{1} \\right)} \\cos{\\left(q_{2} \\right)}\\right) \\dot{u}_{2} - l_{2} m_{2} \\left(\\sin{\\left(q_{1} \\right)} \\cos{\\left(q_{2} \\right)} - \\sin{\\left(q_{2} \\right)} \\cos{\\left(q_{1} \\right)}\\right) u_{2}^{2}\\right)$"
      ],
      "text/plain": [
       "    2           2            ⎛                                                \n",
       "- l₁ ⋅m₁⋅u₁̇ - l₁ ⋅m₂⋅u₁̇ + l₁⋅⎝-l₂⋅m₂⋅(sin(q₁)⋅sin(q₂) + cos(q₁)⋅cos(q₂))⋅u₂̇\n",
       "\n",
       "                                            2⎞\n",
       " - l₂⋅m₂⋅(sin(q₁)⋅cos(q₂) - sin(q₂)⋅cos(q₁))⋅u₂ ⎠"
      ]
     },
     "execution_count": 25,
     "metadata": {},
     "output_type": "execute_result"
    }
   ],
   "source": [
    "F1s = P1.vel(N).diff(u1, N).dot(Rs_P1) + P2.vel(N).diff(u1, N).dot(Rs_P2)\n",
    "F1s"
   ]
  },
  {
   "cell_type": "code",
   "execution_count": 26,
   "id": "58071a44",
   "metadata": {
    "execution": {
     "iopub.execute_input": "2022-07-17T08:59:57.484536Z",
     "iopub.status.busy": "2022-07-17T08:59:57.484046Z",
     "iopub.status.idle": "2022-07-17T08:59:57.506828Z",
     "shell.execute_reply": "2022-07-17T08:59:57.505868Z"
    }
   },
   "outputs": [
    {
     "data": {
      "text/latex": [
       "$\\displaystyle - l_{2}^{2} m_{2} \\dot{u}_{2} + l_{2} \\left(- l_{1} m_{2} \\left(\\sin{\\left(q_{1} \\right)} \\sin{\\left(q_{2} \\right)} + \\cos{\\left(q_{1} \\right)} \\cos{\\left(q_{2} \\right)}\\right) \\dot{u}_{1} - l_{1} m_{2} \\left(- \\sin{\\left(q_{1} \\right)} \\cos{\\left(q_{2} \\right)} + \\sin{\\left(q_{2} \\right)} \\cos{\\left(q_{1} \\right)}\\right) u_{1}^{2}\\right)$"
      ],
      "text/plain": [
       "    2            ⎛                                                            \n",
       "- l₂ ⋅m₂⋅u₂̇ + l₂⋅⎝-l₁⋅m₂⋅(sin(q₁)⋅sin(q₂) + cos(q₁)⋅cos(q₂))⋅u₁̇ - l₁⋅m₂⋅(-si\n",
       "\n",
       "                                 2⎞\n",
       "n(q₁)⋅cos(q₂) + sin(q₂)⋅cos(q₁))⋅u₁ ⎠"
      ]
     },
     "execution_count": 26,
     "metadata": {},
     "output_type": "execute_result"
    }
   ],
   "source": [
    "F2s = P1.vel(N).diff(u2, N).dot(Rs_P1) + P2.vel(N).diff(u2, N).dot(Rs_P2)\n",
    "F2s"
   ]
  },
  {
   "cell_type": "code",
   "execution_count": 27,
   "id": "0af99daa",
   "metadata": {
    "execution": {
     "iopub.execute_input": "2022-07-17T08:59:57.509407Z",
     "iopub.status.busy": "2022-07-17T08:59:57.509095Z",
     "iopub.status.idle": "2022-07-17T08:59:57.526101Z",
     "shell.execute_reply": "2022-07-17T08:59:57.525591Z"
    }
   },
   "outputs": [
    {
     "data": {
      "text/latex": [
       "$\\displaystyle l_{1} m_{1} u_{1}^{2} + l_{1} m_{2} u_{1}^{2} + l_{2} m_{2} \\left(\\sin{\\left(q_{1} \\right)} \\sin{\\left(q_{2} \\right)} + \\cos{\\left(q_{1} \\right)} \\cos{\\left(q_{2} \\right)}\\right) u_{2}^{2} + l_{2} m_{2} \\left(- \\sin{\\left(q_{1} \\right)} \\cos{\\left(q_{2} \\right)} + \\sin{\\left(q_{2} \\right)} \\cos{\\left(q_{1} \\right)}\\right) \\dot{u}_{2}$"
      ],
      "text/plain": [
       "        2           2                                               2         \n",
       "l₁⋅m₁⋅u₁  + l₁⋅m₂⋅u₁  + l₂⋅m₂⋅(sin(q₁)⋅sin(q₂) + cos(q₁)⋅cos(q₂))⋅u₂  + l₂⋅m₂⋅\n",
       "\n",
       "                                       \n",
       "(-sin(q₁)⋅cos(q₂) + sin(q₂)⋅cos(q₁))⋅u₂̇"
      ]
     },
     "execution_count": 27,
     "metadata": {},
     "output_type": "execute_result"
    }
   ],
   "source": [
    "F3s = N_v_P1a.diff(u3, N).dot(Rs_P1) + N_v_P2a.diff(u3, N).dot(Rs_P2)\n",
    "F3s"
   ]
  },
  {
   "cell_type": "code",
   "execution_count": 28,
   "id": "ac5c37be",
   "metadata": {
    "execution": {
     "iopub.execute_input": "2022-07-17T08:59:57.528645Z",
     "iopub.status.busy": "2022-07-17T08:59:57.528342Z",
     "iopub.status.idle": "2022-07-17T08:59:57.543721Z",
     "shell.execute_reply": "2022-07-17T08:59:57.543129Z"
    }
   },
   "outputs": [
    {
     "data": {
      "text/latex": [
       "$\\displaystyle l_{1} m_{2} \\left(\\sin{\\left(q_{1} \\right)} \\sin{\\left(q_{2} \\right)} + \\cos{\\left(q_{1} \\right)} \\cos{\\left(q_{2} \\right)}\\right) u_{1}^{2} + l_{1} m_{2} \\left(\\sin{\\left(q_{1} \\right)} \\cos{\\left(q_{2} \\right)} - \\sin{\\left(q_{2} \\right)} \\cos{\\left(q_{1} \\right)}\\right) \\dot{u}_{1} + l_{2} m_{2} u_{2}^{2}$"
      ],
      "text/plain": [
       "                                            2                                 \n",
       "l₁⋅m₂⋅(sin(q₁)⋅sin(q₂) + cos(q₁)⋅cos(q₂))⋅u₁  + l₁⋅m₂⋅(sin(q₁)⋅cos(q₂) - sin(q\n",
       "\n",
       "                         2\n",
       "₂)⋅cos(q₁))⋅u₁̇ + l₂⋅m₂⋅u₂ "
      ]
     },
     "execution_count": 28,
     "metadata": {},
     "output_type": "execute_result"
    }
   ],
   "source": [
    "F4s = N_v_P1a.diff(u4, N).dot(Rs_P1) + N_v_P2a.diff(u4, N).dot(Rs_P2)\n",
    "F4s"
   ]
  },
  {
   "cell_type": "code",
   "execution_count": 29,
   "id": "694318a2",
   "metadata": {
    "execution": {
     "iopub.execute_input": "2022-07-17T08:59:57.546011Z",
     "iopub.status.busy": "2022-07-17T08:59:57.545806Z",
     "iopub.status.idle": "2022-07-17T08:59:58.926595Z",
     "shell.execute_reply": "2022-07-17T08:59:58.925957Z"
    }
   },
   "outputs": [
    {
     "data": {
      "text/latex": [
       "$\\displaystyle \\left[\\begin{matrix}- l_{1} \\left(l_{1} m_{1} \\dot{u}_{1} + l_{1} m_{2} \\dot{u}_{1} + l_{2} m_{2} u_{2}^{2} \\sin{\\left(q_{1} - q_{2} \\right)} + l_{2} m_{2} \\cos{\\left(q_{1} - q_{2} \\right)} \\dot{u}_{2}\\right)\\\\l_{2} m_{2} \\left(l_{1} u_{1}^{2} \\sin{\\left(q_{1} - q_{2} \\right)} - l_{1} \\cos{\\left(q_{1} - q_{2} \\right)} \\dot{u}_{1} - l_{2} \\dot{u}_{2}\\right)\\\\l_{1} m_{1} u_{1}^{2} + l_{1} m_{2} u_{1}^{2} + l_{2} m_{2} u_{2}^{2} \\cos{\\left(q_{1} - q_{2} \\right)} - l_{2} m_{2} \\sin{\\left(q_{1} - q_{2} \\right)} \\dot{u}_{2}\\\\m_{2} \\left(l_{1} u_{1}^{2} \\cos{\\left(q_{1} - q_{2} \\right)} + l_{1} \\sin{\\left(q_{1} - q_{2} \\right)} \\dot{u}_{1} + l_{2} u_{2}^{2}\\right)\\end{matrix}\\right]$"
      ],
      "text/plain": [
       "⎡    ⎛                              2                                     ⎞⎤\n",
       "⎢-l₁⋅⎝l₁⋅m₁⋅u₁̇ + l₁⋅m₂⋅u₁̇ + l₂⋅m₂⋅u₂ ⋅sin(q₁ - q₂) + l₂⋅m₂⋅cos(q₁ - q₂)⋅u₂̇⎠⎥\n",
       "⎢                                                                          ⎥\n",
       "⎢               ⎛     2                                          ⎞         ⎥\n",
       "⎢         l₂⋅m₂⋅⎝l₁⋅u₁ ⋅sin(q₁ - q₂) - l₁⋅cos(q₁ - q₂)⋅u₁̇ - l₂⋅u₂̇⎠         ⎥\n",
       "⎢                                                                          ⎥\n",
       "⎢          2           2           2                                       ⎥\n",
       "⎢  l₁⋅m₁⋅u₁  + l₁⋅m₂⋅u₁  + l₂⋅m₂⋅u₂ ⋅cos(q₁ - q₂) - l₂⋅m₂⋅sin(q₁ - q₂)⋅u₂̇  ⎥\n",
       "⎢                                                                          ⎥\n",
       "⎢             ⎛     2                                          2⎞          ⎥\n",
       "⎣          m₂⋅⎝l₁⋅u₁ ⋅cos(q₁ - q₂) + l₁⋅sin(q₁ - q₂)⋅u₁̇ + l₂⋅u₂ ⎠          ⎦"
      ]
     },
     "execution_count": 29,
     "metadata": {},
     "output_type": "execute_result"
    }
   ],
   "source": [
    "Frs = sm.Matrix([F1s, F2s, F3s, F4s])\n",
    "Frs = sm.trigsimp(Frs)\n",
    "Frs"
   ]
  },
  {
   "cell_type": "code",
   "execution_count": 30,
   "id": "bd9899ef",
   "metadata": {
    "execution": {
     "iopub.execute_input": "2022-07-17T08:59:58.929233Z",
     "iopub.status.busy": "2022-07-17T08:59:58.929007Z",
     "iopub.status.idle": "2022-07-17T08:59:58.937230Z",
     "shell.execute_reply": "2022-07-17T08:59:58.936676Z"
    }
   },
   "outputs": [
    {
     "data": {
      "text/latex": [
       "$\\displaystyle \\left\\{T_{1}, T_{2}, q_{1}, q_{2}, u_{1}, u_{2}, \\dot{u}_{1}, \\dot{u}_{2}\\right\\}$"
      ],
      "text/plain": [
       "{T₁, T₂, q₁, q₂, u₁, u₂, u₁̇, u₂̇}"
      ]
     },
     "execution_count": 30,
     "metadata": {},
     "output_type": "execute_result"
    }
   ],
   "source": [
    "fa = Frs + Fr\n",
    "me.find_dynamicsymbols(fa)"
   ]
  },
  {
   "cell_type": "code",
   "execution_count": 31,
   "id": "2f750fd8",
   "metadata": {
    "execution": {
     "iopub.execute_input": "2022-07-17T08:59:58.939990Z",
     "iopub.status.busy": "2022-07-17T08:59:58.939658Z",
     "iopub.status.idle": "2022-07-17T08:59:59.006424Z",
     "shell.execute_reply": "2022-07-17T08:59:59.005776Z"
    }
   },
   "outputs": [
    {
     "data": {
      "text/latex": [
       "$\\displaystyle \\left( \\left[\\begin{matrix}- l_{1} \\left(l_{1} m_{1} + l_{1} m_{2}\\right) & - l_{1} l_{2} m_{2} \\cos{\\left(q_{1} - q_{2} \\right)} & 0 & 0\\\\- l_{1} l_{2} m_{2} \\cos{\\left(q_{1} - q_{2} \\right)} & - l_{2}^{2} m_{2} & 0 & 0\\\\0 & - l_{2} m_{2} \\sin{\\left(q_{1} - q_{2} \\right)} & -1 & 0\\\\l_{1} m_{2} \\sin{\\left(q_{1} - q_{2} \\right)} & 0 & 0 & -1\\end{matrix}\\right], \\  \\left[\\begin{matrix}\\dot{u}_{1}\\\\\\dot{u}_{2}\\\\T_{1}\\\\T_{2}\\end{matrix}\\right], \\  \\left[\\begin{matrix}- g l_{1} m_{1} \\sin{\\left(q_{1} \\right)} - g l_{1} m_{2} \\sin{\\left(q_{1} \\right)} - l_{1} l_{2} m_{2} u_{2}^{2} \\sin{\\left(q_{1} - q_{2} \\right)}\\\\- g l_{2} m_{2} \\sin{\\left(q_{2} \\right)} + l_{1} l_{2} m_{2} u_{1}^{2} \\sin{\\left(q_{1} - q_{2} \\right)}\\\\g m_{1} \\cos{\\left(q_{1} \\right)} + g m_{2} \\cos{\\left(q_{1} \\right)} + l_{1} m_{1} u_{1}^{2} + l_{1} m_{2} u_{1}^{2} + l_{2} m_{2} u_{2}^{2} \\cos{\\left(q_{1} - q_{2} \\right)}\\\\g m_{2} \\cos{\\left(q_{2} \\right)} + m_{2} \\left(l_{1} u_{1}^{2} \\cos{\\left(q_{1} - q_{2} \\right)} + l_{2} u_{2}^{2}\\right)\\end{matrix}\\right]\\right)$"
      ],
      "text/plain": [
       "⎛                                                                ⎡            \n",
       "⎜⎡ -l₁⋅(l₁⋅m₁ + l₁⋅m₂)    -l₁⋅l₂⋅m₂⋅cos(q₁ - q₂)  0   0 ⎤        ⎢       -g⋅l₁\n",
       "⎜⎢                                                      ⎥  ⎡u₁̇⎤  ⎢           \n",
       "⎜⎢                                  2                   ⎥  ⎢  ⎥  ⎢            \n",
       "⎜⎢-l₁⋅l₂⋅m₂⋅cos(q₁ - q₂)         -l₂ ⋅m₂          0   0 ⎥  ⎢u₂̇⎥  ⎢           \n",
       "⎜⎢                                                      ⎥, ⎢  ⎥, ⎢            \n",
       "⎜⎢          0              -l₂⋅m₂⋅sin(q₁ - q₂)    -1  0 ⎥  ⎢T₁⎥  ⎢            \n",
       "⎜⎢                                                      ⎥  ⎢  ⎥  ⎢g⋅m₁⋅cos(q₁)\n",
       "⎜⎣  l₁⋅m₂⋅sin(q₁ - q₂)              0             0   -1⎦  ⎣T₂⎦  ⎢            \n",
       "⎜                                                                ⎢            \n",
       "⎝                                                                ⎣            \n",
       "\n",
       "                                           2                    ⎤⎞\n",
       "⋅m₁⋅sin(q₁) - g⋅l₁⋅m₂⋅sin(q₁) - l₁⋅l₂⋅m₂⋅u₂ ⋅sin(q₁ - q₂)       ⎥⎟\n",
       "                                                                 ⎥⎟\n",
       "                                  2                             ⎥⎟\n",
       "     -g⋅l₂⋅m₂⋅sin(q₂) + l₁⋅l₂⋅m₂⋅u₁ ⋅sin(q₁ - q₂)                ⎥⎟\n",
       "                                                                ⎥⎟\n",
       "                          2           2           2             ⎥⎟\n",
       " + g⋅m₂⋅cos(q₁) + l₁⋅m₁⋅u₁  + l₁⋅m₂⋅u₁  + l₂⋅m₂⋅u₂ ⋅cos(q₁ - q₂)⎥⎟\n",
       "                                                                ⎥⎟\n",
       "                    ⎛     2                     2⎞              ⎥⎟\n",
       "  g⋅m₂⋅cos(q₂) + m₂⋅⎝l₁⋅u₁ ⋅cos(q₁ - q₂) + l₂⋅u₂ ⎠              ⎦⎠"
      ]
     },
     "execution_count": 31,
     "metadata": {},
     "output_type": "execute_result"
    }
   ],
   "source": [
    "Ma = fa.jacobian(udr)\n",
    "ga = fa.xreplace(udr_zero)\n",
    "\n",
    "Ma, udr, ga"
   ]
  },
  {
   "cell_type": "code",
   "execution_count": 32,
   "id": "f88b265c",
   "metadata": {
    "execution": {
     "iopub.execute_input": "2022-07-17T08:59:59.010042Z",
     "iopub.status.busy": "2022-07-17T08:59:59.008878Z",
     "iopub.status.idle": "2022-07-17T08:59:59.039688Z",
     "shell.execute_reply": "2022-07-17T08:59:59.039116Z"
    }
   },
   "outputs": [],
   "source": [
    "udr_sol = -Ma.LUsolve(ga)"
   ]
  },
  {
   "cell_type": "code",
   "execution_count": 33,
   "id": "231b4a84",
   "metadata": {
    "execution": {
     "iopub.execute_input": "2022-07-17T08:59:59.042560Z",
     "iopub.status.busy": "2022-07-17T08:59:59.042099Z",
     "iopub.status.idle": "2022-07-17T09:00:03.319864Z",
     "shell.execute_reply": "2022-07-17T09:00:03.319179Z"
    }
   },
   "outputs": [
    {
     "data": {
      "text/latex": [
       "$\\displaystyle g m_{1} \\cos{\\left(q_{1} \\right)} + g m_{2} \\cos{\\left(q_{1} \\right)} + l_{1} m_{1} u_{1}^{2} + l_{1} m_{2} u_{1}^{2} + l_{2} m_{2} u_{2}^{2} \\cos{\\left(q_{1} - q_{2} \\right)} + \\frac{l_{2} m_{2} \\left(- g l_{2} m_{2} \\sin{\\left(q_{2} \\right)} + l_{1} l_{2} m_{2} u_{1}^{2} \\sin{\\left(q_{1} - q_{2} \\right)} + \\frac{l_{1} l_{2} m_{2} \\left(g m_{1} \\sin{\\left(q_{1} \\right)} + g m_{2} \\sin{\\left(q_{1} \\right)} + l_{2} m_{2} u_{2}^{2} \\sin{\\left(q_{1} - q_{2} \\right)}\\right) \\cos{\\left(q_{1} - q_{2} \\right)}}{l_{1} m_{1} + l_{1} m_{2}}\\right) \\sin{\\left(q_{1} - q_{2} \\right)}}{\\frac{l_{1} l_{2}^{2} m_{2}^{2} \\cos^{2}{\\left(q_{1} - q_{2} \\right)}}{l_{1} m_{1} + l_{1} m_{2}} - l_{2}^{2} m_{2}}$"
      ],
      "text/plain": [
       "                                                                              \n",
       "                                                                              \n",
       "                                                                              \n",
       "                                      2           2           2               \n",
       "g⋅m₁⋅cos(q₁) + g⋅m₂⋅cos(q₁) + l₁⋅m₁⋅u₁  + l₁⋅m₂⋅u₁  + l₂⋅m₂⋅u₂ ⋅cos(q₁ - q₂) +\n",
       "                                                                              \n",
       "                                                                              \n",
       "                                                                              \n",
       "                                                                              \n",
       "\n",
       "       ⎛                                                        ⎛             \n",
       "       ⎜                              2                l₁⋅l₂⋅m₂⋅⎝g⋅m₁⋅sin(q₁) \n",
       " l₂⋅m₂⋅⎜-g⋅l₂⋅m₂⋅sin(q₂) + l₁⋅l₂⋅m₂⋅u₁ ⋅sin(q₁ - q₂) + ───────────────────────\n",
       "       ⎝                                                                      \n",
       " ─────────────────────────────────────────────────────────────────────────────\n",
       "                                                             2   2    2       \n",
       "                                                        l₁⋅l₂ ⋅m₂ ⋅cos (q₁ - q\n",
       "                                                        ──────────────────────\n",
       "                                                             l₁⋅m₁ + l₁⋅m₂    \n",
       "\n",
       "                         2             ⎞             ⎞             \n",
       "+ g⋅m₂⋅sin(q₁) + l₂⋅m₂⋅u₂ ⋅sin(q₁ - q₂)⎠⋅cos(q₁ - q₂)⎟             \n",
       "─────────────────────────────────────────────────────⎟⋅sin(q₁ - q₂)\n",
       "        l₁⋅m₁ + l₁⋅m₂                                ⎠             \n",
       "───────────────────────────────────────────────────────────────────\n",
       "                                                                   \n",
       "₂)     2                                                           \n",
       "── - l₂ ⋅m₂                                                        \n",
       "                                                                   "
      ]
     },
     "execution_count": 33,
     "metadata": {},
     "output_type": "execute_result"
    }
   ],
   "source": [
    "T1_sol = sm.trigsimp(udr_sol[2])\n",
    "T1_sol"
   ]
  },
  {
   "cell_type": "code",
   "execution_count": 34,
   "id": "b2e484e8",
   "metadata": {
    "execution": {
     "iopub.execute_input": "2022-07-17T09:00:03.323129Z",
     "iopub.status.busy": "2022-07-17T09:00:03.322596Z",
     "iopub.status.idle": "2022-07-17T09:00:07.214879Z",
     "shell.execute_reply": "2022-07-17T09:00:07.213957Z"
    }
   },
   "outputs": [
    {
     "data": {
      "text/latex": [
       "$\\displaystyle g m_{2} \\cos{\\left(q_{2} \\right)} + \\frac{l_{1} l_{2} m_{2}^{2} \\left(- g l_{2} m_{2} \\sin{\\left(q_{2} \\right)} + l_{1} l_{2} m_{2} u_{1}^{2} \\sin{\\left(q_{1} - q_{2} \\right)} + \\frac{l_{1} l_{2} m_{2} \\left(g m_{1} \\sin{\\left(q_{1} \\right)} + g m_{2} \\sin{\\left(q_{1} \\right)} + l_{2} m_{2} u_{2}^{2} \\sin{\\left(q_{1} - q_{2} \\right)}\\right) \\cos{\\left(q_{1} - q_{2} \\right)}}{l_{1} m_{1} + l_{1} m_{2}}\\right) \\sin{\\left(q_{1} - q_{2} \\right)} \\cos{\\left(q_{1} - q_{2} \\right)}}{\\left(l_{1} m_{1} + l_{1} m_{2}\\right) \\left(\\frac{l_{1} l_{2}^{2} m_{2}^{2} \\cos^{2}{\\left(q_{1} - q_{2} \\right)}}{l_{1} m_{1} + l_{1} m_{2}} - l_{2}^{2} m_{2}\\right)} - \\frac{l_{1} m_{2} \\left(g m_{1} \\sin{\\left(q_{1} \\right)} + g m_{2} \\sin{\\left(q_{1} \\right)} + l_{2} m_{2} u_{2}^{2} \\sin{\\left(q_{1} - q_{2} \\right)}\\right) \\sin{\\left(q_{1} - q_{2} \\right)}}{l_{1} m_{1} + l_{1} m_{2}} + m_{2} \\left(l_{1} u_{1}^{2} \\cos{\\left(q_{1} - q_{2} \\right)} + l_{2} u_{2}^{2}\\right)$"
      ],
      "text/plain": [
       "                         ⎛                                                    \n",
       "                       2 ⎜                              2                l₁⋅l₂\n",
       "               l₁⋅l₂⋅m₂ ⋅⎜-g⋅l₂⋅m₂⋅sin(q₂) + l₁⋅l₂⋅m₂⋅u₁ ⋅sin(q₁ - q₂) + ─────\n",
       "                         ⎝                                                    \n",
       "g⋅m₂⋅cos(q₂) + ───────────────────────────────────────────────────────────────\n",
       "                                                                              \n",
       "                                                                              \n",
       "                                                                      (l₁⋅m₁ +\n",
       "                                                                              \n",
       "\n",
       "    ⎛                                      2             ⎞             ⎞      \n",
       "⋅m₂⋅⎝g⋅m₁⋅sin(q₁) + g⋅m₂⋅sin(q₁) + l₂⋅m₂⋅u₂ ⋅sin(q₁ - q₂)⎠⋅cos(q₁ - q₂)⎟      \n",
       "───────────────────────────────────────────────────────────────────────⎟⋅sin(q\n",
       "                          l₁⋅m₁ + l₁⋅m₂                                ⎠      \n",
       "──────────────────────────────────────────────────────────────────────────────\n",
       "        ⎛     2   2    2                  ⎞                                   \n",
       "        ⎜l₁⋅l₂ ⋅m₂ ⋅cos (q₁ - q₂)     2   ⎟                                   \n",
       " l₁⋅m₂)⋅⎜──────────────────────── - l₂ ⋅m₂⎟                                   \n",
       "        ⎝     l₁⋅m₁ + l₁⋅m₂               ⎠                                   \n",
       "\n",
       "                                                                              \n",
       "                                                                              \n",
       "₁ - q₂)⋅cos(q₁ - q₂)         ⎛                                      2         \n",
       "                       l₁⋅m₂⋅⎝g⋅m₁⋅sin(q₁) + g⋅m₂⋅sin(q₁) + l₂⋅m₂⋅u₂ ⋅sin(q₁ -\n",
       "──────────────────── - ───────────────────────────────────────────────────────\n",
       "                                                     l₁⋅m₁ + l₁⋅m₂            \n",
       "                                                                              \n",
       "                                                                              \n",
       "                                                                              \n",
       "\n",
       "                                                      \n",
       "                                                      \n",
       "    ⎞                                                 \n",
       " q₂)⎠⋅sin(q₁ - q₂)      ⎛     2                     2⎞\n",
       "────────────────── + m₂⋅⎝l₁⋅u₁ ⋅cos(q₁ - q₂) + l₂⋅u₂ ⎠\n",
       "                                                      \n",
       "                                                      \n",
       "                                                      \n",
       "                                                      "
      ]
     },
     "execution_count": 34,
     "metadata": {},
     "output_type": "execute_result"
    }
   ],
   "source": [
    "T2_sol = sm.trigsimp(udr_sol[3])\n",
    "T2_sol"
   ]
  },
  {
   "cell_type": "code",
   "execution_count": 35,
   "id": "446d381f",
   "metadata": {
    "execution": {
     "iopub.execute_input": "2022-07-17T09:00:07.217642Z",
     "iopub.status.busy": "2022-07-17T09:00:07.217287Z",
     "iopub.status.idle": "2022-07-17T09:00:07.221808Z",
     "shell.execute_reply": "2022-07-17T09:00:07.221093Z"
    }
   },
   "outputs": [],
   "source": [
    "q0 = np.array([\n",
    "    np.deg2rad(15.0),  # q1 [rad]\n",
    "    np.deg2rad(25.0),  # q2 [rad]\n",
    "])\n",
    "\n",
    "u0 = np.array([\n",
    "    np.deg2rad(123.0),  # u1 [rad/s]\n",
    "    np.deg2rad(-41.0),  # u2 [rad/s]\n",
    "])\n",
    "\n",
    "p_vals = np.array([\n",
    "    1.2,  # m1 [kg]\n",
    "    5.6,  # m2 [kg]\n",
    "    1.34,  # l1 [m]\n",
    "    6.7,  # l2 [m]\n",
    "    9.81,  # g [m/2^2]\n",
    "])"
   ]
  },
  {
   "cell_type": "code",
   "execution_count": 36,
   "id": "15b4710e",
   "metadata": {
    "execution": {
     "iopub.execute_input": "2022-07-17T09:00:07.223978Z",
     "iopub.status.busy": "2022-07-17T09:00:07.223767Z",
     "iopub.status.idle": "2022-07-17T09:00:07.304923Z",
     "shell.execute_reply": "2022-07-17T09:00:07.304255Z"
    }
   },
   "outputs": [],
   "source": [
    "eval_d = sm.lambdify((q, u, p), (Md, gd))\n",
    "eval_a = sm.lambdify((q, u, p), (Ma, ga))\n",
    "\n",
    "Md_vals, gd_vals = eval_d(q0, u0, p_vals)\n",
    "Ma_vals, ga_vals = eval_a(q0, u0, p_vals)"
   ]
  },
  {
   "cell_type": "code",
   "execution_count": 37,
   "id": "66610c93",
   "metadata": {
    "execution": {
     "iopub.execute_input": "2022-07-17T09:00:07.308105Z",
     "iopub.status.busy": "2022-07-17T09:00:07.307661Z",
     "iopub.status.idle": "2022-07-17T09:00:07.312409Z",
     "shell.execute_reply": "2022-07-17T09:00:07.311824Z"
    }
   },
   "outputs": [
    {
     "data": {
      "text/plain": [
       "array([  8.09538007,  -2.37332094, 109.88598116,  92.50997719])"
      ]
     },
     "execution_count": 37,
     "metadata": {},
     "output_type": "execute_result"
    }
   ],
   "source": [
    "-np.linalg.solve(Md_vals, np.squeeze(gd_vals))"
   ]
  },
  {
   "cell_type": "code",
   "execution_count": 38,
   "id": "70c6b855",
   "metadata": {
    "execution": {
     "iopub.execute_input": "2022-07-17T09:00:07.315465Z",
     "iopub.status.busy": "2022-07-17T09:00:07.314924Z",
     "iopub.status.idle": "2022-07-17T09:00:07.319169Z",
     "shell.execute_reply": "2022-07-17T09:00:07.318606Z"
    }
   },
   "outputs": [
    {
     "data": {
      "text/plain": [
       "array([  8.09538007,  -2.37332094, 109.88598116,  92.50997719])"
      ]
     },
     "execution_count": 38,
     "metadata": {},
     "output_type": "execute_result"
    }
   ],
   "source": [
    "-np.linalg.solve(Ma_vals, np.squeeze(ga_vals))"
   ]
  },
  {
   "cell_type": "code",
   "execution_count": 39,
   "id": "3d24d1e5",
   "metadata": {
    "execution": {
     "iopub.execute_input": "2022-07-17T09:00:07.321637Z",
     "iopub.status.busy": "2022-07-17T09:00:07.321182Z",
     "iopub.status.idle": "2022-07-17T09:00:07.362759Z",
     "shell.execute_reply": "2022-07-17T09:00:07.362094Z"
    }
   },
   "outputs": [
    {
     "data": {
      "text/latex": [
       "$\\displaystyle \\left( 109.885981161619, \\  92.5099771909879\\right)$"
      ],
      "text/plain": [
       "(109.88598116161896, 92.50997719098791)"
      ]
     },
     "execution_count": 39,
     "metadata": {},
     "output_type": "execute_result"
    }
   ],
   "source": [
    "eval_forces = sm.lambdify((q, u, p), (T1_sol, T2_sol))\n",
    "eval_forces(q0, u0, p_vals)"
   ]
  },
  {
   "cell_type": "code",
   "execution_count": 40,
   "id": "b56c0b42",
   "metadata": {
    "execution": {
     "iopub.execute_input": "2022-07-17T09:00:07.365353Z",
     "iopub.status.busy": "2022-07-17T09:00:07.365014Z",
     "iopub.status.idle": "2022-07-17T09:00:07.369106Z",
     "shell.execute_reply": "2022-07-17T09:00:07.368480Z"
    }
   },
   "outputs": [],
   "source": [
    "def eval_rhs_newton(t, x, p):\n",
    "\n",
    "    q = x[:2]\n",
    "    u = x[2:]\n",
    "\n",
    "    Md, gd = eval_d(q, u, p)\n",
    "    udr = -np.linalg.solve(Md, np.squeeze(gd))\n",
    "\n",
    "    qd = u\n",
    "    ud = sol[:2]\n",
    "    r = sol[2:]\n",
    "\n",
    "    return np.hstack((qd, ud))"
   ]
  }
 ],
 "metadata": {
  "kernelspec": {
   "display_name": "Python 3 (ipykernel)",
   "language": "python",
   "name": "python3"
  },
  "language_info": {
   "codemirror_mode": {
    "name": "ipython",
    "version": 3
   },
   "file_extension": ".py",
   "mimetype": "text/x-python",
   "name": "python",
   "nbconvert_exporter": "python",
   "pygments_lexer": "ipython3",
   "version": "3.9.13"
  }
 },
 "nbformat": 4,
 "nbformat_minor": 5
}