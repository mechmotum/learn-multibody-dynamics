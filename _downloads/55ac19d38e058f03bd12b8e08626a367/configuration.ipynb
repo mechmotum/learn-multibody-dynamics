{
 "cells": [
  {
   "cell_type": "code",
   "execution_count": 1,
   "id": "475cebd2",
   "metadata": {
    "execution": {
     "iopub.execute_input": "2022-07-17T08:56:54.142478Z",
     "iopub.status.busy": "2022-07-17T08:56:54.142176Z",
     "iopub.status.idle": "2022-07-17T08:56:54.604299Z",
     "shell.execute_reply": "2022-07-17T08:56:54.603620Z"
    }
   },
   "outputs": [],
   "source": [
    "import sympy as sm\n",
    "import sympy.physics.mechanics as me\n",
    "me.init_vprinting(use_latex='mathjax')"
   ]
  },
  {
   "cell_type": "code",
   "execution_count": 2,
   "id": "32224fa7",
   "metadata": {
    "execution": {
     "iopub.execute_input": "2022-07-17T08:56:54.607724Z",
     "iopub.status.busy": "2022-07-17T08:56:54.607443Z",
     "iopub.status.idle": "2022-07-17T08:56:54.626117Z",
     "shell.execute_reply": "2022-07-17T08:56:54.625571Z"
    }
   },
   "outputs": [],
   "source": [
    "q1, q2, q3 = me.dynamicsymbols('q1, q2, q3')\n",
    "la, lb, lc, ln = sm.symbols('l_a, l_b, l_c, l_n')\n",
    "\n",
    "N = me.ReferenceFrame('N')\n",
    "A = me.ReferenceFrame('A')\n",
    "B = me.ReferenceFrame('B')\n",
    "C = me.ReferenceFrame('C')\n",
    "\n",
    "A.orient_axis(N, q1, N.z)\n",
    "B.orient_axis(A, q2, A.z)\n",
    "C.orient_axis(B, q3, B.z)\n",
    "\n",
    "P1 = me.Point('P1')\n",
    "P2 = me.Point('P2')\n",
    "P3 = me.Point('P3')\n",
    "P4 = me.Point('P4')"
   ]
  },
  {
   "cell_type": "code",
   "execution_count": 3,
   "id": "9038fa9c",
   "metadata": {
    "execution": {
     "iopub.execute_input": "2022-07-17T08:56:54.628801Z",
     "iopub.status.busy": "2022-07-17T08:56:54.628589Z",
     "iopub.status.idle": "2022-07-17T08:56:54.636726Z",
     "shell.execute_reply": "2022-07-17T08:56:54.636146Z"
    }
   },
   "outputs": [
    {
     "data": {
      "text/latex": [
       "$\\displaystyle l_{c}\\mathbf{\\hat{c}_x} + l_{b}\\mathbf{\\hat{b}_x} + l_{a}\\mathbf{\\hat{a}_x}$"
      ],
      "text/plain": [
       "l_c c_x + l_b b_x + lₐ a_x"
      ]
     },
     "execution_count": 3,
     "metadata": {},
     "output_type": "execute_result"
    }
   ],
   "source": [
    "P2.set_pos(P1, la*A.x)\n",
    "P3.set_pos(P2, lb*B.x)\n",
    "P4.set_pos(P3, lc*C.x)\n",
    "\n",
    "P4.pos_from(P1)"
   ]
  },
  {
   "cell_type": "code",
   "execution_count": 4,
   "id": "735e2919",
   "metadata": {
    "execution": {
     "iopub.execute_input": "2022-07-17T08:56:54.640111Z",
     "iopub.status.busy": "2022-07-17T08:56:54.639737Z",
     "iopub.status.idle": "2022-07-17T08:56:54.642938Z",
     "shell.execute_reply": "2022-07-17T08:56:54.642332Z"
    }
   },
   "outputs": [],
   "source": [
    "r_P1_P4 = ln*N.x"
   ]
  },
  {
   "cell_type": "code",
   "execution_count": 5,
   "id": "5bd57800",
   "metadata": {
    "execution": {
     "iopub.execute_input": "2022-07-17T08:56:54.645355Z",
     "iopub.status.busy": "2022-07-17T08:56:54.644967Z",
     "iopub.status.idle": "2022-07-17T08:56:54.650720Z",
     "shell.execute_reply": "2022-07-17T08:56:54.650116Z"
    }
   },
   "outputs": [
    {
     "data": {
      "text/latex": [
       "$\\displaystyle l_{c}\\mathbf{\\hat{c}_x} + l_{b}\\mathbf{\\hat{b}_x} + l_{a}\\mathbf{\\hat{a}_x} -  l_{n}\\mathbf{\\hat{n}_x}$"
      ],
      "text/plain": [
       "l_c c_x + l_b b_x + lₐ a_x + -lₙ n_x"
      ]
     },
     "execution_count": 5,
     "metadata": {},
     "output_type": "execute_result"
    }
   ],
   "source": [
    "loop = P4.pos_from(P1) - r_P1_P4\n",
    "loop"
   ]
  },
  {
   "cell_type": "code",
   "execution_count": 6,
   "id": "02d6537b",
   "metadata": {
    "execution": {
     "iopub.execute_input": "2022-07-17T08:56:54.653643Z",
     "iopub.status.busy": "2022-07-17T08:56:54.653154Z",
     "iopub.status.idle": "2022-07-17T08:56:55.085808Z",
     "shell.execute_reply": "2022-07-17T08:56:55.085117Z"
    }
   },
   "outputs": [
    {
     "data": {
      "text/latex": [
       "$\\displaystyle l_{a} \\cos{\\left(q_{1} \\right)} + l_{b} \\cos{\\left(q_{1} + q_{2} \\right)} + l_{c} \\cos{\\left(q_{1} + q_{2} + q_{3} \\right)} - l_{n}$"
      ],
      "text/plain": [
       "lₐ⋅cos(q₁) + l_b⋅cos(q₁ + q₂) + l_c⋅cos(q₁ + q₂ + q₃) - lₙ"
      ]
     },
     "execution_count": 6,
     "metadata": {},
     "output_type": "execute_result"
    }
   ],
   "source": [
    "fhx = sm.trigsimp(loop.dot(N.x))\n",
    "fhx"
   ]
  },
  {
   "cell_type": "code",
   "execution_count": 7,
   "id": "b3ca7ef7",
   "metadata": {
    "execution": {
     "iopub.execute_input": "2022-07-17T08:56:55.089145Z",
     "iopub.status.busy": "2022-07-17T08:56:55.088635Z",
     "iopub.status.idle": "2022-07-17T08:56:55.440298Z",
     "shell.execute_reply": "2022-07-17T08:56:55.439601Z"
    }
   },
   "outputs": [
    {
     "data": {
      "text/latex": [
       "$\\displaystyle l_{a} \\sin{\\left(q_{1} \\right)} + l_{b} \\sin{\\left(q_{1} + q_{2} \\right)} + l_{c} \\sin{\\left(q_{1} + q_{2} + q_{3} \\right)}$"
      ],
      "text/plain": [
       "lₐ⋅sin(q₁) + l_b⋅sin(q₁ + q₂) + l_c⋅sin(q₁ + q₂ + q₃)"
      ]
     },
     "execution_count": 7,
     "metadata": {},
     "output_type": "execute_result"
    }
   ],
   "source": [
    "fhy = sm.trigsimp(loop.dot(N.y))\n",
    "fhy"
   ]
  },
  {
   "cell_type": "code",
   "execution_count": 8,
   "id": "52078131",
   "metadata": {
    "execution": {
     "iopub.execute_input": "2022-07-17T08:56:55.443183Z",
     "iopub.status.busy": "2022-07-17T08:56:55.442825Z",
     "iopub.status.idle": "2022-07-17T08:56:55.454654Z",
     "shell.execute_reply": "2022-07-17T08:56:55.454101Z"
    }
   },
   "outputs": [
    {
     "data": {
      "text/latex": [
       "$\\displaystyle \\left[\\begin{matrix}l_{a} \\cos{\\left(q_{1} \\right)} + l_{b} \\cos{\\left(q_{1} + q_{2} \\right)} + l_{c} \\cos{\\left(q_{1} + q_{2} + q_{3} \\right)} - l_{n}\\\\l_{a} \\sin{\\left(q_{1} \\right)} + l_{b} \\sin{\\left(q_{1} + q_{2} \\right)} + l_{c} \\sin{\\left(q_{1} + q_{2} + q_{3} \\right)}\\end{matrix}\\right]$"
      ],
      "text/plain": [
       "⎡lₐ⋅cos(q₁) + l_b⋅cos(q₁ + q₂) + l_c⋅cos(q₁ + q₂ + q₃) - lₙ⎤\n",
       "⎢                                                          ⎥\n",
       "⎣  lₐ⋅sin(q₁) + l_b⋅sin(q₁ + q₂) + l_c⋅sin(q₁ + q₂ + q₃)   ⎦"
      ]
     },
     "execution_count": 8,
     "metadata": {},
     "output_type": "execute_result"
    }
   ],
   "source": [
    "fh = sm.Matrix([fhx, fhy])\n",
    "fh"
   ]
  }
 ],
 "metadata": {
  "kernelspec": {
   "display_name": "Python 3 (ipykernel)",
   "language": "python",
   "name": "python3"
  },
  "language_info": {
   "codemirror_mode": {
    "name": "ipython",
    "version": 3
   },
   "file_extension": ".py",
   "mimetype": "text/x-python",
   "name": "python",
   "nbconvert_exporter": "python",
   "pygments_lexer": "ipython3",
   "version": "3.9.13"
  }
 },
 "nbformat": 4,
 "nbformat_minor": 5
}