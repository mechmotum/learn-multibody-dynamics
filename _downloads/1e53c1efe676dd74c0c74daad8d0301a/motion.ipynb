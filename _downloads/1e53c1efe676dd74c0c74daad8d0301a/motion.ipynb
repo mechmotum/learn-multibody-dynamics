{
 "cells": [
  {
   "cell_type": "code",
   "execution_count": 1,
   "id": "b150231c",
   "metadata": {
    "execution": {
     "iopub.execute_input": "2022-07-17T08:59:48.639511Z",
     "iopub.status.busy": "2022-07-17T08:59:48.639048Z",
     "iopub.status.idle": "2022-07-17T08:59:49.100276Z",
     "shell.execute_reply": "2022-07-17T08:59:49.099540Z"
    }
   },
   "outputs": [],
   "source": [
    "import sympy as sm\n",
    "import sympy.physics.mechanics as me\n",
    "me.init_vprinting(use_latex='mathjax')"
   ]
  },
  {
   "cell_type": "code",
   "execution_count": 2,
   "id": "e53335f5",
   "metadata": {
    "execution": {
     "iopub.execute_input": "2022-07-17T08:59:49.103730Z",
     "iopub.status.busy": "2022-07-17T08:59:49.103287Z",
     "iopub.status.idle": "2022-07-17T08:59:49.133523Z",
     "shell.execute_reply": "2022-07-17T08:59:49.132908Z"
    }
   },
   "outputs": [
    {
     "data": {
      "text/latex": [
       "$\\displaystyle (\\sin{\\left(\\theta \\right)} \\dot{y} + \\cos{\\left(\\theta \\right)} \\dot{x})\\mathbf{\\hat{a}_x} + (- \\sin{\\left(\\theta \\right)} \\dot{x} + \\cos{\\left(\\theta \\right)} \\dot{y})\\mathbf{\\hat{a}_y}$"
      ],
      "text/plain": [
       "(sin(θ)⋅ẏ + cos(θ)⋅ẋ) a_x + (-sin(θ)⋅ẋ + cos(θ)⋅ẏ) a_y"
      ]
     },
     "execution_count": 2,
     "metadata": {},
     "output_type": "execute_result"
    }
   ],
   "source": [
    "x, y, theta = me.dynamicsymbols('x, y, theta')\n",
    "\n",
    "N = me.ReferenceFrame('N')\n",
    "A = me.ReferenceFrame('A')\n",
    "\n",
    "A.orient_axis(N, theta, N.z)\n",
    "\n",
    "O = me.Point('O')\n",
    "P = me.Point('P')\n",
    "\n",
    "P.set_pos(O, x*N.x + y*N.y)\n",
    "\n",
    "O.set_vel(N, 0)\n",
    "\n",
    "P.vel(N).express(A)"
   ]
  },
  {
   "cell_type": "code",
   "execution_count": 3,
   "id": "00d8cfcc",
   "metadata": {
    "execution": {
     "iopub.execute_input": "2022-07-17T08:59:49.136336Z",
     "iopub.status.busy": "2022-07-17T08:59:49.135953Z",
     "iopub.status.idle": "2022-07-17T08:59:49.143108Z",
     "shell.execute_reply": "2022-07-17T08:59:49.142543Z"
    }
   },
   "outputs": [
    {
     "data": {
      "text/latex": [
       "$\\displaystyle - \\sin{\\left(\\theta \\right)} \\dot{x} + \\cos{\\left(\\theta \\right)} \\dot{y}$"
      ],
      "text/plain": [
       "-sin(θ)⋅ẋ + cos(θ)⋅ẏ"
      ]
     },
     "execution_count": 3,
     "metadata": {},
     "output_type": "execute_result"
    }
   ],
   "source": [
    "fn = P.vel(N).dot(A.y)\n",
    "fn"
   ]
  },
  {
   "cell_type": "code",
   "execution_count": 4,
   "id": "33213fec",
   "metadata": {
    "execution": {
     "iopub.execute_input": "2022-07-17T08:59:49.145490Z",
     "iopub.status.busy": "2022-07-17T08:59:49.145291Z",
     "iopub.status.idle": "2022-07-17T08:59:49.804533Z",
     "shell.execute_reply": "2022-07-17T08:59:49.803813Z"
    }
   },
   "outputs": [
    {
     "data": {
      "text/latex": [
       "$\\displaystyle - l_{a} \\sin{\\left(q_{1} \\right)} \\dot{q}_{1} - l_{b} \\left(\\dot{q}_{1} + \\dot{q}_{2}\\right) \\sin{\\left(q_{1} + q_{2} \\right)} - l_{c} \\left(\\dot{q}_{1} + \\dot{q}_{2} + \\dot{q}_{3}\\right) \\sin{\\left(q_{1} + q_{2} + q_{3} \\right)}$"
      ],
      "text/plain": [
       "-lₐ⋅sin(q₁)⋅q₁̇ - l_b⋅(q₁̇ + q₂̇)⋅sin(q₁ + q₂) - l_c⋅(q₁̇ + q₂̇ + q₃̇)⋅sin(q₁ \n",
       "+ q₂ + q₃)"
      ]
     },
     "execution_count": 4,
     "metadata": {},
     "output_type": "execute_result"
    }
   ],
   "source": [
    "t = me.dynamicsymbols._t\n",
    "\n",
    "q1, q2, q3 = me.dynamicsymbols('q1, q2, q3')\n",
    "la, lb, lc, ln = sm.symbols('l_a, l_b, l_c, l_n')\n",
    "\n",
    "fhx = la*sm.cos(q1) + lb*sm.cos(q1 + q2) + lc*sm.cos(q1 + q2 + q3) - ln\n",
    "sm.trigsimp(fhx.diff(t))"
   ]
  },
  {
   "cell_type": "code",
   "execution_count": 5,
   "id": "1663664c",
   "metadata": {
    "execution": {
     "iopub.execute_input": "2022-07-17T08:59:49.807377Z",
     "iopub.status.busy": "2022-07-17T08:59:49.807037Z",
     "iopub.status.idle": "2022-07-17T08:59:49.813412Z",
     "shell.execute_reply": "2022-07-17T08:59:49.812819Z"
    }
   },
   "outputs": [
    {
     "data": {
      "text/latex": [
       "$\\displaystyle \\left( - \\sin{\\left(\\theta \\right)}, \\  \\cos{\\left(\\theta \\right)}, \\  0\\right)$"
      ],
      "text/plain": [
       "(-sin(θ), cos(θ), 0)"
      ]
     },
     "execution_count": 5,
     "metadata": {},
     "output_type": "execute_result"
    }
   ],
   "source": [
    "dfdx = fn.coeff(x.diff(t))\n",
    "dfdy = fn.coeff(y.diff(t))\n",
    "dfdth = fn.coeff(theta.diff(t))\n",
    "\n",
    "dfdx, dfdy, dfdth"
   ]
  },
  {
   "cell_type": "code",
   "execution_count": 6,
   "id": "ad1cbb63",
   "metadata": {
    "execution": {
     "iopub.execute_input": "2022-07-17T08:59:49.816431Z",
     "iopub.status.busy": "2022-07-17T08:59:49.815962Z",
     "iopub.status.idle": "2022-07-17T08:59:49.820558Z",
     "shell.execute_reply": "2022-07-17T08:59:49.819973Z"
    }
   },
   "outputs": [
    {
     "data": {
      "text/latex": [
       "$\\displaystyle \\left( 0, \\  0\\right)$"
      ],
      "text/plain": [
       "(0, 0)"
      ]
     },
     "execution_count": 6,
     "metadata": {},
     "output_type": "execute_result"
    }
   ],
   "source": [
    "dfdx.diff(y), dfdy.diff(x)"
   ]
  },
  {
   "cell_type": "code",
   "execution_count": 7,
   "id": "53fc862b",
   "metadata": {
    "execution": {
     "iopub.execute_input": "2022-07-17T08:59:49.823527Z",
     "iopub.status.busy": "2022-07-17T08:59:49.822992Z",
     "iopub.status.idle": "2022-07-17T08:59:49.830343Z",
     "shell.execute_reply": "2022-07-17T08:59:49.829752Z"
    }
   },
   "outputs": [
    {
     "data": {
      "text/latex": [
       "$\\displaystyle \\left( - \\cos{\\left(\\theta \\right)}, \\  0\\right)$"
      ],
      "text/plain": [
       "(-cos(θ), 0)"
      ]
     },
     "execution_count": 7,
     "metadata": {},
     "output_type": "execute_result"
    }
   ],
   "source": [
    "dfdx.diff(theta), dfdth.diff(x)"
   ]
  },
  {
   "cell_type": "code",
   "execution_count": 8,
   "id": "f9ea9670",
   "metadata": {
    "execution": {
     "iopub.execute_input": "2022-07-17T08:59:49.832866Z",
     "iopub.status.busy": "2022-07-17T08:59:49.832330Z",
     "iopub.status.idle": "2022-07-17T08:59:49.838685Z",
     "shell.execute_reply": "2022-07-17T08:59:49.838068Z"
    }
   },
   "outputs": [
    {
     "data": {
      "text/latex": [
       "$\\displaystyle \\left( - \\sin{\\left(\\theta \\right)}, \\  0\\right)$"
      ],
      "text/plain": [
       "(-sin(θ), 0)"
      ]
     },
     "execution_count": 8,
     "metadata": {},
     "output_type": "execute_result"
    }
   ],
   "source": [
    "dfdy.diff(theta), dfdth.diff(y)"
   ]
  },
  {
   "cell_type": "code",
   "execution_count": 9,
   "id": "badef1d4",
   "metadata": {
    "execution": {
     "iopub.execute_input": "2022-07-17T08:59:49.841107Z",
     "iopub.status.busy": "2022-07-17T08:59:49.840649Z",
     "iopub.status.idle": "2022-07-17T08:59:50.288963Z",
     "shell.execute_reply": "2022-07-17T08:59:50.288240Z"
    }
   },
   "outputs": [
    {
     "data": {
      "text/latex": [
       "$\\displaystyle (- \\sin{\\left(q_{3} \\right)} \\cos{\\left(q_{2} \\right)} \\dot{q}_{1} + \\cos{\\left(q_{3} \\right)} \\dot{q}_{2})\\mathbf{\\hat{b}_x} + (\\sin{\\left(q_{2} \\right)} \\dot{q}_{1} + \\dot{q}_{3})\\mathbf{\\hat{b}_y} + (\\sin{\\left(q_{3} \\right)} \\dot{q}_{2} + \\cos{\\left(q_{2} \\right)} \\cos{\\left(q_{3} \\right)} \\dot{q}_{1})\\mathbf{\\hat{b}_z}$"
      ],
      "text/plain": [
       "(-sin(q₃)⋅cos(q₂)⋅q₁̇ + cos(q₃)⋅q₂̇) b_x + (sin(q₂)⋅q₁̇ + q₃̇) b_y + (sin(q₃)⋅\n",
       "q₂̇ + cos(q₂)⋅cos(q₃)⋅q₁̇) b_z"
      ]
     },
     "execution_count": 9,
     "metadata": {},
     "output_type": "execute_result"
    }
   ],
   "source": [
    "q1, q2, q3 = me.dynamicsymbols('q1, q2, q3')\n",
    "\n",
    "A = me.ReferenceFrame('A')\n",
    "B = me.ReferenceFrame('B')\n",
    "\n",
    "B.orient_body_fixed(A, (q1, q2, q3), 'ZXY')\n",
    "\n",
    "A_w_B = B.ang_vel_in(A).simplify()\n",
    "A_w_B"
   ]
  },
  {
   "cell_type": "code",
   "execution_count": 10,
   "id": "6770f47d",
   "metadata": {
    "execution": {
     "iopub.execute_input": "2022-07-17T08:59:50.291880Z",
     "iopub.status.busy": "2022-07-17T08:59:50.291522Z",
     "iopub.status.idle": "2022-07-17T08:59:50.305562Z",
     "shell.execute_reply": "2022-07-17T08:59:50.304979Z"
    }
   },
   "outputs": [
    {
     "data": {
      "text/latex": [
       "$\\displaystyle (- u_{1} \\sin{\\left(q_{3} \\right)} \\cos{\\left(q_{2} \\right)} + u_{2} \\cos{\\left(q_{3} \\right)})\\mathbf{\\hat{b}_x} + (u_{1} \\sin{\\left(q_{2} \\right)} + u_{3})\\mathbf{\\hat{b}_y} + (u_{1} \\cos{\\left(q_{2} \\right)} \\cos{\\left(q_{3} \\right)} + u_{2} \\sin{\\left(q_{3} \\right)})\\mathbf{\\hat{b}_z}$"
      ],
      "text/plain": [
       "(-u₁⋅sin(q₃)⋅cos(q₂) + u₂⋅cos(q₃)) b_x + (u₁⋅sin(q₂) + u₃) b_y + (u₁⋅cos(q₂)⋅c\n",
       "os(q₃) + u₂⋅sin(q₃)) b_z"
      ]
     },
     "execution_count": 10,
     "metadata": {},
     "output_type": "execute_result"
    }
   ],
   "source": [
    "u1, u2, u3 = me.dynamicsymbols('u1, u2, u3')\n",
    "\n",
    "t = me.dynamicsymbols._t\n",
    "qdot = sm.Matrix([q1.diff(t), q2.diff(t), q3.diff(t)])\n",
    "u = sm.Matrix([u1, u2, u3])\n",
    "\n",
    "A_w_B = A_w_B.xreplace(dict(zip(qdot, u)))\n",
    "A_w_B"
   ]
  },
  {
   "cell_type": "code",
   "execution_count": 11,
   "id": "f5b419ed",
   "metadata": {
    "execution": {
     "iopub.execute_input": "2022-07-17T08:59:50.308123Z",
     "iopub.status.busy": "2022-07-17T08:59:50.307647Z",
     "iopub.status.idle": "2022-07-17T08:59:50.313295Z",
     "shell.execute_reply": "2022-07-17T08:59:50.312711Z"
    }
   },
   "outputs": [
    {
     "data": {
      "text/latex": [
       "$\\displaystyle \\left[\\begin{matrix}\\dot{q}_{1}\\\\\\dot{q}_{2}\\\\\\dot{q}_{3}\\end{matrix}\\right]$"
      ],
      "text/plain": [
       "⎡q₁̇⎤\n",
       "⎢  ⎥\n",
       "⎢q₂̇⎥\n",
       "⎢  ⎥\n",
       "⎣q₃̇⎦"
      ]
     },
     "execution_count": 11,
     "metadata": {},
     "output_type": "execute_result"
    }
   ],
   "source": [
    "Yk_plus_zk = qdot\n",
    "Yk_plus_zk"
   ]
  },
  {
   "cell_type": "code",
   "execution_count": 12,
   "id": "629629ac",
   "metadata": {
    "execution": {
     "iopub.execute_input": "2022-07-17T08:59:50.316374Z",
     "iopub.status.busy": "2022-07-17T08:59:50.315907Z",
     "iopub.status.idle": "2022-07-17T08:59:50.367303Z",
     "shell.execute_reply": "2022-07-17T08:59:50.366659Z"
    }
   },
   "outputs": [
    {
     "data": {
      "text/latex": [
       "$\\displaystyle \\left[\\begin{matrix}1 & 0 & 0\\\\0 & 1 & 0\\\\0 & 0 & 1\\end{matrix}\\right]$"
      ],
      "text/plain": [
       "⎡1  0  0⎤\n",
       "⎢       ⎥\n",
       "⎢0  1  0⎥\n",
       "⎢       ⎥\n",
       "⎣0  0  1⎦"
      ]
     },
     "execution_count": 12,
     "metadata": {},
     "output_type": "execute_result"
    }
   ],
   "source": [
    "Yk = Yk_plus_zk.jacobian(qdot)\n",
    "Yk"
   ]
  },
  {
   "cell_type": "code",
   "execution_count": 13,
   "id": "db5f8e16",
   "metadata": {
    "execution": {
     "iopub.execute_input": "2022-07-17T08:59:50.370421Z",
     "iopub.status.busy": "2022-07-17T08:59:50.370066Z",
     "iopub.status.idle": "2022-07-17T08:59:50.376101Z",
     "shell.execute_reply": "2022-07-17T08:59:50.375517Z"
    }
   },
   "outputs": [
    {
     "data": {
      "text/latex": [
       "$\\displaystyle \\left\\{ \\dot{q}_{1} : 0, \\  \\dot{q}_{2} : 0, \\  \\dot{q}_{3} : 0\\right\\}$"
      ],
      "text/plain": [
       "{q₁̇: 0, q₂̇: 0, q₃̇: 0}"
      ]
     },
     "execution_count": 13,
     "metadata": {},
     "output_type": "execute_result"
    }
   ],
   "source": [
    "qd_zero_repl = dict(zip(qdot, sm.zeros(3, 1)))\n",
    "qd_zero_repl"
   ]
  },
  {
   "cell_type": "code",
   "execution_count": 14,
   "id": "5ae68aab",
   "metadata": {
    "execution": {
     "iopub.execute_input": "2022-07-17T08:59:50.379202Z",
     "iopub.status.busy": "2022-07-17T08:59:50.378715Z",
     "iopub.status.idle": "2022-07-17T08:59:50.383433Z",
     "shell.execute_reply": "2022-07-17T08:59:50.382853Z"
    }
   },
   "outputs": [
    {
     "data": {
      "text/latex": [
       "$\\displaystyle \\left[\\begin{matrix}0\\\\0\\\\0\\end{matrix}\\right]$"
      ],
      "text/plain": [
       "⎡0⎤\n",
       "⎢ ⎥\n",
       "⎢0⎥\n",
       "⎢ ⎥\n",
       "⎣0⎦"
      ]
     },
     "execution_count": 14,
     "metadata": {},
     "output_type": "execute_result"
    }
   ],
   "source": [
    "zk = Yk_plus_zk.xreplace(qd_zero_repl)\n",
    "zk"
   ]
  },
  {
   "cell_type": "code",
   "execution_count": 15,
   "id": "85d276b9",
   "metadata": {
    "execution": {
     "iopub.execute_input": "2022-07-17T08:59:50.386383Z",
     "iopub.status.busy": "2022-07-17T08:59:50.385917Z",
     "iopub.status.idle": "2022-07-17T08:59:50.400500Z",
     "shell.execute_reply": "2022-07-17T08:59:50.399937Z"
    }
   },
   "outputs": [
    {
     "data": {
      "text/latex": [
       "$\\displaystyle \\left[\\begin{matrix}\\dot{q}_{1}\\\\\\dot{q}_{2}\\\\\\dot{q}_{3}\\end{matrix}\\right] = \\left[\\begin{matrix}u_{1}\\\\u_{2}\\\\u_{3}\\end{matrix}\\right]$"
      ],
      "text/plain": [
       "⎡q₁̇⎤   ⎡u₁⎤\n",
       "⎢  ⎥   ⎢  ⎥\n",
       "⎢q₂̇⎥ = ⎢u₂⎥\n",
       "⎢  ⎥   ⎢  ⎥\n",
       "⎣q₃̇⎦   ⎣u₃⎦"
      ]
     },
     "execution_count": 15,
     "metadata": {},
     "output_type": "execute_result"
    }
   ],
   "source": [
    "sm.Eq(qdot, Yk.LUsolve(u - zk))"
   ]
  },
  {
   "cell_type": "code",
   "execution_count": 16,
   "id": "cbb74531",
   "metadata": {
    "execution": {
     "iopub.execute_input": "2022-07-17T08:59:50.403053Z",
     "iopub.status.busy": "2022-07-17T08:59:50.402517Z",
     "iopub.status.idle": "2022-07-17T08:59:50.674022Z",
     "shell.execute_reply": "2022-07-17T08:59:50.673333Z"
    }
   },
   "outputs": [
    {
     "data": {
      "text/latex": [
       "$\\displaystyle (- \\sin{\\left(q_{3} \\right)} \\cos{\\left(q_{2} \\right)} \\dot{q}_{1} + \\cos{\\left(q_{3} \\right)} \\dot{q}_{2})\\mathbf{\\hat{b}_x} + (\\sin{\\left(q_{2} \\right)} \\dot{q}_{1} + \\dot{q}_{3})\\mathbf{\\hat{b}_y} + (\\sin{\\left(q_{3} \\right)} \\dot{q}_{2} + \\cos{\\left(q_{2} \\right)} \\cos{\\left(q_{3} \\right)} \\dot{q}_{1})\\mathbf{\\hat{b}_z}$"
      ],
      "text/plain": [
       "(-sin(q₃)⋅cos(q₂)⋅q₁̇ + cos(q₃)⋅q₂̇) b_x + (sin(q₂)⋅q₁̇ + q₃̇) b_y + (sin(q₃)⋅\n",
       "q₂̇ + cos(q₂)⋅cos(q₃)⋅q₁̇) b_z"
      ]
     },
     "execution_count": 16,
     "metadata": {},
     "output_type": "execute_result"
    }
   ],
   "source": [
    "A_w_B = B.ang_vel_in(A).simplify()\n",
    "A_w_B"
   ]
  },
  {
   "cell_type": "code",
   "execution_count": 17,
   "id": "d50d75d4",
   "metadata": {
    "execution": {
     "iopub.execute_input": "2022-07-17T08:59:50.676902Z",
     "iopub.status.busy": "2022-07-17T08:59:50.676543Z",
     "iopub.status.idle": "2022-07-17T08:59:50.692769Z",
     "shell.execute_reply": "2022-07-17T08:59:50.692234Z"
    }
   },
   "outputs": [
    {
     "data": {
      "text/latex": [
       "$\\displaystyle \\left[\\begin{matrix}- \\sin{\\left(q_{3} \\right)} \\cos{\\left(q_{2} \\right)} \\dot{q}_{1} + \\cos{\\left(q_{3} \\right)} \\dot{q}_{2}\\\\\\sin{\\left(q_{2} \\right)} \\dot{q}_{1} + \\dot{q}_{3}\\\\\\sin{\\left(q_{3} \\right)} \\dot{q}_{2} + \\cos{\\left(q_{2} \\right)} \\cos{\\left(q_{3} \\right)} \\dot{q}_{1}\\end{matrix}\\right]$"
      ],
      "text/plain": [
       "⎡-sin(q₃)⋅cos(q₂)⋅q₁̇ + cos(q₃)⋅q₂̇⎤\n",
       "⎢                                ⎥\n",
       "⎢        sin(q₂)⋅q₁̇ + q₃̇         ⎥\n",
       "⎢                                ⎥\n",
       "⎣sin(q₃)⋅q₂̇ + cos(q₂)⋅cos(q₃)⋅q₁̇ ⎦"
      ]
     },
     "execution_count": 17,
     "metadata": {},
     "output_type": "execute_result"
    }
   ],
   "source": [
    "u1_expr = A_w_B.dot(B.x)\n",
    "u2_expr = A_w_B.dot(B.y)\n",
    "u3_expr = A_w_B.dot(B.z)\n",
    "\n",
    "Yk_plus_zk = sm.Matrix([u1_expr, u2_expr, u3_expr])\n",
    "Yk_plus_zk"
   ]
  },
  {
   "cell_type": "code",
   "execution_count": 18,
   "id": "0396db0e",
   "metadata": {
    "execution": {
     "iopub.execute_input": "2022-07-17T08:59:50.695882Z",
     "iopub.status.busy": "2022-07-17T08:59:50.695409Z",
     "iopub.status.idle": "2022-07-17T08:59:50.714017Z",
     "shell.execute_reply": "2022-07-17T08:59:50.713461Z"
    }
   },
   "outputs": [
    {
     "data": {
      "text/latex": [
       "$\\displaystyle \\left[\\begin{matrix}- \\sin{\\left(q_{3} \\right)} \\cos{\\left(q_{2} \\right)} & \\cos{\\left(q_{3} \\right)} & 0\\\\\\sin{\\left(q_{2} \\right)} & 0 & 1\\\\\\cos{\\left(q_{2} \\right)} \\cos{\\left(q_{3} \\right)} & \\sin{\\left(q_{3} \\right)} & 0\\end{matrix}\\right]$"
      ],
      "text/plain": [
       "⎡-sin(q₃)⋅cos(q₂)  cos(q₃)  0⎤\n",
       "⎢                            ⎥\n",
       "⎢    sin(q₂)          0     1⎥\n",
       "⎢                            ⎥\n",
       "⎣cos(q₂)⋅cos(q₃)   sin(q₃)  0⎦"
      ]
     },
     "execution_count": 18,
     "metadata": {},
     "output_type": "execute_result"
    }
   ],
   "source": [
    "Yk = Yk_plus_zk.jacobian(qdot)\n",
    "Yk"
   ]
  },
  {
   "cell_type": "code",
   "execution_count": 19,
   "id": "2186b7f4",
   "metadata": {
    "execution": {
     "iopub.execute_input": "2022-07-17T08:59:50.717526Z",
     "iopub.status.busy": "2022-07-17T08:59:50.716414Z",
     "iopub.status.idle": "2022-07-17T08:59:50.724020Z",
     "shell.execute_reply": "2022-07-17T08:59:50.722678Z"
    }
   },
   "outputs": [
    {
     "data": {
      "text/latex": [
       "$\\displaystyle \\left[\\begin{matrix}0\\\\0\\\\0\\end{matrix}\\right]$"
      ],
      "text/plain": [
       "⎡0⎤\n",
       "⎢ ⎥\n",
       "⎢0⎥\n",
       "⎢ ⎥\n",
       "⎣0⎦"
      ]
     },
     "execution_count": 19,
     "metadata": {},
     "output_type": "execute_result"
    }
   ],
   "source": [
    "zk = Yk_plus_zk.xreplace(qd_zero_repl)\n",
    "zk"
   ]
  },
  {
   "cell_type": "code",
   "execution_count": 20,
   "id": "12f0b1ac",
   "metadata": {
    "execution": {
     "iopub.execute_input": "2022-07-17T08:59:50.726646Z",
     "iopub.status.busy": "2022-07-17T08:59:50.726296Z",
     "iopub.status.idle": "2022-07-17T08:59:52.686642Z",
     "shell.execute_reply": "2022-07-17T08:59:52.685987Z"
    }
   },
   "outputs": [
    {
     "data": {
      "text/latex": [
       "$\\displaystyle \\left[\\begin{matrix}\\dot{q}_{1}\\\\\\dot{q}_{2}\\\\\\dot{q}_{3}\\end{matrix}\\right] = \\left[\\begin{matrix}- \\frac{u_{1} \\sin{\\left(q_{3} \\right)} - u_{3} \\cos{\\left(q_{3} \\right)}}{\\cos{\\left(q_{2} \\right)}}\\\\\\frac{u_{1} \\cos{\\left(2 q_{3} \\right)} + u_{1} + u_{3} \\sin{\\left(2 q_{3} \\right)}}{2 \\cos{\\left(q_{3} \\right)}}\\\\u_{1} \\sin{\\left(q_{3} \\right)} \\tan{\\left(q_{2} \\right)} + u_{2} - u_{3} \\cos{\\left(q_{3} \\right)} \\tan{\\left(q_{2} \\right)}\\end{matrix}\\right]$"
      ],
      "text/plain": [
       "       ⎡        -(u₁⋅sin(q₃) - u₃⋅cos(q₃))          ⎤\n",
       "       ⎢        ───────────────────────────         ⎥\n",
       "⎡q₁̇⎤   ⎢                  cos(q₂)                   ⎥\n",
       "⎢  ⎥   ⎢                                            ⎥\n",
       "⎢q₂̇⎥ = ⎢      u₁⋅cos(2⋅q₃) + u₁ + u₃⋅sin(2⋅q₃)      ⎥\n",
       "⎢  ⎥   ⎢      ────────────────────────────────      ⎥\n",
       "⎣q₃̇⎦   ⎢                 2⋅cos(q₃)                  ⎥\n",
       "       ⎢                                            ⎥\n",
       "       ⎣u₁⋅sin(q₃)⋅tan(q₂) + u₂ - u₃⋅cos(q₃)⋅tan(q₂)⎦"
      ]
     },
     "execution_count": 20,
     "metadata": {},
     "output_type": "execute_result"
    }
   ],
   "source": [
    "sm.Eq(qdot, sm.trigsimp(Yk.LUsolve(u - zk)))"
   ]
  },
  {
   "cell_type": "code",
   "execution_count": 21,
   "id": "6c0c1f71",
   "metadata": {
    "execution": {
     "iopub.execute_input": "2022-07-17T08:59:52.690531Z",
     "iopub.status.busy": "2022-07-17T08:59:52.689398Z",
     "iopub.status.idle": "2022-07-17T08:59:53.075377Z",
     "shell.execute_reply": "2022-07-17T08:59:53.074729Z"
    }
   },
   "outputs": [
    {
     "data": {
      "text/latex": [
       "$\\displaystyle (- \\sin{\\left(q_{1} \\right)} \\cos{\\left(q_{2} \\right)} \\dot{q}_{3} + \\cos{\\left(q_{1} \\right)} \\dot{q}_{2})\\mathbf{\\hat{a}_x} + (\\sin{\\left(q_{1} \\right)} \\dot{q}_{2} + \\cos{\\left(q_{1} \\right)} \\cos{\\left(q_{2} \\right)} \\dot{q}_{3})\\mathbf{\\hat{a}_y} + (\\sin{\\left(q_{2} \\right)} \\dot{q}_{3} + \\dot{q}_{1})\\mathbf{\\hat{a}_z}$"
      ],
      "text/plain": [
       "(-sin(q₁)⋅cos(q₂)⋅q₃̇ + cos(q₁)⋅q₂̇) a_x + (sin(q₁)⋅q₂̇ + cos(q₁)⋅cos(q₂)⋅q₃̇)\n",
       " a_y + (sin(q₂)⋅q₃̇ + q₁̇) a_z"
      ]
     },
     "execution_count": 21,
     "metadata": {},
     "output_type": "execute_result"
    }
   ],
   "source": [
    "A_w_B = B.ang_vel_in(A).express(A).simplify()\n",
    "A_w_B"
   ]
  },
  {
   "cell_type": "code",
   "execution_count": 22,
   "id": "aabf26d2",
   "metadata": {
    "execution": {
     "iopub.execute_input": "2022-07-17T08:59:53.078619Z",
     "iopub.status.busy": "2022-07-17T08:59:53.078092Z",
     "iopub.status.idle": "2022-07-17T08:59:53.094712Z",
     "shell.execute_reply": "2022-07-17T08:59:53.094152Z"
    }
   },
   "outputs": [
    {
     "data": {
      "text/latex": [
       "$\\displaystyle \\left[\\begin{matrix}- \\sin{\\left(q_{1} \\right)} \\cos{\\left(q_{2} \\right)} \\dot{q}_{3} + \\cos{\\left(q_{1} \\right)} \\dot{q}_{2}\\\\\\sin{\\left(q_{1} \\right)} \\dot{q}_{2} + \\cos{\\left(q_{1} \\right)} \\cos{\\left(q_{2} \\right)} \\dot{q}_{3}\\\\\\sin{\\left(q_{2} \\right)} \\dot{q}_{3} + \\dot{q}_{1}\\end{matrix}\\right]$"
      ],
      "text/plain": [
       "⎡-sin(q₁)⋅cos(q₂)⋅q₃̇ + cos(q₁)⋅q₂̇⎤\n",
       "⎢                                ⎥\n",
       "⎢sin(q₁)⋅q₂̇ + cos(q₁)⋅cos(q₂)⋅q₃̇ ⎥\n",
       "⎢                                ⎥\n",
       "⎣        sin(q₂)⋅q₃̇ + q₁̇         ⎦"
      ]
     },
     "execution_count": 22,
     "metadata": {},
     "output_type": "execute_result"
    }
   ],
   "source": [
    "u1_expr = A_w_B.dot(A.x)\n",
    "u2_expr = A_w_B.dot(A.y)\n",
    "u3_expr = A_w_B.dot(A.z)\n",
    "\n",
    "Yk_plus_zk = sm.Matrix([u1_expr, u2_expr, u3_expr])\n",
    "Yk_plus_zk"
   ]
  },
  {
   "cell_type": "code",
   "execution_count": 23,
   "id": "0ea3ad75",
   "metadata": {
    "execution": {
     "iopub.execute_input": "2022-07-17T08:59:53.097656Z",
     "iopub.status.busy": "2022-07-17T08:59:53.097123Z",
     "iopub.status.idle": "2022-07-17T08:59:53.115505Z",
     "shell.execute_reply": "2022-07-17T08:59:53.114481Z"
    }
   },
   "outputs": [
    {
     "data": {
      "text/latex": [
       "$\\displaystyle \\left[\\begin{matrix}0 & \\cos{\\left(q_{1} \\right)} & - \\sin{\\left(q_{1} \\right)} \\cos{\\left(q_{2} \\right)}\\\\0 & \\sin{\\left(q_{1} \\right)} & \\cos{\\left(q_{1} \\right)} \\cos{\\left(q_{2} \\right)}\\\\1 & 0 & \\sin{\\left(q_{2} \\right)}\\end{matrix}\\right]$"
      ],
      "text/plain": [
       "⎡0  cos(q₁)  -sin(q₁)⋅cos(q₂)⎤\n",
       "⎢                            ⎥\n",
       "⎢0  sin(q₁)  cos(q₁)⋅cos(q₂) ⎥\n",
       "⎢                            ⎥\n",
       "⎣1     0         sin(q₂)     ⎦"
      ]
     },
     "execution_count": 23,
     "metadata": {},
     "output_type": "execute_result"
    }
   ],
   "source": [
    "Yk = Yk_plus_zk.jacobian(qdot)\n",
    "Yk"
   ]
  },
  {
   "cell_type": "code",
   "execution_count": 24,
   "id": "e5b12367",
   "metadata": {
    "execution": {
     "iopub.execute_input": "2022-07-17T08:59:53.117754Z",
     "iopub.status.busy": "2022-07-17T08:59:53.117555Z",
     "iopub.status.idle": "2022-07-17T08:59:53.124165Z",
     "shell.execute_reply": "2022-07-17T08:59:53.123651Z"
    }
   },
   "outputs": [
    {
     "data": {
      "text/latex": [
       "$\\displaystyle \\left[\\begin{matrix}0\\\\0\\\\0\\end{matrix}\\right]$"
      ],
      "text/plain": [
       "⎡0⎤\n",
       "⎢ ⎥\n",
       "⎢0⎥\n",
       "⎢ ⎥\n",
       "⎣0⎦"
      ]
     },
     "execution_count": 24,
     "metadata": {},
     "output_type": "execute_result"
    }
   ],
   "source": [
    "zk = Yk_plus_zk.xreplace(qd_zero_repl)\n",
    "zk"
   ]
  },
  {
   "cell_type": "code",
   "execution_count": 25,
   "id": "e730eed5",
   "metadata": {
    "execution": {
     "iopub.execute_input": "2022-07-17T08:59:53.126413Z",
     "iopub.status.busy": "2022-07-17T08:59:53.126092Z",
     "iopub.status.idle": "2022-07-17T08:59:53.591140Z",
     "shell.execute_reply": "2022-07-17T08:59:53.590015Z"
    }
   },
   "outputs": [
    {
     "data": {
      "text/latex": [
       "$\\displaystyle \\left[\\begin{matrix}\\dot{q}_{1}\\\\\\dot{q}_{2}\\\\\\dot{q}_{3}\\end{matrix}\\right] = \\left[\\begin{matrix}\\left(u_{1} \\sin{\\left(q_{1} \\right)} - u_{2} \\cos{\\left(q_{1} \\right)}\\right) \\tan{\\left(q_{2} \\right)} + u_{3}\\\\u_{1} \\cos{\\left(q_{1} \\right)} + u_{2} \\sin{\\left(q_{1} \\right)}\\\\- \\frac{u_{1} \\sin{\\left(q_{1} \\right)} - u_{2} \\cos{\\left(q_{1} \\right)}}{\\cos{\\left(q_{2} \\right)}}\\end{matrix}\\right]$"
      ],
      "text/plain": [
       "       ⎡(u₁⋅sin(q₁) - u₂⋅cos(q₁))⋅tan(q₂) + u₃⎤\n",
       "⎡q₁̇⎤   ⎢                                      ⎥\n",
       "⎢  ⎥   ⎢       u₁⋅cos(q₁) + u₂⋅sin(q₁)        ⎥\n",
       "⎢q₂̇⎥ = ⎢                                      ⎥\n",
       "⎢  ⎥   ⎢     -(u₁⋅sin(q₁) - u₂⋅cos(q₁))       ⎥\n",
       "⎣q₃̇⎦   ⎢     ───────────────────────────      ⎥\n",
       "       ⎣               cos(q₂)                ⎦"
      ]
     },
     "execution_count": 25,
     "metadata": {},
     "output_type": "execute_result"
    }
   ],
   "source": [
    "sm.Eq(qdot, sm.trigsimp(Yk.LUsolve(u - zk)))"
   ]
  },
  {
   "cell_type": "code",
   "execution_count": 26,
   "id": "59913684",
   "metadata": {
    "execution": {
     "iopub.execute_input": "2022-07-17T08:59:53.593806Z",
     "iopub.status.busy": "2022-07-17T08:59:53.593466Z",
     "iopub.status.idle": "2022-07-17T08:59:53.597387Z",
     "shell.execute_reply": "2022-07-17T08:59:53.596781Z"
    }
   },
   "outputs": [],
   "source": [
    "q1, q2, q3, q4, q5 = me.dynamicsymbols('q1, q2, q3, q4, q5')\n",
    "l = sm.symbols('l')"
   ]
  },
  {
   "cell_type": "code",
   "execution_count": 27,
   "id": "7805f783",
   "metadata": {
    "execution": {
     "iopub.execute_input": "2022-07-17T08:59:53.599974Z",
     "iopub.status.busy": "2022-07-17T08:59:53.599433Z",
     "iopub.status.idle": "2022-07-17T08:59:53.613513Z",
     "shell.execute_reply": "2022-07-17T08:59:53.612998Z"
    }
   },
   "outputs": [],
   "source": [
    "N = me.ReferenceFrame('N')\n",
    "A = me.ReferenceFrame('A')\n",
    "B = me.ReferenceFrame('B')\n",
    "C = me.ReferenceFrame('C')\n",
    "\n",
    "A.orient_axis(N, q3, N.z)\n",
    "B.orient_axis(A, q4, A.z)\n",
    "C.orient_axis(A, q5, A.z)"
   ]
  },
  {
   "cell_type": "code",
   "execution_count": 28,
   "id": "e6ca37a1",
   "metadata": {
    "execution": {
     "iopub.execute_input": "2022-07-17T08:59:53.615970Z",
     "iopub.status.busy": "2022-07-17T08:59:53.615491Z",
     "iopub.status.idle": "2022-07-17T08:59:53.620357Z",
     "shell.execute_reply": "2022-07-17T08:59:53.619768Z"
    }
   },
   "outputs": [
    {
     "data": {
      "text/latex": [
       "$\\displaystyle \\dot{q}_{3}\\mathbf{\\hat{n}_z}$"
      ],
      "text/plain": [
       "q₃̇ n_z"
      ]
     },
     "execution_count": 28,
     "metadata": {},
     "output_type": "execute_result"
    }
   ],
   "source": [
    "A.ang_vel_in(N)"
   ]
  },
  {
   "cell_type": "code",
   "execution_count": 29,
   "id": "cb88d643",
   "metadata": {
    "execution": {
     "iopub.execute_input": "2022-07-17T08:59:53.623142Z",
     "iopub.status.busy": "2022-07-17T08:59:53.622830Z",
     "iopub.status.idle": "2022-07-17T08:59:53.628228Z",
     "shell.execute_reply": "2022-07-17T08:59:53.627645Z"
    }
   },
   "outputs": [
    {
     "data": {
      "text/latex": [
       "$\\displaystyle \\dot{q}_{4}\\mathbf{\\hat{a}_z} + \\dot{q}_{3}\\mathbf{\\hat{n}_z}$"
      ],
      "text/plain": [
       "q₄̇ a_z + q₃̇ n_z"
      ]
     },
     "execution_count": 29,
     "metadata": {},
     "output_type": "execute_result"
    }
   ],
   "source": [
    "B.ang_vel_in(N)"
   ]
  },
  {
   "cell_type": "code",
   "execution_count": 30,
   "id": "2e1624eb",
   "metadata": {
    "execution": {
     "iopub.execute_input": "2022-07-17T08:59:53.631262Z",
     "iopub.status.busy": "2022-07-17T08:59:53.630718Z",
     "iopub.status.idle": "2022-07-17T08:59:53.636131Z",
     "shell.execute_reply": "2022-07-17T08:59:53.635560Z"
    }
   },
   "outputs": [
    {
     "data": {
      "text/latex": [
       "$\\displaystyle \\dot{q}_{5}\\mathbf{\\hat{a}_z} + \\dot{q}_{3}\\mathbf{\\hat{n}_z}$"
      ],
      "text/plain": [
       "q₅̇ a_z + q₃̇ n_z"
      ]
     },
     "execution_count": 30,
     "metadata": {},
     "output_type": "execute_result"
    }
   ],
   "source": [
    "C.ang_vel_in(N)"
   ]
  },
  {
   "cell_type": "code",
   "execution_count": 31,
   "id": "7fd0ee20",
   "metadata": {
    "execution": {
     "iopub.execute_input": "2022-07-17T08:59:53.638665Z",
     "iopub.status.busy": "2022-07-17T08:59:53.638150Z",
     "iopub.status.idle": "2022-07-17T08:59:53.645516Z",
     "shell.execute_reply": "2022-07-17T08:59:53.644671Z"
    }
   },
   "outputs": [],
   "source": [
    "O = me.Point('O')\n",
    "Ao = me.Point('A_o')\n",
    "Bo = me.Point('B_o')\n",
    "Co = me.Point('C_o')\n",
    "\n",
    "Ao.set_pos(O, q1*N.x + q2*N.y)\n",
    "Bo.set_pos(Ao, l/2*A.x)\n",
    "Co.set_pos(Ao, -l/2*A.x)"
   ]
  },
  {
   "cell_type": "code",
   "execution_count": 32,
   "id": "12182973",
   "metadata": {
    "execution": {
     "iopub.execute_input": "2022-07-17T08:59:53.648182Z",
     "iopub.status.busy": "2022-07-17T08:59:53.647883Z",
     "iopub.status.idle": "2022-07-17T08:59:53.657679Z",
     "shell.execute_reply": "2022-07-17T08:59:53.656943Z"
    }
   },
   "outputs": [
    {
     "data": {
      "text/latex": [
       "$\\displaystyle \\dot{q}_{1}\\mathbf{\\hat{n}_x} + \\dot{q}_{2}\\mathbf{\\hat{n}_y}$"
      ],
      "text/plain": [
       "q₁̇ n_x + q₂̇ n_y"
      ]
     },
     "execution_count": 32,
     "metadata": {},
     "output_type": "execute_result"
    }
   ],
   "source": [
    "O.set_vel(N, 0)\n",
    "Ao.vel(N)"
   ]
  },
  {
   "cell_type": "code",
   "execution_count": 33,
   "id": "6902fb99",
   "metadata": {
    "execution": {
     "iopub.execute_input": "2022-07-17T08:59:53.660167Z",
     "iopub.status.busy": "2022-07-17T08:59:53.659710Z",
     "iopub.status.idle": "2022-07-17T08:59:53.669565Z",
     "shell.execute_reply": "2022-07-17T08:59:53.669058Z"
    }
   },
   "outputs": [
    {
     "data": {
      "text/latex": [
       "$\\displaystyle \\dot{q}_{1}\\mathbf{\\hat{n}_x} + \\dot{q}_{2}\\mathbf{\\hat{n}_y} + \\frac{l \\dot{q}_{3}}{2}\\mathbf{\\hat{a}_y}$"
      ],
      "text/plain": [
       "                  l⋅q₃̇\n",
       "q₁̇ n_x + q₂̇ n_y + ──── a_y\n",
       "                   2"
      ]
     },
     "execution_count": 33,
     "metadata": {},
     "output_type": "execute_result"
    }
   ],
   "source": [
    "Bo.v2pt_theory(Ao, N, A)"
   ]
  },
  {
   "cell_type": "code",
   "execution_count": 34,
   "id": "d859a9ed",
   "metadata": {
    "execution": {
     "iopub.execute_input": "2022-07-17T08:59:53.672345Z",
     "iopub.status.busy": "2022-07-17T08:59:53.671881Z",
     "iopub.status.idle": "2022-07-17T08:59:53.681176Z",
     "shell.execute_reply": "2022-07-17T08:59:53.680671Z"
    }
   },
   "outputs": [
    {
     "data": {
      "text/latex": [
       "$\\displaystyle \\dot{q}_{1}\\mathbf{\\hat{n}_x} + \\dot{q}_{2}\\mathbf{\\hat{n}_y} -  \\frac{l \\dot{q}_{3}}{2}\\mathbf{\\hat{a}_y}$"
      ],
      "text/plain": [
       "                  -l⋅q₃̇\n",
       "q₁̇ n_x + q₂̇ n_y + ────── a_y\n",
       "                    2"
      ]
     },
     "execution_count": 34,
     "metadata": {},
     "output_type": "execute_result"
    }
   ],
   "source": [
    "Co.v2pt_theory(Ao, N, A)"
   ]
  },
  {
   "cell_type": "code",
   "execution_count": 35,
   "id": "e38f88da",
   "metadata": {
    "execution": {
     "iopub.execute_input": "2022-07-17T08:59:53.683797Z",
     "iopub.status.busy": "2022-07-17T08:59:53.683314Z",
     "iopub.status.idle": "2022-07-17T08:59:54.134214Z",
     "shell.execute_reply": "2022-07-17T08:59:54.133585Z"
    }
   },
   "outputs": [
    {
     "data": {
      "text/latex": [
       "$\\displaystyle \\left[\\begin{matrix}\\frac{l \\cos{\\left(q_{4} \\right)} \\dot{q}_{3}}{2} - \\sin{\\left(q_{3} + q_{4} \\right)} \\dot{q}_{1} + \\cos{\\left(q_{3} + q_{4} \\right)} \\dot{q}_{2}\\\\- \\frac{l \\cos{\\left(q_{5} \\right)} \\dot{q}_{3}}{2} - \\sin{\\left(q_{3} + q_{5} \\right)} \\dot{q}_{1} + \\cos{\\left(q_{3} + q_{5} \\right)} \\dot{q}_{2}\\end{matrix}\\right]$"
      ],
      "text/plain": [
       "⎡ l⋅cos(q₄)⋅q₃̇                                     ⎤\n",
       "⎢ ──────────── - sin(q₃ + q₄)⋅q₁̇ + cos(q₃ + q₄)⋅q₂̇ ⎥\n",
       "⎢      2                                           ⎥\n",
       "⎢                                                  ⎥\n",
       "⎢  l⋅cos(q₅)⋅q₃̇                                    ⎥\n",
       "⎢- ──────────── - sin(q₃ + q₅)⋅q₁̇ + cos(q₃ + q₅)⋅q₂̇⎥\n",
       "⎣       2                                          ⎦"
      ]
     },
     "execution_count": 35,
     "metadata": {},
     "output_type": "execute_result"
    }
   ],
   "source": [
    "fn = sm.Matrix([Bo.vel(N).dot(B.y),\n",
    "                Co.vel(N).dot(C.y)])\n",
    "fn = sm.trigsimp(fn)\n",
    "fn"
   ]
  },
  {
   "cell_type": "code",
   "execution_count": 36,
   "id": "977bf465",
   "metadata": {
    "execution": {
     "iopub.execute_input": "2022-07-17T08:59:54.138170Z",
     "iopub.status.busy": "2022-07-17T08:59:54.136989Z",
     "iopub.status.idle": "2022-07-17T08:59:54.164637Z",
     "shell.execute_reply": "2022-07-17T08:59:54.164038Z"
    }
   },
   "outputs": [
    {
     "data": {
      "text/latex": [
       "$\\displaystyle \\left[\\begin{matrix}- u_{1} \\sin{\\left(q_{3} + q_{4} \\right)} + u_{2} \\cos{\\left(q_{3} + q_{4} \\right)} + u_{3} \\cos{\\left(q_{4} \\right)}\\\\- u_{1} \\sin{\\left(q_{3} + q_{5} \\right)} + u_{2} \\cos{\\left(q_{3} + q_{5} \\right)} - u_{3} \\cos{\\left(q_{5} \\right)}\\end{matrix}\\right]$"
      ],
      "text/plain": [
       "⎡-u₁⋅sin(q₃ + q₄) + u₂⋅cos(q₃ + q₄) + u₃⋅cos(q₄)⎤\n",
       "⎢                                               ⎥\n",
       "⎣-u₁⋅sin(q₃ + q₅) + u₂⋅cos(q₃ + q₅) - u₃⋅cos(q₅)⎦"
      ]
     },
     "execution_count": 36,
     "metadata": {},
     "output_type": "execute_result"
    }
   ],
   "source": [
    "u1, u2, u3, u4, u5 = me.dynamicsymbols('u1, u2, u3, u4, u5')\n",
    "\n",
    "u_repl = {\n",
    "    q1.diff(): u1,\n",
    "    q2.diff(): u2,\n",
    "    l*q3.diff()/2: u3,\n",
    "    q4.diff(): u4,\n",
    "    q5.diff(): u5\n",
    "}\n",
    "\n",
    "fn = fn.subs(u_repl)\n",
    "fn"
   ]
  },
  {
   "cell_type": "code",
   "execution_count": 37,
   "id": "07189531",
   "metadata": {
    "execution": {
     "iopub.execute_input": "2022-07-17T08:59:54.168456Z",
     "iopub.status.busy": "2022-07-17T08:59:54.167237Z",
     "iopub.status.idle": "2022-07-17T08:59:54.172003Z",
     "shell.execute_reply": "2022-07-17T08:59:54.170949Z"
    }
   },
   "outputs": [],
   "source": [
    "us = sm.Matrix([u3, u4, u5])\n",
    "ur = sm.Matrix([u1, u2])"
   ]
  },
  {
   "cell_type": "code",
   "execution_count": 38,
   "id": "48b420b1",
   "metadata": {
    "execution": {
     "iopub.execute_input": "2022-07-17T08:59:54.174736Z",
     "iopub.status.busy": "2022-07-17T08:59:54.174280Z",
     "iopub.status.idle": "2022-07-17T08:59:54.190140Z",
     "shell.execute_reply": "2022-07-17T08:59:54.189622Z"
    }
   },
   "outputs": [
    {
     "data": {
      "text/latex": [
       "$\\displaystyle \\left[\\begin{matrix}- \\sin{\\left(q_{3} + q_{4} \\right)} & \\cos{\\left(q_{3} + q_{4} \\right)}\\\\- \\sin{\\left(q_{3} + q_{5} \\right)} & \\cos{\\left(q_{3} + q_{5} \\right)}\\end{matrix}\\right]$"
      ],
      "text/plain": [
       "⎡-sin(q₃ + q₄)  cos(q₃ + q₄)⎤\n",
       "⎢                           ⎥\n",
       "⎣-sin(q₃ + q₅)  cos(q₃ + q₅)⎦"
      ]
     },
     "execution_count": 38,
     "metadata": {},
     "output_type": "execute_result"
    }
   ],
   "source": [
    "Ar = fn.jacobian(ur)\n",
    "Ar"
   ]
  },
  {
   "cell_type": "code",
   "execution_count": 39,
   "id": "0de94b13",
   "metadata": {
    "execution": {
     "iopub.execute_input": "2022-07-17T08:59:54.192348Z",
     "iopub.status.busy": "2022-07-17T08:59:54.192149Z",
     "iopub.status.idle": "2022-07-17T08:59:54.204073Z",
     "shell.execute_reply": "2022-07-17T08:59:54.202856Z"
    }
   },
   "outputs": [
    {
     "data": {
      "text/latex": [
       "$\\displaystyle \\left[\\begin{matrix}- \\cos{\\left(q_{4} \\right)} & 0 & 0\\\\\\cos{\\left(q_{5} \\right)} & 0 & 0\\end{matrix}\\right]$"
      ],
      "text/plain": [
       "⎡-cos(q₄)  0  0⎤\n",
       "⎢              ⎥\n",
       "⎣cos(q₅)   0  0⎦"
      ]
     },
     "execution_count": 39,
     "metadata": {},
     "output_type": "execute_result"
    }
   ],
   "source": [
    "As = -fn.jacobian(us)\n",
    "As"
   ]
  },
  {
   "cell_type": "code",
   "execution_count": 40,
   "id": "60afeaa0",
   "metadata": {
    "execution": {
     "iopub.execute_input": "2022-07-17T08:59:54.207591Z",
     "iopub.status.busy": "2022-07-17T08:59:54.206510Z",
     "iopub.status.idle": "2022-07-17T08:59:54.213798Z",
     "shell.execute_reply": "2022-07-17T08:59:54.213291Z"
    }
   },
   "outputs": [
    {
     "data": {
      "text/latex": [
       "$\\displaystyle \\left[\\begin{matrix}0\\\\0\\end{matrix}\\right]$"
      ],
      "text/plain": [
       "⎡0⎤\n",
       "⎢ ⎥\n",
       "⎣0⎦"
      ]
     },
     "execution_count": 40,
     "metadata": {},
     "output_type": "execute_result"
    }
   ],
   "source": [
    "bs = -fn.xreplace(dict(zip([u1, u2, u3, u4, u5], [0, 0, 0, 0, 0])))\n",
    "bs"
   ]
  },
  {
   "cell_type": "code",
   "execution_count": 41,
   "id": "99894689",
   "metadata": {
    "execution": {
     "iopub.execute_input": "2022-07-17T08:59:54.216369Z",
     "iopub.status.busy": "2022-07-17T08:59:54.216067Z",
     "iopub.status.idle": "2022-07-17T08:59:55.157400Z",
     "shell.execute_reply": "2022-07-17T08:59:55.156383Z"
    }
   },
   "outputs": [
    {
     "data": {
      "text/latex": [
       "$\\displaystyle \\left[\\begin{matrix}\\frac{\\frac{\\cos{\\left(q_{3} - q_{4} + q_{5} \\right)}}{2} + \\frac{\\cos{\\left(q_{3} + q_{4} - q_{5} \\right)}}{2} + \\cos{\\left(q_{3} + q_{4} + q_{5} \\right)}}{\\sin{\\left(q_{4} - q_{5} \\right)}} & 0 & 0\\\\\\frac{\\frac{\\sin{\\left(q_{3} - q_{4} + q_{5} \\right)}}{2} + \\frac{\\sin{\\left(q_{3} + q_{4} - q_{5} \\right)}}{2} + \\sin{\\left(q_{3} + q_{4} + q_{5} \\right)}}{\\sin{\\left(q_{4} - q_{5} \\right)}} & 0 & 0\\end{matrix}\\right]$"
      ],
      "text/plain": [
       "⎡cos(q₃ - q₄ + q₅)   cos(q₃ + q₄ - q₅)                          ⎤\n",
       "⎢───────────────── + ───────────────── + cos(q₃ + q₄ + q₅)      ⎥\n",
       "⎢        2                   2                                  ⎥\n",
       "⎢─────────────────────────────────────────────────────────  0  0⎥\n",
       "⎢                       sin(q₄ - q₅)                            ⎥\n",
       "⎢                                                               ⎥\n",
       "⎢sin(q₃ - q₄ + q₅)   sin(q₃ + q₄ - q₅)                          ⎥\n",
       "⎢───────────────── + ───────────────── + sin(q₃ + q₄ + q₅)      ⎥\n",
       "⎢        2                   2                                  ⎥\n",
       "⎢─────────────────────────────────────────────────────────  0  0⎥\n",
       "⎣                       sin(q₄ - q₅)                            ⎦"
      ]
     },
     "execution_count": 41,
     "metadata": {},
     "output_type": "execute_result"
    }
   ],
   "source": [
    "An = Ar.LUsolve(As)\n",
    "An = sm.simplify(An)\n",
    "An"
   ]
  },
  {
   "cell_type": "code",
   "execution_count": 42,
   "id": "9752fcd6",
   "metadata": {
    "execution": {
     "iopub.execute_input": "2022-07-17T08:59:55.161356Z",
     "iopub.status.busy": "2022-07-17T08:59:55.160225Z",
     "iopub.status.idle": "2022-07-17T08:59:55.169623Z",
     "shell.execute_reply": "2022-07-17T08:59:55.168882Z"
    }
   },
   "outputs": [
    {
     "data": {
      "text/latex": [
       "$\\displaystyle \\left[\\begin{matrix}0\\\\0\\end{matrix}\\right]$"
      ],
      "text/plain": [
       "⎡0⎤\n",
       "⎢ ⎥\n",
       "⎣0⎦"
      ]
     },
     "execution_count": 42,
     "metadata": {},
     "output_type": "execute_result"
    }
   ],
   "source": [
    "bn = Ar.LUsolve(bs)\n",
    "bn"
   ]
  },
  {
   "cell_type": "code",
   "execution_count": 43,
   "id": "0831bd45",
   "metadata": {
    "execution": {
     "iopub.execute_input": "2022-07-17T08:59:55.172427Z",
     "iopub.status.busy": "2022-07-17T08:59:55.172121Z",
     "iopub.status.idle": "2022-07-17T08:59:55.195145Z",
     "shell.execute_reply": "2022-07-17T08:59:55.194626Z"
    }
   },
   "outputs": [
    {
     "data": {
      "text/latex": [
       "$\\displaystyle \\left[\\begin{matrix}u_{1}\\\\u_{2}\\end{matrix}\\right] = \\left[\\begin{matrix}\\frac{\\left(\\frac{\\cos{\\left(q_{3} - q_{4} + q_{5} \\right)}}{2} + \\frac{\\cos{\\left(q_{3} + q_{4} - q_{5} \\right)}}{2} + \\cos{\\left(q_{3} + q_{4} + q_{5} \\right)}\\right) u_{3}}{\\sin{\\left(q_{4} - q_{5} \\right)}}\\\\\\frac{\\left(\\frac{\\sin{\\left(q_{3} - q_{4} + q_{5} \\right)}}{2} + \\frac{\\sin{\\left(q_{3} + q_{4} - q_{5} \\right)}}{2} + \\sin{\\left(q_{3} + q_{4} + q_{5} \\right)}\\right) u_{3}}{\\sin{\\left(q_{4} - q_{5} \\right)}}\\end{matrix}\\right]$"
      ],
      "text/plain": [
       "       ⎡⎛cos(q₃ - q₄ + q₅)   cos(q₃ + q₄ - q₅)                    ⎞   ⎤\n",
       "       ⎢⎜───────────────── + ───────────────── + cos(q₃ + q₄ + q₅)⎟⋅u₃⎥\n",
       "       ⎢⎝        2                   2                            ⎠   ⎥\n",
       "       ⎢──────────────────────────────────────────────────────────────⎥\n",
       "⎡u₁⎤   ⎢                         sin(q₄ - q₅)                         ⎥\n",
       "⎢  ⎥ = ⎢                                                              ⎥\n",
       "⎣u₂⎦   ⎢⎛sin(q₃ - q₄ + q₅)   sin(q₃ + q₄ - q₅)                    ⎞   ⎥\n",
       "       ⎢⎜───────────────── + ───────────────── + sin(q₃ + q₄ + q₅)⎟⋅u₃⎥\n",
       "       ⎢⎝        2                   2                            ⎠   ⎥\n",
       "       ⎢──────────────────────────────────────────────────────────────⎥\n",
       "       ⎣                         sin(q₄ - q₅)                         ⎦"
      ]
     },
     "execution_count": 43,
     "metadata": {},
     "output_type": "execute_result"
    }
   ],
   "source": [
    "sm.Eq(ur, An*us + bn)"
   ]
  }
 ],
 "metadata": {
  "kernelspec": {
   "display_name": "Python 3 (ipykernel)",
   "language": "python",
   "name": "python3"
  },
  "language_info": {
   "codemirror_mode": {
    "name": "ipython",
    "version": 3
   },
   "file_extension": ".py",
   "mimetype": "text/x-python",
   "name": "python",
   "nbconvert_exporter": "python",
   "pygments_lexer": "ipython3",
   "version": "3.9.13"
  }
 },
 "nbformat": 4,
 "nbformat_minor": 5
}