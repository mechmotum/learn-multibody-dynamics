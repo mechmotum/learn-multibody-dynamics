{
 "cells": [
  {
   "cell_type": "code",
   "execution_count": 1,
   "id": "4da3221c",
   "metadata": {
    "execution": {
     "iopub.execute_input": "2022-07-17T08:59:44.612132Z",
     "iopub.status.busy": "2022-07-17T08:59:44.611886Z",
     "iopub.status.idle": "2022-07-17T08:59:45.078635Z",
     "shell.execute_reply": "2022-07-17T08:59:45.077220Z"
    }
   },
   "outputs": [],
   "source": [
    "import sympy as sm\n",
    "import sympy.physics.mechanics as me\n",
    "me.init_vprinting(use_latex='mathjax')"
   ]
  },
  {
   "cell_type": "code",
   "execution_count": 2,
   "id": "d93bc93c",
   "metadata": {
    "execution": {
     "iopub.execute_input": "2022-07-17T08:59:45.082309Z",
     "iopub.status.busy": "2022-07-17T08:59:45.081906Z",
     "iopub.status.idle": "2022-07-17T08:59:45.110788Z",
     "shell.execute_reply": "2022-07-17T08:59:45.110172Z"
    }
   },
   "outputs": [
    {
     "data": {
      "text/latex": [
       "$\\displaystyle \\frac{m_{1} x_{1} + m_{2} x_{2} + m_{3} x_{3}}{m_{1} + m_{2} + m_{3}}\\mathbf{\\hat{a}_x} + \\frac{m_{1} y_{1} + m_{2} y_{2} + m_{3} y_{3}}{m_{1} + m_{2} + m_{3}}\\mathbf{\\hat{a}_y} + \\frac{m_{1} z_{1} + m_{2} z_{2} + m_{3} z_{3}}{m_{1} + m_{2} + m_{3}}\\mathbf{\\hat{a}_z}$"
      ],
      "text/plain": [
       "m₁⋅x₁ + m₂⋅x₂ + m₃⋅x₃       m₁⋅y₁ + m₂⋅y₂ + m₃⋅y₃       m₁⋅z₁ + m₂⋅z₂ + m₃⋅z₃\n",
       "───────────────────── a_x + ───────────────────── a_y + ─────────────────────\n",
       "     m₁ + m₂ + m₃                m₁ + m₂ + m₃                m₁ + m₂ + m₃\n",
       "\n",
       "\n",
       "a_z\n"
      ]
     },
     "execution_count": 2,
     "metadata": {},
     "output_type": "execute_result"
    }
   ],
   "source": [
    "m1, m2, m3 = sm.symbols(\"m1, m2, m3\")\n",
    "x1, x2, x3 = me.dynamicsymbols('x1, x2, x3')\n",
    "y1, y2, y3 = me.dynamicsymbols('y1, y2, y3')\n",
    "z1, z2, z3 = me.dynamicsymbols('z1, z2, z3')\n",
    "\n",
    "A = me.ReferenceFrame('A')\n",
    "\n",
    "r_O_So = (m1*(x1*A.x + y1*A.y + z1*A.z) +\n",
    "          m2*(x2*A.x + y2*A.y + z2*A.z) +\n",
    "          m3*(x3*A.x + y3*A.y + z3*A.z)) / (m1 + m2 + m3)\n",
    "r_O_So"
   ]
  },
  {
   "cell_type": "code",
   "execution_count": 3,
   "id": "57e70e94",
   "metadata": {
    "execution": {
     "iopub.execute_input": "2022-07-17T08:59:45.113565Z",
     "iopub.status.busy": "2022-07-17T08:59:45.113354Z",
     "iopub.status.idle": "2022-07-17T08:59:45.193162Z",
     "shell.execute_reply": "2022-07-17T08:59:45.192504Z"
    }
   },
   "outputs": [
    {
     "data": {
      "text/latex": [
       "$\\displaystyle (\\frac{x_{1}}{6} + \\frac{x_{2}}{3} + \\frac{x_{3}}{2})\\mathbf{\\hat{a}_x} + (\\frac{y_{1}}{6} + \\frac{y_{2}}{3} + \\frac{y_{3}}{2})\\mathbf{\\hat{a}_y} + (\\frac{z_{1}}{6} + \\frac{z_{2}}{3} + \\frac{z_{3}}{2})\\mathbf{\\hat{a}_z}$"
      ],
      "text/plain": [
       "⎛x₁   x₂   x₃⎞       ⎛y₁   y₂   y₃⎞       ⎛z₁   z₂   z₃⎞\n",
       "⎜── + ── + ──⎟ a_x + ⎜── + ── + ──⎟ a_y + ⎜── + ── + ──⎟ a_z\n",
       "⎝6    3    2 ⎠       ⎝6    3    2 ⎠       ⎝6    3    2 ⎠"
      ]
     },
     "execution_count": 3,
     "metadata": {},
     "output_type": "execute_result"
    }
   ],
   "source": [
    "r_O_So.xreplace({m2: 2*m1, m3: 3*m1}).simplify()"
   ]
  },
  {
   "cell_type": "code",
   "execution_count": 4,
   "id": "4c4c49b1",
   "metadata": {
    "execution": {
     "iopub.execute_input": "2022-07-17T08:59:45.196132Z",
     "iopub.status.busy": "2022-07-17T08:59:45.195790Z",
     "iopub.status.idle": "2022-07-17T08:59:45.219309Z",
     "shell.execute_reply": "2022-07-17T08:59:45.218775Z"
    }
   },
   "outputs": [
    {
     "data": {
      "text/latex": [
       "$\\displaystyle v_{1} w_{1}\\mathbf{\\hat{a}_x}\\otimes \\mathbf{\\hat{a}_x} + v_{1} w_{2}\\mathbf{\\hat{a}_x}\\otimes \\mathbf{\\hat{a}_y} + v_{1} w_{3}\\mathbf{\\hat{a}_x}\\otimes \\mathbf{\\hat{a}_z} + v_{2} w_{1}\\mathbf{\\hat{a}_y}\\otimes \\mathbf{\\hat{a}_x} + v_{2} w_{2}\\mathbf{\\hat{a}_y}\\otimes \\mathbf{\\hat{a}_y} + v_{2} w_{3}\\mathbf{\\hat{a}_y}\\otimes \\mathbf{\\hat{a}_z} + v_{3} w_{1}\\mathbf{\\hat{a}_z}\\otimes \\mathbf{\\hat{a}_x} + v_{3} w_{2}\\mathbf{\\hat{a}_z}\\otimes \\mathbf{\\hat{a}_y} + v_{3} w_{3}\\mathbf{\\hat{a}_z}\\otimes \\mathbf{\\hat{a}_z}$"
      ],
      "text/plain": [
       "v₁⋅w₁ a_x⊗a_x + v₁⋅w₂ a_x⊗a_y + v₁⋅w₃ a_x⊗a_z + v₂⋅w₁ a_y⊗a_x + v₂⋅w₂ a_y⊗a_y + v₂⋅w₃ a_y⊗a_z + v₃⋅w₁ a_z⊗a_x + v₃⋅w₂ a_z⊗a_y + v₃⋅w₃ a_z⊗a_z"
      ]
     },
     "execution_count": 4,
     "metadata": {},
     "output_type": "execute_result"
    }
   ],
   "source": [
    "v1, v2, v3 = sm.symbols('v1, v2, v3')\n",
    "w1, w2, w3 = sm.symbols('w1, w2, w3')\n",
    "\n",
    "A = me.ReferenceFrame('A')\n",
    "\n",
    "v = v1*A.x + v2*A.y + v3*A.z\n",
    "w = w1*A.x + w2*A.y + w3*A.z\n",
    "\n",
    "Q = me.outer(v, w)\n",
    "Q"
   ]
  },
  {
   "cell_type": "code",
   "execution_count": 5,
   "id": "b04e7222",
   "metadata": {
    "execution": {
     "iopub.execute_input": "2022-07-17T08:59:45.221828Z",
     "iopub.status.busy": "2022-07-17T08:59:45.221353Z",
     "iopub.status.idle": "2022-07-17T08:59:45.265788Z",
     "shell.execute_reply": "2022-07-17T08:59:45.265243Z"
    }
   },
   "outputs": [
    {
     "data": {
      "text/latex": [
       "$\\displaystyle \\left[\\begin{matrix}v_{1} w_{1} & v_{1} w_{2} & v_{1} w_{3}\\\\v_{2} w_{1} & v_{2} w_{2} & v_{2} w_{3}\\\\v_{3} w_{1} & v_{3} w_{2} & v_{3} w_{3}\\end{matrix}\\right]$"
      ],
      "text/plain": [
       "⎡v₁⋅w₁  v₁⋅w₂  v₁⋅w₃⎤\n",
       "⎢                   ⎥\n",
       "⎢v₂⋅w₁  v₂⋅w₂  v₂⋅w₃⎥\n",
       "⎢                   ⎥\n",
       "⎣v₃⋅w₁  v₃⋅w₂  v₃⋅w₃⎦"
      ]
     },
     "execution_count": 5,
     "metadata": {},
     "output_type": "execute_result"
    }
   ],
   "source": [
    "Q.to_matrix(A)"
   ]
  },
  {
   "cell_type": "code",
   "execution_count": 6,
   "id": "ae287bb6",
   "metadata": {
    "execution": {
     "iopub.execute_input": "2022-07-17T08:59:45.268240Z",
     "iopub.status.busy": "2022-07-17T08:59:45.268039Z",
     "iopub.status.idle": "2022-07-17T08:59:45.272638Z",
     "shell.execute_reply": "2022-07-17T08:59:45.272055Z"
    }
   },
   "outputs": [
    {
     "data": {
      "text/latex": [
       "$\\displaystyle \\mathbf{\\hat{a}_x}\\otimes \\mathbf{\\hat{a}_x}$"
      ],
      "text/plain": [
       "a_x⊗a_x"
      ]
     },
     "execution_count": 6,
     "metadata": {},
     "output_type": "execute_result"
    }
   ],
   "source": [
    "me.outer(A.x, A.x)"
   ]
  },
  {
   "cell_type": "code",
   "execution_count": 7,
   "id": "06138b74",
   "metadata": {
    "execution": {
     "iopub.execute_input": "2022-07-17T08:59:45.275624Z",
     "iopub.status.busy": "2022-07-17T08:59:45.275169Z",
     "iopub.status.idle": "2022-07-17T08:59:45.286143Z",
     "shell.execute_reply": "2022-07-17T08:59:45.285618Z"
    }
   },
   "outputs": [
    {
     "data": {
      "text/latex": [
       "$\\displaystyle \\left[\\begin{matrix}1 & 0 & 0\\\\0 & 0 & 0\\\\0 & 0 & 0\\end{matrix}\\right]$"
      ],
      "text/plain": [
       "⎡1  0  0⎤\n",
       "⎢       ⎥\n",
       "⎢0  0  0⎥\n",
       "⎢       ⎥\n",
       "⎣0  0  0⎦"
      ]
     },
     "execution_count": 7,
     "metadata": {},
     "output_type": "execute_result"
    }
   ],
   "source": [
    "me.outer(A.x, A.x).to_matrix(A)"
   ]
  },
  {
   "cell_type": "code",
   "execution_count": 8,
   "id": "1328bace",
   "metadata": {
    "execution": {
     "iopub.execute_input": "2022-07-17T08:59:45.288759Z",
     "iopub.status.busy": "2022-07-17T08:59:45.288221Z",
     "iopub.status.idle": "2022-07-17T08:59:45.292775Z",
     "shell.execute_reply": "2022-07-17T08:59:45.292199Z"
    }
   },
   "outputs": [
    {
     "data": {
      "text/latex": [
       "$\\displaystyle \\mathbf{\\hat{a}_y}\\otimes \\mathbf{\\hat{a}_z}$"
      ],
      "text/plain": [
       "a_y⊗a_z"
      ]
     },
     "execution_count": 8,
     "metadata": {},
     "output_type": "execute_result"
    }
   ],
   "source": [
    "me.outer(A.y, A.z)"
   ]
  },
  {
   "cell_type": "code",
   "execution_count": 9,
   "id": "bc16157c",
   "metadata": {
    "execution": {
     "iopub.execute_input": "2022-07-17T08:59:45.295293Z",
     "iopub.status.busy": "2022-07-17T08:59:45.294834Z",
     "iopub.status.idle": "2022-07-17T08:59:45.304129Z",
     "shell.execute_reply": "2022-07-17T08:59:45.303553Z"
    }
   },
   "outputs": [
    {
     "data": {
      "text/latex": [
       "$\\displaystyle \\left[\\begin{matrix}0 & 0 & 0\\\\0 & 0 & 1\\\\0 & 0 & 0\\end{matrix}\\right]$"
      ],
      "text/plain": [
       "⎡0  0  0⎤\n",
       "⎢       ⎥\n",
       "⎢0  0  1⎥\n",
       "⎢       ⎥\n",
       "⎣0  0  0⎦"
      ]
     },
     "execution_count": 9,
     "metadata": {},
     "output_type": "execute_result"
    }
   ],
   "source": [
    "me.outer(A.y, A.z).to_matrix(A)"
   ]
  },
  {
   "cell_type": "code",
   "execution_count": 10,
   "id": "b3b5ebd6",
   "metadata": {
    "execution": {
     "iopub.execute_input": "2022-07-17T08:59:45.307023Z",
     "iopub.status.busy": "2022-07-17T08:59:45.306562Z",
     "iopub.status.idle": "2022-07-17T08:59:45.318479Z",
     "shell.execute_reply": "2022-07-17T08:59:45.317889Z"
    }
   },
   "outputs": [
    {
     "data": {
      "text/latex": [
       "$\\displaystyle 2\\mathbf{\\hat{b}_x}\\otimes \\mathbf{\\hat{b}_x} + 3\\mathbf{\\hat{a}_x}\\otimes \\mathbf{\\hat{b}_y} + 4\\mathbf{\\hat{b}_z}\\otimes \\mathbf{\\hat{a}_z}$"
      ],
      "text/plain": [
       "2 b_x⊗b_x + 3 a_x⊗b_y + 4 b_z⊗a_z"
      ]
     },
     "execution_count": 10,
     "metadata": {},
     "output_type": "execute_result"
    }
   ],
   "source": [
    "theta = sm.symbols(\"theta\")\n",
    "\n",
    "A = me.ReferenceFrame('A')\n",
    "B = me.ReferenceFrame('B')\n",
    "\n",
    "B.orient_axis(A, theta, A.x)\n",
    "\n",
    "P = 2*me.outer(B.x, B.x) + 3*me.outer(A.x, B.y) + 4*me.outer(B.z, A.z)\n",
    "P"
   ]
  },
  {
   "cell_type": "code",
   "execution_count": 11,
   "id": "670e737c",
   "metadata": {
    "execution": {
     "iopub.execute_input": "2022-07-17T08:59:45.320894Z",
     "iopub.status.busy": "2022-07-17T08:59:45.320566Z",
     "iopub.status.idle": "2022-07-17T08:59:45.334799Z",
     "shell.execute_reply": "2022-07-17T08:59:45.333716Z"
    }
   },
   "outputs": [
    {
     "data": {
      "text/latex": [
       "$\\displaystyle 2\\mathbf{\\hat{a}_x}\\otimes \\mathbf{\\hat{a}_x} + 3 \\cos{\\left(\\theta \\right)}\\mathbf{\\hat{a}_x}\\otimes \\mathbf{\\hat{a}_y} + 3 \\sin{\\left(\\theta \\right)}\\mathbf{\\hat{a}_x}\\otimes \\mathbf{\\hat{a}_z} -  4 \\sin{\\left(\\theta \\right)}\\mathbf{\\hat{a}_y}\\otimes \\mathbf{\\hat{a}_z} + 4 \\cos{\\left(\\theta \\right)}\\mathbf{\\hat{a}_z}\\otimes \\mathbf{\\hat{a}_z}$"
      ],
      "text/plain": [
       "2 a_x⊗a_x + 3⋅cos(θ) a_x⊗a_y + 3⋅sin(θ) a_x⊗a_z - 4⋅sin(θ) a_y⊗a_z + 4⋅cos(θ) a_z⊗a_z"
      ]
     },
     "execution_count": 11,
     "metadata": {},
     "output_type": "execute_result"
    }
   ],
   "source": [
    "P.express(A)"
   ]
  },
  {
   "cell_type": "code",
   "execution_count": 12,
   "id": "297c23b8",
   "metadata": {
    "execution": {
     "iopub.execute_input": "2022-07-17T08:59:45.337444Z",
     "iopub.status.busy": "2022-07-17T08:59:45.337136Z",
     "iopub.status.idle": "2022-07-17T08:59:45.358162Z",
     "shell.execute_reply": "2022-07-17T08:59:45.357359Z"
    }
   },
   "outputs": [
    {
     "data": {
      "text/latex": [
       "$\\displaystyle \\left[\\begin{matrix}2 & 3 \\cos{\\left(\\theta \\right)} & 3 \\sin{\\left(\\theta \\right)}\\\\0 & 0 & - 4 \\sin{\\left(\\theta \\right)}\\\\0 & 0 & 4 \\cos{\\left(\\theta \\right)}\\end{matrix}\\right]$"
      ],
      "text/plain": [
       "⎡2  3⋅cos(θ)  3⋅sin(θ) ⎤\n",
       "⎢                      ⎥\n",
       "⎢0     0      -4⋅sin(θ)⎥\n",
       "⎢                      ⎥\n",
       "⎣0     0      4⋅cos(θ) ⎦"
      ]
     },
     "execution_count": 12,
     "metadata": {},
     "output_type": "execute_result"
    }
   ],
   "source": [
    "P.to_matrix(A)"
   ]
  },
  {
   "cell_type": "code",
   "execution_count": 13,
   "id": "e5d9ee25",
   "metadata": {
    "execution": {
     "iopub.execute_input": "2022-07-17T08:59:45.360680Z",
     "iopub.status.busy": "2022-07-17T08:59:45.360148Z",
     "iopub.status.idle": "2022-07-17T08:59:45.369589Z",
     "shell.execute_reply": "2022-07-17T08:59:45.369071Z"
    }
   },
   "outputs": [
    {
     "data": {
      "text/latex": [
       "$\\displaystyle 2\\mathbf{\\hat{b}_x}\\otimes \\mathbf{\\hat{b}_x} + 3\\mathbf{\\hat{b}_x}\\otimes \\mathbf{\\hat{b}_y} + 4 \\sin{\\left(\\theta \\right)}\\mathbf{\\hat{b}_z}\\otimes \\mathbf{\\hat{b}_y} + 4 \\cos{\\left(\\theta \\right)}\\mathbf{\\hat{b}_z}\\otimes \\mathbf{\\hat{b}_z}$"
      ],
      "text/plain": [
       "2 b_x⊗b_x + 3 b_x⊗b_y + 4⋅sin(θ) b_z⊗b_y + 4⋅cos(θ) b_z⊗b_z"
      ]
     },
     "execution_count": 13,
     "metadata": {},
     "output_type": "execute_result"
    }
   ],
   "source": [
    "P.express(B)"
   ]
  },
  {
   "cell_type": "code",
   "execution_count": 14,
   "id": "9f6af4bc",
   "metadata": {
    "execution": {
     "iopub.execute_input": "2022-07-17T08:59:45.372324Z",
     "iopub.status.busy": "2022-07-17T08:59:45.371865Z",
     "iopub.status.idle": "2022-07-17T08:59:45.389500Z",
     "shell.execute_reply": "2022-07-17T08:59:45.388986Z"
    }
   },
   "outputs": [
    {
     "data": {
      "text/latex": [
       "$\\displaystyle \\left[\\begin{matrix}2 & 3 & 0\\\\0 & 0 & 0\\\\0 & 4 \\sin{\\left(\\theta \\right)} & 4 \\cos{\\left(\\theta \\right)}\\end{matrix}\\right]$"
      ],
      "text/plain": [
       "⎡2     3         0    ⎤\n",
       "⎢                     ⎥\n",
       "⎢0     0         0    ⎥\n",
       "⎢                     ⎥\n",
       "⎣0  4⋅sin(θ)  4⋅cos(θ)⎦"
      ]
     },
     "execution_count": 14,
     "metadata": {},
     "output_type": "execute_result"
    }
   ],
   "source": [
    "P.to_matrix(B)"
   ]
  },
  {
   "cell_type": "code",
   "execution_count": 15,
   "id": "cada6d29",
   "metadata": {
    "execution": {
     "iopub.execute_input": "2022-07-17T08:59:45.392022Z",
     "iopub.status.busy": "2022-07-17T08:59:45.391491Z",
     "iopub.status.idle": "2022-07-17T08:59:45.399205Z",
     "shell.execute_reply": "2022-07-17T08:59:45.397902Z"
    }
   },
   "outputs": [
    {
     "data": {
      "text/latex": [
       "$\\displaystyle \\mathbf{\\hat{a}_x}\\otimes \\mathbf{\\hat{a}_x} + \\mathbf{\\hat{a}_y}\\otimes \\mathbf{\\hat{a}_y} + \\mathbf{\\hat{a}_z}\\otimes \\mathbf{\\hat{a}_z}$"
      ],
      "text/plain": [
       "a_x⊗a_x + a_y⊗a_y + a_z⊗a_z"
      ]
     },
     "execution_count": 15,
     "metadata": {},
     "output_type": "execute_result"
    }
   ],
   "source": [
    "U = me.outer(A.x, A.x) + me.outer(A.y, A.y) + me.outer(A.z, A.z)\n",
    "U"
   ]
  },
  {
   "cell_type": "code",
   "execution_count": 16,
   "id": "28fb41e3",
   "metadata": {
    "execution": {
     "iopub.execute_input": "2022-07-17T08:59:45.401739Z",
     "iopub.status.busy": "2022-07-17T08:59:45.401440Z",
     "iopub.status.idle": "2022-07-17T08:59:45.419147Z",
     "shell.execute_reply": "2022-07-17T08:59:45.418074Z"
    }
   },
   "outputs": [
    {
     "data": {
      "text/latex": [
       "$\\displaystyle \\left[\\begin{matrix}1 & 0 & 0\\\\0 & 1 & 0\\\\0 & 0 & 1\\end{matrix}\\right]$"
      ],
      "text/plain": [
       "⎡1  0  0⎤\n",
       "⎢       ⎥\n",
       "⎢0  1  0⎥\n",
       "⎢       ⎥\n",
       "⎣0  0  1⎦"
      ]
     },
     "execution_count": 16,
     "metadata": {},
     "output_type": "execute_result"
    }
   ],
   "source": [
    "U.to_matrix(A)"
   ]
  },
  {
   "cell_type": "code",
   "execution_count": 17,
   "id": "abfc7826",
   "metadata": {
    "execution": {
     "iopub.execute_input": "2022-07-17T08:59:45.422507Z",
     "iopub.status.busy": "2022-07-17T08:59:45.421438Z",
     "iopub.status.idle": "2022-07-17T08:59:45.486759Z",
     "shell.execute_reply": "2022-07-17T08:59:45.486166Z"
    }
   },
   "outputs": [
    {
     "data": {
      "text/latex": [
       "$\\displaystyle \\mathbf{\\hat{b}_x}\\otimes \\mathbf{\\hat{b}_x} + \\mathbf{\\hat{b}_y}\\otimes \\mathbf{\\hat{b}_y} + \\mathbf{\\hat{b}_z}\\otimes \\mathbf{\\hat{b}_z}$"
      ],
      "text/plain": [
       "b_x⊗b_x + b_y⊗b_y + b_z⊗b_z"
      ]
     },
     "execution_count": 17,
     "metadata": {},
     "output_type": "execute_result"
    }
   ],
   "source": [
    "U.express(B).simplify()"
   ]
  },
  {
   "cell_type": "code",
   "execution_count": 18,
   "id": "04139160",
   "metadata": {
    "execution": {
     "iopub.execute_input": "2022-07-17T08:59:45.490343Z",
     "iopub.status.busy": "2022-07-17T08:59:45.489170Z",
     "iopub.status.idle": "2022-07-17T08:59:45.509175Z",
     "shell.execute_reply": "2022-07-17T08:59:45.508631Z"
    }
   },
   "outputs": [
    {
     "data": {
      "text/latex": [
       "$\\displaystyle I_{xx}\\mathbf{\\hat{a}_x}\\otimes \\mathbf{\\hat{a}_x} + I_{xy}\\mathbf{\\hat{a}_x}\\otimes \\mathbf{\\hat{a}_y} + I_{xz}\\mathbf{\\hat{a}_x}\\otimes \\mathbf{\\hat{a}_z} + I_{xy}\\mathbf{\\hat{a}_y}\\otimes \\mathbf{\\hat{a}_x} + I_{yy}\\mathbf{\\hat{a}_y}\\otimes \\mathbf{\\hat{a}_y} + I_{yz}\\mathbf{\\hat{a}_y}\\otimes \\mathbf{\\hat{a}_z} + I_{xz}\\mathbf{\\hat{a}_z}\\otimes \\mathbf{\\hat{a}_x} + I_{yz}\\mathbf{\\hat{a}_z}\\otimes \\mathbf{\\hat{a}_y} + I_{zz}\\mathbf{\\hat{a}_z}\\otimes \\mathbf{\\hat{a}_z}$"
      ],
      "text/plain": [
       "I_{xx} a_x⊗a_x + I_{xy} a_x⊗a_y + I_{xz} a_x⊗a_z + I_{xy} a_y⊗a_x + I_{yy} a_y⊗a_y + I_{yz} a_y⊗a_z + I_{xz} a_z⊗a_x + I_{yz} a_z⊗a_y + I_{zz} a_z⊗a_z"
      ]
     },
     "execution_count": 18,
     "metadata": {},
     "output_type": "execute_result"
    }
   ],
   "source": [
    "Ixx, Iyy, Izz = sm.symbols('I_{xx}, I_{yy}, I_{zz}')\n",
    "Ixy, Iyz, Ixz = sm.symbols('I_{xy}, I_{yz}, I_{xz}')\n",
    "\n",
    "I = me.inertia(A, Ixx, Iyy, Izz, ixy=Ixy, iyz=Iyz, izx=Ixz)\n",
    "I"
   ]
  },
  {
   "cell_type": "code",
   "execution_count": 19,
   "id": "ca5bca57",
   "metadata": {
    "execution": {
     "iopub.execute_input": "2022-07-17T08:59:45.511907Z",
     "iopub.status.busy": "2022-07-17T08:59:45.511598Z",
     "iopub.status.idle": "2022-07-17T08:59:45.554870Z",
     "shell.execute_reply": "2022-07-17T08:59:45.554350Z"
    }
   },
   "outputs": [
    {
     "data": {
      "text/latex": [
       "$\\displaystyle \\left[\\begin{matrix}I_{xx} & I_{xy} & I_{xz}\\\\I_{xy} & I_{yy} & I_{yz}\\\\I_{xz} & I_{yz} & I_{zz}\\end{matrix}\\right]$"
      ],
      "text/plain": [
       "⎡I_{xx}  I_{xy}  I_{xz}⎤\n",
       "⎢                      ⎥\n",
       "⎢I_{xy}  I_{yy}  I_{yz}⎥\n",
       "⎢                      ⎥\n",
       "⎣I_{xz}  I_{yz}  I_{zz}⎦"
      ]
     },
     "execution_count": 19,
     "metadata": {},
     "output_type": "execute_result"
    }
   ],
   "source": [
    "I.to_matrix(A)"
   ]
  },
  {
   "cell_type": "code",
   "execution_count": 20,
   "id": "8bd1e4c7",
   "metadata": {
    "execution": {
     "iopub.execute_input": "2022-07-17T08:59:45.558285Z",
     "iopub.status.busy": "2022-07-17T08:59:45.557168Z",
     "iopub.status.idle": "2022-07-17T08:59:46.282532Z",
     "shell.execute_reply": "2022-07-17T08:59:46.281543Z"
    }
   },
   "outputs": [
    {
     "data": {
      "text/latex": [
       "$\\displaystyle \\left[\\begin{matrix}I_{xx} & I_{xy} \\cos{\\left(\\theta \\right)} + I_{xz} \\sin{\\left(\\theta \\right)} & - I_{xy} \\sin{\\left(\\theta \\right)} + I_{xz} \\cos{\\left(\\theta \\right)}\\\\I_{xy} \\cos{\\left(\\theta \\right)} + I_{xz} \\sin{\\left(\\theta \\right)} & \\frac{I_{yy} \\cos{\\left(2 \\theta \\right)}}{2} + \\frac{I_{yy}}{2} + I_{yz} \\sin{\\left(2 \\theta \\right)} - \\frac{I_{zz} \\cos{\\left(2 \\theta \\right)}}{2} + \\frac{I_{zz}}{2} & - \\frac{I_{yy} \\sin{\\left(2 \\theta \\right)}}{2} + I_{yz} \\cos{\\left(2 \\theta \\right)} + \\frac{I_{zz} \\sin{\\left(2 \\theta \\right)}}{2}\\\\- I_{xy} \\sin{\\left(\\theta \\right)} + I_{xz} \\cos{\\left(\\theta \\right)} & - \\frac{I_{yy} \\sin{\\left(2 \\theta \\right)}}{2} + I_{yz} \\cos{\\left(2 \\theta \\right)} + \\frac{I_{zz} \\sin{\\left(2 \\theta \\right)}}{2} & - \\frac{I_{yy} \\cos{\\left(2 \\theta \\right)}}{2} + \\frac{I_{yy}}{2} - I_{yz} \\sin{\\left(2 \\theta \\right)} + \\frac{I_{zz} \\cos{\\left(2 \\theta \\right)}}{2} + \\frac{I_{zz}}{2}\\end{matrix}\\right]$"
      ],
      "text/plain": [
       "⎡            I_{xx}                                  I_{xy}⋅cos(θ) + I_{xz}⋅si\n",
       "⎢                                                                             \n",
       "⎢                                I_{yy}⋅cos(2⋅θ)   I_{yy}                     \n",
       "⎢I_{xy}⋅cos(θ) + I_{xz}⋅sin(θ)   ─────────────── + ────── + I_{yz}⋅sin(2⋅θ) - \n",
       "⎢                                       2            2                        \n",
       "⎢                                                                             \n",
       "⎢                                          I_{yy}⋅sin(2⋅θ)                    \n",
       "⎢-I_{xy}⋅sin(θ) + I_{xz}⋅cos(θ)          - ─────────────── + I_{yz}⋅cos(2⋅θ) +\n",
       "⎣                                                 2                           \n",
       "\n",
       "n(θ)                                          -I_{xy}⋅sin(θ) + I_{xz}⋅cos(θ)  \n",
       "                                                                              \n",
       "I_{zz}⋅cos(2⋅θ)   I_{zz}             I_{yy}⋅sin(2⋅θ)                     I_{zz\n",
       "─────────────── + ──────           - ─────────────── + I_{yz}⋅cos(2⋅θ) + ─────\n",
       "       2            2                       2                                 \n",
       "                                                                              \n",
       " I_{zz}⋅sin(2⋅θ)            I_{yy}⋅cos(2⋅θ)   I_{yy}                     I_{zz\n",
       " ───────────────          - ─────────────── + ────── - I_{yz}⋅sin(2⋅θ) + ─────\n",
       "        2                          2            2                             \n",
       "\n",
       "                   ⎤\n",
       "                   ⎥\n",
       "}⋅sin(2⋅θ)         ⎥\n",
       "──────────         ⎥\n",
       "  2                ⎥\n",
       "                   ⎥\n",
       "}⋅cos(2⋅θ)   I_{zz}⎥\n",
       "────────── + ──────⎥\n",
       "  2            2   ⎦"
      ]
     },
     "execution_count": 20,
     "metadata": {},
     "output_type": "execute_result"
    }
   ],
   "source": [
    "sm.trigsimp(I.to_matrix(B))"
   ]
  },
  {
   "cell_type": "code",
   "execution_count": 21,
   "id": "29234af7",
   "metadata": {
    "execution": {
     "iopub.execute_input": "2022-07-17T08:59:46.285749Z",
     "iopub.status.busy": "2022-07-17T08:59:46.285275Z",
     "iopub.status.idle": "2022-07-17T08:59:46.971702Z",
     "shell.execute_reply": "2022-07-17T08:59:46.971022Z"
    }
   },
   "outputs": [
    {
     "data": {
      "text/latex": [
       "$\\displaystyle \\left[\\begin{matrix}I_{xx} & I_{xy} \\cos{\\left(\\theta \\right)} + I_{xz} \\sin{\\left(\\theta \\right)} & - I_{xy} \\sin{\\left(\\theta \\right)} + I_{xz} \\cos{\\left(\\theta \\right)}\\\\I_{xy} \\cos{\\left(\\theta \\right)} + I_{xz} \\sin{\\left(\\theta \\right)} & \\frac{I_{yy} \\cos{\\left(2 \\theta \\right)}}{2} + \\frac{I_{yy}}{2} + I_{yz} \\sin{\\left(2 \\theta \\right)} - \\frac{I_{zz} \\cos{\\left(2 \\theta \\right)}}{2} + \\frac{I_{zz}}{2} & - \\frac{I_{yy} \\sin{\\left(2 \\theta \\right)}}{2} + I_{yz} \\cos{\\left(2 \\theta \\right)} + \\frac{I_{zz} \\sin{\\left(2 \\theta \\right)}}{2}\\\\- I_{xy} \\sin{\\left(\\theta \\right)} + I_{xz} \\cos{\\left(\\theta \\right)} & - \\frac{I_{yy} \\sin{\\left(2 \\theta \\right)}}{2} + I_{yz} \\cos{\\left(2 \\theta \\right)} + \\frac{I_{zz} \\sin{\\left(2 \\theta \\right)}}{2} & - \\frac{I_{yy} \\cos{\\left(2 \\theta \\right)}}{2} + \\frac{I_{yy}}{2} - I_{yz} \\sin{\\left(2 \\theta \\right)} + \\frac{I_{zz} \\cos{\\left(2 \\theta \\right)}}{2} + \\frac{I_{zz}}{2}\\end{matrix}\\right]$"
      ],
      "text/plain": [
       "⎡            I_{xx}                                  I_{xy}⋅cos(θ) + I_{xz}⋅si\n",
       "⎢                                                                             \n",
       "⎢                                I_{yy}⋅cos(2⋅θ)   I_{yy}                     \n",
       "⎢I_{xy}⋅cos(θ) + I_{xz}⋅sin(θ)   ─────────────── + ────── + I_{yz}⋅sin(2⋅θ) - \n",
       "⎢                                       2            2                        \n",
       "⎢                                                                             \n",
       "⎢                                          I_{yy}⋅sin(2⋅θ)                    \n",
       "⎢-I_{xy}⋅sin(θ) + I_{xz}⋅cos(θ)          - ─────────────── + I_{yz}⋅cos(2⋅θ) +\n",
       "⎣                                                 2                           \n",
       "\n",
       "n(θ)                                          -I_{xy}⋅sin(θ) + I_{xz}⋅cos(θ)  \n",
       "                                                                              \n",
       "I_{zz}⋅cos(2⋅θ)   I_{zz}             I_{yy}⋅sin(2⋅θ)                     I_{zz\n",
       "─────────────── + ──────           - ─────────────── + I_{yz}⋅cos(2⋅θ) + ─────\n",
       "       2            2                       2                                 \n",
       "                                                                              \n",
       " I_{zz}⋅sin(2⋅θ)            I_{yy}⋅cos(2⋅θ)   I_{yy}                     I_{zz\n",
       " ───────────────          - ─────────────── + ────── - I_{yz}⋅sin(2⋅θ) + ─────\n",
       "        2                          2            2                             \n",
       "\n",
       "                   ⎤\n",
       "                   ⎥\n",
       "}⋅sin(2⋅θ)         ⎥\n",
       "──────────         ⎥\n",
       "  2                ⎥\n",
       "                   ⎥\n",
       "}⋅cos(2⋅θ)   I_{zz}⎥\n",
       "────────── + ──────⎥\n",
       "  2            2   ⎦"
      ]
     },
     "execution_count": 21,
     "metadata": {},
     "output_type": "execute_result"
    }
   ],
   "source": [
    "sm.trigsimp(B.dcm(A)*I.to_matrix(A)*A.dcm(B))"
   ]
  },
  {
   "cell_type": "code",
   "execution_count": 22,
   "id": "284ae408",
   "metadata": {
    "execution": {
     "iopub.execute_input": "2022-07-17T08:59:46.974675Z",
     "iopub.status.busy": "2022-07-17T08:59:46.974144Z",
     "iopub.status.idle": "2022-07-17T08:59:47.006874Z",
     "shell.execute_reply": "2022-07-17T08:59:47.005541Z"
    }
   },
   "outputs": [
    {
     "data": {
      "text/latex": [
       "$\\displaystyle (I_{xx} \\omega_{1} + I_{xy} \\omega_{2} + I_{xz} \\omega_{3})\\mathbf{\\hat{b}_x} + (I_{xy} \\omega_{1} + I_{yy} \\omega_{2} + I_{yz} \\omega_{3})\\mathbf{\\hat{b}_y} + (I_{xz} \\omega_{1} + I_{yz} \\omega_{2} + I_{zz} \\omega_{3})\\mathbf{\\hat{b}_z}$"
      ],
      "text/plain": [
       "(I_{xx}⋅ω₁ + I_{xy}⋅ω₂ + I_{xz}⋅ω₃) b_x + (I_{xy}⋅ω₁ + I_{yy}⋅ω₂ + I_{yz}⋅ω₃)\n",
       "b_y + (I_{xz}⋅ω₁ + I_{yz}⋅ω₂ + I_{zz}⋅ω₃) b_z"
      ]
     },
     "execution_count": 22,
     "metadata": {},
     "output_type": "execute_result"
    }
   ],
   "source": [
    "Ixx, Iyy, Izz = sm.symbols('I_{xx}, I_{yy}, I_{zz}')\n",
    "Ixy, Iyz, Ixz = sm.symbols('I_{xy}, I_{yz}, I_{xz}')\n",
    "w1, w2, w3 = me.dynamicsymbols('omega1, omega2, omega3')\n",
    "\n",
    "B = me.ReferenceFrame('B')\n",
    "\n",
    "I = me.inertia(B, Ixx, Iyy, Izz, Ixy, Iyz, Ixz)\n",
    "\n",
    "A_w_B = w1*B.x + w2*B.y + w3*B.z\n",
    "\n",
    "I.dot(A_w_B)"
   ]
  },
  {
   "cell_type": "code",
   "execution_count": 23,
   "id": "5d66b34b",
   "metadata": {
    "execution": {
     "iopub.execute_input": "2022-07-17T08:59:47.009994Z",
     "iopub.status.busy": "2022-07-17T08:59:47.009481Z",
     "iopub.status.idle": "2022-07-17T08:59:47.047161Z",
     "shell.execute_reply": "2022-07-17T08:59:47.045885Z"
    }
   },
   "outputs": [
    {
     "data": {
      "text/latex": [
       "$\\displaystyle m \\left(d_{y}^{2} + d_{z}^{2}\\right)\\mathbf{\\hat{n}_x}\\otimes \\mathbf{\\hat{n}_x} + m \\left(d_{x}^{2} + d_{z}^{2}\\right)\\mathbf{\\hat{n}_y}\\otimes \\mathbf{\\hat{n}_y} + m \\left(d_{x}^{2} + d_{y}^{2}\\right)\\mathbf{\\hat{n}_z}\\otimes \\mathbf{\\hat{n}_z} -  d_{x} d_{y} m\\mathbf{\\hat{n}_x}\\otimes \\mathbf{\\hat{n}_y} -  d_{x} d_{z} m\\mathbf{\\hat{n}_x}\\otimes \\mathbf{\\hat{n}_z} -  d_{x} d_{y} m\\mathbf{\\hat{n}_y}\\otimes \\mathbf{\\hat{n}_x} -  d_{y} d_{z} m\\mathbf{\\hat{n}_y}\\otimes \\mathbf{\\hat{n}_z} -  d_{x} d_{z} m\\mathbf{\\hat{n}_z}\\otimes \\mathbf{\\hat{n}_x} -  d_{y} d_{z} m\\mathbf{\\hat{n}_z}\\otimes \\mathbf{\\hat{n}_y}$"
      ],
      "text/plain": [
       "  ⎛   2      2⎞\n",
       "m⋅⎝d_y  + d_z ⎠ n_x⊗n_x +   ⎛  2      2⎞\n",
       "m⋅⎝dₓ  + d_z ⎠ n_y⊗n_y +   ⎛  2      2⎞\n",
       "m⋅⎝dₓ  + d_y ⎠ n_z⊗n_z - dₓ⋅d_y⋅m n_x⊗n_y - dₓ⋅d_z⋅m n_x⊗n_z - dₓ⋅d_y⋅m n_y⊗n_x - d_y⋅d_z⋅m n_y⊗n_z - dₓ⋅d_z⋅m n_z⊗n_x - d_y⋅d_z⋅m n_z⊗n_y"
      ]
     },
     "execution_count": 23,
     "metadata": {},
     "output_type": "execute_result"
    }
   ],
   "source": [
    "dx, dy, dz, m = sm.symbols('d_x, d_y, d_z, m')\n",
    "\n",
    "N = me.ReferenceFrame('N')\n",
    "\n",
    "r_O_Bo = dx*N.x + dy*N.y + dz*N.z\n",
    "\n",
    "U = me.outer(N.x, N.x) + me.outer(N.y, N.y) + me.outer(N.z, N.z)\n",
    "\n",
    "I_Bo_O = m*(me.dot(r_O_Bo, r_O_Bo)*U - me.outer(r_O_Bo, r_O_Bo))\n",
    "I_Bo_O"
   ]
  },
  {
   "cell_type": "code",
   "execution_count": 24,
   "id": "3ece149f",
   "metadata": {
    "execution": {
     "iopub.execute_input": "2022-07-17T08:59:47.049895Z",
     "iopub.status.busy": "2022-07-17T08:59:47.049492Z",
     "iopub.status.idle": "2022-07-17T08:59:47.101487Z",
     "shell.execute_reply": "2022-07-17T08:59:47.100908Z"
    }
   },
   "outputs": [
    {
     "data": {
      "text/latex": [
       "$\\displaystyle \\left[\\begin{matrix}m \\left(d_{y}^{2} + d_{z}^{2}\\right) & - d_{x} d_{y} m & - d_{x} d_{z} m\\\\- d_{x} d_{y} m & m \\left(d_{x}^{2} + d_{z}^{2}\\right) & - d_{y} d_{z} m\\\\- d_{x} d_{z} m & - d_{y} d_{z} m & m \\left(d_{x}^{2} + d_{y}^{2}\\right)\\end{matrix}\\right]$"
      ],
      "text/plain": [
       "⎡  ⎛   2      2⎞                                ⎤\n",
       "⎢m⋅⎝d_y  + d_z ⎠    -dₓ⋅d_y⋅m       -dₓ⋅d_z⋅m   ⎥\n",
       "⎢                                               ⎥\n",
       "⎢                   ⎛  2      2⎞                ⎥\n",
       "⎢   -dₓ⋅d_y⋅m     m⋅⎝dₓ  + d_z ⎠    -d_y⋅d_z⋅m  ⎥\n",
       "⎢                                               ⎥\n",
       "⎢                                   ⎛  2      2⎞⎥\n",
       "⎣   -dₓ⋅d_z⋅m       -d_y⋅d_z⋅m    m⋅⎝dₓ  + d_y ⎠⎦"
      ]
     },
     "execution_count": 24,
     "metadata": {},
     "output_type": "execute_result"
    }
   ],
   "source": [
    "I_Bo_O.to_matrix(N)"
   ]
  },
  {
   "cell_type": "code",
   "execution_count": 25,
   "id": "4af29031",
   "metadata": {
    "execution": {
     "iopub.execute_input": "2022-07-17T08:59:47.104433Z",
     "iopub.status.busy": "2022-07-17T08:59:47.103956Z",
     "iopub.status.idle": "2022-07-17T08:59:47.112320Z",
     "shell.execute_reply": "2022-07-17T08:59:47.111206Z"
    }
   },
   "outputs": [
    {
     "data": {
      "text/latex": [
       "$\\displaystyle \\left[\\begin{matrix}1.0451 & 0 & -0.1123\\\\0 & 2.403 & 0\\\\-0.1123 & 0 & 1.8501\\end{matrix}\\right]$"
      ],
      "text/plain": [
       "⎡1.0451     0    -0.1123⎤\n",
       "⎢                       ⎥\n",
       "⎢   0     2.403     0   ⎥\n",
       "⎢                       ⎥\n",
       "⎣-0.1123    0    1.8501 ⎦"
      ]
     },
     "execution_count": 25,
     "metadata": {},
     "output_type": "execute_result"
    }
   ],
   "source": [
    "I = sm.Matrix([[1.0451, 0.0, -0.1123],\n",
    "               [0.0, 2.403, 0.0],\n",
    "               [-0.1123, 0.0, 1.8501]])\n",
    "I"
   ]
  },
  {
   "cell_type": "code",
   "execution_count": 26,
   "id": "1f18d635",
   "metadata": {
    "execution": {
     "iopub.execute_input": "2022-07-17T08:59:47.115076Z",
     "iopub.status.busy": "2022-07-17T08:59:47.114766Z",
     "iopub.status.idle": "2022-07-17T08:59:47.127558Z",
     "shell.execute_reply": "2022-07-17T08:59:47.126842Z"
    }
   },
   "outputs": [
    {
     "data": {
      "text/latex": [
       "$\\displaystyle \\left[ \\left( 2.403, \\  1, \\  \\left[ \\left[\\begin{matrix}0\\\\1.0\\\\0\\end{matrix}\\right]\\right]\\right), \\  \\left( 1.02972736390139, \\  1, \\  \\left[ \\left[\\begin{matrix}-0.990760351805416\\\\0\\\\-0.135624206137434\\end{matrix}\\right]\\right]\\right), \\  \\left( 1.86547263609861, \\  1, \\  \\left[ \\left[\\begin{matrix}0.135624206137434\\\\0\\\\-0.990760351805416\\end{matrix}\\right]\\right]\\right)\\right]$"
      ],
      "text/plain": [
       "⎡⎛          ⎡⎡ 0 ⎤⎤⎞  ⎛                     ⎡⎡-0.990760351805416⎤⎤⎞  ⎛        \n",
       "⎢⎜          ⎢⎢   ⎥⎥⎟  ⎜                     ⎢⎢                  ⎥⎥⎟  ⎜        \n",
       "⎢⎜2.403, 1, ⎢⎢1.0⎥⎥⎟, ⎜1.02972736390139, 1, ⎢⎢        0         ⎥⎥⎟, ⎜1.865472\n",
       "⎢⎜          ⎢⎢   ⎥⎥⎟  ⎜                     ⎢⎢                  ⎥⎥⎟  ⎜        \n",
       "⎣⎝          ⎣⎣ 0 ⎦⎦⎠  ⎝                     ⎣⎣-0.135624206137434⎦⎦⎠  ⎝        \n",
       "\n",
       "             ⎡⎡0.135624206137434 ⎤⎤⎞⎤\n",
       "             ⎢⎢                  ⎥⎥⎟⎥\n",
       "63609861, 1, ⎢⎢        0         ⎥⎥⎟⎥\n",
       "             ⎢⎢                  ⎥⎥⎟⎥\n",
       "             ⎣⎣-0.990760351805416⎦⎦⎠⎦"
      ]
     },
     "execution_count": 26,
     "metadata": {},
     "output_type": "execute_result"
    }
   ],
   "source": [
    "I.eigenvects()"
   ]
  }
 ],
 "metadata": {
  "kernelspec": {
   "display_name": "Python 3 (ipykernel)",
   "language": "python",
   "name": "python3"
  },
  "language_info": {
   "codemirror_mode": {
    "name": "ipython",
    "version": 3
   },
   "file_extension": ".py",
   "mimetype": "text/x-python",
   "name": "python",
   "nbconvert_exporter": "python",
   "pygments_lexer": "ipython3",
   "version": "3.9.13"
  }
 },
 "nbformat": 4,
 "nbformat_minor": 5
}