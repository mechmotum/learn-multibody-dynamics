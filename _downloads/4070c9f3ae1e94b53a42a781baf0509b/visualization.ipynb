{
 "cells": [
  {
   "cell_type": "code",
   "execution_count": 1,
   "id": "c595ab08",
   "metadata": {
    "execution": {
     "iopub.execute_input": "2022-07-17T09:01:30.572774Z",
     "iopub.status.busy": "2022-07-17T09:01:30.572510Z",
     "iopub.status.idle": "2022-07-17T09:01:31.201256Z",
     "shell.execute_reply": "2022-07-17T09:01:31.200594Z"
    }
   },
   "outputs": [],
   "source": [
    "from scipy.integrate import solve_ivp\n",
    "import numpy as np\n",
    "import sympy as sm\n",
    "import sympy.physics.mechanics as me"
   ]
  },
  {
   "cell_type": "code",
   "execution_count": 2,
   "id": "59279943",
   "metadata": {
    "execution": {
     "iopub.execute_input": "2022-07-17T09:01:31.205068Z",
     "iopub.status.busy": "2022-07-17T09:01:31.204707Z",
     "iopub.status.idle": "2022-07-17T09:01:31.554779Z",
     "shell.execute_reply": "2022-07-17T09:01:31.553500Z"
    }
   },
   "outputs": [],
   "source": [
    "m, g, kt, kl, l = sm.symbols('m, g, k_t, k_l, l')\n",
    "q1, q2, q3 = me.dynamicsymbols('q1, q2, q3')\n",
    "u1, u2, u3 = me.dynamicsymbols('u1, u2, u3')\n",
    "\n",
    "N = me.ReferenceFrame('N')\n",
    "A = me.ReferenceFrame('A')\n",
    "B = me.ReferenceFrame('B')\n",
    "\n",
    "A.orient_axis(N, q1, N.z)\n",
    "B.orient_axis(A, q2, A.x)\n",
    "\n",
    "A.set_ang_vel(N, u1*N.z)\n",
    "B.set_ang_vel(A, u2*A.x)\n",
    "\n",
    "O = me.Point('O')\n",
    "Ao = me.Point('A_O')\n",
    "Bo = me.Point('B_O')\n",
    "Q = me.Point('Q')\n",
    "\n",
    "Ao.set_pos(O, l/2*A.x)\n",
    "Bo.set_pos(O, l*A.x)\n",
    "Q.set_pos(Bo, q3*B.y)\n",
    "\n",
    "O.set_vel(N, 0)\n",
    "Ao.v2pt_theory(O, N, A)\n",
    "Bo.v2pt_theory(O, N, A)\n",
    "Q.set_vel(B, u3*B.y)\n",
    "Q.v1pt_theory(Bo, N, B)\n",
    "\n",
    "t = me.dynamicsymbols._t\n",
    "\n",
    "qdot_repl = {q1.diff(t): u1,\n",
    "             q2.diff(t): u2,\n",
    "             q3.diff(t): u3}\n",
    "\n",
    "Q.set_acc(N, Q.acc(N).xreplace(qdot_repl))\n",
    "\n",
    "R_Ao = m*g*N.x\n",
    "R_Bo = m*g*N.x + kl*q3*B.y\n",
    "R_Q = m/4*g*N.x - kl*q3*B.y\n",
    "T_A = -kt*q1*N.z + kt*q2*A.x\n",
    "T_B = -kt*q2*A.x\n",
    "\n",
    "I = m*l**2/12\n",
    "I_A_Ao = I*me.outer(A.y, A.y) + I*me.outer(A.z, A.z)\n",
    "I_B_Bo = I*me.outer(B.x, B.x) + I*me.outer(B.z, B.z)\n",
    "\n",
    "points = [Ao, Bo, Q]\n",
    "forces = [R_Ao, R_Bo, R_Q]\n",
    "masses = [m, m, m/4]\n",
    "\n",
    "frames = [A, B]\n",
    "torques = [T_A, T_B]\n",
    "inertias = [I_A_Ao, I_B_Bo]\n",
    "\n",
    "Fr_bar = []\n",
    "Frs_bar = []\n",
    "\n",
    "for ur in [u1, u2, u3]:\n",
    "\n",
    "    Fr = 0\n",
    "    Frs = 0\n",
    "\n",
    "    for Pi, Ri, mi in zip(points, forces, masses):\n",
    "        vr = Pi.vel(N).diff(ur, N)\n",
    "        Fr += vr.dot(Ri)\n",
    "        Rs = -mi*Pi.acc(N)\n",
    "        Frs += vr.dot(Rs)\n",
    "\n",
    "    for Bi, Ti, Ii in zip(frames, torques, inertias):\n",
    "        wr = Bi.ang_vel_in(N).diff(ur, N)\n",
    "        Fr += wr.dot(Ti)\n",
    "        Ts = -(Bi.ang_acc_in(N).dot(Ii) +\n",
    "               me.cross(Bi.ang_vel_in(N), Ii).dot(Bi.ang_vel_in(N)))\n",
    "        Frs += wr.dot(Ts)\n",
    "\n",
    "    Fr_bar.append(Fr)\n",
    "    Frs_bar.append(Frs)\n",
    "\n",
    "Fr = sm.Matrix(Fr_bar)\n",
    "Frs = sm.Matrix(Frs_bar)\n",
    "\n",
    "q = sm.Matrix([q1, q2, q3])\n",
    "u = sm.Matrix([u1, u2, u3])\n",
    "p = sm.Matrix([g, kl, kt, l, m])\n",
    "\n",
    "qd = q.diff(t)\n",
    "ud = u.diff(t)\n",
    "\n",
    "ud_zerod = {udr: 0 for udr in ud}\n",
    "\n",
    "Mk = -sm.eye(3)\n",
    "gk = u\n",
    "\n",
    "Md = Frs.jacobian(ud)\n",
    "gd = Frs.xreplace(ud_zerod) + Fr\n",
    "\n",
    "eval_eom = sm.lambdify((q, u, p), [Mk, gk, Md, gd])\n",
    "\n",
    "def eval_rhs(t, x, p):\n",
    "    \"\"\"Return the right hand side of the explicit ordinary differential\n",
    "    equations which evaluates the time derivative of the state ``x`` at time\n",
    "    ``t``.\n",
    "\n",
    "    Parameters\n",
    "    ==========\n",
    "    t : float\n",
    "       Time in seconds.\n",
    "    x : array_like, shape(6,)\n",
    "       State at time t: [q1, q2, q3, u1, u2, u3]\n",
    "    p : array_like, shape(5,)\n",
    "       Constant parameters: [g, kl, kt, l, m]\n",
    "\n",
    "    Returns\n",
    "    =======\n",
    "    xd : ndarray, shape(6,)\n",
    "        Derivative of the state with respect to time at time ``t``.\n",
    "\n",
    "    \"\"\"\n",
    "\n",
    "    # unpack the q and u vectors from x\n",
    "    q = x[:3]\n",
    "    u = x[3:]\n",
    "\n",
    "    # evaluate the equations of motion matrices with the values of q, u, p\n",
    "    Mk, gk, Md, gd = eval_eom(q, u, p)\n",
    "\n",
    "    # solve for q' and u'\n",
    "    qd = np.linalg.solve(-Mk, np.squeeze(gk))\n",
    "    ud = np.linalg.solve(-Md, np.squeeze(gd))\n",
    "\n",
    "    # pack dq/dt and du/dt into a new state time derivative vector dx/dt\n",
    "    xd = np.empty_like(x)\n",
    "    xd[:3] = qd\n",
    "    xd[3:] = ud\n",
    "\n",
    "    return xd\n",
    "\n",
    "q_vals = np.array([\n",
    "    np.deg2rad(25.0),  # q1, rad\n",
    "    np.deg2rad(5.0),  # q2, rad\n",
    "    0.1,  # q3, m\n",
    "])\n",
    "\n",
    "u_vals = np.array([\n",
    "    0.1,  # u1, rad/s\n",
    "    2.2,  # u2, rad/s\n",
    "    0.3,  # u3, m/s\n",
    "])\n",
    "\n",
    "p_vals = np.array([\n",
    "    9.81,  # g, m/s**2\n",
    "    3.0,  # kl, N/m\n",
    "    0.01,  # kt, Nm/rad\n",
    "    0.6,  # l, m\n",
    "    1.0,  # m, kg\n",
    "])\n",
    "\n",
    "x0 = np.empty(6)\n",
    "x0[:3] = q_vals\n",
    "x0[3:] = u_vals\n",
    "\n",
    "fps = 50\n",
    "t0, tf = 0.0, 10.0\n",
    "ts = np.linspace(t0, tf, num=int(fps*(tf - t0)))\n",
    "result = solve_ivp(eval_rhs, (t0, tf), x0, args=(p_vals,), t_eval=ts)\n",
    "xs = result.y.T"
   ]
  },
  {
   "cell_type": "code",
   "execution_count": 3,
   "id": "29cf5c4e",
   "metadata": {
    "execution": {
     "iopub.execute_input": "2022-07-17T09:01:31.558033Z",
     "iopub.status.busy": "2022-07-17T09:01:31.557805Z",
     "iopub.status.idle": "2022-07-17T09:01:31.567031Z",
     "shell.execute_reply": "2022-07-17T09:01:31.566446Z"
    }
   },
   "outputs": [
    {
     "data": {
      "text/plain": [
       "((500,), (500, 6))"
      ]
     },
     "execution_count": 3,
     "metadata": {},
     "output_type": "execute_result"
    }
   ],
   "source": [
    "ts.shape, xs.shape"
   ]
  },
  {
   "cell_type": "code",
   "execution_count": 4,
   "id": "11e129f6",
   "metadata": {
    "execution": {
     "iopub.execute_input": "2022-07-17T09:01:31.569538Z",
     "iopub.status.busy": "2022-07-17T09:01:31.569215Z",
     "iopub.status.idle": "2022-07-17T09:01:31.724168Z",
     "shell.execute_reply": "2022-07-17T09:01:31.723526Z"
    }
   },
   "outputs": [],
   "source": [
    "import pythreejs as p3js"
   ]
  },
  {
   "cell_type": "code",
   "execution_count": 5,
   "id": "d1ba4526",
   "metadata": {
    "execution": {
     "iopub.execute_input": "2022-07-17T09:01:31.727422Z",
     "iopub.status.busy": "2022-07-17T09:01:31.727045Z",
     "iopub.status.idle": "2022-07-17T09:01:31.741576Z",
     "shell.execute_reply": "2022-07-17T09:01:31.741031Z"
    }
   },
   "outputs": [
    {
     "data": {
      "application/vnd.jupyter.widget-view+json": {
       "model_id": "db95c9f6a11c44e5b5eb6e060848ba8a",
       "version_major": 2,
       "version_minor": 0
      },
      "text/plain": [
       "Preview(child=CylinderGeometry(height=50.0, radiusBottom=10.0, radiusTop=2.0), shadowMap=WebGLShadowMap())"
      ]
     },
     "metadata": {},
     "output_type": "display_data"
    }
   ],
   "source": [
    "cyl_geom = p3js.CylinderGeometry(radiusTop=2.0, radiusBottom=10.0, height=50.0)\n",
    "cyl_geom"
   ]
  },
  {
   "cell_type": "code",
   "execution_count": 6,
   "id": "d6f1cd52",
   "metadata": {
    "execution": {
     "iopub.execute_input": "2022-07-17T09:01:31.744111Z",
     "iopub.status.busy": "2022-07-17T09:01:31.743707Z",
     "iopub.status.idle": "2022-07-17T09:01:31.761108Z",
     "shell.execute_reply": "2022-07-17T09:01:31.760593Z"
    }
   },
   "outputs": [
    {
     "data": {
      "application/vnd.jupyter.widget-view+json": {
       "model_id": "73c8ebe98a7e44bca220e5ee3e447863",
       "version_major": 2,
       "version_minor": 0
      },
      "text/plain": [
       "Preview(child=Mesh(geometry=CylinderGeometry(height=50.0, radiusBottom=10.0, radiusTop=2.0), material=MeshStan…"
      ]
     },
     "metadata": {},
     "output_type": "display_data"
    }
   ],
   "source": [
    "red_material = p3js.MeshStandardMaterial(color='red')\n",
    "\n",
    "cyl_mesh = p3js.Mesh(geometry=cyl_geom, material=red_material)\n",
    "\n",
    "cyl_mesh"
   ]
  },
  {
   "cell_type": "code",
   "execution_count": 7,
   "id": "21410693",
   "metadata": {
    "execution": {
     "iopub.execute_input": "2022-07-17T09:01:31.763999Z",
     "iopub.status.busy": "2022-07-17T09:01:31.763548Z",
     "iopub.status.idle": "2022-07-17T09:01:31.779259Z",
     "shell.execute_reply": "2022-07-17T09:01:31.778722Z"
    }
   },
   "outputs": [],
   "source": [
    "cyl_geom = p3js.CylinderGeometry(radiusTop=0.1, radiusBottom=0.5, height=2.0)\n",
    "cyl_material = p3js.MeshStandardMaterial(color='orange', wireframe=True)\n",
    "cyl_mesh = p3js.Mesh(geometry=cyl_geom, material=cyl_material)\n",
    "axes = p3js.AxesHelper()\n",
    "cyl_mesh.add(axes)\n",
    "cyl_mesh.position = (3.0, 3.0, 3.0)"
   ]
  },
  {
   "cell_type": "code",
   "execution_count": 8,
   "id": "61613079",
   "metadata": {
    "execution": {
     "iopub.execute_input": "2022-07-17T09:01:31.782055Z",
     "iopub.status.busy": "2022-07-17T09:01:31.781736Z",
     "iopub.status.idle": "2022-07-17T09:01:31.808021Z",
     "shell.execute_reply": "2022-07-17T09:01:31.807494Z"
    }
   },
   "outputs": [
    {
     "name": "stderr",
     "output_type": "stream",
     "text": [
      "/home/runner/micromamba-root/envs/multibody-book/lib/python3.9/site-packages/jupyter_client/session.py:718: UserWarning: Message serialization failed with:\n",
      "Out of range float values are not JSON compliant\n",
      "Supporting this message is deprecated in jupyter-client 7, please make sure your message is JSON-compliant\n",
      "  content = self.pack(content)\n"
     ]
    }
   ],
   "source": [
    "view_width = 600\n",
    "view_height = 400\n",
    "\n",
    "camera = p3js.PerspectiveCamera(position=[10.0, 10.0, 10.0],\n",
    "                                aspect=view_width/view_height)\n",
    "dir_light = p3js.DirectionalLight(position=[0.0, 10.0, 10.0])\n",
    "ambient_light = p3js.AmbientLight()\n",
    "\n",
    "axes = p3js.AxesHelper()\n",
    "scene = p3js.Scene(children=[cyl_mesh, axes, camera, dir_light, ambient_light])\n",
    "controller = p3js.OrbitControls(controlling=camera)\n",
    "renderer = p3js.Renderer(camera=camera,\n",
    "                         scene=scene,\n",
    "                         controls=[controller],\n",
    "                         width=view_width,\n",
    "                         height=view_height)"
   ]
  },
  {
   "cell_type": "code",
   "execution_count": 9,
   "id": "795523fa",
   "metadata": {
    "execution": {
     "iopub.execute_input": "2022-07-17T09:01:31.810481Z",
     "iopub.status.busy": "2022-07-17T09:01:31.810239Z",
     "iopub.status.idle": "2022-07-17T09:01:31.818439Z",
     "shell.execute_reply": "2022-07-17T09:01:31.817898Z"
    }
   },
   "outputs": [
    {
     "data": {
      "application/vnd.jupyter.widget-view+json": {
       "model_id": "3a2384b7ec9646aaa1647cea53902c9b",
       "version_major": 2,
       "version_minor": 0
      },
      "text/plain": [
       "Renderer(camera=PerspectiveCamera(aspect=1.5, position=(10.0, 10.0, 10.0), projectionMatrix=(1.0, 0.0, 0.0, 0.…"
      ]
     },
     "metadata": {},
     "output_type": "display_data"
    }
   ],
   "source": [
    "renderer"
   ]
  },
  {
   "cell_type": "code",
   "execution_count": 10,
   "id": "12569ab7",
   "metadata": {
    "execution": {
     "iopub.execute_input": "2022-07-17T09:01:31.821052Z",
     "iopub.status.busy": "2022-07-17T09:01:31.820740Z",
     "iopub.status.idle": "2022-07-17T09:01:31.826284Z",
     "shell.execute_reply": "2022-07-17T09:01:31.825761Z"
    }
   },
   "outputs": [
    {
     "data": {
      "text/plain": [
       "(1.0,\n",
       " 0.0,\n",
       " 0.0,\n",
       " 0.0,\n",
       " 0.0,\n",
       " 1.0,\n",
       " 0.0,\n",
       " 0.0,\n",
       " 0.0,\n",
       " 0.0,\n",
       " 1.0,\n",
       " 0.0,\n",
       " 0.0,\n",
       " 0.0,\n",
       " 0.0,\n",
       " 1.0)"
      ]
     },
     "execution_count": 10,
     "metadata": {},
     "output_type": "execute_result"
    }
   ],
   "source": [
    "cyl_mesh.matrix"
   ]
  },
  {
   "cell_type": "code",
   "execution_count": 11,
   "id": "7fc9b588",
   "metadata": {
    "execution": {
     "iopub.execute_input": "2022-07-17T09:01:31.829025Z",
     "iopub.status.busy": "2022-07-17T09:01:31.828566Z",
     "iopub.status.idle": "2022-07-17T09:01:31.833949Z",
     "shell.execute_reply": "2022-07-17T09:01:31.833430Z"
    }
   },
   "outputs": [
    {
     "data": {
      "text/plain": [
       "16"
      ]
     },
     "execution_count": 11,
     "metadata": {},
     "output_type": "execute_result"
    }
   ],
   "source": [
    "len(cyl_mesh.matrix)"
   ]
  },
  {
   "cell_type": "code",
   "execution_count": 12,
   "id": "987f79c6",
   "metadata": {
    "execution": {
     "iopub.execute_input": "2022-07-17T09:01:31.836571Z",
     "iopub.status.busy": "2022-07-17T09:01:31.836085Z",
     "iopub.status.idle": "2022-07-17T09:01:31.841477Z",
     "shell.execute_reply": "2022-07-17T09:01:31.840887Z"
    }
   },
   "outputs": [
    {
     "data": {
      "text/plain": [
       "array([[1., 0., 0., 0.],\n",
       "       [0., 1., 0., 0.],\n",
       "       [0., 0., 1., 0.],\n",
       "       [0., 0., 0., 1.]])"
      ]
     },
     "execution_count": 12,
     "metadata": {},
     "output_type": "execute_result"
    }
   ],
   "source": [
    "np.array(cyl_mesh.matrix).reshape(4, 4)"
   ]
  },
  {
   "cell_type": "code",
   "execution_count": 13,
   "id": "92ba76b5",
   "metadata": {
    "execution": {
     "iopub.execute_input": "2022-07-17T09:01:31.844077Z",
     "iopub.status.busy": "2022-07-17T09:01:31.843539Z",
     "iopub.status.idle": "2022-07-17T09:01:31.849256Z",
     "shell.execute_reply": "2022-07-17T09:01:31.848714Z"
    }
   },
   "outputs": [
    {
     "data": {
      "text/plain": [
       "array([1., 0., 0., 0., 0., 1., 0., 0., 0., 0., 1., 0., 0., 0., 0., 1.])"
      ]
     },
     "execution_count": 13,
     "metadata": {},
     "output_type": "execute_result"
    }
   ],
   "source": [
    "np.array(cyl_mesh.matrix).reshape(4, 4).flatten()"
   ]
  },
  {
   "cell_type": "code",
   "execution_count": 14,
   "id": "4ecb6ca7",
   "metadata": {
    "execution": {
     "iopub.execute_input": "2022-07-17T09:01:31.851587Z",
     "iopub.status.busy": "2022-07-17T09:01:31.851382Z",
     "iopub.status.idle": "2022-07-17T09:01:31.857650Z",
     "shell.execute_reply": "2022-07-17T09:01:31.857048Z"
    }
   },
   "outputs": [],
   "source": [
    "Ac = me.ReferenceFrame('Ac')\n",
    "Ac.orient_axis(A, sm.pi/2, A.z)"
   ]
  },
  {
   "cell_type": "code",
   "execution_count": 15,
   "id": "5b976002",
   "metadata": {
    "execution": {
     "iopub.execute_input": "2022-07-17T09:01:31.860217Z",
     "iopub.status.busy": "2022-07-17T09:01:31.859679Z",
     "iopub.status.idle": "2022-07-17T09:01:31.870255Z",
     "shell.execute_reply": "2022-07-17T09:01:31.869059Z"
    }
   },
   "outputs": [
    {
     "data": {
      "text/latex": [
       "$\\displaystyle \\left[\\begin{matrix}- \\sin{\\left(\\operatorname{q_{1}}{\\left(t \\right)} \\right)} & \\cos{\\left(\\operatorname{q_{1}}{\\left(t \\right)} \\right)} & 0 & 0\\\\- \\cos{\\left(\\operatorname{q_{1}}{\\left(t \\right)} \\right)} & - \\sin{\\left(\\operatorname{q_{1}}{\\left(t \\right)} \\right)} & 0 & 0\\\\0 & 0 & 1 & 0\\\\\\frac{l \\cos{\\left(\\operatorname{q_{1}}{\\left(t \\right)} \\right)}}{2} & \\frac{l \\sin{\\left(\\operatorname{q_{1}}{\\left(t \\right)} \\right)}}{2} & 0 & 1\\end{matrix}\\right]$"
      ],
      "text/plain": [
       "Matrix([\n",
       "[   -sin(q1(t)),     cos(q1(t)), 0, 0],\n",
       "[   -cos(q1(t)),    -sin(q1(t)), 0, 0],\n",
       "[             0,              0, 1, 0],\n",
       "[l*cos(q1(t))/2, l*sin(q1(t))/2, 0, 1]])"
      ]
     },
     "execution_count": 15,
     "metadata": {},
     "output_type": "execute_result"
    }
   ],
   "source": [
    "TA = sm.eye(4)\n",
    "TA[:3, :3] = Ac.dcm(N)\n",
    "TA[3, :3] = sm.transpose(Ao.pos_from(O).to_matrix(N))\n",
    "TA"
   ]
  },
  {
   "cell_type": "code",
   "execution_count": 16,
   "id": "71c3e796",
   "metadata": {
    "execution": {
     "iopub.execute_input": "2022-07-17T09:01:31.873004Z",
     "iopub.status.busy": "2022-07-17T09:01:31.872543Z",
     "iopub.status.idle": "2022-07-17T09:01:31.883008Z",
     "shell.execute_reply": "2022-07-17T09:01:31.882473Z"
    }
   },
   "outputs": [
    {
     "data": {
      "text/latex": [
       "$\\displaystyle \\left[\\begin{matrix}\\cos{\\left(\\operatorname{q_{1}}{\\left(t \\right)} \\right)} & \\sin{\\left(\\operatorname{q_{1}}{\\left(t \\right)} \\right)} & 0 & 0\\\\- \\sin{\\left(\\operatorname{q_{1}}{\\left(t \\right)} \\right)} \\cos{\\left(\\operatorname{q_{2}}{\\left(t \\right)} \\right)} & \\cos{\\left(\\operatorname{q_{1}}{\\left(t \\right)} \\right)} \\cos{\\left(\\operatorname{q_{2}}{\\left(t \\right)} \\right)} & \\sin{\\left(\\operatorname{q_{2}}{\\left(t \\right)} \\right)} & 0\\\\\\sin{\\left(\\operatorname{q_{1}}{\\left(t \\right)} \\right)} \\sin{\\left(\\operatorname{q_{2}}{\\left(t \\right)} \\right)} & - \\sin{\\left(\\operatorname{q_{2}}{\\left(t \\right)} \\right)} \\cos{\\left(\\operatorname{q_{1}}{\\left(t \\right)} \\right)} & \\cos{\\left(\\operatorname{q_{2}}{\\left(t \\right)} \\right)} & 0\\\\l \\cos{\\left(\\operatorname{q_{1}}{\\left(t \\right)} \\right)} & l \\sin{\\left(\\operatorname{q_{1}}{\\left(t \\right)} \\right)} & 0 & 1\\end{matrix}\\right]$"
      ],
      "text/plain": [
       "Matrix([\n",
       "[            cos(q1(t)),             sin(q1(t)),          0, 0],\n",
       "[-sin(q1(t))*cos(q2(t)),  cos(q1(t))*cos(q2(t)), sin(q2(t)), 0],\n",
       "[ sin(q1(t))*sin(q2(t)), -sin(q2(t))*cos(q1(t)), cos(q2(t)), 0],\n",
       "[          l*cos(q1(t)),           l*sin(q1(t)),          0, 1]])"
      ]
     },
     "execution_count": 16,
     "metadata": {},
     "output_type": "execute_result"
    }
   ],
   "source": [
    "TB = sm.eye(4)\n",
    "TB[:3, :3] = B.dcm(N)\n",
    "TB[3, :3] = sm.transpose(Bo.pos_from(O).to_matrix(N))\n",
    "TB"
   ]
  },
  {
   "cell_type": "code",
   "execution_count": 17,
   "id": "891090c0",
   "metadata": {
    "execution": {
     "iopub.execute_input": "2022-07-17T09:01:31.886511Z",
     "iopub.status.busy": "2022-07-17T09:01:31.885415Z",
     "iopub.status.idle": "2022-07-17T09:01:31.899201Z",
     "shell.execute_reply": "2022-07-17T09:01:31.898682Z"
    }
   },
   "outputs": [
    {
     "data": {
      "text/latex": [
       "$\\displaystyle \\left[\\begin{matrix}\\cos{\\left(\\operatorname{q_{1}}{\\left(t \\right)} \\right)} & \\sin{\\left(\\operatorname{q_{1}}{\\left(t \\right)} \\right)} & 0 & 0\\\\- \\sin{\\left(\\operatorname{q_{1}}{\\left(t \\right)} \\right)} \\cos{\\left(\\operatorname{q_{2}}{\\left(t \\right)} \\right)} & \\cos{\\left(\\operatorname{q_{1}}{\\left(t \\right)} \\right)} \\cos{\\left(\\operatorname{q_{2}}{\\left(t \\right)} \\right)} & \\sin{\\left(\\operatorname{q_{2}}{\\left(t \\right)} \\right)} & 0\\\\\\sin{\\left(\\operatorname{q_{1}}{\\left(t \\right)} \\right)} \\sin{\\left(\\operatorname{q_{2}}{\\left(t \\right)} \\right)} & - \\sin{\\left(\\operatorname{q_{2}}{\\left(t \\right)} \\right)} \\cos{\\left(\\operatorname{q_{1}}{\\left(t \\right)} \\right)} & \\cos{\\left(\\operatorname{q_{2}}{\\left(t \\right)} \\right)} & 0\\\\l \\cos{\\left(\\operatorname{q_{1}}{\\left(t \\right)} \\right)} - \\operatorname{q_{3}}{\\left(t \\right)} \\sin{\\left(\\operatorname{q_{1}}{\\left(t \\right)} \\right)} \\cos{\\left(\\operatorname{q_{2}}{\\left(t \\right)} \\right)} & l \\sin{\\left(\\operatorname{q_{1}}{\\left(t \\right)} \\right)} + \\operatorname{q_{3}}{\\left(t \\right)} \\cos{\\left(\\operatorname{q_{1}}{\\left(t \\right)} \\right)} \\cos{\\left(\\operatorname{q_{2}}{\\left(t \\right)} \\right)} & \\operatorname{q_{3}}{\\left(t \\right)} \\sin{\\left(\\operatorname{q_{2}}{\\left(t \\right)} \\right)} & 1\\end{matrix}\\right]$"
      ],
      "text/plain": [
       "Matrix([\n",
       "[                                cos(q1(t)),                                 sin(q1(t)),                0, 0],\n",
       "[                    -sin(q1(t))*cos(q2(t)),                      cos(q1(t))*cos(q2(t)),       sin(q2(t)), 0],\n",
       "[                     sin(q1(t))*sin(q2(t)),                     -sin(q2(t))*cos(q1(t)),       cos(q2(t)), 0],\n",
       "[l*cos(q1(t)) - q3(t)*sin(q1(t))*cos(q2(t)), l*sin(q1(t)) + q3(t)*cos(q1(t))*cos(q2(t)), q3(t)*sin(q2(t)), 1]])"
      ]
     },
     "execution_count": 17,
     "metadata": {},
     "output_type": "execute_result"
    }
   ],
   "source": [
    "TQ = sm.eye(4)\n",
    "TQ[:3, :3] = B.dcm(N)\n",
    "TQ[3, :3] = sm.transpose(Q.pos_from(O).to_matrix(N))\n",
    "TQ"
   ]
  },
  {
   "cell_type": "code",
   "execution_count": 18,
   "id": "3de56daa",
   "metadata": {
    "execution": {
     "iopub.execute_input": "2022-07-17T09:01:31.901943Z",
     "iopub.status.busy": "2022-07-17T09:01:31.901501Z",
     "iopub.status.idle": "2022-07-17T09:01:31.906203Z",
     "shell.execute_reply": "2022-07-17T09:01:31.905688Z"
    }
   },
   "outputs": [],
   "source": [
    "TA = TA.reshape(16, 1)\n",
    "TB = TB.reshape(16, 1)\n",
    "TQ = TQ.reshape(16, 1)"
   ]
  },
  {
   "cell_type": "code",
   "execution_count": 19,
   "id": "5fb64f87",
   "metadata": {
    "execution": {
     "iopub.execute_input": "2022-07-17T09:01:31.908859Z",
     "iopub.status.busy": "2022-07-17T09:01:31.908556Z",
     "iopub.status.idle": "2022-07-17T09:01:31.916480Z",
     "shell.execute_reply": "2022-07-17T09:01:31.915867Z"
    }
   },
   "outputs": [
    {
     "data": {
      "text/latex": [
       "$\\displaystyle \\left[\\begin{matrix}- \\sin{\\left(\\operatorname{q_{1}}{\\left(t \\right)} \\right)}\\\\\\cos{\\left(\\operatorname{q_{1}}{\\left(t \\right)} \\right)}\\\\0\\\\0\\\\- \\cos{\\left(\\operatorname{q_{1}}{\\left(t \\right)} \\right)}\\\\- \\sin{\\left(\\operatorname{q_{1}}{\\left(t \\right)} \\right)}\\\\0\\\\0\\\\0\\\\0\\\\1\\\\0\\\\\\frac{l \\cos{\\left(\\operatorname{q_{1}}{\\left(t \\right)} \\right)}}{2}\\\\\\frac{l \\sin{\\left(\\operatorname{q_{1}}{\\left(t \\right)} \\right)}}{2}\\\\0\\\\1\\end{matrix}\\right]$"
      ],
      "text/plain": [
       "Matrix([\n",
       "[   -sin(q1(t))],\n",
       "[    cos(q1(t))],\n",
       "[             0],\n",
       "[             0],\n",
       "[   -cos(q1(t))],\n",
       "[   -sin(q1(t))],\n",
       "[             0],\n",
       "[             0],\n",
       "[             0],\n",
       "[             0],\n",
       "[             1],\n",
       "[             0],\n",
       "[l*cos(q1(t))/2],\n",
       "[l*sin(q1(t))/2],\n",
       "[             0],\n",
       "[             1]])"
      ]
     },
     "execution_count": 19,
     "metadata": {},
     "output_type": "execute_result"
    }
   ],
   "source": [
    "TA"
   ]
  },
  {
   "cell_type": "code",
   "execution_count": 20,
   "id": "b2557f16",
   "metadata": {
    "execution": {
     "iopub.execute_input": "2022-07-17T09:01:31.919320Z",
     "iopub.status.busy": "2022-07-17T09:01:31.918860Z",
     "iopub.status.idle": "2022-07-17T09:01:31.937383Z",
     "shell.execute_reply": "2022-07-17T09:01:31.936867Z"
    }
   },
   "outputs": [
    {
     "data": {
      "text/plain": [
       "(array([[-0.42261826],\n",
       "        [ 0.90630779],\n",
       "        [ 0.        ],\n",
       "        [ 0.        ],\n",
       "        [-0.90630779],\n",
       "        [-0.42261826],\n",
       "        [ 0.        ],\n",
       "        [ 0.        ],\n",
       "        [ 0.        ],\n",
       "        [ 0.        ],\n",
       "        [ 1.        ],\n",
       "        [ 0.        ],\n",
       "        [ 0.27189234],\n",
       "        [ 0.12678548],\n",
       "        [ 0.        ],\n",
       "        [ 1.        ]]),\n",
       " array([[ 0.90630779],\n",
       "        [ 0.42261826],\n",
       "        [ 0.        ],\n",
       "        [ 0.        ],\n",
       "        [-0.42101007],\n",
       "        [ 0.90285901],\n",
       "        [ 0.08715574],\n",
       "        [ 0.        ],\n",
       "        [ 0.03683361],\n",
       "        [-0.07898993],\n",
       "        [ 0.9961947 ],\n",
       "        [ 0.        ],\n",
       "        [ 0.54378467],\n",
       "        [ 0.25357096],\n",
       "        [ 0.        ],\n",
       "        [ 1.        ]]),\n",
       " array([[ 0.90630779],\n",
       "        [ 0.42261826],\n",
       "        [ 0.        ],\n",
       "        [ 0.        ],\n",
       "        [-0.42101007],\n",
       "        [ 0.90285901],\n",
       "        [ 0.08715574],\n",
       "        [ 0.        ],\n",
       "        [ 0.03683361],\n",
       "        [-0.07898993],\n",
       "        [ 0.9961947 ],\n",
       "        [ 0.        ],\n",
       "        [ 0.50168367],\n",
       "        [ 0.34385686],\n",
       "        [ 0.00871557],\n",
       "        [ 1.        ]]))"
      ]
     },
     "execution_count": 20,
     "metadata": {},
     "output_type": "execute_result"
    }
   ],
   "source": [
    "eval_transform = sm.lambdify((q, p), (TA, TB, TQ))\n",
    "eval_transform(q_vals, p_vals)"
   ]
  },
  {
   "cell_type": "code",
   "execution_count": 21,
   "id": "b1084749",
   "metadata": {
    "execution": {
     "iopub.execute_input": "2022-07-17T09:01:31.939972Z",
     "iopub.status.busy": "2022-07-17T09:01:31.939692Z",
     "iopub.status.idle": "2022-07-17T09:01:31.977967Z",
     "shell.execute_reply": "2022-07-17T09:01:31.977392Z"
    }
   },
   "outputs": [],
   "source": [
    "TAs = []\n",
    "TBs = []\n",
    "TQs = []\n",
    "\n",
    "for xi in xs:\n",
    "    TAi, TBi, TQi = eval_transform(xi[:3], p_vals)\n",
    "    TAs.append(TAi.squeeze().tolist())\n",
    "    TBs.append(TBi.squeeze().tolist())\n",
    "    TQs.append(TQi.squeeze().tolist())"
   ]
  },
  {
   "cell_type": "code",
   "execution_count": 22,
   "id": "ad87c99b",
   "metadata": {
    "execution": {
     "iopub.execute_input": "2022-07-17T09:01:31.980862Z",
     "iopub.status.busy": "2022-07-17T09:01:31.980455Z",
     "iopub.status.idle": "2022-07-17T09:01:31.986306Z",
     "shell.execute_reply": "2022-07-17T09:01:31.985792Z"
    }
   },
   "outputs": [
    {
     "data": {
      "text/plain": [
       "[[-0.42261826174069944,\n",
       "  0.9063077870366498,\n",
       "  0.0,\n",
       "  0.0,\n",
       "  -0.9063077870366498,\n",
       "  -0.42261826174069944,\n",
       "  0.0,\n",
       "  0.0,\n",
       "  0.0,\n",
       "  0.0,\n",
       "  1.0,\n",
       "  0.0,\n",
       "  0.27189233611099495,\n",
       "  0.12678547852220984,\n",
       "  0.0,\n",
       "  1.0],\n",
       " [-0.4230974312041529,\n",
       "  0.9060841923951918,\n",
       "  0.0,\n",
       "  0.0,\n",
       "  -0.9060841923951918,\n",
       "  -0.4230974312041529,\n",
       "  0.0,\n",
       "  0.0,\n",
       "  0.0,\n",
       "  0.0,\n",
       "  1.0,\n",
       "  0.0,\n",
       "  0.27182525771855753,\n",
       "  0.12692922936124587,\n",
       "  0.0,\n",
       "  1.0]]"
      ]
     },
     "execution_count": 22,
     "metadata": {},
     "output_type": "execute_result"
    }
   ],
   "source": [
    "TAs[:2]"
   ]
  },
  {
   "cell_type": "code",
   "execution_count": 23,
   "id": "1eb9bae5",
   "metadata": {
    "execution": {
     "iopub.execute_input": "2022-07-17T09:01:31.989833Z",
     "iopub.status.busy": "2022-07-17T09:01:31.988745Z",
     "iopub.status.idle": "2022-07-17T09:01:31.999502Z",
     "shell.execute_reply": "2022-07-17T09:01:31.998985Z"
    }
   },
   "outputs": [],
   "source": [
    "rod_radius = p_vals[3]/20  # l/20\n",
    "sphere_radius = p_vals[3]/16  # l/16\n",
    "\n",
    "geom_A = p3js.CylinderGeometry(\n",
    "    radiusTop=rod_radius,\n",
    "    radiusBottom=rod_radius,\n",
    "    height=p_vals[3],  # l\n",
    ")\n",
    "\n",
    "geom_B = p3js.CylinderGeometry(\n",
    "    radiusTop=rod_radius,\n",
    "    radiusBottom=rod_radius,\n",
    "    height=p_vals[3],  # l\n",
    ")\n",
    "\n",
    "geom_Q = p3js.SphereGeometry(radius=sphere_radius)"
   ]
  },
  {
   "cell_type": "code",
   "execution_count": 24,
   "id": "5dc1e491",
   "metadata": {
    "execution": {
     "iopub.execute_input": "2022-07-17T09:01:32.002888Z",
     "iopub.status.busy": "2022-07-17T09:01:32.001750Z",
     "iopub.status.idle": "2022-07-17T09:01:32.027600Z",
     "shell.execute_reply": "2022-07-17T09:01:32.027146Z"
    }
   },
   "outputs": [],
   "source": [
    "arrow_length = 0.2\n",
    "\n",
    "mesh_A = p3js.Mesh(\n",
    "    geometry=geom_A,\n",
    "    material=p3js.MeshStandardMaterial(color='red'),\n",
    "    name='mesh_A',\n",
    ")\n",
    "mesh_A.matrixAutoUpdate = False\n",
    "mesh_A.add(p3js.AxesHelper(arrow_length))\n",
    "mesh_A.matrix = TAs[0]\n",
    "\n",
    "mesh_B = p3js.Mesh(\n",
    "    geometry=geom_B,\n",
    "    material=p3js.MeshStandardMaterial(color='blue'),\n",
    "    name='mesh_B',\n",
    ")\n",
    "mesh_B.matrixAutoUpdate = False\n",
    "mesh_B.add(p3js.AxesHelper(arrow_length))\n",
    "mesh_B.matrix = TBs[0]\n",
    "\n",
    "mesh_Q = p3js.Mesh(\n",
    "    geometry=geom_Q,\n",
    "    material=p3js.MeshStandardMaterial(color='green'),\n",
    "    name='mesh_Q',\n",
    ")\n",
    "mesh_Q.matrixAutoUpdate = False\n",
    "mesh_Q.add(p3js.AxesHelper(arrow_length))\n",
    "mesh_Q.matrix = TQs[0]"
   ]
  },
  {
   "cell_type": "code",
   "execution_count": 25,
   "id": "b0aa6260",
   "metadata": {
    "execution": {
     "iopub.execute_input": "2022-07-17T09:01:32.035695Z",
     "iopub.status.busy": "2022-07-17T09:01:32.035180Z",
     "iopub.status.idle": "2022-07-17T09:01:32.055698Z",
     "shell.execute_reply": "2022-07-17T09:01:32.055171Z"
    }
   },
   "outputs": [],
   "source": [
    "view_width = 600\n",
    "view_height = 400\n",
    "\n",
    "camera = p3js.PerspectiveCamera(position=[1.5, 0.6, 1],\n",
    "                                up=[-1.0, 0.0, 0.0],\n",
    "                                aspect=view_width/view_height)\n",
    "\n",
    "key_light = p3js.DirectionalLight(position=[0, 10, 10])\n",
    "ambient_light = p3js.AmbientLight()\n",
    "\n",
    "axes = p3js.AxesHelper()\n",
    "\n",
    "children = [mesh_A, mesh_B, mesh_Q, axes, camera, key_light, ambient_light]\n",
    "\n",
    "scene = p3js.Scene(children=children)\n",
    "\n",
    "controller = p3js.OrbitControls(controlling=camera)\n",
    "renderer = p3js.Renderer(camera=camera, scene=scene, controls=[controller],\n",
    "                         width=view_width, height=view_height)"
   ]
  },
  {
   "cell_type": "code",
   "execution_count": 26,
   "id": "6ca4c57a",
   "metadata": {
    "execution": {
     "iopub.execute_input": "2022-07-17T09:01:32.061694Z",
     "iopub.status.busy": "2022-07-17T09:01:32.061167Z",
     "iopub.status.idle": "2022-07-17T09:01:32.076487Z",
     "shell.execute_reply": "2022-07-17T09:01:32.075918Z"
    }
   },
   "outputs": [
    {
     "name": "stderr",
     "output_type": "stream",
     "text": [
      "/home/runner/micromamba-root/envs/multibody-book/lib/python3.9/site-packages/pythreejs/traits.py:203: UserWarning: 64-bit data types not supported for WebGL data, casting to 32-bit.\n",
      "  warnings.warn('64-bit data types not supported for WebGL '\n"
     ]
    }
   ],
   "source": [
    "track_A = p3js.VectorKeyframeTrack(\n",
    "    name=\"scene/mesh_A.matrix\",\n",
    "    times=ts,\n",
    "    values=TAs\n",
    ")\n",
    "\n",
    "track_B = p3js.VectorKeyframeTrack(\n",
    "    name=\"scene/mesh_B.matrix\",\n",
    "    times=ts,\n",
    "    values=TBs\n",
    ")\n",
    "\n",
    "track_Q = p3js.VectorKeyframeTrack(\n",
    "    name=\"scene/mesh_Q.matrix\",\n",
    "    times=ts,\n",
    "    values=TQs\n",
    ")"
   ]
  },
  {
   "cell_type": "code",
   "execution_count": 27,
   "id": "22a5c64b",
   "metadata": {
    "execution": {
     "iopub.execute_input": "2022-07-17T09:01:32.079546Z",
     "iopub.status.busy": "2022-07-17T09:01:32.079070Z",
     "iopub.status.idle": "2022-07-17T09:01:32.090848Z",
     "shell.execute_reply": "2022-07-17T09:01:32.090068Z"
    }
   },
   "outputs": [],
   "source": [
    "tracks = [track_B, track_A, track_Q]\n",
    "duration = ts[-1] - ts[0]\n",
    "clip = p3js.AnimationClip(tracks=tracks, duration=duration)\n",
    "action = p3js.AnimationAction(p3js.AnimationMixer(scene), clip, scene)"
   ]
  },
  {
   "cell_type": "code",
   "execution_count": 28,
   "id": "c80855a2",
   "metadata": {
    "execution": {
     "iopub.execute_input": "2022-07-17T09:01:32.093763Z",
     "iopub.status.busy": "2022-07-17T09:01:32.093322Z",
     "iopub.status.idle": "2022-07-17T09:01:32.102812Z",
     "shell.execute_reply": "2022-07-17T09:01:32.102262Z"
    }
   },
   "outputs": [
    {
     "data": {
      "application/vnd.jupyter.widget-view+json": {
       "model_id": "1f6f1b79d1d84caab4ea6c2514fd7c45",
       "version_major": 2,
       "version_minor": 0
      },
      "text/plain": [
       "Renderer(camera=PerspectiveCamera(aspect=1.5, position=(1.5, 0.6, 1.0), projectionMatrix=(1.0, 0.0, 0.0, 0.0, …"
      ]
     },
     "metadata": {},
     "output_type": "display_data"
    }
   ],
   "source": [
    "renderer"
   ]
  },
  {
   "cell_type": "code",
   "execution_count": 29,
   "id": "2ff2d268",
   "metadata": {
    "execution": {
     "iopub.execute_input": "2022-07-17T09:01:32.106191Z",
     "iopub.status.busy": "2022-07-17T09:01:32.105072Z",
     "iopub.status.idle": "2022-07-17T09:01:32.126833Z",
     "shell.execute_reply": "2022-07-17T09:01:32.126273Z"
    }
   },
   "outputs": [
    {
     "data": {
      "application/vnd.jupyter.widget-view+json": {
       "model_id": "cbfa536fac9140898885c1fb13271127",
       "version_major": 2,
       "version_minor": 0
      },
      "text/plain": [
       "AnimationAction(clip=AnimationClip(duration=10.0, tracks=(VectorKeyframeTrack(name='scene/mesh_B.matrix', time…"
      ]
     },
     "metadata": {},
     "output_type": "display_data"
    }
   ],
   "source": [
    "action"
   ]
  }
 ],
 "metadata": {
  "kernelspec": {
   "display_name": "Python 3 (ipykernel)",
   "language": "python",
   "name": "python3"
  },
  "language_info": {
   "codemirror_mode": {
    "name": "ipython",
    "version": 3
   },
   "file_extension": ".py",
   "mimetype": "text/x-python",
   "name": "python",
   "nbconvert_exporter": "python",
   "pygments_lexer": "ipython3",
   "version": "3.9.13"
  },
  "widgets": {
   "application/vnd.jupyter.widget-state+json": {
    "state": {
     "0c383e24806a45e195ea7624ffeeeda3": {
      "model_module": "jupyter-threejs",
      "model_module_version": "^2.1.0",
      "model_name": "WebGLShadowMapModel",
      "state": {
       "_model_module": "jupyter-threejs",
       "_model_module_version": "^2.1.0",
       "_model_name": "WebGLShadowMapModel",
       "_view_count": null,
       "_view_module": null,
       "_view_module_version": "",
       "_view_name": null,
       "enabled": false,
       "type": "PCFShadowMap"
      }
     },
     "0e55006c261d4c50bf60fd1392b52725": {
      "model_module": "jupyter-threejs",
      "model_module_version": "^2.1.0",
      "model_name": "CylinderGeometryModel",
      "state": {
       "_model_module": "jupyter-threejs",
       "_model_module_version": "^2.1.0",
       "_model_name": "CylinderGeometryModel",
       "_view_count": null,
       "_view_module": null,
       "_view_module_version": "",
       "_view_name": null,
       "height": 0.6,
       "heightSegments": 1,
       "name": "",
       "openEnded": false,
       "radialSegments": 8,
       "radiusBottom": 0.03,
       "radiusTop": 0.03,
       "thetaLength": 6.283185307179586,
       "thetaStart": 0.0,
       "type": "CylinderGeometry"
      }
     },
     "163df135f1c0455f9827d9a851733f56": {
      "model_module": "jupyter-threejs",
      "model_module_version": "^2.1.0",
      "model_name": "MeshModel",
      "state": {
       "_model_module": "jupyter-threejs",
       "_model_module_version": "^2.1.0",
       "_model_name": "MeshModel",
       "_view_count": null,
       "_view_module": null,
       "_view_module_version": "",
       "_view_name": null,
       "castShadow": false,
       "children": [
        "IPY_MODEL_654ff880ba494a8589a9e361b16f3e58"
       ],
       "drawMode": "TrianglesDrawMode",
       "frustumCulled": true,
       "geometry": "IPY_MODEL_c48756f8939343f88b51e2ed0a4c066c",
       "material": "IPY_MODEL_6c0d5fff6bfa42eb88eb542b084bd846",
       "matrix": [
        0.9063077870366498,
        0.42261826174069944,
        0.0,
        0.0,
        -0.42101007166283433,
        0.9028590122851733,
        0.08715574274765817,
        0.0,
        0.03683360850073487,
        -0.07898992833716562,
        0.9961946980917454,
        0.0,
        0.5016836650557065,
        0.343856858272937,
        0.008715574274765816,
        1.0
       ],
       "matrixAutoUpdate": false,
       "matrixWorld": [
        1.0,
        0.0,
        0.0,
        0.0,
        0.0,
        1.0,
        0.0,
        0.0,
        0.0,
        0.0,
        1.0,
        0.0,
        0.0,
        0.0,
        0.0,
        1.0
       ],
       "matrixWorldNeedsUpdate": false,
       "modelViewMatrix": [
        1.0,
        0.0,
        0.0,
        0.0,
        0.0,
        1.0,
        0.0,
        0.0,
        0.0,
        0.0,
        1.0,
        0.0,
        0.0,
        0.0,
        0.0,
        1.0
       ],
       "morphTargetInfluences": [],
       "name": "mesh_Q",
       "normalMatrix": [
        1.0,
        0.0,
        0.0,
        0.0,
        1.0,
        0.0,
        0.0,
        0.0,
        1.0
       ],
       "position": [
        0.0,
        0.0,
        0.0
       ],
       "quaternion": [
        0.0,
        0.0,
        0.0,
        1.0
       ],
       "receiveShadow": false,
       "renderOrder": 0,
       "rotation": [
        0.0,
        0.0,
        0.0,
        "XYZ"
       ],
       "scale": [
        1.0,
        1.0,
        1.0
       ],
       "type": "Mesh",
       "up": [
        0.0,
        1.0,
        0.0
       ],
       "visible": true
      }
     },
     "19b984a880e741ed8fc0d20cc818c257": {
      "model_module": "jupyter-threejs",
      "model_module_version": "^2.1.0",
      "model_name": "MeshStandardMaterialModel",
      "state": {
       "_model_module": "jupyter-threejs",
       "_model_module_version": "^2.1.0",
       "_model_name": "MeshStandardMaterialModel",
       "_view_count": null,
       "_view_module": null,
       "_view_module_version": "",
       "_view_name": null,
       "alphaMap": null,
       "alphaTest": 0.0,
       "aoMap": null,
       "aoMapIntensity": 1.0,
       "blendDst": "OneMinusSrcAlphaFactor",
       "blendDstAlpha": 0.0,
       "blendEquation": "AddEquation",
       "blendEquationAlpha": 0.0,
       "blendSrc": "SrcAlphaFactor",
       "blendSrcAlpha": 0.0,
       "blending": "NormalBlending",
       "bumpMap": null,
       "bumpScale": 1.0,
       "clipIntersection": false,
       "clipShadows": false,
       "clippingPlanes": [],
       "color": "orange",
       "colorWrite": true,
       "defines": {
        "STANDARD": ""
       },
       "depthFunc": "LessEqualDepth",
       "depthTest": true,
       "depthWrite": true,
       "displacementBias": 0.0,
       "displacementMap": null,
       "displacementScale": 1.0,
       "dithering": false,
       "emissive": "#000000",
       "emissiveIntensity": 1.0,
       "emissiveMap": null,
       "envMap": null,
       "envMapIntensity": 1.0,
       "flatShading": false,
       "fog": true,
       "lightMap": null,
       "lightMapIntensity": 1.0,
       "lights": true,
       "map": null,
       "metalness": 0.5,
       "metalnessMap": null,
       "morphNormals": false,
       "morphTargets": false,
       "name": "",
       "normalMap": null,
       "normalScale": [
        1.0,
        1.0
       ],
       "opacity": 1.0,
       "overdraw": 0.0,
       "polygonOffset": false,
       "polygonOffsetFactor": 0.0,
       "polygonOffsetUnits": 0.0,
       "precision": null,
       "premultipliedAlpha": false,
       "refractionRatio": 0.98,
       "roughness": 0.5,
       "roughnessMap": null,
       "shadowSide": null,
       "side": "FrontSide",
       "skinning": false,
       "transparent": false,
       "type": "MeshStandardMaterial",
       "vertexColors": "NoColors",
       "visible": true,
       "wireframe": true,
       "wireframeLinecap": "round",
       "wireframeLinejoin": "round",
       "wireframeLinewidth": 1.0
      }
     },
     "1baf789f53cf4ef59c109185bfa0ff3c": {
      "model_module": "@jupyter-widgets/base",
      "model_module_version": "1.2.0",
      "model_name": "LayoutModel",
      "state": {
       "_model_module": "@jupyter-widgets/base",
       "_model_module_version": "1.2.0",
       "_model_name": "LayoutModel",
       "_view_count": null,
       "_view_module": "@jupyter-widgets/base",
       "_view_module_version": "1.2.0",
       "_view_name": "LayoutView",
       "align_content": null,
       "align_items": null,
       "align_self": null,
       "border": null,
       "bottom": null,
       "display": null,
       "flex": null,
       "flex_flow": null,
       "grid_area": null,
       "grid_auto_columns": null,
       "grid_auto_flow": null,
       "grid_auto_rows": null,
       "grid_column": null,
       "grid_gap": null,
       "grid_row": null,
       "grid_template_areas": null,
       "grid_template_columns": null,
       "grid_template_rows": null,
       "height": null,
       "justify_content": null,
       "justify_items": null,
       "left": null,
       "margin": null,
       "max_height": null,
       "max_width": null,
       "min_height": null,
       "min_width": null,
       "object_fit": null,
       "object_position": null,
       "order": null,
       "overflow": null,
       "overflow_x": null,
       "overflow_y": null,
       "padding": null,
       "right": null,
       "top": null,
       "visibility": null,
       "width": null
      }
     },
     "1c8abc65c32945efb7d9a567c29b3168": {
      "model_module": "jupyter-threejs",
      "model_module_version": "^2.1.0",
      "model_name": "AxesHelperModel",
      "state": {
       "_model_module": "jupyter-threejs",
       "_model_module_version": "^2.1.0",
       "_model_name": "AxesHelperModel",
       "_view_count": null,
       "_view_module": null,
       "_view_module_version": "",
       "_view_name": null,
       "castShadow": false,
       "children": [],
       "frustumCulled": true,
       "matrix": [
        1.0,
        0.0,
        0.0,
        0.0,
        0.0,
        1.0,
        0.0,
        0.0,
        0.0,
        0.0,
        1.0,
        0.0,
        0.0,
        0.0,
        0.0,
        1.0
       ],
       "matrixAutoUpdate": true,
       "matrixWorld": [
        1.0,
        0.0,
        0.0,
        0.0,
        0.0,
        1.0,
        0.0,
        0.0,
        0.0,
        0.0,
        1.0,
        0.0,
        0.0,
        0.0,
        0.0,
        1.0
       ],
       "matrixWorldNeedsUpdate": false,
       "modelViewMatrix": [
        1.0,
        0.0,
        0.0,
        0.0,
        0.0,
        1.0,
        0.0,
        0.0,
        0.0,
        0.0,
        1.0,
        0.0,
        0.0,
        0.0,
        0.0,
        1.0
       ],
       "name": "",
       "normalMatrix": [
        1.0,
        0.0,
        0.0,
        0.0,
        1.0,
        0.0,
        0.0,
        0.0,
        1.0
       ],
       "position": [
        0.0,
        0.0,
        0.0
       ],
       "quaternion": [
        0.0,
        0.0,
        0.0,
        1.0
       ],
       "receiveShadow": false,
       "renderOrder": 0,
       "rotation": [
        0.0,
        0.0,
        0.0,
        "XYZ"
       ],
       "scale": [
        1.0,
        1.0,
        1.0
       ],
       "size": 0.2,
       "type": "AxesHelper",
       "up": [
        0.0,
        1.0,
        0.0
       ],
       "visible": true
      }
     },
     "1f6f1b79d1d84caab4ea6c2514fd7c45": {
      "model_module": "jupyter-threejs",
      "model_module_version": "^2.1.0",
      "model_name": "RendererModel",
      "state": {
       "_alpha": false,
       "_antialias": false,
       "_dom_classes": [],
       "_height": 400,
       "_model_module": "jupyter-threejs",
       "_model_module_version": "^2.1.0",
       "_model_name": "RendererModel",
       "_pause_autorender": false,
       "_view_count": null,
       "_view_module": "jupyter-threejs",
       "_view_module_version": "^2.1.0",
       "_view_name": "RendererView",
       "_webgl_version": 2,
       "_width": 600,
       "autoClear": true,
       "autoClearColor": true,
       "autoClearDepth": true,
       "autoClearStencil": true,
       "background": "black",
       "background_opacity": 1.0,
       "camera": "IPY_MODEL_f9a785bb4a2e432dac1924afb5785472",
       "clearColor": "#000000",
       "clearOpacity": 1.0,
       "clippingPlanes": [],
       "controls": [
        "IPY_MODEL_f30b2f694f964f94a16fad414bc50088"
       ],
       "gammaFactor": 2.0,
       "gammaInput": false,
       "gammaOutput": false,
       "layout": "IPY_MODEL_1baf789f53cf4ef59c109185bfa0ff3c",
       "localClippingEnabled": false,
       "maxMorphNormals": 4,
       "maxMorphTargets": 8,
       "physicallyCorrectLights": false,
       "scene": "IPY_MODEL_75473421519c49759f366e80a83c4b33",
       "shadowMap": "IPY_MODEL_4464c60ab99e41d3b42ff6e51eb777bd",
       "sortObject": true,
       "toneMapping": "LinearToneMapping",
       "toneMappingExposure": 1.0,
       "toneMappingWhitePoint": 1.0
      }
     },
     "21707617c66e418892a21003e28a3009": {
      "model_module": "jupyter-threejs",
      "model_module_version": "^2.1.0",
      "model_name": "AxesHelperModel",
      "state": {
       "_model_module": "jupyter-threejs",
       "_model_module_version": "^2.1.0",
       "_model_name": "AxesHelperModel",
       "_view_count": null,
       "_view_module": null,
       "_view_module_version": "",
       "_view_name": null,
       "castShadow": false,
       "children": [],
       "frustumCulled": true,
       "matrix": [
        1.0,
        0.0,
        0.0,
        0.0,
        0.0,
        1.0,
        0.0,
        0.0,
        0.0,
        0.0,
        1.0,
        0.0,
        0.0,
        0.0,
        0.0,
        1.0
       ],
       "matrixAutoUpdate": true,
       "matrixWorld": [
        1.0,
        0.0,
        0.0,
        0.0,
        0.0,
        1.0,
        0.0,
        0.0,
        0.0,
        0.0,
        1.0,
        0.0,
        0.0,
        0.0,
        0.0,
        1.0
       ],
       "matrixWorldNeedsUpdate": false,
       "modelViewMatrix": [
        1.0,
        0.0,
        0.0,
        0.0,
        0.0,
        1.0,
        0.0,
        0.0,
        0.0,
        0.0,
        1.0,
        0.0,
        0.0,
        0.0,
        0.0,
        1.0
       ],
       "name": "",
       "normalMatrix": [
        1.0,
        0.0,
        0.0,
        0.0,
        1.0,
        0.0,
        0.0,
        0.0,
        1.0
       ],
       "position": [
        0.0,
        0.0,
        0.0
       ],
       "quaternion": [
        0.0,
        0.0,
        0.0,
        1.0
       ],
       "receiveShadow": false,
       "renderOrder": 0,
       "rotation": [
        0.0,
        0.0,
        0.0,
        "XYZ"
       ],
       "scale": [
        1.0,
        1.0,
        1.0
       ],
       "size": 1.0,
       "type": "AxesHelper",
       "up": [
        0.0,
        1.0,
        0.0
       ],
       "visible": true
      }
     },
     "21d47ca4f1544955a2fe120341e33a85": {
      "model_module": "jupyter-threejs",
      "model_module_version": "^2.1.0",
      "model_name": "MeshModel",
      "state": {
       "_model_module": "jupyter-threejs",
       "_model_module_version": "^2.1.0",
       "_model_name": "MeshModel",
       "_view_count": null,
       "_view_module": null,
       "_view_module_version": "",
       "_view_name": null,
       "castShadow": false,
       "children": [
        "IPY_MODEL_1c8abc65c32945efb7d9a567c29b3168"
       ],
       "drawMode": "TrianglesDrawMode",
       "frustumCulled": true,
       "geometry": "IPY_MODEL_0e55006c261d4c50bf60fd1392b52725",
       "material": "IPY_MODEL_e038241ce5cd4f97920c1ee3b2be696d",
       "matrix": [
        -0.42261826174069944,
        0.9063077870366498,
        0.0,
        0.0,
        -0.9063077870366498,
        -0.42261826174069944,
        0.0,
        0.0,
        0.0,
        0.0,
        1.0,
        0.0,
        0.27189233611099495,
        0.12678547852220984,
        0.0,
        1.0
       ],
       "matrixAutoUpdate": false,
       "matrixWorld": [
        1.0,
        0.0,
        0.0,
        0.0,
        0.0,
        1.0,
        0.0,
        0.0,
        0.0,
        0.0,
        1.0,
        0.0,
        0.0,
        0.0,
        0.0,
        1.0
       ],
       "matrixWorldNeedsUpdate": false,
       "modelViewMatrix": [
        1.0,
        0.0,
        0.0,
        0.0,
        0.0,
        1.0,
        0.0,
        0.0,
        0.0,
        0.0,
        1.0,
        0.0,
        0.0,
        0.0,
        0.0,
        1.0
       ],
       "morphTargetInfluences": [],
       "name": "mesh_A",
       "normalMatrix": [
        1.0,
        0.0,
        0.0,
        0.0,
        1.0,
        0.0,
        0.0,
        0.0,
        1.0
       ],
       "position": [
        0.0,
        0.0,
        0.0
       ],
       "quaternion": [
        0.0,
        0.0,
        0.0,
        1.0
       ],
       "receiveShadow": false,
       "renderOrder": 0,
       "rotation": [
        0.0,
        0.0,
        0.0,
        "XYZ"
       ],
       "scale": [
        1.0,
        1.0,
        1.0
       ],
       "type": "Mesh",
       "up": [
        0.0,
        1.0,
        0.0
       ],
       "visible": true
      }
     },
     "2aa309bd09a04a179cbc04718b8698bf": {
      "model_module": "jupyter-threejs",
      "model_module_version": "^2.1.0",
      "model_name": "WebGLShadowMapModel",
      "state": {
       "_model_module": "jupyter-threejs",
       "_model_module_version": "^2.1.0",
       "_model_name": "WebGLShadowMapModel",
       "_view_count": null,
       "_view_module": null,
       "_view_module_version": "",
       "_view_name": null,
       "enabled": false,
       "type": "PCFShadowMap"
      }
     },
     "2c749867065b400e9ddb2a17f148f641": {
      "model_module": "@jupyter-widgets/base",
      "model_module_version": "1.2.0",
      "model_name": "LayoutModel",
      "state": {
       "_model_module": "@jupyter-widgets/base",
       "_model_module_version": "1.2.0",
       "_model_name": "LayoutModel",
       "_view_count": null,
       "_view_module": "@jupyter-widgets/base",
       "_view_module_version": "1.2.0",
       "_view_name": "LayoutView",
       "align_content": null,
       "align_items": null,
       "align_self": null,
       "border": null,
       "bottom": null,
       "display": null,
       "flex": null,
       "flex_flow": null,
       "grid_area": null,
       "grid_auto_columns": null,
       "grid_auto_flow": null,
       "grid_auto_rows": null,
       "grid_column": null,
       "grid_gap": null,
       "grid_row": null,
       "grid_template_areas": null,
       "grid_template_columns": null,
       "grid_template_rows": null,
       "height": null,
       "justify_content": null,
       "justify_items": null,
       "left": null,
       "margin": null,
       "max_height": null,
       "max_width": null,
       "min_height": null,
       "min_width": null,
       "object_fit": null,
       "object_position": null,
       "order": null,
       "overflow": null,
       "overflow_x": null,
       "overflow_y": null,
       "padding": null,
       "right": null,
       "top": null,
       "visibility": null,
       "width": null
      }
     },
     "2edb4156ef5349a3800f208b39adf62b": {
      "model_module": "jupyter-threejs",
      "model_module_version": "^2.1.0",
      "model_name": "MeshStandardMaterialModel",
      "state": {
       "_model_module": "jupyter-threejs",
       "_model_module_version": "^2.1.0",
       "_model_name": "MeshStandardMaterialModel",
       "_view_count": null,
       "_view_module": null,
       "_view_module_version": "",
       "_view_name": null,
       "alphaMap": null,
       "alphaTest": 0.0,
       "aoMap": null,
       "aoMapIntensity": 1.0,
       "blendDst": "OneMinusSrcAlphaFactor",
       "blendDstAlpha": 0.0,
       "blendEquation": "AddEquation",
       "blendEquationAlpha": 0.0,
       "blendSrc": "SrcAlphaFactor",
       "blendSrcAlpha": 0.0,
       "blending": "NormalBlending",
       "bumpMap": null,
       "bumpScale": 1.0,
       "clipIntersection": false,
       "clipShadows": false,
       "clippingPlanes": [],
       "color": "blue",
       "colorWrite": true,
       "defines": {
        "STANDARD": ""
       },
       "depthFunc": "LessEqualDepth",
       "depthTest": true,
       "depthWrite": true,
       "displacementBias": 0.0,
       "displacementMap": null,
       "displacementScale": 1.0,
       "dithering": false,
       "emissive": "#000000",
       "emissiveIntensity": 1.0,
       "emissiveMap": null,
       "envMap": null,
       "envMapIntensity": 1.0,
       "flatShading": false,
       "fog": true,
       "lightMap": null,
       "lightMapIntensity": 1.0,
       "lights": true,
       "map": null,
       "metalness": 0.5,
       "metalnessMap": null,
       "morphNormals": false,
       "morphTargets": false,
       "name": "",
       "normalMap": null,
       "normalScale": [
        1.0,
        1.0
       ],
       "opacity": 1.0,
       "overdraw": 0.0,
       "polygonOffset": false,
       "polygonOffsetFactor": 0.0,
       "polygonOffsetUnits": 0.0,
       "precision": null,
       "premultipliedAlpha": false,
       "refractionRatio": 0.98,
       "roughness": 0.5,
       "roughnessMap": null,
       "shadowSide": null,
       "side": "FrontSide",
       "skinning": false,
       "transparent": false,
       "type": "MeshStandardMaterial",
       "vertexColors": "NoColors",
       "visible": true,
       "wireframe": false,
       "wireframeLinecap": "round",
       "wireframeLinejoin": "round",
       "wireframeLinewidth": 1.0
      }
     },
     "34eeb8a1526b48fcb520a27df0677c2c": {
      "model_module": "jupyter-threejs",
      "model_module_version": "^2.1.0",
      "model_name": "PerspectiveCameraModel",
      "state": {
       "_model_module": "jupyter-threejs",
       "_model_module_version": "^2.1.0",
       "_model_name": "PerspectiveCameraModel",
       "_view_count": null,
       "_view_module": null,
       "_view_module_version": "",
       "_view_name": null,
       "aspect": 1.5,
       "castShadow": false,
       "children": [],
       "far": 2000.0,
       "focus": 10.0,
       "fov": 50.0,
       "frustumCulled": true,
       "matrix": [
        1.0,
        0.0,
        0.0,
        0.0,
        0.0,
        1.0,
        0.0,
        0.0,
        0.0,
        0.0,
        1.0,
        0.0,
        0.0,
        0.0,
        0.0,
        1.0
       ],
       "matrixAutoUpdate": true,
       "matrixWorld": [
        1.0,
        0.0,
        0.0,
        0.0,
        0.0,
        1.0,
        0.0,
        0.0,
        0.0,
        0.0,
        1.0,
        0.0,
        0.0,
        0.0,
        0.0,
        1.0
       ],
       "matrixWorldInverse": [
        1.0,
        0.0,
        0.0,
        0.0,
        0.0,
        1.0,
        0.0,
        0.0,
        0.0,
        0.0,
        1.0,
        0.0,
        0.0,
        0.0,
        0.0,
        1.0
       ],
       "matrixWorldNeedsUpdate": false,
       "modelViewMatrix": [
        1.0,
        0.0,
        0.0,
        0.0,
        0.0,
        1.0,
        0.0,
        0.0,
        0.0,
        0.0,
        1.0,
        0.0,
        0.0,
        0.0,
        0.0,
        1.0
       ],
       "name": "",
       "near": 0.1,
       "normalMatrix": [
        1.0,
        0.0,
        0.0,
        0.0,
        1.0,
        0.0,
        0.0,
        0.0,
        1.0
       ],
       "position": [
        10.0,
        10.0,
        10.0
       ],
       "projectionMatrix": [
        1.0,
        0.0,
        0.0,
        0.0,
        0.0,
        1.0,
        0.0,
        0.0,
        0.0,
        0.0,
        1.0,
        0.0,
        0.0,
        0.0,
        0.0,
        1.0
       ],
       "quaternion": [
        0.0,
        0.0,
        0.0,
        1.0
       ],
       "receiveShadow": false,
       "renderOrder": 0,
       "rotation": [
        0.0,
        0.0,
        0.0,
        "XYZ"
       ],
       "scale": [
        1.0,
        1.0,
        1.0
       ],
       "type": "PerspectiveCamera",
       "up": [
        0.0,
        1.0,
        0.0
       ],
       "visible": true,
       "zoom": 1.0
      }
     },
     "35b4dfacd1cf40ee9b8384554e48185a": {
      "model_module": "jupyter-threejs",
      "model_module_version": "^2.1.0",
      "model_name": "AxesHelperModel",
      "state": {
       "_model_module": "jupyter-threejs",
       "_model_module_version": "^2.1.0",
       "_model_name": "AxesHelperModel",
       "_view_count": null,
       "_view_module": null,
       "_view_module_version": "",
       "_view_name": null,
       "castShadow": false,
       "children": [],
       "frustumCulled": true,
       "matrix": [
        1.0,
        0.0,
        0.0,
        0.0,
        0.0,
        1.0,
        0.0,
        0.0,
        0.0,
        0.0,
        1.0,
        0.0,
        0.0,
        0.0,
        0.0,
        1.0
       ],
       "matrixAutoUpdate": true,
       "matrixWorld": [
        1.0,
        0.0,
        0.0,
        0.0,
        0.0,
        1.0,
        0.0,
        0.0,
        0.0,
        0.0,
        1.0,
        0.0,
        0.0,
        0.0,
        0.0,
        1.0
       ],
       "matrixWorldNeedsUpdate": false,
       "modelViewMatrix": [
        1.0,
        0.0,
        0.0,
        0.0,
        0.0,
        1.0,
        0.0,
        0.0,
        0.0,
        0.0,
        1.0,
        0.0,
        0.0,
        0.0,
        0.0,
        1.0
       ],
       "name": "",
       "normalMatrix": [
        1.0,
        0.0,
        0.0,
        0.0,
        1.0,
        0.0,
        0.0,
        0.0,
        1.0
       ],
       "position": [
        0.0,
        0.0,
        0.0
       ],
       "quaternion": [
        0.0,
        0.0,
        0.0,
        1.0
       ],
       "receiveShadow": false,
       "renderOrder": 0,
       "rotation": [
        0.0,
        0.0,
        0.0,
        "XYZ"
       ],
       "scale": [
        1.0,
        1.0,
        1.0
       ],
       "size": 0.2,
       "type": "AxesHelper",
       "up": [
        0.0,
        1.0,
        0.0
       ],
       "visible": true
      }
     },
     "3a2384b7ec9646aaa1647cea53902c9b": {
      "model_module": "jupyter-threejs",
      "model_module_version": "^2.1.0",
      "model_name": "RendererModel",
      "state": {
       "_alpha": false,
       "_antialias": false,
       "_dom_classes": [],
       "_height": 400,
       "_model_module": "jupyter-threejs",
       "_model_module_version": "^2.1.0",
       "_model_name": "RendererModel",
       "_pause_autorender": false,
       "_view_count": null,
       "_view_module": "jupyter-threejs",
       "_view_module_version": "^2.1.0",
       "_view_name": "RendererView",
       "_webgl_version": 2,
       "_width": 600,
       "autoClear": true,
       "autoClearColor": true,
       "autoClearDepth": true,
       "autoClearStencil": true,
       "background": "black",
       "background_opacity": 1.0,
       "camera": "IPY_MODEL_34eeb8a1526b48fcb520a27df0677c2c",
       "clearColor": "#000000",
       "clearOpacity": 1.0,
       "clippingPlanes": [],
       "controls": [
        "IPY_MODEL_dd6ca426fe0a4e6ebee7e8ef90304fe9"
       ],
       "gammaFactor": 2.0,
       "gammaInput": false,
       "gammaOutput": false,
       "layout": "IPY_MODEL_f2b65b402d404ea0a0d0e32bb3b7cd50",
       "localClippingEnabled": false,
       "maxMorphNormals": 4,
       "maxMorphTargets": 8,
       "physicallyCorrectLights": false,
       "scene": "IPY_MODEL_6e174e93f8f84b689cc3ee7d82cfe1af",
       "shadowMap": "IPY_MODEL_0c383e24806a45e195ea7624ffeeeda3",
       "sortObject": true,
       "toneMapping": "LinearToneMapping",
       "toneMappingExposure": 1.0,
       "toneMappingWhitePoint": 1.0
      }
     },
     "3b293f9e4c1244a78024a72160158eeb": {
      "buffers": [
       {
        "data": "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",
        "encoding": "base64",
        "path": [
         "times",
         "buffer"
        ]
       },
       {
        "data": "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",
        "encoding": "base64",
        "path": [
         "values",
         "buffer"
        ]
       }
      ],
      "model_module": "jupyter-threejs",
      "model_module_version": "^2.1.0",
      "model_name": "VectorKeyframeTrackModel",
      "state": {
       "_model_module": "jupyter-threejs",
       "_model_module_version": "^2.1.0",
       "_model_name": "VectorKeyframeTrackModel",
       "_view_count": null,
       "_view_module": null,
       "_view_module_version": "",
       "_view_name": null,
       "interpolation": "InterpolateLinear",
       "name": "scene/mesh_B.matrix",
       "times": {
        "dtype": "float32",
        "shape": [
         500
        ]
       },
       "values": {
        "dtype": "float32",
        "shape": [
         500,
         16
        ]
       }
      }
     },
     "41c7c475df6c45d09e0521f479436c59": {
      "model_module": "jupyter-threejs",
      "model_module_version": "^2.1.0",
      "model_name": "AxesHelperModel",
      "state": {
       "_model_module": "jupyter-threejs",
       "_model_module_version": "^2.1.0",
       "_model_name": "AxesHelperModel",
       "_view_count": null,
       "_view_module": null,
       "_view_module_version": "",
       "_view_name": null,
       "castShadow": false,
       "children": [],
       "frustumCulled": true,
       "matrix": [
        1.0,
        0.0,
        0.0,
        0.0,
        0.0,
        1.0,
        0.0,
        0.0,
        0.0,
        0.0,
        1.0,
        0.0,
        0.0,
        0.0,
        0.0,
        1.0
       ],
       "matrixAutoUpdate": true,
       "matrixWorld": [
        1.0,
        0.0,
        0.0,
        0.0,
        0.0,
        1.0,
        0.0,
        0.0,
        0.0,
        0.0,
        1.0,
        0.0,
        0.0,
        0.0,
        0.0,
        1.0
       ],
       "matrixWorldNeedsUpdate": false,
       "modelViewMatrix": [
        1.0,
        0.0,
        0.0,
        0.0,
        0.0,
        1.0,
        0.0,
        0.0,
        0.0,
        0.0,
        1.0,
        0.0,
        0.0,
        0.0,
        0.0,
        1.0
       ],
       "name": "",
       "normalMatrix": [
        1.0,
        0.0,
        0.0,
        0.0,
        1.0,
        0.0,
        0.0,
        0.0,
        1.0
       ],
       "position": [
        0.0,
        0.0,
        0.0
       ],
       "quaternion": [
        0.0,
        0.0,
        0.0,
        1.0
       ],
       "receiveShadow": false,
       "renderOrder": 0,
       "rotation": [
        0.0,
        0.0,
        0.0,
        "XYZ"
       ],
       "scale": [
        1.0,
        1.0,
        1.0
       ],
       "size": 1.0,
       "type": "AxesHelper",
       "up": [
        0.0,
        1.0,
        0.0
       ],
       "visible": true
      }
     },
     "422aba476d14413ca99b700a343dec00": {
      "model_module": "jupyter-threejs",
      "model_module_version": "^2.1.0",
      "model_name": "AxesHelperModel",
      "state": {
       "_model_module": "jupyter-threejs",
       "_model_module_version": "^2.1.0",
       "_model_name": "AxesHelperModel",
       "_view_count": null,
       "_view_module": null,
       "_view_module_version": "",
       "_view_name": null,
       "castShadow": false,
       "children": [],
       "frustumCulled": true,
       "matrix": [
        1.0,
        0.0,
        0.0,
        0.0,
        0.0,
        1.0,
        0.0,
        0.0,
        0.0,
        0.0,
        1.0,
        0.0,
        0.0,
        0.0,
        0.0,
        1.0
       ],
       "matrixAutoUpdate": true,
       "matrixWorld": [
        1.0,
        0.0,
        0.0,
        0.0,
        0.0,
        1.0,
        0.0,
        0.0,
        0.0,
        0.0,
        1.0,
        0.0,
        0.0,
        0.0,
        0.0,
        1.0
       ],
       "matrixWorldNeedsUpdate": false,
       "modelViewMatrix": [
        1.0,
        0.0,
        0.0,
        0.0,
        0.0,
        1.0,
        0.0,
        0.0,
        0.0,
        0.0,
        1.0,
        0.0,
        0.0,
        0.0,
        0.0,
        1.0
       ],
       "name": "",
       "normalMatrix": [
        1.0,
        0.0,
        0.0,
        0.0,
        1.0,
        0.0,
        0.0,
        0.0,
        1.0
       ],
       "position": [
        0.0,
        0.0,
        0.0
       ],
       "quaternion": [
        0.0,
        0.0,
        0.0,
        1.0
       ],
       "receiveShadow": false,
       "renderOrder": 0,
       "rotation": [
        0.0,
        0.0,
        0.0,
        "XYZ"
       ],
       "scale": [
        1.0,
        1.0,
        1.0
       ],
       "size": 1.0,
       "type": "AxesHelper",
       "up": [
        0.0,
        1.0,
        0.0
       ],
       "visible": true
      }
     },
     "4464c60ab99e41d3b42ff6e51eb777bd": {
      "model_module": "jupyter-threejs",
      "model_module_version": "^2.1.0",
      "model_name": "WebGLShadowMapModel",
      "state": {
       "_model_module": "jupyter-threejs",
       "_model_module_version": "^2.1.0",
       "_model_name": "WebGLShadowMapModel",
       "_view_count": null,
       "_view_module": null,
       "_view_module_version": "",
       "_view_name": null,
       "enabled": false,
       "type": "PCFShadowMap"
      }
     },
     "5a2bdee4db8643aea757809ed066d362": {
      "model_module": "jupyter-threejs",
      "model_module_version": "^2.1.0",
      "model_name": "MeshModel",
      "state": {
       "_model_module": "jupyter-threejs",
       "_model_module_version": "^2.1.0",
       "_model_name": "MeshModel",
       "_view_count": null,
       "_view_module": null,
       "_view_module_version": "",
       "_view_name": null,
       "castShadow": false,
       "children": [],
       "drawMode": "TrianglesDrawMode",
       "frustumCulled": true,
       "geometry": "IPY_MODEL_85298e9dbf4f4ebe81817fa1642a575f",
       "material": "IPY_MODEL_8d0989afc3f24399b45df56f34ff2f5d",
       "matrix": [
        1.0,
        0.0,
        0.0,
        0.0,
        0.0,
        1.0,
        0.0,
        0.0,
        0.0,
        0.0,
        1.0,
        0.0,
        0.0,
        0.0,
        0.0,
        1.0
       ],
       "matrixAutoUpdate": true,
       "matrixWorld": [
        1.0,
        0.0,
        0.0,
        0.0,
        0.0,
        1.0,
        0.0,
        0.0,
        0.0,
        0.0,
        1.0,
        0.0,
        0.0,
        0.0,
        0.0,
        1.0
       ],
       "matrixWorldNeedsUpdate": false,
       "modelViewMatrix": [
        1.0,
        0.0,
        0.0,
        0.0,
        0.0,
        1.0,
        0.0,
        0.0,
        0.0,
        0.0,
        1.0,
        0.0,
        0.0,
        0.0,
        0.0,
        1.0
       ],
       "morphTargetInfluences": [],
       "name": "",
       "normalMatrix": [
        1.0,
        0.0,
        0.0,
        0.0,
        1.0,
        0.0,
        0.0,
        0.0,
        1.0
       ],
       "position": [
        0.0,
        0.0,
        0.0
       ],
       "quaternion": [
        0.0,
        0.0,
        0.0,
        1.0
       ],
       "receiveShadow": false,
       "renderOrder": 0,
       "rotation": [
        0.0,
        0.0,
        0.0,
        "XYZ"
       ],
       "scale": [
        1.0,
        1.0,
        1.0
       ],
       "type": "Mesh",
       "up": [
        0.0,
        1.0,
        0.0
       ],
       "visible": true
      }
     },
     "6258b81f1c134157aae6f1bdce5b64a2": {
      "model_module": "jupyter-threejs",
      "model_module_version": "^2.1.0",
      "model_name": "WebGLShadowMapModel",
      "state": {
       "_model_module": "jupyter-threejs",
       "_model_module_version": "^2.1.0",
       "_model_name": "WebGLShadowMapModel",
       "_view_count": null,
       "_view_module": null,
       "_view_module_version": "",
       "_view_name": null,
       "enabled": false,
       "type": "PCFShadowMap"
      }
     },
     "654ff880ba494a8589a9e361b16f3e58": {
      "model_module": "jupyter-threejs",
      "model_module_version": "^2.1.0",
      "model_name": "AxesHelperModel",
      "state": {
       "_model_module": "jupyter-threejs",
       "_model_module_version": "^2.1.0",
       "_model_name": "AxesHelperModel",
       "_view_count": null,
       "_view_module": null,
       "_view_module_version": "",
       "_view_name": null,
       "castShadow": false,
       "children": [],
       "frustumCulled": true,
       "matrix": [
        1.0,
        0.0,
        0.0,
        0.0,
        0.0,
        1.0,
        0.0,
        0.0,
        0.0,
        0.0,
        1.0,
        0.0,
        0.0,
        0.0,
        0.0,
        1.0
       ],
       "matrixAutoUpdate": true,
       "matrixWorld": [
        1.0,
        0.0,
        0.0,
        0.0,
        0.0,
        1.0,
        0.0,
        0.0,
        0.0,
        0.0,
        1.0,
        0.0,
        0.0,
        0.0,
        0.0,
        1.0
       ],
       "matrixWorldNeedsUpdate": false,
       "modelViewMatrix": [
        1.0,
        0.0,
        0.0,
        0.0,
        0.0,
        1.0,
        0.0,
        0.0,
        0.0,
        0.0,
        1.0,
        0.0,
        0.0,
        0.0,
        0.0,
        1.0
       ],
       "name": "",
       "normalMatrix": [
        1.0,
        0.0,
        0.0,
        0.0,
        1.0,
        0.0,
        0.0,
        0.0,
        1.0
       ],
       "position": [
        0.0,
        0.0,
        0.0
       ],
       "quaternion": [
        0.0,
        0.0,
        0.0,
        1.0
       ],
       "receiveShadow": false,
       "renderOrder": 0,
       "rotation": [
        0.0,
        0.0,
        0.0,
        "XYZ"
       ],
       "scale": [
        1.0,
        1.0,
        1.0
       ],
       "size": 0.2,
       "type": "AxesHelper",
       "up": [
        0.0,
        1.0,
        0.0
       ],
       "visible": true
      }
     },
     "69be1b68377b4005a3cf939f0eaf689d": {
      "model_module": "jupyter-threejs",
      "model_module_version": "^2.1.0",
      "model_name": "MeshModel",
      "state": {
       "_model_module": "jupyter-threejs",
       "_model_module_version": "^2.1.0",
       "_model_name": "MeshModel",
       "_view_count": null,
       "_view_module": null,
       "_view_module_version": "",
       "_view_name": null,
       "castShadow": false,
       "children": [
        "IPY_MODEL_422aba476d14413ca99b700a343dec00"
       ],
       "drawMode": "TrianglesDrawMode",
       "frustumCulled": true,
       "geometry": "IPY_MODEL_a77ea3424cc6499ea6d4d703bc292015",
       "material": "IPY_MODEL_19b984a880e741ed8fc0d20cc818c257",
       "matrix": [
        1.0,
        0.0,
        0.0,
        0.0,
        0.0,
        1.0,
        0.0,
        0.0,
        0.0,
        0.0,
        1.0,
        0.0,
        0.0,
        0.0,
        0.0,
        1.0
       ],
       "matrixAutoUpdate": true,
       "matrixWorld": [
        1.0,
        0.0,
        0.0,
        0.0,
        0.0,
        1.0,
        0.0,
        0.0,
        0.0,
        0.0,
        1.0,
        0.0,
        0.0,
        0.0,
        0.0,
        1.0
       ],
       "matrixWorldNeedsUpdate": false,
       "modelViewMatrix": [
        1.0,
        0.0,
        0.0,
        0.0,
        0.0,
        1.0,
        0.0,
        0.0,
        0.0,
        0.0,
        1.0,
        0.0,
        0.0,
        0.0,
        0.0,
        1.0
       ],
       "morphTargetInfluences": [],
       "name": "",
       "normalMatrix": [
        1.0,
        0.0,
        0.0,
        0.0,
        1.0,
        0.0,
        0.0,
        0.0,
        1.0
       ],
       "position": [
        3.0,
        3.0,
        3.0
       ],
       "quaternion": [
        0.0,
        0.0,
        0.0,
        1.0
       ],
       "receiveShadow": false,
       "renderOrder": 0,
       "rotation": [
        0.0,
        0.0,
        0.0,
        "XYZ"
       ],
       "scale": [
        1.0,
        1.0,
        1.0
       ],
       "type": "Mesh",
       "up": [
        0.0,
        1.0,
        0.0
       ],
       "visible": true
      }
     },
     "6c0d5fff6bfa42eb88eb542b084bd846": {
      "model_module": "jupyter-threejs",
      "model_module_version": "^2.1.0",
      "model_name": "MeshStandardMaterialModel",
      "state": {
       "_model_module": "jupyter-threejs",
       "_model_module_version": "^2.1.0",
       "_model_name": "MeshStandardMaterialModel",
       "_view_count": null,
       "_view_module": null,
       "_view_module_version": "",
       "_view_name": null,
       "alphaMap": null,
       "alphaTest": 0.0,
       "aoMap": null,
       "aoMapIntensity": 1.0,
       "blendDst": "OneMinusSrcAlphaFactor",
       "blendDstAlpha": 0.0,
       "blendEquation": "AddEquation",
       "blendEquationAlpha": 0.0,
       "blendSrc": "SrcAlphaFactor",
       "blendSrcAlpha": 0.0,
       "blending": "NormalBlending",
       "bumpMap": null,
       "bumpScale": 1.0,
       "clipIntersection": false,
       "clipShadows": false,
       "clippingPlanes": [],
       "color": "green",
       "colorWrite": true,
       "defines": {
        "STANDARD": ""
       },
       "depthFunc": "LessEqualDepth",
       "depthTest": true,
       "depthWrite": true,
       "displacementBias": 0.0,
       "displacementMap": null,
       "displacementScale": 1.0,
       "dithering": false,
       "emissive": "#000000",
       "emissiveIntensity": 1.0,
       "emissiveMap": null,
       "envMap": null,
       "envMapIntensity": 1.0,
       "flatShading": false,
       "fog": true,
       "lightMap": null,
       "lightMapIntensity": 1.0,
       "lights": true,
       "map": null,
       "metalness": 0.5,
       "metalnessMap": null,
       "morphNormals": false,
       "morphTargets": false,
       "name": "",
       "normalMap": null,
       "normalScale": [
        1.0,
        1.0
       ],
       "opacity": 1.0,
       "overdraw": 0.0,
       "polygonOffset": false,
       "polygonOffsetFactor": 0.0,
       "polygonOffsetUnits": 0.0,
       "precision": null,
       "premultipliedAlpha": false,
       "refractionRatio": 0.98,
       "roughness": 0.5,
       "roughnessMap": null,
       "shadowSide": null,
       "side": "FrontSide",
       "skinning": false,
       "transparent": false,
       "type": "MeshStandardMaterial",
       "vertexColors": "NoColors",
       "visible": true,
       "wireframe": false,
       "wireframeLinecap": "round",
       "wireframeLinejoin": "round",
       "wireframeLinewidth": 1.0
      }
     },
     "6e174e93f8f84b689cc3ee7d82cfe1af": {
      "model_module": "jupyter-threejs",
      "model_module_version": "^2.1.0",
      "model_name": "SceneModel",
      "state": {
       "_model_module": "jupyter-threejs",
       "_model_module_version": "^2.1.0",
       "_model_name": "SceneModel",
       "_view_count": null,
       "_view_module": null,
       "_view_module_version": "",
       "_view_name": null,
       "autoUpdate": true,
       "background": "#ffffff",
       "castShadow": false,
       "children": [
        "IPY_MODEL_69be1b68377b4005a3cf939f0eaf689d",
        "IPY_MODEL_21707617c66e418892a21003e28a3009",
        "IPY_MODEL_34eeb8a1526b48fcb520a27df0677c2c",
        "IPY_MODEL_7d79186d7dd74443bc424167b5d09add",
        "IPY_MODEL_b238f7276fe648cea21747448a262e18"
       ],
       "fog": null,
       "frustumCulled": true,
       "matrix": [
        1.0,
        0.0,
        0.0,
        0.0,
        0.0,
        1.0,
        0.0,
        0.0,
        0.0,
        0.0,
        1.0,
        0.0,
        0.0,
        0.0,
        0.0,
        1.0
       ],
       "matrixAutoUpdate": true,
       "matrixWorld": [
        1.0,
        0.0,
        0.0,
        0.0,
        0.0,
        1.0,
        0.0,
        0.0,
        0.0,
        0.0,
        1.0,
        0.0,
        0.0,
        0.0,
        0.0,
        1.0
       ],
       "matrixWorldNeedsUpdate": false,
       "modelViewMatrix": [
        1.0,
        0.0,
        0.0,
        0.0,
        0.0,
        1.0,
        0.0,
        0.0,
        0.0,
        0.0,
        1.0,
        0.0,
        0.0,
        0.0,
        0.0,
        1.0
       ],
       "name": "",
       "normalMatrix": [
        1.0,
        0.0,
        0.0,
        0.0,
        1.0,
        0.0,
        0.0,
        0.0,
        1.0
       ],
       "overrideMaterial": null,
       "position": [
        0.0,
        0.0,
        0.0
       ],
       "quaternion": [
        0.0,
        0.0,
        0.0,
        1.0
       ],
       "receiveShadow": false,
       "renderOrder": 0,
       "rotation": [
        0.0,
        0.0,
        0.0,
        "XYZ"
       ],
       "scale": [
        1.0,
        1.0,
        1.0
       ],
       "type": "Scene",
       "up": [
        0.0,
        1.0,
        0.0
       ],
       "visible": true
      }
     },
     "703052ddaed3468284777f041740802a": {
      "model_module": "jupyter-threejs",
      "model_module_version": "^2.1.0",
      "model_name": "AnimationClipModel",
      "state": {
       "_model_module": "jupyter-threejs",
       "_model_module_version": "^2.1.0",
       "_model_name": "AnimationClipModel",
       "_view_count": null,
       "_view_module": null,
       "_view_module_version": "",
       "_view_name": null,
       "duration": 10.0,
       "name": null,
       "tracks": [
        "IPY_MODEL_3b293f9e4c1244a78024a72160158eeb",
        "IPY_MODEL_b45323c18e524a5fb03abad788cad848",
        "IPY_MODEL_d006b7f857964d33b710768d34de7753"
       ]
      }
     },
     "73c8ebe98a7e44bca220e5ee3e447863": {
      "model_module": "jupyter-threejs",
      "model_module_version": "^2.1.0",
      "model_name": "PreviewModel",
      "state": {
       "_alpha": false,
       "_antialias": false,
       "_dom_classes": [],
       "_flat": false,
       "_height": 200,
       "_model_module": "jupyter-threejs",
       "_model_module_version": "^2.1.0",
       "_model_name": "PreviewModel",
       "_view_count": null,
       "_view_module": "jupyter-threejs",
       "_view_module_version": "^2.1.0",
       "_view_name": "PreviewView",
       "_webgl_version": 2,
       "_width": 200,
       "_wire": false,
       "autoClear": true,
       "autoClearColor": true,
       "autoClearDepth": true,
       "autoClearStencil": true,
       "child": "IPY_MODEL_5a2bdee4db8643aea757809ed066d362",
       "clearColor": "#000000",
       "clearOpacity": 1.0,
       "clippingPlanes": [],
       "gammaFactor": 2.0,
       "gammaInput": false,
       "gammaOutput": false,
       "layout": "IPY_MODEL_a9bd46e2a868410db12bcf3d9b965f22",
       "localClippingEnabled": false,
       "maxMorphNormals": 4,
       "maxMorphTargets": 8,
       "physicallyCorrectLights": false,
       "shadowMap": "IPY_MODEL_6258b81f1c134157aae6f1bdce5b64a2",
       "sortObject": true,
       "toneMapping": "LinearToneMapping",
       "toneMappingExposure": 1.0,
       "toneMappingWhitePoint": 1.0
      }
     },
     "75473421519c49759f366e80a83c4b33": {
      "model_module": "jupyter-threejs",
      "model_module_version": "^2.1.0",
      "model_name": "SceneModel",
      "state": {
       "_model_module": "jupyter-threejs",
       "_model_module_version": "^2.1.0",
       "_model_name": "SceneModel",
       "_view_count": null,
       "_view_module": null,
       "_view_module_version": "",
       "_view_name": null,
       "autoUpdate": true,
       "background": "#ffffff",
       "castShadow": false,
       "children": [
        "IPY_MODEL_21d47ca4f1544955a2fe120341e33a85",
        "IPY_MODEL_fd00eee400814ef792e6d835808a9936",
        "IPY_MODEL_163df135f1c0455f9827d9a851733f56",
        "IPY_MODEL_41c7c475df6c45d09e0521f479436c59",
        "IPY_MODEL_f9a785bb4a2e432dac1924afb5785472",
        "IPY_MODEL_f59d55e511ca4aa29e400e5976181ffa",
        "IPY_MODEL_a799225565764999a893e54786b7798f"
       ],
       "fog": null,
       "frustumCulled": true,
       "matrix": [
        1.0,
        0.0,
        0.0,
        0.0,
        0.0,
        1.0,
        0.0,
        0.0,
        0.0,
        0.0,
        1.0,
        0.0,
        0.0,
        0.0,
        0.0,
        1.0
       ],
       "matrixAutoUpdate": true,
       "matrixWorld": [
        1.0,
        0.0,
        0.0,
        0.0,
        0.0,
        1.0,
        0.0,
        0.0,
        0.0,
        0.0,
        1.0,
        0.0,
        0.0,
        0.0,
        0.0,
        1.0
       ],
       "matrixWorldNeedsUpdate": false,
       "modelViewMatrix": [
        1.0,
        0.0,
        0.0,
        0.0,
        0.0,
        1.0,
        0.0,
        0.0,
        0.0,
        0.0,
        1.0,
        0.0,
        0.0,
        0.0,
        0.0,
        1.0
       ],
       "name": "",
       "normalMatrix": [
        1.0,
        0.0,
        0.0,
        0.0,
        1.0,
        0.0,
        0.0,
        0.0,
        1.0
       ],
       "overrideMaterial": null,
       "position": [
        0.0,
        0.0,
        0.0
       ],
       "quaternion": [
        0.0,
        0.0,
        0.0,
        1.0
       ],
       "receiveShadow": false,
       "renderOrder": 0,
       "rotation": [
        0.0,
        0.0,
        0.0,
        "XYZ"
       ],
       "scale": [
        1.0,
        1.0,
        1.0
       ],
       "type": "Scene",
       "up": [
        0.0,
        1.0,
        0.0
       ],
       "visible": true
      }
     },
     "7d79186d7dd74443bc424167b5d09add": {
      "model_module": "jupyter-threejs",
      "model_module_version": "^2.1.0",
      "model_name": "DirectionalLightModel",
      "state": {
       "_model_module": "jupyter-threejs",
       "_model_module_version": "^2.1.0",
       "_model_name": "DirectionalLightModel",
       "_view_count": null,
       "_view_module": null,
       "_view_module_version": "",
       "_view_name": null,
       "castShadow": false,
       "children": [],
       "color": "#ffffff",
       "frustumCulled": true,
       "intensity": 1.0,
       "matrix": [
        1.0,
        0.0,
        0.0,
        0.0,
        0.0,
        1.0,
        0.0,
        0.0,
        0.0,
        0.0,
        1.0,
        0.0,
        0.0,
        0.0,
        0.0,
        1.0
       ],
       "matrixAutoUpdate": true,
       "matrixWorld": [
        1.0,
        0.0,
        0.0,
        0.0,
        0.0,
        1.0,
        0.0,
        0.0,
        0.0,
        0.0,
        1.0,
        0.0,
        0.0,
        0.0,
        0.0,
        1.0
       ],
       "matrixWorldNeedsUpdate": false,
       "modelViewMatrix": [
        1.0,
        0.0,
        0.0,
        0.0,
        0.0,
        1.0,
        0.0,
        0.0,
        0.0,
        0.0,
        1.0,
        0.0,
        0.0,
        0.0,
        0.0,
        1.0
       ],
       "name": "",
       "normalMatrix": [
        1.0,
        0.0,
        0.0,
        0.0,
        1.0,
        0.0,
        0.0,
        0.0,
        1.0
       ],
       "position": [
        0.0,
        10.0,
        10.0
       ],
       "quaternion": [
        0.0,
        0.0,
        0.0,
        1.0
       ],
       "receiveShadow": false,
       "renderOrder": 0,
       "rotation": [
        0.0,
        0.0,
        0.0,
        "XYZ"
       ],
       "scale": [
        1.0,
        1.0,
        1.0
       ],
       "shadow": "uninitialized",
       "target": "uninitialized",
       "type": "DirectionalLight",
       "up": [
        0.0,
        1.0,
        0.0
       ],
       "visible": true
      }
     },
     "85298e9dbf4f4ebe81817fa1642a575f": {
      "model_module": "jupyter-threejs",
      "model_module_version": "^2.1.0",
      "model_name": "CylinderGeometryModel",
      "state": {
       "_model_module": "jupyter-threejs",
       "_model_module_version": "^2.1.0",
       "_model_name": "CylinderGeometryModel",
       "_view_count": null,
       "_view_module": null,
       "_view_module_version": "",
       "_view_name": null,
       "height": 50.0,
       "heightSegments": 1,
       "name": "",
       "openEnded": false,
       "radialSegments": 8,
       "radiusBottom": 10.0,
       "radiusTop": 2.0,
       "thetaLength": 6.283185307179586,
       "thetaStart": 0.0,
       "type": "CylinderGeometry"
      }
     },
     "8d0989afc3f24399b45df56f34ff2f5d": {
      "model_module": "jupyter-threejs",
      "model_module_version": "^2.1.0",
      "model_name": "MeshStandardMaterialModel",
      "state": {
       "_model_module": "jupyter-threejs",
       "_model_module_version": "^2.1.0",
       "_model_name": "MeshStandardMaterialModel",
       "_view_count": null,
       "_view_module": null,
       "_view_module_version": "",
       "_view_name": null,
       "alphaMap": null,
       "alphaTest": 0.0,
       "aoMap": null,
       "aoMapIntensity": 1.0,
       "blendDst": "OneMinusSrcAlphaFactor",
       "blendDstAlpha": 0.0,
       "blendEquation": "AddEquation",
       "blendEquationAlpha": 0.0,
       "blendSrc": "SrcAlphaFactor",
       "blendSrcAlpha": 0.0,
       "blending": "NormalBlending",
       "bumpMap": null,
       "bumpScale": 1.0,
       "clipIntersection": false,
       "clipShadows": false,
       "clippingPlanes": [],
       "color": "red",
       "colorWrite": true,
       "defines": {
        "STANDARD": ""
       },
       "depthFunc": "LessEqualDepth",
       "depthTest": true,
       "depthWrite": true,
       "displacementBias": 0.0,
       "displacementMap": null,
       "displacementScale": 1.0,
       "dithering": false,
       "emissive": "#000000",
       "emissiveIntensity": 1.0,
       "emissiveMap": null,
       "envMap": null,
       "envMapIntensity": 1.0,
       "flatShading": false,
       "fog": true,
       "lightMap": null,
       "lightMapIntensity": 1.0,
       "lights": true,
       "map": null,
       "metalness": 0.5,
       "metalnessMap": null,
       "morphNormals": false,
       "morphTargets": false,
       "name": "",
       "normalMap": null,
       "normalScale": [
        1.0,
        1.0
       ],
       "opacity": 1.0,
       "overdraw": 0.0,
       "polygonOffset": false,
       "polygonOffsetFactor": 0.0,
       "polygonOffsetUnits": 0.0,
       "precision": null,
       "premultipliedAlpha": false,
       "refractionRatio": 0.98,
       "roughness": 0.5,
       "roughnessMap": null,
       "shadowSide": null,
       "side": "FrontSide",
       "skinning": false,
       "transparent": false,
       "type": "MeshStandardMaterial",
       "vertexColors": "NoColors",
       "visible": true,
       "wireframe": false,
       "wireframeLinecap": "round",
       "wireframeLinejoin": "round",
       "wireframeLinewidth": 1.0
      }
     },
     "a77ea3424cc6499ea6d4d703bc292015": {
      "model_module": "jupyter-threejs",
      "model_module_version": "^2.1.0",
      "model_name": "CylinderGeometryModel",
      "state": {
       "_model_module": "jupyter-threejs",
       "_model_module_version": "^2.1.0",
       "_model_name": "CylinderGeometryModel",
       "_view_count": null,
       "_view_module": null,
       "_view_module_version": "",
       "_view_name": null,
       "height": 2.0,
       "heightSegments": 1,
       "name": "",
       "openEnded": false,
       "radialSegments": 8,
       "radiusBottom": 0.5,
       "radiusTop": 0.1,
       "thetaLength": 6.283185307179586,
       "thetaStart": 0.0,
       "type": "CylinderGeometry"
      }
     },
     "a799225565764999a893e54786b7798f": {
      "model_module": "jupyter-threejs",
      "model_module_version": "^2.1.0",
      "model_name": "AmbientLightModel",
      "state": {
       "_model_module": "jupyter-threejs",
       "_model_module_version": "^2.1.0",
       "_model_name": "AmbientLightModel",
       "_view_count": null,
       "_view_module": null,
       "_view_module_version": "",
       "_view_name": null,
       "castShadow": false,
       "children": [],
       "color": "#ffffff",
       "frustumCulled": true,
       "intensity": 1.0,
       "matrix": [
        1.0,
        0.0,
        0.0,
        0.0,
        0.0,
        1.0,
        0.0,
        0.0,
        0.0,
        0.0,
        1.0,
        0.0,
        0.0,
        0.0,
        0.0,
        1.0
       ],
       "matrixAutoUpdate": true,
       "matrixWorld": [
        1.0,
        0.0,
        0.0,
        0.0,
        0.0,
        1.0,
        0.0,
        0.0,
        0.0,
        0.0,
        1.0,
        0.0,
        0.0,
        0.0,
        0.0,
        1.0
       ],
       "matrixWorldNeedsUpdate": false,
       "modelViewMatrix": [
        1.0,
        0.0,
        0.0,
        0.0,
        0.0,
        1.0,
        0.0,
        0.0,
        0.0,
        0.0,
        1.0,
        0.0,
        0.0,
        0.0,
        0.0,
        1.0
       ],
       "name": "",
       "normalMatrix": [
        1.0,
        0.0,
        0.0,
        0.0,
        1.0,
        0.0,
        0.0,
        0.0,
        1.0
       ],
       "position": [
        0.0,
        0.0,
        0.0
       ],
       "quaternion": [
        0.0,
        0.0,
        0.0,
        1.0
       ],
       "receiveShadow": false,
       "renderOrder": 0,
       "rotation": [
        0.0,
        0.0,
        0.0,
        "XYZ"
       ],
       "scale": [
        1.0,
        1.0,
        1.0
       ],
       "type": "AmbientLight",
       "up": [
        0.0,
        1.0,
        0.0
       ],
       "visible": true
      }
     },
     "a8675c1ca0e94560b28d04d13d4c4370": {
      "model_module": "jupyter-threejs",
      "model_module_version": "^2.1.0",
      "model_name": "AnimationMixerModel",
      "state": {
       "_model_module": "jupyter-threejs",
       "_model_module_version": "^2.1.0",
       "_model_name": "AnimationMixerModel",
       "_view_count": null,
       "_view_module": null,
       "_view_module_version": "",
       "_view_name": null,
       "rootObject": "IPY_MODEL_75473421519c49759f366e80a83c4b33",
       "time": 0.0,
       "timeScale": 1.0
      }
     },
     "a9bd46e2a868410db12bcf3d9b965f22": {
      "model_module": "@jupyter-widgets/base",
      "model_module_version": "1.2.0",
      "model_name": "LayoutModel",
      "state": {
       "_model_module": "@jupyter-widgets/base",
       "_model_module_version": "1.2.0",
       "_model_name": "LayoutModel",
       "_view_count": null,
       "_view_module": "@jupyter-widgets/base",
       "_view_module_version": "1.2.0",
       "_view_name": "LayoutView",
       "align_content": null,
       "align_items": null,
       "align_self": null,
       "border": null,
       "bottom": null,
       "display": null,
       "flex": null,
       "flex_flow": null,
       "grid_area": null,
       "grid_auto_columns": null,
       "grid_auto_flow": null,
       "grid_auto_rows": null,
       "grid_column": null,
       "grid_gap": null,
       "grid_row": null,
       "grid_template_areas": null,
       "grid_template_columns": null,
       "grid_template_rows": null,
       "height": null,
       "justify_content": null,
       "justify_items": null,
       "left": null,
       "margin": null,
       "max_height": null,
       "max_width": null,
       "min_height": null,
       "min_width": null,
       "object_fit": null,
       "object_position": null,
       "order": null,
       "overflow": null,
       "overflow_x": null,
       "overflow_y": null,
       "padding": null,
       "right": null,
       "top": null,
       "visibility": null,
       "width": null
      }
     },
     "b238f7276fe648cea21747448a262e18": {
      "model_module": "jupyter-threejs",
      "model_module_version": "^2.1.0",
      "model_name": "AmbientLightModel",
      "state": {
       "_model_module": "jupyter-threejs",
       "_model_module_version": "^2.1.0",
       "_model_name": "AmbientLightModel",
       "_view_count": null,
       "_view_module": null,
       "_view_module_version": "",
       "_view_name": null,
       "castShadow": false,
       "children": [],
       "color": "#ffffff",
       "frustumCulled": true,
       "intensity": 1.0,
       "matrix": [
        1.0,
        0.0,
        0.0,
        0.0,
        0.0,
        1.0,
        0.0,
        0.0,
        0.0,
        0.0,
        1.0,
        0.0,
        0.0,
        0.0,
        0.0,
        1.0
       ],
       "matrixAutoUpdate": true,
       "matrixWorld": [
        1.0,
        0.0,
        0.0,
        0.0,
        0.0,
        1.0,
        0.0,
        0.0,
        0.0,
        0.0,
        1.0,
        0.0,
        0.0,
        0.0,
        0.0,
        1.0
       ],
       "matrixWorldNeedsUpdate": false,
       "modelViewMatrix": [
        1.0,
        0.0,
        0.0,
        0.0,
        0.0,
        1.0,
        0.0,
        0.0,
        0.0,
        0.0,
        1.0,
        0.0,
        0.0,
        0.0,
        0.0,
        1.0
       ],
       "name": "",
       "normalMatrix": [
        1.0,
        0.0,
        0.0,
        0.0,
        1.0,
        0.0,
        0.0,
        0.0,
        1.0
       ],
       "position": [
        0.0,
        0.0,
        0.0
       ],
       "quaternion": [
        0.0,
        0.0,
        0.0,
        1.0
       ],
       "receiveShadow": false,
       "renderOrder": 0,
       "rotation": [
        0.0,
        0.0,
        0.0,
        "XYZ"
       ],
       "scale": [
        1.0,
        1.0,
        1.0
       ],
       "type": "AmbientLight",
       "up": [
        0.0,
        1.0,
        0.0
       ],
       "visible": true
      }
     },
     "b45323c18e524a5fb03abad788cad848": {
      "buffers": [
       {
        "data": "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",
        "encoding": "base64",
        "path": [
         "times",
         "buffer"
        ]
       },
       {
        "data": "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",
        "encoding": "base64",
        "path": [
         "values",
         "buffer"
        ]
       }
      ],
      "model_module": "jupyter-threejs",
      "model_module_version": "^2.1.0",
      "model_name": "VectorKeyframeTrackModel",
      "state": {
       "_model_module": "jupyter-threejs",
       "_model_module_version": "^2.1.0",
       "_model_name": "VectorKeyframeTrackModel",
       "_view_count": null,
       "_view_module": null,
       "_view_module_version": "",
       "_view_name": null,
       "interpolation": "InterpolateLinear",
       "name": "scene/mesh_A.matrix",
       "times": {
        "dtype": "float32",
        "shape": [
         500
        ]
       },
       "values": {
        "dtype": "float32",
        "shape": [
         500,
         16
        ]
       }
      }
     },
     "c48756f8939343f88b51e2ed0a4c066c": {
      "model_module": "jupyter-threejs",
      "model_module_version": "^2.1.0",
      "model_name": "SphereGeometryModel",
      "state": {
       "_model_module": "jupyter-threejs",
       "_model_module_version": "^2.1.0",
       "_model_name": "SphereGeometryModel",
       "_view_count": null,
       "_view_module": null,
       "_view_module_version": "",
       "_view_name": null,
       "heightSegments": 6,
       "name": "",
       "phiLength": 6.283185307179586,
       "phiStart": 0.0,
       "radius": 0.0375,
       "thetaLength": 3.141592653589793,
       "thetaStart": 0.0,
       "type": "SphereGeometry",
       "widthSegments": 8
      }
     },
     "cbfa536fac9140898885c1fb13271127": {
      "model_module": "jupyter-threejs",
      "model_module_version": "^2.1.0",
      "model_name": "AnimationActionModel",
      "state": {
       "_dom_classes": [],
       "_model_module": "jupyter-threejs",
       "_model_module_version": "^2.1.0",
       "_model_name": "AnimationActionModel",
       "_view_count": null,
       "_view_module": "jupyter-threejs",
       "_view_module_version": "^2.1.0",
       "_view_name": "AnimationActionView",
       "clampWhenFinished": false,
       "clip": "IPY_MODEL_703052ddaed3468284777f041740802a",
       "enabled": true,
       "layout": "IPY_MODEL_2c749867065b400e9ddb2a17f148f641",
       "localRoot": "IPY_MODEL_75473421519c49759f366e80a83c4b33",
       "loop": "LoopRepeat",
       "mixer": "IPY_MODEL_a8675c1ca0e94560b28d04d13d4c4370",
       "paused": false,
       "repititions": "inf",
       "time": 0.0,
       "timeScale": 1.0,
       "weigth": 1.0,
       "zeroSlopeAtEnd": true,
       "zeroSlopeAtStart": true
      }
     },
     "d006b7f857964d33b710768d34de7753": {
      "buffers": [
       {
        "data": "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",
        "encoding": "base64",
        "path": [
         "times",
         "buffer"
        ]
       },
       {
        "data": "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",
        "encoding": "base64",
        "path": [
         "values",
         "buffer"
        ]
       }
      ],
      "model_module": "jupyter-threejs",
      "model_module_version": "^2.1.0",
      "model_name": "VectorKeyframeTrackModel",
      "state": {
       "_model_module": "jupyter-threejs",
       "_model_module_version": "^2.1.0",
       "_model_name": "VectorKeyframeTrackModel",
       "_view_count": null,
       "_view_module": null,
       "_view_module_version": "",
       "_view_name": null,
       "interpolation": "InterpolateLinear",
       "name": "scene/mesh_Q.matrix",
       "times": {
        "dtype": "float32",
        "shape": [
         500
        ]
       },
       "values": {
        "dtype": "float32",
        "shape": [
         500,
         16
        ]
       }
      }
     },
     "db95c9f6a11c44e5b5eb6e060848ba8a": {
      "model_module": "jupyter-threejs",
      "model_module_version": "^2.1.0",
      "model_name": "PreviewModel",
      "state": {
       "_alpha": false,
       "_antialias": false,
       "_dom_classes": [],
       "_flat": false,
       "_height": 200,
       "_model_module": "jupyter-threejs",
       "_model_module_version": "^2.1.0",
       "_model_name": "PreviewModel",
       "_view_count": null,
       "_view_module": "jupyter-threejs",
       "_view_module_version": "^2.1.0",
       "_view_name": "PreviewView",
       "_webgl_version": 2,
       "_width": 200,
       "_wire": false,
       "autoClear": true,
       "autoClearColor": true,
       "autoClearDepth": true,
       "autoClearStencil": true,
       "child": "IPY_MODEL_85298e9dbf4f4ebe81817fa1642a575f",
       "clearColor": "#000000",
       "clearOpacity": 1.0,
       "clippingPlanes": [],
       "gammaFactor": 2.0,
       "gammaInput": false,
       "gammaOutput": false,
       "layout": "IPY_MODEL_e129b1894937482e9ff747cb09cb0391",
       "localClippingEnabled": false,
       "maxMorphNormals": 4,
       "maxMorphTargets": 8,
       "physicallyCorrectLights": false,
       "shadowMap": "IPY_MODEL_2aa309bd09a04a179cbc04718b8698bf",
       "sortObject": true,
       "toneMapping": "LinearToneMapping",
       "toneMappingExposure": 1.0,
       "toneMappingWhitePoint": 1.0
      }
     },
     "dd6ca426fe0a4e6ebee7e8ef90304fe9": {
      "model_module": "jupyter-threejs",
      "model_module_version": "^2.1.0",
      "model_name": "OrbitControlsModel",
      "state": {
       "_model_module": "jupyter-threejs",
       "_model_module_version": "^2.1.0",
       "_model_name": "OrbitControlsModel",
       "_view_count": null,
       "_view_module": null,
       "_view_module_version": "",
       "_view_name": null,
       "autoRotate": false,
       "autoRotateSpeed": 2.0,
       "controlling": "IPY_MODEL_34eeb8a1526b48fcb520a27df0677c2c",
       "dampingFactor": 0.25,
       "enableDamping": false,
       "enableKeys": true,
       "enablePan": true,
       "enableRotate": true,
       "enableZoom": true,
       "enabled": true,
       "keyPanSpeed": 7.0,
       "maxAzimuthAngle": "inf",
       "maxDistance": "inf",
       "maxPolarAngle": 3.141592653589793,
       "maxZoom": "inf",
       "minAzimuthAngle": "-inf",
       "minDistance": 0.0,
       "minPolarAngle": 0.0,
       "minZoom": 0.0,
       "panSpeed": 1.0,
       "rotateSpeed": 1.0,
       "screenSpacePanning": true,
       "target": [
        0.0,
        0.0,
        0.0
       ],
       "zoomSpeed": 1.0
      }
     },
     "e038241ce5cd4f97920c1ee3b2be696d": {
      "model_module": "jupyter-threejs",
      "model_module_version": "^2.1.0",
      "model_name": "MeshStandardMaterialModel",
      "state": {
       "_model_module": "jupyter-threejs",
       "_model_module_version": "^2.1.0",
       "_model_name": "MeshStandardMaterialModel",
       "_view_count": null,
       "_view_module": null,
       "_view_module_version": "",
       "_view_name": null,
       "alphaMap": null,
       "alphaTest": 0.0,
       "aoMap": null,
       "aoMapIntensity": 1.0,
       "blendDst": "OneMinusSrcAlphaFactor",
       "blendDstAlpha": 0.0,
       "blendEquation": "AddEquation",
       "blendEquationAlpha": 0.0,
       "blendSrc": "SrcAlphaFactor",
       "blendSrcAlpha": 0.0,
       "blending": "NormalBlending",
       "bumpMap": null,
       "bumpScale": 1.0,
       "clipIntersection": false,
       "clipShadows": false,
       "clippingPlanes": [],
       "color": "red",
       "colorWrite": true,
       "defines": {
        "STANDARD": ""
       },
       "depthFunc": "LessEqualDepth",
       "depthTest": true,
       "depthWrite": true,
       "displacementBias": 0.0,
       "displacementMap": null,
       "displacementScale": 1.0,
       "dithering": false,
       "emissive": "#000000",
       "emissiveIntensity": 1.0,
       "emissiveMap": null,
       "envMap": null,
       "envMapIntensity": 1.0,
       "flatShading": false,
       "fog": true,
       "lightMap": null,
       "lightMapIntensity": 1.0,
       "lights": true,
       "map": null,
       "metalness": 0.5,
       "metalnessMap": null,
       "morphNormals": false,
       "morphTargets": false,
       "name": "",
       "normalMap": null,
       "normalScale": [
        1.0,
        1.0
       ],
       "opacity": 1.0,
       "overdraw": 0.0,
       "polygonOffset": false,
       "polygonOffsetFactor": 0.0,
       "polygonOffsetUnits": 0.0,
       "precision": null,
       "premultipliedAlpha": false,
       "refractionRatio": 0.98,
       "roughness": 0.5,
       "roughnessMap": null,
       "shadowSide": null,
       "side": "FrontSide",
       "skinning": false,
       "transparent": false,
       "type": "MeshStandardMaterial",
       "vertexColors": "NoColors",
       "visible": true,
       "wireframe": false,
       "wireframeLinecap": "round",
       "wireframeLinejoin": "round",
       "wireframeLinewidth": 1.0
      }
     },
     "e129b1894937482e9ff747cb09cb0391": {
      "model_module": "@jupyter-widgets/base",
      "model_module_version": "1.2.0",
      "model_name": "LayoutModel",
      "state": {
       "_model_module": "@jupyter-widgets/base",
       "_model_module_version": "1.2.0",
       "_model_name": "LayoutModel",
       "_view_count": null,
       "_view_module": "@jupyter-widgets/base",
       "_view_module_version": "1.2.0",
       "_view_name": "LayoutView",
       "align_content": null,
       "align_items": null,
       "align_self": null,
       "border": null,
       "bottom": null,
       "display": null,
       "flex": null,
       "flex_flow": null,
       "grid_area": null,
       "grid_auto_columns": null,
       "grid_auto_flow": null,
       "grid_auto_rows": null,
       "grid_column": null,
       "grid_gap": null,
       "grid_row": null,
       "grid_template_areas": null,
       "grid_template_columns": null,
       "grid_template_rows": null,
       "height": null,
       "justify_content": null,
       "justify_items": null,
       "left": null,
       "margin": null,
       "max_height": null,
       "max_width": null,
       "min_height": null,
       "min_width": null,
       "object_fit": null,
       "object_position": null,
       "order": null,
       "overflow": null,
       "overflow_x": null,
       "overflow_y": null,
       "padding": null,
       "right": null,
       "top": null,
       "visibility": null,
       "width": null
      }
     },
     "f2b65b402d404ea0a0d0e32bb3b7cd50": {
      "model_module": "@jupyter-widgets/base",
      "model_module_version": "1.2.0",
      "model_name": "LayoutModel",
      "state": {
       "_model_module": "@jupyter-widgets/base",
       "_model_module_version": "1.2.0",
       "_model_name": "LayoutModel",
       "_view_count": null,
       "_view_module": "@jupyter-widgets/base",
       "_view_module_version": "1.2.0",
       "_view_name": "LayoutView",
       "align_content": null,
       "align_items": null,
       "align_self": null,
       "border": null,
       "bottom": null,
       "display": null,
       "flex": null,
       "flex_flow": null,
       "grid_area": null,
       "grid_auto_columns": null,
       "grid_auto_flow": null,
       "grid_auto_rows": null,
       "grid_column": null,
       "grid_gap": null,
       "grid_row": null,
       "grid_template_areas": null,
       "grid_template_columns": null,
       "grid_template_rows": null,
       "height": null,
       "justify_content": null,
       "justify_items": null,
       "left": null,
       "margin": null,
       "max_height": null,
       "max_width": null,
       "min_height": null,
       "min_width": null,
       "object_fit": null,
       "object_position": null,
       "order": null,
       "overflow": null,
       "overflow_x": null,
       "overflow_y": null,
       "padding": null,
       "right": null,
       "top": null,
       "visibility": null,
       "width": null
      }
     },
     "f30b2f694f964f94a16fad414bc50088": {
      "model_module": "jupyter-threejs",
      "model_module_version": "^2.1.0",
      "model_name": "OrbitControlsModel",
      "state": {
       "_model_module": "jupyter-threejs",
       "_model_module_version": "^2.1.0",
       "_model_name": "OrbitControlsModel",
       "_view_count": null,
       "_view_module": null,
       "_view_module_version": "",
       "_view_name": null,
       "autoRotate": false,
       "autoRotateSpeed": 2.0,
       "controlling": "IPY_MODEL_f9a785bb4a2e432dac1924afb5785472",
       "dampingFactor": 0.25,
       "enableDamping": false,
       "enableKeys": true,
       "enablePan": true,
       "enableRotate": true,
       "enableZoom": true,
       "enabled": true,
       "keyPanSpeed": 7.0,
       "maxAzimuthAngle": "inf",
       "maxDistance": "inf",
       "maxPolarAngle": 3.141592653589793,
       "maxZoom": "inf",
       "minAzimuthAngle": "-inf",
       "minDistance": 0.0,
       "minPolarAngle": 0.0,
       "minZoom": 0.0,
       "panSpeed": 1.0,
       "rotateSpeed": 1.0,
       "screenSpacePanning": true,
       "target": [
        0.0,
        0.0,
        0.0
       ],
       "zoomSpeed": 1.0
      }
     },
     "f59d55e511ca4aa29e400e5976181ffa": {
      "model_module": "jupyter-threejs",
      "model_module_version": "^2.1.0",
      "model_name": "DirectionalLightModel",
      "state": {
       "_model_module": "jupyter-threejs",
       "_model_module_version": "^2.1.0",
       "_model_name": "DirectionalLightModel",
       "_view_count": null,
       "_view_module": null,
       "_view_module_version": "",
       "_view_name": null,
       "castShadow": false,
       "children": [],
       "color": "#ffffff",
       "frustumCulled": true,
       "intensity": 1.0,
       "matrix": [
        1.0,
        0.0,
        0.0,
        0.0,
        0.0,
        1.0,
        0.0,
        0.0,
        0.0,
        0.0,
        1.0,
        0.0,
        0.0,
        0.0,
        0.0,
        1.0
       ],
       "matrixAutoUpdate": true,
       "matrixWorld": [
        1.0,
        0.0,
        0.0,
        0.0,
        0.0,
        1.0,
        0.0,
        0.0,
        0.0,
        0.0,
        1.0,
        0.0,
        0.0,
        0.0,
        0.0,
        1.0
       ],
       "matrixWorldNeedsUpdate": false,
       "modelViewMatrix": [
        1.0,
        0.0,
        0.0,
        0.0,
        0.0,
        1.0,
        0.0,
        0.0,
        0.0,
        0.0,
        1.0,
        0.0,
        0.0,
        0.0,
        0.0,
        1.0
       ],
       "name": "",
       "normalMatrix": [
        1.0,
        0.0,
        0.0,
        0.0,
        1.0,
        0.0,
        0.0,
        0.0,
        1.0
       ],
       "position": [
        0.0,
        10.0,
        10.0
       ],
       "quaternion": [
        0.0,
        0.0,
        0.0,
        1.0
       ],
       "receiveShadow": false,
       "renderOrder": 0,
       "rotation": [
        0.0,
        0.0,
        0.0,
        "XYZ"
       ],
       "scale": [
        1.0,
        1.0,
        1.0
       ],
       "shadow": "uninitialized",
       "target": "uninitialized",
       "type": "DirectionalLight",
       "up": [
        0.0,
        1.0,
        0.0
       ],
       "visible": true
      }
     },
     "f9a785bb4a2e432dac1924afb5785472": {
      "model_module": "jupyter-threejs",
      "model_module_version": "^2.1.0",
      "model_name": "PerspectiveCameraModel",
      "state": {
       "_model_module": "jupyter-threejs",
       "_model_module_version": "^2.1.0",
       "_model_name": "PerspectiveCameraModel",
       "_view_count": null,
       "_view_module": null,
       "_view_module_version": "",
       "_view_name": null,
       "aspect": 1.5,
       "castShadow": false,
       "children": [],
       "far": 2000.0,
       "focus": 10.0,
       "fov": 50.0,
       "frustumCulled": true,
       "matrix": [
        1.0,
        0.0,
        0.0,
        0.0,
        0.0,
        1.0,
        0.0,
        0.0,
        0.0,
        0.0,
        1.0,
        0.0,
        0.0,
        0.0,
        0.0,
        1.0
       ],
       "matrixAutoUpdate": true,
       "matrixWorld": [
        1.0,
        0.0,
        0.0,
        0.0,
        0.0,
        1.0,
        0.0,
        0.0,
        0.0,
        0.0,
        1.0,
        0.0,
        0.0,
        0.0,
        0.0,
        1.0
       ],
       "matrixWorldInverse": [
        1.0,
        0.0,
        0.0,
        0.0,
        0.0,
        1.0,
        0.0,
        0.0,
        0.0,
        0.0,
        1.0,
        0.0,
        0.0,
        0.0,
        0.0,
        1.0
       ],
       "matrixWorldNeedsUpdate": false,
       "modelViewMatrix": [
        1.0,
        0.0,
        0.0,
        0.0,
        0.0,
        1.0,
        0.0,
        0.0,
        0.0,
        0.0,
        1.0,
        0.0,
        0.0,
        0.0,
        0.0,
        1.0
       ],
       "name": "",
       "near": 0.1,
       "normalMatrix": [
        1.0,
        0.0,
        0.0,
        0.0,
        1.0,
        0.0,
        0.0,
        0.0,
        1.0
       ],
       "position": [
        1.5,
        0.6,
        1.0
       ],
       "projectionMatrix": [
        1.0,
        0.0,
        0.0,
        0.0,
        0.0,
        1.0,
        0.0,
        0.0,
        0.0,
        0.0,
        1.0,
        0.0,
        0.0,
        0.0,
        0.0,
        1.0
       ],
       "quaternion": [
        0.0,
        0.0,
        0.0,
        1.0
       ],
       "receiveShadow": false,
       "renderOrder": 0,
       "rotation": [
        0.0,
        0.0,
        0.0,
        "XYZ"
       ],
       "scale": [
        1.0,
        1.0,
        1.0
       ],
       "type": "PerspectiveCamera",
       "up": [
        -1.0,
        0.0,
        0.0
       ],
       "visible": true,
       "zoom": 1.0
      }
     },
     "faeac11affa8410ebab1a4fa4c17ac56": {
      "model_module": "jupyter-threejs",
      "model_module_version": "^2.1.0",
      "model_name": "CylinderGeometryModel",
      "state": {
       "_model_module": "jupyter-threejs",
       "_model_module_version": "^2.1.0",
       "_model_name": "CylinderGeometryModel",
       "_view_count": null,
       "_view_module": null,
       "_view_module_version": "",
       "_view_name": null,
       "height": 0.6,
       "heightSegments": 1,
       "name": "",
       "openEnded": false,
       "radialSegments": 8,
       "radiusBottom": 0.03,
       "radiusTop": 0.03,
       "thetaLength": 6.283185307179586,
       "thetaStart": 0.0,
       "type": "CylinderGeometry"
      }
     },
     "fd00eee400814ef792e6d835808a9936": {
      "model_module": "jupyter-threejs",
      "model_module_version": "^2.1.0",
      "model_name": "MeshModel",
      "state": {
       "_model_module": "jupyter-threejs",
       "_model_module_version": "^2.1.0",
       "_model_name": "MeshModel",
       "_view_count": null,
       "_view_module": null,
       "_view_module_version": "",
       "_view_name": null,
       "castShadow": false,
       "children": [
        "IPY_MODEL_35b4dfacd1cf40ee9b8384554e48185a"
       ],
       "drawMode": "TrianglesDrawMode",
       "frustumCulled": true,
       "geometry": "IPY_MODEL_faeac11affa8410ebab1a4fa4c17ac56",
       "material": "IPY_MODEL_2edb4156ef5349a3800f208b39adf62b",
       "matrix": [
        0.9063077870366498,
        0.42261826174069944,
        0.0,
        0.0,
        -0.42101007166283433,
        0.9028590122851733,
        0.08715574274765817,
        0.0,
        0.03683360850073487,
        -0.07898992833716562,
        0.9961946980917454,
        0.0,
        0.5437846722219899,
        0.2535709570444197,
        0.0,
        1.0
       ],
       "matrixAutoUpdate": false,
       "matrixWorld": [
        1.0,
        0.0,
        0.0,
        0.0,
        0.0,
        1.0,
        0.0,
        0.0,
        0.0,
        0.0,
        1.0,
        0.0,
        0.0,
        0.0,
        0.0,
        1.0
       ],
       "matrixWorldNeedsUpdate": false,
       "modelViewMatrix": [
        1.0,
        0.0,
        0.0,
        0.0,
        0.0,
        1.0,
        0.0,
        0.0,
        0.0,
        0.0,
        1.0,
        0.0,
        0.0,
        0.0,
        0.0,
        1.0
       ],
       "morphTargetInfluences": [],
       "name": "mesh_B",
       "normalMatrix": [
        1.0,
        0.0,
        0.0,
        0.0,
        1.0,
        0.0,
        0.0,
        0.0,
        1.0
       ],
       "position": [
        0.0,
        0.0,
        0.0
       ],
       "quaternion": [
        0.0,
        0.0,
        0.0,
        1.0
       ],
       "receiveShadow": false,
       "renderOrder": 0,
       "rotation": [
        0.0,
        0.0,
        0.0,
        "XYZ"
       ],
       "scale": [
        1.0,
        1.0,
        1.0
       ],
       "type": "Mesh",
       "up": [
        0.0,
        1.0,
        0.0
       ],
       "visible": true
      }
     }
    },
    "version_major": 2,
    "version_minor": 0
   }
  }
 },
 "nbformat": 4,
 "nbformat_minor": 5
}