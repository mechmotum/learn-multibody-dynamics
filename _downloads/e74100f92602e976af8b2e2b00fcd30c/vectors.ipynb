{
 "cells": [
  {
   "cell_type": "code",
   "execution_count": 1,
   "id": "566abedc",
   "metadata": {
    "execution": {
     "iopub.execute_input": "2022-06-25T07:10:28.133184Z",
     "iopub.status.busy": "2022-06-25T07:10:28.132911Z",
     "iopub.status.idle": "2022-06-25T07:10:28.594288Z",
     "shell.execute_reply": "2022-06-25T07:10:28.593626Z"
    }
   },
   "outputs": [],
   "source": [
    "import sympy as sm\n",
    "import sympy.physics.mechanics as me\n",
    "sm.init_printing(use_latex='mathjax')"
   ]
  },
  {
   "cell_type": "code",
   "execution_count": 2,
   "id": "b77036d4",
   "metadata": {
    "execution": {
     "iopub.execute_input": "2022-06-25T07:10:28.597626Z",
     "iopub.status.busy": "2022-06-25T07:10:28.597344Z",
     "iopub.status.idle": "2022-06-25T07:10:28.600941Z",
     "shell.execute_reply": "2022-06-25T07:10:28.600324Z"
    }
   },
   "outputs": [],
   "source": [
    "N = me.ReferenceFrame('N')"
   ]
  },
  {
   "cell_type": "code",
   "execution_count": 3,
   "id": "74ecd0d1",
   "metadata": {
    "execution": {
     "iopub.execute_input": "2022-06-25T07:10:28.603512Z",
     "iopub.status.busy": "2022-06-25T07:10:28.603309Z",
     "iopub.status.idle": "2022-06-25T07:10:28.606212Z",
     "shell.execute_reply": "2022-06-25T07:10:28.605623Z"
    }
   },
   "outputs": [],
   "source": [
    "a, b, c, d, e, f = sm.symbols('a, b, c, d, e, f')"
   ]
  },
  {
   "cell_type": "code",
   "execution_count": 4,
   "id": "2d208a2f",
   "metadata": {
    "execution": {
     "iopub.execute_input": "2022-06-25T07:10:28.608620Z",
     "iopub.status.busy": "2022-06-25T07:10:28.608420Z",
     "iopub.status.idle": "2022-06-25T07:10:28.616861Z",
     "shell.execute_reply": "2022-06-25T07:10:28.616169Z"
    }
   },
   "outputs": [
    {
     "data": {
      "text/latex": [
       "$\\displaystyle a\\mathbf{\\hat{n}_x}$"
      ],
      "text/plain": [
       "a n_x"
      ]
     },
     "execution_count": 4,
     "metadata": {},
     "output_type": "execute_result"
    }
   ],
   "source": [
    "v = a*N.x\n",
    "v"
   ]
  },
  {
   "cell_type": "code",
   "execution_count": 5,
   "id": "1b19a6f0",
   "metadata": {
    "execution": {
     "iopub.execute_input": "2022-06-25T07:10:28.619223Z",
     "iopub.status.busy": "2022-06-25T07:10:28.619023Z",
     "iopub.status.idle": "2022-06-25T07:10:28.624848Z",
     "shell.execute_reply": "2022-06-25T07:10:28.624264Z"
    }
   },
   "outputs": [
    {
     "data": {
      "text/latex": [
       "$\\displaystyle \\left[\\begin{matrix}a\\\\0\\\\0\\end{matrix}\\right]$"
      ],
      "text/plain": [
       "⎡a⎤\n",
       "⎢ ⎥\n",
       "⎢0⎥\n",
       "⎢ ⎥\n",
       "⎣0⎦"
      ]
     },
     "execution_count": 5,
     "metadata": {},
     "output_type": "execute_result"
    }
   ],
   "source": [
    "v.to_matrix(N)"
   ]
  },
  {
   "cell_type": "code",
   "execution_count": 6,
   "id": "353fe379",
   "metadata": {
    "execution": {
     "iopub.execute_input": "2022-06-25T07:10:28.627840Z",
     "iopub.status.busy": "2022-06-25T07:10:28.627642Z",
     "iopub.status.idle": "2022-06-25T07:10:28.632669Z",
     "shell.execute_reply": "2022-06-25T07:10:28.632080Z"
    }
   },
   "outputs": [
    {
     "data": {
      "text/latex": [
       "$\\displaystyle a\\mathbf{\\hat{n}_x} + b\\mathbf{\\hat{n}_y} + c\\mathbf{\\hat{n}_z}$"
      ],
      "text/plain": [
       "a n_x + b n_y + c n_z"
      ]
     },
     "execution_count": 6,
     "metadata": {},
     "output_type": "execute_result"
    }
   ],
   "source": [
    "w = a*N.x + b*N.y + c*N.z\n",
    "w"
   ]
  },
  {
   "cell_type": "code",
   "execution_count": 7,
   "id": "d2ffa4ca",
   "metadata": {
    "execution": {
     "iopub.execute_input": "2022-06-25T07:10:28.635524Z",
     "iopub.status.busy": "2022-06-25T07:10:28.635326Z",
     "iopub.status.idle": "2022-06-25T07:10:28.640956Z",
     "shell.execute_reply": "2022-06-25T07:10:28.640398Z"
    }
   },
   "outputs": [
    {
     "data": {
      "text/latex": [
       "$\\displaystyle \\left[\\begin{matrix}a\\\\b\\\\c\\end{matrix}\\right]$"
      ],
      "text/plain": [
       "⎡a⎤\n",
       "⎢ ⎥\n",
       "⎢b⎥\n",
       "⎢ ⎥\n",
       "⎣c⎦"
      ]
     },
     "execution_count": 7,
     "metadata": {},
     "output_type": "execute_result"
    }
   ],
   "source": [
    "w.to_matrix(N)"
   ]
  },
  {
   "cell_type": "code",
   "execution_count": 8,
   "id": "ee088494",
   "metadata": {
    "execution": {
     "iopub.execute_input": "2022-06-25T07:10:28.643893Z",
     "iopub.status.busy": "2022-06-25T07:10:28.643694Z",
     "iopub.status.idle": "2022-06-25T07:10:28.648613Z",
     "shell.execute_reply": "2022-06-25T07:10:28.648019Z"
    }
   },
   "outputs": [
    {
     "data": {
      "text/latex": [
       "$\\displaystyle d\\mathbf{\\hat{n}_x} + e\\mathbf{\\hat{n}_y} + f\\mathbf{\\hat{n}_z}$"
      ],
      "text/plain": [
       "d n_x + e n_y + f n_z"
      ]
     },
     "execution_count": 8,
     "metadata": {},
     "output_type": "execute_result"
    }
   ],
   "source": [
    "x = d*N.x + e*N.y + f*N.z\n",
    "x"
   ]
  },
  {
   "cell_type": "code",
   "execution_count": 9,
   "id": "c845929d",
   "metadata": {
    "execution": {
     "iopub.execute_input": "2022-06-25T07:10:28.651455Z",
     "iopub.status.busy": "2022-06-25T07:10:28.651256Z",
     "iopub.status.idle": "2022-06-25T07:10:28.656774Z",
     "shell.execute_reply": "2022-06-25T07:10:28.656189Z"
    }
   },
   "outputs": [
    {
     "data": {
      "text/latex": [
       "$\\displaystyle (a + d)\\mathbf{\\hat{n}_x} + (b + e)\\mathbf{\\hat{n}_y} + (c + f)\\mathbf{\\hat{n}_z}$"
      ],
      "text/plain": [
       "(a + d) n_x + (b + e) n_y + (c + f) n_z"
      ]
     },
     "execution_count": 9,
     "metadata": {},
     "output_type": "execute_result"
    }
   ],
   "source": [
    "w + x"
   ]
  },
  {
   "cell_type": "code",
   "execution_count": 10,
   "id": "fa07213b",
   "metadata": {
    "execution": {
     "iopub.execute_input": "2022-06-25T07:10:28.659717Z",
     "iopub.status.busy": "2022-06-25T07:10:28.659231Z",
     "iopub.status.idle": "2022-06-25T07:10:28.664689Z",
     "shell.execute_reply": "2022-06-25T07:10:28.664098Z"
    }
   },
   "outputs": [
    {
     "data": {
      "text/latex": [
       "$\\displaystyle 2 a\\mathbf{\\hat{n}_x} + 2 b\\mathbf{\\hat{n}_y} + 2 c\\mathbf{\\hat{n}_z}$"
      ],
      "text/plain": [
       "2⋅a n_x + 2⋅b n_y + 2⋅c n_z"
      ]
     },
     "execution_count": 10,
     "metadata": {},
     "output_type": "execute_result"
    }
   ],
   "source": [
    "y = 2*w\n",
    "y"
   ]
  },
  {
   "cell_type": "code",
   "execution_count": 11,
   "id": "61ac4138",
   "metadata": {
    "execution": {
     "iopub.execute_input": "2022-06-25T07:10:28.667325Z",
     "iopub.status.busy": "2022-06-25T07:10:28.666836Z",
     "iopub.status.idle": "2022-06-25T07:10:28.671895Z",
     "shell.execute_reply": "2022-06-25T07:10:28.671325Z"
    }
   },
   "outputs": [
    {
     "data": {
      "text/latex": [
       "$\\displaystyle -  a\\mathbf{\\hat{n}_x} -  b\\mathbf{\\hat{n}_y} -  c\\mathbf{\\hat{n}_z}$"
      ],
      "text/plain": [
       "-a n_x + -b n_y + -c n_z"
      ]
     },
     "execution_count": 11,
     "metadata": {},
     "output_type": "execute_result"
    }
   ],
   "source": [
    "z = -w\n",
    "z"
   ]
  },
  {
   "cell_type": "code",
   "execution_count": 12,
   "id": "1fbf189c",
   "metadata": {
    "execution": {
     "iopub.execute_input": "2022-06-25T07:10:28.674425Z",
     "iopub.status.busy": "2022-06-25T07:10:28.673946Z",
     "iopub.status.idle": "2022-06-25T07:10:28.677313Z",
     "shell.execute_reply": "2022-06-25T07:10:28.676737Z"
    }
   },
   "outputs": [],
   "source": [
    "N = me.ReferenceFrame('N')\n",
    "l, theta = sm.symbols('l, theta')"
   ]
  },
  {
   "cell_type": "code",
   "execution_count": 13,
   "id": "fe89cd13",
   "metadata": {
    "execution": {
     "iopub.execute_input": "2022-06-25T07:10:28.679728Z",
     "iopub.status.busy": "2022-06-25T07:10:28.679266Z",
     "iopub.status.idle": "2022-06-25T07:10:28.689894Z",
     "shell.execute_reply": "2022-06-25T07:10:28.689324Z"
    }
   },
   "outputs": [
    {
     "data": {
      "text/latex": [
       "$\\displaystyle \\frac{\\sqrt{2} l}{2}\\mathbf{\\hat{n}_x} + \\frac{\\sqrt{2} l}{2}\\mathbf{\\hat{n}_y}$"
      ],
      "text/plain": [
       "√2⋅l       √2⋅l\n",
       "──── n_x + ──── n_y\n",
       " 2          2"
      ]
     },
     "execution_count": 13,
     "metadata": {},
     "output_type": "execute_result"
    }
   ],
   "source": [
    "v1 = l*sm.cos(sm.pi/4)*N.x + l*sm.sin(sm.pi/4)*N.y\n",
    "v1"
   ]
  },
  {
   "cell_type": "code",
   "execution_count": 14,
   "id": "5418ac2d",
   "metadata": {
    "execution": {
     "iopub.execute_input": "2022-06-25T07:10:28.692407Z",
     "iopub.status.busy": "2022-06-25T07:10:28.691923Z",
     "iopub.status.idle": "2022-06-25T07:10:28.696150Z",
     "shell.execute_reply": "2022-06-25T07:10:28.695585Z"
    }
   },
   "outputs": [
    {
     "data": {
      "text/latex": [
       "$\\displaystyle - 10\\mathbf{\\hat{n}_y}$"
      ],
      "text/plain": [
       "-10 n_y"
      ]
     },
     "execution_count": 14,
     "metadata": {},
     "output_type": "execute_result"
    }
   ],
   "source": [
    "v2 = -10*N.y\n",
    "v2"
   ]
  },
  {
   "cell_type": "code",
   "execution_count": 15,
   "id": "51e2c0c7",
   "metadata": {
    "execution": {
     "iopub.execute_input": "2022-06-25T07:10:28.699223Z",
     "iopub.status.busy": "2022-06-25T07:10:28.698739Z",
     "iopub.status.idle": "2022-06-25T07:10:28.705498Z",
     "shell.execute_reply": "2022-06-25T07:10:28.704926Z"
    }
   },
   "outputs": [
    {
     "data": {
      "text/latex": [
       "$\\displaystyle -  l \\sin{\\left(\\theta \\right)}\\mathbf{\\hat{n}_x} + l \\cos{\\left(\\theta \\right)}\\mathbf{\\hat{n}_y}$"
      ],
      "text/plain": [
       "-l⋅sin(θ) n_x + l⋅cos(θ) n_y"
      ]
     },
     "execution_count": 15,
     "metadata": {},
     "output_type": "execute_result"
    }
   ],
   "source": [
    "v3 = -l*sm.sin(theta)*N.x + l*sm.cos(theta)*N.y\n",
    "v3"
   ]
  },
  {
   "cell_type": "code",
   "execution_count": 16,
   "id": "4f6e3f54",
   "metadata": {
    "execution": {
     "iopub.execute_input": "2022-06-25T07:10:28.708150Z",
     "iopub.status.busy": "2022-06-25T07:10:28.707634Z",
     "iopub.status.idle": "2022-06-25T07:10:28.716003Z",
     "shell.execute_reply": "2022-06-25T07:10:28.715430Z"
    }
   },
   "outputs": [
    {
     "data": {
      "text/latex": [
       "$\\displaystyle (5 l \\sin{\\left(\\theta \\right)} + \\frac{\\sqrt{2} l}{2})\\mathbf{\\hat{n}_x} + (- 5 l \\cos{\\left(\\theta \\right)} + \\frac{\\sqrt{2} l}{2} - 10)\\mathbf{\\hat{n}_y}$"
      ],
      "text/plain": [
       "⎛             √2⋅l⎞       ⎛              √2⋅l     ⎞\n",
       "⎜5⋅l⋅sin(θ) + ────⎟ n_x + ⎜-5⋅l⋅cos(θ) + ──── - 10⎟ n_y\n",
       "⎝              2  ⎠       ⎝               2       ⎠"
      ]
     },
     "execution_count": 16,
     "metadata": {},
     "output_type": "execute_result"
    }
   ],
   "source": [
    "v1 + v2 - 5*v3"
   ]
  },
  {
   "cell_type": "code",
   "execution_count": 17,
   "id": "49946bbd",
   "metadata": {
    "execution": {
     "iopub.execute_input": "2022-06-25T07:10:28.718418Z",
     "iopub.status.busy": "2022-06-25T07:10:28.717951Z",
     "iopub.status.idle": "2022-06-25T07:10:28.722869Z",
     "shell.execute_reply": "2022-06-25T07:10:28.722282Z"
    }
   },
   "outputs": [],
   "source": [
    "N = me.ReferenceFrame('N')\n",
    "w = a*N.x + b*N.y + c*N.z\n",
    "x = d*N.x + e*N.y + f*N.z"
   ]
  },
  {
   "cell_type": "code",
   "execution_count": 18,
   "id": "b11537d8",
   "metadata": {
    "execution": {
     "iopub.execute_input": "2022-06-25T07:10:28.725212Z",
     "iopub.status.busy": "2022-06-25T07:10:28.724828Z",
     "iopub.status.idle": "2022-06-25T07:10:28.730950Z",
     "shell.execute_reply": "2022-06-25T07:10:28.730385Z"
    }
   },
   "outputs": [
    {
     "data": {
      "text/latex": [
       "$\\displaystyle a d + b e + c f$"
      ],
      "text/plain": [
       "a⋅d + b⋅e + c⋅f"
      ]
     },
     "execution_count": 18,
     "metadata": {},
     "output_type": "execute_result"
    }
   ],
   "source": [
    "me.dot(w, x)"
   ]
  },
  {
   "cell_type": "code",
   "execution_count": 19,
   "id": "939b978b",
   "metadata": {
    "execution": {
     "iopub.execute_input": "2022-06-25T07:10:28.733902Z",
     "iopub.status.busy": "2022-06-25T07:10:28.733516Z",
     "iopub.status.idle": "2022-06-25T07:10:28.738690Z",
     "shell.execute_reply": "2022-06-25T07:10:28.738123Z"
    }
   },
   "outputs": [
    {
     "data": {
      "text/latex": [
       "$\\displaystyle a d + b e + c f$"
      ],
      "text/plain": [
       "a⋅d + b⋅e + c⋅f"
      ]
     },
     "execution_count": 19,
     "metadata": {},
     "output_type": "execute_result"
    }
   ],
   "source": [
    "w.dot(x)"
   ]
  },
  {
   "cell_type": "code",
   "execution_count": 20,
   "id": "38137f01",
   "metadata": {
    "execution": {
     "iopub.execute_input": "2022-06-25T07:10:28.741570Z",
     "iopub.status.busy": "2022-06-25T07:10:28.741104Z",
     "iopub.status.idle": "2022-06-25T07:10:28.755094Z",
     "shell.execute_reply": "2022-06-25T07:10:28.754523Z"
    }
   },
   "outputs": [
    {
     "data": {
      "text/latex": [
       "$\\displaystyle \\frac{a}{\\sqrt{a^{2} + b^{2} + c^{2}}}\\mathbf{\\hat{n}_x} + \\frac{b}{\\sqrt{a^{2} + b^{2} + c^{2}}}\\mathbf{\\hat{n}_y} + \\frac{c}{\\sqrt{a^{2} + b^{2} + c^{2}}}\\mathbf{\\hat{n}_z}$"
      ],
      "text/plain": [
       "        a                       b                       c\n",
       "───────────────── n_x + ───────────────── n_y + ───────────────── n_z\n",
       "   ______________          ______________          ______________\n",
       "  ╱  2    2    2          ╱  2    2    2          ╱  2    2    2\n",
       "╲╱  a  + b  + c         ╲╱  a  + b  + c         ╲╱  a  + b  + c"
      ]
     },
     "execution_count": 20,
     "metadata": {},
     "output_type": "execute_result"
    }
   ],
   "source": [
    "w.normalize()"
   ]
  },
  {
   "cell_type": "code",
   "execution_count": 21,
   "id": "33e14e6d",
   "metadata": {
    "execution": {
     "iopub.execute_input": "2022-06-25T07:10:28.757510Z",
     "iopub.status.busy": "2022-06-25T07:10:28.757038Z",
     "iopub.status.idle": "2022-06-25T07:10:28.766364Z",
     "shell.execute_reply": "2022-06-25T07:10:28.765847Z"
    }
   },
   "outputs": [
    {
     "data": {
      "text/latex": [
       "$\\displaystyle \\frac{a}{\\sqrt{a^{2} + b^{2} + c^{2}}}\\mathbf{\\hat{n}_x} + \\frac{b}{\\sqrt{a^{2} + b^{2} + c^{2}}}\\mathbf{\\hat{n}_y} + \\frac{c}{\\sqrt{a^{2} + b^{2} + c^{2}}}\\mathbf{\\hat{n}_z}$"
      ],
      "text/plain": [
       "        a                       b                       c\n",
       "───────────────── n_x + ───────────────── n_y + ───────────────── n_z\n",
       "   ______________          ______________          ______________\n",
       "  ╱  2    2    2          ╱  2    2    2          ╱  2    2    2\n",
       "╲╱  a  + b  + c         ╲╱  a  + b  + c         ╲╱  a  + b  + c"
      ]
     },
     "execution_count": 21,
     "metadata": {},
     "output_type": "execute_result"
    }
   ],
   "source": [
    "def normalize(vector):\n",
    "    return vector/sm.sqrt(me.dot(vector, vector))\n",
    "\n",
    "normalize(w)"
   ]
  },
  {
   "cell_type": "code",
   "execution_count": 22,
   "id": "6c4238ac",
   "metadata": {
    "execution": {
     "iopub.execute_input": "2022-06-25T07:10:28.768909Z",
     "iopub.status.busy": "2022-06-25T07:10:28.768610Z",
     "iopub.status.idle": "2022-06-25T07:10:28.775106Z",
     "shell.execute_reply": "2022-06-25T07:10:28.774590Z"
    }
   },
   "outputs": [
    {
     "data": {
      "text/latex": [
       "$\\displaystyle \\sqrt{a^{2} + b^{2} + c^{2}}$"
      ],
      "text/plain": [
       "   ______________\n",
       "  ╱  2    2    2 \n",
       "╲╱  a  + b  + c  "
      ]
     },
     "execution_count": 22,
     "metadata": {},
     "output_type": "execute_result"
    }
   ],
   "source": [
    "w.magnitude()"
   ]
  },
  {
   "cell_type": "code",
   "execution_count": 23,
   "id": "89ed96ff",
   "metadata": {
    "execution": {
     "iopub.execute_input": "2022-06-25T07:10:28.777608Z",
     "iopub.status.busy": "2022-06-25T07:10:28.777313Z",
     "iopub.status.idle": "2022-06-25T07:10:28.786183Z",
     "shell.execute_reply": "2022-06-25T07:10:28.785667Z"
    }
   },
   "outputs": [
    {
     "data": {
      "text/latex": [
       "$\\displaystyle \\frac{a}{\\sqrt{a^{2} + b^{2} + c^{2}}}\\mathbf{\\hat{n}_x} + \\frac{b}{\\sqrt{a^{2} + b^{2} + c^{2}}}\\mathbf{\\hat{n}_y} + \\frac{c}{\\sqrt{a^{2} + b^{2} + c^{2}}}\\mathbf{\\hat{n}_z}$"
      ],
      "text/plain": [
       "        a                       b                       c\n",
       "───────────────── n_x + ───────────────── n_y + ───────────────── n_z\n",
       "   ______________          ______________          ______________\n",
       "  ╱  2    2    2          ╱  2    2    2          ╱  2    2    2\n",
       "╲╱  a  + b  + c         ╲╱  a  + b  + c         ╲╱  a  + b  + c"
      ]
     },
     "execution_count": 23,
     "metadata": {},
     "output_type": "execute_result"
    }
   ],
   "source": [
    "w/w.magnitude()"
   ]
  },
  {
   "cell_type": "code",
   "execution_count": 24,
   "id": "58a6c829",
   "metadata": {
    "execution": {
     "iopub.execute_input": "2022-06-25T07:10:28.788899Z",
     "iopub.status.busy": "2022-06-25T07:10:28.788470Z",
     "iopub.status.idle": "2022-06-25T07:10:28.793668Z",
     "shell.execute_reply": "2022-06-25T07:10:28.793102Z"
    }
   },
   "outputs": [],
   "source": [
    "N = me.ReferenceFrame('N')\n",
    "v1 = a*N.x + b*N.y + a*N.z\n",
    "v2 = b*N.x + a*N.y + b*N.z"
   ]
  },
  {
   "cell_type": "code",
   "execution_count": 25,
   "id": "93251819",
   "metadata": {
    "execution": {
     "iopub.execute_input": "2022-06-25T07:10:28.796415Z",
     "iopub.status.busy": "2022-06-25T07:10:28.795948Z",
     "iopub.status.idle": "2022-06-25T07:10:28.815247Z",
     "shell.execute_reply": "2022-06-25T07:10:28.814565Z"
    }
   },
   "outputs": [
    {
     "data": {
      "text/latex": [
       "$\\displaystyle \\operatorname{acos}{\\left(\\frac{3 a b}{\\sqrt{a^{2} + 2 b^{2}} \\sqrt{2 a^{2} + b^{2}}} \\right)}$"
      ],
      "text/plain": [
       "    ⎛            3⋅a⋅b            ⎞\n",
       "acos⎜─────────────────────────────⎟\n",
       "    ⎜   ___________    ___________⎟\n",
       "    ⎜  ╱  2      2    ╱    2    2 ⎟\n",
       "    ⎝╲╱  a  + 2⋅b  ⋅╲╱  2⋅a  + b  ⎠"
      ]
     },
     "execution_count": 25,
     "metadata": {},
     "output_type": "execute_result"
    }
   ],
   "source": [
    "sm.acos(v1.dot(v2) / (v1.magnitude()*v2.magnitude()))"
   ]
  },
  {
   "cell_type": "code",
   "execution_count": 26,
   "id": "cd772a6c",
   "metadata": {
    "execution": {
     "iopub.execute_input": "2022-06-25T07:10:28.817946Z",
     "iopub.status.busy": "2022-06-25T07:10:28.817513Z",
     "iopub.status.idle": "2022-06-25T07:10:28.824802Z",
     "shell.execute_reply": "2022-06-25T07:10:28.824295Z"
    }
   },
   "outputs": [
    {
     "data": {
      "text/latex": [
       "$\\displaystyle a\\mathbf{\\hat{n}_x} + b\\mathbf{\\hat{n}_y} + c\\mathbf{\\hat{n}_z}$"
      ],
      "text/plain": [
       "a n_x + b n_y + c n_z"
      ]
     },
     "execution_count": 26,
     "metadata": {},
     "output_type": "execute_result"
    }
   ],
   "source": [
    "N = me.ReferenceFrame('N')\n",
    "w = a*N.x + b*N.y + c*N.z\n",
    "w"
   ]
  },
  {
   "cell_type": "code",
   "execution_count": 27,
   "id": "768b4f2d",
   "metadata": {
    "execution": {
     "iopub.execute_input": "2022-06-25T07:10:28.827498Z",
     "iopub.status.busy": "2022-06-25T07:10:28.827051Z",
     "iopub.status.idle": "2022-06-25T07:10:28.833424Z",
     "shell.execute_reply": "2022-06-25T07:10:28.832931Z"
    }
   },
   "outputs": [
    {
     "data": {
      "text/latex": [
       "$\\displaystyle d\\mathbf{\\hat{n}_x} + e\\mathbf{\\hat{n}_y} + f\\mathbf{\\hat{n}_z}$"
      ],
      "text/plain": [
       "d n_x + e n_y + f n_z"
      ]
     },
     "execution_count": 27,
     "metadata": {},
     "output_type": "execute_result"
    }
   ],
   "source": [
    "x = d*N.x + e*N.y + f*N.z\n",
    "x"
   ]
  },
  {
   "cell_type": "code",
   "execution_count": 28,
   "id": "a6fadb84",
   "metadata": {
    "execution": {
     "iopub.execute_input": "2022-06-25T07:10:28.836795Z",
     "iopub.status.busy": "2022-06-25T07:10:28.835649Z",
     "iopub.status.idle": "2022-06-25T07:10:28.847609Z",
     "shell.execute_reply": "2022-06-25T07:10:28.847110Z"
    }
   },
   "outputs": [
    {
     "data": {
      "text/latex": [
       "$\\displaystyle (b f - c e)\\mathbf{\\hat{n}_x} + (- a f + c d)\\mathbf{\\hat{n}_y} + (a e - b d)\\mathbf{\\hat{n}_z}$"
      ],
      "text/plain": [
       "(b⋅f - c⋅e) n_x + (-a⋅f + c⋅d) n_y + (a⋅e - b⋅d) n_z"
      ]
     },
     "execution_count": 28,
     "metadata": {},
     "output_type": "execute_result"
    }
   ],
   "source": [
    "me.cross(w, x)"
   ]
  },
  {
   "cell_type": "code",
   "execution_count": 29,
   "id": "f191634c",
   "metadata": {
    "execution": {
     "iopub.execute_input": "2022-06-25T07:10:28.850487Z",
     "iopub.status.busy": "2022-06-25T07:10:28.850029Z",
     "iopub.status.idle": "2022-06-25T07:10:28.859935Z",
     "shell.execute_reply": "2022-06-25T07:10:28.859443Z"
    }
   },
   "outputs": [
    {
     "data": {
      "text/latex": [
       "$\\displaystyle (b f - c e)\\mathbf{\\hat{n}_x} + (- a f + c d)\\mathbf{\\hat{n}_y} + (a e - b d)\\mathbf{\\hat{n}_z}$"
      ],
      "text/plain": [
       "(b⋅f - c⋅e) n_x + (-a⋅f + c⋅d) n_y + (a⋅e - b⋅d) n_z"
      ]
     },
     "execution_count": 29,
     "metadata": {},
     "output_type": "execute_result"
    }
   ],
   "source": [
    "w.cross(x)"
   ]
  },
  {
   "cell_type": "code",
   "execution_count": 30,
   "id": "7e337352",
   "metadata": {
    "execution": {
     "iopub.execute_input": "2022-06-25T07:10:28.862635Z",
     "iopub.status.busy": "2022-06-25T07:10:28.862196Z",
     "iopub.status.idle": "2022-06-25T07:10:28.874223Z",
     "shell.execute_reply": "2022-06-25T07:10:28.873435Z"
    }
   },
   "outputs": [
    {
     "data": {
      "text/latex": [
       "$\\displaystyle \\sqrt{36077}$"
      ],
      "text/plain": [
       "√36077"
      ]
     },
     "execution_count": 30,
     "metadata": {},
     "output_type": "execute_result"
    }
   ],
   "source": [
    "N = me.ReferenceFrame('N')\n",
    "\n",
    "p1 = 23*N.x - 12* N.y\n",
    "p2 = 16*N.x + 2*N.y - 4*N.z\n",
    "p3 = N.x + 14*N.z\n",
    "\n",
    "me.cross(p2 - p1, p3 - p1).magnitude() / 2"
   ]
  },
  {
   "cell_type": "code",
   "execution_count": 31,
   "id": "b590797d",
   "metadata": {
    "execution": {
     "iopub.execute_input": "2022-06-25T07:10:28.877660Z",
     "iopub.status.busy": "2022-06-25T07:10:28.876559Z",
     "iopub.status.idle": "2022-06-25T07:10:28.884679Z",
     "shell.execute_reply": "2022-06-25T07:10:28.883837Z"
    }
   },
   "outputs": [
    {
     "data": {
      "text/latex": [
       "$\\displaystyle a\\mathbf{\\hat{a}_x} + b\\mathbf{\\hat{n}_y}$"
      ],
      "text/plain": [
       "a a_x + b n_y"
      ]
     },
     "execution_count": 31,
     "metadata": {},
     "output_type": "execute_result"
    }
   ],
   "source": [
    "N = me.ReferenceFrame('N')\n",
    "A = me.ReferenceFrame('A')\n",
    "a, b, theta = sm.symbols('a, b, theta')\n",
    "\n",
    "v = a*A.x + b*N.y\n",
    "v"
   ]
  },
  {
   "cell_type": "code",
   "execution_count": 32,
   "id": "60df427c",
   "metadata": {
    "execution": {
     "iopub.execute_input": "2022-06-25T07:10:28.888125Z",
     "iopub.status.busy": "2022-06-25T07:10:28.887051Z",
     "iopub.status.idle": "2022-06-25T07:10:28.893709Z",
     "shell.execute_reply": "2022-06-25T07:10:28.893201Z"
    }
   },
   "outputs": [
    {
     "data": {
      "text/latex": [
       "$\\displaystyle 2 a\\mathbf{\\hat{a}_x} + 2 b\\mathbf{\\hat{n}_y}$"
      ],
      "text/plain": [
       "2⋅a a_x + 2⋅b n_y"
      ]
     },
     "execution_count": 32,
     "metadata": {},
     "output_type": "execute_result"
    }
   ],
   "source": [
    "v + v"
   ]
  },
  {
   "cell_type": "code",
   "execution_count": 33,
   "id": "e40782b4",
   "metadata": {
    "execution": {
     "iopub.execute_input": "2022-06-25T07:10:28.896152Z",
     "iopub.status.busy": "2022-06-25T07:10:28.895781Z",
     "iopub.status.idle": "2022-06-25T07:10:28.907240Z",
     "shell.execute_reply": "2022-06-25T07:10:28.906258Z"
    }
   },
   "outputs": [
    {
     "data": {
      "text/latex": [
       "$\\displaystyle a \\cos{\\left(\\theta \\right)}\\mathbf{\\hat{n}_x} + (a \\sin{\\left(\\theta \\right)} + b)\\mathbf{\\hat{n}_y}$"
      ],
      "text/plain": [
       "a⋅cos(θ) n_x + (a⋅sin(θ) + b) n_y"
      ]
     },
     "execution_count": 33,
     "metadata": {},
     "output_type": "execute_result"
    }
   ],
   "source": [
    "A.orient_axis(N, theta, N.z)\n",
    "\n",
    "v.express(N)"
   ]
  },
  {
   "cell_type": "code",
   "execution_count": 34,
   "id": "b9cfe71d",
   "metadata": {
    "execution": {
     "iopub.execute_input": "2022-06-25T07:10:28.909824Z",
     "iopub.status.busy": "2022-06-25T07:10:28.909522Z",
     "iopub.status.idle": "2022-06-25T07:10:28.915781Z",
     "shell.execute_reply": "2022-06-25T07:10:28.915220Z"
    }
   },
   "outputs": [
    {
     "data": {
      "text/latex": [
       "$\\displaystyle (a + b \\sin{\\left(\\theta \\right)})\\mathbf{\\hat{a}_x} + b \\cos{\\left(\\theta \\right)}\\mathbf{\\hat{a}_y}$"
      ],
      "text/plain": [
       "(a + b⋅sin(θ)) a_x + b⋅cos(θ) a_y"
      ]
     },
     "execution_count": 34,
     "metadata": {},
     "output_type": "execute_result"
    }
   ],
   "source": [
    "v.express(A)"
   ]
  },
  {
   "cell_type": "code",
   "execution_count": 35,
   "id": "3e15fc9e",
   "metadata": {
    "execution": {
     "iopub.execute_input": "2022-06-25T07:10:28.917942Z",
     "iopub.status.busy": "2022-06-25T07:10:28.917748Z",
     "iopub.status.idle": "2022-06-25T07:10:28.924149Z",
     "shell.execute_reply": "2022-06-25T07:10:28.923390Z"
    }
   },
   "outputs": [],
   "source": [
    "q1, q2, q3, q4, q5 = sm.symbols('q1, q2, q3, q4, q5')\n",
    "l1, l2, l3, l4 = sm.symbols('l1, l2, l3, l4')\n",
    "N = me.ReferenceFrame('N')\n",
    "A = me.ReferenceFrame('A')\n",
    "B = me.ReferenceFrame('B')\n",
    "C = me.ReferenceFrame('C')"
   ]
  },
  {
   "cell_type": "code",
   "execution_count": 36,
   "id": "09e3eb13",
   "metadata": {
    "execution": {
     "iopub.execute_input": "2022-06-25T07:10:28.926612Z",
     "iopub.status.busy": "2022-06-25T07:10:28.926171Z",
     "iopub.status.idle": "2022-06-25T07:10:28.947130Z",
     "shell.execute_reply": "2022-06-25T07:10:28.946627Z"
    }
   },
   "outputs": [],
   "source": [
    "A.orient_body_fixed(N, (q1, q2, 0), 'ZXZ')"
   ]
  },
  {
   "cell_type": "code",
   "execution_count": 37,
   "id": "fd8a0538",
   "metadata": {
    "execution": {
     "iopub.execute_input": "2022-06-25T07:10:28.949596Z",
     "iopub.status.busy": "2022-06-25T07:10:28.949106Z",
     "iopub.status.idle": "2022-06-25T07:10:28.955572Z",
     "shell.execute_reply": "2022-06-25T07:10:28.955057Z"
    }
   },
   "outputs": [],
   "source": [
    "B.orient_axis(A, q3, A.x)"
   ]
  },
  {
   "cell_type": "code",
   "execution_count": 38,
   "id": "9a12487a",
   "metadata": {
    "execution": {
     "iopub.execute_input": "2022-06-25T07:10:28.958241Z",
     "iopub.status.busy": "2022-06-25T07:10:28.957945Z",
     "iopub.status.idle": "2022-06-25T07:10:28.980795Z",
     "shell.execute_reply": "2022-06-25T07:10:28.980264Z"
    }
   },
   "outputs": [],
   "source": [
    "C.orient_body_fixed(B, (q4, q5, 0), 'XZX')"
   ]
  },
  {
   "cell_type": "code",
   "execution_count": 39,
   "id": "53dfbaa3",
   "metadata": {
    "execution": {
     "iopub.execute_input": "2022-06-25T07:10:28.984166Z",
     "iopub.status.busy": "2022-06-25T07:10:28.983069Z",
     "iopub.status.idle": "2022-06-25T07:10:28.988309Z",
     "shell.execute_reply": "2022-06-25T07:10:28.987794Z"
    }
   },
   "outputs": [],
   "source": [
    "R_P1_P2 = l1*A.z\n",
    "R_P2_P3 = l2*B.z\n",
    "R_P3_P4 = l3*C.z - l4*C.y"
   ]
  },
  {
   "cell_type": "code",
   "execution_count": 40,
   "id": "57f099cf",
   "metadata": {
    "execution": {
     "iopub.execute_input": "2022-06-25T07:10:28.991069Z",
     "iopub.status.busy": "2022-06-25T07:10:28.990617Z",
     "iopub.status.idle": "2022-06-25T07:10:28.997219Z",
     "shell.execute_reply": "2022-06-25T07:10:28.996728Z"
    }
   },
   "outputs": [
    {
     "data": {
      "text/latex": [
       "$\\displaystyle l_{1}\\mathbf{\\hat{a}_z} + l_{2}\\mathbf{\\hat{b}_z} -  l_{4}\\mathbf{\\hat{c}_y} + l_{3}\\mathbf{\\hat{c}_z}$"
      ],
      "text/plain": [
       "l₁ a_z + l₂ b_z + -l₄ c_y + l₃ c_z"
      ]
     },
     "execution_count": 40,
     "metadata": {},
     "output_type": "execute_result"
    }
   ],
   "source": [
    "R_P1_P4 = R_P1_P2 + R_P2_P3 + R_P3_P4\n",
    "R_P1_P4"
   ]
  },
  {
   "cell_type": "code",
   "execution_count": 41,
   "id": "c5bf4f8e",
   "metadata": {
    "execution": {
     "iopub.execute_input": "2022-06-25T07:10:28.999975Z",
     "iopub.status.busy": "2022-06-25T07:10:28.999524Z",
     "iopub.status.idle": "2022-06-25T07:10:29.080570Z",
     "shell.execute_reply": "2022-06-25T07:10:29.079933Z"
    }
   },
   "outputs": [
    {
     "data": {
      "text/latex": [
       "$\\displaystyle (l_{1} \\sin{\\left(q_{1} \\right)} \\sin{\\left(q_{2} \\right)} + l_{2} \\left(\\sin{\\left(q_{1} \\right)} \\sin{\\left(q_{2} \\right)} \\cos{\\left(q_{3} \\right)} + \\sin{\\left(q_{1} \\right)} \\sin{\\left(q_{3} \\right)} \\cos{\\left(q_{2} \\right)}\\right) + l_{3} \\left(- \\left(\\sin{\\left(q_{1} \\right)} \\sin{\\left(q_{2} \\right)} \\sin{\\left(q_{3} \\right)} - \\sin{\\left(q_{1} \\right)} \\cos{\\left(q_{2} \\right)} \\cos{\\left(q_{3} \\right)}\\right) \\sin{\\left(q_{4} \\right)} + \\left(\\sin{\\left(q_{1} \\right)} \\sin{\\left(q_{2} \\right)} \\cos{\\left(q_{3} \\right)} + \\sin{\\left(q_{1} \\right)} \\sin{\\left(q_{3} \\right)} \\cos{\\left(q_{2} \\right)}\\right) \\cos{\\left(q_{4} \\right)}\\right) - l_{4} \\left(\\left(\\sin{\\left(q_{1} \\right)} \\sin{\\left(q_{2} \\right)} \\sin{\\left(q_{3} \\right)} - \\sin{\\left(q_{1} \\right)} \\cos{\\left(q_{2} \\right)} \\cos{\\left(q_{3} \\right)}\\right) \\cos{\\left(q_{4} \\right)} \\cos{\\left(q_{5} \\right)} + \\left(\\sin{\\left(q_{1} \\right)} \\sin{\\left(q_{2} \\right)} \\cos{\\left(q_{3} \\right)} + \\sin{\\left(q_{1} \\right)} \\sin{\\left(q_{3} \\right)} \\cos{\\left(q_{2} \\right)}\\right) \\sin{\\left(q_{4} \\right)} \\cos{\\left(q_{5} \\right)} - \\sin{\\left(q_{5} \\right)} \\cos{\\left(q_{1} \\right)}\\right))\\mathbf{\\hat{n}_x} + (- l_{1} \\sin{\\left(q_{2} \\right)} \\cos{\\left(q_{1} \\right)} + l_{2} \\left(- \\sin{\\left(q_{2} \\right)} \\cos{\\left(q_{1} \\right)} \\cos{\\left(q_{3} \\right)} - \\sin{\\left(q_{3} \\right)} \\cos{\\left(q_{1} \\right)} \\cos{\\left(q_{2} \\right)}\\right) + l_{3} \\left(- \\left(- \\sin{\\left(q_{2} \\right)} \\sin{\\left(q_{3} \\right)} \\cos{\\left(q_{1} \\right)} + \\cos{\\left(q_{1} \\right)} \\cos{\\left(q_{2} \\right)} \\cos{\\left(q_{3} \\right)}\\right) \\sin{\\left(q_{4} \\right)} + \\left(- \\sin{\\left(q_{2} \\right)} \\cos{\\left(q_{1} \\right)} \\cos{\\left(q_{3} \\right)} - \\sin{\\left(q_{3} \\right)} \\cos{\\left(q_{1} \\right)} \\cos{\\left(q_{2} \\right)}\\right) \\cos{\\left(q_{4} \\right)}\\right) - l_{4} \\left(\\left(- \\sin{\\left(q_{2} \\right)} \\sin{\\left(q_{3} \\right)} \\cos{\\left(q_{1} \\right)} + \\cos{\\left(q_{1} \\right)} \\cos{\\left(q_{2} \\right)} \\cos{\\left(q_{3} \\right)}\\right) \\cos{\\left(q_{4} \\right)} \\cos{\\left(q_{5} \\right)} + \\left(- \\sin{\\left(q_{2} \\right)} \\cos{\\left(q_{1} \\right)} \\cos{\\left(q_{3} \\right)} - \\sin{\\left(q_{3} \\right)} \\cos{\\left(q_{1} \\right)} \\cos{\\left(q_{2} \\right)}\\right) \\sin{\\left(q_{4} \\right)} \\cos{\\left(q_{5} \\right)} - \\sin{\\left(q_{1} \\right)} \\sin{\\left(q_{5} \\right)}\\right))\\mathbf{\\hat{n}_y} + (l_{1} \\cos{\\left(q_{2} \\right)} + l_{2} \\left(- \\sin{\\left(q_{2} \\right)} \\sin{\\left(q_{3} \\right)} + \\cos{\\left(q_{2} \\right)} \\cos{\\left(q_{3} \\right)}\\right) + l_{3} \\left(\\left(- \\sin{\\left(q_{2} \\right)} \\sin{\\left(q_{3} \\right)} + \\cos{\\left(q_{2} \\right)} \\cos{\\left(q_{3} \\right)}\\right) \\cos{\\left(q_{4} \\right)} - \\left(\\sin{\\left(q_{2} \\right)} \\cos{\\left(q_{3} \\right)} + \\sin{\\left(q_{3} \\right)} \\cos{\\left(q_{2} \\right)}\\right) \\sin{\\left(q_{4} \\right)}\\right) - l_{4} \\left(\\left(- \\sin{\\left(q_{2} \\right)} \\sin{\\left(q_{3} \\right)} + \\cos{\\left(q_{2} \\right)} \\cos{\\left(q_{3} \\right)}\\right) \\sin{\\left(q_{4} \\right)} \\cos{\\left(q_{5} \\right)} + \\left(\\sin{\\left(q_{2} \\right)} \\cos{\\left(q_{3} \\right)} + \\sin{\\left(q_{3} \\right)} \\cos{\\left(q_{2} \\right)}\\right) \\cos{\\left(q_{4} \\right)} \\cos{\\left(q_{5} \\right)}\\right))\\mathbf{\\hat{n}_z}$"
      ],
      "text/plain": [
       "(l₁⋅sin(q₁)⋅sin(q₂) + l₂⋅(sin(q₁)⋅sin(q₂)⋅cos(q₃) + sin(q₁)⋅sin(q₃)⋅cos(q₂)) +\n",
       " l₃⋅(-(sin(q₁)⋅sin(q₂)⋅sin(q₃) - sin(q₁)⋅cos(q₂)⋅cos(q₃))⋅sin(q₄) + (sin(q₁)⋅s\n",
       "in(q₂)⋅cos(q₃) + sin(q₁)⋅sin(q₃)⋅cos(q₂))⋅cos(q₄)) - l₄⋅((sin(q₁)⋅sin(q₂)⋅sin(\n",
       "q₃) - sin(q₁)⋅cos(q₂)⋅cos(q₃))⋅cos(q₄)⋅cos(q₅) + (sin(q₁)⋅sin(q₂)⋅cos(q₃) + si\n",
       "n(q₁)⋅sin(q₃)⋅cos(q₂))⋅sin(q₄)⋅cos(q₅) - sin(q₅)⋅cos(q₁))) n_x + (-l₁⋅sin(q₂)⋅\n",
       "cos(q₁) + l₂⋅(-sin(q₂)⋅cos(q₁)⋅cos(q₃) - sin(q₃)⋅cos(q₁)⋅cos(q₂)) + l₃⋅(-(-sin\n",
       "(q₂)⋅sin(q₃)⋅cos(q₁) + cos(q₁)⋅cos(q₂)⋅cos(q₃))⋅sin(q₄) + (-sin(q₂)⋅cos(q₁)⋅co\n",
       "s(q₃) - sin(q₃)⋅cos(q₁)⋅cos(q₂))⋅cos(q₄)) - l₄⋅((-sin(q₂)⋅sin(q₃)⋅cos(q₁) + co\n",
       "s(q₁)⋅cos(q₂)⋅cos(q₃))⋅cos(q₄)⋅cos(q₅) + (-sin(q₂)⋅cos(q₁)⋅cos(q₃) - sin(q₃)⋅c\n",
       "os(q₁)⋅cos(q₂))⋅sin(q₄)⋅cos(q₅) - sin(q₁)⋅sin(q₅))) n_y + (l₁⋅cos(q₂) + l₂⋅(-s\n",
       "in(q₂)⋅sin(q₃) + cos(q₂)⋅cos(q₃)) + l₃⋅((-sin(q₂)⋅sin(q₃) + cos(q₂)⋅cos(q₃))⋅c\n",
       "os(q₄) - (sin(q₂)⋅cos(q₃) + sin(q₃)⋅cos(q₂))⋅sin(q₄)) - l₄⋅((-sin(q₂)⋅sin(q₃)\n",
       "+ cos(q₂)⋅cos(q₃))⋅sin(q₄)⋅cos(q₅) + (sin(q₂)⋅cos(q₃) + sin(q₃)⋅cos(q₂))⋅cos(q\n",
       "₄)⋅cos(q₅))) n_z"
      ]
     },
     "execution_count": 41,
     "metadata": {},
     "output_type": "execute_result"
    }
   ],
   "source": [
    "R_P1_P4.express(N)"
   ]
  },
  {
   "cell_type": "code",
   "execution_count": 42,
   "id": "2f308925",
   "metadata": {
    "execution": {
     "iopub.execute_input": "2022-06-25T07:10:29.083617Z",
     "iopub.status.busy": "2022-06-25T07:10:29.083154Z",
     "iopub.status.idle": "2022-06-25T07:10:29.091101Z",
     "shell.execute_reply": "2022-06-25T07:10:29.090590Z"
    }
   },
   "outputs": [
    {
     "data": {
      "text/latex": [
       "$\\displaystyle l_{1} \\sin{\\left(q_{1} \\right)} \\sin{\\left(q_{2} \\right)}\\mathbf{\\hat{n}_x} -  l_{1} \\sin{\\left(q_{2} \\right)} \\cos{\\left(q_{1} \\right)}\\mathbf{\\hat{n}_y} + l_{1} \\cos{\\left(q_{2} \\right)}\\mathbf{\\hat{n}_z}$"
      ],
      "text/plain": [
       "l₁⋅sin(q₁)⋅sin(q₂) n_x + -l₁⋅sin(q₂)⋅cos(q₁) n_y + l₁⋅cos(q₂) n_z"
      ]
     },
     "execution_count": 42,
     "metadata": {},
     "output_type": "execute_result"
    }
   ],
   "source": [
    "R_P1_P2.express(N)"
   ]
  },
  {
   "cell_type": "code",
   "execution_count": 43,
   "id": "060c2f38",
   "metadata": {
    "execution": {
     "iopub.execute_input": "2022-06-25T07:10:29.093889Z",
     "iopub.status.busy": "2022-06-25T07:10:29.093582Z",
     "iopub.status.idle": "2022-06-25T07:10:29.100408Z",
     "shell.execute_reply": "2022-06-25T07:10:29.099897Z"
    }
   },
   "outputs": [
    {
     "data": {
      "text/latex": [
       "$\\displaystyle \\left\\{l_{1}, q_{1}, q_{2}\\right\\}$"
      ],
      "text/plain": [
       "{l₁, q₁, q₂}"
      ]
     },
     "execution_count": 43,
     "metadata": {},
     "output_type": "execute_result"
    }
   ],
   "source": [
    "R_P1_P2.free_symbols(N)"
   ]
  },
  {
   "cell_type": "code",
   "execution_count": 44,
   "id": "d8059d0f",
   "metadata": {
    "execution": {
     "iopub.execute_input": "2022-06-25T07:10:29.103187Z",
     "iopub.status.busy": "2022-06-25T07:10:29.102699Z",
     "iopub.status.idle": "2022-06-25T07:10:29.109579Z",
     "shell.execute_reply": "2022-06-25T07:10:29.109060Z"
    }
   },
   "outputs": [
    {
     "data": {
      "text/latex": [
       "$\\displaystyle \\left\\{l_{1}\\right\\}$"
      ],
      "text/plain": [
       "{l₁}"
      ]
     },
     "execution_count": 44,
     "metadata": {},
     "output_type": "execute_result"
    }
   ],
   "source": [
    "R_P1_P2.free_symbols(A)"
   ]
  },
  {
   "cell_type": "code",
   "execution_count": 45,
   "id": "42109937",
   "metadata": {
    "execution": {
     "iopub.execute_input": "2022-06-25T07:10:29.113091Z",
     "iopub.status.busy": "2022-06-25T07:10:29.111930Z",
     "iopub.status.idle": "2022-06-25T07:10:29.120757Z",
     "shell.execute_reply": "2022-06-25T07:10:29.120224Z"
    }
   },
   "outputs": [
    {
     "data": {
      "text/latex": [
       "$\\displaystyle \\left\\{l_{1}, l_{2}, l_{3}, l_{4}, q_{1}, q_{2}, q_{3}, q_{4}, q_{5}\\right\\}$"
      ],
      "text/plain": [
       "{l₁, l₂, l₃, l₄, q₁, q₂, q₃, q₄, q₅}"
      ]
     },
     "execution_count": 45,
     "metadata": {},
     "output_type": "execute_result"
    }
   ],
   "source": [
    "R_P1_P4.free_symbols(N)"
   ]
  }
 ],
 "metadata": {
  "kernelspec": {
   "display_name": "Python 3 (ipykernel)",
   "language": "python",
   "name": "python3"
  },
  "language_info": {
   "codemirror_mode": {
    "name": "ipython",
    "version": 3
   },
   "file_extension": ".py",
   "mimetype": "text/x-python",
   "name": "python",
   "nbconvert_exporter": "python",
   "pygments_lexer": "ipython3",
   "version": "3.9.13"
  }
 },
 "nbformat": 4,
 "nbformat_minor": 5
}