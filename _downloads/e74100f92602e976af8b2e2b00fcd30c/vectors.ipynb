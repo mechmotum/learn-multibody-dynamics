{
 "cells": [
  {
   "cell_type": "code",
   "execution_count": 1,
   "id": "bc212400",
   "metadata": {
    "execution": {
     "iopub.execute_input": "2022-07-17T09:01:28.222651Z",
     "iopub.status.busy": "2022-07-17T09:01:28.222003Z",
     "iopub.status.idle": "2022-07-17T09:01:28.685724Z",
     "shell.execute_reply": "2022-07-17T09:01:28.685068Z"
    }
   },
   "outputs": [],
   "source": [
    "import sympy as sm\n",
    "import sympy.physics.mechanics as me\n",
    "sm.init_printing(use_latex='mathjax')"
   ]
  },
  {
   "cell_type": "code",
   "execution_count": 2,
   "id": "0cb91d46",
   "metadata": {
    "execution": {
     "iopub.execute_input": "2022-07-17T09:01:28.689016Z",
     "iopub.status.busy": "2022-07-17T09:01:28.688740Z",
     "iopub.status.idle": "2022-07-17T09:01:28.692231Z",
     "shell.execute_reply": "2022-07-17T09:01:28.691634Z"
    }
   },
   "outputs": [],
   "source": [
    "N = me.ReferenceFrame('N')"
   ]
  },
  {
   "cell_type": "code",
   "execution_count": 3,
   "id": "01f49787",
   "metadata": {
    "execution": {
     "iopub.execute_input": "2022-07-17T09:01:28.694730Z",
     "iopub.status.busy": "2022-07-17T09:01:28.694527Z",
     "iopub.status.idle": "2022-07-17T09:01:28.697409Z",
     "shell.execute_reply": "2022-07-17T09:01:28.696827Z"
    }
   },
   "outputs": [],
   "source": [
    "a, b, c, d, e, f = sm.symbols('a, b, c, d, e, f')"
   ]
  },
  {
   "cell_type": "code",
   "execution_count": 4,
   "id": "e28d9033",
   "metadata": {
    "execution": {
     "iopub.execute_input": "2022-07-17T09:01:28.699860Z",
     "iopub.status.busy": "2022-07-17T09:01:28.699660Z",
     "iopub.status.idle": "2022-07-17T09:01:28.705538Z",
     "shell.execute_reply": "2022-07-17T09:01:28.704964Z"
    }
   },
   "outputs": [
    {
     "data": {
      "text/latex": [
       "$\\displaystyle a\\mathbf{\\hat{n}_x}$"
      ],
      "text/plain": [
       "a n_x"
      ]
     },
     "execution_count": 4,
     "metadata": {},
     "output_type": "execute_result"
    }
   ],
   "source": [
    "v = a*N.x\n",
    "v"
   ]
  },
  {
   "cell_type": "code",
   "execution_count": 5,
   "id": "3f9baea2",
   "metadata": {
    "execution": {
     "iopub.execute_input": "2022-07-17T09:01:28.708857Z",
     "iopub.status.busy": "2022-07-17T09:01:28.708660Z",
     "iopub.status.idle": "2022-07-17T09:01:28.714383Z",
     "shell.execute_reply": "2022-07-17T09:01:28.713802Z"
    }
   },
   "outputs": [
    {
     "data": {
      "text/latex": [
       "$\\displaystyle \\left[\\begin{matrix}a\\\\0\\\\0\\end{matrix}\\right]$"
      ],
      "text/plain": [
       "⎡a⎤\n",
       "⎢ ⎥\n",
       "⎢0⎥\n",
       "⎢ ⎥\n",
       "⎣0⎦"
      ]
     },
     "execution_count": 5,
     "metadata": {},
     "output_type": "execute_result"
    }
   ],
   "source": [
    "v.to_matrix(N)"
   ]
  },
  {
   "cell_type": "code",
   "execution_count": 6,
   "id": "7767780f",
   "metadata": {
    "execution": {
     "iopub.execute_input": "2022-07-17T09:01:28.717282Z",
     "iopub.status.busy": "2022-07-17T09:01:28.717085Z",
     "iopub.status.idle": "2022-07-17T09:01:28.723054Z",
     "shell.execute_reply": "2022-07-17T09:01:28.722469Z"
    }
   },
   "outputs": [
    {
     "data": {
      "text/latex": [
       "$\\displaystyle a\\mathbf{\\hat{n}_x} + b\\mathbf{\\hat{n}_y} + c\\mathbf{\\hat{n}_z}$"
      ],
      "text/plain": [
       "a n_x + b n_y + c n_z"
      ]
     },
     "execution_count": 6,
     "metadata": {},
     "output_type": "execute_result"
    }
   ],
   "source": [
    "w = a*N.x + b*N.y + c*N.z\n",
    "w"
   ]
  },
  {
   "cell_type": "code",
   "execution_count": 7,
   "id": "7400311b",
   "metadata": {
    "execution": {
     "iopub.execute_input": "2022-07-17T09:01:28.725971Z",
     "iopub.status.busy": "2022-07-17T09:01:28.725773Z",
     "iopub.status.idle": "2022-07-17T09:01:28.731425Z",
     "shell.execute_reply": "2022-07-17T09:01:28.730857Z"
    }
   },
   "outputs": [
    {
     "data": {
      "text/latex": [
       "$\\displaystyle \\left[\\begin{matrix}a\\\\b\\\\c\\end{matrix}\\right]$"
      ],
      "text/plain": [
       "⎡a⎤\n",
       "⎢ ⎥\n",
       "⎢b⎥\n",
       "⎢ ⎥\n",
       "⎣c⎦"
      ]
     },
     "execution_count": 7,
     "metadata": {},
     "output_type": "execute_result"
    }
   ],
   "source": [
    "w.to_matrix(N)"
   ]
  },
  {
   "cell_type": "code",
   "execution_count": 8,
   "id": "e9a638f6",
   "metadata": {
    "execution": {
     "iopub.execute_input": "2022-07-17T09:01:28.734287Z",
     "iopub.status.busy": "2022-07-17T09:01:28.734090Z",
     "iopub.status.idle": "2022-07-17T09:01:28.738972Z",
     "shell.execute_reply": "2022-07-17T09:01:28.738408Z"
    }
   },
   "outputs": [
    {
     "data": {
      "text/latex": [
       "$\\displaystyle d\\mathbf{\\hat{n}_x} + e\\mathbf{\\hat{n}_y} + f\\mathbf{\\hat{n}_z}$"
      ],
      "text/plain": [
       "d n_x + e n_y + f n_z"
      ]
     },
     "execution_count": 8,
     "metadata": {},
     "output_type": "execute_result"
    }
   ],
   "source": [
    "x = d*N.x + e*N.y + f*N.z\n",
    "x"
   ]
  },
  {
   "cell_type": "code",
   "execution_count": 9,
   "id": "4bbf338d",
   "metadata": {
    "execution": {
     "iopub.execute_input": "2022-07-17T09:01:28.741879Z",
     "iopub.status.busy": "2022-07-17T09:01:28.741680Z",
     "iopub.status.idle": "2022-07-17T09:01:28.747255Z",
     "shell.execute_reply": "2022-07-17T09:01:28.746686Z"
    }
   },
   "outputs": [
    {
     "data": {
      "text/latex": [
       "$\\displaystyle (a + d)\\mathbf{\\hat{n}_x} + (b + e)\\mathbf{\\hat{n}_y} + (c + f)\\mathbf{\\hat{n}_z}$"
      ],
      "text/plain": [
       "(a + d) n_x + (b + e) n_y + (c + f) n_z"
      ]
     },
     "execution_count": 9,
     "metadata": {},
     "output_type": "execute_result"
    }
   ],
   "source": [
    "w + x"
   ]
  },
  {
   "cell_type": "code",
   "execution_count": 10,
   "id": "f14ba087",
   "metadata": {
    "execution": {
     "iopub.execute_input": "2022-07-17T09:01:28.750158Z",
     "iopub.status.busy": "2022-07-17T09:01:28.749959Z",
     "iopub.status.idle": "2022-07-17T09:01:28.755138Z",
     "shell.execute_reply": "2022-07-17T09:01:28.754557Z"
    }
   },
   "outputs": [
    {
     "data": {
      "text/latex": [
       "$\\displaystyle 2 a\\mathbf{\\hat{n}_x} + 2 b\\mathbf{\\hat{n}_y} + 2 c\\mathbf{\\hat{n}_z}$"
      ],
      "text/plain": [
       "2⋅a n_x + 2⋅b n_y + 2⋅c n_z"
      ]
     },
     "execution_count": 10,
     "metadata": {},
     "output_type": "execute_result"
    }
   ],
   "source": [
    "y = 2*w\n",
    "y"
   ]
  },
  {
   "cell_type": "code",
   "execution_count": 11,
   "id": "e74f163a",
   "metadata": {
    "execution": {
     "iopub.execute_input": "2022-07-17T09:01:28.758002Z",
     "iopub.status.busy": "2022-07-17T09:01:28.757804Z",
     "iopub.status.idle": "2022-07-17T09:01:28.762573Z",
     "shell.execute_reply": "2022-07-17T09:01:28.761993Z"
    }
   },
   "outputs": [
    {
     "data": {
      "text/latex": [
       "$\\displaystyle -  a\\mathbf{\\hat{n}_x} -  b\\mathbf{\\hat{n}_y} -  c\\mathbf{\\hat{n}_z}$"
      ],
      "text/plain": [
       "-a n_x + -b n_y + -c n_z"
      ]
     },
     "execution_count": 11,
     "metadata": {},
     "output_type": "execute_result"
    }
   ],
   "source": [
    "z = -w\n",
    "z"
   ]
  },
  {
   "cell_type": "code",
   "execution_count": 12,
   "id": "0ddd4560",
   "metadata": {
    "execution": {
     "iopub.execute_input": "2022-07-17T09:01:28.765443Z",
     "iopub.status.busy": "2022-07-17T09:01:28.765246Z",
     "iopub.status.idle": "2022-07-17T09:01:28.769219Z",
     "shell.execute_reply": "2022-07-17T09:01:28.768626Z"
    }
   },
   "outputs": [],
   "source": [
    "N = me.ReferenceFrame('N')\n",
    "l, theta = sm.symbols('l, theta')"
   ]
  },
  {
   "cell_type": "code",
   "execution_count": 13,
   "id": "935644e1",
   "metadata": {
    "execution": {
     "iopub.execute_input": "2022-07-17T09:01:28.771651Z",
     "iopub.status.busy": "2022-07-17T09:01:28.771454Z",
     "iopub.status.idle": "2022-07-17T09:01:28.780878Z",
     "shell.execute_reply": "2022-07-17T09:01:28.780294Z"
    }
   },
   "outputs": [
    {
     "data": {
      "text/latex": [
       "$\\displaystyle \\frac{\\sqrt{2} l}{2}\\mathbf{\\hat{n}_x} + \\frac{\\sqrt{2} l}{2}\\mathbf{\\hat{n}_y}$"
      ],
      "text/plain": [
       "√2⋅l       √2⋅l\n",
       "──── n_x + ──── n_y\n",
       " 2          2"
      ]
     },
     "execution_count": 13,
     "metadata": {},
     "output_type": "execute_result"
    }
   ],
   "source": [
    "v1 = l*sm.cos(sm.pi/4)*N.x + l*sm.sin(sm.pi/4)*N.y\n",
    "v1"
   ]
  },
  {
   "cell_type": "code",
   "execution_count": 14,
   "id": "ff22e1f3",
   "metadata": {
    "execution": {
     "iopub.execute_input": "2022-07-17T09:01:28.783741Z",
     "iopub.status.busy": "2022-07-17T09:01:28.783542Z",
     "iopub.status.idle": "2022-07-17T09:01:28.787624Z",
     "shell.execute_reply": "2022-07-17T09:01:28.787053Z"
    }
   },
   "outputs": [
    {
     "data": {
      "text/latex": [
       "$\\displaystyle - 10\\mathbf{\\hat{n}_y}$"
      ],
      "text/plain": [
       "-10 n_y"
      ]
     },
     "execution_count": 14,
     "metadata": {},
     "output_type": "execute_result"
    }
   ],
   "source": [
    "v2 = -10*N.y\n",
    "v2"
   ]
  },
  {
   "cell_type": "code",
   "execution_count": 15,
   "id": "63ca7e3c",
   "metadata": {
    "execution": {
     "iopub.execute_input": "2022-07-17T09:01:28.790354Z",
     "iopub.status.busy": "2022-07-17T09:01:28.790043Z",
     "iopub.status.idle": "2022-07-17T09:01:28.796822Z",
     "shell.execute_reply": "2022-07-17T09:01:28.796237Z"
    }
   },
   "outputs": [
    {
     "data": {
      "text/latex": [
       "$\\displaystyle -  l \\sin{\\left(\\theta \\right)}\\mathbf{\\hat{n}_x} + l \\cos{\\left(\\theta \\right)}\\mathbf{\\hat{n}_y}$"
      ],
      "text/plain": [
       "-l⋅sin(θ) n_x + l⋅cos(θ) n_y"
      ]
     },
     "execution_count": 15,
     "metadata": {},
     "output_type": "execute_result"
    }
   ],
   "source": [
    "v3 = -l*sm.sin(theta)*N.x + l*sm.cos(theta)*N.y\n",
    "v3"
   ]
  },
  {
   "cell_type": "code",
   "execution_count": 16,
   "id": "ab0291ed",
   "metadata": {
    "execution": {
     "iopub.execute_input": "2022-07-17T09:01:28.799723Z",
     "iopub.status.busy": "2022-07-17T09:01:28.799242Z",
     "iopub.status.idle": "2022-07-17T09:01:28.807817Z",
     "shell.execute_reply": "2022-07-17T09:01:28.807218Z"
    }
   },
   "outputs": [
    {
     "data": {
      "text/latex": [
       "$\\displaystyle (5 l \\sin{\\left(\\theta \\right)} + \\frac{\\sqrt{2} l}{2})\\mathbf{\\hat{n}_x} + (- 5 l \\cos{\\left(\\theta \\right)} + \\frac{\\sqrt{2} l}{2} - 10)\\mathbf{\\hat{n}_y}$"
      ],
      "text/plain": [
       "⎛             √2⋅l⎞       ⎛              √2⋅l     ⎞\n",
       "⎜5⋅l⋅sin(θ) + ────⎟ n_x + ⎜-5⋅l⋅cos(θ) + ──── - 10⎟ n_y\n",
       "⎝              2  ⎠       ⎝               2       ⎠"
      ]
     },
     "execution_count": 16,
     "metadata": {},
     "output_type": "execute_result"
    }
   ],
   "source": [
    "v1 + v2 - 5*v3"
   ]
  },
  {
   "cell_type": "code",
   "execution_count": 17,
   "id": "f0be4be0",
   "metadata": {
    "execution": {
     "iopub.execute_input": "2022-07-17T09:01:28.810319Z",
     "iopub.status.busy": "2022-07-17T09:01:28.809930Z",
     "iopub.status.idle": "2022-07-17T09:01:28.814796Z",
     "shell.execute_reply": "2022-07-17T09:01:28.814193Z"
    }
   },
   "outputs": [],
   "source": [
    "N = me.ReferenceFrame('N')\n",
    "w = a*N.x + b*N.y + c*N.z\n",
    "x = d*N.x + e*N.y + f*N.z"
   ]
  },
  {
   "cell_type": "code",
   "execution_count": 18,
   "id": "848a3e22",
   "metadata": {
    "execution": {
     "iopub.execute_input": "2022-07-17T09:01:28.817249Z",
     "iopub.status.busy": "2022-07-17T09:01:28.816777Z",
     "iopub.status.idle": "2022-07-17T09:01:28.823042Z",
     "shell.execute_reply": "2022-07-17T09:01:28.822479Z"
    }
   },
   "outputs": [
    {
     "data": {
      "text/latex": [
       "$\\displaystyle a d + b e + c f$"
      ],
      "text/plain": [
       "a⋅d + b⋅e + c⋅f"
      ]
     },
     "execution_count": 18,
     "metadata": {},
     "output_type": "execute_result"
    }
   ],
   "source": [
    "me.dot(w, x)"
   ]
  },
  {
   "cell_type": "code",
   "execution_count": 19,
   "id": "b8ec9334",
   "metadata": {
    "execution": {
     "iopub.execute_input": "2022-07-17T09:01:28.826022Z",
     "iopub.status.busy": "2022-07-17T09:01:28.825490Z",
     "iopub.status.idle": "2022-07-17T09:01:28.830836Z",
     "shell.execute_reply": "2022-07-17T09:01:28.830265Z"
    }
   },
   "outputs": [
    {
     "data": {
      "text/latex": [
       "$\\displaystyle a d + b e + c f$"
      ],
      "text/plain": [
       "a⋅d + b⋅e + c⋅f"
      ]
     },
     "execution_count": 19,
     "metadata": {},
     "output_type": "execute_result"
    }
   ],
   "source": [
    "w.dot(x)"
   ]
  },
  {
   "cell_type": "code",
   "execution_count": 20,
   "id": "12910977",
   "metadata": {
    "execution": {
     "iopub.execute_input": "2022-07-17T09:01:28.833186Z",
     "iopub.status.busy": "2022-07-17T09:01:28.832875Z",
     "iopub.status.idle": "2022-07-17T09:01:28.847008Z",
     "shell.execute_reply": "2022-07-17T09:01:28.846433Z"
    }
   },
   "outputs": [
    {
     "data": {
      "text/latex": [
       "$\\displaystyle \\frac{a}{\\sqrt{a^{2} + b^{2} + c^{2}}}\\mathbf{\\hat{n}_x} + \\frac{b}{\\sqrt{a^{2} + b^{2} + c^{2}}}\\mathbf{\\hat{n}_y} + \\frac{c}{\\sqrt{a^{2} + b^{2} + c^{2}}}\\mathbf{\\hat{n}_z}$"
      ],
      "text/plain": [
       "        a                       b                       c\n",
       "───────────────── n_x + ───────────────── n_y + ───────────────── n_z\n",
       "   ______________          ______________          ______________\n",
       "  ╱  2    2    2          ╱  2    2    2          ╱  2    2    2\n",
       "╲╱  a  + b  + c         ╲╱  a  + b  + c         ╲╱  a  + b  + c"
      ]
     },
     "execution_count": 20,
     "metadata": {},
     "output_type": "execute_result"
    }
   ],
   "source": [
    "w.normalize()"
   ]
  },
  {
   "cell_type": "code",
   "execution_count": 21,
   "id": "f3c28d28",
   "metadata": {
    "execution": {
     "iopub.execute_input": "2022-07-17T09:01:28.849555Z",
     "iopub.status.busy": "2022-07-17T09:01:28.849020Z",
     "iopub.status.idle": "2022-07-17T09:01:28.857027Z",
     "shell.execute_reply": "2022-07-17T09:01:28.856455Z"
    }
   },
   "outputs": [
    {
     "data": {
      "text/latex": [
       "$\\displaystyle \\frac{a}{\\sqrt{a^{2} + b^{2} + c^{2}}}\\mathbf{\\hat{n}_x} + \\frac{b}{\\sqrt{a^{2} + b^{2} + c^{2}}}\\mathbf{\\hat{n}_y} + \\frac{c}{\\sqrt{a^{2} + b^{2} + c^{2}}}\\mathbf{\\hat{n}_z}$"
      ],
      "text/plain": [
       "        a                       b                       c\n",
       "───────────────── n_x + ───────────────── n_y + ───────────────── n_z\n",
       "   ______________          ______________          ______________\n",
       "  ╱  2    2    2          ╱  2    2    2          ╱  2    2    2\n",
       "╲╱  a  + b  + c         ╲╱  a  + b  + c         ╲╱  a  + b  + c"
      ]
     },
     "execution_count": 21,
     "metadata": {},
     "output_type": "execute_result"
    }
   ],
   "source": [
    "def normalize(vector):\n",
    "    return vector/sm.sqrt(me.dot(vector, vector))\n",
    "\n",
    "normalize(w)"
   ]
  },
  {
   "cell_type": "code",
   "execution_count": 22,
   "id": "2a65176a",
   "metadata": {
    "execution": {
     "iopub.execute_input": "2022-07-17T09:01:28.859865Z",
     "iopub.status.busy": "2022-07-17T09:01:28.859329Z",
     "iopub.status.idle": "2022-07-17T09:01:28.864590Z",
     "shell.execute_reply": "2022-07-17T09:01:28.864012Z"
    }
   },
   "outputs": [
    {
     "data": {
      "text/latex": [
       "$\\displaystyle \\sqrt{a^{2} + b^{2} + c^{2}}$"
      ],
      "text/plain": [
       "   ______________\n",
       "  ╱  2    2    2 \n",
       "╲╱  a  + b  + c  "
      ]
     },
     "execution_count": 22,
     "metadata": {},
     "output_type": "execute_result"
    }
   ],
   "source": [
    "w.magnitude()"
   ]
  },
  {
   "cell_type": "code",
   "execution_count": 23,
   "id": "142cbb01",
   "metadata": {
    "execution": {
     "iopub.execute_input": "2022-07-17T09:01:28.866848Z",
     "iopub.status.busy": "2022-07-17T09:01:28.866650Z",
     "iopub.status.idle": "2022-07-17T09:01:28.874013Z",
     "shell.execute_reply": "2022-07-17T09:01:28.873439Z"
    }
   },
   "outputs": [
    {
     "data": {
      "text/latex": [
       "$\\displaystyle \\frac{a}{\\sqrt{a^{2} + b^{2} + c^{2}}}\\mathbf{\\hat{n}_x} + \\frac{b}{\\sqrt{a^{2} + b^{2} + c^{2}}}\\mathbf{\\hat{n}_y} + \\frac{c}{\\sqrt{a^{2} + b^{2} + c^{2}}}\\mathbf{\\hat{n}_z}$"
      ],
      "text/plain": [
       "        a                       b                       c\n",
       "───────────────── n_x + ───────────────── n_y + ───────────────── n_z\n",
       "   ______________          ______________          ______________\n",
       "  ╱  2    2    2          ╱  2    2    2          ╱  2    2    2\n",
       "╲╱  a  + b  + c         ╲╱  a  + b  + c         ╲╱  a  + b  + c"
      ]
     },
     "execution_count": 23,
     "metadata": {},
     "output_type": "execute_result"
    }
   ],
   "source": [
    "w/w.magnitude()"
   ]
  },
  {
   "cell_type": "code",
   "execution_count": 24,
   "id": "860f976c",
   "metadata": {
    "execution": {
     "iopub.execute_input": "2022-07-17T09:01:28.877003Z",
     "iopub.status.busy": "2022-07-17T09:01:28.876474Z",
     "iopub.status.idle": "2022-07-17T09:01:28.881351Z",
     "shell.execute_reply": "2022-07-17T09:01:28.880780Z"
    }
   },
   "outputs": [],
   "source": [
    "N = me.ReferenceFrame('N')\n",
    "v1 = a*N.x + b*N.y + a*N.z\n",
    "v2 = b*N.x + a*N.y + b*N.z"
   ]
  },
  {
   "cell_type": "code",
   "execution_count": 25,
   "id": "94a39d4d",
   "metadata": {
    "execution": {
     "iopub.execute_input": "2022-07-17T09:01:28.883787Z",
     "iopub.status.busy": "2022-07-17T09:01:28.883313Z",
     "iopub.status.idle": "2022-07-17T09:01:28.900776Z",
     "shell.execute_reply": "2022-07-17T09:01:28.900192Z"
    }
   },
   "outputs": [
    {
     "data": {
      "text/latex": [
       "$\\displaystyle \\operatorname{acos}{\\left(\\frac{3 a b}{\\sqrt{a^{2} + 2 b^{2}} \\sqrt{2 a^{2} + b^{2}}} \\right)}$"
      ],
      "text/plain": [
       "    ⎛            3⋅a⋅b            ⎞\n",
       "acos⎜─────────────────────────────⎟\n",
       "    ⎜   ___________    ___________⎟\n",
       "    ⎜  ╱  2      2    ╱    2    2 ⎟\n",
       "    ⎝╲╱  a  + 2⋅b  ⋅╲╱  2⋅a  + b  ⎠"
      ]
     },
     "execution_count": 25,
     "metadata": {},
     "output_type": "execute_result"
    }
   ],
   "source": [
    "sm.acos(v1.dot(v2) / (v1.magnitude()*v2.magnitude()))"
   ]
  },
  {
   "cell_type": "code",
   "execution_count": 26,
   "id": "59bb8ae2",
   "metadata": {
    "execution": {
     "iopub.execute_input": "2022-07-17T09:01:28.903310Z",
     "iopub.status.busy": "2022-07-17T09:01:28.902769Z",
     "iopub.status.idle": "2022-07-17T09:01:28.908605Z",
     "shell.execute_reply": "2022-07-17T09:01:28.908026Z"
    }
   },
   "outputs": [
    {
     "data": {
      "text/latex": [
       "$\\displaystyle a\\mathbf{\\hat{n}_x} + b\\mathbf{\\hat{n}_y} + c\\mathbf{\\hat{n}_z}$"
      ],
      "text/plain": [
       "a n_x + b n_y + c n_z"
      ]
     },
     "execution_count": 26,
     "metadata": {},
     "output_type": "execute_result"
    }
   ],
   "source": [
    "N = me.ReferenceFrame('N')\n",
    "w = a*N.x + b*N.y + c*N.z\n",
    "w"
   ]
  },
  {
   "cell_type": "code",
   "execution_count": 27,
   "id": "1e5939e8",
   "metadata": {
    "execution": {
     "iopub.execute_input": "2022-07-17T09:01:28.911156Z",
     "iopub.status.busy": "2022-07-17T09:01:28.910681Z",
     "iopub.status.idle": "2022-07-17T09:01:28.915750Z",
     "shell.execute_reply": "2022-07-17T09:01:28.915186Z"
    }
   },
   "outputs": [
    {
     "data": {
      "text/latex": [
       "$\\displaystyle d\\mathbf{\\hat{n}_x} + e\\mathbf{\\hat{n}_y} + f\\mathbf{\\hat{n}_z}$"
      ],
      "text/plain": [
       "d n_x + e n_y + f n_z"
      ]
     },
     "execution_count": 27,
     "metadata": {},
     "output_type": "execute_result"
    }
   ],
   "source": [
    "x = d*N.x + e*N.y + f*N.z\n",
    "x"
   ]
  },
  {
   "cell_type": "code",
   "execution_count": 28,
   "id": "57e3a74e",
   "metadata": {
    "execution": {
     "iopub.execute_input": "2022-07-17T09:01:28.918352Z",
     "iopub.status.busy": "2022-07-17T09:01:28.918153Z",
     "iopub.status.idle": "2022-07-17T09:01:28.928107Z",
     "shell.execute_reply": "2022-07-17T09:01:28.927533Z"
    }
   },
   "outputs": [
    {
     "data": {
      "text/latex": [
       "$\\displaystyle (b f - c e)\\mathbf{\\hat{n}_x} + (- a f + c d)\\mathbf{\\hat{n}_y} + (a e - b d)\\mathbf{\\hat{n}_z}$"
      ],
      "text/plain": [
       "(b⋅f - c⋅e) n_x + (-a⋅f + c⋅d) n_y + (a⋅e - b⋅d) n_z"
      ]
     },
     "execution_count": 28,
     "metadata": {},
     "output_type": "execute_result"
    }
   ],
   "source": [
    "me.cross(w, x)"
   ]
  },
  {
   "cell_type": "code",
   "execution_count": 29,
   "id": "ddf3031b",
   "metadata": {
    "execution": {
     "iopub.execute_input": "2022-07-17T09:01:28.930640Z",
     "iopub.status.busy": "2022-07-17T09:01:28.930082Z",
     "iopub.status.idle": "2022-07-17T09:01:28.938911Z",
     "shell.execute_reply": "2022-07-17T09:01:28.938337Z"
    }
   },
   "outputs": [
    {
     "data": {
      "text/latex": [
       "$\\displaystyle (b f - c e)\\mathbf{\\hat{n}_x} + (- a f + c d)\\mathbf{\\hat{n}_y} + (a e - b d)\\mathbf{\\hat{n}_z}$"
      ],
      "text/plain": [
       "(b⋅f - c⋅e) n_x + (-a⋅f + c⋅d) n_y + (a⋅e - b⋅d) n_z"
      ]
     },
     "execution_count": 29,
     "metadata": {},
     "output_type": "execute_result"
    }
   ],
   "source": [
    "w.cross(x)"
   ]
  },
  {
   "cell_type": "code",
   "execution_count": 30,
   "id": "60fed450",
   "metadata": {
    "execution": {
     "iopub.execute_input": "2022-07-17T09:01:28.941427Z",
     "iopub.status.busy": "2022-07-17T09:01:28.940889Z",
     "iopub.status.idle": "2022-07-17T09:01:28.950947Z",
     "shell.execute_reply": "2022-07-17T09:01:28.950369Z"
    }
   },
   "outputs": [
    {
     "data": {
      "text/latex": [
       "$\\displaystyle \\sqrt{36077}$"
      ],
      "text/plain": [
       "√36077"
      ]
     },
     "execution_count": 30,
     "metadata": {},
     "output_type": "execute_result"
    }
   ],
   "source": [
    "N = me.ReferenceFrame('N')\n",
    "\n",
    "p1 = 23*N.x - 12* N.y\n",
    "p2 = 16*N.x + 2*N.y - 4*N.z\n",
    "p3 = N.x + 14*N.z\n",
    "\n",
    "me.cross(p2 - p1, p3 - p1).magnitude() / 2"
   ]
  },
  {
   "cell_type": "code",
   "execution_count": 31,
   "id": "fd475ed1",
   "metadata": {
    "execution": {
     "iopub.execute_input": "2022-07-17T09:01:28.953411Z",
     "iopub.status.busy": "2022-07-17T09:01:28.952931Z",
     "iopub.status.idle": "2022-07-17T09:01:28.959059Z",
     "shell.execute_reply": "2022-07-17T09:01:28.958485Z"
    }
   },
   "outputs": [
    {
     "data": {
      "text/latex": [
       "$\\displaystyle a\\mathbf{\\hat{a}_x} + b\\mathbf{\\hat{n}_y}$"
      ],
      "text/plain": [
       "a a_x + b n_y"
      ]
     },
     "execution_count": 31,
     "metadata": {},
     "output_type": "execute_result"
    }
   ],
   "source": [
    "N = me.ReferenceFrame('N')\n",
    "A = me.ReferenceFrame('A')\n",
    "a, b, theta = sm.symbols('a, b, theta')\n",
    "\n",
    "v = a*A.x + b*N.y\n",
    "v"
   ]
  },
  {
   "cell_type": "code",
   "execution_count": 32,
   "id": "1dd2357f",
   "metadata": {
    "execution": {
     "iopub.execute_input": "2022-07-17T09:01:28.961999Z",
     "iopub.status.busy": "2022-07-17T09:01:28.961463Z",
     "iopub.status.idle": "2022-07-17T09:01:28.966402Z",
     "shell.execute_reply": "2022-07-17T09:01:28.965818Z"
    }
   },
   "outputs": [
    {
     "data": {
      "text/latex": [
       "$\\displaystyle 2 a\\mathbf{\\hat{a}_x} + 2 b\\mathbf{\\hat{n}_y}$"
      ],
      "text/plain": [
       "2⋅a a_x + 2⋅b n_y"
      ]
     },
     "execution_count": 32,
     "metadata": {},
     "output_type": "execute_result"
    }
   ],
   "source": [
    "v + v"
   ]
  },
  {
   "cell_type": "code",
   "execution_count": 33,
   "id": "bb679c56",
   "metadata": {
    "execution": {
     "iopub.execute_input": "2022-07-17T09:01:28.968973Z",
     "iopub.status.busy": "2022-07-17T09:01:28.968485Z",
     "iopub.status.idle": "2022-07-17T09:01:28.978236Z",
     "shell.execute_reply": "2022-07-17T09:01:28.977678Z"
    }
   },
   "outputs": [
    {
     "data": {
      "text/latex": [
       "$\\displaystyle a \\cos{\\left(\\theta \\right)}\\mathbf{\\hat{n}_x} + (a \\sin{\\left(\\theta \\right)} + b)\\mathbf{\\hat{n}_y}$"
      ],
      "text/plain": [
       "a⋅cos(θ) n_x + (a⋅sin(θ) + b) n_y"
      ]
     },
     "execution_count": 33,
     "metadata": {},
     "output_type": "execute_result"
    }
   ],
   "source": [
    "A.orient_axis(N, theta, N.z)\n",
    "\n",
    "v.express(N)"
   ]
  },
  {
   "cell_type": "code",
   "execution_count": 34,
   "id": "722eafa0",
   "metadata": {
    "execution": {
     "iopub.execute_input": "2022-07-17T09:01:28.980549Z",
     "iopub.status.busy": "2022-07-17T09:01:28.980230Z",
     "iopub.status.idle": "2022-07-17T09:01:28.986182Z",
     "shell.execute_reply": "2022-07-17T09:01:28.985601Z"
    }
   },
   "outputs": [
    {
     "data": {
      "text/latex": [
       "$\\displaystyle (a + b \\sin{\\left(\\theta \\right)})\\mathbf{\\hat{a}_x} + b \\cos{\\left(\\theta \\right)}\\mathbf{\\hat{a}_y}$"
      ],
      "text/plain": [
       "(a + b⋅sin(θ)) a_x + b⋅cos(θ) a_y"
      ]
     },
     "execution_count": 34,
     "metadata": {},
     "output_type": "execute_result"
    }
   ],
   "source": [
    "v.express(A)"
   ]
  },
  {
   "cell_type": "code",
   "execution_count": 35,
   "id": "b2130b63",
   "metadata": {
    "execution": {
     "iopub.execute_input": "2022-07-17T09:01:28.989185Z",
     "iopub.status.busy": "2022-07-17T09:01:28.988657Z",
     "iopub.status.idle": "2022-07-17T09:01:28.993883Z",
     "shell.execute_reply": "2022-07-17T09:01:28.993309Z"
    }
   },
   "outputs": [],
   "source": [
    "q1, q2, q3, q4, q5 = sm.symbols('q1, q2, q3, q4, q5')\n",
    "l1, l2, l3, l4 = sm.symbols('l1, l2, l3, l4')\n",
    "N = me.ReferenceFrame('N')\n",
    "A = me.ReferenceFrame('A')\n",
    "B = me.ReferenceFrame('B')\n",
    "C = me.ReferenceFrame('C')"
   ]
  },
  {
   "cell_type": "code",
   "execution_count": 36,
   "id": "cf1e01cd",
   "metadata": {
    "execution": {
     "iopub.execute_input": "2022-07-17T09:01:28.996415Z",
     "iopub.status.busy": "2022-07-17T09:01:28.995941Z",
     "iopub.status.idle": "2022-07-17T09:01:29.016915Z",
     "shell.execute_reply": "2022-07-17T09:01:29.016326Z"
    }
   },
   "outputs": [],
   "source": [
    "A.orient_body_fixed(N, (q1, q2, 0), 'ZXZ')"
   ]
  },
  {
   "cell_type": "code",
   "execution_count": 37,
   "id": "bc455dba",
   "metadata": {
    "execution": {
     "iopub.execute_input": "2022-07-17T09:01:29.019510Z",
     "iopub.status.busy": "2022-07-17T09:01:29.018971Z",
     "iopub.status.idle": "2022-07-17T09:01:29.024497Z",
     "shell.execute_reply": "2022-07-17T09:01:29.023919Z"
    }
   },
   "outputs": [],
   "source": [
    "B.orient_axis(A, q3, A.x)"
   ]
  },
  {
   "cell_type": "code",
   "execution_count": 38,
   "id": "4fe26564",
   "metadata": {
    "execution": {
     "iopub.execute_input": "2022-07-17T09:01:29.027010Z",
     "iopub.status.busy": "2022-07-17T09:01:29.026480Z",
     "iopub.status.idle": "2022-07-17T09:01:29.048050Z",
     "shell.execute_reply": "2022-07-17T09:01:29.047529Z"
    }
   },
   "outputs": [],
   "source": [
    "C.orient_body_fixed(B, (q4, q5, 0), 'XZX')"
   ]
  },
  {
   "cell_type": "code",
   "execution_count": 39,
   "id": "2fdfe79c",
   "metadata": {
    "execution": {
     "iopub.execute_input": "2022-07-17T09:01:29.050452Z",
     "iopub.status.busy": "2022-07-17T09:01:29.050125Z",
     "iopub.status.idle": "2022-07-17T09:01:29.054305Z",
     "shell.execute_reply": "2022-07-17T09:01:29.053727Z"
    }
   },
   "outputs": [],
   "source": [
    "R_P1_P2 = l1*A.z\n",
    "R_P2_P3 = l2*B.z\n",
    "R_P3_P4 = l3*C.z - l4*C.y"
   ]
  },
  {
   "cell_type": "code",
   "execution_count": 40,
   "id": "cadb2820",
   "metadata": {
    "execution": {
     "iopub.execute_input": "2022-07-17T09:01:29.056830Z",
     "iopub.status.busy": "2022-07-17T09:01:29.056361Z",
     "iopub.status.idle": "2022-07-17T09:01:29.061517Z",
     "shell.execute_reply": "2022-07-17T09:01:29.060933Z"
    }
   },
   "outputs": [
    {
     "data": {
      "text/latex": [
       "$\\displaystyle l_{1}\\mathbf{\\hat{a}_z} + l_{2}\\mathbf{\\hat{b}_z} -  l_{4}\\mathbf{\\hat{c}_y} + l_{3}\\mathbf{\\hat{c}_z}$"
      ],
      "text/plain": [
       "l₁ a_z + l₂ b_z + -l₄ c_y + l₃ c_z"
      ]
     },
     "execution_count": 40,
     "metadata": {},
     "output_type": "execute_result"
    }
   ],
   "source": [
    "R_P1_P4 = R_P1_P2 + R_P2_P3 + R_P3_P4\n",
    "R_P1_P4"
   ]
  },
  {
   "cell_type": "code",
   "execution_count": 41,
   "id": "6810f08d",
   "metadata": {
    "execution": {
     "iopub.execute_input": "2022-07-17T09:01:29.064585Z",
     "iopub.status.busy": "2022-07-17T09:01:29.064095Z",
     "iopub.status.idle": "2022-07-17T09:01:29.143442Z",
     "shell.execute_reply": "2022-07-17T09:01:29.142756Z"
    }
   },
   "outputs": [
    {
     "data": {
      "text/latex": [
       "$\\displaystyle (l_{1} \\sin{\\left(q_{1} \\right)} \\sin{\\left(q_{2} \\right)} + l_{2} \\left(\\sin{\\left(q_{1} \\right)} \\sin{\\left(q_{2} \\right)} \\cos{\\left(q_{3} \\right)} + \\sin{\\left(q_{1} \\right)} \\sin{\\left(q_{3} \\right)} \\cos{\\left(q_{2} \\right)}\\right) + l_{3} \\left(- \\left(\\sin{\\left(q_{1} \\right)} \\sin{\\left(q_{2} \\right)} \\sin{\\left(q_{3} \\right)} - \\sin{\\left(q_{1} \\right)} \\cos{\\left(q_{2} \\right)} \\cos{\\left(q_{3} \\right)}\\right) \\sin{\\left(q_{4} \\right)} + \\left(\\sin{\\left(q_{1} \\right)} \\sin{\\left(q_{2} \\right)} \\cos{\\left(q_{3} \\right)} + \\sin{\\left(q_{1} \\right)} \\sin{\\left(q_{3} \\right)} \\cos{\\left(q_{2} \\right)}\\right) \\cos{\\left(q_{4} \\right)}\\right) - l_{4} \\left(\\left(\\sin{\\left(q_{1} \\right)} \\sin{\\left(q_{2} \\right)} \\sin{\\left(q_{3} \\right)} - \\sin{\\left(q_{1} \\right)} \\cos{\\left(q_{2} \\right)} \\cos{\\left(q_{3} \\right)}\\right) \\cos{\\left(q_{4} \\right)} \\cos{\\left(q_{5} \\right)} + \\left(\\sin{\\left(q_{1} \\right)} \\sin{\\left(q_{2} \\right)} \\cos{\\left(q_{3} \\right)} + \\sin{\\left(q_{1} \\right)} \\sin{\\left(q_{3} \\right)} \\cos{\\left(q_{2} \\right)}\\right) \\sin{\\left(q_{4} \\right)} \\cos{\\left(q_{5} \\right)} - \\sin{\\left(q_{5} \\right)} \\cos{\\left(q_{1} \\right)}\\right))\\mathbf{\\hat{n}_x} + (- l_{1} \\sin{\\left(q_{2} \\right)} \\cos{\\left(q_{1} \\right)} + l_{2} \\left(- \\sin{\\left(q_{2} \\right)} \\cos{\\left(q_{1} \\right)} \\cos{\\left(q_{3} \\right)} - \\sin{\\left(q_{3} \\right)} \\cos{\\left(q_{1} \\right)} \\cos{\\left(q_{2} \\right)}\\right) + l_{3} \\left(- \\left(- \\sin{\\left(q_{2} \\right)} \\sin{\\left(q_{3} \\right)} \\cos{\\left(q_{1} \\right)} + \\cos{\\left(q_{1} \\right)} \\cos{\\left(q_{2} \\right)} \\cos{\\left(q_{3} \\right)}\\right) \\sin{\\left(q_{4} \\right)} + \\left(- \\sin{\\left(q_{2} \\right)} \\cos{\\left(q_{1} \\right)} \\cos{\\left(q_{3} \\right)} - \\sin{\\left(q_{3} \\right)} \\cos{\\left(q_{1} \\right)} \\cos{\\left(q_{2} \\right)}\\right) \\cos{\\left(q_{4} \\right)}\\right) - l_{4} \\left(\\left(- \\sin{\\left(q_{2} \\right)} \\sin{\\left(q_{3} \\right)} \\cos{\\left(q_{1} \\right)} + \\cos{\\left(q_{1} \\right)} \\cos{\\left(q_{2} \\right)} \\cos{\\left(q_{3} \\right)}\\right) \\cos{\\left(q_{4} \\right)} \\cos{\\left(q_{5} \\right)} + \\left(- \\sin{\\left(q_{2} \\right)} \\cos{\\left(q_{1} \\right)} \\cos{\\left(q_{3} \\right)} - \\sin{\\left(q_{3} \\right)} \\cos{\\left(q_{1} \\right)} \\cos{\\left(q_{2} \\right)}\\right) \\sin{\\left(q_{4} \\right)} \\cos{\\left(q_{5} \\right)} - \\sin{\\left(q_{1} \\right)} \\sin{\\left(q_{5} \\right)}\\right))\\mathbf{\\hat{n}_y} + (l_{1} \\cos{\\left(q_{2} \\right)} + l_{2} \\left(- \\sin{\\left(q_{2} \\right)} \\sin{\\left(q_{3} \\right)} + \\cos{\\left(q_{2} \\right)} \\cos{\\left(q_{3} \\right)}\\right) + l_{3} \\left(\\left(- \\sin{\\left(q_{2} \\right)} \\sin{\\left(q_{3} \\right)} + \\cos{\\left(q_{2} \\right)} \\cos{\\left(q_{3} \\right)}\\right) \\cos{\\left(q_{4} \\right)} - \\left(\\sin{\\left(q_{2} \\right)} \\cos{\\left(q_{3} \\right)} + \\sin{\\left(q_{3} \\right)} \\cos{\\left(q_{2} \\right)}\\right) \\sin{\\left(q_{4} \\right)}\\right) - l_{4} \\left(\\left(- \\sin{\\left(q_{2} \\right)} \\sin{\\left(q_{3} \\right)} + \\cos{\\left(q_{2} \\right)} \\cos{\\left(q_{3} \\right)}\\right) \\sin{\\left(q_{4} \\right)} \\cos{\\left(q_{5} \\right)} + \\left(\\sin{\\left(q_{2} \\right)} \\cos{\\left(q_{3} \\right)} + \\sin{\\left(q_{3} \\right)} \\cos{\\left(q_{2} \\right)}\\right) \\cos{\\left(q_{4} \\right)} \\cos{\\left(q_{5} \\right)}\\right))\\mathbf{\\hat{n}_z}$"
      ],
      "text/plain": [
       "(l₁⋅sin(q₁)⋅sin(q₂) + l₂⋅(sin(q₁)⋅sin(q₂)⋅cos(q₃) + sin(q₁)⋅sin(q₃)⋅cos(q₂)) +\n",
       " l₃⋅(-(sin(q₁)⋅sin(q₂)⋅sin(q₃) - sin(q₁)⋅cos(q₂)⋅cos(q₃))⋅sin(q₄) + (sin(q₁)⋅s\n",
       "in(q₂)⋅cos(q₃) + sin(q₁)⋅sin(q₃)⋅cos(q₂))⋅cos(q₄)) - l₄⋅((sin(q₁)⋅sin(q₂)⋅sin(\n",
       "q₃) - sin(q₁)⋅cos(q₂)⋅cos(q₃))⋅cos(q₄)⋅cos(q₅) + (sin(q₁)⋅sin(q₂)⋅cos(q₃) + si\n",
       "n(q₁)⋅sin(q₃)⋅cos(q₂))⋅sin(q₄)⋅cos(q₅) - sin(q₅)⋅cos(q₁))) n_x + (-l₁⋅sin(q₂)⋅\n",
       "cos(q₁) + l₂⋅(-sin(q₂)⋅cos(q₁)⋅cos(q₃) - sin(q₃)⋅cos(q₁)⋅cos(q₂)) + l₃⋅(-(-sin\n",
       "(q₂)⋅sin(q₃)⋅cos(q₁) + cos(q₁)⋅cos(q₂)⋅cos(q₃))⋅sin(q₄) + (-sin(q₂)⋅cos(q₁)⋅co\n",
       "s(q₃) - sin(q₃)⋅cos(q₁)⋅cos(q₂))⋅cos(q₄)) - l₄⋅((-sin(q₂)⋅sin(q₃)⋅cos(q₁) + co\n",
       "s(q₁)⋅cos(q₂)⋅cos(q₃))⋅cos(q₄)⋅cos(q₅) + (-sin(q₂)⋅cos(q₁)⋅cos(q₃) - sin(q₃)⋅c\n",
       "os(q₁)⋅cos(q₂))⋅sin(q₄)⋅cos(q₅) - sin(q₁)⋅sin(q₅))) n_y + (l₁⋅cos(q₂) + l₂⋅(-s\n",
       "in(q₂)⋅sin(q₃) + cos(q₂)⋅cos(q₃)) + l₃⋅((-sin(q₂)⋅sin(q₃) + cos(q₂)⋅cos(q₃))⋅c\n",
       "os(q₄) - (sin(q₂)⋅cos(q₃) + sin(q₃)⋅cos(q₂))⋅sin(q₄)) - l₄⋅((-sin(q₂)⋅sin(q₃)\n",
       "+ cos(q₂)⋅cos(q₃))⋅sin(q₄)⋅cos(q₅) + (sin(q₂)⋅cos(q₃) + sin(q₃)⋅cos(q₂))⋅cos(q\n",
       "₄)⋅cos(q₅))) n_z"
      ]
     },
     "execution_count": 41,
     "metadata": {},
     "output_type": "execute_result"
    }
   ],
   "source": [
    "R_P1_P4.express(N)"
   ]
  },
  {
   "cell_type": "code",
   "execution_count": 42,
   "id": "5a61b1ff",
   "metadata": {
    "execution": {
     "iopub.execute_input": "2022-07-17T09:01:29.146223Z",
     "iopub.status.busy": "2022-07-17T09:01:29.145802Z",
     "iopub.status.idle": "2022-07-17T09:01:29.151928Z",
     "shell.execute_reply": "2022-07-17T09:01:29.151354Z"
    }
   },
   "outputs": [
    {
     "data": {
      "text/latex": [
       "$\\displaystyle l_{1} \\sin{\\left(q_{1} \\right)} \\sin{\\left(q_{2} \\right)}\\mathbf{\\hat{n}_x} -  l_{1} \\sin{\\left(q_{2} \\right)} \\cos{\\left(q_{1} \\right)}\\mathbf{\\hat{n}_y} + l_{1} \\cos{\\left(q_{2} \\right)}\\mathbf{\\hat{n}_z}$"
      ],
      "text/plain": [
       "l₁⋅sin(q₁)⋅sin(q₂) n_x + -l₁⋅sin(q₂)⋅cos(q₁) n_y + l₁⋅cos(q₂) n_z"
      ]
     },
     "execution_count": 42,
     "metadata": {},
     "output_type": "execute_result"
    }
   ],
   "source": [
    "R_P1_P2.express(N)"
   ]
  },
  {
   "cell_type": "code",
   "execution_count": 43,
   "id": "baf0ed67",
   "metadata": {
    "execution": {
     "iopub.execute_input": "2022-07-17T09:01:29.154893Z",
     "iopub.status.busy": "2022-07-17T09:01:29.154420Z",
     "iopub.status.idle": "2022-07-17T09:01:29.159538Z",
     "shell.execute_reply": "2022-07-17T09:01:29.158960Z"
    }
   },
   "outputs": [
    {
     "data": {
      "text/latex": [
       "$\\displaystyle \\left\\{l_{1}, q_{1}, q_{2}\\right\\}$"
      ],
      "text/plain": [
       "{l₁, q₁, q₂}"
      ]
     },
     "execution_count": 43,
     "metadata": {},
     "output_type": "execute_result"
    }
   ],
   "source": [
    "R_P1_P2.free_symbols(N)"
   ]
  },
  {
   "cell_type": "code",
   "execution_count": 44,
   "id": "faf6d092",
   "metadata": {
    "execution": {
     "iopub.execute_input": "2022-07-17T09:01:29.162385Z",
     "iopub.status.busy": "2022-07-17T09:01:29.161997Z",
     "iopub.status.idle": "2022-07-17T09:01:29.166908Z",
     "shell.execute_reply": "2022-07-17T09:01:29.166324Z"
    }
   },
   "outputs": [
    {
     "data": {
      "text/latex": [
       "$\\displaystyle \\left\\{l_{1}\\right\\}$"
      ],
      "text/plain": [
       "{l₁}"
      ]
     },
     "execution_count": 44,
     "metadata": {},
     "output_type": "execute_result"
    }
   ],
   "source": [
    "R_P1_P2.free_symbols(A)"
   ]
  },
  {
   "cell_type": "code",
   "execution_count": 45,
   "id": "03763ce7",
   "metadata": {
    "execution": {
     "iopub.execute_input": "2022-07-17T09:01:29.169734Z",
     "iopub.status.busy": "2022-07-17T09:01:29.169347Z",
     "iopub.status.idle": "2022-07-17T09:01:29.175903Z",
     "shell.execute_reply": "2022-07-17T09:01:29.175323Z"
    }
   },
   "outputs": [
    {
     "data": {
      "text/latex": [
       "$\\displaystyle \\left\\{l_{1}, l_{2}, l_{3}, l_{4}, q_{1}, q_{2}, q_{3}, q_{4}, q_{5}\\right\\}$"
      ],
      "text/plain": [
       "{l₁, l₂, l₃, l₄, q₁, q₂, q₃, q₄, q₅}"
      ]
     },
     "execution_count": 45,
     "metadata": {},
     "output_type": "execute_result"
    }
   ],
   "source": [
    "R_P1_P4.free_symbols(N)"
   ]
  }
 ],
 "metadata": {
  "kernelspec": {
   "display_name": "Python 3 (ipykernel)",
   "language": "python",
   "name": "python3"
  },
  "language_info": {
   "codemirror_mode": {
    "name": "ipython",
    "version": 3
   },
   "file_extension": ".py",
   "mimetype": "text/x-python",
   "name": "python",
   "nbconvert_exporter": "python",
   "pygments_lexer": "ipython3",
   "version": "3.9.13"
  }
 },
 "nbformat": 4,
 "nbformat_minor": 5
}