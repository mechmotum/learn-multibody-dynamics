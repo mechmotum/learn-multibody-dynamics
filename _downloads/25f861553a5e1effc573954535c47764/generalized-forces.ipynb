{
 "cells": [
  {
   "cell_type": "code",
   "execution_count": 1,
   "id": "1243adc6",
   "metadata": {
    "execution": {
     "iopub.execute_input": "2022-06-25T07:06:04.968274Z",
     "iopub.status.busy": "2022-06-25T07:06:04.967809Z",
     "iopub.status.idle": "2022-06-25T07:06:05.434087Z",
     "shell.execute_reply": "2022-06-25T07:06:05.433452Z"
    }
   },
   "outputs": [],
   "source": [
    "import sympy as sm\n",
    "import sympy.physics.mechanics as me\n",
    "me.init_vprinting(use_latex='mathjax')"
   ]
  },
  {
   "cell_type": "code",
   "execution_count": 2,
   "id": "c8275900",
   "metadata": {
    "execution": {
     "iopub.execute_input": "2022-06-25T07:06:05.437805Z",
     "iopub.status.busy": "2022-06-25T07:06:05.437387Z",
     "iopub.status.idle": "2022-06-25T07:06:05.448736Z",
     "shell.execute_reply": "2022-06-25T07:06:05.448127Z"
    }
   },
   "outputs": [],
   "source": [
    "L = sm.symbols('L')\n",
    "q1, q2, u1, u2 = me.dynamicsymbols('q1, q2, u1, u2')\n",
    "\n",
    "N = me.ReferenceFrame('N')\n",
    "R = me.ReferenceFrame('R')\n",
    "\n",
    "R.orient_axis(N, q2, N.z)"
   ]
  },
  {
   "cell_type": "code",
   "execution_count": 3,
   "id": "f5bc86d3",
   "metadata": {
    "execution": {
     "iopub.execute_input": "2022-06-25T07:06:05.451367Z",
     "iopub.status.busy": "2022-06-25T07:06:05.451047Z",
     "iopub.status.idle": "2022-06-25T07:06:05.457470Z",
     "shell.execute_reply": "2022-06-25T07:06:05.456883Z"
    }
   },
   "outputs": [
    {
     "data": {
      "text/latex": [
       "$\\displaystyle u_{1}\\mathbf{\\hat{n}_x}$"
      ],
      "text/plain": [
       "u₁ n_x"
      ]
     },
     "execution_count": 3,
     "metadata": {},
     "output_type": "execute_result"
    }
   ],
   "source": [
    "N_v_A = u1*N.x\n",
    "N_v_A"
   ]
  },
  {
   "cell_type": "code",
   "execution_count": 4,
   "id": "a1d3410a",
   "metadata": {
    "execution": {
     "iopub.execute_input": "2022-06-25T07:06:05.461043Z",
     "iopub.status.busy": "2022-06-25T07:06:05.460649Z",
     "iopub.status.idle": "2022-06-25T07:06:05.465347Z",
     "shell.execute_reply": "2022-06-25T07:06:05.464779Z"
    }
   },
   "outputs": [
    {
     "data": {
      "text/latex": [
       "$\\displaystyle u_{2}\\mathbf{\\hat{n}_z}$"
      ],
      "text/plain": [
       "u₂ n_z"
      ]
     },
     "execution_count": 4,
     "metadata": {},
     "output_type": "execute_result"
    }
   ],
   "source": [
    "N_w_R = u2*N.z\n",
    "N_w_R"
   ]
  },
  {
   "cell_type": "code",
   "execution_count": 5,
   "id": "2cbb8f31",
   "metadata": {
    "execution": {
     "iopub.execute_input": "2022-06-25T07:06:05.468414Z",
     "iopub.status.busy": "2022-06-25T07:06:05.468012Z",
     "iopub.status.idle": "2022-06-25T07:06:05.479669Z",
     "shell.execute_reply": "2022-06-25T07:06:05.479076Z"
    }
   },
   "outputs": [
    {
     "data": {
      "text/latex": [
       "$\\displaystyle (L u_{2} \\sin{\\left(q_{2} \\right)} + u_{1})\\mathbf{\\hat{n}_x} -  L u_{2} \\cos{\\left(q_{2} \\right)}\\mathbf{\\hat{n}_y}$"
      ],
      "text/plain": [
       "(L⋅u₂⋅sin(q₂) + u₁) n_x + -L⋅u₂⋅cos(q₂) n_y"
      ]
     },
     "execution_count": 5,
     "metadata": {},
     "output_type": "execute_result"
    }
   ],
   "source": [
    "r_A_B = -L*R.x\n",
    "N_v_B = N_v_A + me.cross(N_w_R, r_A_B)\n",
    "\n",
    "N_v_B.express(N)"
   ]
  },
  {
   "cell_type": "code",
   "execution_count": 6,
   "id": "bb2a6881",
   "metadata": {
    "execution": {
     "iopub.execute_input": "2022-06-25T07:06:05.482299Z",
     "iopub.status.busy": "2022-06-25T07:06:05.481808Z",
     "iopub.status.idle": "2022-06-25T07:06:05.494618Z",
     "shell.execute_reply": "2022-06-25T07:06:05.494050Z"
    }
   },
   "outputs": [
    {
     "data": {
      "text/latex": [
       "$\\displaystyle \\left( \\mathbf{\\hat{n}_x}, \\  0\\right)$"
      ],
      "text/plain": [
       "(n_x, 0)"
      ]
     },
     "execution_count": 6,
     "metadata": {},
     "output_type": "execute_result"
    }
   ],
   "source": [
    "v_A_1 = N_v_A.diff(u1, N)\n",
    "v_A_2 = N_v_A.diff(u2, N)\n",
    "\n",
    "v_A_1, v_A_2"
   ]
  },
  {
   "cell_type": "code",
   "execution_count": 7,
   "id": "c1b554f8",
   "metadata": {
    "execution": {
     "iopub.execute_input": "2022-06-25T07:06:05.496983Z",
     "iopub.status.busy": "2022-06-25T07:06:05.496669Z",
     "iopub.status.idle": "2022-06-25T07:06:05.506418Z",
     "shell.execute_reply": "2022-06-25T07:06:05.505836Z"
    }
   },
   "outputs": [
    {
     "data": {
      "text/latex": [
       "$\\displaystyle \\left( \\mathbf{\\hat{n}_x}, \\  -  L\\mathbf{\\hat{r}_y}\\right)$"
      ],
      "text/plain": [
       "(n_x, -L r_y)"
      ]
     },
     "execution_count": 7,
     "metadata": {},
     "output_type": "execute_result"
    }
   ],
   "source": [
    "v_B_1 = N_v_B.diff(u1, N)\n",
    "v_B_2 = N_v_B.diff(u2, N)\n",
    "\n",
    "v_B_1, v_B_2"
   ]
  },
  {
   "cell_type": "code",
   "execution_count": 8,
   "id": "55dab984",
   "metadata": {
    "execution": {
     "iopub.execute_input": "2022-06-25T07:06:05.508931Z",
     "iopub.status.busy": "2022-06-25T07:06:05.508395Z",
     "iopub.status.idle": "2022-06-25T07:06:05.514314Z",
     "shell.execute_reply": "2022-06-25T07:06:05.513744Z"
    }
   },
   "outputs": [
    {
     "data": {
      "text/latex": [
       "$\\displaystyle \\left( 0, \\  \\mathbf{\\hat{n}_z}\\right)$"
      ],
      "text/plain": [
       "(0, n_z)"
      ]
     },
     "execution_count": 8,
     "metadata": {},
     "output_type": "execute_result"
    }
   ],
   "source": [
    "w_R_1 = N_w_R.diff(u1, N)\n",
    "w_R_2 = N_w_R.diff(u2, N)\n",
    "\n",
    "w_R_1, w_R_2"
   ]
  },
  {
   "cell_type": "code",
   "execution_count": 9,
   "id": "818d0584",
   "metadata": {
    "execution": {
     "iopub.execute_input": "2022-06-25T07:06:05.516797Z",
     "iopub.status.busy": "2022-06-25T07:06:05.516260Z",
     "iopub.status.idle": "2022-06-25T07:06:05.527470Z",
     "shell.execute_reply": "2022-06-25T07:06:05.526895Z"
    }
   },
   "outputs": [
    {
     "data": {
      "text/latex": [
       "$\\displaystyle \\left[ \\left[ \\mathbf{\\hat{n}_x}, \\  0\\right], \\  \\left[ \\mathbf{\\hat{n}_x}, \\  -  L\\mathbf{\\hat{r}_y}\\right], \\  \\left[ 0, \\  \\mathbf{\\hat{n}_z}\\right]\\right]$"
      ],
      "text/plain": [
       "[[n_x, 0], [n_x, -L r_y], [0, n_z]]"
      ]
     },
     "execution_count": 9,
     "metadata": {},
     "output_type": "execute_result"
    }
   ],
   "source": [
    "me.partial_velocity((N_v_A, N_v_B, N_w_R), (u1, u2), N)"
   ]
  },
  {
   "cell_type": "code",
   "execution_count": 10,
   "id": "73596ce1",
   "metadata": {
    "execution": {
     "iopub.execute_input": "2022-06-25T07:06:05.529939Z",
     "iopub.status.busy": "2022-06-25T07:06:05.529456Z",
     "iopub.status.idle": "2022-06-25T07:06:05.551096Z",
     "shell.execute_reply": "2022-06-25T07:06:05.550532Z"
    }
   },
   "outputs": [
    {
     "data": {
      "text/latex": [
       "$\\displaystyle \\left( l \\dot{q}_{1}\\mathbf{\\hat{a}_x}, \\  l \\dot{q}_{1}\\mathbf{\\hat{a}_x} + l \\dot{q}_{2}\\mathbf{\\hat{b}_x}\\right)$"
      ],
      "text/plain": [
       "(l⋅q₁̇ a_x, l⋅q₁̇ a_x + l⋅q₂̇ b_x)"
      ]
     },
     "execution_count": 10,
     "metadata": {},
     "output_type": "execute_result"
    }
   ],
   "source": [
    "l = sm.symbols('l')\n",
    "q1, q2, u1, u2 = me.dynamicsymbols('q1, q2, u1, u2')\n",
    "\n",
    "N = me.ReferenceFrame('N')\n",
    "A = me.ReferenceFrame('A')\n",
    "B = me.ReferenceFrame('B')\n",
    "\n",
    "A.orient_axis(N, q1, N.z)\n",
    "B.orient_axis(N, q2, N.z)\n",
    "\n",
    "O = me.Point('O')\n",
    "P1 = me.Point('P1')\n",
    "P2 = me.Point('P2')\n",
    "\n",
    "O.set_vel(N, 0)\n",
    "\n",
    "P1.set_pos(O, -l*A.y)\n",
    "P2.set_pos(P1, -l*B.y)\n",
    "\n",
    "P1.v2pt_theory(O, N, A)\n",
    "P2.v2pt_theory(P1, N, B)\n",
    "\n",
    "P1.vel(N), P2.vel(N)"
   ]
  },
  {
   "cell_type": "code",
   "execution_count": 11,
   "id": "3f803d4e",
   "metadata": {
    "execution": {
     "iopub.execute_input": "2022-06-25T07:06:05.553662Z",
     "iopub.status.busy": "2022-06-25T07:06:05.553131Z",
     "iopub.status.idle": "2022-06-25T07:06:05.561437Z",
     "shell.execute_reply": "2022-06-25T07:06:05.560746Z"
    }
   },
   "outputs": [
    {
     "data": {
      "text/latex": [
       "$\\displaystyle \\left( l u_{1}\\mathbf{\\hat{a}_x}, \\  l u_{1}\\mathbf{\\hat{a}_x} + l u_{2}\\mathbf{\\hat{b}_x}\\right)$"
      ],
      "text/plain": [
       "(l⋅u₁ a_x, l⋅u₁ a_x + l⋅u₂ b_x)"
      ]
     },
     "execution_count": 11,
     "metadata": {},
     "output_type": "execute_result"
    }
   ],
   "source": [
    "repl = {q1.diff(): u1, q2.diff(): u2}\n",
    "\n",
    "N_v_P1 = P1.vel(N).xreplace(repl)\n",
    "N_v_P2 = P2.vel(N).xreplace(repl)\n",
    "\n",
    "N_v_P1, N_v_P2"
   ]
  },
  {
   "cell_type": "code",
   "execution_count": 12,
   "id": "ac4b0c33",
   "metadata": {
    "execution": {
     "iopub.execute_input": "2022-06-25T07:06:05.564013Z",
     "iopub.status.busy": "2022-06-25T07:06:05.563690Z",
     "iopub.status.idle": "2022-06-25T07:06:05.577920Z",
     "shell.execute_reply": "2022-06-25T07:06:05.577410Z"
    }
   },
   "outputs": [
    {
     "data": {
      "text/latex": [
       "$\\displaystyle \\left( l\\mathbf{\\hat{a}_x}, \\  0, \\  l\\mathbf{\\hat{a}_x}, \\  l\\mathbf{\\hat{b}_x}\\right)$"
      ],
      "text/plain": [
       "(l a_x, 0, l a_x, l b_x)"
      ]
     },
     "execution_count": 12,
     "metadata": {},
     "output_type": "execute_result"
    }
   ],
   "source": [
    "v_P1_1 = N_v_P1.diff(u1, N)\n",
    "v_P1_2 = N_v_P1.diff(u2, N)\n",
    "v_P2_1 = N_v_P2.diff(u1, N)\n",
    "v_P2_2 = N_v_P2.diff(u2, N)\n",
    "v_P1_1, v_P1_2, v_P2_1, v_P2_2"
   ]
  },
  {
   "cell_type": "code",
   "execution_count": 13,
   "id": "1760c75f",
   "metadata": {
    "execution": {
     "iopub.execute_input": "2022-06-25T07:06:05.580416Z",
     "iopub.status.busy": "2022-06-25T07:06:05.579864Z",
     "iopub.status.idle": "2022-06-25T07:06:05.589065Z",
     "shell.execute_reply": "2022-06-25T07:06:05.588558Z"
    }
   },
   "outputs": [
    {
     "data": {
      "text/latex": [
       "$\\displaystyle -  g m_{1}\\mathbf{\\hat{n}_y} + T_{1}\\mathbf{\\hat{a}_y} -  T_{2}\\mathbf{\\hat{b}_y}$"
      ],
      "text/plain": [
       "-g⋅m₁ n_y + T₁ a_y + -T₂ b_y"
      ]
     },
     "execution_count": 13,
     "metadata": {},
     "output_type": "execute_result"
    }
   ],
   "source": [
    "T1, T2 = me.dynamicsymbols('T1, T2')\n",
    "m1, m2, g = sm.symbols('m1, m2, g')\n",
    "\n",
    "R1 = -m1*g*N.y + T1*A.y - T2*B.y\n",
    "R1"
   ]
  },
  {
   "cell_type": "code",
   "execution_count": 14,
   "id": "b4c25a1b",
   "metadata": {
    "execution": {
     "iopub.execute_input": "2022-06-25T07:06:05.591812Z",
     "iopub.status.busy": "2022-06-25T07:06:05.591365Z",
     "iopub.status.idle": "2022-06-25T07:06:05.598816Z",
     "shell.execute_reply": "2022-06-25T07:06:05.598307Z"
    }
   },
   "outputs": [
    {
     "data": {
      "text/latex": [
       "$\\displaystyle -  g m_{2}\\mathbf{\\hat{n}_y} + T_{2}\\mathbf{\\hat{b}_y}$"
      ],
      "text/plain": [
       "-g⋅m₂ n_y + T₂ b_y"
      ]
     },
     "execution_count": 14,
     "metadata": {},
     "output_type": "execute_result"
    }
   ],
   "source": [
    "R2 = -m2*g*N.y + T2*B.y\n",
    "R2"
   ]
  },
  {
   "cell_type": "code",
   "execution_count": 15,
   "id": "0d28465a",
   "metadata": {
    "execution": {
     "iopub.execute_input": "2022-06-25T07:06:05.601577Z",
     "iopub.status.busy": "2022-06-25T07:06:05.601132Z",
     "iopub.status.idle": "2022-06-25T07:06:05.620230Z",
     "shell.execute_reply": "2022-06-25T07:06:05.619691Z"
    }
   },
   "outputs": [
    {
     "data": {
      "text/latex": [
       "$\\displaystyle - g l m_{1} \\sin{\\left(q_{1} \\right)} - g l m_{2} \\sin{\\left(q_{1} \\right)}$"
      ],
      "text/plain": [
       "-g⋅l⋅m₁⋅sin(q₁) - g⋅l⋅m₂⋅sin(q₁)"
      ]
     },
     "execution_count": 15,
     "metadata": {},
     "output_type": "execute_result"
    }
   ],
   "source": [
    "F1 = me.dot(v_P1_1, R1) + me.dot(v_P2_1, R2)\n",
    "F1"
   ]
  },
  {
   "cell_type": "code",
   "execution_count": 16,
   "id": "4577fd2b",
   "metadata": {
    "execution": {
     "iopub.execute_input": "2022-06-25T07:06:05.623634Z",
     "iopub.status.busy": "2022-06-25T07:06:05.622571Z",
     "iopub.status.idle": "2022-06-25T07:06:05.630506Z",
     "shell.execute_reply": "2022-06-25T07:06:05.630009Z"
    }
   },
   "outputs": [
    {
     "data": {
      "text/latex": [
       "$\\displaystyle - g l m_{2} \\sin{\\left(q_{2} \\right)}$"
      ],
      "text/plain": [
       "-g⋅l⋅m₂⋅sin(q₂)"
      ]
     },
     "execution_count": 16,
     "metadata": {},
     "output_type": "execute_result"
    }
   ],
   "source": [
    "F2 = me.dot(v_P1_2, R1) + me.dot(v_P2_2, R2)\n",
    "F2"
   ]
  },
  {
   "cell_type": "code",
   "execution_count": 17,
   "id": "e09dd347",
   "metadata": {
    "execution": {
     "iopub.execute_input": "2022-06-25T07:06:05.633177Z",
     "iopub.status.busy": "2022-06-25T07:06:05.632743Z",
     "iopub.status.idle": "2022-06-25T07:06:05.656611Z",
     "shell.execute_reply": "2022-06-25T07:06:05.655487Z"
    }
   },
   "outputs": [
    {
     "data": {
      "text/latex": [
       "$\\displaystyle \\left( \\frac{l u_{1}}{2}\\mathbf{\\hat{a}_y}, \\  l u_{1}\\mathbf{\\hat{a}_y}, \\  u_{1}\\mathbf{\\hat{n}_z}, \\  u_{2}\\mathbf{\\hat{a}_x} + u_{1}\\mathbf{\\hat{n}_z}\\right)$"
      ],
      "text/plain": [
       "⎛  l⋅u₁  , l⋅u₁ a_y, u₁ n_z, u₂ a_x + u₁ n_z⎞\n",
       "⎜──── a_y                                   ⎟\n",
       "⎝    2                                      ⎠"
      ]
     },
     "execution_count": 17,
     "metadata": {},
     "output_type": "execute_result"
    }
   ],
   "source": [
    "m, g, k, l = sm.symbols('m, g, k, l')\n",
    "q1, q2, u1, u2 = me.dynamicsymbols('q1, q2, u1, u2')\n",
    "\n",
    "N = me.ReferenceFrame('N')\n",
    "A = me.ReferenceFrame('A')\n",
    "B = me.ReferenceFrame('B')\n",
    "\n",
    "A.orient_axis(N, q1, N.z)\n",
    "B.orient_axis(A, q2, A.x)\n",
    "\n",
    "A.set_ang_vel(N, u1*N.z)\n",
    "B.set_ang_vel(A, u2*A.x)\n",
    "\n",
    "O = me.Point('O')\n",
    "Ao = me.Point('A_O')\n",
    "Bo = me.Point('B_O')\n",
    "\n",
    "Ao.set_pos(O, l/2*A.x)\n",
    "Bo.set_pos(O, l*A.x)\n",
    "\n",
    "O.set_vel(N, 0)\n",
    "Ao.v2pt_theory(O, N, A)\n",
    "Bo.v2pt_theory(O, N, A)\n",
    "\n",
    "Ao.vel(N), Bo.vel(N), A.ang_vel_in(N), B.ang_vel_in(N)"
   ]
  },
  {
   "cell_type": "code",
   "execution_count": 18,
   "id": "a3a16a0c",
   "metadata": {
    "execution": {
     "iopub.execute_input": "2022-06-25T07:06:05.659284Z",
     "iopub.status.busy": "2022-06-25T07:06:05.658804Z",
     "iopub.status.idle": "2022-06-25T07:06:05.671684Z",
     "shell.execute_reply": "2022-06-25T07:06:05.671163Z"
    }
   },
   "outputs": [
    {
     "data": {
      "text/latex": [
       "$\\displaystyle \\left( \\frac{l}{2}\\mathbf{\\hat{a}_y}, \\  0, \\  l\\mathbf{\\hat{a}_y}, \\  0\\right)$"
      ],
      "text/plain": [
       "⎛  l  , 0, l a_y, 0⎞\n",
       "⎜─ a_y             ⎟\n",
       "⎝  2               ⎠"
      ]
     },
     "execution_count": 18,
     "metadata": {},
     "output_type": "execute_result"
    }
   ],
   "source": [
    "v_Ao_1 = Ao.vel(N).diff(u1, N)\n",
    "v_Ao_2 = Ao.vel(N).diff(u2, N)\n",
    "v_Bo_1 = Bo.vel(N).diff(u1, N)\n",
    "v_Bo_2 = Bo.vel(N).diff(u2, N)\n",
    "\n",
    "v_Ao_1, v_Ao_2, v_Bo_1, v_Bo_2"
   ]
  },
  {
   "cell_type": "code",
   "execution_count": 19,
   "id": "8825d001",
   "metadata": {
    "execution": {
     "iopub.execute_input": "2022-06-25T07:06:05.674267Z",
     "iopub.status.busy": "2022-06-25T07:06:05.673963Z",
     "iopub.status.idle": "2022-06-25T07:06:05.686890Z",
     "shell.execute_reply": "2022-06-25T07:06:05.686379Z"
    }
   },
   "outputs": [
    {
     "data": {
      "text/latex": [
       "$\\displaystyle \\left( \\mathbf{\\hat{n}_z}, \\  0, \\  \\mathbf{\\hat{n}_z}, \\  \\mathbf{\\hat{a}_x}\\right)$"
      ],
      "text/plain": [
       "(n_z, 0, n_z, a_x)"
      ]
     },
     "execution_count": 19,
     "metadata": {},
     "output_type": "execute_result"
    }
   ],
   "source": [
    "w_A_1 = A.ang_vel_in(N).diff(u1, N)\n",
    "w_A_2 = A.ang_vel_in(N).diff(u2, N)\n",
    "w_B_1 = B.ang_vel_in(N).diff(u1, N)\n",
    "w_B_2 = B.ang_vel_in(N).diff(u2, N)\n",
    "\n",
    "w_A_1, w_A_2, w_B_1, w_B_2"
   ]
  },
  {
   "cell_type": "code",
   "execution_count": 20,
   "id": "9023ebf9",
   "metadata": {
    "execution": {
     "iopub.execute_input": "2022-06-25T07:06:05.690256Z",
     "iopub.status.busy": "2022-06-25T07:06:05.689174Z",
     "iopub.status.idle": "2022-06-25T07:06:05.696510Z",
     "shell.execute_reply": "2022-06-25T07:06:05.695977Z"
    }
   },
   "outputs": [
    {
     "data": {
      "text/latex": [
       "$\\displaystyle \\left( g m\\mathbf{\\hat{n}_x}, \\  g m\\mathbf{\\hat{n}_x}\\right)$"
      ],
      "text/plain": [
       "(g⋅m n_x, g⋅m n_x)"
      ]
     },
     "execution_count": 20,
     "metadata": {},
     "output_type": "execute_result"
    }
   ],
   "source": [
    "R_Ao = m*g*N.x\n",
    "R_Bo = m*g*N.x\n",
    "\n",
    "R_Ao, R_Bo"
   ]
  },
  {
   "cell_type": "code",
   "execution_count": 21,
   "id": "33bd81d6",
   "metadata": {
    "execution": {
     "iopub.execute_input": "2022-06-25T07:06:05.699226Z",
     "iopub.status.busy": "2022-06-25T07:06:05.698731Z",
     "iopub.status.idle": "2022-06-25T07:06:05.707987Z",
     "shell.execute_reply": "2022-06-25T07:06:05.707481Z"
    }
   },
   "outputs": [
    {
     "data": {
      "text/latex": [
       "$\\displaystyle \\left( -  k q_{1}\\mathbf{\\hat{n}_z} + k q_{2}\\mathbf{\\hat{a}_x}, \\  -  k q_{2}\\mathbf{\\hat{a}_x}\\right)$"
      ],
      "text/plain": [
       "(-k⋅q₁ n_z + k⋅q₂ a_x, -k⋅q₂ a_x)"
      ]
     },
     "execution_count": 21,
     "metadata": {},
     "output_type": "execute_result"
    }
   ],
   "source": [
    "T_A = -k*q1*N.z + k*q2*A.x\n",
    "T_B = -k*q2*A.x\n",
    "\n",
    "T_A, T_B"
   ]
  },
  {
   "cell_type": "code",
   "execution_count": 22,
   "id": "5dfa3f78",
   "metadata": {
    "execution": {
     "iopub.execute_input": "2022-06-25T07:06:05.710854Z",
     "iopub.status.busy": "2022-06-25T07:06:05.710395Z",
     "iopub.status.idle": "2022-06-25T07:06:05.724124Z",
     "shell.execute_reply": "2022-06-25T07:06:05.723614Z"
    }
   },
   "outputs": [
    {
     "data": {
      "text/latex": [
       "$\\displaystyle \\left( - \\frac{g l m \\sin{\\left(q_{1} \\right)}}{2} - k q_{1}, \\  - g l m \\sin{\\left(q_{1} \\right)}, \\  0, \\  - k q_{2}\\right)$"
      ],
      "text/plain": [
       "⎛  g⋅l⋅m⋅sin(q₁)                                 ⎞\n",
       "⎜- ───────────── - k⋅q₁, -g⋅l⋅m⋅sin(q₁), 0, -k⋅q₂⎟\n",
       "⎝        2                                       ⎠"
      ]
     },
     "execution_count": 22,
     "metadata": {},
     "output_type": "execute_result"
    }
   ],
   "source": [
    "F1_A = v_Ao_1.dot(R_Ao) + w_A_1.dot(T_A)\n",
    "F1_B = v_Bo_1.dot(R_Bo) + w_B_1.dot(T_B)\n",
    "F2_A = v_Ao_2.dot(R_Ao) + w_A_2.dot(T_A)\n",
    "F2_B = v_Bo_2.dot(R_Bo) + w_B_2.dot(T_B)\n",
    "\n",
    "F1_A, F1_B, F2_A, F2_B"
   ]
  },
  {
   "cell_type": "code",
   "execution_count": 23,
   "id": "752fd1cb",
   "metadata": {
    "execution": {
     "iopub.execute_input": "2022-06-25T07:06:05.727533Z",
     "iopub.status.busy": "2022-06-25T07:06:05.726455Z",
     "iopub.status.idle": "2022-06-25T07:06:05.735501Z",
     "shell.execute_reply": "2022-06-25T07:06:05.734645Z"
    }
   },
   "outputs": [
    {
     "data": {
      "text/latex": [
       "$\\displaystyle \\left[\\begin{matrix}- \\frac{3 g l m \\sin{\\left(q_{1} \\right)}}{2} - k q_{1}\\\\- k q_{2}\\end{matrix}\\right]$"
      ],
      "text/plain": [
       "⎡  3⋅g⋅l⋅m⋅sin(q₁)       ⎤\n",
       "⎢- ─────────────── - k⋅q₁⎥\n",
       "⎢         2              ⎥\n",
       "⎢                        ⎥\n",
       "⎣         -k⋅q₂          ⎦"
      ]
     },
     "execution_count": 23,
     "metadata": {},
     "output_type": "execute_result"
    }
   ],
   "source": [
    "F1 = F1_A + F1_B\n",
    "F2 = F2_A + F2_B\n",
    "\n",
    "Fr = sm.Matrix([F1, F2])\n",
    "Fr"
   ]
  },
  {
   "cell_type": "code",
   "execution_count": 24,
   "id": "cdf11642",
   "metadata": {
    "execution": {
     "iopub.execute_input": "2022-06-25T07:06:05.738114Z",
     "iopub.status.busy": "2022-06-25T07:06:05.737805Z",
     "iopub.status.idle": "2022-06-25T07:06:05.765340Z",
     "shell.execute_reply": "2022-06-25T07:06:05.764817Z"
    }
   },
   "outputs": [],
   "source": [
    "m, g, k, l = sm.symbols('m, g, k, l')\n",
    "q1, q2, u1, u2 = me.dynamicsymbols('q1, q2, u1, u2')\n",
    "\n",
    "N = me.ReferenceFrame('N')\n",
    "A = me.ReferenceFrame('A')\n",
    "B = me.ReferenceFrame('B')\n",
    "\n",
    "A.orient_axis(N, q1, N.z)\n",
    "B.orient_axis(A, q2, A.x)\n",
    "\n",
    "A.set_ang_vel(N, u1*N.z)\n",
    "B.set_ang_vel(A, u2*A.x)\n",
    "\n",
    "O = me.Point('O')\n",
    "Ao = me.Point('A_O')\n",
    "Bo = me.Point('B_O')\n",
    "\n",
    "Ao.set_pos(O, l/2*A.x)\n",
    "Bo.set_pos(O, l*A.x)\n",
    "\n",
    "O.set_vel(N, 0)\n",
    "Ao.v2pt_theory(O, N, A)\n",
    "Bo.v2pt_theory(O, N, A)\n",
    "\n",
    "v_Ao_1 = Ao.vel(N).diff(u1, N)\n",
    "v_Ao_2 = Ao.vel(N).diff(u2, N)\n",
    "v_Bo_1 = Bo.vel(N).diff(u1, N)\n",
    "v_Bo_2 = Bo.vel(N).diff(u2, N)\n",
    "\n",
    "w_A_1 = A.ang_vel_in(N).diff(u1, N)\n",
    "w_A_2 = A.ang_vel_in(N).diff(u2, N)\n",
    "w_B_1 = B.ang_vel_in(N).diff(u1, N)\n",
    "w_B_2 = B.ang_vel_in(N).diff(u2, N)"
   ]
  },
  {
   "cell_type": "code",
   "execution_count": 25,
   "id": "f4fe98f6",
   "metadata": {
    "execution": {
     "iopub.execute_input": "2022-06-25T07:06:05.767785Z",
     "iopub.status.busy": "2022-06-25T07:06:05.767487Z",
     "iopub.status.idle": "2022-06-25T07:06:05.783992Z",
     "shell.execute_reply": "2022-06-25T07:06:05.783347Z"
    }
   },
   "outputs": [
    {
     "data": {
      "text/latex": [
       "$\\displaystyle \\left( -  \\frac{l u_{1}^{2}}{2}\\mathbf{\\hat{a}_x} + \\frac{l \\dot{u}_{1}}{2}\\mathbf{\\hat{a}_y}, \\  -  l u_{1}^{2}\\mathbf{\\hat{a}_x} + l \\dot{u}_{1}\\mathbf{\\hat{a}_y}\\right)$"
      ],
      "text/plain": [
       "⎛             2        ,              2       ⎞\n",
       "⎜ -l⋅u₁         l⋅u₁̇    -l⋅u₁  a_x + l⋅u₁̇ a_y⎟\n",
       "⎜─────── a_x + ──── a_y                       ⎟\n",
       "⎝      2           2                          ⎠"
      ]
     },
     "execution_count": 25,
     "metadata": {},
     "output_type": "execute_result"
    }
   ],
   "source": [
    "Ao.acc(N), Bo.acc(N)"
   ]
  },
  {
   "cell_type": "code",
   "execution_count": 26,
   "id": "bb5f1c62",
   "metadata": {
    "execution": {
     "iopub.execute_input": "2022-06-25T07:06:05.787451Z",
     "iopub.status.busy": "2022-06-25T07:06:05.786369Z",
     "iopub.status.idle": "2022-06-25T07:06:05.800023Z",
     "shell.execute_reply": "2022-06-25T07:06:05.799519Z"
    }
   },
   "outputs": [
    {
     "data": {
      "text/latex": [
       "$\\displaystyle \\left( \\dot{u}_{1}\\mathbf{\\hat{n}_z}, \\  \\dot{u}_{2}\\mathbf{\\hat{a}_x} + u_{1} u_{2}\\mathbf{\\hat{a}_y} + \\dot{u}_{1}\\mathbf{\\hat{n}_z}\\right)$"
      ],
      "text/plain": [
       "(u₁̇ n_z, u₂̇ a_x + u₁⋅u₂ a_y + u₁̇ n_z)"
      ]
     },
     "execution_count": 26,
     "metadata": {},
     "output_type": "execute_result"
    }
   ],
   "source": [
    "A.ang_acc_in(N), B.ang_acc_in(N)"
   ]
  },
  {
   "cell_type": "code",
   "execution_count": 27,
   "id": "dd32c310",
   "metadata": {
    "execution": {
     "iopub.execute_input": "2022-06-25T07:06:05.802564Z",
     "iopub.status.busy": "2022-06-25T07:06:05.802264Z",
     "iopub.status.idle": "2022-06-25T07:06:05.808885Z",
     "shell.execute_reply": "2022-06-25T07:06:05.808348Z"
    }
   },
   "outputs": [
    {
     "data": {
      "text/latex": [
       "$\\displaystyle \\frac{l^{2} m}{12}$"
      ],
      "text/plain": [
       " 2  \n",
       "l ⋅m\n",
       "────\n",
       " 12 "
      ]
     },
     "execution_count": 27,
     "metadata": {},
     "output_type": "execute_result"
    }
   ],
   "source": [
    "I = m*l**2/12\n",
    "I"
   ]
  },
  {
   "cell_type": "code",
   "execution_count": 28,
   "id": "b0187270",
   "metadata": {
    "execution": {
     "iopub.execute_input": "2022-06-25T07:06:05.811441Z",
     "iopub.status.busy": "2022-06-25T07:06:05.811115Z",
     "iopub.status.idle": "2022-06-25T07:06:05.821869Z",
     "shell.execute_reply": "2022-06-25T07:06:05.820628Z"
    }
   },
   "outputs": [
    {
     "data": {
      "text/latex": [
       "$\\displaystyle \\left( \\frac{l^{2} m}{12}\\mathbf{\\hat{a}_y}\\otimes \\mathbf{\\hat{a}_y} + \\frac{l^{2} m}{12}\\mathbf{\\hat{a}_z}\\otimes \\mathbf{\\hat{a}_z}, \\  \\frac{l^{2} m}{12}\\mathbf{\\hat{b}_x}\\otimes \\mathbf{\\hat{b}_x} + \\frac{l^{2} m}{12}\\mathbf{\\hat{b}_z}\\otimes \\mathbf{\\hat{b}_z}\\right)$"
      ],
      "text/plain": [
       "⎛         2         ,          2         ⎞\n",
       "⎜        l ⋅m                 l ⋅m       ⎟\n",
       "⎜        ────                 ────       ⎟\n",
       "⎜ 12  a_y⊗a_y +  2     12  b_x⊗b_x +  2  ⎟\n",
       "⎜        l ⋅m                 l ⋅m       ⎟\n",
       "⎜        ────                 ────       ⎟\n",
       "⎝     12  a_z⊗a_z          12  b_z⊗b_z   ⎠"
      ]
     },
     "execution_count": 28,
     "metadata": {},
     "output_type": "execute_result"
    }
   ],
   "source": [
    "I_A_Ao = I*me.outer(A.y, A.y) + I*me.outer(A.z, A.z)\n",
    "I_B_Bo = I*me.outer(B.x, B.x) + I*me.outer(B.z, B.z)\n",
    "I_A_Ao, I_B_Bo"
   ]
  },
  {
   "cell_type": "code",
   "execution_count": 29,
   "id": "f9447c67",
   "metadata": {
    "execution": {
     "iopub.execute_input": "2022-06-25T07:06:05.824512Z",
     "iopub.status.busy": "2022-06-25T07:06:05.824099Z",
     "iopub.status.idle": "2022-06-25T07:06:05.840891Z",
     "shell.execute_reply": "2022-06-25T07:06:05.839887Z"
    }
   },
   "outputs": [
    {
     "data": {
      "text/latex": [
       "$\\displaystyle \\left( \\frac{l m u_{1}^{2}}{2}\\mathbf{\\hat{a}_x} -  \\frac{l m \\dot{u}_{1}}{2}\\mathbf{\\hat{a}_y}, \\  l m u_{1}^{2}\\mathbf{\\hat{a}_x} -  l m \\dot{u}_{1}\\mathbf{\\hat{a}_y}\\right)$"
      ],
      "text/plain": [
       "⎛               2          ,                2         ⎞\n",
       "⎜  l⋅m⋅u₁        -l⋅m⋅u₁̇    l⋅m⋅u₁  a_x + -l⋅m⋅u₁̇ a_y⎟\n",
       "⎜─────── a_x + ──────── a_y                           ⎟\n",
       "⎝       2             2                               ⎠"
      ]
     },
     "execution_count": 29,
     "metadata": {},
     "output_type": "execute_result"
    }
   ],
   "source": [
    "Rs_Ao = -m*Ao.acc(N)\n",
    "Rs_Bo = -m*Bo.acc(N)\n",
    "\n",
    "Rs_Ao, Rs_Bo"
   ]
  },
  {
   "cell_type": "code",
   "execution_count": 30,
   "id": "caeff2e9",
   "metadata": {
    "execution": {
     "iopub.execute_input": "2022-06-25T07:06:05.844304Z",
     "iopub.status.busy": "2022-06-25T07:06:05.843197Z",
     "iopub.status.idle": "2022-06-25T07:06:05.858811Z",
     "shell.execute_reply": "2022-06-25T07:06:05.858078Z"
    }
   },
   "outputs": [
    {
     "data": {
      "text/latex": [
       "$\\displaystyle -  \\frac{l^{2} m \\dot{u}_{1}}{12}\\mathbf{\\hat{a}_z}$"
      ],
      "text/plain": [
       "  2\n",
       "-l ⋅m⋅u₁̇\n",
       "───────── a_z\n",
       "    12"
      ]
     },
     "execution_count": 30,
     "metadata": {},
     "output_type": "execute_result"
    }
   ],
   "source": [
    "Ts_A = -(A.ang_acc_in(N).dot(I_A_Ao) +\n",
    "         me.cross(A.ang_vel_in(N), I_A_Ao).dot(A.ang_vel_in(N)))\n",
    "Ts_A"
   ]
  },
  {
   "cell_type": "code",
   "execution_count": 31,
   "id": "c592b9b7",
   "metadata": {
    "execution": {
     "iopub.execute_input": "2022-06-25T07:06:05.862225Z",
     "iopub.status.busy": "2022-06-25T07:06:05.861127Z",
     "iopub.status.idle": "2022-06-25T07:06:05.897191Z",
     "shell.execute_reply": "2022-06-25T07:06:05.895919Z"
    }
   },
   "outputs": [
    {
     "data": {
      "text/latex": [
       "$\\displaystyle (- \\frac{l^{2} m u_{1}^{2} \\sin{\\left(q_{2} \\right)} \\cos{\\left(q_{2} \\right)}}{12} - \\frac{l^{2} m \\dot{u}_{2}}{12})\\mathbf{\\hat{b}_x} + (- \\frac{l^{2} m \\left(- u_{1} u_{2} \\sin{\\left(q_{2} \\right)} + \\cos{\\left(q_{2} \\right)} \\dot{u}_{1}\\right)}{12} + \\frac{l^{2} m u_{1} u_{2} \\sin{\\left(q_{2} \\right)}}{12})\\mathbf{\\hat{b}_z}$"
      ],
      "text/plain": [
       "⎛   2     2                    2     ⎞       ⎛   2\n",
       "⎜  l ⋅m⋅u₁ ⋅sin(q₂)⋅cos(q₂)   l ⋅m⋅u₂̇⎟       ⎜  l ⋅m⋅(-u₁⋅u₂⋅sin(q₂) + cos(q₂\n",
       "⎜- ──────────────────────── - ───────⎟ b_x + ⎜- ──────────────────────────────\n",
       "⎝             12                 12  ⎠       ⎝                  12\n",
       "\n",
       "        2                ⎞\n",
       ")⋅u₁̇)   l ⋅m⋅u₁⋅u₂⋅sin(q₂)⎟\n",
       "──── + ──────────────────⎟ b_z\n",
       "               12        ⎠"
      ]
     },
     "execution_count": 31,
     "metadata": {},
     "output_type": "execute_result"
    }
   ],
   "source": [
    "Ts_B = -(B.ang_acc_in(N).dot(I_B_Bo) +\n",
    "         me.cross(B.ang_vel_in(N), I_B_Bo).dot(B.ang_vel_in(N)))\n",
    "Ts_B"
   ]
  },
  {
   "cell_type": "code",
   "execution_count": 32,
   "id": "6ed01391",
   "metadata": {
    "execution": {
     "iopub.execute_input": "2022-06-25T07:06:05.899995Z",
     "iopub.status.busy": "2022-06-25T07:06:05.899512Z",
     "iopub.status.idle": "2022-06-25T07:06:05.914375Z",
     "shell.execute_reply": "2022-06-25T07:06:05.913850Z"
    }
   },
   "outputs": [],
   "source": [
    "F1s_A = v_Ao_1.dot(Rs_Ao) + w_A_1.dot(Ts_A)\n",
    "F1s_B = v_Bo_1.dot(Rs_Bo) + w_B_1.dot(Ts_B)\n",
    "F2s_A = v_Ao_2.dot(Rs_Ao) + w_A_2.dot(Ts_A)\n",
    "F2s_B = v_Bo_2.dot(Rs_Bo) + w_B_2.dot(Ts_B)"
   ]
  },
  {
   "cell_type": "code",
   "execution_count": 33,
   "id": "88871002",
   "metadata": {
    "execution": {
     "iopub.execute_input": "2022-06-25T07:06:05.916984Z",
     "iopub.status.busy": "2022-06-25T07:06:05.916655Z",
     "iopub.status.idle": "2022-06-25T07:06:05.932051Z",
     "shell.execute_reply": "2022-06-25T07:06:05.931540Z"
    }
   },
   "outputs": [
    {
     "data": {
      "text/latex": [
       "$\\displaystyle \\left[\\begin{matrix}- \\frac{4 l^{2} m \\dot{u}_{1}}{3} + \\left(- \\frac{l^{2} m \\left(- u_{1} u_{2} \\sin{\\left(q_{2} \\right)} + \\cos{\\left(q_{2} \\right)} \\dot{u}_{1}\\right)}{12} + \\frac{l^{2} m u_{1} u_{2} \\sin{\\left(q_{2} \\right)}}{12}\\right) \\cos{\\left(q_{2} \\right)}\\\\- \\frac{l^{2} m u_{1}^{2} \\sin{\\left(q_{2} \\right)} \\cos{\\left(q_{2} \\right)}}{12} - \\frac{l^{2} m \\dot{u}_{2}}{12}\\end{matrix}\\right]$"
      ],
      "text/plain": [
       "⎡     2        ⎛   2                                    2                ⎞    \n",
       "⎢  4⋅l ⋅m⋅u₁̇   ⎜  l ⋅m⋅(-u₁⋅u₂⋅sin(q₂) + cos(q₂)⋅u₁̇)   l ⋅m⋅u₁⋅u₂⋅sin(q₂)⎟  \n",
       "⎢- ───────── + ⎜- ────────────────────────────────── + ──────────────────⎟⋅cos\n",
       "⎢      3       ⎝                  12                           12        ⎠    \n",
       "⎢                                                                             \n",
       "⎢                         2     2                    2                        \n",
       "⎢                        l ⋅m⋅u₁ ⋅sin(q₂)⋅cos(q₂)   l ⋅m⋅u₂̇                  \n",
       "⎢                      - ──────────────────────── - ───────                   \n",
       "⎣                                   12                 12                     \n",
       "\n",
       "    ⎤\n",
       "      ⎥\n",
       "(q₂)⎥\n",
       "    ⎥\n",
       "    ⎥\n",
       "    ⎥\n",
       "     ⎥\n",
       "    ⎥\n",
       "    ⎦"
      ]
     },
     "execution_count": 33,
     "metadata": {},
     "output_type": "execute_result"
    }
   ],
   "source": [
    "F1s = F1s_A + F1s_B\n",
    "F2s = F2s_A + F2s_B\n",
    "\n",
    "Frs = sm.Matrix([F1s, F2s])\n",
    "Frs"
   ]
  }
 ],
 "metadata": {
  "kernelspec": {
   "display_name": "Python 3 (ipykernel)",
   "language": "python",
   "name": "python3"
  },
  "language_info": {
   "codemirror_mode": {
    "name": "ipython",
    "version": 3
   },
   "file_extension": ".py",
   "mimetype": "text/x-python",
   "name": "python",
   "nbconvert_exporter": "python",
   "pygments_lexer": "ipython3",
   "version": "3.9.13"
  }
 },
 "nbformat": 4,
 "nbformat_minor": 5
}