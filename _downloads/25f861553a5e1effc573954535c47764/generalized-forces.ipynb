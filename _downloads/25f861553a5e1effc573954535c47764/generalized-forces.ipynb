{
 "cells": [
  {
   "cell_type": "code",
   "execution_count": 1,
   "id": "7a8178d6",
   "metadata": {
    "execution": {
     "iopub.execute_input": "2022-07-17T08:57:03.084912Z",
     "iopub.status.busy": "2022-07-17T08:57:03.084477Z",
     "iopub.status.idle": "2022-07-17T08:57:03.553654Z",
     "shell.execute_reply": "2022-07-17T08:57:03.552677Z"
    }
   },
   "outputs": [],
   "source": [
    "import sympy as sm\n",
    "import sympy.physics.mechanics as me\n",
    "me.init_vprinting(use_latex='mathjax')"
   ]
  },
  {
   "cell_type": "code",
   "execution_count": 2,
   "id": "de6f5fb0",
   "metadata": {
    "execution": {
     "iopub.execute_input": "2022-07-17T08:57:03.557495Z",
     "iopub.status.busy": "2022-07-17T08:57:03.557095Z",
     "iopub.status.idle": "2022-07-17T08:57:03.567971Z",
     "shell.execute_reply": "2022-07-17T08:57:03.567366Z"
    }
   },
   "outputs": [],
   "source": [
    "L = sm.symbols('L')\n",
    "q1, q2, u1, u2 = me.dynamicsymbols('q1, q2, u1, u2')\n",
    "\n",
    "N = me.ReferenceFrame('N')\n",
    "R = me.ReferenceFrame('R')\n",
    "\n",
    "R.orient_axis(N, q2, N.z)"
   ]
  },
  {
   "cell_type": "code",
   "execution_count": 3,
   "id": "cf036740",
   "metadata": {
    "execution": {
     "iopub.execute_input": "2022-07-17T08:57:03.570407Z",
     "iopub.status.busy": "2022-07-17T08:57:03.570079Z",
     "iopub.status.idle": "2022-07-17T08:57:03.579613Z",
     "shell.execute_reply": "2022-07-17T08:57:03.578004Z"
    }
   },
   "outputs": [
    {
     "data": {
      "text/latex": [
       "$\\displaystyle u_{1}\\mathbf{\\hat{n}_x}$"
      ],
      "text/plain": [
       "u₁ n_x"
      ]
     },
     "execution_count": 3,
     "metadata": {},
     "output_type": "execute_result"
    }
   ],
   "source": [
    "N_v_A = u1*N.x\n",
    "N_v_A"
   ]
  },
  {
   "cell_type": "code",
   "execution_count": 4,
   "id": "66ab9fd0",
   "metadata": {
    "execution": {
     "iopub.execute_input": "2022-07-17T08:57:03.582281Z",
     "iopub.status.busy": "2022-07-17T08:57:03.581886Z",
     "iopub.status.idle": "2022-07-17T08:57:03.588218Z",
     "shell.execute_reply": "2022-07-17T08:57:03.587704Z"
    }
   },
   "outputs": [
    {
     "data": {
      "text/latex": [
       "$\\displaystyle u_{2}\\mathbf{\\hat{n}_z}$"
      ],
      "text/plain": [
       "u₂ n_z"
      ]
     },
     "execution_count": 4,
     "metadata": {},
     "output_type": "execute_result"
    }
   ],
   "source": [
    "N_w_R = u2*N.z\n",
    "N_w_R"
   ]
  },
  {
   "cell_type": "code",
   "execution_count": 5,
   "id": "2c2d1a21",
   "metadata": {
    "execution": {
     "iopub.execute_input": "2022-07-17T08:57:03.591004Z",
     "iopub.status.busy": "2022-07-17T08:57:03.590519Z",
     "iopub.status.idle": "2022-07-17T08:57:03.603797Z",
     "shell.execute_reply": "2022-07-17T08:57:03.603254Z"
    }
   },
   "outputs": [
    {
     "data": {
      "text/latex": [
       "$\\displaystyle (L u_{2} \\sin{\\left(q_{2} \\right)} + u_{1})\\mathbf{\\hat{n}_x} -  L u_{2} \\cos{\\left(q_{2} \\right)}\\mathbf{\\hat{n}_y}$"
      ],
      "text/plain": [
       "(L⋅u₂⋅sin(q₂) + u₁) n_x + -L⋅u₂⋅cos(q₂) n_y"
      ]
     },
     "execution_count": 5,
     "metadata": {},
     "output_type": "execute_result"
    }
   ],
   "source": [
    "r_A_B = -L*R.x\n",
    "N_v_B = N_v_A + me.cross(N_w_R, r_A_B)\n",
    "\n",
    "N_v_B.express(N)"
   ]
  },
  {
   "cell_type": "code",
   "execution_count": 6,
   "id": "8a56b0ae",
   "metadata": {
    "execution": {
     "iopub.execute_input": "2022-07-17T08:57:03.606643Z",
     "iopub.status.busy": "2022-07-17T08:57:03.606199Z",
     "iopub.status.idle": "2022-07-17T08:57:03.621782Z",
     "shell.execute_reply": "2022-07-17T08:57:03.620463Z"
    }
   },
   "outputs": [
    {
     "data": {
      "text/latex": [
       "$\\displaystyle \\left( \\mathbf{\\hat{n}_x}, \\  0\\right)$"
      ],
      "text/plain": [
       "(n_x, 0)"
      ]
     },
     "execution_count": 6,
     "metadata": {},
     "output_type": "execute_result"
    }
   ],
   "source": [
    "v_A_1 = N_v_A.diff(u1, N)\n",
    "v_A_2 = N_v_A.diff(u2, N)\n",
    "\n",
    "v_A_1, v_A_2"
   ]
  },
  {
   "cell_type": "code",
   "execution_count": 7,
   "id": "1dc9e860",
   "metadata": {
    "execution": {
     "iopub.execute_input": "2022-07-17T08:57:03.625281Z",
     "iopub.status.busy": "2022-07-17T08:57:03.624188Z",
     "iopub.status.idle": "2022-07-17T08:57:03.635697Z",
     "shell.execute_reply": "2022-07-17T08:57:03.635197Z"
    }
   },
   "outputs": [
    {
     "data": {
      "text/latex": [
       "$\\displaystyle \\left( \\mathbf{\\hat{n}_x}, \\  -  L\\mathbf{\\hat{r}_y}\\right)$"
      ],
      "text/plain": [
       "(n_x, -L r_y)"
      ]
     },
     "execution_count": 7,
     "metadata": {},
     "output_type": "execute_result"
    }
   ],
   "source": [
    "v_B_1 = N_v_B.diff(u1, N)\n",
    "v_B_2 = N_v_B.diff(u2, N)\n",
    "\n",
    "v_B_1, v_B_2"
   ]
  },
  {
   "cell_type": "code",
   "execution_count": 8,
   "id": "5ee018c9",
   "metadata": {
    "execution": {
     "iopub.execute_input": "2022-07-17T08:57:03.638614Z",
     "iopub.status.busy": "2022-07-17T08:57:03.638146Z",
     "iopub.status.idle": "2022-07-17T08:57:03.644405Z",
     "shell.execute_reply": "2022-07-17T08:57:03.643837Z"
    }
   },
   "outputs": [
    {
     "data": {
      "text/latex": [
       "$\\displaystyle \\left( 0, \\  \\mathbf{\\hat{n}_z}\\right)$"
      ],
      "text/plain": [
       "(0, n_z)"
      ]
     },
     "execution_count": 8,
     "metadata": {},
     "output_type": "execute_result"
    }
   ],
   "source": [
    "w_R_1 = N_w_R.diff(u1, N)\n",
    "w_R_2 = N_w_R.diff(u2, N)\n",
    "\n",
    "w_R_1, w_R_2"
   ]
  },
  {
   "cell_type": "code",
   "execution_count": 9,
   "id": "afbbf886",
   "metadata": {
    "execution": {
     "iopub.execute_input": "2022-07-17T08:57:03.647827Z",
     "iopub.status.busy": "2022-07-17T08:57:03.646731Z",
     "iopub.status.idle": "2022-07-17T08:57:03.660016Z",
     "shell.execute_reply": "2022-07-17T08:57:03.659195Z"
    }
   },
   "outputs": [
    {
     "data": {
      "text/latex": [
       "$\\displaystyle \\left[ \\left[ \\mathbf{\\hat{n}_x}, \\  0\\right], \\  \\left[ \\mathbf{\\hat{n}_x}, \\  -  L\\mathbf{\\hat{r}_y}\\right], \\  \\left[ 0, \\  \\mathbf{\\hat{n}_z}\\right]\\right]$"
      ],
      "text/plain": [
       "[[n_x, 0], [n_x, -L r_y], [0, n_z]]"
      ]
     },
     "execution_count": 9,
     "metadata": {},
     "output_type": "execute_result"
    }
   ],
   "source": [
    "me.partial_velocity((N_v_A, N_v_B, N_w_R), (u1, u2), N)"
   ]
  },
  {
   "cell_type": "code",
   "execution_count": 10,
   "id": "3c713a03",
   "metadata": {
    "execution": {
     "iopub.execute_input": "2022-07-17T08:57:03.662927Z",
     "iopub.status.busy": "2022-07-17T08:57:03.662477Z",
     "iopub.status.idle": "2022-07-17T08:57:03.685968Z",
     "shell.execute_reply": "2022-07-17T08:57:03.685404Z"
    }
   },
   "outputs": [
    {
     "data": {
      "text/latex": [
       "$\\displaystyle \\left( l \\dot{q}_{1}\\mathbf{\\hat{a}_x}, \\  l \\dot{q}_{1}\\mathbf{\\hat{a}_x} + l \\dot{q}_{2}\\mathbf{\\hat{b}_x}\\right)$"
      ],
      "text/plain": [
       "(l⋅q₁̇ a_x, l⋅q₁̇ a_x + l⋅q₂̇ b_x)"
      ]
     },
     "execution_count": 10,
     "metadata": {},
     "output_type": "execute_result"
    }
   ],
   "source": [
    "l = sm.symbols('l')\n",
    "q1, q2, u1, u2 = me.dynamicsymbols('q1, q2, u1, u2')\n",
    "\n",
    "N = me.ReferenceFrame('N')\n",
    "A = me.ReferenceFrame('A')\n",
    "B = me.ReferenceFrame('B')\n",
    "\n",
    "A.orient_axis(N, q1, N.z)\n",
    "B.orient_axis(N, q2, N.z)\n",
    "\n",
    "O = me.Point('O')\n",
    "P1 = me.Point('P1')\n",
    "P2 = me.Point('P2')\n",
    "\n",
    "O.set_vel(N, 0)\n",
    "\n",
    "P1.set_pos(O, -l*A.y)\n",
    "P2.set_pos(P1, -l*B.y)\n",
    "\n",
    "P1.v2pt_theory(O, N, A)\n",
    "P2.v2pt_theory(P1, N, B)\n",
    "\n",
    "P1.vel(N), P2.vel(N)"
   ]
  },
  {
   "cell_type": "code",
   "execution_count": 11,
   "id": "241bcafa",
   "metadata": {
    "execution": {
     "iopub.execute_input": "2022-07-17T08:57:03.688780Z",
     "iopub.status.busy": "2022-07-17T08:57:03.688299Z",
     "iopub.status.idle": "2022-07-17T08:57:03.697405Z",
     "shell.execute_reply": "2022-07-17T08:57:03.696899Z"
    }
   },
   "outputs": [
    {
     "data": {
      "text/latex": [
       "$\\displaystyle \\left( l u_{1}\\mathbf{\\hat{a}_x}, \\  l u_{1}\\mathbf{\\hat{a}_x} + l u_{2}\\mathbf{\\hat{b}_x}\\right)$"
      ],
      "text/plain": [
       "(l⋅u₁ a_x, l⋅u₁ a_x + l⋅u₂ b_x)"
      ]
     },
     "execution_count": 11,
     "metadata": {},
     "output_type": "execute_result"
    }
   ],
   "source": [
    "repl = {q1.diff(): u1, q2.diff(): u2}\n",
    "\n",
    "N_v_P1 = P1.vel(N).xreplace(repl)\n",
    "N_v_P2 = P2.vel(N).xreplace(repl)\n",
    "\n",
    "N_v_P1, N_v_P2"
   ]
  },
  {
   "cell_type": "code",
   "execution_count": 12,
   "id": "4a79b481",
   "metadata": {
    "execution": {
     "iopub.execute_input": "2022-07-17T08:57:03.700076Z",
     "iopub.status.busy": "2022-07-17T08:57:03.699769Z",
     "iopub.status.idle": "2022-07-17T08:57:03.713891Z",
     "shell.execute_reply": "2022-07-17T08:57:03.713368Z"
    }
   },
   "outputs": [
    {
     "data": {
      "text/latex": [
       "$\\displaystyle \\left( l\\mathbf{\\hat{a}_x}, \\  0, \\  l\\mathbf{\\hat{a}_x}, \\  l\\mathbf{\\hat{b}_x}\\right)$"
      ],
      "text/plain": [
       "(l a_x, 0, l a_x, l b_x)"
      ]
     },
     "execution_count": 12,
     "metadata": {},
     "output_type": "execute_result"
    }
   ],
   "source": [
    "v_P1_1 = N_v_P1.diff(u1, N)\n",
    "v_P1_2 = N_v_P1.diff(u2, N)\n",
    "v_P2_1 = N_v_P2.diff(u1, N)\n",
    "v_P2_2 = N_v_P2.diff(u2, N)\n",
    "v_P1_1, v_P1_2, v_P2_1, v_P2_2"
   ]
  },
  {
   "cell_type": "code",
   "execution_count": 13,
   "id": "dca953ac",
   "metadata": {
    "execution": {
     "iopub.execute_input": "2022-07-17T08:57:03.716603Z",
     "iopub.status.busy": "2022-07-17T08:57:03.716165Z",
     "iopub.status.idle": "2022-07-17T08:57:03.726049Z",
     "shell.execute_reply": "2022-07-17T08:57:03.725536Z"
    }
   },
   "outputs": [
    {
     "data": {
      "text/latex": [
       "$\\displaystyle -  g m_{1}\\mathbf{\\hat{n}_y} + T_{1}\\mathbf{\\hat{a}_y} -  T_{2}\\mathbf{\\hat{b}_y}$"
      ],
      "text/plain": [
       "-g⋅m₁ n_y + T₁ a_y + -T₂ b_y"
      ]
     },
     "execution_count": 13,
     "metadata": {},
     "output_type": "execute_result"
    }
   ],
   "source": [
    "T1, T2 = me.dynamicsymbols('T1, T2')\n",
    "m1, m2, g = sm.symbols('m1, m2, g')\n",
    "\n",
    "R1 = -m1*g*N.y + T1*A.y - T2*B.y\n",
    "R1"
   ]
  },
  {
   "cell_type": "code",
   "execution_count": 14,
   "id": "70bc875d",
   "metadata": {
    "execution": {
     "iopub.execute_input": "2022-07-17T08:57:03.728603Z",
     "iopub.status.busy": "2022-07-17T08:57:03.728300Z",
     "iopub.status.idle": "2022-07-17T08:57:03.735654Z",
     "shell.execute_reply": "2022-07-17T08:57:03.735141Z"
    }
   },
   "outputs": [
    {
     "data": {
      "text/latex": [
       "$\\displaystyle -  g m_{2}\\mathbf{\\hat{n}_y} + T_{2}\\mathbf{\\hat{b}_y}$"
      ],
      "text/plain": [
       "-g⋅m₂ n_y + T₂ b_y"
      ]
     },
     "execution_count": 14,
     "metadata": {},
     "output_type": "execute_result"
    }
   ],
   "source": [
    "R2 = -m2*g*N.y + T2*B.y\n",
    "R2"
   ]
  },
  {
   "cell_type": "code",
   "execution_count": 15,
   "id": "9086d26d",
   "metadata": {
    "execution": {
     "iopub.execute_input": "2022-07-17T08:57:03.738476Z",
     "iopub.status.busy": "2022-07-17T08:57:03.738029Z",
     "iopub.status.idle": "2022-07-17T08:57:03.757592Z",
     "shell.execute_reply": "2022-07-17T08:57:03.757045Z"
    }
   },
   "outputs": [
    {
     "data": {
      "text/latex": [
       "$\\displaystyle - g l m_{1} \\sin{\\left(q_{1} \\right)} - g l m_{2} \\sin{\\left(q_{1} \\right)}$"
      ],
      "text/plain": [
       "-g⋅l⋅m₁⋅sin(q₁) - g⋅l⋅m₂⋅sin(q₁)"
      ]
     },
     "execution_count": 15,
     "metadata": {},
     "output_type": "execute_result"
    }
   ],
   "source": [
    "F1 = me.dot(v_P1_1, R1) + me.dot(v_P2_1, R2)\n",
    "F1"
   ]
  },
  {
   "cell_type": "code",
   "execution_count": 16,
   "id": "b8611202",
   "metadata": {
    "execution": {
     "iopub.execute_input": "2022-07-17T08:57:03.761161Z",
     "iopub.status.busy": "2022-07-17T08:57:03.760057Z",
     "iopub.status.idle": "2022-07-17T08:57:03.768134Z",
     "shell.execute_reply": "2022-07-17T08:57:03.767634Z"
    }
   },
   "outputs": [
    {
     "data": {
      "text/latex": [
       "$\\displaystyle - g l m_{2} \\sin{\\left(q_{2} \\right)}$"
      ],
      "text/plain": [
       "-g⋅l⋅m₂⋅sin(q₂)"
      ]
     },
     "execution_count": 16,
     "metadata": {},
     "output_type": "execute_result"
    }
   ],
   "source": [
    "F2 = me.dot(v_P1_2, R1) + me.dot(v_P2_2, R2)\n",
    "F2"
   ]
  },
  {
   "cell_type": "code",
   "execution_count": 17,
   "id": "02bfdb49",
   "metadata": {
    "execution": {
     "iopub.execute_input": "2022-07-17T08:57:03.770808Z",
     "iopub.status.busy": "2022-07-17T08:57:03.770508Z",
     "iopub.status.idle": "2022-07-17T08:57:03.794029Z",
     "shell.execute_reply": "2022-07-17T08:57:03.793504Z"
    }
   },
   "outputs": [
    {
     "data": {
      "text/latex": [
       "$\\displaystyle \\left( \\frac{l u_{1}}{2}\\mathbf{\\hat{a}_y}, \\  l u_{1}\\mathbf{\\hat{a}_y}, \\  u_{1}\\mathbf{\\hat{n}_z}, \\  u_{2}\\mathbf{\\hat{a}_x} + u_{1}\\mathbf{\\hat{n}_z}\\right)$"
      ],
      "text/plain": [
       "⎛  l⋅u₁  , l⋅u₁ a_y, u₁ n_z, u₂ a_x + u₁ n_z⎞\n",
       "⎜──── a_y                                   ⎟\n",
       "⎝    2                                      ⎠"
      ]
     },
     "execution_count": 17,
     "metadata": {},
     "output_type": "execute_result"
    }
   ],
   "source": [
    "m, g, k, l = sm.symbols('m, g, k, l')\n",
    "q1, q2, u1, u2 = me.dynamicsymbols('q1, q2, u1, u2')\n",
    "\n",
    "N = me.ReferenceFrame('N')\n",
    "A = me.ReferenceFrame('A')\n",
    "B = me.ReferenceFrame('B')\n",
    "\n",
    "A.orient_axis(N, q1, N.z)\n",
    "B.orient_axis(A, q2, A.x)\n",
    "\n",
    "A.set_ang_vel(N, u1*N.z)\n",
    "B.set_ang_vel(A, u2*A.x)\n",
    "\n",
    "O = me.Point('O')\n",
    "Ao = me.Point('A_O')\n",
    "Bo = me.Point('B_O')\n",
    "\n",
    "Ao.set_pos(O, l/2*A.x)\n",
    "Bo.set_pos(O, l*A.x)\n",
    "\n",
    "O.set_vel(N, 0)\n",
    "Ao.v2pt_theory(O, N, A)\n",
    "Bo.v2pt_theory(O, N, A)\n",
    "\n",
    "Ao.vel(N), Bo.vel(N), A.ang_vel_in(N), B.ang_vel_in(N)"
   ]
  },
  {
   "cell_type": "code",
   "execution_count": 18,
   "id": "a6758691",
   "metadata": {
    "execution": {
     "iopub.execute_input": "2022-07-17T08:57:03.797492Z",
     "iopub.status.busy": "2022-07-17T08:57:03.796394Z",
     "iopub.status.idle": "2022-07-17T08:57:03.809787Z",
     "shell.execute_reply": "2022-07-17T08:57:03.809268Z"
    }
   },
   "outputs": [
    {
     "data": {
      "text/latex": [
       "$\\displaystyle \\left( \\frac{l}{2}\\mathbf{\\hat{a}_y}, \\  0, \\  l\\mathbf{\\hat{a}_y}, \\  0\\right)$"
      ],
      "text/plain": [
       "⎛  l  , 0, l a_y, 0⎞\n",
       "⎜─ a_y             ⎟\n",
       "⎝  2               ⎠"
      ]
     },
     "execution_count": 18,
     "metadata": {},
     "output_type": "execute_result"
    }
   ],
   "source": [
    "v_Ao_1 = Ao.vel(N).diff(u1, N)\n",
    "v_Ao_2 = Ao.vel(N).diff(u2, N)\n",
    "v_Bo_1 = Bo.vel(N).diff(u1, N)\n",
    "v_Bo_2 = Bo.vel(N).diff(u2, N)\n",
    "\n",
    "v_Ao_1, v_Ao_2, v_Bo_1, v_Bo_2"
   ]
  },
  {
   "cell_type": "code",
   "execution_count": 19,
   "id": "c06fea67",
   "metadata": {
    "execution": {
     "iopub.execute_input": "2022-07-17T08:57:03.813269Z",
     "iopub.status.busy": "2022-07-17T08:57:03.812188Z",
     "iopub.status.idle": "2022-07-17T08:57:03.825236Z",
     "shell.execute_reply": "2022-07-17T08:57:03.824190Z"
    }
   },
   "outputs": [
    {
     "data": {
      "text/latex": [
       "$\\displaystyle \\left( \\mathbf{\\hat{n}_z}, \\  0, \\  \\mathbf{\\hat{n}_z}, \\  \\mathbf{\\hat{a}_x}\\right)$"
      ],
      "text/plain": [
       "(n_z, 0, n_z, a_x)"
      ]
     },
     "execution_count": 19,
     "metadata": {},
     "output_type": "execute_result"
    }
   ],
   "source": [
    "w_A_1 = A.ang_vel_in(N).diff(u1, N)\n",
    "w_A_2 = A.ang_vel_in(N).diff(u2, N)\n",
    "w_B_1 = B.ang_vel_in(N).diff(u1, N)\n",
    "w_B_2 = B.ang_vel_in(N).diff(u2, N)\n",
    "\n",
    "w_A_1, w_A_2, w_B_1, w_B_2"
   ]
  },
  {
   "cell_type": "code",
   "execution_count": 20,
   "id": "6d5f83c1",
   "metadata": {
    "execution": {
     "iopub.execute_input": "2022-07-17T08:57:03.827901Z",
     "iopub.status.busy": "2022-07-17T08:57:03.827412Z",
     "iopub.status.idle": "2022-07-17T08:57:03.835364Z",
     "shell.execute_reply": "2022-07-17T08:57:03.834183Z"
    }
   },
   "outputs": [
    {
     "data": {
      "text/latex": [
       "$\\displaystyle \\left( g m\\mathbf{\\hat{n}_x}, \\  g m\\mathbf{\\hat{n}_x}\\right)$"
      ],
      "text/plain": [
       "(g⋅m n_x, g⋅m n_x)"
      ]
     },
     "execution_count": 20,
     "metadata": {},
     "output_type": "execute_result"
    }
   ],
   "source": [
    "R_Ao = m*g*N.x\n",
    "R_Bo = m*g*N.x\n",
    "\n",
    "R_Ao, R_Bo"
   ]
  },
  {
   "cell_type": "code",
   "execution_count": 21,
   "id": "14144502",
   "metadata": {
    "execution": {
     "iopub.execute_input": "2022-07-17T08:57:03.838175Z",
     "iopub.status.busy": "2022-07-17T08:57:03.837717Z",
     "iopub.status.idle": "2022-07-17T08:57:03.846804Z",
     "shell.execute_reply": "2022-07-17T08:57:03.846285Z"
    }
   },
   "outputs": [
    {
     "data": {
      "text/latex": [
       "$\\displaystyle \\left( -  k q_{1}\\mathbf{\\hat{n}_z} + k q_{2}\\mathbf{\\hat{a}_x}, \\  -  k q_{2}\\mathbf{\\hat{a}_x}\\right)$"
      ],
      "text/plain": [
       "(-k⋅q₁ n_z + k⋅q₂ a_x, -k⋅q₂ a_x)"
      ]
     },
     "execution_count": 21,
     "metadata": {},
     "output_type": "execute_result"
    }
   ],
   "source": [
    "T_A = -k*q1*N.z + k*q2*A.x\n",
    "T_B = -k*q2*A.x\n",
    "\n",
    "T_A, T_B"
   ]
  },
  {
   "cell_type": "code",
   "execution_count": 22,
   "id": "c76f7728",
   "metadata": {
    "execution": {
     "iopub.execute_input": "2022-07-17T08:57:03.849380Z",
     "iopub.status.busy": "2022-07-17T08:57:03.849053Z",
     "iopub.status.idle": "2022-07-17T08:57:03.862508Z",
     "shell.execute_reply": "2022-07-17T08:57:03.861990Z"
    }
   },
   "outputs": [
    {
     "data": {
      "text/latex": [
       "$\\displaystyle \\left( - \\frac{g l m \\sin{\\left(q_{1} \\right)}}{2} - k q_{1}, \\  - g l m \\sin{\\left(q_{1} \\right)}, \\  0, \\  - k q_{2}\\right)$"
      ],
      "text/plain": [
       "⎛  g⋅l⋅m⋅sin(q₁)                                 ⎞\n",
       "⎜- ───────────── - k⋅q₁, -g⋅l⋅m⋅sin(q₁), 0, -k⋅q₂⎟\n",
       "⎝        2                                       ⎠"
      ]
     },
     "execution_count": 22,
     "metadata": {},
     "output_type": "execute_result"
    }
   ],
   "source": [
    "F1_A = v_Ao_1.dot(R_Ao) + w_A_1.dot(T_A)\n",
    "F1_B = v_Bo_1.dot(R_Bo) + w_B_1.dot(T_B)\n",
    "F2_A = v_Ao_2.dot(R_Ao) + w_A_2.dot(T_A)\n",
    "F2_B = v_Bo_2.dot(R_Bo) + w_B_2.dot(T_B)\n",
    "\n",
    "F1_A, F1_B, F2_A, F2_B"
   ]
  },
  {
   "cell_type": "code",
   "execution_count": 23,
   "id": "791b30da",
   "metadata": {
    "execution": {
     "iopub.execute_input": "2022-07-17T08:57:03.865151Z",
     "iopub.status.busy": "2022-07-17T08:57:03.864847Z",
     "iopub.status.idle": "2022-07-17T08:57:03.873368Z",
     "shell.execute_reply": "2022-07-17T08:57:03.872865Z"
    }
   },
   "outputs": [
    {
     "data": {
      "text/latex": [
       "$\\displaystyle \\left[\\begin{matrix}- \\frac{3 g l m \\sin{\\left(q_{1} \\right)}}{2} - k q_{1}\\\\- k q_{2}\\end{matrix}\\right]$"
      ],
      "text/plain": [
       "⎡  3⋅g⋅l⋅m⋅sin(q₁)       ⎤\n",
       "⎢- ─────────────── - k⋅q₁⎥\n",
       "⎢         2              ⎥\n",
       "⎢                        ⎥\n",
       "⎣         -k⋅q₂          ⎦"
      ]
     },
     "execution_count": 23,
     "metadata": {},
     "output_type": "execute_result"
    }
   ],
   "source": [
    "F1 = F1_A + F1_B\n",
    "F2 = F2_A + F2_B\n",
    "\n",
    "Fr = sm.Matrix([F1, F2])\n",
    "Fr"
   ]
  },
  {
   "cell_type": "code",
   "execution_count": 24,
   "id": "40737eb4",
   "metadata": {
    "execution": {
     "iopub.execute_input": "2022-07-17T08:57:03.876005Z",
     "iopub.status.busy": "2022-07-17T08:57:03.875677Z",
     "iopub.status.idle": "2022-07-17T08:57:03.903592Z",
     "shell.execute_reply": "2022-07-17T08:57:03.903048Z"
    }
   },
   "outputs": [],
   "source": [
    "m, g, k, l = sm.symbols('m, g, k, l')\n",
    "q1, q2, u1, u2 = me.dynamicsymbols('q1, q2, u1, u2')\n",
    "\n",
    "N = me.ReferenceFrame('N')\n",
    "A = me.ReferenceFrame('A')\n",
    "B = me.ReferenceFrame('B')\n",
    "\n",
    "A.orient_axis(N, q1, N.z)\n",
    "B.orient_axis(A, q2, A.x)\n",
    "\n",
    "A.set_ang_vel(N, u1*N.z)\n",
    "B.set_ang_vel(A, u2*A.x)\n",
    "\n",
    "O = me.Point('O')\n",
    "Ao = me.Point('A_O')\n",
    "Bo = me.Point('B_O')\n",
    "\n",
    "Ao.set_pos(O, l/2*A.x)\n",
    "Bo.set_pos(O, l*A.x)\n",
    "\n",
    "O.set_vel(N, 0)\n",
    "Ao.v2pt_theory(O, N, A)\n",
    "Bo.v2pt_theory(O, N, A)\n",
    "\n",
    "v_Ao_1 = Ao.vel(N).diff(u1, N)\n",
    "v_Ao_2 = Ao.vel(N).diff(u2, N)\n",
    "v_Bo_1 = Bo.vel(N).diff(u1, N)\n",
    "v_Bo_2 = Bo.vel(N).diff(u2, N)\n",
    "\n",
    "w_A_1 = A.ang_vel_in(N).diff(u1, N)\n",
    "w_A_2 = A.ang_vel_in(N).diff(u2, N)\n",
    "w_B_1 = B.ang_vel_in(N).diff(u1, N)\n",
    "w_B_2 = B.ang_vel_in(N).diff(u2, N)"
   ]
  },
  {
   "cell_type": "code",
   "execution_count": 25,
   "id": "be7f3da6",
   "metadata": {
    "execution": {
     "iopub.execute_input": "2022-07-17T08:57:03.906584Z",
     "iopub.status.busy": "2022-07-17T08:57:03.906109Z",
     "iopub.status.idle": "2022-07-17T08:57:03.923055Z",
     "shell.execute_reply": "2022-07-17T08:57:03.922528Z"
    }
   },
   "outputs": [
    {
     "data": {
      "text/latex": [
       "$\\displaystyle \\left( -  \\frac{l u_{1}^{2}}{2}\\mathbf{\\hat{a}_x} + \\frac{l \\dot{u}_{1}}{2}\\mathbf{\\hat{a}_y}, \\  -  l u_{1}^{2}\\mathbf{\\hat{a}_x} + l \\dot{u}_{1}\\mathbf{\\hat{a}_y}\\right)$"
      ],
      "text/plain": [
       "⎛             2        ,              2       ⎞\n",
       "⎜ -l⋅u₁         l⋅u₁̇    -l⋅u₁  a_x + l⋅u₁̇ a_y⎟\n",
       "⎜─────── a_x + ──── a_y                       ⎟\n",
       "⎝      2           2                          ⎠"
      ]
     },
     "execution_count": 25,
     "metadata": {},
     "output_type": "execute_result"
    }
   ],
   "source": [
    "Ao.acc(N), Bo.acc(N)"
   ]
  },
  {
   "cell_type": "code",
   "execution_count": 26,
   "id": "cc00d7d5",
   "metadata": {
    "execution": {
     "iopub.execute_input": "2022-07-17T08:57:03.925750Z",
     "iopub.status.busy": "2022-07-17T08:57:03.925341Z",
     "iopub.status.idle": "2022-07-17T08:57:03.939705Z",
     "shell.execute_reply": "2022-07-17T08:57:03.939226Z"
    }
   },
   "outputs": [
    {
     "data": {
      "text/latex": [
       "$\\displaystyle \\left( \\dot{u}_{1}\\mathbf{\\hat{n}_z}, \\  \\dot{u}_{2}\\mathbf{\\hat{a}_x} + u_{1} u_{2}\\mathbf{\\hat{a}_y} + \\dot{u}_{1}\\mathbf{\\hat{n}_z}\\right)$"
      ],
      "text/plain": [
       "(u₁̇ n_z, u₂̇ a_x + u₁⋅u₂ a_y + u₁̇ n_z)"
      ]
     },
     "execution_count": 26,
     "metadata": {},
     "output_type": "execute_result"
    }
   ],
   "source": [
    "A.ang_acc_in(N), B.ang_acc_in(N)"
   ]
  },
  {
   "cell_type": "code",
   "execution_count": 27,
   "id": "9dbb9de3",
   "metadata": {
    "execution": {
     "iopub.execute_input": "2022-07-17T08:57:03.943132Z",
     "iopub.status.busy": "2022-07-17T08:57:03.942174Z",
     "iopub.status.idle": "2022-07-17T08:57:03.949042Z",
     "shell.execute_reply": "2022-07-17T08:57:03.948525Z"
    }
   },
   "outputs": [
    {
     "data": {
      "text/latex": [
       "$\\displaystyle \\frac{l^{2} m}{12}$"
      ],
      "text/plain": [
       " 2  \n",
       "l ⋅m\n",
       "────\n",
       " 12 "
      ]
     },
     "execution_count": 27,
     "metadata": {},
     "output_type": "execute_result"
    }
   ],
   "source": [
    "I = m*l**2/12\n",
    "I"
   ]
  },
  {
   "cell_type": "code",
   "execution_count": 28,
   "id": "978afc8b",
   "metadata": {
    "execution": {
     "iopub.execute_input": "2022-07-17T08:57:03.951402Z",
     "iopub.status.busy": "2022-07-17T08:57:03.951079Z",
     "iopub.status.idle": "2022-07-17T08:57:03.960556Z",
     "shell.execute_reply": "2022-07-17T08:57:03.959973Z"
    }
   },
   "outputs": [
    {
     "data": {
      "text/latex": [
       "$\\displaystyle \\left( \\frac{l^{2} m}{12}\\mathbf{\\hat{a}_y}\\otimes \\mathbf{\\hat{a}_y} + \\frac{l^{2} m}{12}\\mathbf{\\hat{a}_z}\\otimes \\mathbf{\\hat{a}_z}, \\  \\frac{l^{2} m}{12}\\mathbf{\\hat{b}_x}\\otimes \\mathbf{\\hat{b}_x} + \\frac{l^{2} m}{12}\\mathbf{\\hat{b}_z}\\otimes \\mathbf{\\hat{b}_z}\\right)$"
      ],
      "text/plain": [
       "⎛         2         ,          2         ⎞\n",
       "⎜        l ⋅m                 l ⋅m       ⎟\n",
       "⎜        ────                 ────       ⎟\n",
       "⎜ 12  a_y⊗a_y +  2     12  b_x⊗b_x +  2  ⎟\n",
       "⎜        l ⋅m                 l ⋅m       ⎟\n",
       "⎜        ────                 ────       ⎟\n",
       "⎝     12  a_z⊗a_z          12  b_z⊗b_z   ⎠"
      ]
     },
     "execution_count": 28,
     "metadata": {},
     "output_type": "execute_result"
    }
   ],
   "source": [
    "I_A_Ao = I*me.outer(A.y, A.y) + I*me.outer(A.z, A.z)\n",
    "I_B_Bo = I*me.outer(B.x, B.x) + I*me.outer(B.z, B.z)\n",
    "I_A_Ao, I_B_Bo"
   ]
  },
  {
   "cell_type": "code",
   "execution_count": 29,
   "id": "97cf092b",
   "metadata": {
    "execution": {
     "iopub.execute_input": "2022-07-17T08:57:03.963051Z",
     "iopub.status.busy": "2022-07-17T08:57:03.962595Z",
     "iopub.status.idle": "2022-07-17T08:57:03.978277Z",
     "shell.execute_reply": "2022-07-17T08:57:03.977614Z"
    }
   },
   "outputs": [
    {
     "data": {
      "text/latex": [
       "$\\displaystyle \\left( \\frac{l m u_{1}^{2}}{2}\\mathbf{\\hat{a}_x} -  \\frac{l m \\dot{u}_{1}}{2}\\mathbf{\\hat{a}_y}, \\  l m u_{1}^{2}\\mathbf{\\hat{a}_x} -  l m \\dot{u}_{1}\\mathbf{\\hat{a}_y}\\right)$"
      ],
      "text/plain": [
       "⎛               2          ,                2         ⎞\n",
       "⎜  l⋅m⋅u₁        -l⋅m⋅u₁̇    l⋅m⋅u₁  a_x + -l⋅m⋅u₁̇ a_y⎟\n",
       "⎜─────── a_x + ──────── a_y                           ⎟\n",
       "⎝       2             2                               ⎠"
      ]
     },
     "execution_count": 29,
     "metadata": {},
     "output_type": "execute_result"
    }
   ],
   "source": [
    "Rs_Ao = -m*Ao.acc(N)\n",
    "Rs_Bo = -m*Bo.acc(N)\n",
    "\n",
    "Rs_Ao, Rs_Bo"
   ]
  },
  {
   "cell_type": "code",
   "execution_count": 30,
   "id": "6a1f9b91",
   "metadata": {
    "execution": {
     "iopub.execute_input": "2022-07-17T08:57:03.981118Z",
     "iopub.status.busy": "2022-07-17T08:57:03.980615Z",
     "iopub.status.idle": "2022-07-17T08:57:03.996209Z",
     "shell.execute_reply": "2022-07-17T08:57:03.995692Z"
    }
   },
   "outputs": [
    {
     "data": {
      "text/latex": [
       "$\\displaystyle -  \\frac{l^{2} m \\dot{u}_{1}}{12}\\mathbf{\\hat{a}_z}$"
      ],
      "text/plain": [
       "  2\n",
       "-l ⋅m⋅u₁̇\n",
       "───────── a_z\n",
       "    12"
      ]
     },
     "execution_count": 30,
     "metadata": {},
     "output_type": "execute_result"
    }
   ],
   "source": [
    "Ts_A = -(A.ang_acc_in(N).dot(I_A_Ao) +\n",
    "         me.cross(A.ang_vel_in(N), I_A_Ao).dot(A.ang_vel_in(N)))\n",
    "Ts_A"
   ]
  },
  {
   "cell_type": "code",
   "execution_count": 31,
   "id": "0dca7cfa",
   "metadata": {
    "execution": {
     "iopub.execute_input": "2022-07-17T08:57:03.999662Z",
     "iopub.status.busy": "2022-07-17T08:57:03.998530Z",
     "iopub.status.idle": "2022-07-17T08:57:04.035125Z",
     "shell.execute_reply": "2022-07-17T08:57:04.034484Z"
    }
   },
   "outputs": [
    {
     "data": {
      "text/latex": [
       "$\\displaystyle (- \\frac{l^{2} m u_{1}^{2} \\sin{\\left(q_{2} \\right)} \\cos{\\left(q_{2} \\right)}}{12} - \\frac{l^{2} m \\dot{u}_{2}}{12})\\mathbf{\\hat{b}_x} + (- \\frac{l^{2} m \\left(- u_{1} u_{2} \\sin{\\left(q_{2} \\right)} + \\cos{\\left(q_{2} \\right)} \\dot{u}_{1}\\right)}{12} + \\frac{l^{2} m u_{1} u_{2} \\sin{\\left(q_{2} \\right)}}{12})\\mathbf{\\hat{b}_z}$"
      ],
      "text/plain": [
       "⎛   2     2                    2     ⎞       ⎛   2\n",
       "⎜  l ⋅m⋅u₁ ⋅sin(q₂)⋅cos(q₂)   l ⋅m⋅u₂̇⎟       ⎜  l ⋅m⋅(-u₁⋅u₂⋅sin(q₂) + cos(q₂\n",
       "⎜- ──────────────────────── - ───────⎟ b_x + ⎜- ──────────────────────────────\n",
       "⎝             12                 12  ⎠       ⎝                  12\n",
       "\n",
       "        2                ⎞\n",
       ")⋅u₁̇)   l ⋅m⋅u₁⋅u₂⋅sin(q₂)⎟\n",
       "──── + ──────────────────⎟ b_z\n",
       "               12        ⎠"
      ]
     },
     "execution_count": 31,
     "metadata": {},
     "output_type": "execute_result"
    }
   ],
   "source": [
    "Ts_B = -(B.ang_acc_in(N).dot(I_B_Bo) +\n",
    "         me.cross(B.ang_vel_in(N), I_B_Bo).dot(B.ang_vel_in(N)))\n",
    "Ts_B"
   ]
  },
  {
   "cell_type": "code",
   "execution_count": 32,
   "id": "0f3adf97",
   "metadata": {
    "execution": {
     "iopub.execute_input": "2022-07-17T08:57:04.037926Z",
     "iopub.status.busy": "2022-07-17T08:57:04.037516Z",
     "iopub.status.idle": "2022-07-17T08:57:04.052637Z",
     "shell.execute_reply": "2022-07-17T08:57:04.051807Z"
    }
   },
   "outputs": [],
   "source": [
    "F1s_A = v_Ao_1.dot(Rs_Ao) + w_A_1.dot(Ts_A)\n",
    "F1s_B = v_Bo_1.dot(Rs_Bo) + w_B_1.dot(Ts_B)\n",
    "F2s_A = v_Ao_2.dot(Rs_Ao) + w_A_2.dot(Ts_A)\n",
    "F2s_B = v_Bo_2.dot(Rs_Bo) + w_B_2.dot(Ts_B)"
   ]
  },
  {
   "cell_type": "code",
   "execution_count": 33,
   "id": "9054367f",
   "metadata": {
    "execution": {
     "iopub.execute_input": "2022-07-17T08:57:04.055344Z",
     "iopub.status.busy": "2022-07-17T08:57:04.054863Z",
     "iopub.status.idle": "2022-07-17T08:57:04.070840Z",
     "shell.execute_reply": "2022-07-17T08:57:04.070288Z"
    }
   },
   "outputs": [
    {
     "data": {
      "text/latex": [
       "$\\displaystyle \\left[\\begin{matrix}- \\frac{4 l^{2} m \\dot{u}_{1}}{3} + \\left(- \\frac{l^{2} m \\left(- u_{1} u_{2} \\sin{\\left(q_{2} \\right)} + \\cos{\\left(q_{2} \\right)} \\dot{u}_{1}\\right)}{12} + \\frac{l^{2} m u_{1} u_{2} \\sin{\\left(q_{2} \\right)}}{12}\\right) \\cos{\\left(q_{2} \\right)}\\\\- \\frac{l^{2} m u_{1}^{2} \\sin{\\left(q_{2} \\right)} \\cos{\\left(q_{2} \\right)}}{12} - \\frac{l^{2} m \\dot{u}_{2}}{12}\\end{matrix}\\right]$"
      ],
      "text/plain": [
       "⎡     2        ⎛   2                                    2                ⎞    \n",
       "⎢  4⋅l ⋅m⋅u₁̇   ⎜  l ⋅m⋅(-u₁⋅u₂⋅sin(q₂) + cos(q₂)⋅u₁̇)   l ⋅m⋅u₁⋅u₂⋅sin(q₂)⎟  \n",
       "⎢- ───────── + ⎜- ────────────────────────────────── + ──────────────────⎟⋅cos\n",
       "⎢      3       ⎝                  12                           12        ⎠    \n",
       "⎢                                                                             \n",
       "⎢                         2     2                    2                        \n",
       "⎢                        l ⋅m⋅u₁ ⋅sin(q₂)⋅cos(q₂)   l ⋅m⋅u₂̇                  \n",
       "⎢                      - ──────────────────────── - ───────                   \n",
       "⎣                                   12                 12                     \n",
       "\n",
       "    ⎤\n",
       "      ⎥\n",
       "(q₂)⎥\n",
       "    ⎥\n",
       "    ⎥\n",
       "    ⎥\n",
       "     ⎥\n",
       "    ⎥\n",
       "    ⎦"
      ]
     },
     "execution_count": 33,
     "metadata": {},
     "output_type": "execute_result"
    }
   ],
   "source": [
    "F1s = F1s_A + F1s_B\n",
    "F2s = F2s_A + F2s_B\n",
    "\n",
    "Frs = sm.Matrix([F1s, F2s])\n",
    "Frs"
   ]
  }
 ],
 "metadata": {
  "kernelspec": {
   "display_name": "Python 3 (ipykernel)",
   "language": "python",
   "name": "python3"
  },
  "language_info": {
   "codemirror_mode": {
    "name": "ipython",
    "version": 3
   },
   "file_extension": ".py",
   "mimetype": "text/x-python",
   "name": "python",
   "nbconvert_exporter": "python",
   "pygments_lexer": "ipython3",
   "version": "3.9.13"
  }
 },
 "nbformat": 4,
 "nbformat_minor": 5
}