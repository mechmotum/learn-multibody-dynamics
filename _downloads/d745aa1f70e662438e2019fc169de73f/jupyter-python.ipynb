{
 "cells": [
  {
   "cell_type": "code",
   "execution_count": 1,
   "id": "95e2e085",
   "metadata": {
    "execution": {
     "iopub.execute_input": "2022-07-17T08:59:35.537459Z",
     "iopub.status.busy": "2022-07-17T08:59:35.536912Z",
     "iopub.status.idle": "2022-07-17T08:59:35.549150Z",
     "shell.execute_reply": "2022-07-17T08:59:35.548541Z"
    }
   },
   "outputs": [
    {
     "data": {
      "application/json": {
       "cell": {
        "!": "OSMagics",
        "HTML": "Other",
        "SVG": "Other",
        "bash": "Other",
        "capture": "ExecutionMagics",
        "debug": "ExecutionMagics",
        "file": "Other",
        "html": "DisplayMagics",
        "javascript": "DisplayMagics",
        "js": "DisplayMagics",
        "latex": "DisplayMagics",
        "markdown": "DisplayMagics",
        "perl": "Other",
        "prun": "ExecutionMagics",
        "pypy": "Other",
        "python": "Other",
        "python2": "Other",
        "python3": "Other",
        "ruby": "Other",
        "script": "ScriptMagics",
        "sh": "Other",
        "svg": "DisplayMagics",
        "sx": "OSMagics",
        "system": "OSMagics",
        "time": "ExecutionMagics",
        "timeit": "ExecutionMagics",
        "writefile": "OSMagics"
       },
       "line": {
        "alias": "OSMagics",
        "alias_magic": "BasicMagics",
        "autoawait": "AsyncMagics",
        "autocall": "AutoMagics",
        "automagic": "AutoMagics",
        "autosave": "KernelMagics",
        "bookmark": "OSMagics",
        "cat": "Other",
        "cd": "OSMagics",
        "clear": "KernelMagics",
        "colors": "BasicMagics",
        "conda": "PackagingMagics",
        "config": "ConfigMagics",
        "connect_info": "KernelMagics",
        "cp": "Other",
        "debug": "ExecutionMagics",
        "dhist": "OSMagics",
        "dirs": "OSMagics",
        "doctest_mode": "BasicMagics",
        "ed": "Other",
        "edit": "KernelMagics",
        "env": "OSMagics",
        "gui": "BasicMagics",
        "hist": "Other",
        "history": "HistoryMagics",
        "killbgscripts": "ScriptMagics",
        "ldir": "Other",
        "less": "KernelMagics",
        "lf": "Other",
        "lk": "Other",
        "ll": "Other",
        "load": "CodeMagics",
        "load_ext": "ExtensionMagics",
        "loadpy": "CodeMagics",
        "logoff": "LoggingMagics",
        "logon": "LoggingMagics",
        "logstart": "LoggingMagics",
        "logstate": "LoggingMagics",
        "logstop": "LoggingMagics",
        "ls": "Other",
        "lsmagic": "BasicMagics",
        "lx": "Other",
        "macro": "ExecutionMagics",
        "magic": "BasicMagics",
        "man": "KernelMagics",
        "matplotlib": "PylabMagics",
        "mkdir": "Other",
        "more": "KernelMagics",
        "mv": "Other",
        "notebook": "BasicMagics",
        "page": "BasicMagics",
        "pastebin": "CodeMagics",
        "pdb": "ExecutionMagics",
        "pdef": "NamespaceMagics",
        "pdoc": "NamespaceMagics",
        "pfile": "NamespaceMagics",
        "pinfo": "NamespaceMagics",
        "pinfo2": "NamespaceMagics",
        "pip": "PackagingMagics",
        "popd": "OSMagics",
        "pprint": "BasicMagics",
        "precision": "BasicMagics",
        "prun": "ExecutionMagics",
        "psearch": "NamespaceMagics",
        "psource": "NamespaceMagics",
        "pushd": "OSMagics",
        "pwd": "OSMagics",
        "pycat": "OSMagics",
        "pylab": "PylabMagics",
        "qtconsole": "KernelMagics",
        "quickref": "BasicMagics",
        "recall": "HistoryMagics",
        "rehashx": "OSMagics",
        "reload_ext": "ExtensionMagics",
        "rep": "Other",
        "rerun": "HistoryMagics",
        "reset": "NamespaceMagics",
        "reset_selective": "NamespaceMagics",
        "rm": "Other",
        "rmdir": "Other",
        "run": "ExecutionMagics",
        "save": "CodeMagics",
        "sc": "OSMagics",
        "set_env": "OSMagics",
        "store": "StoreMagics",
        "sx": "OSMagics",
        "system": "OSMagics",
        "tb": "ExecutionMagics",
        "time": "ExecutionMagics",
        "timeit": "ExecutionMagics",
        "unalias": "OSMagics",
        "unload_ext": "ExtensionMagics",
        "who": "NamespaceMagics",
        "who_ls": "NamespaceMagics",
        "whos": "NamespaceMagics",
        "xdel": "NamespaceMagics",
        "xmode": "BasicMagics"
       }
      },
      "text/plain": [
       "Available line magics:\n",
       "%alias  %alias_magic  %autoawait  %autocall  %automagic  %autosave  %bookmark  %cat  %cd  %clear  %colors  %conda  %config  %connect_info  %cp  %debug  %dhist  %dirs  %doctest_mode  %ed  %edit  %env  %gui  %hist  %history  %killbgscripts  %ldir  %less  %lf  %lk  %ll  %load  %load_ext  %loadpy  %logoff  %logon  %logstart  %logstate  %logstop  %ls  %lsmagic  %lx  %macro  %magic  %man  %matplotlib  %mkdir  %more  %mv  %notebook  %page  %pastebin  %pdb  %pdef  %pdoc  %pfile  %pinfo  %pinfo2  %pip  %popd  %pprint  %precision  %prun  %psearch  %psource  %pushd  %pwd  %pycat  %pylab  %qtconsole  %quickref  %recall  %rehashx  %reload_ext  %rep  %rerun  %reset  %reset_selective  %rm  %rmdir  %run  %save  %sc  %set_env  %store  %sx  %system  %tb  %time  %timeit  %unalias  %unload_ext  %who  %who_ls  %whos  %xdel  %xmode\n",
       "\n",
       "Available cell magics:\n",
       "%%!  %%HTML  %%SVG  %%bash  %%capture  %%debug  %%file  %%html  %%javascript  %%js  %%latex  %%markdown  %%perl  %%prun  %%pypy  %%python  %%python2  %%python3  %%ruby  %%script  %%sh  %%svg  %%sx  %%system  %%time  %%timeit  %%writefile\n",
       "\n",
       "Automagic is ON, % prefix IS NOT needed for line magics."
      ]
     },
     "execution_count": 1,
     "metadata": {},
     "output_type": "execute_result"
    }
   ],
   "source": [
    "%lsmagic"
   ]
  },
  {
   "cell_type": "code",
   "execution_count": 2,
   "id": "e9618753",
   "metadata": {
    "execution": {
     "iopub.execute_input": "2022-07-17T08:59:35.552018Z",
     "iopub.status.busy": "2022-07-17T08:59:35.551812Z",
     "iopub.status.idle": "2022-07-17T08:59:35.555210Z",
     "shell.execute_reply": "2022-07-17T08:59:35.554616Z"
    }
   },
   "outputs": [
    {
     "name": "stdout",
     "output_type": "stream",
     "text": [
      "Variable   Type    Data/Info\n",
      "----------------------------\n",
      "a          int     5\n"
     ]
    }
   ],
   "source": [
    "a = 5\n",
    "\n",
    "%whos"
   ]
  },
  {
   "cell_type": "code",
   "execution_count": 3,
   "id": "5109c3d1",
   "metadata": {
    "execution": {
     "iopub.execute_input": "2022-07-17T08:59:35.558707Z",
     "iopub.status.busy": "2022-07-17T08:59:35.558210Z",
     "iopub.status.idle": "2022-07-17T08:59:35.561415Z",
     "shell.execute_reply": "2022-07-17T08:59:35.560758Z"
    }
   },
   "outputs": [],
   "source": [
    "?"
   ]
  },
  {
   "cell_type": "code",
   "execution_count": 4,
   "id": "c33a5e69",
   "metadata": {
    "execution": {
     "iopub.execute_input": "2022-07-17T08:59:35.564067Z",
     "iopub.status.busy": "2022-07-17T08:59:35.563680Z",
     "iopub.status.idle": "2022-07-17T08:59:35.569198Z",
     "shell.execute_reply": "2022-07-17T08:59:35.568551Z"
    }
   },
   "outputs": [],
   "source": [
    "%quickref"
   ]
  },
  {
   "cell_type": "code",
   "execution_count": 5,
   "id": "095ce4c3",
   "metadata": {
    "execution": {
     "iopub.execute_input": "2022-07-17T08:59:35.572109Z",
     "iopub.status.busy": "2022-07-17T08:59:35.571612Z",
     "iopub.status.idle": "2022-07-17T08:59:35.611795Z",
     "shell.execute_reply": "2022-07-17T08:59:35.611170Z"
    }
   },
   "outputs": [],
   "source": [
    "round?"
   ]
  },
  {
   "cell_type": "code",
   "execution_count": 6,
   "id": "95448d51",
   "metadata": {
    "execution": {
     "iopub.execute_input": "2022-07-17T08:59:35.615065Z",
     "iopub.status.busy": "2022-07-17T08:59:35.614722Z",
     "iopub.status.idle": "2022-07-17T08:59:35.619559Z",
     "shell.execute_reply": "2022-07-17T08:59:35.618955Z"
    }
   },
   "outputs": [
    {
     "data": {
      "text/plain": [
       "(int, float, float, str, str)"
      ]
     },
     "execution_count": 6,
     "metadata": {},
     "output_type": "execute_result"
    }
   ],
   "source": [
    "a = 5\n",
    "b = 5.0\n",
    "c = float(5)\n",
    "d = 'dee'\n",
    "e = 'e'\n",
    "\n",
    "type(a), type(b), type(c), type(d), type(e)"
   ]
  },
  {
   "cell_type": "code",
   "execution_count": 7,
   "id": "09eeb621",
   "metadata": {
    "execution": {
     "iopub.execute_input": "2022-07-17T08:59:35.621926Z",
     "iopub.status.busy": "2022-07-17T08:59:35.621616Z",
     "iopub.status.idle": "2022-07-17T08:59:35.625573Z",
     "shell.execute_reply": "2022-07-17T08:59:35.624983Z"
    }
   },
   "outputs": [],
   "source": [
    "empty_list = []\n",
    "\n",
    "string_list = ['lions', 'tigers', 'bears', 'sharks', 'hamsters']\n",
    "\n",
    "int_list = [0, 1, 2, 3, 4]\n",
    "\n",
    "int_list2 = list(range(5,10))\n",
    "\n",
    "list_from_variables = [a,b,c,d,e]\n",
    "\n",
    "list_of_lists = [empty_list,\n",
    "                 string_list,\n",
    "                 list_from_variables,\n",
    "                 int_list,\n",
    "                 int_list2]"
   ]
  },
  {
   "cell_type": "code",
   "execution_count": 8,
   "id": "761c38c8",
   "metadata": {
    "execution": {
     "iopub.execute_input": "2022-07-17T08:59:35.628159Z",
     "iopub.status.busy": "2022-07-17T08:59:35.627679Z",
     "iopub.status.idle": "2022-07-17T08:59:35.631440Z",
     "shell.execute_reply": "2022-07-17T08:59:35.630855Z"
    }
   },
   "outputs": [
    {
     "data": {
      "text/plain": [
       "[]"
      ]
     },
     "execution_count": 8,
     "metadata": {},
     "output_type": "execute_result"
    }
   ],
   "source": [
    "empty_list"
   ]
  },
  {
   "cell_type": "code",
   "execution_count": 9,
   "id": "5bd32573",
   "metadata": {
    "execution": {
     "iopub.execute_input": "2022-07-17T08:59:35.633954Z",
     "iopub.status.busy": "2022-07-17T08:59:35.633572Z",
     "iopub.status.idle": "2022-07-17T08:59:35.637310Z",
     "shell.execute_reply": "2022-07-17T08:59:35.636726Z"
    }
   },
   "outputs": [
    {
     "data": {
      "text/plain": [
       "['lions', 'tigers', 'bears', 'sharks', 'hamsters']"
      ]
     },
     "execution_count": 9,
     "metadata": {},
     "output_type": "execute_result"
    }
   ],
   "source": [
    "string_list"
   ]
  },
  {
   "cell_type": "code",
   "execution_count": 10,
   "id": "49098210",
   "metadata": {
    "execution": {
     "iopub.execute_input": "2022-07-17T08:59:35.640320Z",
     "iopub.status.busy": "2022-07-17T08:59:35.639853Z",
     "iopub.status.idle": "2022-07-17T08:59:35.643583Z",
     "shell.execute_reply": "2022-07-17T08:59:35.643012Z"
    }
   },
   "outputs": [
    {
     "data": {
      "text/plain": [
       "[0, 1, 2, 3, 4]"
      ]
     },
     "execution_count": 10,
     "metadata": {},
     "output_type": "execute_result"
    }
   ],
   "source": [
    "int_list"
   ]
  },
  {
   "cell_type": "code",
   "execution_count": 11,
   "id": "1a1af68a",
   "metadata": {
    "execution": {
     "iopub.execute_input": "2022-07-17T08:59:35.646578Z",
     "iopub.status.busy": "2022-07-17T08:59:35.646098Z",
     "iopub.status.idle": "2022-07-17T08:59:35.649826Z",
     "shell.execute_reply": "2022-07-17T08:59:35.649247Z"
    }
   },
   "outputs": [
    {
     "data": {
      "text/plain": [
       "[5, 6, 7, 8, 9]"
      ]
     },
     "execution_count": 11,
     "metadata": {},
     "output_type": "execute_result"
    }
   ],
   "source": [
    "int_list2"
   ]
  },
  {
   "cell_type": "code",
   "execution_count": 12,
   "id": "90251c84",
   "metadata": {
    "execution": {
     "iopub.execute_input": "2022-07-17T08:59:35.652760Z",
     "iopub.status.busy": "2022-07-17T08:59:35.652207Z",
     "iopub.status.idle": "2022-07-17T08:59:35.656092Z",
     "shell.execute_reply": "2022-07-17T08:59:35.655520Z"
    }
   },
   "outputs": [
    {
     "data": {
      "text/plain": [
       "[5, 5.0, 5.0, 'dee', 'e']"
      ]
     },
     "execution_count": 12,
     "metadata": {},
     "output_type": "execute_result"
    }
   ],
   "source": [
    "list_from_variables"
   ]
  },
  {
   "cell_type": "code",
   "execution_count": 13,
   "id": "29247cef",
   "metadata": {
    "execution": {
     "iopub.execute_input": "2022-07-17T08:59:35.658535Z",
     "iopub.status.busy": "2022-07-17T08:59:35.658054Z",
     "iopub.status.idle": "2022-07-17T08:59:35.662010Z",
     "shell.execute_reply": "2022-07-17T08:59:35.661418Z"
    }
   },
   "outputs": [
    {
     "data": {
      "text/plain": [
       "[[],\n",
       " ['lions', 'tigers', 'bears', 'sharks', 'hamsters'],\n",
       " [5, 5.0, 5.0, 'dee', 'e'],\n",
       " [0, 1, 2, 3, 4],\n",
       " [5, 6, 7, 8, 9]]"
      ]
     },
     "execution_count": 13,
     "metadata": {},
     "output_type": "execute_result"
    }
   ],
   "source": [
    "list_of_lists"
   ]
  },
  {
   "cell_type": "code",
   "execution_count": 14,
   "id": "82e58b4a",
   "metadata": {
    "execution": {
     "iopub.execute_input": "2022-07-17T08:59:35.664971Z",
     "iopub.status.busy": "2022-07-17T08:59:35.664507Z",
     "iopub.status.idle": "2022-07-17T08:59:35.668204Z",
     "shell.execute_reply": "2022-07-17T08:59:35.667634Z"
    }
   },
   "outputs": [
    {
     "data": {
      "text/plain": [
       "'lions'"
      ]
     },
     "execution_count": 14,
     "metadata": {},
     "output_type": "execute_result"
    }
   ],
   "source": [
    "string_list[0]"
   ]
  },
  {
   "cell_type": "code",
   "execution_count": 15,
   "id": "39ef45a7",
   "metadata": {
    "execution": {
     "iopub.execute_input": "2022-07-17T08:59:35.671163Z",
     "iopub.status.busy": "2022-07-17T08:59:35.670637Z",
     "iopub.status.idle": "2022-07-17T08:59:35.674511Z",
     "shell.execute_reply": "2022-07-17T08:59:35.673913Z"
    }
   },
   "outputs": [
    {
     "data": {
      "text/plain": [
       "['tigers', 'bears', 'sharks']"
      ]
     },
     "execution_count": 15,
     "metadata": {},
     "output_type": "execute_result"
    }
   ],
   "source": [
    "string_list[1:4]"
   ]
  },
  {
   "cell_type": "code",
   "execution_count": 16,
   "id": "41e2bb30",
   "metadata": {
    "execution": {
     "iopub.execute_input": "2022-07-17T08:59:35.676987Z",
     "iopub.status.busy": "2022-07-17T08:59:35.676518Z",
     "iopub.status.idle": "2022-07-17T08:59:35.680346Z",
     "shell.execute_reply": "2022-07-17T08:59:35.679757Z"
    }
   },
   "outputs": [
    {
     "data": {
      "text/plain": [
       "[0, 2, 4]"
      ]
     },
     "execution_count": 16,
     "metadata": {},
     "output_type": "execute_result"
    }
   ],
   "source": [
    "int_list[::2]"
   ]
  },
  {
   "cell_type": "code",
   "execution_count": 17,
   "id": "005699b0",
   "metadata": {
    "execution": {
     "iopub.execute_input": "2022-07-17T08:59:35.683094Z",
     "iopub.status.busy": "2022-07-17T08:59:35.682710Z",
     "iopub.status.idle": "2022-07-17T08:59:35.686550Z",
     "shell.execute_reply": "2022-07-17T08:59:35.685942Z"
    }
   },
   "outputs": [
    {
     "data": {
      "text/plain": [
       "'hamsters'"
      ]
     },
     "execution_count": 17,
     "metadata": {},
     "output_type": "execute_result"
    }
   ],
   "source": [
    "list_of_lists[1][4]"
   ]
  },
  {
   "cell_type": "code",
   "execution_count": 18,
   "id": "a99c159e",
   "metadata": {
    "execution": {
     "iopub.execute_input": "2022-07-17T08:59:35.689435Z",
     "iopub.status.busy": "2022-07-17T08:59:35.688903Z",
     "iopub.status.idle": "2022-07-17T08:59:35.692131Z",
     "shell.execute_reply": "2022-07-17T08:59:35.691562Z"
    }
   },
   "outputs": [],
   "source": [
    "int_list[2] = 222\n",
    "\n",
    "int_list.append(5)\n",
    "\n",
    "string_list.remove('lions')\n",
    "\n",
    "list_from_variables.extend(int_list)"
   ]
  },
  {
   "cell_type": "code",
   "execution_count": 19,
   "id": "c8c343c4",
   "metadata": {
    "execution": {
     "iopub.execute_input": "2022-07-17T08:59:35.694672Z",
     "iopub.status.busy": "2022-07-17T08:59:35.694181Z",
     "iopub.status.idle": "2022-07-17T08:59:35.697923Z",
     "shell.execute_reply": "2022-07-17T08:59:35.697328Z"
    }
   },
   "outputs": [
    {
     "data": {
      "text/plain": [
       "[0, 1, 222, 3, 4, 5]"
      ]
     },
     "execution_count": 19,
     "metadata": {},
     "output_type": "execute_result"
    }
   ],
   "source": [
    "int_list"
   ]
  },
  {
   "cell_type": "code",
   "execution_count": 20,
   "id": "8d670d53",
   "metadata": {
    "execution": {
     "iopub.execute_input": "2022-07-17T08:59:35.700860Z",
     "iopub.status.busy": "2022-07-17T08:59:35.700328Z",
     "iopub.status.idle": "2022-07-17T08:59:35.704165Z",
     "shell.execute_reply": "2022-07-17T08:59:35.703583Z"
    }
   },
   "outputs": [
    {
     "data": {
      "text/plain": [
       "['tigers', 'bears', 'sharks', 'hamsters']"
      ]
     },
     "execution_count": 20,
     "metadata": {},
     "output_type": "execute_result"
    }
   ],
   "source": [
    "string_list"
   ]
  },
  {
   "cell_type": "code",
   "execution_count": 21,
   "id": "c60ac0b3",
   "metadata": {
    "execution": {
     "iopub.execute_input": "2022-07-17T08:59:35.706598Z",
     "iopub.status.busy": "2022-07-17T08:59:35.706108Z",
     "iopub.status.idle": "2022-07-17T08:59:35.709886Z",
     "shell.execute_reply": "2022-07-17T08:59:35.709302Z"
    }
   },
   "outputs": [
    {
     "data": {
      "text/plain": [
       "[5, 5.0, 5.0, 'dee', 'e', 0, 1, 222, 3, 4, 5]"
      ]
     },
     "execution_count": 21,
     "metadata": {},
     "output_type": "execute_result"
    }
   ],
   "source": [
    "list_from_variables"
   ]
  },
  {
   "cell_type": "code",
   "execution_count": 22,
   "id": "94473cc9",
   "metadata": {
    "execution": {
     "iopub.execute_input": "2022-07-17T08:59:35.712874Z",
     "iopub.status.busy": "2022-07-17T08:59:35.712335Z",
     "iopub.status.idle": "2022-07-17T08:59:35.716338Z",
     "shell.execute_reply": "2022-07-17T08:59:35.715741Z"
    }
   },
   "outputs": [
    {
     "data": {
      "text/plain": [
       "(32, 'tall', 'likes hats')"
      ]
     },
     "execution_count": 22,
     "metadata": {},
     "output_type": "execute_result"
    }
   ],
   "source": [
    "joe_blow = (32, 'tall', 'likes hats')\n",
    "joe_blow"
   ]
  },
  {
   "cell_type": "code",
   "execution_count": 23,
   "id": "7dc5da77",
   "metadata": {
    "execution": {
     "iopub.execute_input": "2022-07-17T08:59:35.718599Z",
     "iopub.status.busy": "2022-07-17T08:59:35.718202Z",
     "iopub.status.idle": "2022-07-17T08:59:35.721826Z",
     "shell.execute_reply": "2022-07-17T08:59:35.721338Z"
    }
   },
   "outputs": [
    {
     "data": {
      "text/plain": [
       "'tall'"
      ]
     },
     "execution_count": 23,
     "metadata": {},
     "output_type": "execute_result"
    }
   ],
   "source": [
    "joe_blow[1]"
   ]
  },
  {
   "cell_type": "code",
   "execution_count": 24,
   "id": "b75fa103",
   "metadata": {
    "execution": {
     "iopub.execute_input": "2022-07-17T08:59:35.724094Z",
     "iopub.status.busy": "2022-07-17T08:59:35.723712Z",
     "iopub.status.idle": "2022-07-17T08:59:36.091884Z",
     "shell.execute_reply": "2022-07-17T08:59:36.091173Z"
    }
   },
   "outputs": [
    {
     "ename": "AttributeError",
     "evalue": "'tuple' object has no attribute 'append'",
     "output_type": "error",
     "traceback": [
      "\u001b[0;31m---------------------------------------------------------------------------\u001b[0m",
      "\u001b[0;31mAttributeError\u001b[0m                            Traceback (most recent call last)",
      "Input \u001b[0;32mIn [24]\u001b[0m, in \u001b[0;36m<cell line: 1>\u001b[0;34m()\u001b[0m\n\u001b[0;32m----> 1\u001b[0m \u001b[43mjoe_blow\u001b[49m\u001b[38;5;241;43m.\u001b[39;49m\u001b[43mappend\u001b[49m(\u001b[38;5;124m'\u001b[39m\u001b[38;5;124mmarried\u001b[39m\u001b[38;5;124m'\u001b[39m)\n",
      "\u001b[0;31mAttributeError\u001b[0m: 'tuple' object has no attribute 'append'"
     ]
    }
   ],
   "source": [
    "joe_blow.append('married')"
   ]
  },
  {
   "cell_type": "code",
   "execution_count": 25,
   "id": "2a785edd",
   "metadata": {
    "execution": {
     "iopub.execute_input": "2022-07-17T08:59:36.094919Z",
     "iopub.status.busy": "2022-07-17T08:59:36.094564Z",
     "iopub.status.idle": "2022-07-17T08:59:36.106659Z",
     "shell.execute_reply": "2022-07-17T08:59:36.106031Z"
    }
   },
   "outputs": [
    {
     "ename": "TypeError",
     "evalue": "'tuple' object does not support item assignment",
     "output_type": "error",
     "traceback": [
      "\u001b[0;31m---------------------------------------------------------------------------\u001b[0m",
      "\u001b[0;31mTypeError\u001b[0m                                 Traceback (most recent call last)",
      "Input \u001b[0;32mIn [25]\u001b[0m, in \u001b[0;36m<cell line: 1>\u001b[0;34m()\u001b[0m\n\u001b[0;32m----> 1\u001b[0m joe_blow[\u001b[38;5;241m2\u001b[39m] \u001b[38;5;241m=\u001b[39m \u001b[38;5;124m'\u001b[39m\u001b[38;5;124mnot really a fan of hats\u001b[39m\u001b[38;5;124m'\u001b[39m\n",
      "\u001b[0;31mTypeError\u001b[0m: 'tuple' object does not support item assignment"
     ]
    }
   ],
   "source": [
    "joe_blow[2] = 'not really a fan of hats'"
   ]
  },
  {
   "cell_type": "code",
   "execution_count": 26,
   "id": "20030a36",
   "metadata": {
    "execution": {
     "iopub.execute_input": "2022-07-17T08:59:36.109308Z",
     "iopub.status.busy": "2022-07-17T08:59:36.108816Z",
     "iopub.status.idle": "2022-07-17T08:59:36.113026Z",
     "shell.execute_reply": "2022-07-17T08:59:36.112446Z"
    }
   },
   "outputs": [
    {
     "data": {
      "text/plain": [
       "'elephant'"
      ]
     },
     "execution_count": 26,
     "metadata": {},
     "output_type": "execute_result"
    }
   ],
   "source": [
    "pets = ('elephant', 'cow', 'rock')\n",
    "\n",
    "pet1, pet2, pet3 = pets\n",
    "\n",
    "pet1"
   ]
  },
  {
   "cell_type": "code",
   "execution_count": 27,
   "id": "d4ef578e",
   "metadata": {
    "execution": {
     "iopub.execute_input": "2022-07-17T08:59:36.116206Z",
     "iopub.status.busy": "2022-07-17T08:59:36.115664Z",
     "iopub.status.idle": "2022-07-17T08:59:36.119632Z",
     "shell.execute_reply": "2022-07-17T08:59:36.119043Z"
    }
   },
   "outputs": [
    {
     "data": {
      "text/plain": [
       "('elephant',)"
      ]
     },
     "execution_count": 27,
     "metadata": {},
     "output_type": "execute_result"
    }
   ],
   "source": [
    "tuple_with_one_item = pet1,\n",
    "\n",
    "tuple_with_one_item"
   ]
  },
  {
   "cell_type": "code",
   "execution_count": 28,
   "id": "38d9eb55",
   "metadata": {
    "execution": {
     "iopub.execute_input": "2022-07-17T08:59:36.122056Z",
     "iopub.status.busy": "2022-07-17T08:59:36.121580Z",
     "iopub.status.idle": "2022-07-17T08:59:36.125639Z",
     "shell.execute_reply": "2022-07-17T08:59:36.125055Z"
    }
   },
   "outputs": [
    {
     "data": {
      "text/plain": [
       "{'key1': 'value1', 'key2': 'value2', 'key3': 'value3'}"
      ]
     },
     "execution_count": 28,
     "metadata": {},
     "output_type": "execute_result"
    }
   ],
   "source": [
    "dictionary0 = {'key1': 'value1', 'key2': 'value2', 'key3': 'value3'}\n",
    "dictionary0"
   ]
  },
  {
   "cell_type": "code",
   "execution_count": 29,
   "id": "ff2aebb8",
   "metadata": {
    "execution": {
     "iopub.execute_input": "2022-07-17T08:59:36.128492Z",
     "iopub.status.busy": "2022-07-17T08:59:36.128183Z",
     "iopub.status.idle": "2022-07-17T08:59:36.132212Z",
     "shell.execute_reply": "2022-07-17T08:59:36.131629Z"
    }
   },
   "outputs": [
    {
     "data": {
      "text/plain": [
       "{1: 'value1', 2: 'value2', 3: 'value3'}"
      ]
     },
     "execution_count": 29,
     "metadata": {},
     "output_type": "execute_result"
    }
   ],
   "source": [
    "dictionary1 = {1: 'value1', 2: 'value2', 3: 'value3'}\n",
    "dictionary1"
   ]
  },
  {
   "cell_type": "code",
   "execution_count": 30,
   "id": "cb188d08",
   "metadata": {
    "execution": {
     "iopub.execute_input": "2022-07-17T08:59:36.135195Z",
     "iopub.status.busy": "2022-07-17T08:59:36.134728Z",
     "iopub.status.idle": "2022-07-17T08:59:36.138633Z",
     "shell.execute_reply": "2022-07-17T08:59:36.138038Z"
    }
   },
   "outputs": [
    {
     "data": {
      "text/plain": [
       "[1, 2, 3]"
      ]
     },
     "execution_count": 30,
     "metadata": {},
     "output_type": "execute_result"
    }
   ],
   "source": [
    "list(dictionary1.keys())"
   ]
  },
  {
   "cell_type": "code",
   "execution_count": 31,
   "id": "c2ce35b4",
   "metadata": {
    "execution": {
     "iopub.execute_input": "2022-07-17T08:59:36.141375Z",
     "iopub.status.busy": "2022-07-17T08:59:36.141058Z",
     "iopub.status.idle": "2022-07-17T08:59:36.144942Z",
     "shell.execute_reply": "2022-07-17T08:59:36.144366Z"
    }
   },
   "outputs": [
    {
     "data": {
      "text/plain": [
       "['value1', 'value2', 'value3']"
      ]
     },
     "execution_count": 31,
     "metadata": {},
     "output_type": "execute_result"
    }
   ],
   "source": [
    "list(dictionary1.values())"
   ]
  },
  {
   "cell_type": "code",
   "execution_count": 32,
   "id": "e91b2c19",
   "metadata": {
    "execution": {
     "iopub.execute_input": "2022-07-17T08:59:36.148036Z",
     "iopub.status.busy": "2022-07-17T08:59:36.147503Z",
     "iopub.status.idle": "2022-07-17T08:59:36.151594Z",
     "shell.execute_reply": "2022-07-17T08:59:36.151013Z"
    }
   },
   "outputs": [
    {
     "data": {
      "text/plain": [
       "50"
      ]
     },
     "execution_count": 32,
     "metadata": {},
     "output_type": "execute_result"
    }
   ],
   "source": [
    "cylinder = {'mass': 50, 'base': 10, 'height': 100}\n",
    "cylinder['mass']"
   ]
  },
  {
   "cell_type": "code",
   "execution_count": 33,
   "id": "d5ce79a4",
   "metadata": {
    "execution": {
     "iopub.execute_input": "2022-07-17T08:59:36.154085Z",
     "iopub.status.busy": "2022-07-17T08:59:36.153602Z",
     "iopub.status.idle": "2022-07-17T08:59:36.157949Z",
     "shell.execute_reply": "2022-07-17T08:59:36.157365Z"
    }
   },
   "outputs": [
    {
     "data": {
      "text/plain": [
       "{'mass01': 10, 'inertia01': 1, 'mass02': 50, 'inertia02': 5}"
      ]
     },
     "execution_count": 33,
     "metadata": {},
     "output_type": "execute_result"
    }
   ],
   "source": [
    "keys = ['mass01', 'inertia01', 'mass02', 'inertia02']\n",
    "values = [10, 1, 50, 5]\n",
    "dict(zip(keys, values))"
   ]
  },
  {
   "cell_type": "code",
   "execution_count": 34,
   "id": "44c721c7",
   "metadata": {
    "execution": {
     "iopub.execute_input": "2022-07-17T08:59:36.160978Z",
     "iopub.status.busy": "2022-07-17T08:59:36.160437Z",
     "iopub.status.idle": "2022-07-17T08:59:36.164726Z",
     "shell.execute_reply": "2022-07-17T08:59:36.164145Z"
    }
   },
   "outputs": [
    {
     "data": {
      "text/plain": [
       "100"
      ]
     },
     "execution_count": 34,
     "metadata": {},
     "output_type": "execute_result"
    }
   ],
   "source": [
    "def abs_value(A):\n",
    "    if A < 0:\n",
    "        A = -A\n",
    "    return A\n",
    "\n",
    "abs_value(-100)"
   ]
  },
  {
   "cell_type": "code",
   "execution_count": 35,
   "id": "45d4d6e8",
   "metadata": {
    "execution": {
     "iopub.execute_input": "2022-07-17T08:59:36.167240Z",
     "iopub.status.busy": "2022-07-17T08:59:36.166770Z",
     "iopub.status.idle": "2022-07-17T08:59:36.170571Z",
     "shell.execute_reply": "2022-07-17T08:59:36.169979Z"
    }
   },
   "outputs": [
    {
     "data": {
      "text/plain": [
       "123"
      ]
     },
     "execution_count": 35,
     "metadata": {},
     "output_type": "execute_result"
    }
   ],
   "source": [
    "abs_value(123)"
   ]
  },
  {
   "cell_type": "code",
   "execution_count": 36,
   "id": "ecf1ee15",
   "metadata": {
    "execution": {
     "iopub.execute_input": "2022-07-17T08:59:36.173576Z",
     "iopub.status.busy": "2022-07-17T08:59:36.173105Z",
     "iopub.status.idle": "2022-07-17T08:59:36.176231Z",
     "shell.execute_reply": "2022-07-17T08:59:36.175645Z"
    }
   },
   "outputs": [],
   "source": [
    "def long_div(dividend, divisor):\n",
    "    quotient = dividend // divisor  # // : floor division\n",
    "    remainder = dividend % divisor  # % : modulo\n",
    "    return quotient, remainder"
   ]
  },
  {
   "cell_type": "code",
   "execution_count": 37,
   "id": "10b740a8",
   "metadata": {
    "execution": {
     "iopub.execute_input": "2022-07-17T08:59:36.178566Z",
     "iopub.status.busy": "2022-07-17T08:59:36.178168Z",
     "iopub.status.idle": "2022-07-17T08:59:36.182349Z",
     "shell.execute_reply": "2022-07-17T08:59:36.181775Z"
    }
   },
   "outputs": [
    {
     "data": {
      "text/plain": [
       "(17, 5)"
      ]
     },
     "execution_count": 37,
     "metadata": {},
     "output_type": "execute_result"
    }
   ],
   "source": [
    "a = 430\n",
    "b = 25\n",
    "\n",
    "quo, rem = long_div(a, b)\n",
    "\n",
    "quo, rem"
   ]
  },
  {
   "cell_type": "code",
   "execution_count": 38,
   "id": "48f99226",
   "metadata": {
    "execution": {
     "iopub.execute_input": "2022-07-17T08:59:36.185303Z",
     "iopub.status.busy": "2022-07-17T08:59:36.184825Z",
     "iopub.status.idle": "2022-07-17T08:59:36.188150Z",
     "shell.execute_reply": "2022-07-17T08:59:36.187543Z"
    }
   },
   "outputs": [
    {
     "name": "stdout",
     "output_type": "stream",
     "text": [
      "430 divided 25 is 17 remainder 5\n"
     ]
    }
   ],
   "source": [
    "msg = '{} divided {} is {} remainder {}'.format(a, b, quo, rem)\n",
    "print(msg)"
   ]
  },
  {
   "cell_type": "code",
   "execution_count": 39,
   "id": "b7fa2691",
   "metadata": {
    "execution": {
     "iopub.execute_input": "2022-07-17T08:59:36.191409Z",
     "iopub.status.busy": "2022-07-17T08:59:36.190875Z",
     "iopub.status.idle": "2022-07-17T08:59:36.194167Z",
     "shell.execute_reply": "2022-07-17T08:59:36.193569Z"
    }
   },
   "outputs": [
    {
     "name": "stdout",
     "output_type": "stream",
     "text": [
      "3.9.13 | packaged by conda-forge | (main, May 27 2022, 16:56:21) \n",
      "[GCC 10.3.0]\n"
     ]
    }
   ],
   "source": [
    "import sys\n",
    "\n",
    "print(sys.version)"
   ]
  },
  {
   "cell_type": "code",
   "execution_count": 40,
   "id": "ea11c1d3",
   "metadata": {
    "execution": {
     "iopub.execute_input": "2022-07-17T08:59:36.196805Z",
     "iopub.status.busy": "2022-07-17T08:59:36.196376Z",
     "iopub.status.idle": "2022-07-17T08:59:36.199617Z",
     "shell.execute_reply": "2022-07-17T08:59:36.199030Z"
    }
   },
   "outputs": [
    {
     "name": "stdout",
     "output_type": "stream",
     "text": [
      "3.9.13 | packaged by conda-forge | (main, May 27 2022, 16:56:21) \n",
      "[GCC 10.3.0]\n"
     ]
    }
   ],
   "source": [
    "from sys import version\n",
    "\n",
    "print(version)"
   ]
  },
  {
   "cell_type": "code",
   "execution_count": 41,
   "id": "f890ce82",
   "metadata": {
    "execution": {
     "iopub.execute_input": "2022-07-17T08:59:36.202590Z",
     "iopub.status.busy": "2022-07-17T08:59:36.202268Z",
     "iopub.status.idle": "2022-07-17T08:59:37.088559Z",
     "shell.execute_reply": "2022-07-17T08:59:37.087890Z"
    }
   },
   "outputs": [],
   "source": [
    "import sympy as sm\n",
    "import numpy as np\n",
    "import scipy as sp\n",
    "import matplotlib.pyplot as plt"
   ]
  },
  {
   "cell_type": "code",
   "execution_count": 42,
   "id": "99f16186",
   "metadata": {
    "execution": {
     "iopub.execute_input": "2022-07-17T08:59:37.092228Z",
     "iopub.status.busy": "2022-07-17T08:59:37.091634Z",
     "iopub.status.idle": "2022-07-17T08:59:37.098796Z",
     "shell.execute_reply": "2022-07-17T08:59:37.098257Z"
    }
   },
   "outputs": [
    {
     "data": {
      "text/latex": [
       "$\\displaystyle 0.843853958732492$"
      ],
      "text/plain": [
       "0.843853958732492"
      ]
     },
     "execution_count": 42,
     "metadata": {},
     "output_type": "execute_result"
    }
   ],
   "source": [
    "sm.cos(12.0)"
   ]
  },
  {
   "cell_type": "code",
   "execution_count": 43,
   "id": "111aa906",
   "metadata": {
    "execution": {
     "iopub.execute_input": "2022-07-17T08:59:37.101543Z",
     "iopub.status.busy": "2022-07-17T08:59:37.101232Z",
     "iopub.status.idle": "2022-07-17T08:59:37.106898Z",
     "shell.execute_reply": "2022-07-17T08:59:37.106369Z"
    }
   },
   "outputs": [
    {
     "data": {
      "text/plain": [
       "0.8438539587324921"
      ]
     },
     "execution_count": 43,
     "metadata": {},
     "output_type": "execute_result"
    }
   ],
   "source": [
    "np.cos(12.0)"
   ]
  },
  {
   "cell_type": "code",
   "execution_count": 44,
   "id": "37aa13a5",
   "metadata": {
    "execution": {
     "iopub.execute_input": "2022-07-17T08:59:37.109442Z",
     "iopub.status.busy": "2022-07-17T08:59:37.109138Z",
     "iopub.status.idle": "2022-07-17T08:59:37.115696Z",
     "shell.execute_reply": "2022-07-17T08:59:37.115003Z"
    }
   },
   "outputs": [
    {
     "name": "stderr",
     "output_type": "stream",
     "text": [
      "/tmp/ipykernel_3083/3139199006.py:1: DeprecationWarning: scipy.cos is deprecated and will be removed in SciPy 2.0.0, use numpy.cos instead\n",
      "  sp.cos(12.0)\n"
     ]
    },
    {
     "data": {
      "text/plain": [
       "0.8438539587324921"
      ]
     },
     "execution_count": 44,
     "metadata": {},
     "output_type": "execute_result"
    }
   ],
   "source": [
    "sp.cos(12.0)"
   ]
  }
 ],
 "metadata": {
  "kernelspec": {
   "display_name": "Python 3 (ipykernel)",
   "language": "python",
   "name": "python3"
  },
  "language_info": {
   "codemirror_mode": {
    "name": "ipython",
    "version": 3
   },
   "file_extension": ".py",
   "mimetype": "text/x-python",
   "name": "python",
   "nbconvert_exporter": "python",
   "pygments_lexer": "ipython3",
   "version": "3.9.13"
  }
 },
 "nbformat": 4,
 "nbformat_minor": 5
}