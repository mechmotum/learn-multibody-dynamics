{
 "cells": [
  {
   "cell_type": "code",
   "execution_count": 1,
   "id": "cb3a609f",
   "metadata": {
    "execution": {
     "iopub.execute_input": "2022-06-25T07:08:36.415330Z",
     "iopub.status.busy": "2022-06-25T07:08:36.414697Z",
     "iopub.status.idle": "2022-06-25T07:08:36.427617Z",
     "shell.execute_reply": "2022-06-25T07:08:36.427012Z"
    }
   },
   "outputs": [
    {
     "data": {
      "application/json": {
       "cell": {
        "!": "OSMagics",
        "HTML": "Other",
        "SVG": "Other",
        "bash": "Other",
        "capture": "ExecutionMagics",
        "debug": "ExecutionMagics",
        "file": "Other",
        "html": "DisplayMagics",
        "javascript": "DisplayMagics",
        "js": "DisplayMagics",
        "latex": "DisplayMagics",
        "markdown": "DisplayMagics",
        "perl": "Other",
        "prun": "ExecutionMagics",
        "pypy": "Other",
        "python": "Other",
        "python2": "Other",
        "python3": "Other",
        "ruby": "Other",
        "script": "ScriptMagics",
        "sh": "Other",
        "svg": "DisplayMagics",
        "sx": "OSMagics",
        "system": "OSMagics",
        "time": "ExecutionMagics",
        "timeit": "ExecutionMagics",
        "writefile": "OSMagics"
       },
       "line": {
        "alias": "OSMagics",
        "alias_magic": "BasicMagics",
        "autoawait": "AsyncMagics",
        "autocall": "AutoMagics",
        "automagic": "AutoMagics",
        "autosave": "KernelMagics",
        "bookmark": "OSMagics",
        "cat": "Other",
        "cd": "OSMagics",
        "clear": "KernelMagics",
        "colors": "BasicMagics",
        "conda": "PackagingMagics",
        "config": "ConfigMagics",
        "connect_info": "KernelMagics",
        "cp": "Other",
        "debug": "ExecutionMagics",
        "dhist": "OSMagics",
        "dirs": "OSMagics",
        "doctest_mode": "BasicMagics",
        "ed": "Other",
        "edit": "KernelMagics",
        "env": "OSMagics",
        "gui": "BasicMagics",
        "hist": "Other",
        "history": "HistoryMagics",
        "killbgscripts": "ScriptMagics",
        "ldir": "Other",
        "less": "KernelMagics",
        "lf": "Other",
        "lk": "Other",
        "ll": "Other",
        "load": "CodeMagics",
        "load_ext": "ExtensionMagics",
        "loadpy": "CodeMagics",
        "logoff": "LoggingMagics",
        "logon": "LoggingMagics",
        "logstart": "LoggingMagics",
        "logstate": "LoggingMagics",
        "logstop": "LoggingMagics",
        "ls": "Other",
        "lsmagic": "BasicMagics",
        "lx": "Other",
        "macro": "ExecutionMagics",
        "magic": "BasicMagics",
        "man": "KernelMagics",
        "matplotlib": "PylabMagics",
        "mkdir": "Other",
        "more": "KernelMagics",
        "mv": "Other",
        "notebook": "BasicMagics",
        "page": "BasicMagics",
        "pastebin": "CodeMagics",
        "pdb": "ExecutionMagics",
        "pdef": "NamespaceMagics",
        "pdoc": "NamespaceMagics",
        "pfile": "NamespaceMagics",
        "pinfo": "NamespaceMagics",
        "pinfo2": "NamespaceMagics",
        "pip": "PackagingMagics",
        "popd": "OSMagics",
        "pprint": "BasicMagics",
        "precision": "BasicMagics",
        "prun": "ExecutionMagics",
        "psearch": "NamespaceMagics",
        "psource": "NamespaceMagics",
        "pushd": "OSMagics",
        "pwd": "OSMagics",
        "pycat": "OSMagics",
        "pylab": "PylabMagics",
        "qtconsole": "KernelMagics",
        "quickref": "BasicMagics",
        "recall": "HistoryMagics",
        "rehashx": "OSMagics",
        "reload_ext": "ExtensionMagics",
        "rep": "Other",
        "rerun": "HistoryMagics",
        "reset": "NamespaceMagics",
        "reset_selective": "NamespaceMagics",
        "rm": "Other",
        "rmdir": "Other",
        "run": "ExecutionMagics",
        "save": "CodeMagics",
        "sc": "OSMagics",
        "set_env": "OSMagics",
        "store": "StoreMagics",
        "sx": "OSMagics",
        "system": "OSMagics",
        "tb": "ExecutionMagics",
        "time": "ExecutionMagics",
        "timeit": "ExecutionMagics",
        "unalias": "OSMagics",
        "unload_ext": "ExtensionMagics",
        "who": "NamespaceMagics",
        "who_ls": "NamespaceMagics",
        "whos": "NamespaceMagics",
        "xdel": "NamespaceMagics",
        "xmode": "BasicMagics"
       }
      },
      "text/plain": [
       "Available line magics:\n",
       "%alias  %alias_magic  %autoawait  %autocall  %automagic  %autosave  %bookmark  %cat  %cd  %clear  %colors  %conda  %config  %connect_info  %cp  %debug  %dhist  %dirs  %doctest_mode  %ed  %edit  %env  %gui  %hist  %history  %killbgscripts  %ldir  %less  %lf  %lk  %ll  %load  %load_ext  %loadpy  %logoff  %logon  %logstart  %logstate  %logstop  %ls  %lsmagic  %lx  %macro  %magic  %man  %matplotlib  %mkdir  %more  %mv  %notebook  %page  %pastebin  %pdb  %pdef  %pdoc  %pfile  %pinfo  %pinfo2  %pip  %popd  %pprint  %precision  %prun  %psearch  %psource  %pushd  %pwd  %pycat  %pylab  %qtconsole  %quickref  %recall  %rehashx  %reload_ext  %rep  %rerun  %reset  %reset_selective  %rm  %rmdir  %run  %save  %sc  %set_env  %store  %sx  %system  %tb  %time  %timeit  %unalias  %unload_ext  %who  %who_ls  %whos  %xdel  %xmode\n",
       "\n",
       "Available cell magics:\n",
       "%%!  %%HTML  %%SVG  %%bash  %%capture  %%debug  %%file  %%html  %%javascript  %%js  %%latex  %%markdown  %%perl  %%prun  %%pypy  %%python  %%python2  %%python3  %%ruby  %%script  %%sh  %%svg  %%sx  %%system  %%time  %%timeit  %%writefile\n",
       "\n",
       "Automagic is ON, % prefix IS NOT needed for line magics."
      ]
     },
     "execution_count": 1,
     "metadata": {},
     "output_type": "execute_result"
    }
   ],
   "source": [
    "%lsmagic"
   ]
  },
  {
   "cell_type": "code",
   "execution_count": 2,
   "id": "af16b4f4",
   "metadata": {
    "execution": {
     "iopub.execute_input": "2022-06-25T07:08:36.430908Z",
     "iopub.status.busy": "2022-06-25T07:08:36.430376Z",
     "iopub.status.idle": "2022-06-25T07:08:36.435468Z",
     "shell.execute_reply": "2022-06-25T07:08:36.434950Z"
    }
   },
   "outputs": [
    {
     "name": "stdout",
     "output_type": "stream",
     "text": [
      "Variable   Type    Data/Info\n",
      "----------------------------\n",
      "a          int     5\n"
     ]
    }
   ],
   "source": [
    "a = 5\n",
    "\n",
    "%whos"
   ]
  },
  {
   "cell_type": "code",
   "execution_count": 3,
   "id": "b3cdafbd",
   "metadata": {
    "execution": {
     "iopub.execute_input": "2022-06-25T07:08:36.437867Z",
     "iopub.status.busy": "2022-06-25T07:08:36.437551Z",
     "iopub.status.idle": "2022-06-25T07:08:36.440652Z",
     "shell.execute_reply": "2022-06-25T07:08:36.439924Z"
    }
   },
   "outputs": [],
   "source": [
    "?"
   ]
  },
  {
   "cell_type": "code",
   "execution_count": 4,
   "id": "dab663af",
   "metadata": {
    "execution": {
     "iopub.execute_input": "2022-06-25T07:08:36.443352Z",
     "iopub.status.busy": "2022-06-25T07:08:36.442967Z",
     "iopub.status.idle": "2022-06-25T07:08:36.447178Z",
     "shell.execute_reply": "2022-06-25T07:08:36.446457Z"
    }
   },
   "outputs": [],
   "source": [
    "%quickref"
   ]
  },
  {
   "cell_type": "code",
   "execution_count": 5,
   "id": "c4d5a5db",
   "metadata": {
    "execution": {
     "iopub.execute_input": "2022-06-25T07:08:36.449805Z",
     "iopub.status.busy": "2022-06-25T07:08:36.449332Z",
     "iopub.status.idle": "2022-06-25T07:08:36.489059Z",
     "shell.execute_reply": "2022-06-25T07:08:36.488460Z"
    }
   },
   "outputs": [],
   "source": [
    "round?"
   ]
  },
  {
   "cell_type": "code",
   "execution_count": 6,
   "id": "412a48df",
   "metadata": {
    "execution": {
     "iopub.execute_input": "2022-06-25T07:08:36.491760Z",
     "iopub.status.busy": "2022-06-25T07:08:36.491359Z",
     "iopub.status.idle": "2022-06-25T07:08:36.496959Z",
     "shell.execute_reply": "2022-06-25T07:08:36.496385Z"
    }
   },
   "outputs": [
    {
     "data": {
      "text/plain": [
       "(int, float, float, str, str)"
      ]
     },
     "execution_count": 6,
     "metadata": {},
     "output_type": "execute_result"
    }
   ],
   "source": [
    "a = 5\n",
    "b = 5.0\n",
    "c = float(5)\n",
    "d = 'dee'\n",
    "e = 'e'\n",
    "\n",
    "type(a), type(b), type(c), type(d), type(e)"
   ]
  },
  {
   "cell_type": "code",
   "execution_count": 7,
   "id": "9cca7ed8",
   "metadata": {
    "execution": {
     "iopub.execute_input": "2022-06-25T07:08:36.499368Z",
     "iopub.status.busy": "2022-06-25T07:08:36.498987Z",
     "iopub.status.idle": "2022-06-25T07:08:36.502886Z",
     "shell.execute_reply": "2022-06-25T07:08:36.502286Z"
    }
   },
   "outputs": [],
   "source": [
    "empty_list = []\n",
    "\n",
    "string_list = ['lions', 'tigers', 'bears', 'sharks', 'hamsters']\n",
    "\n",
    "int_list = [0, 1, 2, 3, 4]\n",
    "\n",
    "int_list2 = list(range(5,10))\n",
    "\n",
    "list_from_variables = [a,b,c,d,e]\n",
    "\n",
    "list_of_lists = [empty_list,\n",
    "                 string_list,\n",
    "                 list_from_variables,\n",
    "                 int_list,\n",
    "                 int_list2]"
   ]
  },
  {
   "cell_type": "code",
   "execution_count": 8,
   "id": "159070cc",
   "metadata": {
    "execution": {
     "iopub.execute_input": "2022-06-25T07:08:36.505440Z",
     "iopub.status.busy": "2022-06-25T07:08:36.504955Z",
     "iopub.status.idle": "2022-06-25T07:08:36.508763Z",
     "shell.execute_reply": "2022-06-25T07:08:36.508168Z"
    }
   },
   "outputs": [
    {
     "data": {
      "text/plain": [
       "[]"
      ]
     },
     "execution_count": 8,
     "metadata": {},
     "output_type": "execute_result"
    }
   ],
   "source": [
    "empty_list"
   ]
  },
  {
   "cell_type": "code",
   "execution_count": 9,
   "id": "486d70fb",
   "metadata": {
    "execution": {
     "iopub.execute_input": "2022-06-25T07:08:36.511164Z",
     "iopub.status.busy": "2022-06-25T07:08:36.510782Z",
     "iopub.status.idle": "2022-06-25T07:08:36.514571Z",
     "shell.execute_reply": "2022-06-25T07:08:36.513962Z"
    }
   },
   "outputs": [
    {
     "data": {
      "text/plain": [
       "['lions', 'tigers', 'bears', 'sharks', 'hamsters']"
      ]
     },
     "execution_count": 9,
     "metadata": {},
     "output_type": "execute_result"
    }
   ],
   "source": [
    "string_list"
   ]
  },
  {
   "cell_type": "code",
   "execution_count": 10,
   "id": "dfa0072b",
   "metadata": {
    "execution": {
     "iopub.execute_input": "2022-06-25T07:08:36.517769Z",
     "iopub.status.busy": "2022-06-25T07:08:36.517302Z",
     "iopub.status.idle": "2022-06-25T07:08:36.521124Z",
     "shell.execute_reply": "2022-06-25T07:08:36.520537Z"
    }
   },
   "outputs": [
    {
     "data": {
      "text/plain": [
       "[0, 1, 2, 3, 4]"
      ]
     },
     "execution_count": 10,
     "metadata": {},
     "output_type": "execute_result"
    }
   ],
   "source": [
    "int_list"
   ]
  },
  {
   "cell_type": "code",
   "execution_count": 11,
   "id": "2cb2a887",
   "metadata": {
    "execution": {
     "iopub.execute_input": "2022-06-25T07:08:36.524010Z",
     "iopub.status.busy": "2022-06-25T07:08:36.523542Z",
     "iopub.status.idle": "2022-06-25T07:08:36.527374Z",
     "shell.execute_reply": "2022-06-25T07:08:36.526795Z"
    }
   },
   "outputs": [
    {
     "data": {
      "text/plain": [
       "[5, 6, 7, 8, 9]"
      ]
     },
     "execution_count": 11,
     "metadata": {},
     "output_type": "execute_result"
    }
   ],
   "source": [
    "int_list2"
   ]
  },
  {
   "cell_type": "code",
   "execution_count": 12,
   "id": "96d94a68",
   "metadata": {
    "execution": {
     "iopub.execute_input": "2022-06-25T07:08:36.530384Z",
     "iopub.status.busy": "2022-06-25T07:08:36.529905Z",
     "iopub.status.idle": "2022-06-25T07:08:36.533741Z",
     "shell.execute_reply": "2022-06-25T07:08:36.533156Z"
    }
   },
   "outputs": [
    {
     "data": {
      "text/plain": [
       "[5, 5.0, 5.0, 'dee', 'e']"
      ]
     },
     "execution_count": 12,
     "metadata": {},
     "output_type": "execute_result"
    }
   ],
   "source": [
    "list_from_variables"
   ]
  },
  {
   "cell_type": "code",
   "execution_count": 13,
   "id": "7309a745",
   "metadata": {
    "execution": {
     "iopub.execute_input": "2022-06-25T07:08:36.536028Z",
     "iopub.status.busy": "2022-06-25T07:08:36.535712Z",
     "iopub.status.idle": "2022-06-25T07:08:36.539857Z",
     "shell.execute_reply": "2022-06-25T07:08:36.539276Z"
    }
   },
   "outputs": [
    {
     "data": {
      "text/plain": [
       "[[],\n",
       " ['lions', 'tigers', 'bears', 'sharks', 'hamsters'],\n",
       " [5, 5.0, 5.0, 'dee', 'e'],\n",
       " [0, 1, 2, 3, 4],\n",
       " [5, 6, 7, 8, 9]]"
      ]
     },
     "execution_count": 13,
     "metadata": {},
     "output_type": "execute_result"
    }
   ],
   "source": [
    "list_of_lists"
   ]
  },
  {
   "cell_type": "code",
   "execution_count": 14,
   "id": "bbb37bb0",
   "metadata": {
    "execution": {
     "iopub.execute_input": "2022-06-25T07:08:36.542924Z",
     "iopub.status.busy": "2022-06-25T07:08:36.542367Z",
     "iopub.status.idle": "2022-06-25T07:08:36.546272Z",
     "shell.execute_reply": "2022-06-25T07:08:36.545673Z"
    }
   },
   "outputs": [
    {
     "data": {
      "text/plain": [
       "'lions'"
      ]
     },
     "execution_count": 14,
     "metadata": {},
     "output_type": "execute_result"
    }
   ],
   "source": [
    "string_list[0]"
   ]
  },
  {
   "cell_type": "code",
   "execution_count": 15,
   "id": "219a3826",
   "metadata": {
    "execution": {
     "iopub.execute_input": "2022-06-25T07:08:36.548776Z",
     "iopub.status.busy": "2022-06-25T07:08:36.548245Z",
     "iopub.status.idle": "2022-06-25T07:08:36.553504Z",
     "shell.execute_reply": "2022-06-25T07:08:36.552977Z"
    }
   },
   "outputs": [
    {
     "data": {
      "text/plain": [
       "['tigers', 'bears', 'sharks']"
      ]
     },
     "execution_count": 15,
     "metadata": {},
     "output_type": "execute_result"
    }
   ],
   "source": [
    "string_list[1:4]"
   ]
  },
  {
   "cell_type": "code",
   "execution_count": 16,
   "id": "bb498fad",
   "metadata": {
    "execution": {
     "iopub.execute_input": "2022-06-25T07:08:36.556022Z",
     "iopub.status.busy": "2022-06-25T07:08:36.555722Z",
     "iopub.status.idle": "2022-06-25T07:08:36.560887Z",
     "shell.execute_reply": "2022-06-25T07:08:36.560335Z"
    }
   },
   "outputs": [
    {
     "data": {
      "text/plain": [
       "[0, 2, 4]"
      ]
     },
     "execution_count": 16,
     "metadata": {},
     "output_type": "execute_result"
    }
   ],
   "source": [
    "int_list[::2]"
   ]
  },
  {
   "cell_type": "code",
   "execution_count": 17,
   "id": "93aff9e8",
   "metadata": {
    "execution": {
     "iopub.execute_input": "2022-06-25T07:08:36.563392Z",
     "iopub.status.busy": "2022-06-25T07:08:36.563095Z",
     "iopub.status.idle": "2022-06-25T07:08:36.568541Z",
     "shell.execute_reply": "2022-06-25T07:08:36.567676Z"
    }
   },
   "outputs": [
    {
     "data": {
      "text/plain": [
       "'hamsters'"
      ]
     },
     "execution_count": 17,
     "metadata": {},
     "output_type": "execute_result"
    }
   ],
   "source": [
    "list_of_lists[1][4]"
   ]
  },
  {
   "cell_type": "code",
   "execution_count": 18,
   "id": "f62b3279",
   "metadata": {
    "execution": {
     "iopub.execute_input": "2022-06-25T07:08:36.571249Z",
     "iopub.status.busy": "2022-06-25T07:08:36.570794Z",
     "iopub.status.idle": "2022-06-25T07:08:36.574721Z",
     "shell.execute_reply": "2022-06-25T07:08:36.574203Z"
    }
   },
   "outputs": [],
   "source": [
    "int_list[2] = 222\n",
    "\n",
    "int_list.append(5)\n",
    "\n",
    "string_list.remove('lions')\n",
    "\n",
    "list_from_variables.extend(int_list)"
   ]
  },
  {
   "cell_type": "code",
   "execution_count": 19,
   "id": "7748f57f",
   "metadata": {
    "execution": {
     "iopub.execute_input": "2022-06-25T07:08:36.577297Z",
     "iopub.status.busy": "2022-06-25T07:08:36.576868Z",
     "iopub.status.idle": "2022-06-25T07:08:36.581914Z",
     "shell.execute_reply": "2022-06-25T07:08:36.581400Z"
    }
   },
   "outputs": [
    {
     "data": {
      "text/plain": [
       "[0, 1, 222, 3, 4, 5]"
      ]
     },
     "execution_count": 19,
     "metadata": {},
     "output_type": "execute_result"
    }
   ],
   "source": [
    "int_list"
   ]
  },
  {
   "cell_type": "code",
   "execution_count": 20,
   "id": "cebfce50",
   "metadata": {
    "execution": {
     "iopub.execute_input": "2022-06-25T07:08:36.584650Z",
     "iopub.status.busy": "2022-06-25T07:08:36.584138Z",
     "iopub.status.idle": "2022-06-25T07:08:36.589795Z",
     "shell.execute_reply": "2022-06-25T07:08:36.588822Z"
    }
   },
   "outputs": [
    {
     "data": {
      "text/plain": [
       "['tigers', 'bears', 'sharks', 'hamsters']"
      ]
     },
     "execution_count": 20,
     "metadata": {},
     "output_type": "execute_result"
    }
   ],
   "source": [
    "string_list"
   ]
  },
  {
   "cell_type": "code",
   "execution_count": 21,
   "id": "340f0bd8",
   "metadata": {
    "execution": {
     "iopub.execute_input": "2022-06-25T07:08:36.592315Z",
     "iopub.status.busy": "2022-06-25T07:08:36.592017Z",
     "iopub.status.idle": "2022-06-25T07:08:36.597089Z",
     "shell.execute_reply": "2022-06-25T07:08:36.596564Z"
    }
   },
   "outputs": [
    {
     "data": {
      "text/plain": [
       "[5, 5.0, 5.0, 'dee', 'e', 0, 1, 222, 3, 4, 5]"
      ]
     },
     "execution_count": 21,
     "metadata": {},
     "output_type": "execute_result"
    }
   ],
   "source": [
    "list_from_variables"
   ]
  },
  {
   "cell_type": "code",
   "execution_count": 22,
   "id": "9a4ecee2",
   "metadata": {
    "execution": {
     "iopub.execute_input": "2022-06-25T07:08:36.599595Z",
     "iopub.status.busy": "2022-06-25T07:08:36.599302Z",
     "iopub.status.idle": "2022-06-25T07:08:36.604587Z",
     "shell.execute_reply": "2022-06-25T07:08:36.603959Z"
    }
   },
   "outputs": [
    {
     "data": {
      "text/plain": [
       "(32, 'tall', 'likes hats')"
      ]
     },
     "execution_count": 22,
     "metadata": {},
     "output_type": "execute_result"
    }
   ],
   "source": [
    "joe_blow = (32, 'tall', 'likes hats')\n",
    "joe_blow"
   ]
  },
  {
   "cell_type": "code",
   "execution_count": 23,
   "id": "91af13a8",
   "metadata": {
    "execution": {
     "iopub.execute_input": "2022-06-25T07:08:36.607284Z",
     "iopub.status.busy": "2022-06-25T07:08:36.606828Z",
     "iopub.status.idle": "2022-06-25T07:08:36.612094Z",
     "shell.execute_reply": "2022-06-25T07:08:36.611445Z"
    }
   },
   "outputs": [
    {
     "data": {
      "text/plain": [
       "'tall'"
      ]
     },
     "execution_count": 23,
     "metadata": {},
     "output_type": "execute_result"
    }
   ],
   "source": [
    "joe_blow[1]"
   ]
  },
  {
   "cell_type": "code",
   "execution_count": 24,
   "id": "f176f59f",
   "metadata": {
    "execution": {
     "iopub.execute_input": "2022-06-25T07:08:36.614813Z",
     "iopub.status.busy": "2022-06-25T07:08:36.614322Z",
     "iopub.status.idle": "2022-06-25T07:08:36.984707Z",
     "shell.execute_reply": "2022-06-25T07:08:36.983271Z"
    }
   },
   "outputs": [
    {
     "ename": "AttributeError",
     "evalue": "'tuple' object has no attribute 'append'",
     "output_type": "error",
     "traceback": [
      "\u001b[0;31m---------------------------------------------------------------------------\u001b[0m",
      "\u001b[0;31mAttributeError\u001b[0m                            Traceback (most recent call last)",
      "Input \u001b[0;32mIn [24]\u001b[0m, in \u001b[0;36m<cell line: 1>\u001b[0;34m()\u001b[0m\n\u001b[0;32m----> 1\u001b[0m \u001b[43mjoe_blow\u001b[49m\u001b[38;5;241;43m.\u001b[39;49m\u001b[43mappend\u001b[49m(\u001b[38;5;124m'\u001b[39m\u001b[38;5;124mmarried\u001b[39m\u001b[38;5;124m'\u001b[39m)\n",
      "\u001b[0;31mAttributeError\u001b[0m: 'tuple' object has no attribute 'append'"
     ]
    }
   ],
   "source": [
    "joe_blow.append('married')"
   ]
  },
  {
   "cell_type": "code",
   "execution_count": 25,
   "id": "b43adb18",
   "metadata": {
    "execution": {
     "iopub.execute_input": "2022-06-25T07:08:36.987857Z",
     "iopub.status.busy": "2022-06-25T07:08:36.987268Z",
     "iopub.status.idle": "2022-06-25T07:08:37.001034Z",
     "shell.execute_reply": "2022-06-25T07:08:36.999953Z"
    }
   },
   "outputs": [
    {
     "ename": "TypeError",
     "evalue": "'tuple' object does not support item assignment",
     "output_type": "error",
     "traceback": [
      "\u001b[0;31m---------------------------------------------------------------------------\u001b[0m",
      "\u001b[0;31mTypeError\u001b[0m                                 Traceback (most recent call last)",
      "Input \u001b[0;32mIn [25]\u001b[0m, in \u001b[0;36m<cell line: 1>\u001b[0;34m()\u001b[0m\n\u001b[0;32m----> 1\u001b[0m joe_blow[\u001b[38;5;241m2\u001b[39m] \u001b[38;5;241m=\u001b[39m \u001b[38;5;124m'\u001b[39m\u001b[38;5;124mnot really a fan of hats\u001b[39m\u001b[38;5;124m'\u001b[39m\n",
      "\u001b[0;31mTypeError\u001b[0m: 'tuple' object does not support item assignment"
     ]
    }
   ],
   "source": [
    "joe_blow[2] = 'not really a fan of hats'"
   ]
  },
  {
   "cell_type": "code",
   "execution_count": 26,
   "id": "14f68e9d",
   "metadata": {
    "execution": {
     "iopub.execute_input": "2022-06-25T07:08:37.003624Z",
     "iopub.status.busy": "2022-06-25T07:08:37.003078Z",
     "iopub.status.idle": "2022-06-25T07:08:37.009063Z",
     "shell.execute_reply": "2022-06-25T07:08:37.008066Z"
    }
   },
   "outputs": [
    {
     "data": {
      "text/plain": [
       "'elephant'"
      ]
     },
     "execution_count": 26,
     "metadata": {},
     "output_type": "execute_result"
    }
   ],
   "source": [
    "pets = ('elephant', 'cow', 'rock')\n",
    "\n",
    "pet1, pet2, pet3 = pets\n",
    "\n",
    "pet1"
   ]
  },
  {
   "cell_type": "code",
   "execution_count": 27,
   "id": "e06533f0",
   "metadata": {
    "execution": {
     "iopub.execute_input": "2022-06-25T07:08:37.011245Z",
     "iopub.status.busy": "2022-06-25T07:08:37.011048Z",
     "iopub.status.idle": "2022-06-25T07:08:37.014871Z",
     "shell.execute_reply": "2022-06-25T07:08:37.014291Z"
    }
   },
   "outputs": [
    {
     "data": {
      "text/plain": [
       "('elephant',)"
      ]
     },
     "execution_count": 27,
     "metadata": {},
     "output_type": "execute_result"
    }
   ],
   "source": [
    "tuple_with_one_item = pet1,\n",
    "\n",
    "tuple_with_one_item"
   ]
  },
  {
   "cell_type": "code",
   "execution_count": 28,
   "id": "40d97508",
   "metadata": {
    "execution": {
     "iopub.execute_input": "2022-06-25T07:08:37.017883Z",
     "iopub.status.busy": "2022-06-25T07:08:37.017499Z",
     "iopub.status.idle": "2022-06-25T07:08:37.021596Z",
     "shell.execute_reply": "2022-06-25T07:08:37.021032Z"
    }
   },
   "outputs": [
    {
     "data": {
      "text/plain": [
       "{'key1': 'value1', 'key2': 'value2', 'key3': 'value3'}"
      ]
     },
     "execution_count": 28,
     "metadata": {},
     "output_type": "execute_result"
    }
   ],
   "source": [
    "dictionary0 = {'key1': 'value1', 'key2': 'value2', 'key3': 'value3'}\n",
    "dictionary0"
   ]
  },
  {
   "cell_type": "code",
   "execution_count": 29,
   "id": "cbbf85a8",
   "metadata": {
    "execution": {
     "iopub.execute_input": "2022-06-25T07:08:37.024576Z",
     "iopub.status.busy": "2022-06-25T07:08:37.024029Z",
     "iopub.status.idle": "2022-06-25T07:08:37.028114Z",
     "shell.execute_reply": "2022-06-25T07:08:37.027537Z"
    }
   },
   "outputs": [
    {
     "data": {
      "text/plain": [
       "{1: 'value1', 2: 'value2', 3: 'value3'}"
      ]
     },
     "execution_count": 29,
     "metadata": {},
     "output_type": "execute_result"
    }
   ],
   "source": [
    "dictionary1 = {1: 'value1', 2: 'value2', 3: 'value3'}\n",
    "dictionary1"
   ]
  },
  {
   "cell_type": "code",
   "execution_count": 30,
   "id": "2c2b93c3",
   "metadata": {
    "execution": {
     "iopub.execute_input": "2022-06-25T07:08:37.030400Z",
     "iopub.status.busy": "2022-06-25T07:08:37.030084Z",
     "iopub.status.idle": "2022-06-25T07:08:37.033943Z",
     "shell.execute_reply": "2022-06-25T07:08:37.033373Z"
    }
   },
   "outputs": [
    {
     "data": {
      "text/plain": [
       "[1, 2, 3]"
      ]
     },
     "execution_count": 30,
     "metadata": {},
     "output_type": "execute_result"
    }
   ],
   "source": [
    "list(dictionary1.keys())"
   ]
  },
  {
   "cell_type": "code",
   "execution_count": 31,
   "id": "9cb062cc",
   "metadata": {
    "execution": {
     "iopub.execute_input": "2022-06-25T07:08:37.036841Z",
     "iopub.status.busy": "2022-06-25T07:08:37.036343Z",
     "iopub.status.idle": "2022-06-25T07:08:37.040224Z",
     "shell.execute_reply": "2022-06-25T07:08:37.039652Z"
    }
   },
   "outputs": [
    {
     "data": {
      "text/plain": [
       "['value1', 'value2', 'value3']"
      ]
     },
     "execution_count": 31,
     "metadata": {},
     "output_type": "execute_result"
    }
   ],
   "source": [
    "list(dictionary1.values())"
   ]
  },
  {
   "cell_type": "code",
   "execution_count": 32,
   "id": "660e1010",
   "metadata": {
    "execution": {
     "iopub.execute_input": "2022-06-25T07:08:37.043147Z",
     "iopub.status.busy": "2022-06-25T07:08:37.042668Z",
     "iopub.status.idle": "2022-06-25T07:08:37.046779Z",
     "shell.execute_reply": "2022-06-25T07:08:37.046198Z"
    }
   },
   "outputs": [
    {
     "data": {
      "text/plain": [
       "50"
      ]
     },
     "execution_count": 32,
     "metadata": {},
     "output_type": "execute_result"
    }
   ],
   "source": [
    "cylinder = {'mass': 50, 'base': 10, 'height': 100}\n",
    "cylinder['mass']"
   ]
  },
  {
   "cell_type": "code",
   "execution_count": 33,
   "id": "70464109",
   "metadata": {
    "execution": {
     "iopub.execute_input": "2022-06-25T07:08:37.049605Z",
     "iopub.status.busy": "2022-06-25T07:08:37.049279Z",
     "iopub.status.idle": "2022-06-25T07:08:37.053795Z",
     "shell.execute_reply": "2022-06-25T07:08:37.053233Z"
    }
   },
   "outputs": [
    {
     "data": {
      "text/plain": [
       "{'mass01': 10, 'inertia01': 1, 'mass02': 50, 'inertia02': 5}"
      ]
     },
     "execution_count": 33,
     "metadata": {},
     "output_type": "execute_result"
    }
   ],
   "source": [
    "keys = ['mass01', 'inertia01', 'mass02', 'inertia02']\n",
    "values = [10, 1, 50, 5]\n",
    "dict(zip(keys, values))"
   ]
  },
  {
   "cell_type": "code",
   "execution_count": 34,
   "id": "05711e7c",
   "metadata": {
    "execution": {
     "iopub.execute_input": "2022-06-25T07:08:37.056747Z",
     "iopub.status.busy": "2022-06-25T07:08:37.056237Z",
     "iopub.status.idle": "2022-06-25T07:08:37.062486Z",
     "shell.execute_reply": "2022-06-25T07:08:37.061454Z"
    }
   },
   "outputs": [
    {
     "data": {
      "text/plain": [
       "100"
      ]
     },
     "execution_count": 34,
     "metadata": {},
     "output_type": "execute_result"
    }
   ],
   "source": [
    "def abs_value(A):\n",
    "    if A < 0:\n",
    "        A = -A\n",
    "    return A\n",
    "\n",
    "abs_value(-100)"
   ]
  },
  {
   "cell_type": "code",
   "execution_count": 35,
   "id": "53de549f",
   "metadata": {
    "execution": {
     "iopub.execute_input": "2022-06-25T07:08:37.065022Z",
     "iopub.status.busy": "2022-06-25T07:08:37.064719Z",
     "iopub.status.idle": "2022-06-25T07:08:37.069855Z",
     "shell.execute_reply": "2022-06-25T07:08:37.069341Z"
    }
   },
   "outputs": [
    {
     "data": {
      "text/plain": [
       "123"
      ]
     },
     "execution_count": 35,
     "metadata": {},
     "output_type": "execute_result"
    }
   ],
   "source": [
    "abs_value(123)"
   ]
  },
  {
   "cell_type": "code",
   "execution_count": 36,
   "id": "b82eeb0a",
   "metadata": {
    "execution": {
     "iopub.execute_input": "2022-06-25T07:08:37.072471Z",
     "iopub.status.busy": "2022-06-25T07:08:37.072104Z",
     "iopub.status.idle": "2022-06-25T07:08:37.075982Z",
     "shell.execute_reply": "2022-06-25T07:08:37.075465Z"
    }
   },
   "outputs": [],
   "source": [
    "def long_div(dividend, divisor):\n",
    "    quotient = dividend // divisor  # // : floor division\n",
    "    remainder = dividend % divisor  # % : modulo\n",
    "    return quotient, remainder"
   ]
  },
  {
   "cell_type": "code",
   "execution_count": 37,
   "id": "86c23562",
   "metadata": {
    "execution": {
     "iopub.execute_input": "2022-06-25T07:08:37.078512Z",
     "iopub.status.busy": "2022-06-25T07:08:37.078216Z",
     "iopub.status.idle": "2022-06-25T07:08:37.083799Z",
     "shell.execute_reply": "2022-06-25T07:08:37.083145Z"
    }
   },
   "outputs": [
    {
     "data": {
      "text/plain": [
       "(17, 5)"
      ]
     },
     "execution_count": 37,
     "metadata": {},
     "output_type": "execute_result"
    }
   ],
   "source": [
    "a = 430\n",
    "b = 25\n",
    "\n",
    "quo, rem = long_div(a, b)\n",
    "\n",
    "quo, rem"
   ]
  },
  {
   "cell_type": "code",
   "execution_count": 38,
   "id": "ae357b9f",
   "metadata": {
    "execution": {
     "iopub.execute_input": "2022-06-25T07:08:37.086396Z",
     "iopub.status.busy": "2022-06-25T07:08:37.086098Z",
     "iopub.status.idle": "2022-06-25T07:08:37.089689Z",
     "shell.execute_reply": "2022-06-25T07:08:37.089112Z"
    }
   },
   "outputs": [
    {
     "name": "stdout",
     "output_type": "stream",
     "text": [
      "430 divided 25 is 17 remainder 5\n"
     ]
    }
   ],
   "source": [
    "msg = '{} divided {} is {} remainder {}'.format(a, b, quo, rem)\n",
    "print(msg)"
   ]
  },
  {
   "cell_type": "code",
   "execution_count": 39,
   "id": "e7bd8b1a",
   "metadata": {
    "execution": {
     "iopub.execute_input": "2022-06-25T07:08:37.092018Z",
     "iopub.status.busy": "2022-06-25T07:08:37.091813Z",
     "iopub.status.idle": "2022-06-25T07:08:37.096138Z",
     "shell.execute_reply": "2022-06-25T07:08:37.095602Z"
    }
   },
   "outputs": [
    {
     "name": "stdout",
     "output_type": "stream",
     "text": [
      "3.9.13 | packaged by conda-forge | (main, May 27 2022, 16:56:21) \n",
      "[GCC 10.3.0]\n"
     ]
    }
   ],
   "source": [
    "import sys\n",
    "\n",
    "print(sys.version)"
   ]
  },
  {
   "cell_type": "code",
   "execution_count": 40,
   "id": "f04205dd",
   "metadata": {
    "execution": {
     "iopub.execute_input": "2022-06-25T07:08:37.098737Z",
     "iopub.status.busy": "2022-06-25T07:08:37.098437Z",
     "iopub.status.idle": "2022-06-25T07:08:37.102932Z",
     "shell.execute_reply": "2022-06-25T07:08:37.102395Z"
    }
   },
   "outputs": [
    {
     "name": "stdout",
     "output_type": "stream",
     "text": [
      "3.9.13 | packaged by conda-forge | (main, May 27 2022, 16:56:21) \n",
      "[GCC 10.3.0]\n"
     ]
    }
   ],
   "source": [
    "from sys import version\n",
    "\n",
    "print(version)"
   ]
  },
  {
   "cell_type": "code",
   "execution_count": 41,
   "id": "cc46f54a",
   "metadata": {
    "execution": {
     "iopub.execute_input": "2022-06-25T07:08:37.105515Z",
     "iopub.status.busy": "2022-06-25T07:08:37.105191Z",
     "iopub.status.idle": "2022-06-25T07:08:38.002359Z",
     "shell.execute_reply": "2022-06-25T07:08:38.001689Z"
    }
   },
   "outputs": [],
   "source": [
    "import sympy as sm\n",
    "import numpy as np\n",
    "import scipy as sp\n",
    "import matplotlib.pyplot as plt"
   ]
  },
  {
   "cell_type": "code",
   "execution_count": 42,
   "id": "6d9de348",
   "metadata": {
    "execution": {
     "iopub.execute_input": "2022-06-25T07:08:38.005651Z",
     "iopub.status.busy": "2022-06-25T07:08:38.005244Z",
     "iopub.status.idle": "2022-06-25T07:08:38.012619Z",
     "shell.execute_reply": "2022-06-25T07:08:38.012077Z"
    }
   },
   "outputs": [
    {
     "data": {
      "text/latex": [
       "$\\displaystyle 0.843853958732492$"
      ],
      "text/plain": [
       "0.843853958732492"
      ]
     },
     "execution_count": 42,
     "metadata": {},
     "output_type": "execute_result"
    }
   ],
   "source": [
    "sm.cos(12.0)"
   ]
  },
  {
   "cell_type": "code",
   "execution_count": 43,
   "id": "0896af31",
   "metadata": {
    "execution": {
     "iopub.execute_input": "2022-06-25T07:08:38.015487Z",
     "iopub.status.busy": "2022-06-25T07:08:38.014939Z",
     "iopub.status.idle": "2022-06-25T07:08:38.021021Z",
     "shell.execute_reply": "2022-06-25T07:08:38.019782Z"
    }
   },
   "outputs": [
    {
     "data": {
      "text/plain": [
       "0.8438539587324921"
      ]
     },
     "execution_count": 43,
     "metadata": {},
     "output_type": "execute_result"
    }
   ],
   "source": [
    "np.cos(12.0)"
   ]
  },
  {
   "cell_type": "code",
   "execution_count": 44,
   "id": "e126cda0",
   "metadata": {
    "execution": {
     "iopub.execute_input": "2022-06-25T07:08:38.023582Z",
     "iopub.status.busy": "2022-06-25T07:08:38.023276Z",
     "iopub.status.idle": "2022-06-25T07:08:38.029505Z",
     "shell.execute_reply": "2022-06-25T07:08:38.028974Z"
    }
   },
   "outputs": [
    {
     "name": "stderr",
     "output_type": "stream",
     "text": [
      "/tmp/ipykernel_3884/3139199006.py:1: DeprecationWarning: scipy.cos is deprecated and will be removed in SciPy 2.0.0, use numpy.cos instead\n",
      "  sp.cos(12.0)\n"
     ]
    },
    {
     "data": {
      "text/plain": [
       "0.8438539587324921"
      ]
     },
     "execution_count": 44,
     "metadata": {},
     "output_type": "execute_result"
    }
   ],
   "source": [
    "sp.cos(12.0)"
   ]
  }
 ],
 "metadata": {
  "kernelspec": {
   "display_name": "Python 3 (ipykernel)",
   "language": "python",
   "name": "python3"
  },
  "language_info": {
   "codemirror_mode": {
    "name": "ipython",
    "version": 3
   },
   "file_extension": ".py",
   "mimetype": "text/x-python",
   "name": "python",
   "nbconvert_exporter": "python",
   "pygments_lexer": "ipython3",
   "version": "3.9.13"
  }
 },
 "nbformat": 4,
 "nbformat_minor": 5
}